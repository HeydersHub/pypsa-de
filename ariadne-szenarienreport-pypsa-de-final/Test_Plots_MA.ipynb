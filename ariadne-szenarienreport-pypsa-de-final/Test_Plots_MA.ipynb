{
 "cells": [
  {
   "cell_type": "code",
   "execution_count": 27,
   "id": "779864a1",
   "metadata": {},
   "outputs": [],
   "source": [
    "import plotly.graph_objects as go\n",
    "import plotly.express as px\n",
    "import pypsa\n",
    "import pandas as pd\n",
    "import numpy as np\n",
    "import matplotlib.pyplot as plt\n",
    "import yaml\n",
    "import plotly.express as px\n",
    "import gc\n",
    "import re\n",
    "import os\n"
   ]
  },
  {
   "cell_type": "code",
   "execution_count": 28,
   "id": "aced345a",
   "metadata": {},
   "outputs": [],
   "source": [
    "import sys\n",
    "sys.path.append(\"../../scripts/pypsa-de\")"
   ]
  },
  {
   "cell_type": "code",
   "execution_count": 30,
   "id": "ba77da50",
   "metadata": {},
   "outputs": [
    {
     "ename": "FileNotFoundError",
     "evalue": "[Errno 2] No such file or directory: '../../config/plotting.default.yaml'",
     "output_type": "error",
     "traceback": [
      "\u001b[31m---------------------------------------------------------------------------\u001b[39m",
      "\u001b[31mFileNotFoundError\u001b[39m                         Traceback (most recent call last)",
      "\u001b[36mCell\u001b[39m\u001b[36m \u001b[39m\u001b[32mIn[30]\u001b[39m\u001b[32m, line 2\u001b[39m\n\u001b[32m      1\u001b[39m \u001b[38;5;66;03m# Tech Colors aus AriadneReport laden\u001b[39;00m\n\u001b[32m----> \u001b[39m\u001b[32m2\u001b[39m \u001b[38;5;28;01mwith\u001b[39;00m \u001b[38;5;28;43mopen\u001b[39;49m\u001b[43m(\u001b[49m\u001b[33;43m\"\u001b[39;49m\u001b[33;43m../../config/plotting.default.yaml\u001b[39;49m\u001b[33;43m\"\u001b[39;49m\u001b[43m,\u001b[49m\u001b[43m \u001b[49m\u001b[33;43m\"\u001b[39;49m\u001b[33;43mr\u001b[39;49m\u001b[33;43m\"\u001b[39;49m\u001b[43m)\u001b[49m \u001b[38;5;28;01mas\u001b[39;00m f:\n\u001b[32m      3\u001b[39m     plotting_config = yaml.safe_load(f)\n\u001b[32m      5\u001b[39m tech_colors = plotting_config[\u001b[33m\"\u001b[39m\u001b[33mplotting\u001b[39m\u001b[33m\"\u001b[39m][\u001b[33m\"\u001b[39m\u001b[33mtech_colors\u001b[39m\u001b[33m\"\u001b[39m]\n",
      "\u001b[36mFile \u001b[39m\u001b[32mc:\\Users\\morit\\.conda\\envs\\pypsa-de\\Lib\\site-packages\\IPython\\core\\interactiveshell.py:326\u001b[39m, in \u001b[36m_modified_open\u001b[39m\u001b[34m(file, *args, **kwargs)\u001b[39m\n\u001b[32m    319\u001b[39m \u001b[38;5;28;01mif\u001b[39;00m file \u001b[38;5;129;01min\u001b[39;00m {\u001b[32m0\u001b[39m, \u001b[32m1\u001b[39m, \u001b[32m2\u001b[39m}:\n\u001b[32m    320\u001b[39m     \u001b[38;5;28;01mraise\u001b[39;00m \u001b[38;5;167;01mValueError\u001b[39;00m(\n\u001b[32m    321\u001b[39m         \u001b[33mf\u001b[39m\u001b[33m\"\u001b[39m\u001b[33mIPython won\u001b[39m\u001b[33m'\u001b[39m\u001b[33mt let you open fd=\u001b[39m\u001b[38;5;132;01m{\u001b[39;00mfile\u001b[38;5;132;01m}\u001b[39;00m\u001b[33m by default \u001b[39m\u001b[33m\"\u001b[39m\n\u001b[32m    322\u001b[39m         \u001b[33m\"\u001b[39m\u001b[33mas it is likely to crash IPython. If you know what you are doing, \u001b[39m\u001b[33m\"\u001b[39m\n\u001b[32m    323\u001b[39m         \u001b[33m\"\u001b[39m\u001b[33myou can use builtins\u001b[39m\u001b[33m'\u001b[39m\u001b[33m open.\u001b[39m\u001b[33m\"\u001b[39m\n\u001b[32m    324\u001b[39m     )\n\u001b[32m--> \u001b[39m\u001b[32m326\u001b[39m \u001b[38;5;28;01mreturn\u001b[39;00m \u001b[43mio_open\u001b[49m\u001b[43m(\u001b[49m\u001b[43mfile\u001b[49m\u001b[43m,\u001b[49m\u001b[43m \u001b[49m\u001b[43m*\u001b[49m\u001b[43margs\u001b[49m\u001b[43m,\u001b[49m\u001b[43m \u001b[49m\u001b[43m*\u001b[49m\u001b[43m*\u001b[49m\u001b[43mkwargs\u001b[49m\u001b[43m)\u001b[49m\n",
      "\u001b[31mFileNotFoundError\u001b[39m: [Errno 2] No such file or directory: '../../config/plotting.default.yaml'"
     ]
    }
   ],
   "source": [
    "# Tech Colors aus AriadneReport laden\n",
    "with open(\"../../config/plotting.default.yaml\", \"r\") as f:\n",
    "    plotting_config = yaml.safe_load(f)\n",
    "\n",
    "tech_colors = plotting_config[\"plotting\"][\"tech_colors\"]"
   ]
  },
  {
   "cell_type": "code",
   "execution_count": 31,
   "id": "cee3da08",
   "metadata": {},
   "outputs": [],
   "source": [
    "# ====================\n",
    "# 2. Vor-Definitionen\n",
    "# ====================\n",
    "\n",
    "# 2.1 Farben und Linienstile für BEV-Charger-Plot\n",
    "bev_colors = {\n",
    "    \"EV battery (BEV charger) - Min\":   \"violet\",\n",
    "    \"EV battery (BEV charger) - Mean\":  \"green\",\n",
    "    \"EV battery (BEV charger) - Max\":   \"blue\"\n",
    "}\n",
    "bev_dash = {\n",
    "    \"EV battery (BEV charger) - Min\":   \"dot\",\n",
    "    \"EV battery (BEV charger) - Mean\":  \"solid\",\n",
    "    \"EV battery (BEV charger) - Max\":   \"dot\"\n",
    "}\n",
    "\n",
    "# 2.2 Mapping der Carrier (für Discharge-Plot)\n",
    "carrier_map = {\n",
    "    \"battery discharger\":        \"Utility-scale battery\",\n",
    "    \"home battery discharger\":   \"Home battery\",\n",
    "    \"V2G\":                       \"EV battery\"\n",
    "}\n",
    "\n",
    "# 2.3 Speichertyp-Konfiguration (für extract_metrics)\n",
    "storage_config = {\n",
    "    \"Utility-scale battery\": {\"store\": \"battery\",           \"link\": \"battery discharger\"},\n",
    "    \"Home battery\":           {\"store\": \"home battery\",     \"link\": \"home battery discharger\"},\n",
    "    \"EV battery\":             {\"store\": \"EV battery\",       \"link\": \"BEV charger\"}\n",
    "}\n",
    "\n",
    "# 2.4 Hilfsfunktion: Versucht, aus einem Dateinamen eine vierstellige Jahreszahl zu extrahieren\n",
    "def parse_year_from_filename(filename: str) -> int:\n",
    "    m = re.search(r\"(\\d{4})\", filename)\n",
    "    return int(m.group(1)) if m else None\n",
    "\n",
    "# 2.5 Funktion: BEV-Charger (Min/Mean/Max) in Deutschland aus einem Netzwerk extrahieren (in GW)\n",
    "def get_bev_charger_range_DE(net: pypsa.Network):\n",
    "    bev_idx = net.links.index[\n",
    "        (net.links.carrier == \"BEV charger\") &\n",
    "        (net.links.bus0.str.startswith(\"DE\"))\n",
    "    ]\n",
    "    if len(bev_idx) == 0:\n",
    "        return 0.0, 0.0, 0.0\n",
    "\n",
    "    eff_p = net.links_t.p_max_pu[bev_idx].multiply(net.links.p_nom[bev_idx], axis=1)\n",
    "    summed = eff_p.sum(axis=1)\n",
    "\n",
    "    p_min  = summed.min()  / 1e3  # MW → GW\n",
    "    p_mean = summed.mean() / 1e3\n",
    "    p_max  = summed.max()  / 1e3\n",
    "    return p_min, p_mean, p_max\n"
   ]
  },
  {
   "cell_type": "code",
   "execution_count": 32,
   "id": "a5d6ced2",
   "metadata": {},
   "outputs": [],
   "source": [
    "####### definitions aus Ariadne Report #######\n",
    "plt.rcParams[\"font.family\"] = \"DejaVu Sans\"\n",
    "extent_de = [5.5, 15.5, 47, 56]\n",
    "\n",
    "THRESHOLD = 5  # GW\n",
    "\n",
    "CARRIER_GROUPS = {\n",
    "    \"electricity\": [\"AC\", \"low voltage\"],\n",
    "    \"heat\": [\n",
    "        \"urban central heat\",\n",
    "        \"urban decentral heat\",\n",
    "        \"rural heat\",\n",
    "        \"residential urban decentral heat\",\n",
    "        \"residential rural heat\",\n",
    "        \"services urban decentral heat\",\n",
    "        \"services rural heat\",\n",
    "    ],\n",
    "    # \"hydrogen\": \"H2\",\n",
    "    # \"oil\": \"oil\",\n",
    "    # \"methanol\": \"methanol\",\n",
    "    # \"ammonia\": \"NH3\",\n",
    "    # \"biomass\": [\"solid biomass\", \"biogas\"],\n",
    "    # \"CO2 atmosphere\": \"co2\",\n",
    "    # \"CO2 stored\": \"co2 stored\",\n",
    "    # \"methane\": \"gas\",\n",
    "}\n",
    "\n",
    "backup_techs = {\n",
    "    \"Gas\": [\n",
    "        \"OCGT\",\n",
    "        \"CCGT\",\n",
    "        \"biogas\",\n",
    "        \"urban central gas CHP\",\n",
    "        \"urban central gas CHP CC\",\n",
    "    ],\n",
    "    # \"Öl\": [\"oil\", \"urban central oil CHP\"],\n",
    "    \"Kohle\": [\"lignite\", \"coal\", \"urban central coal CHP\", \"urban central lignite CHP\"],\n",
    "    \"Wasserkraft\": [\"PHS\", \"hydro\"],\n",
    "    \"Batterie\": [\"battery discharger\", \"home battery discharger\"],\n",
    "    \"Wasserstoff\": [\n",
    "        \"H2 OCGT\",\n",
    "        \"H2 retrofit OCGT\",\n",
    "        \"urban central H2 CHP\",\n",
    "        \"urban central H2 retrofit CHP\",\n",
    "    ],\n",
    "    # \"Müllverbrennung\": [\"waste CHP\", \"waste CHP CC\"],\n",
    "    \"Biomasse\": [\n",
    "        \"solid biomass\",\n",
    "        \"urban central solid biomass CHP\",\n",
    "        \"urban central solid biomass CHP CC\",\n",
    "    ],\n",
    "}\n",
    "\n",
    "vre_gens = [\n",
    "    \"onwind\",\n",
    "    \"offwind-ac\",\n",
    "    \"offwind-dc\",\n",
    "    \"solar\",\n",
    "    \"solar-hsat\",\n",
    "    \"solar rooftop\",\n",
    "    \"ror\",\n",
    "]\n",
    "\n",
    "year_colors = [\n",
    "    \"dimgrey\",\n",
    "    \"darkorange\",\n",
    "    \"seagreen\",\n",
    "    \"cadetblue\",\n",
    "    \"hotpink\",\n",
    "    \"darkviolet\",\n",
    "    \"gold\",\n",
    "]\n",
    "markers = [\n",
    "    \"v\",\n",
    "    \"^\",\n",
    "    \"<\",\n",
    "    \">\",\n",
    "    \"1\",\n",
    "    \"2\",\n",
    "    \"3\",\n",
    "    \"4\",\n",
    "    \"*\",\n",
    "    \"+\",\n",
    "    \"d\",\n",
    "    \"o\",\n",
    "    \"|\",\n",
    "    \"s\",\n",
    "    \"P\",\n",
    "    \"p\",\n",
    "    \"h\",\n",
    "]\n",
    "\n",
    "date_format = \"%Y-%m-%d %H:%M:%S\"\n",
    "reduced_date_format = \"%Y-%m-%d\"\n",
    "\n",
    "\n",
    "resistive_heater = [\n",
    "    \"urban central resistive heater\",\n",
    "    \"rural resistive heater\",\n",
    "    \"urban decentral resistive heater\",\n",
    "]\n",
    "gas_boiler = [\n",
    "    \"urban central gas boiler\",\n",
    "    \"rural gas boiler\",\n",
    "    \"urban decentral gas boiler\",\n",
    "]\n",
    "air_heat_pump = [\n",
    "    \"urban central air heat pump\",\n",
    "    \"rural air heat pump\",\n",
    "    \"urban decentral air heat pump\",\n",
    "]\n",
    "water_tanks_charger = [\n",
    "    \"urban central water tanks charger\",\n",
    "    \"rural water tanks charger\",\n",
    "    \"urban decentral water tanks charger\",\n",
    "]\n",
    "water_tanks_discharger = [\n",
    "    \"urban central water tanks discharger\",\n",
    "    \"rural water tanks discharger\",\n",
    "    \"urban decentral water tanks discharger\",\n",
    "]\n",
    "solar_thermal = [\n",
    "    \"urban decentral solar thermal\",\n",
    "    \"urban central solar thermal\",\n",
    "    \"rural solar thermal\",\n",
    "]\n",
    "carrier_renaming = {\n",
    "    \"urban central solid biomass CHP CC\": \"biomass CHP CC\",\n",
    "    \"urban central solid biomass CHP\": \"biomass CHP\",\n",
    "    \"urban central gas CHP\": \"gas CHP\",\n",
    "    \"urban central gas CHP CC\": \"gas CHP CC\",\n",
    "    \"urban central air heat pump\": \"air heat pump\",\n",
    "    \"urban central resistive heater\": \"resistive heater\",\n",
    "}\n",
    "carrier_renaming_reverse = {\n",
    "    \"biomass CHP CC\": \"urban central solid biomass CHP CC\",\n",
    "    \"biomass CHP\": \"urban central solid biomass CHP\",\n",
    "    \"gas CHP\": \"urban central gas CHP\",\n",
    "    \"gas CHP CC\": \"urban central gas CHP CC\",\n",
    "    \"air heat pump\": \"urban central air heat pump\",\n",
    "    \"resistive heater\": \"urban central resistive heater\",\n",
    "}\n",
    "c1_groups = [\n",
    "    resistive_heater,\n",
    "    gas_boiler,\n",
    "    air_heat_pump,\n",
    "    water_tanks_charger,\n",
    "    water_tanks_discharger,\n",
    "    solar_thermal,\n",
    "]\n",
    "c1_groups_name = [\n",
    "    \"resistive heater\",\n",
    "    \"gas boiler\",\n",
    "    \"air heat pump\",\n",
    "    \"water tanks charger\",\n",
    "    \"water tanks discharger\",\n",
    "    \"solar thermal\",\n",
    "]\n",
    "solar = [\n",
    "    \"solar rooftop\",\n",
    "    \"solar-hsat\",\n",
    "    \"solar\",\n",
    "]\n",
    "electricity_load = [\n",
    "    \"electricity\",\n",
    "    \"industry electricity\",\n",
    "    \"agriculture electricity\",\n",
    "]\n",
    "electricity_imports = [\n",
    "    \"AC\",\n",
    "    \"DC\",\n",
    "]\n",
    "\n",
    "carriers_in_german = {\n",
    "    \"DC\": \"Gleichstrom\",\n",
    "    \"AC\": \"Wechselstrom\",\n",
    "    \"hydro\": \"Wasserkraft (Reservoir & Damm)\",\n",
    "    \"offwind-ac\": \"Offshore-Wind (AC)\",\n",
    "    \"offwind-dc\": \"Offshore-Wind (DC)\",\n",
    "    \"solar\": \"Solar\",\n",
    "    \"solar-hsat\": \"Solar (HSAT)\",\n",
    "    \"onwind\": \"Onshore-Wind\",\n",
    "    \"PHS\": \"Pumpspeicherkraftwerk\",\n",
    "    \"ror\": \"Laufwasserkraft\",\n",
    "    \"\": \"\",\n",
    "    \"lignite\": \"Braunkohle\",\n",
    "    \"coal\": \"Steinkohle\",\n",
    "    \"oil\": \"Öl\",\n",
    "    \"uranium\": \"Uran\",\n",
    "    \"none\": \"keine\",\n",
    "    \"co2\": \"CO2\",\n",
    "    \"co2 stored\": \"CO2 gespeichert\",\n",
    "    \"co2 sequestered\": \"CO2 sequestriert\",\n",
    "    \"gas\": \"Gas\",\n",
    "    \"H2\": \"Wasserstoffspeicher\",\n",
    "    \"battery\": \"Batteriespeicher\",\n",
    "    \"EV battery\": \"Elektrofahrzeug-Batterie\",\n",
    "    \"urban central heat\": \"Zentrale städtische Heizung\",\n",
    "    \"urban central water tanks\": \"Zentrale städtische Wassertanks\",\n",
    "    \"urban central solar thermal\": \"Zentrale städtische Solarthermie\",\n",
    "    \"biogas\": \"Biogas\",\n",
    "    \"solid biomass\": \"Biomasse\",\n",
    "    \"methanol\": \"Methanol\",\n",
    "    \"home battery\": \"Hausbatterie\",\n",
    "    \"rural heat\": \"Ländliche Wärme\",\n",
    "    \"rural solar thermal\": \"Ländliche Solarthermie\",\n",
    "    \"rural water tanks\": \"Ländliche Wassertanks\",\n",
    "    \"urban decentral heat\": \"Dezentrale städtische Heizung\",\n",
    "    \"urban decentral solar thermal\": \"Dezentrale städtische Solarthermie\",\n",
    "    \"urban decentral water tanks\": \"Dezentrale städtische Wassertanks\",\n",
    "    \"oil primary\": \"Primäröl\",\n",
    "    \"solar rooftop\": \"Solar-Dach\",\n",
    "    \"urban central heat vent\": \"Zentrale städtische Wärmeentlüftung\",\n",
    "    \"gas primary\": \"Primärgas\",\n",
    "    \"solid biomass for industry\": \"Biomasse (Industrie)\",\n",
    "    \"shipping oil\": \"Schiffsöl\",\n",
    "    \"agriculture machinery oil\": \"Landwirtschaftsmaschinenöl\",\n",
    "    \"naphtha for industry\": \"Naphtha für die Industrie\",\n",
    "    \"land transport oil\": \" Öl (Transport)\",\n",
    "    \"kerosene for aviation\": \"Kerosin für die Luftfahrt\",\n",
    "    \"non-sequestered HVC\": \"Nicht-sequestriertes HVC\",\n",
    "    \"shipping methanol\": \"Methanol für Schifffahrt\",\n",
    "    \"gas for industry\": \"Gas (Industrie)\",\n",
    "    \"low voltage\": \"Niederspannung\",\n",
    "    \"industry methanol\": \"Methanol (Industrie)\",\n",
    "    \"coal for industry\": \"Kohle (Industrie)\",\n",
    "    \"process emissions\": \"Prozessemissionen\",\n",
    "    \"industry electricity\": \"Industrieelektrizität\",\n",
    "    \"low-temperature heat for industry\": \"Niedertemperaturwärme (Industrie)\",\n",
    "    \"agriculture electricity\": \"Landwirtschaftliche Elektrizität\",\n",
    "    \"electricity\": \"Elektrizität\",\n",
    "    \"land transport EV\": \"Elektrofahrzeuge (Transport)\",\n",
    "    \"agriculture heat\": \"Landwirtschaftliche Wärme\",\n",
    "    \"urban central air heat pump\": \"Zentrale städtische Luftwärmepumpe\",\n",
    "    \"electricity distribution grid\": \"Stromverteilungsnetz\",\n",
    "    \"battery charger\": \"Batterie Laden\",\n",
    "    \"waste CHP\": \"Müll-KWK\",\n",
    "    \"urban central water tanks discharger\": \"Entladung zentraler städtischer Wassertanks\",\n",
    "    \"rural water tanks discharger\": \"Entladung ländlicher Wassertanks\",\n",
    "    \"urban decentral biomass boiler\": \"Dezentrale städtische Biomassekessel\",\n",
    "    \"BEV charger\": \"E-Fahrzeug Laden\",\n",
    "    \"rural ground heat pump\": \"Erdwärmepumpe\",\n",
    "    \"Fischer-Tropsch\": \"Fischer-Tropsch\",\n",
    "    \"urban decentral water tanks discharger\": \"Entladung dezentraler städtischer Wassertanks\",\n",
    "    \"urban central gas CHP\": \"Gas-KWK\",\n",
    "    \"Sabatier\": \"Sabatier-Prozess\",\n",
    "    \"gas compressing\": \"Gasverdichtung\",\n",
    "    \"home battery charger\": \"Hausbatterie Laden\",\n",
    "    \"battery discharger\": \"Batterie Entladung\",\n",
    "    \"H2 pipeline retrofitted\": \"Nachgerüstete Wasserstoffpipeline\",\n",
    "    \"rural resistive heater\": \"Ländlicher Widerstandsheizer\",\n",
    "    \"urban central water tanks charger\": \"Ladung zentraler städtischer Wassertanks\",\n",
    "    \"urban central solid biomass CHP CC\": \"Biomasse-KWK mit CO2-Abscheidung\",\n",
    "    \"rural air heat pump\": \"Ländliche Luftwärmepumpe\",\n",
    "    \"DAC\": \"Direkte CO2-Abscheidung\",\n",
    "    \"urban decentral air heat pump\": \"Dezentrale städtische Luftwärmepumpe\",\n",
    "    \"waste CHP CC\": \"Müll-KWK mit CO2-Abscheidung\",\n",
    "    \"biomass to liquid CC\": \"Biomasse zu Flüssigkeit mit CO2-Abscheidung\",\n",
    "    \"HVC to air\": \"HVC in die Luft\",\n",
    "    \"methanolisation\": \"Methanolisation\",\n",
    "    \"gas for industry CC\": \"Gas mit CO2-Abscheidung (Industrie)\",\n",
    "    \"H2 pipeline\": \"Wasserstoffpipeline\",\n",
    "    \"solid biomass for industry CC\": \"Biomasse mit CO2-Abscheidung (Industrie)\",\n",
    "    \"urban decentral gas boiler\": \"Dezentrale städtische Gaskessel\",\n",
    "    \"urban central gas CHP CC\": \"Gas-KWK mit CO2-Abscheidung\",\n",
    "    \"rural gas boiler\": \"Ländlicher Gaskessel\",\n",
    "    \"process emissions CC\": \"Prozessemissionen mit CO2-Abscheidung\",\n",
    "    \"urban decentral water tanks charger\": \"Ladung dezentraler städtischer Wassertanks\",\n",
    "    \"biogas to gas CC\": \"Biogas zu Gas mit CO2-Abscheidung\",\n",
    "    \"urban decentral resistive heater\": \"Dezentrale städtische Widerstandsheizer\",\n",
    "    \"biogas to gas\": \"Biogas zu Gas\",\n",
    "    \"OCGT\": \"Gas (OCGT)\",\n",
    "    \"urban central solid biomass CHP\": \"Biomasse-KWK\",\n",
    "    \"urban central gas boiler\": \"Zentraler städtischer Gaskessel\",\n",
    "    \"urban central resistive heater\": \"Zentraler städtischer Widerstandsheizer\",\n",
    "    \"oil refining\": \"Ölraffinierung\",\n",
    "    \"rural biomass boiler\": \"Ländlicher Biomassekessel\",\n",
    "    \"SMR\": \"Dampfreformierung\",\n",
    "    \"biomass to liquid\": \"Biomasse zu Flüssigkeit\",\n",
    "    \"rural water tanks charger\": \"Ladung ländlicher Wassertanks\",\n",
    "    \"home battery discharger\": \"Hausbatterie Entladung\",\n",
    "    \"H2 Store\": \"Wasserstoffspeicher\",\n",
    "    \"renewable oil\": \"Erneuerbares Öl\",\n",
    "    \"renewable gas\": \"Erneuerbares Gas\",\n",
    "    \"CCGT\": \"Gas (CCGT)\",\n",
    "    \"nuclear\": \"Kernenergie\",\n",
    "    \"gas CHP\": \"Gas-KWK\",\n",
    "    \"gas CHP CC\": \"Gas KWK mit CO2-Abscheidung\",\n",
    "    \"urban central coal CHP\": \"Steinkohle-KWK\",\n",
    "    \"Electricity trade\": \"Stromhandel\",\n",
    "    \"urban central biomass CHP\": \"Biomasse-KWK\",\n",
    "    \"biomass CHP\": \"Biomasse-KWK\",\n",
    "    \"air heat pump\": \"Luftwärmepumpe\",\n",
    "    \"Electricity load\": \"Stromlast\",\n",
    "    \"resistive heater\": \"Widerstandsheizung\",\n",
    "    \"gas boiler\": \"Gaskessel\",\n",
    "    \"H2 Electrolysis\": \"Elektrolyse\",\n",
    "    \"H2 Fuel Cell\": \"Brennstoffzelle (Strom)\",\n",
    "    \"H2 for industry\": \"H2 für Industrie\",\n",
    "    \"H2 OCGT\": \"Wasserstoff (OCGT)\",\n",
    "    \"H2 CHP\": \"H2 KWK\",\n",
    "    \"land transport fuel cell\": \"Brennstoffzelle (Verkehr)\",\n",
    "    \"other\": \"Sonstige\",\n",
    "    \"SMR CC\": \"Dampfreformierung mit CCS\",\n",
    "    \"H2 pipeline (new)\": \"H2 Pipeline (Neubau)\",\n",
    "    \"H2 pipeline (repurposed)\": \"H2 Pipeline (Umstellung)\",\n",
    "    \"H2 pipeline (Kernnetz)\": \"H2 Pipeline (Kernnetz)\",\n",
    "    \"heat pump\": \"Wärmepumpe\",\n",
    "    \"urban central H2 CHP\": \"Wasserstoff-KWK\",\n",
    "    \"urban central H2 retrofit CHP\": \"Wasserstoff-KWK (Umrüstung)\",\n",
    "    \"urban central oil CHP\": \"Öl-KWK\",\n",
    "    \"urban central lignite CHP\": \"Braunkohle-KWK\",\n",
    "    \"H2 retrofit OCGT\": \"Wasserstoff (OCGT;Umrüstung)\",\n",
    "}\n",
    "\n",
    "\n",
    "tech_colors.update({\n",
    "    \"H2 OCGT\": \"#e78ac3\",\n",
    "    \"H2 retrofit OCGT\": \"#fbb4ae\",\n",
    "    \"urban central H2 CHP\": \"#fccde5\",\n",
    "    \"urban central H2 retrofit CHP\": \"#d9d9d9\"\n",
    "})\n"
   ]
  },
  {
   "cell_type": "code",
   "execution_count": 33,
   "id": "05f3d821",
   "metadata": {},
   "outputs": [],
   "source": [
    "# ============================================\n",
    "# 3. Funktion: Daten aus EINEM Netzwerk extrahieren\n",
    "# ============================================\n",
    "\n",
    "def extract_metrics_from_network(net: pypsa.Network, scenario: str, year_label) -> dict:\n",
    "    \"\"\"\n",
    "    Extrahiert aus net (pypsa.Network) folgende Kenngrößen:\n",
    "      - energy_rows:   Speicherkapazität (e_nom_opt) in GWh pro Speichertyp (DE-only)\n",
    "      - power_rows:    Entladeleistung (p_nom_opt) in GW pro Speichertyp (DE-only)\n",
    "      - discharge_rows: Jährliche Strombereitstellung (statistics.supply) in TWh pro Carrier (DE-only)\n",
    "      - bev_rows:      BEV‐Charger‐Range (Min/Mean/Max) in GW\n",
    "    \n",
    "    Gibt ein Dictionary zurück:\n",
    "      {\n",
    "        \"energy\":    [ {...}, {...}, ... ],\n",
    "        \"power\":     [ {...}, {...}, ... ],\n",
    "        \"discharge\": [ {...}, {...}, ... ],\n",
    "        \"bev\":       [ {...}, {...}, {...} ]  # genau drei Einträge pro Net (Min/Mean/Max)\n",
    "      }\n",
    "    \"\"\"\n",
    "    energy_rows    = []\n",
    "    power_rows     = []\n",
    "    discharge_rows = []\n",
    "    bev_rows       = []\n",
    "\n",
    "    # 1) Kapazität (e_nom_opt) & Leistung (p_nom_opt) pro Speichertyp\n",
    "    for label, ids in storage_config.items():\n",
    "        store_idx = net.stores.index[\n",
    "            (net.stores.carrier == ids[\"store\"]) &\n",
    "            (net.stores.bus.str.startswith(\"DE\"))\n",
    "        ]\n",
    "        e_nom = net.stores.e_nom_opt[store_idx].sum() / 1e3 if len(store_idx) > 0 else 0.0\n",
    "\n",
    "        link_idx = net.links.index[\n",
    "            (net.links.carrier == ids[\"link\"]) &\n",
    "            (net.links.bus0.str.startswith(\"DE\"))\n",
    "        ]\n",
    "        p_nom = net.links.p_nom_opt[link_idx].sum() / 1e3 if len(link_idx) > 0 else 0.0\n",
    "\n",
    "        energy_rows.append({\n",
    "            \"Scenario\":     scenario,\n",
    "            \"Year\":         year_label,\n",
    "            \"Type\":         label,\n",
    "            \"Value [GWh]\":  e_nom\n",
    "        })\n",
    "        power_rows.append({\n",
    "            \"Scenario\":     scenario,\n",
    "            \"Year\":         year_label,\n",
    "            \"Type\":         label,\n",
    "            \"Value [GW]\":   p_nom\n",
    "        })\n",
    "\n",
    "    # 2) Discharge-Statistik (statistics.supply) in TWh\n",
    "    df_supply = (\n",
    "        net.statistics.supply(\n",
    "            bus_carrier=[\"low voltage\", \"AC\"],\n",
    "            groupby=[\"name\", \"bus\", \"carrier\"],\n",
    "            nice_names=False\n",
    "        )\n",
    "        .filter(like=\"DE\", axis=0)\n",
    "        .groupby(\"carrier\").sum()\n",
    "        .drop([\"AC\", \"DC\", \"electricity distribution grid\"], errors=\"ignore\")\n",
    "        / 1e6  # MWh → TWh\n",
    "    )\n",
    "    for carrier, value in df_supply.items():\n",
    "        if carrier in [\"battery discharger\", \"home battery discharger\", \"V2G\"]:\n",
    "            discharge_rows.append({\n",
    "                \"Scenario\":    scenario,\n",
    "                \"Year\":        year_label,\n",
    "                \"Type\":        carrier,\n",
    "                \"Value [TWh]\": value\n",
    "            })\n",
    "\n",
    "    # 3) BEV‐Charger‐Range (Min/Mean/Max) in GW\n",
    "    p_min, p_mean, p_max = get_bev_charger_range_DE(net)\n",
    "    bev_rows.append({\n",
    "        \"Scenario\":   scenario,\n",
    "        \"Year\":       year_label,\n",
    "        \"Type\":       \"EV battery (BEV charger) - Min\",\n",
    "        \"Value [GW]\": p_min\n",
    "    })\n",
    "    bev_rows.append({\n",
    "        \"Scenario\":   scenario,\n",
    "        \"Year\":       year_label,\n",
    "        \"Type\":       \"EV battery (BEV charger) - Mean\",\n",
    "        \"Value [GW]\": p_mean\n",
    "    })\n",
    "    bev_rows.append({\n",
    "        \"Scenario\":   scenario,\n",
    "        \"Year\":       year_label,\n",
    "        \"Type\":       \"EV battery (BEV charger) - Max\",\n",
    "        \"Value [GW]\": p_max\n",
    "    })\n",
    "\n",
    "    return {\n",
    "        \"energy\":    energy_rows,\n",
    "        \"power\":     power_rows,\n",
    "        \"discharge\": discharge_rows,\n",
    "        \"bev\":       bev_rows\n",
    "    }\n"
   ]
  },
  {
   "cell_type": "code",
   "execution_count": 34,
   "id": "148cbe90",
   "metadata": {},
   "outputs": [],
   "source": [
    "# ============================================\n",
    "# 4. Funktion: Alle Netzwerke eines Base-Folders einlesen,\n",
    "#    mit optionaler Möglichkeit, einzelne Szenarien auszuschließen\n",
    "# ============================================\n",
    "\n",
    "def load_all_scenarios(base_folder: str, exclude_scenarios: list = None) -> dict:\n",
    "    \"\"\"\n",
    "    Liest alle Szenarien in base_folder/*/postnetworks/*.nc ein,\n",
    "    ruft extract_metrics_from_network() auf und gibt ein Dict zurück:\n",
    "      {\n",
    "        \"energy\":    DataFrame,\n",
    "        \"power\":     DataFrame,\n",
    "        \"discharge\": DataFrame,\n",
    "        \"bev\":       DataFrame\n",
    "      }\n",
    "    \n",
    "    Parameter:\n",
    "      - base_folder        : Pfad zu deinem Ordner mit den Szenarien-Unterverzeichnissen.\n",
    "      - exclude_scenarios  : (optional) Liste von Szenario-Namen, die beim Einlesen übersprungen werden sollen.\n",
    "                            Beispiel: [\"FokusStrom\", \"SzenarioXYZ\"]\n",
    "                            Standardmäßig None (d.h. kein Szenario wird ausgeschlossen).\n",
    "\n",
    "    Vorgehen:\n",
    "      1. Ermittele alle Unterordner, die ein Unterverzeichnis \"postnetworks\" enthalten.\n",
    "      2. Filtere dabei jene in exclude_scenarios heraus (falls angegeben).\n",
    "      3. Für jedes verbleibende Szenario werden alle .nc-Dateien in \".../postnetworks\" geladen und über\n",
    "         extract_metrics_from_network() ausgelesen. BEV-Range wird direkt mitgesammelt.\n",
    "      4. Am Ende werden vier DataFrames zurückgegeben: energy, power, discharge, bev.\n",
    "    \"\"\"\n",
    "    if exclude_scenarios is None:\n",
    "        exclude_scenarios = []\n",
    "\n",
    "    all_energy_rows    = []\n",
    "    all_power_rows     = []\n",
    "    all_discharge_rows = []\n",
    "    all_bev_rows       = []\n",
    "\n",
    "    # Szenarien ermitteln (Ordner wie base_folder/<Szenario>/postnetworks)\n",
    "    szenarien = [\n",
    "        d for d in os.listdir(base_folder)\n",
    "        if os.path.isdir(os.path.join(base_folder, d, \"networks\"))\n",
    "    ]\n",
    "\n",
    "    # Szenarien herausfiltern, die ausgeschlossen werden sollen\n",
    "    szenarien = [s for s in szenarien if s not in exclude_scenarios]\n",
    "    print(\"Szenarien, die eingelesen werden:\", szenarien)\n",
    "    if exclude_scenarios:\n",
    "        print(\"Ausgeschlossene Szenarien:\", exclude_scenarios)\n",
    "\n",
    "    for scenario in szenarien:\n",
    "        net_folder = os.path.join(base_folder, scenario, \"networks\")\n",
    "        nc_files = [f for f in os.listdir(net_folder) if f.lower().endswith(\".nc\")]\n",
    "\n",
    "        if not nc_files:\n",
    "            print(f\"  → {scenario}: Keine .nc-Dateien gefunden, überspringe.\")\n",
    "            continue\n",
    "\n",
    "        print(f\"\\n=== Verarbeite Szenario '{scenario}' ({len(nc_files)} Netzwerke) ===\")\n",
    "        for fn in nc_files:\n",
    "            pfad = os.path.join(net_folder, fn)\n",
    "            jahr = parse_year_from_filename(fn)\n",
    "            year_label = jahr if jahr is not None else fn\n",
    "\n",
    "            print(f\"  • Lade {scenario}/{fn} …\", end=\" \")\n",
    "            net = pypsa.Network(pfad)\n",
    "            print(\"fertig.\")\n",
    "\n",
    "            metrics = extract_metrics_from_network(net, scenario, year_label)\n",
    "            all_energy_rows   .extend(metrics[\"energy\"])\n",
    "            all_power_rows    .extend(metrics[\"power\"])\n",
    "            all_discharge_rows.extend(metrics[\"discharge\"])\n",
    "            all_bev_rows      .extend(metrics[\"bev\"])\n",
    "\n",
    "            del net\n",
    "            gc.collect()\n",
    "\n",
    "        print(f\"— Fertig mit Szenario '{scenario}'\")\n",
    "\n",
    "    # Aus Listen entstehen DataFrames\n",
    "    df_energy    = pd.DataFrame(all_energy_rows)\n",
    "    df_power     = pd.DataFrame(all_power_rows)\n",
    "    df_discharge = pd.DataFrame(all_discharge_rows)\n",
    "    df_bev_range = pd.DataFrame(all_bev_rows)\n",
    "\n",
    "    # Sortierung (optional)\n",
    "    sort_cols = [\"Scenario\", \"Type\", \"Year\"]\n",
    "    df_energy    = df_energy   .sort_values(sort_cols).reset_index(drop=True)\n",
    "    df_power     = df_power    .sort_values(sort_cols).reset_index(drop=True)\n",
    "    df_discharge = df_discharge.sort_values(sort_cols).reset_index(drop=True)\n",
    "    df_bev_range = df_bev_range.sort_values(sort_cols).reset_index(drop=True)\n",
    "\n",
    "    return {\n",
    "        \"energy\":    df_energy,\n",
    "        \"power\":     df_power,\n",
    "        \"discharge\": df_discharge,\n",
    "        \"bev\":       df_bev_range\n",
    "    }\n"
   ]
  },
  {
   "cell_type": "code",
   "execution_count": 36,
   "id": "5615ab8b",
   "metadata": {},
   "outputs": [
    {
     "name": "stdout",
     "output_type": "stream",
     "text": [
      "Szenarien, die eingelesen werden: ['KN2045_Mix', 'KN2045_Mix_3H', 'KN2045_Mix_Base']\n",
      "Ausgeschlossene Szenarien: ['KN2045_Mix_1H_DE_1ZONE', 'KN2045_Mix_3H_DE_1ZONE_FW', 'KN2045_Mix_3H_DE_1ZONE', 'Technologiemix']\n",
      "\n",
      "=== Verarbeite Szenario 'KN2045_Mix' (7 Netzwerke) ===\n",
      "  • Lade KN2045_Mix/base_s_27__none_2020.nc … "
     ]
    },
    {
     "name": "stderr",
     "output_type": "stream",
     "text": [
      "INFO:pypsa.io:Imported network base_s_27__none_2020.nc has buses, carriers, generators, global_constraints, lines, links, loads, storage_units, stores\n"
     ]
    },
    {
     "name": "stdout",
     "output_type": "stream",
     "text": [
      "fertig.\n",
      "  • Lade KN2045_Mix/base_s_27__none_2025.nc … "
     ]
    },
    {
     "name": "stderr",
     "output_type": "stream",
     "text": [
      "INFO:pypsa.io:Imported network base_s_27__none_2025.nc has buses, carriers, generators, global_constraints, lines, links, loads, storage_units, stores\n"
     ]
    },
    {
     "name": "stdout",
     "output_type": "stream",
     "text": [
      "fertig.\n",
      "  • Lade KN2045_Mix/base_s_27__none_2030.nc … "
     ]
    },
    {
     "name": "stderr",
     "output_type": "stream",
     "text": [
      "INFO:pypsa.io:Imported network base_s_27__none_2030.nc has buses, carriers, generators, global_constraints, lines, links, loads, storage_units, stores\n"
     ]
    },
    {
     "name": "stdout",
     "output_type": "stream",
     "text": [
      "fertig.\n",
      "  • Lade KN2045_Mix/base_s_27__none_2035.nc … "
     ]
    },
    {
     "name": "stderr",
     "output_type": "stream",
     "text": [
      "INFO:pypsa.io:Imported network base_s_27__none_2035.nc has buses, carriers, generators, global_constraints, lines, links, loads, storage_units, stores\n"
     ]
    },
    {
     "name": "stdout",
     "output_type": "stream",
     "text": [
      "fertig.\n",
      "  • Lade KN2045_Mix/base_s_27__none_2040.nc … "
     ]
    },
    {
     "name": "stderr",
     "output_type": "stream",
     "text": [
      "INFO:pypsa.io:Imported network base_s_27__none_2040.nc has buses, carriers, generators, global_constraints, lines, links, loads, storage_units, stores\n"
     ]
    },
    {
     "name": "stdout",
     "output_type": "stream",
     "text": [
      "fertig.\n",
      "  • Lade KN2045_Mix/base_s_27__none_2045.nc … "
     ]
    },
    {
     "name": "stderr",
     "output_type": "stream",
     "text": [
      "INFO:pypsa.io:Imported network base_s_27__none_2045.nc has buses, carriers, generators, global_constraints, lines, links, loads, storage_units, stores\n"
     ]
    },
    {
     "name": "stdout",
     "output_type": "stream",
     "text": [
      "fertig.\n",
      "  • Lade KN2045_Mix/base_s_27__none_2050.nc … "
     ]
    },
    {
     "name": "stderr",
     "output_type": "stream",
     "text": [
      "INFO:pypsa.io:Imported network base_s_27__none_2050.nc has buses, carriers, generators, global_constraints, lines, links, loads, storage_units, stores\n"
     ]
    },
    {
     "name": "stdout",
     "output_type": "stream",
     "text": [
      "fertig.\n",
      "— Fertig mit Szenario 'KN2045_Mix'\n",
      "\n",
      "=== Verarbeite Szenario 'KN2045_Mix_3H' (7 Netzwerke) ===\n",
      "  • Lade KN2045_Mix_3H/base_s_27__none_2020.nc … "
     ]
    },
    {
     "name": "stderr",
     "output_type": "stream",
     "text": [
      "INFO:pypsa.io:Imported network base_s_27__none_2020.nc has buses, carriers, generators, global_constraints, lines, links, loads, storage_units, stores\n"
     ]
    },
    {
     "name": "stdout",
     "output_type": "stream",
     "text": [
      "fertig.\n",
      "  • Lade KN2045_Mix_3H/base_s_27__none_2025.nc … "
     ]
    },
    {
     "name": "stderr",
     "output_type": "stream",
     "text": [
      "INFO:pypsa.io:Imported network base_s_27__none_2025.nc has buses, carriers, generators, global_constraints, lines, links, loads, storage_units, stores\n"
     ]
    },
    {
     "name": "stdout",
     "output_type": "stream",
     "text": [
      "fertig.\n",
      "  • Lade KN2045_Mix_3H/base_s_27__none_2030.nc … "
     ]
    },
    {
     "name": "stderr",
     "output_type": "stream",
     "text": [
      "INFO:pypsa.io:Imported network base_s_27__none_2030.nc has buses, carriers, generators, global_constraints, lines, links, loads, storage_units, stores\n"
     ]
    },
    {
     "name": "stdout",
     "output_type": "stream",
     "text": [
      "fertig.\n",
      "  • Lade KN2045_Mix_3H/base_s_27__none_2035.nc … "
     ]
    },
    {
     "name": "stderr",
     "output_type": "stream",
     "text": [
      "INFO:pypsa.io:Imported network base_s_27__none_2035.nc has buses, carriers, generators, global_constraints, lines, links, loads, storage_units, stores\n"
     ]
    },
    {
     "name": "stdout",
     "output_type": "stream",
     "text": [
      "fertig.\n",
      "  • Lade KN2045_Mix_3H/base_s_27__none_2040.nc … "
     ]
    },
    {
     "name": "stderr",
     "output_type": "stream",
     "text": [
      "INFO:pypsa.io:Imported network base_s_27__none_2040.nc has buses, carriers, generators, global_constraints, lines, links, loads, storage_units, stores\n"
     ]
    },
    {
     "name": "stdout",
     "output_type": "stream",
     "text": [
      "fertig.\n",
      "  • Lade KN2045_Mix_3H/base_s_27__none_2045.nc … "
     ]
    },
    {
     "name": "stderr",
     "output_type": "stream",
     "text": [
      "INFO:pypsa.io:Imported network base_s_27__none_2045.nc has buses, carriers, generators, global_constraints, lines, links, loads, storage_units, stores\n"
     ]
    },
    {
     "name": "stdout",
     "output_type": "stream",
     "text": [
      "fertig.\n",
      "  • Lade KN2045_Mix_3H/base_s_27__none_2050.nc … "
     ]
    },
    {
     "name": "stderr",
     "output_type": "stream",
     "text": [
      "INFO:pypsa.io:Imported network base_s_27__none_2050.nc has buses, carriers, generators, global_constraints, lines, links, loads, storage_units, stores\n"
     ]
    },
    {
     "name": "stdout",
     "output_type": "stream",
     "text": [
      "fertig.\n",
      "— Fertig mit Szenario 'KN2045_Mix_3H'\n",
      "\n",
      "=== Verarbeite Szenario 'KN2045_Mix_Base' (7 Netzwerke) ===\n",
      "  • Lade KN2045_Mix_Base/base_s_20_hourly_none_2020.nc … "
     ]
    },
    {
     "name": "stderr",
     "output_type": "stream",
     "text": [
      "INFO:pypsa.io:Imported network base_s_20_hourly_none_2020.nc has buses, carriers, generators, global_constraints, lines, links, loads, storage_units, stores\n"
     ]
    },
    {
     "name": "stdout",
     "output_type": "stream",
     "text": [
      "fertig.\n",
      "  • Lade KN2045_Mix_Base/base_s_20_hourly_none_2025.nc … "
     ]
    },
    {
     "name": "stderr",
     "output_type": "stream",
     "text": [
      "INFO:pypsa.io:Imported network base_s_20_hourly_none_2025.nc has buses, carriers, generators, global_constraints, lines, links, loads, storage_units, stores\n"
     ]
    },
    {
     "name": "stdout",
     "output_type": "stream",
     "text": [
      "fertig.\n",
      "  • Lade KN2045_Mix_Base/base_s_20_hourly_none_2030.nc … "
     ]
    },
    {
     "name": "stderr",
     "output_type": "stream",
     "text": [
      "INFO:pypsa.io:Imported network base_s_20_hourly_none_2030.nc has buses, carriers, generators, global_constraints, lines, links, loads, storage_units, stores\n"
     ]
    },
    {
     "name": "stdout",
     "output_type": "stream",
     "text": [
      "fertig.\n",
      "  • Lade KN2045_Mix_Base/base_s_20_hourly_none_2035.nc … "
     ]
    },
    {
     "name": "stderr",
     "output_type": "stream",
     "text": [
      "INFO:pypsa.io:Imported network base_s_20_hourly_none_2035.nc has buses, carriers, generators, global_constraints, lines, links, loads, storage_units, stores\n"
     ]
    },
    {
     "name": "stdout",
     "output_type": "stream",
     "text": [
      "fertig.\n",
      "  • Lade KN2045_Mix_Base/base_s_20_hourly_none_2040.nc … "
     ]
    },
    {
     "name": "stderr",
     "output_type": "stream",
     "text": [
      "INFO:pypsa.io:Imported network base_s_20_hourly_none_2040.nc has buses, carriers, generators, global_constraints, lines, links, loads, storage_units, stores\n"
     ]
    },
    {
     "name": "stdout",
     "output_type": "stream",
     "text": [
      "fertig.\n",
      "  • Lade KN2045_Mix_Base/base_s_20_hourly_none_2045.nc … "
     ]
    },
    {
     "name": "stderr",
     "output_type": "stream",
     "text": [
      "INFO:pypsa.io:Imported network base_s_20_hourly_none_2045.nc has buses, carriers, generators, global_constraints, lines, links, loads, storage_units, stores\n"
     ]
    },
    {
     "name": "stdout",
     "output_type": "stream",
     "text": [
      "fertig.\n",
      "  • Lade KN2045_Mix_Base/base_s_20_hourly_none_2050.nc … "
     ]
    },
    {
     "name": "stderr",
     "output_type": "stream",
     "text": [
      "INFO:pypsa.io:Imported network base_s_20_hourly_none_2050.nc has buses, carriers, generators, global_constraints, lines, links, loads, storage_units, stores\n"
     ]
    },
    {
     "name": "stdout",
     "output_type": "stream",
     "text": [
      "fertig.\n",
      "— Fertig mit Szenario 'KN2045_Mix_Base'\n"
     ]
    }
   ],
   "source": [
    "# Nur „FokusStrom“ und „Technologiemix“ einlesen, „FokusH2“ ausschließen:\n",
    "results = load_all_scenarios(\"../results\", exclude_scenarios=[\"KN2045_Mix_1H_DE_1ZONE\", \"KN2045_Mix_3H_DE_1ZONE_FW\", \"KN2045_Mix_3H_DE_1ZONE\", \"Technologiemix\"])\n",
    "df_energy    = results[\"energy\"]\n",
    "df_power     = results[\"power\"]\n",
    "df_discharge = results[\"discharge\"]\n",
    "df_bev_range = results[\"bev\"]\n"
   ]
  },
  {
   "cell_type": "code",
   "execution_count": null,
   "id": "b70722c7",
   "metadata": {},
   "outputs": [],
   "source": [
    "# Einzelne Szenarien nachträglich laden und an bestehende DataFrames anhängen\n",
    "\n",
    "# 1) Bereits existierende DataFrames (alle alten Szenarien)\n",
    "df_energy    # <bereits gebaut>\n",
    "df_power     # <bereits gebaut>\n",
    "df_discharge # <bereits gebaut>\n",
    "\n",
    "# 2) Lese nur das fehlende Szenario nach:\n",
    "base_folder = \"results\"\n",
    "new_scenario = \"MeinsSzenario11\"\n",
    "\n",
    "# Wir können load_all_scenarios modifizieren, sodass es wahlweise NUR\n",
    "# dieses eine Szenario einliest (statt über alle zu iterieren). \n",
    "# Dafür definieren wir eine Variante:\n",
    "\n",
    "def load_single_scenario(base_folder: str, scenario_name: str):\n",
    "    net_folder = os.path.join(base_folder, scenario_name, \"networks\")\n",
    "    nc_files = [f for f in os.listdir(net_folder) if f.lower().endswith(\".nc\")]\n",
    "    \n",
    "    energy_rows_loc    = []\n",
    "    power_rows_loc     = []\n",
    "    discharge_rows_loc = []\n",
    "    \n",
    "    for fn in nc_files:\n",
    "        pfad = os.path.join(net_folder, fn)\n",
    "        jahr = parse_year_from_filename(fn)\n",
    "        year_label = jahr if jahr is not None else fn\n",
    "        \n",
    "        net = pypsa.Network(pfad)\n",
    "        metrics = extract_metrics_from_network(net, scenario_name, year_label)\n",
    "        \n",
    "        energy_rows_loc   .extend(metrics[\"energy\"])\n",
    "        power_rows_loc    .extend(metrics[\"power\"])\n",
    "        discharge_rows_loc.extend(metrics[\"discharge\"])\n",
    "        \n",
    "        del net\n",
    "        gc.collect()\n",
    "    \n",
    "    df_energy_loc    = pd.DataFrame(energy_rows_loc)\n",
    "    df_power_loc     = pd.DataFrame(power_rows_loc)\n",
    "    df_discharge_loc = pd.DataFrame(discharge_rows_loc)\n",
    "    \n",
    "    # Sortierung analog\n",
    "    sort_cols = [\"Scenario\", \"Type\", \"Year\"]\n",
    "    df_energy_loc    = df_energy_loc   .sort_values(sort_cols).reset_index(drop=True)\n",
    "    df_power_loc     = df_power_loc    .sort_values(sort_cols).reset_index(drop=True)\n",
    "    df_discharge_loc = df_discharge_loc.sort_values(sort_cols).reset_index(drop=True)\n",
    "    \n",
    "    return df_energy_loc, df_power_loc, df_discharge_loc\n",
    "\n",
    "# 3) Rufe load_single_scenario für das neue Szenario auf:\n",
    "df_energy_new, df_power_new, df_discharge_new = load_single_scenario(base_folder, new_scenario)\n",
    "\n",
    "# 4) Hänge an die existierenden DataFrames an:\n",
    "df_energy    = pd.concat([df_energy,    df_energy_new],    ignore_index=True)\n",
    "df_power     = pd.concat([df_power,     df_power_new],     ignore_index=True)\n",
    "df_discharge = pd.concat([df_discharge, df_discharge_new], ignore_index=True)\n",
    "\n",
    "# 5) (Optional) Sortiere wieder, um alles sauber geordnet zu haben:\n",
    "df_energy    = df_energy   .sort_values([\"Scenario\",\"Type\",\"Year\"]).reset_index(drop=True)\n",
    "df_power     = df_power    .sort_values([\"Scenario\",\"Type\",\"Year\"]).reset_index(drop=True)\n",
    "df_discharge = df_discharge.sort_values([\"Scenario\",\"Type\",\"Year\"]).reset_index(drop=True)\n"
   ]
  },
  {
   "cell_type": "code",
   "execution_count": 37,
   "id": "068136c6",
   "metadata": {},
   "outputs": [
    {
     "name": "stdout",
     "output_type": "stream",
     "text": [
      "=== df_energy  === (63, 4)\n",
      "     Scenario  Year        Type  Value [GWh]\n",
      "0  KN2045_Mix  2020  EV battery     0.000000\n",
      "1  KN2045_Mix  2025  EV battery     0.000000\n",
      "2  KN2045_Mix  2030  EV battery   357.869827\n",
      "3  KN2045_Mix  2035  EV battery   536.804741\n",
      "4  KN2045_Mix  2040  EV battery   835.029597 \n",
      "\n",
      "=== df_power   === (63, 4)\n",
      "     Scenario  Year        Type  Value [GW]\n",
      "0  KN2045_Mix  2020  EV battery   26.243787\n",
      "1  KN2045_Mix  2025  EV battery   78.731362\n",
      "2  KN2045_Mix  2030  EV battery  157.462724\n",
      "3  KN2045_Mix  2035  EV battery  236.194086\n",
      "4  KN2045_Mix  2040  EV battery  367.413023 \n",
      "\n",
      "=== df_discharge === (37, 4)\n",
      "     Scenario  Year                Type  Value [TWh]\n",
      "0  KN2045_Mix  2020  battery discharger     0.021825\n",
      "1  KN2045_Mix  2025  battery discharger     0.000997\n",
      "2  KN2045_Mix  2030  battery discharger     9.260110\n",
      "3  KN2045_Mix  2035  battery discharger    63.243250\n",
      "4  KN2045_Mix  2040  battery discharger    84.031608 \n",
      "\n",
      "=== df_bev_range === (63, 4)\n",
      "     Scenario  Year                            Type  Value [GW]\n",
      "0  KN2045_Mix  2020  EV battery (BEV charger) - Max   24.895686\n",
      "1  KN2045_Mix  2025  EV battery (BEV charger) - Max   74.687057\n",
      "2  KN2045_Mix  2030  EV battery (BEV charger) - Max  149.374114\n",
      "3  KN2045_Mix  2035  EV battery (BEV charger) - Max  224.061170\n",
      "4  KN2045_Mix  2040  EV battery (BEV charger) - Max  348.539598\n"
     ]
    }
   ],
   "source": [
    "print(\"=== df_energy  ===\", df_energy.shape)\n",
    "print(df_energy.head(), \"\\n\")\n",
    "print(\"=== df_power   ===\", df_power.shape)\n",
    "print(df_power.head(), \"\\n\")\n",
    "print(\"=== df_discharge ===\", df_discharge.shape)\n",
    "print(df_discharge.head(), \"\\n\")\n",
    "print(\"=== df_bev_range ===\", df_bev_range.shape)\n",
    "print(df_bev_range.head())\n"
   ]
  },
  {
   "cell_type": "code",
   "execution_count": 38,
   "id": "f310a320",
   "metadata": {},
   "outputs": [
    {
     "name": "stderr",
     "output_type": "stream",
     "text": [
      "c:\\Users\\morit\\.conda\\envs\\pypsa-de\\Lib\\site-packages\\_plotly_utils\\basevalidators.py:2596: DeprecationWarning:\n",
      "\n",
      "*scattermapbox* is deprecated! Use *scattermap* instead. Learn more at: https://plotly.com/python/mapbox-to-maplibre/\n",
      "\n"
     ]
    },
    {
     "data": {
      "application/vnd.plotly.v1+json": {
       "config": {
        "plotlyServerURL": "https://plot.ly"
       },
       "data": [
        {
         "hovertemplate": "Type=EV battery<br>Year=%{x}<br>Value [GW]=%{y}<extra></extra>",
         "legendgroup": "EV battery",
         "line": {
          "color": "#636efa",
          "dash": "solid"
         },
         "marker": {
          "symbol": "circle"
         },
         "mode": "lines+markers",
         "name": "EV battery",
         "orientation": "v",
         "showlegend": true,
         "type": "scatter",
         "x": {
          "bdata": "5AfpB+4H8wf4B/0HAgjkB+kH7gfzB/gH/QcCCOQH6QfuB/MH+Af9BwII",
          "dtype": "i2"
         },
         "xaxis": "x",
         "y": {
          "bdata": "sG0H2Wg+OkBEksWizq5TQESSxaLOrmNAZlso9DWGbUD6f+a9m/Z2QIvkl2ZP4ntAQtK4gRwqf0CwbQfZaD46QESSxaLOrlNARJLFos6uY0BmWyj0NYZtQPp/5r2b9nZAi+SXZk/ie0BC0riBHCp/QLJtB9loPjpARpLFos6uU0BGksWizq5jQGhbKPQ1hm1A/H/mvZv2dkCN5JdmT+J7QETSuIEcKn9A",
          "dtype": "f8"
         },
         "yaxis": "y"
        },
        {
         "hovertemplate": "Type=Home battery<br>Year=%{x}<br>Value [GW]=%{y}<extra></extra>",
         "legendgroup": "Home battery",
         "line": {
          "color": "#EF553B",
          "dash": "solid"
         },
         "marker": {
          "symbol": "circle"
         },
         "mode": "lines+markers",
         "name": "Home battery",
         "orientation": "v",
         "showlegend": true,
         "type": "scatter",
         "x": {
          "bdata": "5AfpB+4H8wf4B/0HAgjkB+kH7gfzB/gH/QcCCOQH6QfuB/MH+Af9BwII",
          "dtype": "i2"
         },
         "xaxis": "x",
         "y": {
          "bdata": "Vvvmp3l+0j+S0bqKxbkCQJuX9gAarABAUMh9QbkOHUDjBJLcogEfQGbqJBt4DhVAVLuzJ8McFkCue6uqLeJIP8f28qLmOEo/8D3SjPwd4T/kuTni7OH/PyGtuJzYdvs/8810Eg4/8z8Bj9nPd1XzPy9+zuAuj3E+Et4LfCPOEUC6PLwig980QJiiREOgA0NA/JNs1gQmS0DdOibjLHdOQNs6JuMsd05A",
          "dtype": "f8"
         },
         "yaxis": "y"
        },
        {
         "hovertemplate": "Type=Utility-scale battery<br>Year=%{x}<br>Value [GW]=%{y}<extra></extra>",
         "legendgroup": "Utility-scale battery",
         "line": {
          "color": "#00cc96",
          "dash": "solid"
         },
         "marker": {
          "symbol": "circle"
         },
         "mode": "lines+markers",
         "name": "Utility-scale battery",
         "orientation": "v",
         "showlegend": true,
         "type": "scatter",
         "x": {
          "bdata": "5AfpB+4H8wf4B/0HAgjkB+kH7gfzB/gH/QcCCOQH6QfuB/MH+Af9BwII",
          "dtype": "i2"
         },
         "xaxis": "x",
         "y": {
          "bdata": "6f46yCZTgz8UdIt1o9ZBPzPM4MbB0RBAmKdKiOu3P0A4lv4v++9GQDoizHy4CUdApa19a6nlUED22ApdhM9AP7Amz8BFCEA/Km8/o1cGEkBSpUd1cDJAQKohjHSfr0dA9rXzoKyvR0Bo7YvjKiBQQEK7t2OAp3g+exREE0iwRT3BynUJrwVEPST1msjU17o+49UC8PdfRz2P2lQ9HpwYPbJpjRlm0RE9",
          "dtype": "f8"
         },
         "yaxis": "y"
        }
       ],
       "layout": {
        "legend": {
         "title": {
          "text": "Type"
         },
         "tracegroupgap": 0
        },
        "template": {
         "data": {
          "bar": [
           {
            "error_x": {
             "color": "#2a3f5f"
            },
            "error_y": {
             "color": "#2a3f5f"
            },
            "marker": {
             "line": {
              "color": "#E5ECF6",
              "width": 0.5
             },
             "pattern": {
              "fillmode": "overlay",
              "size": 10,
              "solidity": 0.2
             }
            },
            "type": "bar"
           }
          ],
          "barpolar": [
           {
            "marker": {
             "line": {
              "color": "#E5ECF6",
              "width": 0.5
             },
             "pattern": {
              "fillmode": "overlay",
              "size": 10,
              "solidity": 0.2
             }
            },
            "type": "barpolar"
           }
          ],
          "carpet": [
           {
            "aaxis": {
             "endlinecolor": "#2a3f5f",
             "gridcolor": "white",
             "linecolor": "white",
             "minorgridcolor": "white",
             "startlinecolor": "#2a3f5f"
            },
            "baxis": {
             "endlinecolor": "#2a3f5f",
             "gridcolor": "white",
             "linecolor": "white",
             "minorgridcolor": "white",
             "startlinecolor": "#2a3f5f"
            },
            "type": "carpet"
           }
          ],
          "choropleth": [
           {
            "colorbar": {
             "outlinewidth": 0,
             "ticks": ""
            },
            "type": "choropleth"
           }
          ],
          "contour": [
           {
            "colorbar": {
             "outlinewidth": 0,
             "ticks": ""
            },
            "colorscale": [
             [
              0,
              "#0d0887"
             ],
             [
              0.1111111111111111,
              "#46039f"
             ],
             [
              0.2222222222222222,
              "#7201a8"
             ],
             [
              0.3333333333333333,
              "#9c179e"
             ],
             [
              0.4444444444444444,
              "#bd3786"
             ],
             [
              0.5555555555555556,
              "#d8576b"
             ],
             [
              0.6666666666666666,
              "#ed7953"
             ],
             [
              0.7777777777777778,
              "#fb9f3a"
             ],
             [
              0.8888888888888888,
              "#fdca26"
             ],
             [
              1,
              "#f0f921"
             ]
            ],
            "type": "contour"
           }
          ],
          "contourcarpet": [
           {
            "colorbar": {
             "outlinewidth": 0,
             "ticks": ""
            },
            "type": "contourcarpet"
           }
          ],
          "heatmap": [
           {
            "colorbar": {
             "outlinewidth": 0,
             "ticks": ""
            },
            "colorscale": [
             [
              0,
              "#0d0887"
             ],
             [
              0.1111111111111111,
              "#46039f"
             ],
             [
              0.2222222222222222,
              "#7201a8"
             ],
             [
              0.3333333333333333,
              "#9c179e"
             ],
             [
              0.4444444444444444,
              "#bd3786"
             ],
             [
              0.5555555555555556,
              "#d8576b"
             ],
             [
              0.6666666666666666,
              "#ed7953"
             ],
             [
              0.7777777777777778,
              "#fb9f3a"
             ],
             [
              0.8888888888888888,
              "#fdca26"
             ],
             [
              1,
              "#f0f921"
             ]
            ],
            "type": "heatmap"
           }
          ],
          "histogram": [
           {
            "marker": {
             "pattern": {
              "fillmode": "overlay",
              "size": 10,
              "solidity": 0.2
             }
            },
            "type": "histogram"
           }
          ],
          "histogram2d": [
           {
            "colorbar": {
             "outlinewidth": 0,
             "ticks": ""
            },
            "colorscale": [
             [
              0,
              "#0d0887"
             ],
             [
              0.1111111111111111,
              "#46039f"
             ],
             [
              0.2222222222222222,
              "#7201a8"
             ],
             [
              0.3333333333333333,
              "#9c179e"
             ],
             [
              0.4444444444444444,
              "#bd3786"
             ],
             [
              0.5555555555555556,
              "#d8576b"
             ],
             [
              0.6666666666666666,
              "#ed7953"
             ],
             [
              0.7777777777777778,
              "#fb9f3a"
             ],
             [
              0.8888888888888888,
              "#fdca26"
             ],
             [
              1,
              "#f0f921"
             ]
            ],
            "type": "histogram2d"
           }
          ],
          "histogram2dcontour": [
           {
            "colorbar": {
             "outlinewidth": 0,
             "ticks": ""
            },
            "colorscale": [
             [
              0,
              "#0d0887"
             ],
             [
              0.1111111111111111,
              "#46039f"
             ],
             [
              0.2222222222222222,
              "#7201a8"
             ],
             [
              0.3333333333333333,
              "#9c179e"
             ],
             [
              0.4444444444444444,
              "#bd3786"
             ],
             [
              0.5555555555555556,
              "#d8576b"
             ],
             [
              0.6666666666666666,
              "#ed7953"
             ],
             [
              0.7777777777777778,
              "#fb9f3a"
             ],
             [
              0.8888888888888888,
              "#fdca26"
             ],
             [
              1,
              "#f0f921"
             ]
            ],
            "type": "histogram2dcontour"
           }
          ],
          "mesh3d": [
           {
            "colorbar": {
             "outlinewidth": 0,
             "ticks": ""
            },
            "type": "mesh3d"
           }
          ],
          "parcoords": [
           {
            "line": {
             "colorbar": {
              "outlinewidth": 0,
              "ticks": ""
             }
            },
            "type": "parcoords"
           }
          ],
          "pie": [
           {
            "automargin": true,
            "type": "pie"
           }
          ],
          "scatter": [
           {
            "fillpattern": {
             "fillmode": "overlay",
             "size": 10,
             "solidity": 0.2
            },
            "type": "scatter"
           }
          ],
          "scatter3d": [
           {
            "line": {
             "colorbar": {
              "outlinewidth": 0,
              "ticks": ""
             }
            },
            "marker": {
             "colorbar": {
              "outlinewidth": 0,
              "ticks": ""
             }
            },
            "type": "scatter3d"
           }
          ],
          "scattercarpet": [
           {
            "marker": {
             "colorbar": {
              "outlinewidth": 0,
              "ticks": ""
             }
            },
            "type": "scattercarpet"
           }
          ],
          "scattergeo": [
           {
            "marker": {
             "colorbar": {
              "outlinewidth": 0,
              "ticks": ""
             }
            },
            "type": "scattergeo"
           }
          ],
          "scattergl": [
           {
            "marker": {
             "colorbar": {
              "outlinewidth": 0,
              "ticks": ""
             }
            },
            "type": "scattergl"
           }
          ],
          "scattermap": [
           {
            "marker": {
             "colorbar": {
              "outlinewidth": 0,
              "ticks": ""
             }
            },
            "type": "scattermap"
           }
          ],
          "scattermapbox": [
           {
            "marker": {
             "colorbar": {
              "outlinewidth": 0,
              "ticks": ""
             }
            },
            "type": "scattermapbox"
           }
          ],
          "scatterpolar": [
           {
            "marker": {
             "colorbar": {
              "outlinewidth": 0,
              "ticks": ""
             }
            },
            "type": "scatterpolar"
           }
          ],
          "scatterpolargl": [
           {
            "marker": {
             "colorbar": {
              "outlinewidth": 0,
              "ticks": ""
             }
            },
            "type": "scatterpolargl"
           }
          ],
          "scatterternary": [
           {
            "marker": {
             "colorbar": {
              "outlinewidth": 0,
              "ticks": ""
             }
            },
            "type": "scatterternary"
           }
          ],
          "surface": [
           {
            "colorbar": {
             "outlinewidth": 0,
             "ticks": ""
            },
            "colorscale": [
             [
              0,
              "#0d0887"
             ],
             [
              0.1111111111111111,
              "#46039f"
             ],
             [
              0.2222222222222222,
              "#7201a8"
             ],
             [
              0.3333333333333333,
              "#9c179e"
             ],
             [
              0.4444444444444444,
              "#bd3786"
             ],
             [
              0.5555555555555556,
              "#d8576b"
             ],
             [
              0.6666666666666666,
              "#ed7953"
             ],
             [
              0.7777777777777778,
              "#fb9f3a"
             ],
             [
              0.8888888888888888,
              "#fdca26"
             ],
             [
              1,
              "#f0f921"
             ]
            ],
            "type": "surface"
           }
          ],
          "table": [
           {
            "cells": {
             "fill": {
              "color": "#EBF0F8"
             },
             "line": {
              "color": "white"
             }
            },
            "header": {
             "fill": {
              "color": "#C8D4E3"
             },
             "line": {
              "color": "white"
             }
            },
            "type": "table"
           }
          ]
         },
         "layout": {
          "annotationdefaults": {
           "arrowcolor": "#2a3f5f",
           "arrowhead": 0,
           "arrowwidth": 1
          },
          "autotypenumbers": "strict",
          "coloraxis": {
           "colorbar": {
            "outlinewidth": 0,
            "ticks": ""
           }
          },
          "colorscale": {
           "diverging": [
            [
             0,
             "#8e0152"
            ],
            [
             0.1,
             "#c51b7d"
            ],
            [
             0.2,
             "#de77ae"
            ],
            [
             0.3,
             "#f1b6da"
            ],
            [
             0.4,
             "#fde0ef"
            ],
            [
             0.5,
             "#f7f7f7"
            ],
            [
             0.6,
             "#e6f5d0"
            ],
            [
             0.7,
             "#b8e186"
            ],
            [
             0.8,
             "#7fbc41"
            ],
            [
             0.9,
             "#4d9221"
            ],
            [
             1,
             "#276419"
            ]
           ],
           "sequential": [
            [
             0,
             "#0d0887"
            ],
            [
             0.1111111111111111,
             "#46039f"
            ],
            [
             0.2222222222222222,
             "#7201a8"
            ],
            [
             0.3333333333333333,
             "#9c179e"
            ],
            [
             0.4444444444444444,
             "#bd3786"
            ],
            [
             0.5555555555555556,
             "#d8576b"
            ],
            [
             0.6666666666666666,
             "#ed7953"
            ],
            [
             0.7777777777777778,
             "#fb9f3a"
            ],
            [
             0.8888888888888888,
             "#fdca26"
            ],
            [
             1,
             "#f0f921"
            ]
           ],
           "sequentialminus": [
            [
             0,
             "#0d0887"
            ],
            [
             0.1111111111111111,
             "#46039f"
            ],
            [
             0.2222222222222222,
             "#7201a8"
            ],
            [
             0.3333333333333333,
             "#9c179e"
            ],
            [
             0.4444444444444444,
             "#bd3786"
            ],
            [
             0.5555555555555556,
             "#d8576b"
            ],
            [
             0.6666666666666666,
             "#ed7953"
            ],
            [
             0.7777777777777778,
             "#fb9f3a"
            ],
            [
             0.8888888888888888,
             "#fdca26"
            ],
            [
             1,
             "#f0f921"
            ]
           ]
          },
          "colorway": [
           "#636efa",
           "#EF553B",
           "#00cc96",
           "#ab63fa",
           "#FFA15A",
           "#19d3f3",
           "#FF6692",
           "#B6E880",
           "#FF97FF",
           "#FECB52"
          ],
          "font": {
           "color": "#2a3f5f"
          },
          "geo": {
           "bgcolor": "white",
           "lakecolor": "white",
           "landcolor": "#E5ECF6",
           "showlakes": true,
           "showland": true,
           "subunitcolor": "white"
          },
          "hoverlabel": {
           "align": "left"
          },
          "hovermode": "closest",
          "mapbox": {
           "style": "light"
          },
          "paper_bgcolor": "white",
          "plot_bgcolor": "#E5ECF6",
          "polar": {
           "angularaxis": {
            "gridcolor": "white",
            "linecolor": "white",
            "ticks": ""
           },
           "bgcolor": "#E5ECF6",
           "radialaxis": {
            "gridcolor": "white",
            "linecolor": "white",
            "ticks": ""
           }
          },
          "scene": {
           "xaxis": {
            "backgroundcolor": "#E5ECF6",
            "gridcolor": "white",
            "gridwidth": 2,
            "linecolor": "white",
            "showbackground": true,
            "ticks": "",
            "zerolinecolor": "white"
           },
           "yaxis": {
            "backgroundcolor": "#E5ECF6",
            "gridcolor": "white",
            "gridwidth": 2,
            "linecolor": "white",
            "showbackground": true,
            "ticks": "",
            "zerolinecolor": "white"
           },
           "zaxis": {
            "backgroundcolor": "#E5ECF6",
            "gridcolor": "white",
            "gridwidth": 2,
            "linecolor": "white",
            "showbackground": true,
            "ticks": "",
            "zerolinecolor": "white"
           }
          },
          "shapedefaults": {
           "line": {
            "color": "#2a3f5f"
           }
          },
          "ternary": {
           "aaxis": {
            "gridcolor": "white",
            "linecolor": "white",
            "ticks": ""
           },
           "baxis": {
            "gridcolor": "white",
            "linecolor": "white",
            "ticks": ""
           },
           "bgcolor": "#E5ECF6",
           "caxis": {
            "gridcolor": "white",
            "linecolor": "white",
            "ticks": ""
           }
          },
          "title": {
           "x": 0.05
          },
          "xaxis": {
           "automargin": true,
           "gridcolor": "white",
           "linecolor": "white",
           "ticks": "",
           "title": {
            "standoff": 15
           },
           "zerolinecolor": "white",
           "zerolinewidth": 2
          },
          "yaxis": {
           "automargin": true,
           "gridcolor": "white",
           "linecolor": "white",
           "ticks": "",
           "title": {
            "standoff": 15
           },
           "zerolinecolor": "white",
           "zerolinewidth": 2
          }
         }
        },
        "title": {
         "text": "Entladeleistung von Batteriespeichern in Deutschland (GW)"
        },
        "xaxis": {
         "anchor": "y",
         "domain": [
          0,
          1
         ],
         "title": {
          "text": "Jahr"
         }
        },
        "yaxis": {
         "anchor": "x",
         "domain": [
          0,
          1
         ],
         "title": {
          "text": "Entladeleistung [GW]"
         }
        }
       }
      }
     },
     "metadata": {},
     "output_type": "display_data"
    },
    {
     "name": "stderr",
     "output_type": "stream",
     "text": [
      "c:\\Users\\morit\\.conda\\envs\\pypsa-de\\Lib\\site-packages\\_plotly_utils\\basevalidators.py:2596: DeprecationWarning:\n",
      "\n",
      "*scattermapbox* is deprecated! Use *scattermap* instead. Learn more at: https://plotly.com/python/mapbox-to-maplibre/\n",
      "\n"
     ]
    },
    {
     "data": {
      "application/vnd.plotly.v1+json": {
       "config": {
        "plotlyServerURL": "https://plot.ly"
       },
       "data": [
        {
         "hovertemplate": "Type=EV battery<br>Year=%{x}<br>Value [GWh]=%{y}<extra></extra>",
         "legendgroup": "EV battery",
         "line": {
          "color": "#636efa",
          "dash": "solid"
         },
         "marker": {
          "symbol": "circle"
         },
         "mode": "lines+markers",
         "name": "EV battery",
         "orientation": "v",
         "showlegend": true,
         "type": "scatter",
         "x": {
          "bdata": "5AfpB+4H8wf4B/0HAgjkB+kH7gfzB/gH/QcCCOQH6QfuB/MH+Af9BwII",
          "dtype": "i2"
         },
         "xaxis": "x",
         "y": {
          "bdata": "AAAAAAAAAAAAAAAAAAAAAJOaPdDqXXZA7zMuHHDGgEBWNJ2dPBiKQPyarFG3r49AXxqGjwS1kUAAAAAAAAAAAAAAAAAAAAAAk5o90OpddkDvMy4ccMaAQFY0nZ08GIpA/JqsUbevj0BfGoaPBLWRQAAAAAAAAAAAAAAAAAAAAACWmj3Q6l12QPEzLhxwxoBAWTSdnTwYikD+mqxRt6+PQGEaho8EtZFA",
          "dtype": "f8"
         },
         "yaxis": "y"
        },
        {
         "hovertemplate": "Type=Home battery<br>Year=%{x}<br>Value [GWh]=%{y}<extra></extra>",
         "legendgroup": "Home battery",
         "line": {
          "color": "#EF553B",
          "dash": "solid"
         },
         "marker": {
          "symbol": "circle"
         },
         "mode": "lines+markers",
         "name": "Home battery",
         "orientation": "v",
         "showlegend": true,
         "type": "scatter",
         "x": {
          "bdata": "5AfpB+4H8wf4B/0HAgjkB+kH7gfzB/gH/QcCCOQH6QfuB/MH+Af9BwII",
          "dtype": "i2"
         },
         "xaxis": "x",
         "y": {
          "bdata": "g1s5kmSK0z/9EH4nsvcVQOGD25jq/SBAL1PCYmT0QkBBjk2gGCxFQLuTJNPgKkVAGEFFJQu1QkAOCBUc7tpiP0YjiWKz6mM/fxoGd/3dAUDXaEwkGPUmQLKGUE3P8CpAnLrmJUnxKkAr3Tnn+PAqQAynwMH7Q3E+z8zMzMyMREACAAAAAGBRQIpRkQAAAFhA93BmZmYGX0AU0szMzGxhQBTSzMzMbGFA",
          "dtype": "f8"
         },
         "yaxis": "y"
        },
        {
         "hovertemplate": "Type=Utility-scale battery<br>Year=%{x}<br>Value [GWh]=%{y}<extra></extra>",
         "legendgroup": "Utility-scale battery",
         "line": {
          "color": "#00cc96",
          "dash": "solid"
         },
         "marker": {
          "symbol": "circle"
         },
         "mode": "lines+markers",
         "name": "Utility-scale battery",
         "orientation": "v",
         "showlegend": true,
         "type": "scatter",
         "x": {
          "bdata": "5AfpB+4H8wf4B/0HAgjkB+kH7gfzB/gH/QcCCOQH6QfuB/MH+Af9BwII",
          "dtype": "i2"
         },
         "xaxis": "x",
         "y": {
          "bdata": "j2eS/G17hz8aV2p9P1lQP4UGg3aHJUBACFsGvw3QcEBWG7Hm5lR4QIKk6O/kVHhAhZU/ijrtgECa3M1pojBDP/HoJmi1O08/Qo5Qql13Q0AN/WzGJX5xQHhxFWK2lHlAPV4r4cSUeUAAWiz6amqBQO3pEgh4LXg+nEQmdF91TD3P91CToZdJPVjh0Kh7t70+VLt+PXRETj0nGWJyUXsePdH6zu72oRM9",
          "dtype": "f8"
         },
         "yaxis": "y"
        }
       ],
       "layout": {
        "legend": {
         "title": {
          "text": "Type"
         },
         "tracegroupgap": 0
        },
        "template": {
         "data": {
          "bar": [
           {
            "error_x": {
             "color": "#2a3f5f"
            },
            "error_y": {
             "color": "#2a3f5f"
            },
            "marker": {
             "line": {
              "color": "#E5ECF6",
              "width": 0.5
             },
             "pattern": {
              "fillmode": "overlay",
              "size": 10,
              "solidity": 0.2
             }
            },
            "type": "bar"
           }
          ],
          "barpolar": [
           {
            "marker": {
             "line": {
              "color": "#E5ECF6",
              "width": 0.5
             },
             "pattern": {
              "fillmode": "overlay",
              "size": 10,
              "solidity": 0.2
             }
            },
            "type": "barpolar"
           }
          ],
          "carpet": [
           {
            "aaxis": {
             "endlinecolor": "#2a3f5f",
             "gridcolor": "white",
             "linecolor": "white",
             "minorgridcolor": "white",
             "startlinecolor": "#2a3f5f"
            },
            "baxis": {
             "endlinecolor": "#2a3f5f",
             "gridcolor": "white",
             "linecolor": "white",
             "minorgridcolor": "white",
             "startlinecolor": "#2a3f5f"
            },
            "type": "carpet"
           }
          ],
          "choropleth": [
           {
            "colorbar": {
             "outlinewidth": 0,
             "ticks": ""
            },
            "type": "choropleth"
           }
          ],
          "contour": [
           {
            "colorbar": {
             "outlinewidth": 0,
             "ticks": ""
            },
            "colorscale": [
             [
              0,
              "#0d0887"
             ],
             [
              0.1111111111111111,
              "#46039f"
             ],
             [
              0.2222222222222222,
              "#7201a8"
             ],
             [
              0.3333333333333333,
              "#9c179e"
             ],
             [
              0.4444444444444444,
              "#bd3786"
             ],
             [
              0.5555555555555556,
              "#d8576b"
             ],
             [
              0.6666666666666666,
              "#ed7953"
             ],
             [
              0.7777777777777778,
              "#fb9f3a"
             ],
             [
              0.8888888888888888,
              "#fdca26"
             ],
             [
              1,
              "#f0f921"
             ]
            ],
            "type": "contour"
           }
          ],
          "contourcarpet": [
           {
            "colorbar": {
             "outlinewidth": 0,
             "ticks": ""
            },
            "type": "contourcarpet"
           }
          ],
          "heatmap": [
           {
            "colorbar": {
             "outlinewidth": 0,
             "ticks": ""
            },
            "colorscale": [
             [
              0,
              "#0d0887"
             ],
             [
              0.1111111111111111,
              "#46039f"
             ],
             [
              0.2222222222222222,
              "#7201a8"
             ],
             [
              0.3333333333333333,
              "#9c179e"
             ],
             [
              0.4444444444444444,
              "#bd3786"
             ],
             [
              0.5555555555555556,
              "#d8576b"
             ],
             [
              0.6666666666666666,
              "#ed7953"
             ],
             [
              0.7777777777777778,
              "#fb9f3a"
             ],
             [
              0.8888888888888888,
              "#fdca26"
             ],
             [
              1,
              "#f0f921"
             ]
            ],
            "type": "heatmap"
           }
          ],
          "histogram": [
           {
            "marker": {
             "pattern": {
              "fillmode": "overlay",
              "size": 10,
              "solidity": 0.2
             }
            },
            "type": "histogram"
           }
          ],
          "histogram2d": [
           {
            "colorbar": {
             "outlinewidth": 0,
             "ticks": ""
            },
            "colorscale": [
             [
              0,
              "#0d0887"
             ],
             [
              0.1111111111111111,
              "#46039f"
             ],
             [
              0.2222222222222222,
              "#7201a8"
             ],
             [
              0.3333333333333333,
              "#9c179e"
             ],
             [
              0.4444444444444444,
              "#bd3786"
             ],
             [
              0.5555555555555556,
              "#d8576b"
             ],
             [
              0.6666666666666666,
              "#ed7953"
             ],
             [
              0.7777777777777778,
              "#fb9f3a"
             ],
             [
              0.8888888888888888,
              "#fdca26"
             ],
             [
              1,
              "#f0f921"
             ]
            ],
            "type": "histogram2d"
           }
          ],
          "histogram2dcontour": [
           {
            "colorbar": {
             "outlinewidth": 0,
             "ticks": ""
            },
            "colorscale": [
             [
              0,
              "#0d0887"
             ],
             [
              0.1111111111111111,
              "#46039f"
             ],
             [
              0.2222222222222222,
              "#7201a8"
             ],
             [
              0.3333333333333333,
              "#9c179e"
             ],
             [
              0.4444444444444444,
              "#bd3786"
             ],
             [
              0.5555555555555556,
              "#d8576b"
             ],
             [
              0.6666666666666666,
              "#ed7953"
             ],
             [
              0.7777777777777778,
              "#fb9f3a"
             ],
             [
              0.8888888888888888,
              "#fdca26"
             ],
             [
              1,
              "#f0f921"
             ]
            ],
            "type": "histogram2dcontour"
           }
          ],
          "mesh3d": [
           {
            "colorbar": {
             "outlinewidth": 0,
             "ticks": ""
            },
            "type": "mesh3d"
           }
          ],
          "parcoords": [
           {
            "line": {
             "colorbar": {
              "outlinewidth": 0,
              "ticks": ""
             }
            },
            "type": "parcoords"
           }
          ],
          "pie": [
           {
            "automargin": true,
            "type": "pie"
           }
          ],
          "scatter": [
           {
            "fillpattern": {
             "fillmode": "overlay",
             "size": 10,
             "solidity": 0.2
            },
            "type": "scatter"
           }
          ],
          "scatter3d": [
           {
            "line": {
             "colorbar": {
              "outlinewidth": 0,
              "ticks": ""
             }
            },
            "marker": {
             "colorbar": {
              "outlinewidth": 0,
              "ticks": ""
             }
            },
            "type": "scatter3d"
           }
          ],
          "scattercarpet": [
           {
            "marker": {
             "colorbar": {
              "outlinewidth": 0,
              "ticks": ""
             }
            },
            "type": "scattercarpet"
           }
          ],
          "scattergeo": [
           {
            "marker": {
             "colorbar": {
              "outlinewidth": 0,
              "ticks": ""
             }
            },
            "type": "scattergeo"
           }
          ],
          "scattergl": [
           {
            "marker": {
             "colorbar": {
              "outlinewidth": 0,
              "ticks": ""
             }
            },
            "type": "scattergl"
           }
          ],
          "scattermap": [
           {
            "marker": {
             "colorbar": {
              "outlinewidth": 0,
              "ticks": ""
             }
            },
            "type": "scattermap"
           }
          ],
          "scattermapbox": [
           {
            "marker": {
             "colorbar": {
              "outlinewidth": 0,
              "ticks": ""
             }
            },
            "type": "scattermapbox"
           }
          ],
          "scatterpolar": [
           {
            "marker": {
             "colorbar": {
              "outlinewidth": 0,
              "ticks": ""
             }
            },
            "type": "scatterpolar"
           }
          ],
          "scatterpolargl": [
           {
            "marker": {
             "colorbar": {
              "outlinewidth": 0,
              "ticks": ""
             }
            },
            "type": "scatterpolargl"
           }
          ],
          "scatterternary": [
           {
            "marker": {
             "colorbar": {
              "outlinewidth": 0,
              "ticks": ""
             }
            },
            "type": "scatterternary"
           }
          ],
          "surface": [
           {
            "colorbar": {
             "outlinewidth": 0,
             "ticks": ""
            },
            "colorscale": [
             [
              0,
              "#0d0887"
             ],
             [
              0.1111111111111111,
              "#46039f"
             ],
             [
              0.2222222222222222,
              "#7201a8"
             ],
             [
              0.3333333333333333,
              "#9c179e"
             ],
             [
              0.4444444444444444,
              "#bd3786"
             ],
             [
              0.5555555555555556,
              "#d8576b"
             ],
             [
              0.6666666666666666,
              "#ed7953"
             ],
             [
              0.7777777777777778,
              "#fb9f3a"
             ],
             [
              0.8888888888888888,
              "#fdca26"
             ],
             [
              1,
              "#f0f921"
             ]
            ],
            "type": "surface"
           }
          ],
          "table": [
           {
            "cells": {
             "fill": {
              "color": "#EBF0F8"
             },
             "line": {
              "color": "white"
             }
            },
            "header": {
             "fill": {
              "color": "#C8D4E3"
             },
             "line": {
              "color": "white"
             }
            },
            "type": "table"
           }
          ]
         },
         "layout": {
          "annotationdefaults": {
           "arrowcolor": "#2a3f5f",
           "arrowhead": 0,
           "arrowwidth": 1
          },
          "autotypenumbers": "strict",
          "coloraxis": {
           "colorbar": {
            "outlinewidth": 0,
            "ticks": ""
           }
          },
          "colorscale": {
           "diverging": [
            [
             0,
             "#8e0152"
            ],
            [
             0.1,
             "#c51b7d"
            ],
            [
             0.2,
             "#de77ae"
            ],
            [
             0.3,
             "#f1b6da"
            ],
            [
             0.4,
             "#fde0ef"
            ],
            [
             0.5,
             "#f7f7f7"
            ],
            [
             0.6,
             "#e6f5d0"
            ],
            [
             0.7,
             "#b8e186"
            ],
            [
             0.8,
             "#7fbc41"
            ],
            [
             0.9,
             "#4d9221"
            ],
            [
             1,
             "#276419"
            ]
           ],
           "sequential": [
            [
             0,
             "#0d0887"
            ],
            [
             0.1111111111111111,
             "#46039f"
            ],
            [
             0.2222222222222222,
             "#7201a8"
            ],
            [
             0.3333333333333333,
             "#9c179e"
            ],
            [
             0.4444444444444444,
             "#bd3786"
            ],
            [
             0.5555555555555556,
             "#d8576b"
            ],
            [
             0.6666666666666666,
             "#ed7953"
            ],
            [
             0.7777777777777778,
             "#fb9f3a"
            ],
            [
             0.8888888888888888,
             "#fdca26"
            ],
            [
             1,
             "#f0f921"
            ]
           ],
           "sequentialminus": [
            [
             0,
             "#0d0887"
            ],
            [
             0.1111111111111111,
             "#46039f"
            ],
            [
             0.2222222222222222,
             "#7201a8"
            ],
            [
             0.3333333333333333,
             "#9c179e"
            ],
            [
             0.4444444444444444,
             "#bd3786"
            ],
            [
             0.5555555555555556,
             "#d8576b"
            ],
            [
             0.6666666666666666,
             "#ed7953"
            ],
            [
             0.7777777777777778,
             "#fb9f3a"
            ],
            [
             0.8888888888888888,
             "#fdca26"
            ],
            [
             1,
             "#f0f921"
            ]
           ]
          },
          "colorway": [
           "#636efa",
           "#EF553B",
           "#00cc96",
           "#ab63fa",
           "#FFA15A",
           "#19d3f3",
           "#FF6692",
           "#B6E880",
           "#FF97FF",
           "#FECB52"
          ],
          "font": {
           "color": "#2a3f5f"
          },
          "geo": {
           "bgcolor": "white",
           "lakecolor": "white",
           "landcolor": "#E5ECF6",
           "showlakes": true,
           "showland": true,
           "subunitcolor": "white"
          },
          "hoverlabel": {
           "align": "left"
          },
          "hovermode": "closest",
          "mapbox": {
           "style": "light"
          },
          "paper_bgcolor": "white",
          "plot_bgcolor": "#E5ECF6",
          "polar": {
           "angularaxis": {
            "gridcolor": "white",
            "linecolor": "white",
            "ticks": ""
           },
           "bgcolor": "#E5ECF6",
           "radialaxis": {
            "gridcolor": "white",
            "linecolor": "white",
            "ticks": ""
           }
          },
          "scene": {
           "xaxis": {
            "backgroundcolor": "#E5ECF6",
            "gridcolor": "white",
            "gridwidth": 2,
            "linecolor": "white",
            "showbackground": true,
            "ticks": "",
            "zerolinecolor": "white"
           },
           "yaxis": {
            "backgroundcolor": "#E5ECF6",
            "gridcolor": "white",
            "gridwidth": 2,
            "linecolor": "white",
            "showbackground": true,
            "ticks": "",
            "zerolinecolor": "white"
           },
           "zaxis": {
            "backgroundcolor": "#E5ECF6",
            "gridcolor": "white",
            "gridwidth": 2,
            "linecolor": "white",
            "showbackground": true,
            "ticks": "",
            "zerolinecolor": "white"
           }
          },
          "shapedefaults": {
           "line": {
            "color": "#2a3f5f"
           }
          },
          "ternary": {
           "aaxis": {
            "gridcolor": "white",
            "linecolor": "white",
            "ticks": ""
           },
           "baxis": {
            "gridcolor": "white",
            "linecolor": "white",
            "ticks": ""
           },
           "bgcolor": "#E5ECF6",
           "caxis": {
            "gridcolor": "white",
            "linecolor": "white",
            "ticks": ""
           }
          },
          "title": {
           "x": 0.05
          },
          "xaxis": {
           "automargin": true,
           "gridcolor": "white",
           "linecolor": "white",
           "ticks": "",
           "title": {
            "standoff": 15
           },
           "zerolinecolor": "white",
           "zerolinewidth": 2
          },
          "yaxis": {
           "automargin": true,
           "gridcolor": "white",
           "linecolor": "white",
           "ticks": "",
           "title": {
            "standoff": 15
           },
           "zerolinecolor": "white",
           "zerolinewidth": 2
          }
         }
        },
        "title": {
         "text": "Energiespeicherkapazität von Batteriespeichern in Deutschland (GWh)"
        },
        "xaxis": {
         "anchor": "y",
         "domain": [
          0,
          1
         ],
         "title": {
          "text": "Jahr"
         }
        },
        "yaxis": {
         "anchor": "x",
         "domain": [
          0,
          1
         ],
         "title": {
          "text": "Kapazität [GWh]"
         }
        }
       }
      }
     },
     "metadata": {},
     "output_type": "display_data"
    },
    {
     "name": "stderr",
     "output_type": "stream",
     "text": [
      "c:\\Users\\morit\\.conda\\envs\\pypsa-de\\Lib\\site-packages\\_plotly_utils\\basevalidators.py:2596: DeprecationWarning:\n",
      "\n",
      "*scattermapbox* is deprecated! Use *scattermap* instead. Learn more at: https://plotly.com/python/mapbox-to-maplibre/\n",
      "\n"
     ]
    },
    {
     "data": {
      "application/vnd.plotly.v1+json": {
       "config": {
        "plotlyServerURL": "https://plot.ly"
       },
       "data": [
        {
         "alignmentgroup": "True",
         "hovertemplate": "Type=Utility-scale battery<br>Year=%{x}<br>Value [TWh]=%{y}<extra></extra>",
         "legendgroup": "Utility-scale battery",
         "marker": {
          "color": "#636efa",
          "pattern": {
           "shape": ""
          }
         },
         "name": "Utility-scale battery",
         "offsetgroup": "Utility-scale battery",
         "orientation": "v",
         "showlegend": true,
         "textposition": "auto",
         "type": "bar",
         "x": {
          "bdata": "5AfpB+4H8wf4B/0HAgjkB+kH7gfzB/gH/QcCCOQH8wc=",
          "dtype": "i2"
         },
         "xaxis": "x",
         "y": {
          "bdata": "+KANqmNZlj+wqW9ax1ZQP9B+DRwthSJAOVL20SKfT0DwxNLeBQJVQLp2P7FpoVRAY7cS97goXUAl1je6WptXPwJs7kOuZUk/Hbr+A81cJUBUA3XJW1hQQOod7zoG3FVA8a7vLNB4VUBox7hYkdZcQOaUo2XxT5c+/szL11XU1z4=",
          "dtype": "f8"
         },
         "yaxis": "y"
        },
        {
         "alignmentgroup": "True",
         "hovertemplate": "Type=Home battery<br>Year=%{x}<br>Value [TWh]=%{y}<extra></extra>",
         "legendgroup": "Home battery",
         "marker": {
          "color": "#EF553B",
          "pattern": {
           "shape": ""
          }
         },
         "name": "Home battery",
         "offsetgroup": "Home battery",
         "orientation": "v",
         "showlegend": true,
         "textposition": "auto",
         "type": "bar",
         "x": {
          "bdata": "5AfpB+4H8wf4B/0HAgjkB+kH7gfzB/gH/QcCCOQH6QfuB/MH+Af9BwII",
          "dtype": "i2"
         },
         "xaxis": "x",
         "y": {
          "bdata": "/0qRGy+Sqj/heSRlQhz+P6cx9q5VNQNA1ta0MTgAIkB+4gNp7UghQL/JZB0sZR9Aj9HmS+DfGkDzWP96qr1ZP++QfKG2GlM/kYHJVvxp5D+qdlE7rEAFQA3bkcXFmARAl8/gWfwXAkCyXiE3cDcBQPEXOV96aJA+3GLKh3SQpD/kdMYxum6xP7JmlhMcFrg/tuylgLIgvz/yrwjYkXvRP6JvC9iRe8E/",
          "dtype": "f8"
         },
         "yaxis": "y"
        }
       ],
       "layout": {
        "barmode": "group",
        "legend": {
         "title": {
          "text": "Type"
         },
         "tracegroupgap": 0
        },
        "template": {
         "data": {
          "bar": [
           {
            "error_x": {
             "color": "#2a3f5f"
            },
            "error_y": {
             "color": "#2a3f5f"
            },
            "marker": {
             "line": {
              "color": "#E5ECF6",
              "width": 0.5
             },
             "pattern": {
              "fillmode": "overlay",
              "size": 10,
              "solidity": 0.2
             }
            },
            "type": "bar"
           }
          ],
          "barpolar": [
           {
            "marker": {
             "line": {
              "color": "#E5ECF6",
              "width": 0.5
             },
             "pattern": {
              "fillmode": "overlay",
              "size": 10,
              "solidity": 0.2
             }
            },
            "type": "barpolar"
           }
          ],
          "carpet": [
           {
            "aaxis": {
             "endlinecolor": "#2a3f5f",
             "gridcolor": "white",
             "linecolor": "white",
             "minorgridcolor": "white",
             "startlinecolor": "#2a3f5f"
            },
            "baxis": {
             "endlinecolor": "#2a3f5f",
             "gridcolor": "white",
             "linecolor": "white",
             "minorgridcolor": "white",
             "startlinecolor": "#2a3f5f"
            },
            "type": "carpet"
           }
          ],
          "choropleth": [
           {
            "colorbar": {
             "outlinewidth": 0,
             "ticks": ""
            },
            "type": "choropleth"
           }
          ],
          "contour": [
           {
            "colorbar": {
             "outlinewidth": 0,
             "ticks": ""
            },
            "colorscale": [
             [
              0,
              "#0d0887"
             ],
             [
              0.1111111111111111,
              "#46039f"
             ],
             [
              0.2222222222222222,
              "#7201a8"
             ],
             [
              0.3333333333333333,
              "#9c179e"
             ],
             [
              0.4444444444444444,
              "#bd3786"
             ],
             [
              0.5555555555555556,
              "#d8576b"
             ],
             [
              0.6666666666666666,
              "#ed7953"
             ],
             [
              0.7777777777777778,
              "#fb9f3a"
             ],
             [
              0.8888888888888888,
              "#fdca26"
             ],
             [
              1,
              "#f0f921"
             ]
            ],
            "type": "contour"
           }
          ],
          "contourcarpet": [
           {
            "colorbar": {
             "outlinewidth": 0,
             "ticks": ""
            },
            "type": "contourcarpet"
           }
          ],
          "heatmap": [
           {
            "colorbar": {
             "outlinewidth": 0,
             "ticks": ""
            },
            "colorscale": [
             [
              0,
              "#0d0887"
             ],
             [
              0.1111111111111111,
              "#46039f"
             ],
             [
              0.2222222222222222,
              "#7201a8"
             ],
             [
              0.3333333333333333,
              "#9c179e"
             ],
             [
              0.4444444444444444,
              "#bd3786"
             ],
             [
              0.5555555555555556,
              "#d8576b"
             ],
             [
              0.6666666666666666,
              "#ed7953"
             ],
             [
              0.7777777777777778,
              "#fb9f3a"
             ],
             [
              0.8888888888888888,
              "#fdca26"
             ],
             [
              1,
              "#f0f921"
             ]
            ],
            "type": "heatmap"
           }
          ],
          "histogram": [
           {
            "marker": {
             "pattern": {
              "fillmode": "overlay",
              "size": 10,
              "solidity": 0.2
             }
            },
            "type": "histogram"
           }
          ],
          "histogram2d": [
           {
            "colorbar": {
             "outlinewidth": 0,
             "ticks": ""
            },
            "colorscale": [
             [
              0,
              "#0d0887"
             ],
             [
              0.1111111111111111,
              "#46039f"
             ],
             [
              0.2222222222222222,
              "#7201a8"
             ],
             [
              0.3333333333333333,
              "#9c179e"
             ],
             [
              0.4444444444444444,
              "#bd3786"
             ],
             [
              0.5555555555555556,
              "#d8576b"
             ],
             [
              0.6666666666666666,
              "#ed7953"
             ],
             [
              0.7777777777777778,
              "#fb9f3a"
             ],
             [
              0.8888888888888888,
              "#fdca26"
             ],
             [
              1,
              "#f0f921"
             ]
            ],
            "type": "histogram2d"
           }
          ],
          "histogram2dcontour": [
           {
            "colorbar": {
             "outlinewidth": 0,
             "ticks": ""
            },
            "colorscale": [
             [
              0,
              "#0d0887"
             ],
             [
              0.1111111111111111,
              "#46039f"
             ],
             [
              0.2222222222222222,
              "#7201a8"
             ],
             [
              0.3333333333333333,
              "#9c179e"
             ],
             [
              0.4444444444444444,
              "#bd3786"
             ],
             [
              0.5555555555555556,
              "#d8576b"
             ],
             [
              0.6666666666666666,
              "#ed7953"
             ],
             [
              0.7777777777777778,
              "#fb9f3a"
             ],
             [
              0.8888888888888888,
              "#fdca26"
             ],
             [
              1,
              "#f0f921"
             ]
            ],
            "type": "histogram2dcontour"
           }
          ],
          "mesh3d": [
           {
            "colorbar": {
             "outlinewidth": 0,
             "ticks": ""
            },
            "type": "mesh3d"
           }
          ],
          "parcoords": [
           {
            "line": {
             "colorbar": {
              "outlinewidth": 0,
              "ticks": ""
             }
            },
            "type": "parcoords"
           }
          ],
          "pie": [
           {
            "automargin": true,
            "type": "pie"
           }
          ],
          "scatter": [
           {
            "fillpattern": {
             "fillmode": "overlay",
             "size": 10,
             "solidity": 0.2
            },
            "type": "scatter"
           }
          ],
          "scatter3d": [
           {
            "line": {
             "colorbar": {
              "outlinewidth": 0,
              "ticks": ""
             }
            },
            "marker": {
             "colorbar": {
              "outlinewidth": 0,
              "ticks": ""
             }
            },
            "type": "scatter3d"
           }
          ],
          "scattercarpet": [
           {
            "marker": {
             "colorbar": {
              "outlinewidth": 0,
              "ticks": ""
             }
            },
            "type": "scattercarpet"
           }
          ],
          "scattergeo": [
           {
            "marker": {
             "colorbar": {
              "outlinewidth": 0,
              "ticks": ""
             }
            },
            "type": "scattergeo"
           }
          ],
          "scattergl": [
           {
            "marker": {
             "colorbar": {
              "outlinewidth": 0,
              "ticks": ""
             }
            },
            "type": "scattergl"
           }
          ],
          "scattermap": [
           {
            "marker": {
             "colorbar": {
              "outlinewidth": 0,
              "ticks": ""
             }
            },
            "type": "scattermap"
           }
          ],
          "scattermapbox": [
           {
            "marker": {
             "colorbar": {
              "outlinewidth": 0,
              "ticks": ""
             }
            },
            "type": "scattermapbox"
           }
          ],
          "scatterpolar": [
           {
            "marker": {
             "colorbar": {
              "outlinewidth": 0,
              "ticks": ""
             }
            },
            "type": "scatterpolar"
           }
          ],
          "scatterpolargl": [
           {
            "marker": {
             "colorbar": {
              "outlinewidth": 0,
              "ticks": ""
             }
            },
            "type": "scatterpolargl"
           }
          ],
          "scatterternary": [
           {
            "marker": {
             "colorbar": {
              "outlinewidth": 0,
              "ticks": ""
             }
            },
            "type": "scatterternary"
           }
          ],
          "surface": [
           {
            "colorbar": {
             "outlinewidth": 0,
             "ticks": ""
            },
            "colorscale": [
             [
              0,
              "#0d0887"
             ],
             [
              0.1111111111111111,
              "#46039f"
             ],
             [
              0.2222222222222222,
              "#7201a8"
             ],
             [
              0.3333333333333333,
              "#9c179e"
             ],
             [
              0.4444444444444444,
              "#bd3786"
             ],
             [
              0.5555555555555556,
              "#d8576b"
             ],
             [
              0.6666666666666666,
              "#ed7953"
             ],
             [
              0.7777777777777778,
              "#fb9f3a"
             ],
             [
              0.8888888888888888,
              "#fdca26"
             ],
             [
              1,
              "#f0f921"
             ]
            ],
            "type": "surface"
           }
          ],
          "table": [
           {
            "cells": {
             "fill": {
              "color": "#EBF0F8"
             },
             "line": {
              "color": "white"
             }
            },
            "header": {
             "fill": {
              "color": "#C8D4E3"
             },
             "line": {
              "color": "white"
             }
            },
            "type": "table"
           }
          ]
         },
         "layout": {
          "annotationdefaults": {
           "arrowcolor": "#2a3f5f",
           "arrowhead": 0,
           "arrowwidth": 1
          },
          "autotypenumbers": "strict",
          "coloraxis": {
           "colorbar": {
            "outlinewidth": 0,
            "ticks": ""
           }
          },
          "colorscale": {
           "diverging": [
            [
             0,
             "#8e0152"
            ],
            [
             0.1,
             "#c51b7d"
            ],
            [
             0.2,
             "#de77ae"
            ],
            [
             0.3,
             "#f1b6da"
            ],
            [
             0.4,
             "#fde0ef"
            ],
            [
             0.5,
             "#f7f7f7"
            ],
            [
             0.6,
             "#e6f5d0"
            ],
            [
             0.7,
             "#b8e186"
            ],
            [
             0.8,
             "#7fbc41"
            ],
            [
             0.9,
             "#4d9221"
            ],
            [
             1,
             "#276419"
            ]
           ],
           "sequential": [
            [
             0,
             "#0d0887"
            ],
            [
             0.1111111111111111,
             "#46039f"
            ],
            [
             0.2222222222222222,
             "#7201a8"
            ],
            [
             0.3333333333333333,
             "#9c179e"
            ],
            [
             0.4444444444444444,
             "#bd3786"
            ],
            [
             0.5555555555555556,
             "#d8576b"
            ],
            [
             0.6666666666666666,
             "#ed7953"
            ],
            [
             0.7777777777777778,
             "#fb9f3a"
            ],
            [
             0.8888888888888888,
             "#fdca26"
            ],
            [
             1,
             "#f0f921"
            ]
           ],
           "sequentialminus": [
            [
             0,
             "#0d0887"
            ],
            [
             0.1111111111111111,
             "#46039f"
            ],
            [
             0.2222222222222222,
             "#7201a8"
            ],
            [
             0.3333333333333333,
             "#9c179e"
            ],
            [
             0.4444444444444444,
             "#bd3786"
            ],
            [
             0.5555555555555556,
             "#d8576b"
            ],
            [
             0.6666666666666666,
             "#ed7953"
            ],
            [
             0.7777777777777778,
             "#fb9f3a"
            ],
            [
             0.8888888888888888,
             "#fdca26"
            ],
            [
             1,
             "#f0f921"
            ]
           ]
          },
          "colorway": [
           "#636efa",
           "#EF553B",
           "#00cc96",
           "#ab63fa",
           "#FFA15A",
           "#19d3f3",
           "#FF6692",
           "#B6E880",
           "#FF97FF",
           "#FECB52"
          ],
          "font": {
           "color": "#2a3f5f"
          },
          "geo": {
           "bgcolor": "white",
           "lakecolor": "white",
           "landcolor": "#E5ECF6",
           "showlakes": true,
           "showland": true,
           "subunitcolor": "white"
          },
          "hoverlabel": {
           "align": "left"
          },
          "hovermode": "closest",
          "mapbox": {
           "style": "light"
          },
          "paper_bgcolor": "white",
          "plot_bgcolor": "#E5ECF6",
          "polar": {
           "angularaxis": {
            "gridcolor": "white",
            "linecolor": "white",
            "ticks": ""
           },
           "bgcolor": "#E5ECF6",
           "radialaxis": {
            "gridcolor": "white",
            "linecolor": "white",
            "ticks": ""
           }
          },
          "scene": {
           "xaxis": {
            "backgroundcolor": "#E5ECF6",
            "gridcolor": "white",
            "gridwidth": 2,
            "linecolor": "white",
            "showbackground": true,
            "ticks": "",
            "zerolinecolor": "white"
           },
           "yaxis": {
            "backgroundcolor": "#E5ECF6",
            "gridcolor": "white",
            "gridwidth": 2,
            "linecolor": "white",
            "showbackground": true,
            "ticks": "",
            "zerolinecolor": "white"
           },
           "zaxis": {
            "backgroundcolor": "#E5ECF6",
            "gridcolor": "white",
            "gridwidth": 2,
            "linecolor": "white",
            "showbackground": true,
            "ticks": "",
            "zerolinecolor": "white"
           }
          },
          "shapedefaults": {
           "line": {
            "color": "#2a3f5f"
           }
          },
          "ternary": {
           "aaxis": {
            "gridcolor": "white",
            "linecolor": "white",
            "ticks": ""
           },
           "baxis": {
            "gridcolor": "white",
            "linecolor": "white",
            "ticks": ""
           },
           "bgcolor": "#E5ECF6",
           "caxis": {
            "gridcolor": "white",
            "linecolor": "white",
            "ticks": ""
           }
          },
          "title": {
           "x": 0.05
          },
          "xaxis": {
           "automargin": true,
           "gridcolor": "white",
           "linecolor": "white",
           "ticks": "",
           "title": {
            "standoff": 15
           },
           "zerolinecolor": "white",
           "zerolinewidth": 2
          },
          "yaxis": {
           "automargin": true,
           "gridcolor": "white",
           "linecolor": "white",
           "ticks": "",
           "title": {
            "standoff": 15
           },
           "zerolinecolor": "white",
           "zerolinewidth": 2
          }
         }
        },
        "title": {
         "text": "Jährliche Strombereitstellung durch Batterietechnologien (TWh)"
        },
        "xaxis": {
         "anchor": "y",
         "domain": [
          0,
          1
         ],
         "title": {
          "text": "Jahr"
         }
        },
        "yaxis": {
         "anchor": "x",
         "domain": [
          0,
          1
         ],
         "title": {
          "text": "Bereitstellung [TWh]"
         }
        }
       }
      }
     },
     "metadata": {},
     "output_type": "display_data"
    }
   ],
   "source": [
    "\n",
    "\n",
    "# ---------------------------------------------------------\n",
    "# 1. Plot: Entladeleistung (GW) je Speichertyp über die Jahre\n",
    "# ---------------------------------------------------------\n",
    "# df_power enthält bereits die Spalten: [\"Scenario\", \"Year\", \"Type\", \"Value [GW]\"]\n",
    "\n",
    "fig_gw = px.line(\n",
    "    df_power,\n",
    "    x=\"Year\",\n",
    "    y=\"Value [GW]\",\n",
    "    color=\"Type\",\n",
    "    title=\"Entladeleistung von Batteriespeichern in Deutschland (GW)\",\n",
    "    markers=True\n",
    ")\n",
    "fig_gw.update_layout(\n",
    "    xaxis_title=\"Jahr\",\n",
    "    yaxis_title=\"Entladeleistung [GW]\"\n",
    ")\n",
    "fig_gw.show()\n",
    "\n",
    "\n",
    "\n",
    "# ---------------------------------------------------------\n",
    "# 2. Plot: Energiespeicherkapazität (GWh) je Speichertyp über die Jahre\n",
    "# ---------------------------------------------------------\n",
    "# df_energy enthält bereits die Spalten: [\"Scenario\", \"Year\", \"Type\", \"Value [GWh]\"]\n",
    "\n",
    "fig_gwh = px.line(\n",
    "    df_energy,\n",
    "    x=\"Year\",\n",
    "    y=\"Value [GWh]\",\n",
    "    color=\"Type\",\n",
    "    title=\"Energiespeicherkapazität von Batteriespeichern in Deutschland (GWh)\",\n",
    "    markers=True\n",
    ")\n",
    "fig_gwh.update_layout(\n",
    "    xaxis_title=\"Jahr\",\n",
    "    yaxis_title=\"Kapazität [GWh]\"\n",
    ")\n",
    "fig_gwh.show()\n",
    "\n",
    "\n",
    "\n",
    "# ---------------------------------------------------------\n",
    "# 3. Plot: Jährliche Strombereitstellung durch Batterietechnologien (TWh)\n",
    "# ---------------------------------------------------------\n",
    "# df_discharge enthält Spalten: [\"Scenario\", \"Year\", \"Type\", \"Value [TWh]\"],\n",
    "# wobei \"Type\" hier die Carrier-Namen ist (z. B. \"battery discharger\", \"home battery discharger\", \"V2G\").\n",
    "# Wir mappen sie auf die lesbaren Labels:\n",
    "carrier_map = {\n",
    "    \"battery discharger\":        \"Utility-scale battery\",\n",
    "    \"home battery discharger\":   \"Home battery\",\n",
    "    \"V2G\":                       \"EV battery\"\n",
    "}\n",
    "\n",
    "df_discharge_plot = df_discharge.copy()\n",
    "df_discharge_plot[\"Type\"] = df_discharge_plot[\"Type\"].map(carrier_map)\n",
    "\n",
    "fig_discharge = px.bar(\n",
    "    df_discharge_plot,\n",
    "    x=\"Year\",\n",
    "    y=\"Value [TWh]\",\n",
    "    color=\"Type\",\n",
    "    barmode=\"group\",\n",
    "    title=\"Jährliche Strombereitstellung durch Batterietechnologien (TWh)\"\n",
    ")\n",
    "fig_discharge.update_layout(\n",
    "    xaxis_title=\"Jahr\",\n",
    "    yaxis_title=\"Bereitstellung [TWh]\"\n",
    ")\n",
    "fig_discharge.show()\n"
   ]
  },
  {
   "cell_type": "code",
   "execution_count": 39,
   "id": "2413c3bb",
   "metadata": {},
   "outputs": [
    {
     "name": "stderr",
     "output_type": "stream",
     "text": [
      "c:\\Users\\morit\\.conda\\envs\\pypsa-de\\Lib\\site-packages\\_plotly_utils\\basevalidators.py:2596: DeprecationWarning:\n",
      "\n",
      "*scattermapbox* is deprecated! Use *scattermap* instead. Learn more at: https://plotly.com/python/mapbox-to-maplibre/\n",
      "\n"
     ]
    },
    {
     "data": {
      "application/vnd.plotly.v1+json": {
       "config": {
        "plotlyServerURL": "https://plot.ly"
       },
       "data": [
        {
         "hovertemplate": "Type=EV battery<br>Scenario=KN2045_Mix<br>Year=%{x}<br>Value [GW]=%{y}<extra></extra>",
         "legendgroup": "EV battery",
         "line": {
          "color": "#636efa",
          "dash": "solid"
         },
         "marker": {
          "symbol": "circle"
         },
         "mode": "lines+markers",
         "name": "EV battery",
         "orientation": "v",
         "showlegend": true,
         "type": "scatter",
         "x": {
          "bdata": "5AfpB+4H8wf4B/0HAgg=",
          "dtype": "i2"
         },
         "xaxis": "x",
         "y": {
          "bdata": "sG0H2Wg+OkBEksWizq5TQESSxaLOrmNAZlso9DWGbUD6f+a9m/Z2QIvkl2ZP4ntAQtK4gRwqf0A=",
          "dtype": "f8"
         },
         "yaxis": "y"
        },
        {
         "hovertemplate": "Type=EV battery<br>Scenario=KN2045_Mix_3H<br>Year=%{x}<br>Value [GW]=%{y}<extra></extra>",
         "legendgroup": "EV battery",
         "line": {
          "color": "#636efa",
          "dash": "solid"
         },
         "marker": {
          "symbol": "circle"
         },
         "mode": "lines+markers",
         "name": "EV battery",
         "orientation": "v",
         "showlegend": false,
         "type": "scatter",
         "x": {
          "bdata": "5AfpB+4H8wf4B/0HAgg=",
          "dtype": "i2"
         },
         "xaxis": "x2",
         "y": {
          "bdata": "sG0H2Wg+OkBEksWizq5TQESSxaLOrmNAZlso9DWGbUD6f+a9m/Z2QIvkl2ZP4ntAQtK4gRwqf0A=",
          "dtype": "f8"
         },
         "yaxis": "y2"
        },
        {
         "hovertemplate": "Type=EV battery<br>Scenario=KN2045_Mix_Base<br>Year=%{x}<br>Value [GW]=%{y}<extra></extra>",
         "legendgroup": "EV battery",
         "line": {
          "color": "#636efa",
          "dash": "solid"
         },
         "marker": {
          "symbol": "circle"
         },
         "mode": "lines+markers",
         "name": "EV battery",
         "orientation": "v",
         "showlegend": false,
         "type": "scatter",
         "x": {
          "bdata": "5AfpB+4H8wf4B/0HAgg=",
          "dtype": "i2"
         },
         "xaxis": "x3",
         "y": {
          "bdata": "sm0H2Wg+OkBGksWizq5TQEaSxaLOrmNAaFso9DWGbUD8f+a9m/Z2QI3kl2ZP4ntARNK4gRwqf0A=",
          "dtype": "f8"
         },
         "yaxis": "y3"
        },
        {
         "hovertemplate": "Type=Home battery<br>Scenario=KN2045_Mix<br>Year=%{x}<br>Value [GW]=%{y}<extra></extra>",
         "legendgroup": "Home battery",
         "line": {
          "color": "#EF553B",
          "dash": "solid"
         },
         "marker": {
          "symbol": "circle"
         },
         "mode": "lines+markers",
         "name": "Home battery",
         "orientation": "v",
         "showlegend": true,
         "type": "scatter",
         "x": {
          "bdata": "5AfpB+4H8wf4B/0HAgg=",
          "dtype": "i2"
         },
         "xaxis": "x",
         "y": {
          "bdata": "Vvvmp3l+0j+S0bqKxbkCQJuX9gAarABAUMh9QbkOHUDjBJLcogEfQGbqJBt4DhVAVLuzJ8McFkA=",
          "dtype": "f8"
         },
         "yaxis": "y"
        },
        {
         "hovertemplate": "Type=Home battery<br>Scenario=KN2045_Mix_3H<br>Year=%{x}<br>Value [GW]=%{y}<extra></extra>",
         "legendgroup": "Home battery",
         "line": {
          "color": "#EF553B",
          "dash": "solid"
         },
         "marker": {
          "symbol": "circle"
         },
         "mode": "lines+markers",
         "name": "Home battery",
         "orientation": "v",
         "showlegend": false,
         "type": "scatter",
         "x": {
          "bdata": "5AfpB+4H8wf4B/0HAgg=",
          "dtype": "i2"
         },
         "xaxis": "x2",
         "y": {
          "bdata": "rnurqi3iSD/H9vKi5jhKP/A90oz8HeE/5Lk54uzh/z8hrbic2Hb7P/PNdBIOP/M/AY/Zz3dV8z8=",
          "dtype": "f8"
         },
         "yaxis": "y2"
        },
        {
         "hovertemplate": "Type=Home battery<br>Scenario=KN2045_Mix_Base<br>Year=%{x}<br>Value [GW]=%{y}<extra></extra>",
         "legendgroup": "Home battery",
         "line": {
          "color": "#EF553B",
          "dash": "solid"
         },
         "marker": {
          "symbol": "circle"
         },
         "mode": "lines+markers",
         "name": "Home battery",
         "orientation": "v",
         "showlegend": false,
         "type": "scatter",
         "x": {
          "bdata": "5AfpB+4H8wf4B/0HAgg=",
          "dtype": "i2"
         },
         "xaxis": "x3",
         "y": {
          "bdata": "L37O4C6PcT4S3gt8I84RQLo8vCKD3zRAmKJEQ6ADQ0D8k2zWBCZLQN06JuMsd05A2zom4yx3TkA=",
          "dtype": "f8"
         },
         "yaxis": "y3"
        },
        {
         "hovertemplate": "Type=Utility-scale battery<br>Scenario=KN2045_Mix<br>Year=%{x}<br>Value [GW]=%{y}<extra></extra>",
         "legendgroup": "Utility-scale battery",
         "line": {
          "color": "#00cc96",
          "dash": "solid"
         },
         "marker": {
          "symbol": "circle"
         },
         "mode": "lines+markers",
         "name": "Utility-scale battery",
         "orientation": "v",
         "showlegend": true,
         "type": "scatter",
         "x": {
          "bdata": "5AfpB+4H8wf4B/0HAgg=",
          "dtype": "i2"
         },
         "xaxis": "x",
         "y": {
          "bdata": "6f46yCZTgz8UdIt1o9ZBPzPM4MbB0RBAmKdKiOu3P0A4lv4v++9GQDoizHy4CUdApa19a6nlUEA=",
          "dtype": "f8"
         },
         "yaxis": "y"
        },
        {
         "hovertemplate": "Type=Utility-scale battery<br>Scenario=KN2045_Mix_3H<br>Year=%{x}<br>Value [GW]=%{y}<extra></extra>",
         "legendgroup": "Utility-scale battery",
         "line": {
          "color": "#00cc96",
          "dash": "solid"
         },
         "marker": {
          "symbol": "circle"
         },
         "mode": "lines+markers",
         "name": "Utility-scale battery",
         "orientation": "v",
         "showlegend": false,
         "type": "scatter",
         "x": {
          "bdata": "5AfpB+4H8wf4B/0HAgg=",
          "dtype": "i2"
         },
         "xaxis": "x2",
         "y": {
          "bdata": "9tgKXYTPQD+wJs/ARQhAPypvP6NXBhJAUqVHdXAyQECqIYx0n69HQPa186Csr0dAaO2L4yogUEA=",
          "dtype": "f8"
         },
         "yaxis": "y2"
        },
        {
         "hovertemplate": "Type=Utility-scale battery<br>Scenario=KN2045_Mix_Base<br>Year=%{x}<br>Value [GW]=%{y}<extra></extra>",
         "legendgroup": "Utility-scale battery",
         "line": {
          "color": "#00cc96",
          "dash": "solid"
         },
         "marker": {
          "symbol": "circle"
         },
         "mode": "lines+markers",
         "name": "Utility-scale battery",
         "orientation": "v",
         "showlegend": false,
         "type": "scatter",
         "x": {
          "bdata": "5AfpB+4H8wf4B/0HAgg=",
          "dtype": "i2"
         },
         "xaxis": "x3",
         "y": {
          "bdata": "Qru3Y4CneD57FEQTSLBFPcHKdQmvBUQ9JPWayNTXuj7j1QLw919HPY/aVD0enBg9smmNGWbRET0=",
          "dtype": "f8"
         },
         "yaxis": "y3"
        }
       ],
       "layout": {
        "annotations": [
         {
          "font": {},
          "showarrow": false,
          "text": "KN2045_Mix",
          "x": 0.15999999999999998,
          "xanchor": "center",
          "xref": "paper",
          "y": 1,
          "yanchor": "bottom",
          "yref": "paper"
         },
         {
          "font": {},
          "showarrow": false,
          "text": "KN2045_Mix_3H",
          "x": 0.49999999999999994,
          "xanchor": "center",
          "xref": "paper",
          "y": 1,
          "yanchor": "bottom",
          "yref": "paper"
         },
         {
          "font": {},
          "showarrow": false,
          "text": "KN2045_Mix_Base",
          "x": 0.8399999999999999,
          "xanchor": "center",
          "xref": "paper",
          "y": 1,
          "yanchor": "bottom",
          "yref": "paper"
         }
        ],
        "legend": {
         "title": {
          "text": "Speichertyp"
         },
         "tracegroupgap": 0
        },
        "template": {
         "data": {
          "bar": [
           {
            "error_x": {
             "color": "#2a3f5f"
            },
            "error_y": {
             "color": "#2a3f5f"
            },
            "marker": {
             "line": {
              "color": "#E5ECF6",
              "width": 0.5
             },
             "pattern": {
              "fillmode": "overlay",
              "size": 10,
              "solidity": 0.2
             }
            },
            "type": "bar"
           }
          ],
          "barpolar": [
           {
            "marker": {
             "line": {
              "color": "#E5ECF6",
              "width": 0.5
             },
             "pattern": {
              "fillmode": "overlay",
              "size": 10,
              "solidity": 0.2
             }
            },
            "type": "barpolar"
           }
          ],
          "carpet": [
           {
            "aaxis": {
             "endlinecolor": "#2a3f5f",
             "gridcolor": "white",
             "linecolor": "white",
             "minorgridcolor": "white",
             "startlinecolor": "#2a3f5f"
            },
            "baxis": {
             "endlinecolor": "#2a3f5f",
             "gridcolor": "white",
             "linecolor": "white",
             "minorgridcolor": "white",
             "startlinecolor": "#2a3f5f"
            },
            "type": "carpet"
           }
          ],
          "choropleth": [
           {
            "colorbar": {
             "outlinewidth": 0,
             "ticks": ""
            },
            "type": "choropleth"
           }
          ],
          "contour": [
           {
            "colorbar": {
             "outlinewidth": 0,
             "ticks": ""
            },
            "colorscale": [
             [
              0,
              "#0d0887"
             ],
             [
              0.1111111111111111,
              "#46039f"
             ],
             [
              0.2222222222222222,
              "#7201a8"
             ],
             [
              0.3333333333333333,
              "#9c179e"
             ],
             [
              0.4444444444444444,
              "#bd3786"
             ],
             [
              0.5555555555555556,
              "#d8576b"
             ],
             [
              0.6666666666666666,
              "#ed7953"
             ],
             [
              0.7777777777777778,
              "#fb9f3a"
             ],
             [
              0.8888888888888888,
              "#fdca26"
             ],
             [
              1,
              "#f0f921"
             ]
            ],
            "type": "contour"
           }
          ],
          "contourcarpet": [
           {
            "colorbar": {
             "outlinewidth": 0,
             "ticks": ""
            },
            "type": "contourcarpet"
           }
          ],
          "heatmap": [
           {
            "colorbar": {
             "outlinewidth": 0,
             "ticks": ""
            },
            "colorscale": [
             [
              0,
              "#0d0887"
             ],
             [
              0.1111111111111111,
              "#46039f"
             ],
             [
              0.2222222222222222,
              "#7201a8"
             ],
             [
              0.3333333333333333,
              "#9c179e"
             ],
             [
              0.4444444444444444,
              "#bd3786"
             ],
             [
              0.5555555555555556,
              "#d8576b"
             ],
             [
              0.6666666666666666,
              "#ed7953"
             ],
             [
              0.7777777777777778,
              "#fb9f3a"
             ],
             [
              0.8888888888888888,
              "#fdca26"
             ],
             [
              1,
              "#f0f921"
             ]
            ],
            "type": "heatmap"
           }
          ],
          "histogram": [
           {
            "marker": {
             "pattern": {
              "fillmode": "overlay",
              "size": 10,
              "solidity": 0.2
             }
            },
            "type": "histogram"
           }
          ],
          "histogram2d": [
           {
            "colorbar": {
             "outlinewidth": 0,
             "ticks": ""
            },
            "colorscale": [
             [
              0,
              "#0d0887"
             ],
             [
              0.1111111111111111,
              "#46039f"
             ],
             [
              0.2222222222222222,
              "#7201a8"
             ],
             [
              0.3333333333333333,
              "#9c179e"
             ],
             [
              0.4444444444444444,
              "#bd3786"
             ],
             [
              0.5555555555555556,
              "#d8576b"
             ],
             [
              0.6666666666666666,
              "#ed7953"
             ],
             [
              0.7777777777777778,
              "#fb9f3a"
             ],
             [
              0.8888888888888888,
              "#fdca26"
             ],
             [
              1,
              "#f0f921"
             ]
            ],
            "type": "histogram2d"
           }
          ],
          "histogram2dcontour": [
           {
            "colorbar": {
             "outlinewidth": 0,
             "ticks": ""
            },
            "colorscale": [
             [
              0,
              "#0d0887"
             ],
             [
              0.1111111111111111,
              "#46039f"
             ],
             [
              0.2222222222222222,
              "#7201a8"
             ],
             [
              0.3333333333333333,
              "#9c179e"
             ],
             [
              0.4444444444444444,
              "#bd3786"
             ],
             [
              0.5555555555555556,
              "#d8576b"
             ],
             [
              0.6666666666666666,
              "#ed7953"
             ],
             [
              0.7777777777777778,
              "#fb9f3a"
             ],
             [
              0.8888888888888888,
              "#fdca26"
             ],
             [
              1,
              "#f0f921"
             ]
            ],
            "type": "histogram2dcontour"
           }
          ],
          "mesh3d": [
           {
            "colorbar": {
             "outlinewidth": 0,
             "ticks": ""
            },
            "type": "mesh3d"
           }
          ],
          "parcoords": [
           {
            "line": {
             "colorbar": {
              "outlinewidth": 0,
              "ticks": ""
             }
            },
            "type": "parcoords"
           }
          ],
          "pie": [
           {
            "automargin": true,
            "type": "pie"
           }
          ],
          "scatter": [
           {
            "fillpattern": {
             "fillmode": "overlay",
             "size": 10,
             "solidity": 0.2
            },
            "type": "scatter"
           }
          ],
          "scatter3d": [
           {
            "line": {
             "colorbar": {
              "outlinewidth": 0,
              "ticks": ""
             }
            },
            "marker": {
             "colorbar": {
              "outlinewidth": 0,
              "ticks": ""
             }
            },
            "type": "scatter3d"
           }
          ],
          "scattercarpet": [
           {
            "marker": {
             "colorbar": {
              "outlinewidth": 0,
              "ticks": ""
             }
            },
            "type": "scattercarpet"
           }
          ],
          "scattergeo": [
           {
            "marker": {
             "colorbar": {
              "outlinewidth": 0,
              "ticks": ""
             }
            },
            "type": "scattergeo"
           }
          ],
          "scattergl": [
           {
            "marker": {
             "colorbar": {
              "outlinewidth": 0,
              "ticks": ""
             }
            },
            "type": "scattergl"
           }
          ],
          "scattermap": [
           {
            "marker": {
             "colorbar": {
              "outlinewidth": 0,
              "ticks": ""
             }
            },
            "type": "scattermap"
           }
          ],
          "scattermapbox": [
           {
            "marker": {
             "colorbar": {
              "outlinewidth": 0,
              "ticks": ""
             }
            },
            "type": "scattermapbox"
           }
          ],
          "scatterpolar": [
           {
            "marker": {
             "colorbar": {
              "outlinewidth": 0,
              "ticks": ""
             }
            },
            "type": "scatterpolar"
           }
          ],
          "scatterpolargl": [
           {
            "marker": {
             "colorbar": {
              "outlinewidth": 0,
              "ticks": ""
             }
            },
            "type": "scatterpolargl"
           }
          ],
          "scatterternary": [
           {
            "marker": {
             "colorbar": {
              "outlinewidth": 0,
              "ticks": ""
             }
            },
            "type": "scatterternary"
           }
          ],
          "surface": [
           {
            "colorbar": {
             "outlinewidth": 0,
             "ticks": ""
            },
            "colorscale": [
             [
              0,
              "#0d0887"
             ],
             [
              0.1111111111111111,
              "#46039f"
             ],
             [
              0.2222222222222222,
              "#7201a8"
             ],
             [
              0.3333333333333333,
              "#9c179e"
             ],
             [
              0.4444444444444444,
              "#bd3786"
             ],
             [
              0.5555555555555556,
              "#d8576b"
             ],
             [
              0.6666666666666666,
              "#ed7953"
             ],
             [
              0.7777777777777778,
              "#fb9f3a"
             ],
             [
              0.8888888888888888,
              "#fdca26"
             ],
             [
              1,
              "#f0f921"
             ]
            ],
            "type": "surface"
           }
          ],
          "table": [
           {
            "cells": {
             "fill": {
              "color": "#EBF0F8"
             },
             "line": {
              "color": "white"
             }
            },
            "header": {
             "fill": {
              "color": "#C8D4E3"
             },
             "line": {
              "color": "white"
             }
            },
            "type": "table"
           }
          ]
         },
         "layout": {
          "annotationdefaults": {
           "arrowcolor": "#2a3f5f",
           "arrowhead": 0,
           "arrowwidth": 1
          },
          "autotypenumbers": "strict",
          "coloraxis": {
           "colorbar": {
            "outlinewidth": 0,
            "ticks": ""
           }
          },
          "colorscale": {
           "diverging": [
            [
             0,
             "#8e0152"
            ],
            [
             0.1,
             "#c51b7d"
            ],
            [
             0.2,
             "#de77ae"
            ],
            [
             0.3,
             "#f1b6da"
            ],
            [
             0.4,
             "#fde0ef"
            ],
            [
             0.5,
             "#f7f7f7"
            ],
            [
             0.6,
             "#e6f5d0"
            ],
            [
             0.7,
             "#b8e186"
            ],
            [
             0.8,
             "#7fbc41"
            ],
            [
             0.9,
             "#4d9221"
            ],
            [
             1,
             "#276419"
            ]
           ],
           "sequential": [
            [
             0,
             "#0d0887"
            ],
            [
             0.1111111111111111,
             "#46039f"
            ],
            [
             0.2222222222222222,
             "#7201a8"
            ],
            [
             0.3333333333333333,
             "#9c179e"
            ],
            [
             0.4444444444444444,
             "#bd3786"
            ],
            [
             0.5555555555555556,
             "#d8576b"
            ],
            [
             0.6666666666666666,
             "#ed7953"
            ],
            [
             0.7777777777777778,
             "#fb9f3a"
            ],
            [
             0.8888888888888888,
             "#fdca26"
            ],
            [
             1,
             "#f0f921"
            ]
           ],
           "sequentialminus": [
            [
             0,
             "#0d0887"
            ],
            [
             0.1111111111111111,
             "#46039f"
            ],
            [
             0.2222222222222222,
             "#7201a8"
            ],
            [
             0.3333333333333333,
             "#9c179e"
            ],
            [
             0.4444444444444444,
             "#bd3786"
            ],
            [
             0.5555555555555556,
             "#d8576b"
            ],
            [
             0.6666666666666666,
             "#ed7953"
            ],
            [
             0.7777777777777778,
             "#fb9f3a"
            ],
            [
             0.8888888888888888,
             "#fdca26"
            ],
            [
             1,
             "#f0f921"
            ]
           ]
          },
          "colorway": [
           "#636efa",
           "#EF553B",
           "#00cc96",
           "#ab63fa",
           "#FFA15A",
           "#19d3f3",
           "#FF6692",
           "#B6E880",
           "#FF97FF",
           "#FECB52"
          ],
          "font": {
           "color": "#2a3f5f"
          },
          "geo": {
           "bgcolor": "white",
           "lakecolor": "white",
           "landcolor": "#E5ECF6",
           "showlakes": true,
           "showland": true,
           "subunitcolor": "white"
          },
          "hoverlabel": {
           "align": "left"
          },
          "hovermode": "closest",
          "mapbox": {
           "style": "light"
          },
          "paper_bgcolor": "white",
          "plot_bgcolor": "#E5ECF6",
          "polar": {
           "angularaxis": {
            "gridcolor": "white",
            "linecolor": "white",
            "ticks": ""
           },
           "bgcolor": "#E5ECF6",
           "radialaxis": {
            "gridcolor": "white",
            "linecolor": "white",
            "ticks": ""
           }
          },
          "scene": {
           "xaxis": {
            "backgroundcolor": "#E5ECF6",
            "gridcolor": "white",
            "gridwidth": 2,
            "linecolor": "white",
            "showbackground": true,
            "ticks": "",
            "zerolinecolor": "white"
           },
           "yaxis": {
            "backgroundcolor": "#E5ECF6",
            "gridcolor": "white",
            "gridwidth": 2,
            "linecolor": "white",
            "showbackground": true,
            "ticks": "",
            "zerolinecolor": "white"
           },
           "zaxis": {
            "backgroundcolor": "#E5ECF6",
            "gridcolor": "white",
            "gridwidth": 2,
            "linecolor": "white",
            "showbackground": true,
            "ticks": "",
            "zerolinecolor": "white"
           }
          },
          "shapedefaults": {
           "line": {
            "color": "#2a3f5f"
           }
          },
          "ternary": {
           "aaxis": {
            "gridcolor": "white",
            "linecolor": "white",
            "ticks": ""
           },
           "baxis": {
            "gridcolor": "white",
            "linecolor": "white",
            "ticks": ""
           },
           "bgcolor": "#E5ECF6",
           "caxis": {
            "gridcolor": "white",
            "linecolor": "white",
            "ticks": ""
           }
          },
          "title": {
           "x": 0.05
          },
          "xaxis": {
           "automargin": true,
           "gridcolor": "white",
           "linecolor": "white",
           "ticks": "",
           "title": {
            "standoff": 15
           },
           "zerolinecolor": "white",
           "zerolinewidth": 2
          },
          "yaxis": {
           "automargin": true,
           "gridcolor": "white",
           "linecolor": "white",
           "ticks": "",
           "title": {
            "standoff": 15
           },
           "zerolinecolor": "white",
           "zerolinewidth": 2
          }
         }
        },
        "title": {
         "text": "Entladeleistung von Batteriespeichern in Deutschland (GW) nach Szenario"
        },
        "xaxis": {
         "anchor": "y",
         "domain": [
          0,
          0.31999999999999995
         ],
         "title": {
          "text": "Jahr"
         }
        },
        "xaxis2": {
         "anchor": "y2",
         "domain": [
          0.33999999999999997,
          0.6599999999999999
         ],
         "matches": "x",
         "title": {
          "text": "Year"
         }
        },
        "xaxis3": {
         "anchor": "y3",
         "domain": [
          0.6799999999999999,
          0.9999999999999999
         ],
         "matches": "x",
         "title": {
          "text": "Year"
         }
        },
        "yaxis": {
         "anchor": "x",
         "domain": [
          0,
          1
         ],
         "title": {
          "text": "Entladeleistung [GW]"
         }
        },
        "yaxis2": {
         "anchor": "x2",
         "domain": [
          0,
          1
         ],
         "matches": "y",
         "showticklabels": false
        },
        "yaxis3": {
         "anchor": "x3",
         "domain": [
          0,
          1
         ],
         "matches": "y",
         "showticklabels": false
        }
       }
      }
     },
     "metadata": {},
     "output_type": "display_data"
    },
    {
     "name": "stderr",
     "output_type": "stream",
     "text": [
      "c:\\Users\\morit\\.conda\\envs\\pypsa-de\\Lib\\site-packages\\_plotly_utils\\basevalidators.py:2596: DeprecationWarning:\n",
      "\n",
      "*scattermapbox* is deprecated! Use *scattermap* instead. Learn more at: https://plotly.com/python/mapbox-to-maplibre/\n",
      "\n"
     ]
    },
    {
     "data": {
      "application/vnd.plotly.v1+json": {
       "config": {
        "plotlyServerURL": "https://plot.ly"
       },
       "data": [
        {
         "hovertemplate": "Type=EV battery<br>Scenario=KN2045_Mix<br>Year=%{x}<br>Value [GWh]=%{y}<extra></extra>",
         "legendgroup": "EV battery",
         "line": {
          "color": "#636efa",
          "dash": "solid"
         },
         "marker": {
          "symbol": "circle"
         },
         "mode": "lines+markers",
         "name": "EV battery",
         "orientation": "v",
         "showlegend": true,
         "type": "scatter",
         "x": {
          "bdata": "5AfpB+4H8wf4B/0HAgg=",
          "dtype": "i2"
         },
         "xaxis": "x",
         "y": {
          "bdata": "AAAAAAAAAAAAAAAAAAAAAJOaPdDqXXZA7zMuHHDGgEBWNJ2dPBiKQPyarFG3r49AXxqGjwS1kUA=",
          "dtype": "f8"
         },
         "yaxis": "y"
        },
        {
         "hovertemplate": "Type=EV battery<br>Scenario=KN2045_Mix_3H<br>Year=%{x}<br>Value [GWh]=%{y}<extra></extra>",
         "legendgroup": "EV battery",
         "line": {
          "color": "#636efa",
          "dash": "solid"
         },
         "marker": {
          "symbol": "circle"
         },
         "mode": "lines+markers",
         "name": "EV battery",
         "orientation": "v",
         "showlegend": false,
         "type": "scatter",
         "x": {
          "bdata": "5AfpB+4H8wf4B/0HAgg=",
          "dtype": "i2"
         },
         "xaxis": "x2",
         "y": {
          "bdata": "AAAAAAAAAAAAAAAAAAAAAJOaPdDqXXZA7zMuHHDGgEBWNJ2dPBiKQPyarFG3r49AXxqGjwS1kUA=",
          "dtype": "f8"
         },
         "yaxis": "y2"
        },
        {
         "hovertemplate": "Type=EV battery<br>Scenario=KN2045_Mix_Base<br>Year=%{x}<br>Value [GWh]=%{y}<extra></extra>",
         "legendgroup": "EV battery",
         "line": {
          "color": "#636efa",
          "dash": "solid"
         },
         "marker": {
          "symbol": "circle"
         },
         "mode": "lines+markers",
         "name": "EV battery",
         "orientation": "v",
         "showlegend": false,
         "type": "scatter",
         "x": {
          "bdata": "5AfpB+4H8wf4B/0HAgg=",
          "dtype": "i2"
         },
         "xaxis": "x3",
         "y": {
          "bdata": "AAAAAAAAAAAAAAAAAAAAAJaaPdDqXXZA8TMuHHDGgEBZNJ2dPBiKQP6arFG3r49AYRqGjwS1kUA=",
          "dtype": "f8"
         },
         "yaxis": "y3"
        },
        {
         "hovertemplate": "Type=Home battery<br>Scenario=KN2045_Mix<br>Year=%{x}<br>Value [GWh]=%{y}<extra></extra>",
         "legendgroup": "Home battery",
         "line": {
          "color": "#EF553B",
          "dash": "solid"
         },
         "marker": {
          "symbol": "circle"
         },
         "mode": "lines+markers",
         "name": "Home battery",
         "orientation": "v",
         "showlegend": true,
         "type": "scatter",
         "x": {
          "bdata": "5AfpB+4H8wf4B/0HAgg=",
          "dtype": "i2"
         },
         "xaxis": "x",
         "y": {
          "bdata": "g1s5kmSK0z/9EH4nsvcVQOGD25jq/SBAL1PCYmT0QkBBjk2gGCxFQLuTJNPgKkVAGEFFJQu1QkA=",
          "dtype": "f8"
         },
         "yaxis": "y"
        },
        {
         "hovertemplate": "Type=Home battery<br>Scenario=KN2045_Mix_3H<br>Year=%{x}<br>Value [GWh]=%{y}<extra></extra>",
         "legendgroup": "Home battery",
         "line": {
          "color": "#EF553B",
          "dash": "solid"
         },
         "marker": {
          "symbol": "circle"
         },
         "mode": "lines+markers",
         "name": "Home battery",
         "orientation": "v",
         "showlegend": false,
         "type": "scatter",
         "x": {
          "bdata": "5AfpB+4H8wf4B/0HAgg=",
          "dtype": "i2"
         },
         "xaxis": "x2",
         "y": {
          "bdata": "DggVHO7aYj9GI4lis+pjP38aBnf93QFA12hMJBj1JkCyhlBNz/AqQJy65iVJ8SpAK9055/jwKkA=",
          "dtype": "f8"
         },
         "yaxis": "y2"
        },
        {
         "hovertemplate": "Type=Home battery<br>Scenario=KN2045_Mix_Base<br>Year=%{x}<br>Value [GWh]=%{y}<extra></extra>",
         "legendgroup": "Home battery",
         "line": {
          "color": "#EF553B",
          "dash": "solid"
         },
         "marker": {
          "symbol": "circle"
         },
         "mode": "lines+markers",
         "name": "Home battery",
         "orientation": "v",
         "showlegend": false,
         "type": "scatter",
         "x": {
          "bdata": "5AfpB+4H8wf4B/0HAgg=",
          "dtype": "i2"
         },
         "xaxis": "x3",
         "y": {
          "bdata": "DKfAwftDcT7PzMzMzIxEQAIAAAAAYFFAilGRAAAAWED3cGZmZgZfQBTSzMzMbGFAFNLMzMxsYUA=",
          "dtype": "f8"
         },
         "yaxis": "y3"
        },
        {
         "hovertemplate": "Type=Utility-scale battery<br>Scenario=KN2045_Mix<br>Year=%{x}<br>Value [GWh]=%{y}<extra></extra>",
         "legendgroup": "Utility-scale battery",
         "line": {
          "color": "#00cc96",
          "dash": "solid"
         },
         "marker": {
          "symbol": "circle"
         },
         "mode": "lines+markers",
         "name": "Utility-scale battery",
         "orientation": "v",
         "showlegend": true,
         "type": "scatter",
         "x": {
          "bdata": "5AfpB+4H8wf4B/0HAgg=",
          "dtype": "i2"
         },
         "xaxis": "x",
         "y": {
          "bdata": "j2eS/G17hz8aV2p9P1lQP4UGg3aHJUBACFsGvw3QcEBWG7Hm5lR4QIKk6O/kVHhAhZU/ijrtgEA=",
          "dtype": "f8"
         },
         "yaxis": "y"
        },
        {
         "hovertemplate": "Type=Utility-scale battery<br>Scenario=KN2045_Mix_3H<br>Year=%{x}<br>Value [GWh]=%{y}<extra></extra>",
         "legendgroup": "Utility-scale battery",
         "line": {
          "color": "#00cc96",
          "dash": "solid"
         },
         "marker": {
          "symbol": "circle"
         },
         "mode": "lines+markers",
         "name": "Utility-scale battery",
         "orientation": "v",
         "showlegend": false,
         "type": "scatter",
         "x": {
          "bdata": "5AfpB+4H8wf4B/0HAgg=",
          "dtype": "i2"
         },
         "xaxis": "x2",
         "y": {
          "bdata": "mtzNaaIwQz/x6CZotTtPP0KOUKpdd0NADf1sxiV+cUB4cRVitpR5QD1eK+HElHlAAFos+mpqgUA=",
          "dtype": "f8"
         },
         "yaxis": "y2"
        },
        {
         "hovertemplate": "Type=Utility-scale battery<br>Scenario=KN2045_Mix_Base<br>Year=%{x}<br>Value [GWh]=%{y}<extra></extra>",
         "legendgroup": "Utility-scale battery",
         "line": {
          "color": "#00cc96",
          "dash": "solid"
         },
         "marker": {
          "symbol": "circle"
         },
         "mode": "lines+markers",
         "name": "Utility-scale battery",
         "orientation": "v",
         "showlegend": false,
         "type": "scatter",
         "x": {
          "bdata": "5AfpB+4H8wf4B/0HAgg=",
          "dtype": "i2"
         },
         "xaxis": "x3",
         "y": {
          "bdata": "7ekSCHgteD6cRCZ0X3VMPc/3UJOhl0k9WOHQqHu3vT5Uu349dEROPScZYnJRex490frO7vahEz0=",
          "dtype": "f8"
         },
         "yaxis": "y3"
        }
       ],
       "layout": {
        "annotations": [
         {
          "font": {},
          "showarrow": false,
          "text": "KN2045_Mix",
          "x": 0.15999999999999998,
          "xanchor": "center",
          "xref": "paper",
          "y": 1,
          "yanchor": "bottom",
          "yref": "paper"
         },
         {
          "font": {},
          "showarrow": false,
          "text": "KN2045_Mix_3H",
          "x": 0.49999999999999994,
          "xanchor": "center",
          "xref": "paper",
          "y": 1,
          "yanchor": "bottom",
          "yref": "paper"
         },
         {
          "font": {},
          "showarrow": false,
          "text": "KN2045_Mix_Base",
          "x": 0.8399999999999999,
          "xanchor": "center",
          "xref": "paper",
          "y": 1,
          "yanchor": "bottom",
          "yref": "paper"
         }
        ],
        "legend": {
         "title": {
          "text": "Speichertyp"
         },
         "tracegroupgap": 0
        },
        "template": {
         "data": {
          "bar": [
           {
            "error_x": {
             "color": "#2a3f5f"
            },
            "error_y": {
             "color": "#2a3f5f"
            },
            "marker": {
             "line": {
              "color": "#E5ECF6",
              "width": 0.5
             },
             "pattern": {
              "fillmode": "overlay",
              "size": 10,
              "solidity": 0.2
             }
            },
            "type": "bar"
           }
          ],
          "barpolar": [
           {
            "marker": {
             "line": {
              "color": "#E5ECF6",
              "width": 0.5
             },
             "pattern": {
              "fillmode": "overlay",
              "size": 10,
              "solidity": 0.2
             }
            },
            "type": "barpolar"
           }
          ],
          "carpet": [
           {
            "aaxis": {
             "endlinecolor": "#2a3f5f",
             "gridcolor": "white",
             "linecolor": "white",
             "minorgridcolor": "white",
             "startlinecolor": "#2a3f5f"
            },
            "baxis": {
             "endlinecolor": "#2a3f5f",
             "gridcolor": "white",
             "linecolor": "white",
             "minorgridcolor": "white",
             "startlinecolor": "#2a3f5f"
            },
            "type": "carpet"
           }
          ],
          "choropleth": [
           {
            "colorbar": {
             "outlinewidth": 0,
             "ticks": ""
            },
            "type": "choropleth"
           }
          ],
          "contour": [
           {
            "colorbar": {
             "outlinewidth": 0,
             "ticks": ""
            },
            "colorscale": [
             [
              0,
              "#0d0887"
             ],
             [
              0.1111111111111111,
              "#46039f"
             ],
             [
              0.2222222222222222,
              "#7201a8"
             ],
             [
              0.3333333333333333,
              "#9c179e"
             ],
             [
              0.4444444444444444,
              "#bd3786"
             ],
             [
              0.5555555555555556,
              "#d8576b"
             ],
             [
              0.6666666666666666,
              "#ed7953"
             ],
             [
              0.7777777777777778,
              "#fb9f3a"
             ],
             [
              0.8888888888888888,
              "#fdca26"
             ],
             [
              1,
              "#f0f921"
             ]
            ],
            "type": "contour"
           }
          ],
          "contourcarpet": [
           {
            "colorbar": {
             "outlinewidth": 0,
             "ticks": ""
            },
            "type": "contourcarpet"
           }
          ],
          "heatmap": [
           {
            "colorbar": {
             "outlinewidth": 0,
             "ticks": ""
            },
            "colorscale": [
             [
              0,
              "#0d0887"
             ],
             [
              0.1111111111111111,
              "#46039f"
             ],
             [
              0.2222222222222222,
              "#7201a8"
             ],
             [
              0.3333333333333333,
              "#9c179e"
             ],
             [
              0.4444444444444444,
              "#bd3786"
             ],
             [
              0.5555555555555556,
              "#d8576b"
             ],
             [
              0.6666666666666666,
              "#ed7953"
             ],
             [
              0.7777777777777778,
              "#fb9f3a"
             ],
             [
              0.8888888888888888,
              "#fdca26"
             ],
             [
              1,
              "#f0f921"
             ]
            ],
            "type": "heatmap"
           }
          ],
          "histogram": [
           {
            "marker": {
             "pattern": {
              "fillmode": "overlay",
              "size": 10,
              "solidity": 0.2
             }
            },
            "type": "histogram"
           }
          ],
          "histogram2d": [
           {
            "colorbar": {
             "outlinewidth": 0,
             "ticks": ""
            },
            "colorscale": [
             [
              0,
              "#0d0887"
             ],
             [
              0.1111111111111111,
              "#46039f"
             ],
             [
              0.2222222222222222,
              "#7201a8"
             ],
             [
              0.3333333333333333,
              "#9c179e"
             ],
             [
              0.4444444444444444,
              "#bd3786"
             ],
             [
              0.5555555555555556,
              "#d8576b"
             ],
             [
              0.6666666666666666,
              "#ed7953"
             ],
             [
              0.7777777777777778,
              "#fb9f3a"
             ],
             [
              0.8888888888888888,
              "#fdca26"
             ],
             [
              1,
              "#f0f921"
             ]
            ],
            "type": "histogram2d"
           }
          ],
          "histogram2dcontour": [
           {
            "colorbar": {
             "outlinewidth": 0,
             "ticks": ""
            },
            "colorscale": [
             [
              0,
              "#0d0887"
             ],
             [
              0.1111111111111111,
              "#46039f"
             ],
             [
              0.2222222222222222,
              "#7201a8"
             ],
             [
              0.3333333333333333,
              "#9c179e"
             ],
             [
              0.4444444444444444,
              "#bd3786"
             ],
             [
              0.5555555555555556,
              "#d8576b"
             ],
             [
              0.6666666666666666,
              "#ed7953"
             ],
             [
              0.7777777777777778,
              "#fb9f3a"
             ],
             [
              0.8888888888888888,
              "#fdca26"
             ],
             [
              1,
              "#f0f921"
             ]
            ],
            "type": "histogram2dcontour"
           }
          ],
          "mesh3d": [
           {
            "colorbar": {
             "outlinewidth": 0,
             "ticks": ""
            },
            "type": "mesh3d"
           }
          ],
          "parcoords": [
           {
            "line": {
             "colorbar": {
              "outlinewidth": 0,
              "ticks": ""
             }
            },
            "type": "parcoords"
           }
          ],
          "pie": [
           {
            "automargin": true,
            "type": "pie"
           }
          ],
          "scatter": [
           {
            "fillpattern": {
             "fillmode": "overlay",
             "size": 10,
             "solidity": 0.2
            },
            "type": "scatter"
           }
          ],
          "scatter3d": [
           {
            "line": {
             "colorbar": {
              "outlinewidth": 0,
              "ticks": ""
             }
            },
            "marker": {
             "colorbar": {
              "outlinewidth": 0,
              "ticks": ""
             }
            },
            "type": "scatter3d"
           }
          ],
          "scattercarpet": [
           {
            "marker": {
             "colorbar": {
              "outlinewidth": 0,
              "ticks": ""
             }
            },
            "type": "scattercarpet"
           }
          ],
          "scattergeo": [
           {
            "marker": {
             "colorbar": {
              "outlinewidth": 0,
              "ticks": ""
             }
            },
            "type": "scattergeo"
           }
          ],
          "scattergl": [
           {
            "marker": {
             "colorbar": {
              "outlinewidth": 0,
              "ticks": ""
             }
            },
            "type": "scattergl"
           }
          ],
          "scattermap": [
           {
            "marker": {
             "colorbar": {
              "outlinewidth": 0,
              "ticks": ""
             }
            },
            "type": "scattermap"
           }
          ],
          "scattermapbox": [
           {
            "marker": {
             "colorbar": {
              "outlinewidth": 0,
              "ticks": ""
             }
            },
            "type": "scattermapbox"
           }
          ],
          "scatterpolar": [
           {
            "marker": {
             "colorbar": {
              "outlinewidth": 0,
              "ticks": ""
             }
            },
            "type": "scatterpolar"
           }
          ],
          "scatterpolargl": [
           {
            "marker": {
             "colorbar": {
              "outlinewidth": 0,
              "ticks": ""
             }
            },
            "type": "scatterpolargl"
           }
          ],
          "scatterternary": [
           {
            "marker": {
             "colorbar": {
              "outlinewidth": 0,
              "ticks": ""
             }
            },
            "type": "scatterternary"
           }
          ],
          "surface": [
           {
            "colorbar": {
             "outlinewidth": 0,
             "ticks": ""
            },
            "colorscale": [
             [
              0,
              "#0d0887"
             ],
             [
              0.1111111111111111,
              "#46039f"
             ],
             [
              0.2222222222222222,
              "#7201a8"
             ],
             [
              0.3333333333333333,
              "#9c179e"
             ],
             [
              0.4444444444444444,
              "#bd3786"
             ],
             [
              0.5555555555555556,
              "#d8576b"
             ],
             [
              0.6666666666666666,
              "#ed7953"
             ],
             [
              0.7777777777777778,
              "#fb9f3a"
             ],
             [
              0.8888888888888888,
              "#fdca26"
             ],
             [
              1,
              "#f0f921"
             ]
            ],
            "type": "surface"
           }
          ],
          "table": [
           {
            "cells": {
             "fill": {
              "color": "#EBF0F8"
             },
             "line": {
              "color": "white"
             }
            },
            "header": {
             "fill": {
              "color": "#C8D4E3"
             },
             "line": {
              "color": "white"
             }
            },
            "type": "table"
           }
          ]
         },
         "layout": {
          "annotationdefaults": {
           "arrowcolor": "#2a3f5f",
           "arrowhead": 0,
           "arrowwidth": 1
          },
          "autotypenumbers": "strict",
          "coloraxis": {
           "colorbar": {
            "outlinewidth": 0,
            "ticks": ""
           }
          },
          "colorscale": {
           "diverging": [
            [
             0,
             "#8e0152"
            ],
            [
             0.1,
             "#c51b7d"
            ],
            [
             0.2,
             "#de77ae"
            ],
            [
             0.3,
             "#f1b6da"
            ],
            [
             0.4,
             "#fde0ef"
            ],
            [
             0.5,
             "#f7f7f7"
            ],
            [
             0.6,
             "#e6f5d0"
            ],
            [
             0.7,
             "#b8e186"
            ],
            [
             0.8,
             "#7fbc41"
            ],
            [
             0.9,
             "#4d9221"
            ],
            [
             1,
             "#276419"
            ]
           ],
           "sequential": [
            [
             0,
             "#0d0887"
            ],
            [
             0.1111111111111111,
             "#46039f"
            ],
            [
             0.2222222222222222,
             "#7201a8"
            ],
            [
             0.3333333333333333,
             "#9c179e"
            ],
            [
             0.4444444444444444,
             "#bd3786"
            ],
            [
             0.5555555555555556,
             "#d8576b"
            ],
            [
             0.6666666666666666,
             "#ed7953"
            ],
            [
             0.7777777777777778,
             "#fb9f3a"
            ],
            [
             0.8888888888888888,
             "#fdca26"
            ],
            [
             1,
             "#f0f921"
            ]
           ],
           "sequentialminus": [
            [
             0,
             "#0d0887"
            ],
            [
             0.1111111111111111,
             "#46039f"
            ],
            [
             0.2222222222222222,
             "#7201a8"
            ],
            [
             0.3333333333333333,
             "#9c179e"
            ],
            [
             0.4444444444444444,
             "#bd3786"
            ],
            [
             0.5555555555555556,
             "#d8576b"
            ],
            [
             0.6666666666666666,
             "#ed7953"
            ],
            [
             0.7777777777777778,
             "#fb9f3a"
            ],
            [
             0.8888888888888888,
             "#fdca26"
            ],
            [
             1,
             "#f0f921"
            ]
           ]
          },
          "colorway": [
           "#636efa",
           "#EF553B",
           "#00cc96",
           "#ab63fa",
           "#FFA15A",
           "#19d3f3",
           "#FF6692",
           "#B6E880",
           "#FF97FF",
           "#FECB52"
          ],
          "font": {
           "color": "#2a3f5f"
          },
          "geo": {
           "bgcolor": "white",
           "lakecolor": "white",
           "landcolor": "#E5ECF6",
           "showlakes": true,
           "showland": true,
           "subunitcolor": "white"
          },
          "hoverlabel": {
           "align": "left"
          },
          "hovermode": "closest",
          "mapbox": {
           "style": "light"
          },
          "paper_bgcolor": "white",
          "plot_bgcolor": "#E5ECF6",
          "polar": {
           "angularaxis": {
            "gridcolor": "white",
            "linecolor": "white",
            "ticks": ""
           },
           "bgcolor": "#E5ECF6",
           "radialaxis": {
            "gridcolor": "white",
            "linecolor": "white",
            "ticks": ""
           }
          },
          "scene": {
           "xaxis": {
            "backgroundcolor": "#E5ECF6",
            "gridcolor": "white",
            "gridwidth": 2,
            "linecolor": "white",
            "showbackground": true,
            "ticks": "",
            "zerolinecolor": "white"
           },
           "yaxis": {
            "backgroundcolor": "#E5ECF6",
            "gridcolor": "white",
            "gridwidth": 2,
            "linecolor": "white",
            "showbackground": true,
            "ticks": "",
            "zerolinecolor": "white"
           },
           "zaxis": {
            "backgroundcolor": "#E5ECF6",
            "gridcolor": "white",
            "gridwidth": 2,
            "linecolor": "white",
            "showbackground": true,
            "ticks": "",
            "zerolinecolor": "white"
           }
          },
          "shapedefaults": {
           "line": {
            "color": "#2a3f5f"
           }
          },
          "ternary": {
           "aaxis": {
            "gridcolor": "white",
            "linecolor": "white",
            "ticks": ""
           },
           "baxis": {
            "gridcolor": "white",
            "linecolor": "white",
            "ticks": ""
           },
           "bgcolor": "#E5ECF6",
           "caxis": {
            "gridcolor": "white",
            "linecolor": "white",
            "ticks": ""
           }
          },
          "title": {
           "x": 0.05
          },
          "xaxis": {
           "automargin": true,
           "gridcolor": "white",
           "linecolor": "white",
           "ticks": "",
           "title": {
            "standoff": 15
           },
           "zerolinecolor": "white",
           "zerolinewidth": 2
          },
          "yaxis": {
           "automargin": true,
           "gridcolor": "white",
           "linecolor": "white",
           "ticks": "",
           "title": {
            "standoff": 15
           },
           "zerolinecolor": "white",
           "zerolinewidth": 2
          }
         }
        },
        "title": {
         "text": "Energiespeicherkapazität von Batteriespeichern in Deutschland (GWh) nach Szenario"
        },
        "xaxis": {
         "anchor": "y",
         "domain": [
          0,
          0.31999999999999995
         ],
         "title": {
          "text": "Jahr"
         }
        },
        "xaxis2": {
         "anchor": "y2",
         "domain": [
          0.33999999999999997,
          0.6599999999999999
         ],
         "matches": "x",
         "title": {
          "text": "Year"
         }
        },
        "xaxis3": {
         "anchor": "y3",
         "domain": [
          0.6799999999999999,
          0.9999999999999999
         ],
         "matches": "x",
         "title": {
          "text": "Year"
         }
        },
        "yaxis": {
         "anchor": "x",
         "domain": [
          0,
          1
         ],
         "title": {
          "text": "Kapazität [GWh]"
         }
        },
        "yaxis2": {
         "anchor": "x2",
         "domain": [
          0,
          1
         ],
         "matches": "y",
         "showticklabels": false
        },
        "yaxis3": {
         "anchor": "x3",
         "domain": [
          0,
          1
         ],
         "matches": "y",
         "showticklabels": false
        }
       }
      }
     },
     "metadata": {},
     "output_type": "display_data"
    },
    {
     "name": "stderr",
     "output_type": "stream",
     "text": [
      "c:\\Users\\morit\\.conda\\envs\\pypsa-de\\Lib\\site-packages\\_plotly_utils\\basevalidators.py:2596: DeprecationWarning:\n",
      "\n",
      "*scattermapbox* is deprecated! Use *scattermap* instead. Learn more at: https://plotly.com/python/mapbox-to-maplibre/\n",
      "\n"
     ]
    },
    {
     "data": {
      "application/vnd.plotly.v1+json": {
       "config": {
        "plotlyServerURL": "https://plot.ly"
       },
       "data": [
        {
         "alignmentgroup": "True",
         "hovertemplate": "Type=Utility-scale battery<br>Scenario=KN2045_Mix<br>Year=%{x}<br>Value [TWh]=%{y}<extra></extra>",
         "legendgroup": "Utility-scale battery",
         "marker": {
          "color": "#636efa",
          "pattern": {
           "shape": ""
          }
         },
         "name": "Utility-scale battery",
         "offsetgroup": "Utility-scale battery",
         "orientation": "v",
         "showlegend": true,
         "textposition": "auto",
         "type": "bar",
         "x": {
          "bdata": "5AfpB+4H8wf4B/0HAgg=",
          "dtype": "i2"
         },
         "xaxis": "x",
         "y": {
          "bdata": "+KANqmNZlj+wqW9ax1ZQP9B+DRwthSJAOVL20SKfT0DwxNLeBQJVQLp2P7FpoVRAY7cS97goXUA=",
          "dtype": "f8"
         },
         "yaxis": "y"
        },
        {
         "alignmentgroup": "True",
         "hovertemplate": "Type=Utility-scale battery<br>Scenario=KN2045_Mix_3H<br>Year=%{x}<br>Value [TWh]=%{y}<extra></extra>",
         "legendgroup": "Utility-scale battery",
         "marker": {
          "color": "#636efa",
          "pattern": {
           "shape": ""
          }
         },
         "name": "Utility-scale battery",
         "offsetgroup": "Utility-scale battery",
         "orientation": "v",
         "showlegend": false,
         "textposition": "auto",
         "type": "bar",
         "x": {
          "bdata": "5AfpB+4H8wf4B/0HAgg=",
          "dtype": "i2"
         },
         "xaxis": "x2",
         "y": {
          "bdata": "JdY3ulqbVz8CbO5DrmVJPx26/gPNXCVAVAN1yVtYUEDqHe86BtxVQPGu7yzQeFVAaMe4WJHWXEA=",
          "dtype": "f8"
         },
         "yaxis": "y2"
        },
        {
         "alignmentgroup": "True",
         "hovertemplate": "Type=Utility-scale battery<br>Scenario=KN2045_Mix_Base<br>Year=%{x}<br>Value [TWh]=%{y}<extra></extra>",
         "legendgroup": "Utility-scale battery",
         "marker": {
          "color": "#636efa",
          "pattern": {
           "shape": ""
          }
         },
         "name": "Utility-scale battery",
         "offsetgroup": "Utility-scale battery",
         "orientation": "v",
         "showlegend": false,
         "textposition": "auto",
         "type": "bar",
         "x": {
          "bdata": "5AfzBw==",
          "dtype": "i2"
         },
         "xaxis": "x3",
         "y": {
          "bdata": "5pSjZfFPlz7+zMvXVdTXPg==",
          "dtype": "f8"
         },
         "yaxis": "y3"
        },
        {
         "alignmentgroup": "True",
         "hovertemplate": "Type=Home battery<br>Scenario=KN2045_Mix<br>Year=%{x}<br>Value [TWh]=%{y}<extra></extra>",
         "legendgroup": "Home battery",
         "marker": {
          "color": "#EF553B",
          "pattern": {
           "shape": ""
          }
         },
         "name": "Home battery",
         "offsetgroup": "Home battery",
         "orientation": "v",
         "showlegend": true,
         "textposition": "auto",
         "type": "bar",
         "x": {
          "bdata": "5AfpB+4H8wf4B/0HAgg=",
          "dtype": "i2"
         },
         "xaxis": "x",
         "y": {
          "bdata": "/0qRGy+Sqj/heSRlQhz+P6cx9q5VNQNA1ta0MTgAIkB+4gNp7UghQL/JZB0sZR9Aj9HmS+DfGkA=",
          "dtype": "f8"
         },
         "yaxis": "y"
        },
        {
         "alignmentgroup": "True",
         "hovertemplate": "Type=Home battery<br>Scenario=KN2045_Mix_3H<br>Year=%{x}<br>Value [TWh]=%{y}<extra></extra>",
         "legendgroup": "Home battery",
         "marker": {
          "color": "#EF553B",
          "pattern": {
           "shape": ""
          }
         },
         "name": "Home battery",
         "offsetgroup": "Home battery",
         "orientation": "v",
         "showlegend": false,
         "textposition": "auto",
         "type": "bar",
         "x": {
          "bdata": "5AfpB+4H8wf4B/0HAgg=",
          "dtype": "i2"
         },
         "xaxis": "x2",
         "y": {
          "bdata": "81j/eqq9WT/vkHyhthpTP5GByVb8aeQ/qnZRO6xABUAN25HFxZgEQJfP4Fn8FwJAsl4hN3A3AUA=",
          "dtype": "f8"
         },
         "yaxis": "y2"
        },
        {
         "alignmentgroup": "True",
         "hovertemplate": "Type=Home battery<br>Scenario=KN2045_Mix_Base<br>Year=%{x}<br>Value [TWh]=%{y}<extra></extra>",
         "legendgroup": "Home battery",
         "marker": {
          "color": "#EF553B",
          "pattern": {
           "shape": ""
          }
         },
         "name": "Home battery",
         "offsetgroup": "Home battery",
         "orientation": "v",
         "showlegend": false,
         "textposition": "auto",
         "type": "bar",
         "x": {
          "bdata": "5AfpB+4H8wf4B/0HAgg=",
          "dtype": "i2"
         },
         "xaxis": "x3",
         "y": {
          "bdata": "8Rc5X3pokD7cYsqHdJCkP+R0xjG6brE/smaWExwWuD+27KWAsiC/P/KvCNiRe9E/om8L2JF7wT8=",
          "dtype": "f8"
         },
         "yaxis": "y3"
        }
       ],
       "layout": {
        "annotations": [
         {
          "font": {},
          "showarrow": false,
          "text": "KN2045_Mix",
          "x": 0.15999999999999998,
          "xanchor": "center",
          "xref": "paper",
          "y": 1,
          "yanchor": "bottom",
          "yref": "paper"
         },
         {
          "font": {},
          "showarrow": false,
          "text": "KN2045_Mix_3H",
          "x": 0.49999999999999994,
          "xanchor": "center",
          "xref": "paper",
          "y": 1,
          "yanchor": "bottom",
          "yref": "paper"
         },
         {
          "font": {},
          "showarrow": false,
          "text": "KN2045_Mix_Base",
          "x": 0.8399999999999999,
          "xanchor": "center",
          "xref": "paper",
          "y": 1,
          "yanchor": "bottom",
          "yref": "paper"
         }
        ],
        "barmode": "group",
        "legend": {
         "title": {
          "text": "Speichertyp"
         },
         "tracegroupgap": 0
        },
        "template": {
         "data": {
          "bar": [
           {
            "error_x": {
             "color": "#2a3f5f"
            },
            "error_y": {
             "color": "#2a3f5f"
            },
            "marker": {
             "line": {
              "color": "#E5ECF6",
              "width": 0.5
             },
             "pattern": {
              "fillmode": "overlay",
              "size": 10,
              "solidity": 0.2
             }
            },
            "type": "bar"
           }
          ],
          "barpolar": [
           {
            "marker": {
             "line": {
              "color": "#E5ECF6",
              "width": 0.5
             },
             "pattern": {
              "fillmode": "overlay",
              "size": 10,
              "solidity": 0.2
             }
            },
            "type": "barpolar"
           }
          ],
          "carpet": [
           {
            "aaxis": {
             "endlinecolor": "#2a3f5f",
             "gridcolor": "white",
             "linecolor": "white",
             "minorgridcolor": "white",
             "startlinecolor": "#2a3f5f"
            },
            "baxis": {
             "endlinecolor": "#2a3f5f",
             "gridcolor": "white",
             "linecolor": "white",
             "minorgridcolor": "white",
             "startlinecolor": "#2a3f5f"
            },
            "type": "carpet"
           }
          ],
          "choropleth": [
           {
            "colorbar": {
             "outlinewidth": 0,
             "ticks": ""
            },
            "type": "choropleth"
           }
          ],
          "contour": [
           {
            "colorbar": {
             "outlinewidth": 0,
             "ticks": ""
            },
            "colorscale": [
             [
              0,
              "#0d0887"
             ],
             [
              0.1111111111111111,
              "#46039f"
             ],
             [
              0.2222222222222222,
              "#7201a8"
             ],
             [
              0.3333333333333333,
              "#9c179e"
             ],
             [
              0.4444444444444444,
              "#bd3786"
             ],
             [
              0.5555555555555556,
              "#d8576b"
             ],
             [
              0.6666666666666666,
              "#ed7953"
             ],
             [
              0.7777777777777778,
              "#fb9f3a"
             ],
             [
              0.8888888888888888,
              "#fdca26"
             ],
             [
              1,
              "#f0f921"
             ]
            ],
            "type": "contour"
           }
          ],
          "contourcarpet": [
           {
            "colorbar": {
             "outlinewidth": 0,
             "ticks": ""
            },
            "type": "contourcarpet"
           }
          ],
          "heatmap": [
           {
            "colorbar": {
             "outlinewidth": 0,
             "ticks": ""
            },
            "colorscale": [
             [
              0,
              "#0d0887"
             ],
             [
              0.1111111111111111,
              "#46039f"
             ],
             [
              0.2222222222222222,
              "#7201a8"
             ],
             [
              0.3333333333333333,
              "#9c179e"
             ],
             [
              0.4444444444444444,
              "#bd3786"
             ],
             [
              0.5555555555555556,
              "#d8576b"
             ],
             [
              0.6666666666666666,
              "#ed7953"
             ],
             [
              0.7777777777777778,
              "#fb9f3a"
             ],
             [
              0.8888888888888888,
              "#fdca26"
             ],
             [
              1,
              "#f0f921"
             ]
            ],
            "type": "heatmap"
           }
          ],
          "histogram": [
           {
            "marker": {
             "pattern": {
              "fillmode": "overlay",
              "size": 10,
              "solidity": 0.2
             }
            },
            "type": "histogram"
           }
          ],
          "histogram2d": [
           {
            "colorbar": {
             "outlinewidth": 0,
             "ticks": ""
            },
            "colorscale": [
             [
              0,
              "#0d0887"
             ],
             [
              0.1111111111111111,
              "#46039f"
             ],
             [
              0.2222222222222222,
              "#7201a8"
             ],
             [
              0.3333333333333333,
              "#9c179e"
             ],
             [
              0.4444444444444444,
              "#bd3786"
             ],
             [
              0.5555555555555556,
              "#d8576b"
             ],
             [
              0.6666666666666666,
              "#ed7953"
             ],
             [
              0.7777777777777778,
              "#fb9f3a"
             ],
             [
              0.8888888888888888,
              "#fdca26"
             ],
             [
              1,
              "#f0f921"
             ]
            ],
            "type": "histogram2d"
           }
          ],
          "histogram2dcontour": [
           {
            "colorbar": {
             "outlinewidth": 0,
             "ticks": ""
            },
            "colorscale": [
             [
              0,
              "#0d0887"
             ],
             [
              0.1111111111111111,
              "#46039f"
             ],
             [
              0.2222222222222222,
              "#7201a8"
             ],
             [
              0.3333333333333333,
              "#9c179e"
             ],
             [
              0.4444444444444444,
              "#bd3786"
             ],
             [
              0.5555555555555556,
              "#d8576b"
             ],
             [
              0.6666666666666666,
              "#ed7953"
             ],
             [
              0.7777777777777778,
              "#fb9f3a"
             ],
             [
              0.8888888888888888,
              "#fdca26"
             ],
             [
              1,
              "#f0f921"
             ]
            ],
            "type": "histogram2dcontour"
           }
          ],
          "mesh3d": [
           {
            "colorbar": {
             "outlinewidth": 0,
             "ticks": ""
            },
            "type": "mesh3d"
           }
          ],
          "parcoords": [
           {
            "line": {
             "colorbar": {
              "outlinewidth": 0,
              "ticks": ""
             }
            },
            "type": "parcoords"
           }
          ],
          "pie": [
           {
            "automargin": true,
            "type": "pie"
           }
          ],
          "scatter": [
           {
            "fillpattern": {
             "fillmode": "overlay",
             "size": 10,
             "solidity": 0.2
            },
            "type": "scatter"
           }
          ],
          "scatter3d": [
           {
            "line": {
             "colorbar": {
              "outlinewidth": 0,
              "ticks": ""
             }
            },
            "marker": {
             "colorbar": {
              "outlinewidth": 0,
              "ticks": ""
             }
            },
            "type": "scatter3d"
           }
          ],
          "scattercarpet": [
           {
            "marker": {
             "colorbar": {
              "outlinewidth": 0,
              "ticks": ""
             }
            },
            "type": "scattercarpet"
           }
          ],
          "scattergeo": [
           {
            "marker": {
             "colorbar": {
              "outlinewidth": 0,
              "ticks": ""
             }
            },
            "type": "scattergeo"
           }
          ],
          "scattergl": [
           {
            "marker": {
             "colorbar": {
              "outlinewidth": 0,
              "ticks": ""
             }
            },
            "type": "scattergl"
           }
          ],
          "scattermap": [
           {
            "marker": {
             "colorbar": {
              "outlinewidth": 0,
              "ticks": ""
             }
            },
            "type": "scattermap"
           }
          ],
          "scattermapbox": [
           {
            "marker": {
             "colorbar": {
              "outlinewidth": 0,
              "ticks": ""
             }
            },
            "type": "scattermapbox"
           }
          ],
          "scatterpolar": [
           {
            "marker": {
             "colorbar": {
              "outlinewidth": 0,
              "ticks": ""
             }
            },
            "type": "scatterpolar"
           }
          ],
          "scatterpolargl": [
           {
            "marker": {
             "colorbar": {
              "outlinewidth": 0,
              "ticks": ""
             }
            },
            "type": "scatterpolargl"
           }
          ],
          "scatterternary": [
           {
            "marker": {
             "colorbar": {
              "outlinewidth": 0,
              "ticks": ""
             }
            },
            "type": "scatterternary"
           }
          ],
          "surface": [
           {
            "colorbar": {
             "outlinewidth": 0,
             "ticks": ""
            },
            "colorscale": [
             [
              0,
              "#0d0887"
             ],
             [
              0.1111111111111111,
              "#46039f"
             ],
             [
              0.2222222222222222,
              "#7201a8"
             ],
             [
              0.3333333333333333,
              "#9c179e"
             ],
             [
              0.4444444444444444,
              "#bd3786"
             ],
             [
              0.5555555555555556,
              "#d8576b"
             ],
             [
              0.6666666666666666,
              "#ed7953"
             ],
             [
              0.7777777777777778,
              "#fb9f3a"
             ],
             [
              0.8888888888888888,
              "#fdca26"
             ],
             [
              1,
              "#f0f921"
             ]
            ],
            "type": "surface"
           }
          ],
          "table": [
           {
            "cells": {
             "fill": {
              "color": "#EBF0F8"
             },
             "line": {
              "color": "white"
             }
            },
            "header": {
             "fill": {
              "color": "#C8D4E3"
             },
             "line": {
              "color": "white"
             }
            },
            "type": "table"
           }
          ]
         },
         "layout": {
          "annotationdefaults": {
           "arrowcolor": "#2a3f5f",
           "arrowhead": 0,
           "arrowwidth": 1
          },
          "autotypenumbers": "strict",
          "coloraxis": {
           "colorbar": {
            "outlinewidth": 0,
            "ticks": ""
           }
          },
          "colorscale": {
           "diverging": [
            [
             0,
             "#8e0152"
            ],
            [
             0.1,
             "#c51b7d"
            ],
            [
             0.2,
             "#de77ae"
            ],
            [
             0.3,
             "#f1b6da"
            ],
            [
             0.4,
             "#fde0ef"
            ],
            [
             0.5,
             "#f7f7f7"
            ],
            [
             0.6,
             "#e6f5d0"
            ],
            [
             0.7,
             "#b8e186"
            ],
            [
             0.8,
             "#7fbc41"
            ],
            [
             0.9,
             "#4d9221"
            ],
            [
             1,
             "#276419"
            ]
           ],
           "sequential": [
            [
             0,
             "#0d0887"
            ],
            [
             0.1111111111111111,
             "#46039f"
            ],
            [
             0.2222222222222222,
             "#7201a8"
            ],
            [
             0.3333333333333333,
             "#9c179e"
            ],
            [
             0.4444444444444444,
             "#bd3786"
            ],
            [
             0.5555555555555556,
             "#d8576b"
            ],
            [
             0.6666666666666666,
             "#ed7953"
            ],
            [
             0.7777777777777778,
             "#fb9f3a"
            ],
            [
             0.8888888888888888,
             "#fdca26"
            ],
            [
             1,
             "#f0f921"
            ]
           ],
           "sequentialminus": [
            [
             0,
             "#0d0887"
            ],
            [
             0.1111111111111111,
             "#46039f"
            ],
            [
             0.2222222222222222,
             "#7201a8"
            ],
            [
             0.3333333333333333,
             "#9c179e"
            ],
            [
             0.4444444444444444,
             "#bd3786"
            ],
            [
             0.5555555555555556,
             "#d8576b"
            ],
            [
             0.6666666666666666,
             "#ed7953"
            ],
            [
             0.7777777777777778,
             "#fb9f3a"
            ],
            [
             0.8888888888888888,
             "#fdca26"
            ],
            [
             1,
             "#f0f921"
            ]
           ]
          },
          "colorway": [
           "#636efa",
           "#EF553B",
           "#00cc96",
           "#ab63fa",
           "#FFA15A",
           "#19d3f3",
           "#FF6692",
           "#B6E880",
           "#FF97FF",
           "#FECB52"
          ],
          "font": {
           "color": "#2a3f5f"
          },
          "geo": {
           "bgcolor": "white",
           "lakecolor": "white",
           "landcolor": "#E5ECF6",
           "showlakes": true,
           "showland": true,
           "subunitcolor": "white"
          },
          "hoverlabel": {
           "align": "left"
          },
          "hovermode": "closest",
          "mapbox": {
           "style": "light"
          },
          "paper_bgcolor": "white",
          "plot_bgcolor": "#E5ECF6",
          "polar": {
           "angularaxis": {
            "gridcolor": "white",
            "linecolor": "white",
            "ticks": ""
           },
           "bgcolor": "#E5ECF6",
           "radialaxis": {
            "gridcolor": "white",
            "linecolor": "white",
            "ticks": ""
           }
          },
          "scene": {
           "xaxis": {
            "backgroundcolor": "#E5ECF6",
            "gridcolor": "white",
            "gridwidth": 2,
            "linecolor": "white",
            "showbackground": true,
            "ticks": "",
            "zerolinecolor": "white"
           },
           "yaxis": {
            "backgroundcolor": "#E5ECF6",
            "gridcolor": "white",
            "gridwidth": 2,
            "linecolor": "white",
            "showbackground": true,
            "ticks": "",
            "zerolinecolor": "white"
           },
           "zaxis": {
            "backgroundcolor": "#E5ECF6",
            "gridcolor": "white",
            "gridwidth": 2,
            "linecolor": "white",
            "showbackground": true,
            "ticks": "",
            "zerolinecolor": "white"
           }
          },
          "shapedefaults": {
           "line": {
            "color": "#2a3f5f"
           }
          },
          "ternary": {
           "aaxis": {
            "gridcolor": "white",
            "linecolor": "white",
            "ticks": ""
           },
           "baxis": {
            "gridcolor": "white",
            "linecolor": "white",
            "ticks": ""
           },
           "bgcolor": "#E5ECF6",
           "caxis": {
            "gridcolor": "white",
            "linecolor": "white",
            "ticks": ""
           }
          },
          "title": {
           "x": 0.05
          },
          "xaxis": {
           "automargin": true,
           "gridcolor": "white",
           "linecolor": "white",
           "ticks": "",
           "title": {
            "standoff": 15
           },
           "zerolinecolor": "white",
           "zerolinewidth": 2
          },
          "yaxis": {
           "automargin": true,
           "gridcolor": "white",
           "linecolor": "white",
           "ticks": "",
           "title": {
            "standoff": 15
           },
           "zerolinecolor": "white",
           "zerolinewidth": 2
          }
         }
        },
        "title": {
         "text": "Jährliche Strombereitstellung durch Batterietechnologien (TWh) nach Szenario"
        },
        "xaxis": {
         "anchor": "y",
         "domain": [
          0,
          0.31999999999999995
         ],
         "title": {
          "text": "Jahr"
         }
        },
        "xaxis2": {
         "anchor": "y2",
         "domain": [
          0.33999999999999997,
          0.6599999999999999
         ],
         "matches": "x",
         "title": {
          "text": "Year"
         }
        },
        "xaxis3": {
         "anchor": "y3",
         "domain": [
          0.6799999999999999,
          0.9999999999999999
         ],
         "matches": "x",
         "title": {
          "text": "Year"
         }
        },
        "yaxis": {
         "anchor": "x",
         "domain": [
          0,
          1
         ],
         "title": {
          "text": "Bereitstellung [TWh]"
         }
        },
        "yaxis2": {
         "anchor": "x2",
         "domain": [
          0,
          1
         ],
         "matches": "y",
         "showticklabels": false
        },
        "yaxis3": {
         "anchor": "x3",
         "domain": [
          0,
          1
         ],
         "matches": "y",
         "showticklabels": false
        }
       }
      }
     },
     "metadata": {},
     "output_type": "display_data"
    }
   ],
   "source": [
    "import plotly.express as px\n",
    "\n",
    "# -----------------------------------------------------------------------------\n",
    "# 1. Plot: Entladeleistung (GW) je Speichertyp und je Szenario über die Jahre\n",
    "# -----------------------------------------------------------------------------\n",
    "#\n",
    "# Wir nehmen df_power, das die Spalten [\"Scenario\", \"Year\", \"Type\", \"Value [GW]\"] enthält.\n",
    "\n",
    "fig_gw = px.line(\n",
    "    df_power,\n",
    "    x=\"Year\",\n",
    "    y=\"Value [GW]\",\n",
    "    color=\"Type\",\n",
    "    facet_col=\"Scenario\",\n",
    "    facet_col_wrap=3,  # Bei 3 Szenarien erhältst du eine Zeile mit 3 Spalten\n",
    "    title=\"Entladeleistung von Batteriespeichern in Deutschland (GW) nach Szenario\",\n",
    "    markers=True\n",
    ")\n",
    "\n",
    "# Beschriftungen anpassen\n",
    "fig_gw.update_layout(\n",
    "    xaxis_title=\"Jahr\",\n",
    "    yaxis_title=\"Entladeleistung [GW]\",\n",
    "    legend_title_text=\"Speichertyp\"\n",
    ")\n",
    "\n",
    "# Die einzelnen Facet-Titel etwas kürzer gestalten (entfernt das \"Scenario=\")\n",
    "# Falls die automatische Beschriftung \"Scenario=Technologiemix\" etc. lautet, kürzen wir sie:\n",
    "for anno in fig_gw.layout.annotations:\n",
    "    # annotation text sieht typischerweise aus wie \"Scenario=Technologiemix\"\n",
    "    parts = anno.text.split(\"=\")\n",
    "    if len(parts) == 2:\n",
    "        anno.text = parts[1]\n",
    "\n",
    "fig_gw.show()\n",
    "\n",
    "\n",
    "\n",
    "# -----------------------------------------------------------------------------\n",
    "# 2. Plot: Energiespeicherkapazität (GWh) je Speichertyp und je Szenario\n",
    "# -----------------------------------------------------------------------------\n",
    "#\n",
    "# Wir nehmen df_energy, das die Spalten [\"Scenario\", \"Year\", \"Type\", \"Value [GWh]\"] enthält.\n",
    "\n",
    "fig_gwh = px.line(\n",
    "    df_energy,\n",
    "    x=\"Year\",\n",
    "    y=\"Value [GWh]\",\n",
    "    color=\"Type\",\n",
    "    facet_col=\"Scenario\",\n",
    "    facet_col_wrap=3,\n",
    "    title=\"Energiespeicherkapazität von Batteriespeichern in Deutschland (GWh) nach Szenario\",\n",
    "    markers=True\n",
    ")\n",
    "\n",
    "fig_gwh.update_layout(\n",
    "    xaxis_title=\"Jahr\",\n",
    "    yaxis_title=\"Kapazität [GWh]\",\n",
    "    legend_title_text=\"Speichertyp\"\n",
    ")\n",
    "\n",
    "for anno in fig_gwh.layout.annotations:\n",
    "    parts = anno.text.split(\"=\")\n",
    "    if len(parts) == 2:\n",
    "        anno.text = parts[1]\n",
    "\n",
    "fig_gwh.show()\n",
    "\n",
    "\n",
    "\n",
    "# -----------------------------------------------------------------------------\n",
    "# 3. Plot: Jährliche Strombereitstellung durch Batterietechnologien (TWh)\n",
    "#    – je Typ, je Szenario\n",
    "# -----------------------------------------------------------------------------\n",
    "#\n",
    "# df_discharge enthält [\"Scenario\", \"Year\", \"Type\", \"Value [TWh]\"].\n",
    "# Wir mappen die Carrier-Namen auf lesbare Typ-Bezeichnungen:\n",
    "\n",
    "carrier_map = {\n",
    "    \"battery discharger\":        \"Utility-scale battery\",\n",
    "    \"home battery discharger\":   \"Home battery\",\n",
    "    \"V2G\":                       \"EV battery\"\n",
    "}\n",
    "\n",
    "df_discharge_plot = df_discharge.copy()\n",
    "df_discharge_plot[\"Type\"] = df_discharge_plot[\"Type\"].map(carrier_map)\n",
    "\n",
    "fig_discharge = px.bar(\n",
    "    df_discharge_plot,\n",
    "    x=\"Year\",\n",
    "    y=\"Value [TWh]\",\n",
    "    color=\"Type\",\n",
    "    facet_col=\"Scenario\",\n",
    "    facet_col_wrap=3,\n",
    "    barmode=\"group\",\n",
    "    title=\"Jährliche Strombereitstellung durch Batterietechnologien (TWh) nach Szenario\"\n",
    ")\n",
    "\n",
    "fig_discharge.update_layout(\n",
    "    xaxis_title=\"Jahr\",\n",
    "    yaxis_title=\"Bereitstellung [TWh]\",\n",
    "    legend_title_text=\"Speichertyp\"\n",
    ")\n",
    "\n",
    "for anno in fig_discharge.layout.annotations:\n",
    "    parts = anno.text.split(\"=\")\n",
    "    if len(parts) == 2:\n",
    "        anno.text = parts[1]\n",
    "\n",
    "fig_discharge.show()\n"
   ]
  },
  {
   "cell_type": "code",
   "execution_count": 40,
   "id": "c0b389d1",
   "metadata": {},
   "outputs": [
    {
     "name": "stderr",
     "output_type": "stream",
     "text": [
      "c:\\Users\\morit\\.conda\\envs\\pypsa-de\\Lib\\site-packages\\_plotly_utils\\basevalidators.py:2596: DeprecationWarning:\n",
      "\n",
      "*scattermapbox* is deprecated! Use *scattermap* instead. Learn more at: https://plotly.com/python/mapbox-to-maplibre/\n",
      "\n"
     ]
    },
    {
     "data": {
      "application/vnd.plotly.v1+json": {
       "config": {
        "plotlyServerURL": "https://plot.ly"
       },
       "data": [
        {
         "hovertemplate": "Type=EV battery<br>Scenario=KN2045_Mix<br>Year=%{x}<br>Value [GW]=%{y}<extra></extra>",
         "legendgroup": "EV battery, KN2045_Mix",
         "line": {
          "color": "#636efa",
          "dash": "solid"
         },
         "marker": {
          "symbol": "circle"
         },
         "mode": "lines+markers",
         "name": "EV battery, KN2045_Mix",
         "orientation": "v",
         "showlegend": true,
         "type": "scatter",
         "x": {
          "bdata": "5AfpB+4H8wf4B/0HAgg=",
          "dtype": "i2"
         },
         "xaxis": "x",
         "y": {
          "bdata": "sG0H2Wg+OkBEksWizq5TQESSxaLOrmNAZlso9DWGbUD6f+a9m/Z2QIvkl2ZP4ntAQtK4gRwqf0A=",
          "dtype": "f8"
         },
         "yaxis": "y"
        },
        {
         "hovertemplate": "Type=EV battery<br>Scenario=KN2045_Mix_3H<br>Year=%{x}<br>Value [GW]=%{y}<extra></extra>",
         "legendgroup": "EV battery, KN2045_Mix_3H",
         "line": {
          "color": "#636efa",
          "dash": "dot"
         },
         "marker": {
          "symbol": "circle"
         },
         "mode": "lines+markers",
         "name": "EV battery, KN2045_Mix_3H",
         "orientation": "v",
         "showlegend": true,
         "type": "scatter",
         "x": {
          "bdata": "5AfpB+4H8wf4B/0HAgg=",
          "dtype": "i2"
         },
         "xaxis": "x",
         "y": {
          "bdata": "sG0H2Wg+OkBEksWizq5TQESSxaLOrmNAZlso9DWGbUD6f+a9m/Z2QIvkl2ZP4ntAQtK4gRwqf0A=",
          "dtype": "f8"
         },
         "yaxis": "y"
        },
        {
         "hovertemplate": "Type=EV battery<br>Scenario=KN2045_Mix_Base<br>Year=%{x}<br>Value [GW]=%{y}<extra></extra>",
         "legendgroup": "EV battery, KN2045_Mix_Base",
         "line": {
          "color": "#636efa",
          "dash": "dash"
         },
         "marker": {
          "symbol": "circle"
         },
         "mode": "lines+markers",
         "name": "EV battery, KN2045_Mix_Base",
         "orientation": "v",
         "showlegend": true,
         "type": "scatter",
         "x": {
          "bdata": "5AfpB+4H8wf4B/0HAgg=",
          "dtype": "i2"
         },
         "xaxis": "x",
         "y": {
          "bdata": "sm0H2Wg+OkBGksWizq5TQEaSxaLOrmNAaFso9DWGbUD8f+a9m/Z2QI3kl2ZP4ntARNK4gRwqf0A=",
          "dtype": "f8"
         },
         "yaxis": "y"
        },
        {
         "hovertemplate": "Type=Home battery<br>Scenario=KN2045_Mix<br>Year=%{x}<br>Value [GW]=%{y}<extra></extra>",
         "legendgroup": "Home battery, KN2045_Mix",
         "line": {
          "color": "#EF553B",
          "dash": "solid"
         },
         "marker": {
          "symbol": "circle"
         },
         "mode": "lines+markers",
         "name": "Home battery, KN2045_Mix",
         "orientation": "v",
         "showlegend": true,
         "type": "scatter",
         "x": {
          "bdata": "5AfpB+4H8wf4B/0HAgg=",
          "dtype": "i2"
         },
         "xaxis": "x",
         "y": {
          "bdata": "Vvvmp3l+0j+S0bqKxbkCQJuX9gAarABAUMh9QbkOHUDjBJLcogEfQGbqJBt4DhVAVLuzJ8McFkA=",
          "dtype": "f8"
         },
         "yaxis": "y"
        },
        {
         "hovertemplate": "Type=Home battery<br>Scenario=KN2045_Mix_3H<br>Year=%{x}<br>Value [GW]=%{y}<extra></extra>",
         "legendgroup": "Home battery, KN2045_Mix_3H",
         "line": {
          "color": "#EF553B",
          "dash": "dot"
         },
         "marker": {
          "symbol": "circle"
         },
         "mode": "lines+markers",
         "name": "Home battery, KN2045_Mix_3H",
         "orientation": "v",
         "showlegend": true,
         "type": "scatter",
         "x": {
          "bdata": "5AfpB+4H8wf4B/0HAgg=",
          "dtype": "i2"
         },
         "xaxis": "x",
         "y": {
          "bdata": "rnurqi3iSD/H9vKi5jhKP/A90oz8HeE/5Lk54uzh/z8hrbic2Hb7P/PNdBIOP/M/AY/Zz3dV8z8=",
          "dtype": "f8"
         },
         "yaxis": "y"
        },
        {
         "hovertemplate": "Type=Home battery<br>Scenario=KN2045_Mix_Base<br>Year=%{x}<br>Value [GW]=%{y}<extra></extra>",
         "legendgroup": "Home battery, KN2045_Mix_Base",
         "line": {
          "color": "#EF553B",
          "dash": "dash"
         },
         "marker": {
          "symbol": "circle"
         },
         "mode": "lines+markers",
         "name": "Home battery, KN2045_Mix_Base",
         "orientation": "v",
         "showlegend": true,
         "type": "scatter",
         "x": {
          "bdata": "5AfpB+4H8wf4B/0HAgg=",
          "dtype": "i2"
         },
         "xaxis": "x",
         "y": {
          "bdata": "L37O4C6PcT4S3gt8I84RQLo8vCKD3zRAmKJEQ6ADQ0D8k2zWBCZLQN06JuMsd05A2zom4yx3TkA=",
          "dtype": "f8"
         },
         "yaxis": "y"
        },
        {
         "hovertemplate": "Type=Utility-scale battery<br>Scenario=KN2045_Mix<br>Year=%{x}<br>Value [GW]=%{y}<extra></extra>",
         "legendgroup": "Utility-scale battery, KN2045_Mix",
         "line": {
          "color": "#00cc96",
          "dash": "solid"
         },
         "marker": {
          "symbol": "circle"
         },
         "mode": "lines+markers",
         "name": "Utility-scale battery, KN2045_Mix",
         "orientation": "v",
         "showlegend": true,
         "type": "scatter",
         "x": {
          "bdata": "5AfpB+4H8wf4B/0HAgg=",
          "dtype": "i2"
         },
         "xaxis": "x",
         "y": {
          "bdata": "6f46yCZTgz8UdIt1o9ZBPzPM4MbB0RBAmKdKiOu3P0A4lv4v++9GQDoizHy4CUdApa19a6nlUEA=",
          "dtype": "f8"
         },
         "yaxis": "y"
        },
        {
         "hovertemplate": "Type=Utility-scale battery<br>Scenario=KN2045_Mix_3H<br>Year=%{x}<br>Value [GW]=%{y}<extra></extra>",
         "legendgroup": "Utility-scale battery, KN2045_Mix_3H",
         "line": {
          "color": "#00cc96",
          "dash": "dot"
         },
         "marker": {
          "symbol": "circle"
         },
         "mode": "lines+markers",
         "name": "Utility-scale battery, KN2045_Mix_3H",
         "orientation": "v",
         "showlegend": true,
         "type": "scatter",
         "x": {
          "bdata": "5AfpB+4H8wf4B/0HAgg=",
          "dtype": "i2"
         },
         "xaxis": "x",
         "y": {
          "bdata": "9tgKXYTPQD+wJs/ARQhAPypvP6NXBhJAUqVHdXAyQECqIYx0n69HQPa186Csr0dAaO2L4yogUEA=",
          "dtype": "f8"
         },
         "yaxis": "y"
        },
        {
         "hovertemplate": "Type=Utility-scale battery<br>Scenario=KN2045_Mix_Base<br>Year=%{x}<br>Value [GW]=%{y}<extra></extra>",
         "legendgroup": "Utility-scale battery, KN2045_Mix_Base",
         "line": {
          "color": "#00cc96",
          "dash": "dash"
         },
         "marker": {
          "symbol": "circle"
         },
         "mode": "lines+markers",
         "name": "Utility-scale battery, KN2045_Mix_Base",
         "orientation": "v",
         "showlegend": true,
         "type": "scatter",
         "x": {
          "bdata": "5AfpB+4H8wf4B/0HAgg=",
          "dtype": "i2"
         },
         "xaxis": "x",
         "y": {
          "bdata": "Qru3Y4CneD57FEQTSLBFPcHKdQmvBUQ9JPWayNTXuj7j1QLw919HPY/aVD0enBg9smmNGWbRET0=",
          "dtype": "f8"
         },
         "yaxis": "y"
        }
       ],
       "layout": {
        "legend": {
         "title": {
          "text": "Speichertyp / Szenario"
         },
         "tracegroupgap": 0
        },
        "template": {
         "data": {
          "bar": [
           {
            "error_x": {
             "color": "#2a3f5f"
            },
            "error_y": {
             "color": "#2a3f5f"
            },
            "marker": {
             "line": {
              "color": "#E5ECF6",
              "width": 0.5
             },
             "pattern": {
              "fillmode": "overlay",
              "size": 10,
              "solidity": 0.2
             }
            },
            "type": "bar"
           }
          ],
          "barpolar": [
           {
            "marker": {
             "line": {
              "color": "#E5ECF6",
              "width": 0.5
             },
             "pattern": {
              "fillmode": "overlay",
              "size": 10,
              "solidity": 0.2
             }
            },
            "type": "barpolar"
           }
          ],
          "carpet": [
           {
            "aaxis": {
             "endlinecolor": "#2a3f5f",
             "gridcolor": "white",
             "linecolor": "white",
             "minorgridcolor": "white",
             "startlinecolor": "#2a3f5f"
            },
            "baxis": {
             "endlinecolor": "#2a3f5f",
             "gridcolor": "white",
             "linecolor": "white",
             "minorgridcolor": "white",
             "startlinecolor": "#2a3f5f"
            },
            "type": "carpet"
           }
          ],
          "choropleth": [
           {
            "colorbar": {
             "outlinewidth": 0,
             "ticks": ""
            },
            "type": "choropleth"
           }
          ],
          "contour": [
           {
            "colorbar": {
             "outlinewidth": 0,
             "ticks": ""
            },
            "colorscale": [
             [
              0,
              "#0d0887"
             ],
             [
              0.1111111111111111,
              "#46039f"
             ],
             [
              0.2222222222222222,
              "#7201a8"
             ],
             [
              0.3333333333333333,
              "#9c179e"
             ],
             [
              0.4444444444444444,
              "#bd3786"
             ],
             [
              0.5555555555555556,
              "#d8576b"
             ],
             [
              0.6666666666666666,
              "#ed7953"
             ],
             [
              0.7777777777777778,
              "#fb9f3a"
             ],
             [
              0.8888888888888888,
              "#fdca26"
             ],
             [
              1,
              "#f0f921"
             ]
            ],
            "type": "contour"
           }
          ],
          "contourcarpet": [
           {
            "colorbar": {
             "outlinewidth": 0,
             "ticks": ""
            },
            "type": "contourcarpet"
           }
          ],
          "heatmap": [
           {
            "colorbar": {
             "outlinewidth": 0,
             "ticks": ""
            },
            "colorscale": [
             [
              0,
              "#0d0887"
             ],
             [
              0.1111111111111111,
              "#46039f"
             ],
             [
              0.2222222222222222,
              "#7201a8"
             ],
             [
              0.3333333333333333,
              "#9c179e"
             ],
             [
              0.4444444444444444,
              "#bd3786"
             ],
             [
              0.5555555555555556,
              "#d8576b"
             ],
             [
              0.6666666666666666,
              "#ed7953"
             ],
             [
              0.7777777777777778,
              "#fb9f3a"
             ],
             [
              0.8888888888888888,
              "#fdca26"
             ],
             [
              1,
              "#f0f921"
             ]
            ],
            "type": "heatmap"
           }
          ],
          "histogram": [
           {
            "marker": {
             "pattern": {
              "fillmode": "overlay",
              "size": 10,
              "solidity": 0.2
             }
            },
            "type": "histogram"
           }
          ],
          "histogram2d": [
           {
            "colorbar": {
             "outlinewidth": 0,
             "ticks": ""
            },
            "colorscale": [
             [
              0,
              "#0d0887"
             ],
             [
              0.1111111111111111,
              "#46039f"
             ],
             [
              0.2222222222222222,
              "#7201a8"
             ],
             [
              0.3333333333333333,
              "#9c179e"
             ],
             [
              0.4444444444444444,
              "#bd3786"
             ],
             [
              0.5555555555555556,
              "#d8576b"
             ],
             [
              0.6666666666666666,
              "#ed7953"
             ],
             [
              0.7777777777777778,
              "#fb9f3a"
             ],
             [
              0.8888888888888888,
              "#fdca26"
             ],
             [
              1,
              "#f0f921"
             ]
            ],
            "type": "histogram2d"
           }
          ],
          "histogram2dcontour": [
           {
            "colorbar": {
             "outlinewidth": 0,
             "ticks": ""
            },
            "colorscale": [
             [
              0,
              "#0d0887"
             ],
             [
              0.1111111111111111,
              "#46039f"
             ],
             [
              0.2222222222222222,
              "#7201a8"
             ],
             [
              0.3333333333333333,
              "#9c179e"
             ],
             [
              0.4444444444444444,
              "#bd3786"
             ],
             [
              0.5555555555555556,
              "#d8576b"
             ],
             [
              0.6666666666666666,
              "#ed7953"
             ],
             [
              0.7777777777777778,
              "#fb9f3a"
             ],
             [
              0.8888888888888888,
              "#fdca26"
             ],
             [
              1,
              "#f0f921"
             ]
            ],
            "type": "histogram2dcontour"
           }
          ],
          "mesh3d": [
           {
            "colorbar": {
             "outlinewidth": 0,
             "ticks": ""
            },
            "type": "mesh3d"
           }
          ],
          "parcoords": [
           {
            "line": {
             "colorbar": {
              "outlinewidth": 0,
              "ticks": ""
             }
            },
            "type": "parcoords"
           }
          ],
          "pie": [
           {
            "automargin": true,
            "type": "pie"
           }
          ],
          "scatter": [
           {
            "fillpattern": {
             "fillmode": "overlay",
             "size": 10,
             "solidity": 0.2
            },
            "type": "scatter"
           }
          ],
          "scatter3d": [
           {
            "line": {
             "colorbar": {
              "outlinewidth": 0,
              "ticks": ""
             }
            },
            "marker": {
             "colorbar": {
              "outlinewidth": 0,
              "ticks": ""
             }
            },
            "type": "scatter3d"
           }
          ],
          "scattercarpet": [
           {
            "marker": {
             "colorbar": {
              "outlinewidth": 0,
              "ticks": ""
             }
            },
            "type": "scattercarpet"
           }
          ],
          "scattergeo": [
           {
            "marker": {
             "colorbar": {
              "outlinewidth": 0,
              "ticks": ""
             }
            },
            "type": "scattergeo"
           }
          ],
          "scattergl": [
           {
            "marker": {
             "colorbar": {
              "outlinewidth": 0,
              "ticks": ""
             }
            },
            "type": "scattergl"
           }
          ],
          "scattermap": [
           {
            "marker": {
             "colorbar": {
              "outlinewidth": 0,
              "ticks": ""
             }
            },
            "type": "scattermap"
           }
          ],
          "scattermapbox": [
           {
            "marker": {
             "colorbar": {
              "outlinewidth": 0,
              "ticks": ""
             }
            },
            "type": "scattermapbox"
           }
          ],
          "scatterpolar": [
           {
            "marker": {
             "colorbar": {
              "outlinewidth": 0,
              "ticks": ""
             }
            },
            "type": "scatterpolar"
           }
          ],
          "scatterpolargl": [
           {
            "marker": {
             "colorbar": {
              "outlinewidth": 0,
              "ticks": ""
             }
            },
            "type": "scatterpolargl"
           }
          ],
          "scatterternary": [
           {
            "marker": {
             "colorbar": {
              "outlinewidth": 0,
              "ticks": ""
             }
            },
            "type": "scatterternary"
           }
          ],
          "surface": [
           {
            "colorbar": {
             "outlinewidth": 0,
             "ticks": ""
            },
            "colorscale": [
             [
              0,
              "#0d0887"
             ],
             [
              0.1111111111111111,
              "#46039f"
             ],
             [
              0.2222222222222222,
              "#7201a8"
             ],
             [
              0.3333333333333333,
              "#9c179e"
             ],
             [
              0.4444444444444444,
              "#bd3786"
             ],
             [
              0.5555555555555556,
              "#d8576b"
             ],
             [
              0.6666666666666666,
              "#ed7953"
             ],
             [
              0.7777777777777778,
              "#fb9f3a"
             ],
             [
              0.8888888888888888,
              "#fdca26"
             ],
             [
              1,
              "#f0f921"
             ]
            ],
            "type": "surface"
           }
          ],
          "table": [
           {
            "cells": {
             "fill": {
              "color": "#EBF0F8"
             },
             "line": {
              "color": "white"
             }
            },
            "header": {
             "fill": {
              "color": "#C8D4E3"
             },
             "line": {
              "color": "white"
             }
            },
            "type": "table"
           }
          ]
         },
         "layout": {
          "annotationdefaults": {
           "arrowcolor": "#2a3f5f",
           "arrowhead": 0,
           "arrowwidth": 1
          },
          "autotypenumbers": "strict",
          "coloraxis": {
           "colorbar": {
            "outlinewidth": 0,
            "ticks": ""
           }
          },
          "colorscale": {
           "diverging": [
            [
             0,
             "#8e0152"
            ],
            [
             0.1,
             "#c51b7d"
            ],
            [
             0.2,
             "#de77ae"
            ],
            [
             0.3,
             "#f1b6da"
            ],
            [
             0.4,
             "#fde0ef"
            ],
            [
             0.5,
             "#f7f7f7"
            ],
            [
             0.6,
             "#e6f5d0"
            ],
            [
             0.7,
             "#b8e186"
            ],
            [
             0.8,
             "#7fbc41"
            ],
            [
             0.9,
             "#4d9221"
            ],
            [
             1,
             "#276419"
            ]
           ],
           "sequential": [
            [
             0,
             "#0d0887"
            ],
            [
             0.1111111111111111,
             "#46039f"
            ],
            [
             0.2222222222222222,
             "#7201a8"
            ],
            [
             0.3333333333333333,
             "#9c179e"
            ],
            [
             0.4444444444444444,
             "#bd3786"
            ],
            [
             0.5555555555555556,
             "#d8576b"
            ],
            [
             0.6666666666666666,
             "#ed7953"
            ],
            [
             0.7777777777777778,
             "#fb9f3a"
            ],
            [
             0.8888888888888888,
             "#fdca26"
            ],
            [
             1,
             "#f0f921"
            ]
           ],
           "sequentialminus": [
            [
             0,
             "#0d0887"
            ],
            [
             0.1111111111111111,
             "#46039f"
            ],
            [
             0.2222222222222222,
             "#7201a8"
            ],
            [
             0.3333333333333333,
             "#9c179e"
            ],
            [
             0.4444444444444444,
             "#bd3786"
            ],
            [
             0.5555555555555556,
             "#d8576b"
            ],
            [
             0.6666666666666666,
             "#ed7953"
            ],
            [
             0.7777777777777778,
             "#fb9f3a"
            ],
            [
             0.8888888888888888,
             "#fdca26"
            ],
            [
             1,
             "#f0f921"
            ]
           ]
          },
          "colorway": [
           "#636efa",
           "#EF553B",
           "#00cc96",
           "#ab63fa",
           "#FFA15A",
           "#19d3f3",
           "#FF6692",
           "#B6E880",
           "#FF97FF",
           "#FECB52"
          ],
          "font": {
           "color": "#2a3f5f"
          },
          "geo": {
           "bgcolor": "white",
           "lakecolor": "white",
           "landcolor": "#E5ECF6",
           "showlakes": true,
           "showland": true,
           "subunitcolor": "white"
          },
          "hoverlabel": {
           "align": "left"
          },
          "hovermode": "closest",
          "mapbox": {
           "style": "light"
          },
          "paper_bgcolor": "white",
          "plot_bgcolor": "#E5ECF6",
          "polar": {
           "angularaxis": {
            "gridcolor": "white",
            "linecolor": "white",
            "ticks": ""
           },
           "bgcolor": "#E5ECF6",
           "radialaxis": {
            "gridcolor": "white",
            "linecolor": "white",
            "ticks": ""
           }
          },
          "scene": {
           "xaxis": {
            "backgroundcolor": "#E5ECF6",
            "gridcolor": "white",
            "gridwidth": 2,
            "linecolor": "white",
            "showbackground": true,
            "ticks": "",
            "zerolinecolor": "white"
           },
           "yaxis": {
            "backgroundcolor": "#E5ECF6",
            "gridcolor": "white",
            "gridwidth": 2,
            "linecolor": "white",
            "showbackground": true,
            "ticks": "",
            "zerolinecolor": "white"
           },
           "zaxis": {
            "backgroundcolor": "#E5ECF6",
            "gridcolor": "white",
            "gridwidth": 2,
            "linecolor": "white",
            "showbackground": true,
            "ticks": "",
            "zerolinecolor": "white"
           }
          },
          "shapedefaults": {
           "line": {
            "color": "#2a3f5f"
           }
          },
          "ternary": {
           "aaxis": {
            "gridcolor": "white",
            "linecolor": "white",
            "ticks": ""
           },
           "baxis": {
            "gridcolor": "white",
            "linecolor": "white",
            "ticks": ""
           },
           "bgcolor": "#E5ECF6",
           "caxis": {
            "gridcolor": "white",
            "linecolor": "white",
            "ticks": ""
           }
          },
          "title": {
           "x": 0.05
          },
          "xaxis": {
           "automargin": true,
           "gridcolor": "white",
           "linecolor": "white",
           "ticks": "",
           "title": {
            "standoff": 15
           },
           "zerolinecolor": "white",
           "zerolinewidth": 2
          },
          "yaxis": {
           "automargin": true,
           "gridcolor": "white",
           "linecolor": "white",
           "ticks": "",
           "title": {
            "standoff": 15
           },
           "zerolinecolor": "white",
           "zerolinewidth": 2
          }
         }
        },
        "title": {
         "text": "Entladeleistung von Batteriespeichern in Deutschland (GW) – alle Szenarien"
        },
        "xaxis": {
         "anchor": "y",
         "domain": [
          0,
          1
         ],
         "title": {
          "text": "Jahr"
         }
        },
        "yaxis": {
         "anchor": "x",
         "domain": [
          0,
          1
         ],
         "title": {
          "text": "Entladeleistung [GW]"
         }
        }
       }
      }
     },
     "metadata": {},
     "output_type": "display_data"
    },
    {
     "name": "stderr",
     "output_type": "stream",
     "text": [
      "c:\\Users\\morit\\.conda\\envs\\pypsa-de\\Lib\\site-packages\\_plotly_utils\\basevalidators.py:2596: DeprecationWarning:\n",
      "\n",
      "*scattermapbox* is deprecated! Use *scattermap* instead. Learn more at: https://plotly.com/python/mapbox-to-maplibre/\n",
      "\n"
     ]
    },
    {
     "data": {
      "application/vnd.plotly.v1+json": {
       "config": {
        "plotlyServerURL": "https://plot.ly"
       },
       "data": [
        {
         "hovertemplate": "Type=EV battery<br>Scenario=KN2045_Mix<br>Year=%{x}<br>Value [GWh]=%{y}<extra></extra>",
         "legendgroup": "EV battery, KN2045_Mix",
         "line": {
          "color": "#636efa",
          "dash": "solid"
         },
         "marker": {
          "symbol": "circle"
         },
         "mode": "lines+markers",
         "name": "EV battery, KN2045_Mix",
         "orientation": "v",
         "showlegend": true,
         "type": "scatter",
         "x": {
          "bdata": "5AfpB+4H8wf4B/0HAgg=",
          "dtype": "i2"
         },
         "xaxis": "x",
         "y": {
          "bdata": "AAAAAAAAAAAAAAAAAAAAAJOaPdDqXXZA7zMuHHDGgEBWNJ2dPBiKQPyarFG3r49AXxqGjwS1kUA=",
          "dtype": "f8"
         },
         "yaxis": "y"
        },
        {
         "hovertemplate": "Type=EV battery<br>Scenario=KN2045_Mix_3H<br>Year=%{x}<br>Value [GWh]=%{y}<extra></extra>",
         "legendgroup": "EV battery, KN2045_Mix_3H",
         "line": {
          "color": "#636efa",
          "dash": "dot"
         },
         "marker": {
          "symbol": "circle"
         },
         "mode": "lines+markers",
         "name": "EV battery, KN2045_Mix_3H",
         "orientation": "v",
         "showlegend": true,
         "type": "scatter",
         "x": {
          "bdata": "5AfpB+4H8wf4B/0HAgg=",
          "dtype": "i2"
         },
         "xaxis": "x",
         "y": {
          "bdata": "AAAAAAAAAAAAAAAAAAAAAJOaPdDqXXZA7zMuHHDGgEBWNJ2dPBiKQPyarFG3r49AXxqGjwS1kUA=",
          "dtype": "f8"
         },
         "yaxis": "y"
        },
        {
         "hovertemplate": "Type=EV battery<br>Scenario=KN2045_Mix_Base<br>Year=%{x}<br>Value [GWh]=%{y}<extra></extra>",
         "legendgroup": "EV battery, KN2045_Mix_Base",
         "line": {
          "color": "#636efa",
          "dash": "dash"
         },
         "marker": {
          "symbol": "circle"
         },
         "mode": "lines+markers",
         "name": "EV battery, KN2045_Mix_Base",
         "orientation": "v",
         "showlegend": true,
         "type": "scatter",
         "x": {
          "bdata": "5AfpB+4H8wf4B/0HAgg=",
          "dtype": "i2"
         },
         "xaxis": "x",
         "y": {
          "bdata": "AAAAAAAAAAAAAAAAAAAAAJaaPdDqXXZA8TMuHHDGgEBZNJ2dPBiKQP6arFG3r49AYRqGjwS1kUA=",
          "dtype": "f8"
         },
         "yaxis": "y"
        },
        {
         "hovertemplate": "Type=Home battery<br>Scenario=KN2045_Mix<br>Year=%{x}<br>Value [GWh]=%{y}<extra></extra>",
         "legendgroup": "Home battery, KN2045_Mix",
         "line": {
          "color": "#EF553B",
          "dash": "solid"
         },
         "marker": {
          "symbol": "circle"
         },
         "mode": "lines+markers",
         "name": "Home battery, KN2045_Mix",
         "orientation": "v",
         "showlegend": true,
         "type": "scatter",
         "x": {
          "bdata": "5AfpB+4H8wf4B/0HAgg=",
          "dtype": "i2"
         },
         "xaxis": "x",
         "y": {
          "bdata": "g1s5kmSK0z/9EH4nsvcVQOGD25jq/SBAL1PCYmT0QkBBjk2gGCxFQLuTJNPgKkVAGEFFJQu1QkA=",
          "dtype": "f8"
         },
         "yaxis": "y"
        },
        {
         "hovertemplate": "Type=Home battery<br>Scenario=KN2045_Mix_3H<br>Year=%{x}<br>Value [GWh]=%{y}<extra></extra>",
         "legendgroup": "Home battery, KN2045_Mix_3H",
         "line": {
          "color": "#EF553B",
          "dash": "dot"
         },
         "marker": {
          "symbol": "circle"
         },
         "mode": "lines+markers",
         "name": "Home battery, KN2045_Mix_3H",
         "orientation": "v",
         "showlegend": true,
         "type": "scatter",
         "x": {
          "bdata": "5AfpB+4H8wf4B/0HAgg=",
          "dtype": "i2"
         },
         "xaxis": "x",
         "y": {
          "bdata": "DggVHO7aYj9GI4lis+pjP38aBnf93QFA12hMJBj1JkCyhlBNz/AqQJy65iVJ8SpAK9055/jwKkA=",
          "dtype": "f8"
         },
         "yaxis": "y"
        },
        {
         "hovertemplate": "Type=Home battery<br>Scenario=KN2045_Mix_Base<br>Year=%{x}<br>Value [GWh]=%{y}<extra></extra>",
         "legendgroup": "Home battery, KN2045_Mix_Base",
         "line": {
          "color": "#EF553B",
          "dash": "dash"
         },
         "marker": {
          "symbol": "circle"
         },
         "mode": "lines+markers",
         "name": "Home battery, KN2045_Mix_Base",
         "orientation": "v",
         "showlegend": true,
         "type": "scatter",
         "x": {
          "bdata": "5AfpB+4H8wf4B/0HAgg=",
          "dtype": "i2"
         },
         "xaxis": "x",
         "y": {
          "bdata": "DKfAwftDcT7PzMzMzIxEQAIAAAAAYFFAilGRAAAAWED3cGZmZgZfQBTSzMzMbGFAFNLMzMxsYUA=",
          "dtype": "f8"
         },
         "yaxis": "y"
        },
        {
         "hovertemplate": "Type=Utility-scale battery<br>Scenario=KN2045_Mix<br>Year=%{x}<br>Value [GWh]=%{y}<extra></extra>",
         "legendgroup": "Utility-scale battery, KN2045_Mix",
         "line": {
          "color": "#00cc96",
          "dash": "solid"
         },
         "marker": {
          "symbol": "circle"
         },
         "mode": "lines+markers",
         "name": "Utility-scale battery, KN2045_Mix",
         "orientation": "v",
         "showlegend": true,
         "type": "scatter",
         "x": {
          "bdata": "5AfpB+4H8wf4B/0HAgg=",
          "dtype": "i2"
         },
         "xaxis": "x",
         "y": {
          "bdata": "j2eS/G17hz8aV2p9P1lQP4UGg3aHJUBACFsGvw3QcEBWG7Hm5lR4QIKk6O/kVHhAhZU/ijrtgEA=",
          "dtype": "f8"
         },
         "yaxis": "y"
        },
        {
         "hovertemplate": "Type=Utility-scale battery<br>Scenario=KN2045_Mix_3H<br>Year=%{x}<br>Value [GWh]=%{y}<extra></extra>",
         "legendgroup": "Utility-scale battery, KN2045_Mix_3H",
         "line": {
          "color": "#00cc96",
          "dash": "dot"
         },
         "marker": {
          "symbol": "circle"
         },
         "mode": "lines+markers",
         "name": "Utility-scale battery, KN2045_Mix_3H",
         "orientation": "v",
         "showlegend": true,
         "type": "scatter",
         "x": {
          "bdata": "5AfpB+4H8wf4B/0HAgg=",
          "dtype": "i2"
         },
         "xaxis": "x",
         "y": {
          "bdata": "mtzNaaIwQz/x6CZotTtPP0KOUKpdd0NADf1sxiV+cUB4cRVitpR5QD1eK+HElHlAAFos+mpqgUA=",
          "dtype": "f8"
         },
         "yaxis": "y"
        },
        {
         "hovertemplate": "Type=Utility-scale battery<br>Scenario=KN2045_Mix_Base<br>Year=%{x}<br>Value [GWh]=%{y}<extra></extra>",
         "legendgroup": "Utility-scale battery, KN2045_Mix_Base",
         "line": {
          "color": "#00cc96",
          "dash": "dash"
         },
         "marker": {
          "symbol": "circle"
         },
         "mode": "lines+markers",
         "name": "Utility-scale battery, KN2045_Mix_Base",
         "orientation": "v",
         "showlegend": true,
         "type": "scatter",
         "x": {
          "bdata": "5AfpB+4H8wf4B/0HAgg=",
          "dtype": "i2"
         },
         "xaxis": "x",
         "y": {
          "bdata": "7ekSCHgteD6cRCZ0X3VMPc/3UJOhl0k9WOHQqHu3vT5Uu349dEROPScZYnJRex490frO7vahEz0=",
          "dtype": "f8"
         },
         "yaxis": "y"
        }
       ],
       "layout": {
        "legend": {
         "title": {
          "text": "Speichertyp / Szenario"
         },
         "tracegroupgap": 0
        },
        "template": {
         "data": {
          "bar": [
           {
            "error_x": {
             "color": "#2a3f5f"
            },
            "error_y": {
             "color": "#2a3f5f"
            },
            "marker": {
             "line": {
              "color": "#E5ECF6",
              "width": 0.5
             },
             "pattern": {
              "fillmode": "overlay",
              "size": 10,
              "solidity": 0.2
             }
            },
            "type": "bar"
           }
          ],
          "barpolar": [
           {
            "marker": {
             "line": {
              "color": "#E5ECF6",
              "width": 0.5
             },
             "pattern": {
              "fillmode": "overlay",
              "size": 10,
              "solidity": 0.2
             }
            },
            "type": "barpolar"
           }
          ],
          "carpet": [
           {
            "aaxis": {
             "endlinecolor": "#2a3f5f",
             "gridcolor": "white",
             "linecolor": "white",
             "minorgridcolor": "white",
             "startlinecolor": "#2a3f5f"
            },
            "baxis": {
             "endlinecolor": "#2a3f5f",
             "gridcolor": "white",
             "linecolor": "white",
             "minorgridcolor": "white",
             "startlinecolor": "#2a3f5f"
            },
            "type": "carpet"
           }
          ],
          "choropleth": [
           {
            "colorbar": {
             "outlinewidth": 0,
             "ticks": ""
            },
            "type": "choropleth"
           }
          ],
          "contour": [
           {
            "colorbar": {
             "outlinewidth": 0,
             "ticks": ""
            },
            "colorscale": [
             [
              0,
              "#0d0887"
             ],
             [
              0.1111111111111111,
              "#46039f"
             ],
             [
              0.2222222222222222,
              "#7201a8"
             ],
             [
              0.3333333333333333,
              "#9c179e"
             ],
             [
              0.4444444444444444,
              "#bd3786"
             ],
             [
              0.5555555555555556,
              "#d8576b"
             ],
             [
              0.6666666666666666,
              "#ed7953"
             ],
             [
              0.7777777777777778,
              "#fb9f3a"
             ],
             [
              0.8888888888888888,
              "#fdca26"
             ],
             [
              1,
              "#f0f921"
             ]
            ],
            "type": "contour"
           }
          ],
          "contourcarpet": [
           {
            "colorbar": {
             "outlinewidth": 0,
             "ticks": ""
            },
            "type": "contourcarpet"
           }
          ],
          "heatmap": [
           {
            "colorbar": {
             "outlinewidth": 0,
             "ticks": ""
            },
            "colorscale": [
             [
              0,
              "#0d0887"
             ],
             [
              0.1111111111111111,
              "#46039f"
             ],
             [
              0.2222222222222222,
              "#7201a8"
             ],
             [
              0.3333333333333333,
              "#9c179e"
             ],
             [
              0.4444444444444444,
              "#bd3786"
             ],
             [
              0.5555555555555556,
              "#d8576b"
             ],
             [
              0.6666666666666666,
              "#ed7953"
             ],
             [
              0.7777777777777778,
              "#fb9f3a"
             ],
             [
              0.8888888888888888,
              "#fdca26"
             ],
             [
              1,
              "#f0f921"
             ]
            ],
            "type": "heatmap"
           }
          ],
          "histogram": [
           {
            "marker": {
             "pattern": {
              "fillmode": "overlay",
              "size": 10,
              "solidity": 0.2
             }
            },
            "type": "histogram"
           }
          ],
          "histogram2d": [
           {
            "colorbar": {
             "outlinewidth": 0,
             "ticks": ""
            },
            "colorscale": [
             [
              0,
              "#0d0887"
             ],
             [
              0.1111111111111111,
              "#46039f"
             ],
             [
              0.2222222222222222,
              "#7201a8"
             ],
             [
              0.3333333333333333,
              "#9c179e"
             ],
             [
              0.4444444444444444,
              "#bd3786"
             ],
             [
              0.5555555555555556,
              "#d8576b"
             ],
             [
              0.6666666666666666,
              "#ed7953"
             ],
             [
              0.7777777777777778,
              "#fb9f3a"
             ],
             [
              0.8888888888888888,
              "#fdca26"
             ],
             [
              1,
              "#f0f921"
             ]
            ],
            "type": "histogram2d"
           }
          ],
          "histogram2dcontour": [
           {
            "colorbar": {
             "outlinewidth": 0,
             "ticks": ""
            },
            "colorscale": [
             [
              0,
              "#0d0887"
             ],
             [
              0.1111111111111111,
              "#46039f"
             ],
             [
              0.2222222222222222,
              "#7201a8"
             ],
             [
              0.3333333333333333,
              "#9c179e"
             ],
             [
              0.4444444444444444,
              "#bd3786"
             ],
             [
              0.5555555555555556,
              "#d8576b"
             ],
             [
              0.6666666666666666,
              "#ed7953"
             ],
             [
              0.7777777777777778,
              "#fb9f3a"
             ],
             [
              0.8888888888888888,
              "#fdca26"
             ],
             [
              1,
              "#f0f921"
             ]
            ],
            "type": "histogram2dcontour"
           }
          ],
          "mesh3d": [
           {
            "colorbar": {
             "outlinewidth": 0,
             "ticks": ""
            },
            "type": "mesh3d"
           }
          ],
          "parcoords": [
           {
            "line": {
             "colorbar": {
              "outlinewidth": 0,
              "ticks": ""
             }
            },
            "type": "parcoords"
           }
          ],
          "pie": [
           {
            "automargin": true,
            "type": "pie"
           }
          ],
          "scatter": [
           {
            "fillpattern": {
             "fillmode": "overlay",
             "size": 10,
             "solidity": 0.2
            },
            "type": "scatter"
           }
          ],
          "scatter3d": [
           {
            "line": {
             "colorbar": {
              "outlinewidth": 0,
              "ticks": ""
             }
            },
            "marker": {
             "colorbar": {
              "outlinewidth": 0,
              "ticks": ""
             }
            },
            "type": "scatter3d"
           }
          ],
          "scattercarpet": [
           {
            "marker": {
             "colorbar": {
              "outlinewidth": 0,
              "ticks": ""
             }
            },
            "type": "scattercarpet"
           }
          ],
          "scattergeo": [
           {
            "marker": {
             "colorbar": {
              "outlinewidth": 0,
              "ticks": ""
             }
            },
            "type": "scattergeo"
           }
          ],
          "scattergl": [
           {
            "marker": {
             "colorbar": {
              "outlinewidth": 0,
              "ticks": ""
             }
            },
            "type": "scattergl"
           }
          ],
          "scattermap": [
           {
            "marker": {
             "colorbar": {
              "outlinewidth": 0,
              "ticks": ""
             }
            },
            "type": "scattermap"
           }
          ],
          "scattermapbox": [
           {
            "marker": {
             "colorbar": {
              "outlinewidth": 0,
              "ticks": ""
             }
            },
            "type": "scattermapbox"
           }
          ],
          "scatterpolar": [
           {
            "marker": {
             "colorbar": {
              "outlinewidth": 0,
              "ticks": ""
             }
            },
            "type": "scatterpolar"
           }
          ],
          "scatterpolargl": [
           {
            "marker": {
             "colorbar": {
              "outlinewidth": 0,
              "ticks": ""
             }
            },
            "type": "scatterpolargl"
           }
          ],
          "scatterternary": [
           {
            "marker": {
             "colorbar": {
              "outlinewidth": 0,
              "ticks": ""
             }
            },
            "type": "scatterternary"
           }
          ],
          "surface": [
           {
            "colorbar": {
             "outlinewidth": 0,
             "ticks": ""
            },
            "colorscale": [
             [
              0,
              "#0d0887"
             ],
             [
              0.1111111111111111,
              "#46039f"
             ],
             [
              0.2222222222222222,
              "#7201a8"
             ],
             [
              0.3333333333333333,
              "#9c179e"
             ],
             [
              0.4444444444444444,
              "#bd3786"
             ],
             [
              0.5555555555555556,
              "#d8576b"
             ],
             [
              0.6666666666666666,
              "#ed7953"
             ],
             [
              0.7777777777777778,
              "#fb9f3a"
             ],
             [
              0.8888888888888888,
              "#fdca26"
             ],
             [
              1,
              "#f0f921"
             ]
            ],
            "type": "surface"
           }
          ],
          "table": [
           {
            "cells": {
             "fill": {
              "color": "#EBF0F8"
             },
             "line": {
              "color": "white"
             }
            },
            "header": {
             "fill": {
              "color": "#C8D4E3"
             },
             "line": {
              "color": "white"
             }
            },
            "type": "table"
           }
          ]
         },
         "layout": {
          "annotationdefaults": {
           "arrowcolor": "#2a3f5f",
           "arrowhead": 0,
           "arrowwidth": 1
          },
          "autotypenumbers": "strict",
          "coloraxis": {
           "colorbar": {
            "outlinewidth": 0,
            "ticks": ""
           }
          },
          "colorscale": {
           "diverging": [
            [
             0,
             "#8e0152"
            ],
            [
             0.1,
             "#c51b7d"
            ],
            [
             0.2,
             "#de77ae"
            ],
            [
             0.3,
             "#f1b6da"
            ],
            [
             0.4,
             "#fde0ef"
            ],
            [
             0.5,
             "#f7f7f7"
            ],
            [
             0.6,
             "#e6f5d0"
            ],
            [
             0.7,
             "#b8e186"
            ],
            [
             0.8,
             "#7fbc41"
            ],
            [
             0.9,
             "#4d9221"
            ],
            [
             1,
             "#276419"
            ]
           ],
           "sequential": [
            [
             0,
             "#0d0887"
            ],
            [
             0.1111111111111111,
             "#46039f"
            ],
            [
             0.2222222222222222,
             "#7201a8"
            ],
            [
             0.3333333333333333,
             "#9c179e"
            ],
            [
             0.4444444444444444,
             "#bd3786"
            ],
            [
             0.5555555555555556,
             "#d8576b"
            ],
            [
             0.6666666666666666,
             "#ed7953"
            ],
            [
             0.7777777777777778,
             "#fb9f3a"
            ],
            [
             0.8888888888888888,
             "#fdca26"
            ],
            [
             1,
             "#f0f921"
            ]
           ],
           "sequentialminus": [
            [
             0,
             "#0d0887"
            ],
            [
             0.1111111111111111,
             "#46039f"
            ],
            [
             0.2222222222222222,
             "#7201a8"
            ],
            [
             0.3333333333333333,
             "#9c179e"
            ],
            [
             0.4444444444444444,
             "#bd3786"
            ],
            [
             0.5555555555555556,
             "#d8576b"
            ],
            [
             0.6666666666666666,
             "#ed7953"
            ],
            [
             0.7777777777777778,
             "#fb9f3a"
            ],
            [
             0.8888888888888888,
             "#fdca26"
            ],
            [
             1,
             "#f0f921"
            ]
           ]
          },
          "colorway": [
           "#636efa",
           "#EF553B",
           "#00cc96",
           "#ab63fa",
           "#FFA15A",
           "#19d3f3",
           "#FF6692",
           "#B6E880",
           "#FF97FF",
           "#FECB52"
          ],
          "font": {
           "color": "#2a3f5f"
          },
          "geo": {
           "bgcolor": "white",
           "lakecolor": "white",
           "landcolor": "#E5ECF6",
           "showlakes": true,
           "showland": true,
           "subunitcolor": "white"
          },
          "hoverlabel": {
           "align": "left"
          },
          "hovermode": "closest",
          "mapbox": {
           "style": "light"
          },
          "paper_bgcolor": "white",
          "plot_bgcolor": "#E5ECF6",
          "polar": {
           "angularaxis": {
            "gridcolor": "white",
            "linecolor": "white",
            "ticks": ""
           },
           "bgcolor": "#E5ECF6",
           "radialaxis": {
            "gridcolor": "white",
            "linecolor": "white",
            "ticks": ""
           }
          },
          "scene": {
           "xaxis": {
            "backgroundcolor": "#E5ECF6",
            "gridcolor": "white",
            "gridwidth": 2,
            "linecolor": "white",
            "showbackground": true,
            "ticks": "",
            "zerolinecolor": "white"
           },
           "yaxis": {
            "backgroundcolor": "#E5ECF6",
            "gridcolor": "white",
            "gridwidth": 2,
            "linecolor": "white",
            "showbackground": true,
            "ticks": "",
            "zerolinecolor": "white"
           },
           "zaxis": {
            "backgroundcolor": "#E5ECF6",
            "gridcolor": "white",
            "gridwidth": 2,
            "linecolor": "white",
            "showbackground": true,
            "ticks": "",
            "zerolinecolor": "white"
           }
          },
          "shapedefaults": {
           "line": {
            "color": "#2a3f5f"
           }
          },
          "ternary": {
           "aaxis": {
            "gridcolor": "white",
            "linecolor": "white",
            "ticks": ""
           },
           "baxis": {
            "gridcolor": "white",
            "linecolor": "white",
            "ticks": ""
           },
           "bgcolor": "#E5ECF6",
           "caxis": {
            "gridcolor": "white",
            "linecolor": "white",
            "ticks": ""
           }
          },
          "title": {
           "x": 0.05
          },
          "xaxis": {
           "automargin": true,
           "gridcolor": "white",
           "linecolor": "white",
           "ticks": "",
           "title": {
            "standoff": 15
           },
           "zerolinecolor": "white",
           "zerolinewidth": 2
          },
          "yaxis": {
           "automargin": true,
           "gridcolor": "white",
           "linecolor": "white",
           "ticks": "",
           "title": {
            "standoff": 15
           },
           "zerolinecolor": "white",
           "zerolinewidth": 2
          }
         }
        },
        "title": {
         "text": "Energiespeicherkapazität von Batteriespeichern in Deutschland (GWh) – alle Szenarien"
        },
        "xaxis": {
         "anchor": "y",
         "domain": [
          0,
          1
         ],
         "title": {
          "text": "Jahr"
         }
        },
        "yaxis": {
         "anchor": "x",
         "domain": [
          0,
          1
         ],
         "title": {
          "text": "Kapazität [GWh]"
         }
        }
       }
      }
     },
     "metadata": {},
     "output_type": "display_data"
    },
    {
     "name": "stderr",
     "output_type": "stream",
     "text": [
      "c:\\Users\\morit\\.conda\\envs\\pypsa-de\\Lib\\site-packages\\_plotly_utils\\basevalidators.py:2596: DeprecationWarning:\n",
      "\n",
      "*scattermapbox* is deprecated! Use *scattermap* instead. Learn more at: https://plotly.com/python/mapbox-to-maplibre/\n",
      "\n"
     ]
    },
    {
     "data": {
      "application/vnd.plotly.v1+json": {
       "config": {
        "plotlyServerURL": "https://plot.ly"
       },
       "data": [
        {
         "alignmentgroup": "True",
         "hovertemplate": "Type=Utility-scale battery<br>Scenario=KN2045_Mix<br>Year=%{x}<br>Value [TWh]=%{y}<extra></extra>",
         "legendgroup": "Utility-scale battery, KN2045_Mix",
         "marker": {
          "color": "#636efa",
          "pattern": {
           "shape": ""
          }
         },
         "name": "Utility-scale battery, KN2045_Mix",
         "offsetgroup": "Utility-scale battery, KN2045_Mix",
         "orientation": "v",
         "showlegend": true,
         "textposition": "auto",
         "type": "bar",
         "x": {
          "bdata": "5AfpB+4H8wf4B/0HAgg=",
          "dtype": "i2"
         },
         "xaxis": "x",
         "y": {
          "bdata": "+KANqmNZlj+wqW9ax1ZQP9B+DRwthSJAOVL20SKfT0DwxNLeBQJVQLp2P7FpoVRAY7cS97goXUA=",
          "dtype": "f8"
         },
         "yaxis": "y"
        },
        {
         "alignmentgroup": "True",
         "hovertemplate": "Type=Utility-scale battery<br>Scenario=KN2045_Mix_3H<br>Year=%{x}<br>Value [TWh]=%{y}<extra></extra>",
         "legendgroup": "Utility-scale battery, KN2045_Mix_3H",
         "marker": {
          "color": "#636efa",
          "pattern": {
           "shape": "/"
          }
         },
         "name": "Utility-scale battery, KN2045_Mix_3H",
         "offsetgroup": "Utility-scale battery, KN2045_Mix_3H",
         "orientation": "v",
         "showlegend": true,
         "textposition": "auto",
         "type": "bar",
         "x": {
          "bdata": "5AfpB+4H8wf4B/0HAgg=",
          "dtype": "i2"
         },
         "xaxis": "x",
         "y": {
          "bdata": "JdY3ulqbVz8CbO5DrmVJPx26/gPNXCVAVAN1yVtYUEDqHe86BtxVQPGu7yzQeFVAaMe4WJHWXEA=",
          "dtype": "f8"
         },
         "yaxis": "y"
        },
        {
         "alignmentgroup": "True",
         "hovertemplate": "Type=Utility-scale battery<br>Scenario=KN2045_Mix_Base<br>Year=%{x}<br>Value [TWh]=%{y}<extra></extra>",
         "legendgroup": "Utility-scale battery, KN2045_Mix_Base",
         "marker": {
          "color": "#636efa",
          "pattern": {
           "shape": "\\"
          }
         },
         "name": "Utility-scale battery, KN2045_Mix_Base",
         "offsetgroup": "Utility-scale battery, KN2045_Mix_Base",
         "orientation": "v",
         "showlegend": true,
         "textposition": "auto",
         "type": "bar",
         "x": {
          "bdata": "5AfzBw==",
          "dtype": "i2"
         },
         "xaxis": "x",
         "y": {
          "bdata": "5pSjZfFPlz7+zMvXVdTXPg==",
          "dtype": "f8"
         },
         "yaxis": "y"
        },
        {
         "alignmentgroup": "True",
         "hovertemplate": "Type=Home battery<br>Scenario=KN2045_Mix<br>Year=%{x}<br>Value [TWh]=%{y}<extra></extra>",
         "legendgroup": "Home battery, KN2045_Mix",
         "marker": {
          "color": "#EF553B",
          "pattern": {
           "shape": ""
          }
         },
         "name": "Home battery, KN2045_Mix",
         "offsetgroup": "Home battery, KN2045_Mix",
         "orientation": "v",
         "showlegend": true,
         "textposition": "auto",
         "type": "bar",
         "x": {
          "bdata": "5AfpB+4H8wf4B/0HAgg=",
          "dtype": "i2"
         },
         "xaxis": "x",
         "y": {
          "bdata": "/0qRGy+Sqj/heSRlQhz+P6cx9q5VNQNA1ta0MTgAIkB+4gNp7UghQL/JZB0sZR9Aj9HmS+DfGkA=",
          "dtype": "f8"
         },
         "yaxis": "y"
        },
        {
         "alignmentgroup": "True",
         "hovertemplate": "Type=Home battery<br>Scenario=KN2045_Mix_3H<br>Year=%{x}<br>Value [TWh]=%{y}<extra></extra>",
         "legendgroup": "Home battery, KN2045_Mix_3H",
         "marker": {
          "color": "#EF553B",
          "pattern": {
           "shape": "/"
          }
         },
         "name": "Home battery, KN2045_Mix_3H",
         "offsetgroup": "Home battery, KN2045_Mix_3H",
         "orientation": "v",
         "showlegend": true,
         "textposition": "auto",
         "type": "bar",
         "x": {
          "bdata": "5AfpB+4H8wf4B/0HAgg=",
          "dtype": "i2"
         },
         "xaxis": "x",
         "y": {
          "bdata": "81j/eqq9WT/vkHyhthpTP5GByVb8aeQ/qnZRO6xABUAN25HFxZgEQJfP4Fn8FwJAsl4hN3A3AUA=",
          "dtype": "f8"
         },
         "yaxis": "y"
        },
        {
         "alignmentgroup": "True",
         "hovertemplate": "Type=Home battery<br>Scenario=KN2045_Mix_Base<br>Year=%{x}<br>Value [TWh]=%{y}<extra></extra>",
         "legendgroup": "Home battery, KN2045_Mix_Base",
         "marker": {
          "color": "#EF553B",
          "pattern": {
           "shape": "\\"
          }
         },
         "name": "Home battery, KN2045_Mix_Base",
         "offsetgroup": "Home battery, KN2045_Mix_Base",
         "orientation": "v",
         "showlegend": true,
         "textposition": "auto",
         "type": "bar",
         "x": {
          "bdata": "5AfpB+4H8wf4B/0HAgg=",
          "dtype": "i2"
         },
         "xaxis": "x",
         "y": {
          "bdata": "8Rc5X3pokD7cYsqHdJCkP+R0xjG6brE/smaWExwWuD+27KWAsiC/P/KvCNiRe9E/om8L2JF7wT8=",
          "dtype": "f8"
         },
         "yaxis": "y"
        }
       ],
       "layout": {
        "barmode": "group",
        "legend": {
         "title": {
          "text": "Speichertyp / Szenario"
         },
         "tracegroupgap": 0
        },
        "template": {
         "data": {
          "bar": [
           {
            "error_x": {
             "color": "#2a3f5f"
            },
            "error_y": {
             "color": "#2a3f5f"
            },
            "marker": {
             "line": {
              "color": "#E5ECF6",
              "width": 0.5
             },
             "pattern": {
              "fillmode": "overlay",
              "size": 10,
              "solidity": 0.2
             }
            },
            "type": "bar"
           }
          ],
          "barpolar": [
           {
            "marker": {
             "line": {
              "color": "#E5ECF6",
              "width": 0.5
             },
             "pattern": {
              "fillmode": "overlay",
              "size": 10,
              "solidity": 0.2
             }
            },
            "type": "barpolar"
           }
          ],
          "carpet": [
           {
            "aaxis": {
             "endlinecolor": "#2a3f5f",
             "gridcolor": "white",
             "linecolor": "white",
             "minorgridcolor": "white",
             "startlinecolor": "#2a3f5f"
            },
            "baxis": {
             "endlinecolor": "#2a3f5f",
             "gridcolor": "white",
             "linecolor": "white",
             "minorgridcolor": "white",
             "startlinecolor": "#2a3f5f"
            },
            "type": "carpet"
           }
          ],
          "choropleth": [
           {
            "colorbar": {
             "outlinewidth": 0,
             "ticks": ""
            },
            "type": "choropleth"
           }
          ],
          "contour": [
           {
            "colorbar": {
             "outlinewidth": 0,
             "ticks": ""
            },
            "colorscale": [
             [
              0,
              "#0d0887"
             ],
             [
              0.1111111111111111,
              "#46039f"
             ],
             [
              0.2222222222222222,
              "#7201a8"
             ],
             [
              0.3333333333333333,
              "#9c179e"
             ],
             [
              0.4444444444444444,
              "#bd3786"
             ],
             [
              0.5555555555555556,
              "#d8576b"
             ],
             [
              0.6666666666666666,
              "#ed7953"
             ],
             [
              0.7777777777777778,
              "#fb9f3a"
             ],
             [
              0.8888888888888888,
              "#fdca26"
             ],
             [
              1,
              "#f0f921"
             ]
            ],
            "type": "contour"
           }
          ],
          "contourcarpet": [
           {
            "colorbar": {
             "outlinewidth": 0,
             "ticks": ""
            },
            "type": "contourcarpet"
           }
          ],
          "heatmap": [
           {
            "colorbar": {
             "outlinewidth": 0,
             "ticks": ""
            },
            "colorscale": [
             [
              0,
              "#0d0887"
             ],
             [
              0.1111111111111111,
              "#46039f"
             ],
             [
              0.2222222222222222,
              "#7201a8"
             ],
             [
              0.3333333333333333,
              "#9c179e"
             ],
             [
              0.4444444444444444,
              "#bd3786"
             ],
             [
              0.5555555555555556,
              "#d8576b"
             ],
             [
              0.6666666666666666,
              "#ed7953"
             ],
             [
              0.7777777777777778,
              "#fb9f3a"
             ],
             [
              0.8888888888888888,
              "#fdca26"
             ],
             [
              1,
              "#f0f921"
             ]
            ],
            "type": "heatmap"
           }
          ],
          "histogram": [
           {
            "marker": {
             "pattern": {
              "fillmode": "overlay",
              "size": 10,
              "solidity": 0.2
             }
            },
            "type": "histogram"
           }
          ],
          "histogram2d": [
           {
            "colorbar": {
             "outlinewidth": 0,
             "ticks": ""
            },
            "colorscale": [
             [
              0,
              "#0d0887"
             ],
             [
              0.1111111111111111,
              "#46039f"
             ],
             [
              0.2222222222222222,
              "#7201a8"
             ],
             [
              0.3333333333333333,
              "#9c179e"
             ],
             [
              0.4444444444444444,
              "#bd3786"
             ],
             [
              0.5555555555555556,
              "#d8576b"
             ],
             [
              0.6666666666666666,
              "#ed7953"
             ],
             [
              0.7777777777777778,
              "#fb9f3a"
             ],
             [
              0.8888888888888888,
              "#fdca26"
             ],
             [
              1,
              "#f0f921"
             ]
            ],
            "type": "histogram2d"
           }
          ],
          "histogram2dcontour": [
           {
            "colorbar": {
             "outlinewidth": 0,
             "ticks": ""
            },
            "colorscale": [
             [
              0,
              "#0d0887"
             ],
             [
              0.1111111111111111,
              "#46039f"
             ],
             [
              0.2222222222222222,
              "#7201a8"
             ],
             [
              0.3333333333333333,
              "#9c179e"
             ],
             [
              0.4444444444444444,
              "#bd3786"
             ],
             [
              0.5555555555555556,
              "#d8576b"
             ],
             [
              0.6666666666666666,
              "#ed7953"
             ],
             [
              0.7777777777777778,
              "#fb9f3a"
             ],
             [
              0.8888888888888888,
              "#fdca26"
             ],
             [
              1,
              "#f0f921"
             ]
            ],
            "type": "histogram2dcontour"
           }
          ],
          "mesh3d": [
           {
            "colorbar": {
             "outlinewidth": 0,
             "ticks": ""
            },
            "type": "mesh3d"
           }
          ],
          "parcoords": [
           {
            "line": {
             "colorbar": {
              "outlinewidth": 0,
              "ticks": ""
             }
            },
            "type": "parcoords"
           }
          ],
          "pie": [
           {
            "automargin": true,
            "type": "pie"
           }
          ],
          "scatter": [
           {
            "fillpattern": {
             "fillmode": "overlay",
             "size": 10,
             "solidity": 0.2
            },
            "type": "scatter"
           }
          ],
          "scatter3d": [
           {
            "line": {
             "colorbar": {
              "outlinewidth": 0,
              "ticks": ""
             }
            },
            "marker": {
             "colorbar": {
              "outlinewidth": 0,
              "ticks": ""
             }
            },
            "type": "scatter3d"
           }
          ],
          "scattercarpet": [
           {
            "marker": {
             "colorbar": {
              "outlinewidth": 0,
              "ticks": ""
             }
            },
            "type": "scattercarpet"
           }
          ],
          "scattergeo": [
           {
            "marker": {
             "colorbar": {
              "outlinewidth": 0,
              "ticks": ""
             }
            },
            "type": "scattergeo"
           }
          ],
          "scattergl": [
           {
            "marker": {
             "colorbar": {
              "outlinewidth": 0,
              "ticks": ""
             }
            },
            "type": "scattergl"
           }
          ],
          "scattermap": [
           {
            "marker": {
             "colorbar": {
              "outlinewidth": 0,
              "ticks": ""
             }
            },
            "type": "scattermap"
           }
          ],
          "scattermapbox": [
           {
            "marker": {
             "colorbar": {
              "outlinewidth": 0,
              "ticks": ""
             }
            },
            "type": "scattermapbox"
           }
          ],
          "scatterpolar": [
           {
            "marker": {
             "colorbar": {
              "outlinewidth": 0,
              "ticks": ""
             }
            },
            "type": "scatterpolar"
           }
          ],
          "scatterpolargl": [
           {
            "marker": {
             "colorbar": {
              "outlinewidth": 0,
              "ticks": ""
             }
            },
            "type": "scatterpolargl"
           }
          ],
          "scatterternary": [
           {
            "marker": {
             "colorbar": {
              "outlinewidth": 0,
              "ticks": ""
             }
            },
            "type": "scatterternary"
           }
          ],
          "surface": [
           {
            "colorbar": {
             "outlinewidth": 0,
             "ticks": ""
            },
            "colorscale": [
             [
              0,
              "#0d0887"
             ],
             [
              0.1111111111111111,
              "#46039f"
             ],
             [
              0.2222222222222222,
              "#7201a8"
             ],
             [
              0.3333333333333333,
              "#9c179e"
             ],
             [
              0.4444444444444444,
              "#bd3786"
             ],
             [
              0.5555555555555556,
              "#d8576b"
             ],
             [
              0.6666666666666666,
              "#ed7953"
             ],
             [
              0.7777777777777778,
              "#fb9f3a"
             ],
             [
              0.8888888888888888,
              "#fdca26"
             ],
             [
              1,
              "#f0f921"
             ]
            ],
            "type": "surface"
           }
          ],
          "table": [
           {
            "cells": {
             "fill": {
              "color": "#EBF0F8"
             },
             "line": {
              "color": "white"
             }
            },
            "header": {
             "fill": {
              "color": "#C8D4E3"
             },
             "line": {
              "color": "white"
             }
            },
            "type": "table"
           }
          ]
         },
         "layout": {
          "annotationdefaults": {
           "arrowcolor": "#2a3f5f",
           "arrowhead": 0,
           "arrowwidth": 1
          },
          "autotypenumbers": "strict",
          "coloraxis": {
           "colorbar": {
            "outlinewidth": 0,
            "ticks": ""
           }
          },
          "colorscale": {
           "diverging": [
            [
             0,
             "#8e0152"
            ],
            [
             0.1,
             "#c51b7d"
            ],
            [
             0.2,
             "#de77ae"
            ],
            [
             0.3,
             "#f1b6da"
            ],
            [
             0.4,
             "#fde0ef"
            ],
            [
             0.5,
             "#f7f7f7"
            ],
            [
             0.6,
             "#e6f5d0"
            ],
            [
             0.7,
             "#b8e186"
            ],
            [
             0.8,
             "#7fbc41"
            ],
            [
             0.9,
             "#4d9221"
            ],
            [
             1,
             "#276419"
            ]
           ],
           "sequential": [
            [
             0,
             "#0d0887"
            ],
            [
             0.1111111111111111,
             "#46039f"
            ],
            [
             0.2222222222222222,
             "#7201a8"
            ],
            [
             0.3333333333333333,
             "#9c179e"
            ],
            [
             0.4444444444444444,
             "#bd3786"
            ],
            [
             0.5555555555555556,
             "#d8576b"
            ],
            [
             0.6666666666666666,
             "#ed7953"
            ],
            [
             0.7777777777777778,
             "#fb9f3a"
            ],
            [
             0.8888888888888888,
             "#fdca26"
            ],
            [
             1,
             "#f0f921"
            ]
           ],
           "sequentialminus": [
            [
             0,
             "#0d0887"
            ],
            [
             0.1111111111111111,
             "#46039f"
            ],
            [
             0.2222222222222222,
             "#7201a8"
            ],
            [
             0.3333333333333333,
             "#9c179e"
            ],
            [
             0.4444444444444444,
             "#bd3786"
            ],
            [
             0.5555555555555556,
             "#d8576b"
            ],
            [
             0.6666666666666666,
             "#ed7953"
            ],
            [
             0.7777777777777778,
             "#fb9f3a"
            ],
            [
             0.8888888888888888,
             "#fdca26"
            ],
            [
             1,
             "#f0f921"
            ]
           ]
          },
          "colorway": [
           "#636efa",
           "#EF553B",
           "#00cc96",
           "#ab63fa",
           "#FFA15A",
           "#19d3f3",
           "#FF6692",
           "#B6E880",
           "#FF97FF",
           "#FECB52"
          ],
          "font": {
           "color": "#2a3f5f"
          },
          "geo": {
           "bgcolor": "white",
           "lakecolor": "white",
           "landcolor": "#E5ECF6",
           "showlakes": true,
           "showland": true,
           "subunitcolor": "white"
          },
          "hoverlabel": {
           "align": "left"
          },
          "hovermode": "closest",
          "mapbox": {
           "style": "light"
          },
          "paper_bgcolor": "white",
          "plot_bgcolor": "#E5ECF6",
          "polar": {
           "angularaxis": {
            "gridcolor": "white",
            "linecolor": "white",
            "ticks": ""
           },
           "bgcolor": "#E5ECF6",
           "radialaxis": {
            "gridcolor": "white",
            "linecolor": "white",
            "ticks": ""
           }
          },
          "scene": {
           "xaxis": {
            "backgroundcolor": "#E5ECF6",
            "gridcolor": "white",
            "gridwidth": 2,
            "linecolor": "white",
            "showbackground": true,
            "ticks": "",
            "zerolinecolor": "white"
           },
           "yaxis": {
            "backgroundcolor": "#E5ECF6",
            "gridcolor": "white",
            "gridwidth": 2,
            "linecolor": "white",
            "showbackground": true,
            "ticks": "",
            "zerolinecolor": "white"
           },
           "zaxis": {
            "backgroundcolor": "#E5ECF6",
            "gridcolor": "white",
            "gridwidth": 2,
            "linecolor": "white",
            "showbackground": true,
            "ticks": "",
            "zerolinecolor": "white"
           }
          },
          "shapedefaults": {
           "line": {
            "color": "#2a3f5f"
           }
          },
          "ternary": {
           "aaxis": {
            "gridcolor": "white",
            "linecolor": "white",
            "ticks": ""
           },
           "baxis": {
            "gridcolor": "white",
            "linecolor": "white",
            "ticks": ""
           },
           "bgcolor": "#E5ECF6",
           "caxis": {
            "gridcolor": "white",
            "linecolor": "white",
            "ticks": ""
           }
          },
          "title": {
           "x": 0.05
          },
          "xaxis": {
           "automargin": true,
           "gridcolor": "white",
           "linecolor": "white",
           "ticks": "",
           "title": {
            "standoff": 15
           },
           "zerolinecolor": "white",
           "zerolinewidth": 2
          },
          "yaxis": {
           "automargin": true,
           "gridcolor": "white",
           "linecolor": "white",
           "ticks": "",
           "title": {
            "standoff": 15
           },
           "zerolinecolor": "white",
           "zerolinewidth": 2
          }
         }
        },
        "title": {
         "text": "Jährliche Strombereitstellung durch Batterietechnologien (TWh) – alle Szenarien"
        },
        "xaxis": {
         "anchor": "y",
         "domain": [
          0,
          1
         ],
         "title": {
          "text": "Jahr"
         }
        },
        "yaxis": {
         "anchor": "x",
         "domain": [
          0,
          1
         ],
         "title": {
          "text": "Bereitstellung [TWh]"
         }
        }
       }
      }
     },
     "metadata": {},
     "output_type": "display_data"
    }
   ],
   "source": [
    "import plotly.express as px\n",
    "\n",
    "# -----------------------------------------------------------------------------\n",
    "# 1. Kombinierte Plot‐Version: Entladeleistung (GW) je Speichertyp und Szenario\n",
    "# -----------------------------------------------------------------------------\n",
    "#\n",
    "# Hier nutzen wir df_power mit den Spalten [\"Scenario\", \"Year\", \"Type\", \"Value [GW]\"].\n",
    "# Wir zeichnen pro (Type, Scenario) eine eigene Linie, indem wir color=\"Type\"\n",
    "# beibehalten und zusätzlich line_dash=\"Scenario\" setzen.\n",
    "\n",
    "fig_gw_all = px.line(\n",
    "    df_power,\n",
    "    x=\"Year\",\n",
    "    y=\"Value [GW]\",\n",
    "    color=\"Type\",          # gleiche Farben für jeden Speichertyp\n",
    "    line_dash=\"Scenario\",  # unterschiedliche Linientypen (Strichmuster) für jedes Szenario\n",
    "    title=\"Entladeleistung von Batteriespeichern in Deutschland (GW) – alle Szenarien\",\n",
    "    markers=True\n",
    ")\n",
    "\n",
    "fig_gw_all.update_layout(\n",
    "    xaxis_title=\"Jahr\",\n",
    "    yaxis_title=\"Entladeleistung [GW]\",\n",
    "    legend_title_text=\"Speichertyp / Szenario\"\n",
    ")\n",
    "\n",
    "fig_gw_all.show()\n",
    "\n",
    "\n",
    "\n",
    "# -----------------------------------------------------------------------------\n",
    "# 2. Kombinierte Plot‐Version: Energiespeicherkapazität (GWh) je Speichertyp und Szenario\n",
    "# -----------------------------------------------------------------------------\n",
    "#\n",
    "# Hier nutzen wir df_energy mit den Spalten [\"Scenario\", \"Year\", \"Type\", \"Value [GWh]\"].\n",
    "# Auch hier farblich nach Speichertyp, dash‐Linienmuster nach Szenario.\n",
    "\n",
    "fig_gwh_all = px.line(\n",
    "    df_energy,\n",
    "    x=\"Year\",\n",
    "    y=\"Value [GWh]\",\n",
    "    color=\"Type\",\n",
    "    line_dash=\"Scenario\",\n",
    "    title=\"Energiespeicherkapazität von Batteriespeichern in Deutschland (GWh) – alle Szenarien\",\n",
    "    markers=True\n",
    ")\n",
    "\n",
    "fig_gwh_all.update_layout(\n",
    "    xaxis_title=\"Jahr\",\n",
    "    yaxis_title=\"Kapazität [GWh]\",\n",
    "    legend_title_text=\"Speichertyp / Szenario\"\n",
    ")\n",
    "\n",
    "fig_gwh_all.show()\n",
    "\n",
    "\n",
    "\n",
    "# -----------------------------------------------------------------------------\n",
    "# 3. Kombinierte Plot‐Version: Jährliche Strombereitstellung (TWh) je Speichertyp und Szenario\n",
    "# -----------------------------------------------------------------------------\n",
    "#\n",
    "# Für df_discharge ([\"Scenario\",\"Year\",\"Type\",\"Value [TWh]\"]) mappen wir zunächst\n",
    "# die Carrier‐Namen auf lesbare Speichertypen, dann nutzen wir color=\"Type\"\n",
    "# und line_dash=\"Scenario\". Da es sich um eine Bar‐Chart handelt, verwenden wir\n",
    "# allerdings px.bar(). Leider kennt px.bar() kein line_dash, deshalb erstellen wir hier\n",
    "# ein umgebendes Facet für Scenario und color für Type, alle in einem Bild:\n",
    "#\n",
    "#    – color=\"Type\" unterscheidet die Balkenfarben nach Speichertyp\n",
    "#    – pattern_shape=\"Scenario\" („Füllmuster“) trennt zusätzlich die Szenarien;\n",
    "#      Plotly Express unterstützt pattern_shape mittlerweile auch bei bar‐Plots.\n",
    "#\n",
    "# Wenn dein Plotly-Upstream diese Version noch nicht unterstützt, kannst du alternativ\n",
    "# alle Szenarien mit opacity (Transparenz) überlagern oder auf eine reine Linien‐Variante\n",
    "# (px.line mit statistics) zurückgreifen – im Folgenden zeige ich die pattern_shape‐Variante.\n",
    "\n",
    "carrier_map = {\n",
    "    \"battery discharger\":      \"Utility-scale battery\",\n",
    "    \"home battery discharger\": \"Home battery\",\n",
    "    \"V2G\":                     \"EV battery\"\n",
    "}\n",
    "\n",
    "df_discharge_plot = df_discharge.copy()\n",
    "df_discharge_plot[\"Type\"] = df_discharge_plot[\"Type\"].map(carrier_map)\n",
    "\n",
    "# px.bar mit pattern_shape\n",
    "fig_discharge_all = px.bar(\n",
    "    df_discharge_plot,\n",
    "    x=\"Year\",\n",
    "    y=\"Value [TWh]\",\n",
    "    color=\"Type\",\n",
    "    pattern_shape=\"Scenario\",\n",
    "    barmode=\"group\",\n",
    "    title=\"Jährliche Strombereitstellung durch Batterietechnologien (TWh) – alle Szenarien\"\n",
    ")\n",
    "\n",
    "fig_discharge_all.update_layout(\n",
    "    xaxis_title=\"Jahr\",\n",
    "    yaxis_title=\"Bereitstellung [TWh]\",\n",
    "    legend_title_text=\"Speichertyp / Szenario\"\n",
    ")\n",
    "\n",
    "fig_discharge_all.show()\n"
   ]
  },
  {
   "cell_type": "code",
   "execution_count": 41,
   "id": "020a4e31",
   "metadata": {},
   "outputs": [
    {
     "name": "stderr",
     "output_type": "stream",
     "text": [
      "c:\\Users\\morit\\.conda\\envs\\pypsa-de\\Lib\\site-packages\\_plotly_utils\\basevalidators.py:2596: DeprecationWarning:\n",
      "\n",
      "*scattermapbox* is deprecated! Use *scattermap* instead. Learn more at: https://plotly.com/python/mapbox-to-maplibre/\n",
      "\n"
     ]
    },
    {
     "data": {
      "application/vnd.plotly.v1+json": {
       "config": {
        "plotlyServerURL": "https://plot.ly"
       },
       "data": [
        {
         "line": {
          "color": "blue",
          "dash": "dot"
         },
         "mode": "lines+markers",
         "name": "KN2045_Mix: BEV charger – Max",
         "type": "scatter",
         "x": {
          "bdata": "5AfpB+4H8wf4B/0HAgg=",
          "dtype": "i2"
         },
         "y": {
          "bdata": "aCDmpkvlOEBNmCy9+KtSQE2YLL34q2JAdeTCG/UBbEBcXAkyosh1QG6CVGGgc3pAe0Yx1kmQfUA=",
          "dtype": "f8"
         }
        },
        {
         "fill": "toself",
         "fillcolor": "rgba(0, 180, 255, 0.2)",
         "hoverinfo": "skip",
         "line": {
          "color": "rgba(255,255,255,0)"
         },
         "name": "KN2045_Mix: BEV charger – Range",
         "showlegend": false,
         "type": "scatter",
         "x": [
          2020,
          2025,
          2030,
          2035,
          2040,
          2045,
          2050,
          2050,
          2045,
          2040,
          2035,
          2030,
          2025,
          2020
         ],
         "y": [
          24.89568560713124,
          74.68705682139371,
          149.37411364278742,
          224.06117046418117,
          348.53959849983744,
          423.2266553212311,
          473.01802653549356,
          311.53521732094737,
          278.7420365503213,
          229.55226539438223,
          147.56931346781718,
          98.37954231187811,
          49.189771155939056,
          16.396590385313022
         ]
        },
        {
         "line": {
          "color": "violet",
          "dash": "dot"
         },
         "mode": "lines+markers",
         "name": "KN2045_Mix: BEV charger – Min",
         "type": "scatter",
         "x": {
          "bdata": "5AfpB+4H8wf4B/0HAgg=",
          "dtype": "i2"
         },
         "y": {
          "bdata": "1dOO8oZlMEC+PdZrSphIQL491mtKmFhAT67g0DdyYkCy8nkorLFsQBHBt2Hfa3FAjJsJQJB4c0A=",
          "dtype": "f8"
         }
        },
        {
         "line": {
          "color": "green",
          "width": 2
         },
         "mode": "lines+markers",
         "name": "KN2045_Mix: BEV charger – Mean",
         "type": "scatter",
         "x": {
          "bdata": "5AfpB+4H8wf4B/0HAgg=",
          "dtype": "i2"
         },
         "y": {
          "bdata": "evQXRMGNNEC17iPmodROQLXuI+ah1F5ACPOabHkfZ0Dp9ZQbCfxxQMFzWVid1nVAT3LcgFVoeEA=",
          "dtype": "f8"
         }
        },
        {
         "line": {
          "color": "blue",
          "dash": "dot"
         },
         "mode": "lines+markers",
         "name": "KN2045_Mix_3H: BEV charger – Max",
         "type": "scatter",
         "x": {
          "bdata": "5AfpB+4H8wf4B/0HAgg=",
          "dtype": "i2"
         },
         "y": {
          "bdata": "aCDmpkvlOEBNmCy9+KtSQE2YLL34q2JAdeTCG/UBbEBcXAkyosh1QG6CVGGgc3pAe0Yx1kmQfUA=",
          "dtype": "f8"
         }
        },
        {
         "fill": "toself",
         "fillcolor": "rgba(0, 180, 255, 0.2)",
         "hoverinfo": "skip",
         "line": {
          "color": "rgba(255,255,255,0)"
         },
         "name": "KN2045_Mix_3H: BEV charger – Range",
         "showlegend": false,
         "type": "scatter",
         "x": [
          2020,
          2025,
          2030,
          2035,
          2040,
          2045,
          2050,
          2050,
          2045,
          2040,
          2035,
          2030,
          2025,
          2020
         ],
         "y": [
          24.89568560713124,
          74.68705682139371,
          149.37411364278742,
          224.06117046418117,
          348.53959849983744,
          423.2266553212311,
          473.01802653549356,
          312.80470970716425,
          279.87789815904165,
          230.48768083685783,
          148.1706519665515,
          98.78043464436765,
          49.39021732218382,
          16.463405774061275
         ]
        },
        {
         "line": {
          "color": "violet",
          "dash": "dot"
         },
         "mode": "lines+markers",
         "name": "KN2045_Mix_3H: BEV charger – Min",
         "type": "scatter",
         "x": {
          "bdata": "5AfpB+4H8wf4B/0HAgg=",
          "dtype": "i2"
         },
         "y": {
          "bdata": "6V7EwqF2MEBdjiak8rFIQF2OJqTysVhAx+oc+3WFYkAXptcUm89sQNek8N4LfnFAtTBJF+CMc0A=",
          "dtype": "f8"
         }
        },
        {
         "line": {
          "color": "green",
          "width": 2
         },
         "mode": "lines+markers",
         "name": "KN2045_Mix_3H: BEV charger – Mean",
         "type": "scatter",
         "x": {
          "bdata": "5AfpB+4H8wf4B/0HAgg=",
          "dtype": "i2"
         },
         "y": {
          "bdata": "dZRqPM/+NECv3p/aNn5PQK/en9o2fl9ABOf3I6meZ0DlQd1U9V5yQLs9MTC8TnZAS5C+F5bueEA=",
          "dtype": "f8"
         }
        },
        {
         "line": {
          "color": "blue",
          "dash": "dot"
         },
         "mode": "lines+markers",
         "name": "KN2045_Mix_Base: BEV charger – Max",
         "type": "scatter",
         "x": {
          "bdata": "5AfpB+4H8wf4B/0HAgg=",
          "dtype": "i2"
         },
         "y": {
          "bdata": "MBbcAuEANUBIIUqEUYFPQEghSoRRgV9A9pg3I/2gZ0Bpk4DixGByQJLXCRPvUHZAWVplMwvxeEA=",
          "dtype": "f8"
         }
        },
        {
         "fill": "toself",
         "fillcolor": "rgba(0, 180, 255, 0.2)",
         "hoverinfo": "skip",
         "line": {
          "color": "rgba(255,255,255,0)"
         },
         "name": "KN2045_Mix_Base: BEV charger – Range",
         "showlegend": false,
         "type": "scatter",
         "x": [
          2020,
          2025,
          2030,
          2035,
          2040,
          2045,
          2050,
          2050,
          2045,
          2040,
          2035,
          2030,
          2025,
          2020
         ],
         "y": [
          21.003433397991273,
          63.01030019397382,
          126.02060038794764,
          189.03090058192146,
          294.04806757187777,
          357.0583677658516,
          399.0652345618342,
          398.66146699206035,
          356.69710204552774,
          293.7505546257287,
          188.839642259397,
          125.893094839598,
          62.946547419799,
          20.982182473266334
         ]
        },
        {
         "line": {
          "color": "violet",
          "dash": "dot"
         },
         "mode": "lines+markers",
         "name": "KN2045_Mix_Base: BEV charger – Min",
         "type": "scatter",
         "x": {
          "bdata": "5AfpB+4H8wf4B/0HAgg=",
          "dtype": "i2"
         },
         "y": {
          "bdata": "IGKBT3D7NEAwE0J3KHlPQDATQncoeV9AZI5xWd6aZ0DcNZFFAlxyQEN4eVQnS3ZAhqRpXpXqeEA=",
          "dtype": "f8"
         }
        },
        {
         "line": {
          "color": "green",
          "width": 2
         },
         "mode": "lines+markers",
         "name": "KN2045_Mix_Base: BEV charger – Mean",
         "type": "scatter",
         "x": {
          "bdata": "5AfpB+4H8wf4B/0HAgg=",
          "dtype": "i2"
         },
         "y": {
          "bdata": "d5RqPM/+NECx3p/aNn5PQLHen9o2fl9ABef3I6meZ0DnQd1U9V5yQL09MTC8TnZATZC+F5bueEA=",
          "dtype": "f8"
         }
        },
        {
         "mode": "lines+markers",
         "name": "KN2045_Mix: Utility-scale battery",
         "type": "scatter",
         "x": {
          "bdata": "5AfpB+4H8wf4B/0HAgg=",
          "dtype": "i2"
         },
         "y": {
          "bdata": "6f46yCZTgz8UdIt1o9ZBPzPM4MbB0RBAmKdKiOu3P0A4lv4v++9GQDoizHy4CUdApa19a6nlUEA=",
          "dtype": "f8"
         }
        },
        {
         "mode": "lines+markers",
         "name": "KN2045_Mix_3H: Utility-scale battery",
         "type": "scatter",
         "x": {
          "bdata": "5AfpB+4H8wf4B/0HAgg=",
          "dtype": "i2"
         },
         "y": {
          "bdata": "9tgKXYTPQD+wJs/ARQhAPypvP6NXBhJAUqVHdXAyQECqIYx0n69HQPa186Csr0dAaO2L4yogUEA=",
          "dtype": "f8"
         }
        },
        {
         "mode": "lines+markers",
         "name": "KN2045_Mix_Base: Utility-scale battery",
         "type": "scatter",
         "x": {
          "bdata": "5AfpB+4H8wf4B/0HAgg=",
          "dtype": "i2"
         },
         "y": {
          "bdata": "Qru3Y4CneD57FEQTSLBFPcHKdQmvBUQ9JPWayNTXuj7j1QLw919HPY/aVD0enBg9smmNGWbRET0=",
          "dtype": "f8"
         }
        },
        {
         "mode": "lines+markers",
         "name": "KN2045_Mix: Home battery",
         "type": "scatter",
         "x": {
          "bdata": "5AfpB+4H8wf4B/0HAgg=",
          "dtype": "i2"
         },
         "y": {
          "bdata": "Vvvmp3l+0j+S0bqKxbkCQJuX9gAarABAUMh9QbkOHUDjBJLcogEfQGbqJBt4DhVAVLuzJ8McFkA=",
          "dtype": "f8"
         }
        },
        {
         "mode": "lines+markers",
         "name": "KN2045_Mix_3H: Home battery",
         "type": "scatter",
         "x": {
          "bdata": "5AfpB+4H8wf4B/0HAgg=",
          "dtype": "i2"
         },
         "y": {
          "bdata": "rnurqi3iSD/H9vKi5jhKP/A90oz8HeE/5Lk54uzh/z8hrbic2Hb7P/PNdBIOP/M/AY/Zz3dV8z8=",
          "dtype": "f8"
         }
        },
        {
         "mode": "lines+markers",
         "name": "KN2045_Mix_Base: Home battery",
         "type": "scatter",
         "x": {
          "bdata": "5AfpB+4H8wf4B/0HAgg=",
          "dtype": "i2"
         },
         "y": {
          "bdata": "L37O4C6PcT4S3gt8I84RQLo8vCKD3zRAmKJEQ6ADQ0D8k2zWBCZLQN06JuMsd05A2zom4yx3TkA=",
          "dtype": "f8"
         }
        },
        {
         "mode": "lines+markers",
         "name": "KN2045_Mix: EV battery",
         "type": "scatter",
         "x": {
          "bdata": "5AfpB+4H8wf4B/0HAgg=",
          "dtype": "i2"
         },
         "y": {
          "bdata": "sG0H2Wg+OkBEksWizq5TQESSxaLOrmNAZlso9DWGbUD6f+a9m/Z2QIvkl2ZP4ntAQtK4gRwqf0A=",
          "dtype": "f8"
         }
        },
        {
         "mode": "lines+markers",
         "name": "KN2045_Mix_3H: EV battery",
         "type": "scatter",
         "x": {
          "bdata": "5AfpB+4H8wf4B/0HAgg=",
          "dtype": "i2"
         },
         "y": {
          "bdata": "sG0H2Wg+OkBEksWizq5TQESSxaLOrmNAZlso9DWGbUD6f+a9m/Z2QIvkl2ZP4ntAQtK4gRwqf0A=",
          "dtype": "f8"
         }
        },
        {
         "mode": "lines+markers",
         "name": "KN2045_Mix_Base: EV battery",
         "type": "scatter",
         "x": {
          "bdata": "5AfpB+4H8wf4B/0HAgg=",
          "dtype": "i2"
         },
         "y": {
          "bdata": "sm0H2Wg+OkBGksWizq5TQEaSxaLOrmNAaFso9DWGbUD8f+a9m/Z2QI3kl2ZP4ntARNK4gRwqf0A=",
          "dtype": "f8"
         }
        }
       ],
       "layout": {
        "legend": {
         "itemsizing": "constant",
         "orientation": "v",
         "title": {
          "text": "Szenario / Typ"
         },
         "traceorder": "normal",
         "x": 1.02,
         "xanchor": "left",
         "y": 0.95,
         "yanchor": "top"
        },
        "template": {
         "data": {
          "bar": [
           {
            "error_x": {
             "color": "#2a3f5f"
            },
            "error_y": {
             "color": "#2a3f5f"
            },
            "marker": {
             "line": {
              "color": "white",
              "width": 0.5
             },
             "pattern": {
              "fillmode": "overlay",
              "size": 10,
              "solidity": 0.2
             }
            },
            "type": "bar"
           }
          ],
          "barpolar": [
           {
            "marker": {
             "line": {
              "color": "white",
              "width": 0.5
             },
             "pattern": {
              "fillmode": "overlay",
              "size": 10,
              "solidity": 0.2
             }
            },
            "type": "barpolar"
           }
          ],
          "carpet": [
           {
            "aaxis": {
             "endlinecolor": "#2a3f5f",
             "gridcolor": "#C8D4E3",
             "linecolor": "#C8D4E3",
             "minorgridcolor": "#C8D4E3",
             "startlinecolor": "#2a3f5f"
            },
            "baxis": {
             "endlinecolor": "#2a3f5f",
             "gridcolor": "#C8D4E3",
             "linecolor": "#C8D4E3",
             "minorgridcolor": "#C8D4E3",
             "startlinecolor": "#2a3f5f"
            },
            "type": "carpet"
           }
          ],
          "choropleth": [
           {
            "colorbar": {
             "outlinewidth": 0,
             "ticks": ""
            },
            "type": "choropleth"
           }
          ],
          "contour": [
           {
            "colorbar": {
             "outlinewidth": 0,
             "ticks": ""
            },
            "colorscale": [
             [
              0,
              "#0d0887"
             ],
             [
              0.1111111111111111,
              "#46039f"
             ],
             [
              0.2222222222222222,
              "#7201a8"
             ],
             [
              0.3333333333333333,
              "#9c179e"
             ],
             [
              0.4444444444444444,
              "#bd3786"
             ],
             [
              0.5555555555555556,
              "#d8576b"
             ],
             [
              0.6666666666666666,
              "#ed7953"
             ],
             [
              0.7777777777777778,
              "#fb9f3a"
             ],
             [
              0.8888888888888888,
              "#fdca26"
             ],
             [
              1,
              "#f0f921"
             ]
            ],
            "type": "contour"
           }
          ],
          "contourcarpet": [
           {
            "colorbar": {
             "outlinewidth": 0,
             "ticks": ""
            },
            "type": "contourcarpet"
           }
          ],
          "heatmap": [
           {
            "colorbar": {
             "outlinewidth": 0,
             "ticks": ""
            },
            "colorscale": [
             [
              0,
              "#0d0887"
             ],
             [
              0.1111111111111111,
              "#46039f"
             ],
             [
              0.2222222222222222,
              "#7201a8"
             ],
             [
              0.3333333333333333,
              "#9c179e"
             ],
             [
              0.4444444444444444,
              "#bd3786"
             ],
             [
              0.5555555555555556,
              "#d8576b"
             ],
             [
              0.6666666666666666,
              "#ed7953"
             ],
             [
              0.7777777777777778,
              "#fb9f3a"
             ],
             [
              0.8888888888888888,
              "#fdca26"
             ],
             [
              1,
              "#f0f921"
             ]
            ],
            "type": "heatmap"
           }
          ],
          "histogram": [
           {
            "marker": {
             "pattern": {
              "fillmode": "overlay",
              "size": 10,
              "solidity": 0.2
             }
            },
            "type": "histogram"
           }
          ],
          "histogram2d": [
           {
            "colorbar": {
             "outlinewidth": 0,
             "ticks": ""
            },
            "colorscale": [
             [
              0,
              "#0d0887"
             ],
             [
              0.1111111111111111,
              "#46039f"
             ],
             [
              0.2222222222222222,
              "#7201a8"
             ],
             [
              0.3333333333333333,
              "#9c179e"
             ],
             [
              0.4444444444444444,
              "#bd3786"
             ],
             [
              0.5555555555555556,
              "#d8576b"
             ],
             [
              0.6666666666666666,
              "#ed7953"
             ],
             [
              0.7777777777777778,
              "#fb9f3a"
             ],
             [
              0.8888888888888888,
              "#fdca26"
             ],
             [
              1,
              "#f0f921"
             ]
            ],
            "type": "histogram2d"
           }
          ],
          "histogram2dcontour": [
           {
            "colorbar": {
             "outlinewidth": 0,
             "ticks": ""
            },
            "colorscale": [
             [
              0,
              "#0d0887"
             ],
             [
              0.1111111111111111,
              "#46039f"
             ],
             [
              0.2222222222222222,
              "#7201a8"
             ],
             [
              0.3333333333333333,
              "#9c179e"
             ],
             [
              0.4444444444444444,
              "#bd3786"
             ],
             [
              0.5555555555555556,
              "#d8576b"
             ],
             [
              0.6666666666666666,
              "#ed7953"
             ],
             [
              0.7777777777777778,
              "#fb9f3a"
             ],
             [
              0.8888888888888888,
              "#fdca26"
             ],
             [
              1,
              "#f0f921"
             ]
            ],
            "type": "histogram2dcontour"
           }
          ],
          "mesh3d": [
           {
            "colorbar": {
             "outlinewidth": 0,
             "ticks": ""
            },
            "type": "mesh3d"
           }
          ],
          "parcoords": [
           {
            "line": {
             "colorbar": {
              "outlinewidth": 0,
              "ticks": ""
             }
            },
            "type": "parcoords"
           }
          ],
          "pie": [
           {
            "automargin": true,
            "type": "pie"
           }
          ],
          "scatter": [
           {
            "fillpattern": {
             "fillmode": "overlay",
             "size": 10,
             "solidity": 0.2
            },
            "type": "scatter"
           }
          ],
          "scatter3d": [
           {
            "line": {
             "colorbar": {
              "outlinewidth": 0,
              "ticks": ""
             }
            },
            "marker": {
             "colorbar": {
              "outlinewidth": 0,
              "ticks": ""
             }
            },
            "type": "scatter3d"
           }
          ],
          "scattercarpet": [
           {
            "marker": {
             "colorbar": {
              "outlinewidth": 0,
              "ticks": ""
             }
            },
            "type": "scattercarpet"
           }
          ],
          "scattergeo": [
           {
            "marker": {
             "colorbar": {
              "outlinewidth": 0,
              "ticks": ""
             }
            },
            "type": "scattergeo"
           }
          ],
          "scattergl": [
           {
            "marker": {
             "colorbar": {
              "outlinewidth": 0,
              "ticks": ""
             }
            },
            "type": "scattergl"
           }
          ],
          "scattermap": [
           {
            "marker": {
             "colorbar": {
              "outlinewidth": 0,
              "ticks": ""
             }
            },
            "type": "scattermap"
           }
          ],
          "scattermapbox": [
           {
            "marker": {
             "colorbar": {
              "outlinewidth": 0,
              "ticks": ""
             }
            },
            "type": "scattermapbox"
           }
          ],
          "scatterpolar": [
           {
            "marker": {
             "colorbar": {
              "outlinewidth": 0,
              "ticks": ""
             }
            },
            "type": "scatterpolar"
           }
          ],
          "scatterpolargl": [
           {
            "marker": {
             "colorbar": {
              "outlinewidth": 0,
              "ticks": ""
             }
            },
            "type": "scatterpolargl"
           }
          ],
          "scatterternary": [
           {
            "marker": {
             "colorbar": {
              "outlinewidth": 0,
              "ticks": ""
             }
            },
            "type": "scatterternary"
           }
          ],
          "surface": [
           {
            "colorbar": {
             "outlinewidth": 0,
             "ticks": ""
            },
            "colorscale": [
             [
              0,
              "#0d0887"
             ],
             [
              0.1111111111111111,
              "#46039f"
             ],
             [
              0.2222222222222222,
              "#7201a8"
             ],
             [
              0.3333333333333333,
              "#9c179e"
             ],
             [
              0.4444444444444444,
              "#bd3786"
             ],
             [
              0.5555555555555556,
              "#d8576b"
             ],
             [
              0.6666666666666666,
              "#ed7953"
             ],
             [
              0.7777777777777778,
              "#fb9f3a"
             ],
             [
              0.8888888888888888,
              "#fdca26"
             ],
             [
              1,
              "#f0f921"
             ]
            ],
            "type": "surface"
           }
          ],
          "table": [
           {
            "cells": {
             "fill": {
              "color": "#EBF0F8"
             },
             "line": {
              "color": "white"
             }
            },
            "header": {
             "fill": {
              "color": "#C8D4E3"
             },
             "line": {
              "color": "white"
             }
            },
            "type": "table"
           }
          ]
         },
         "layout": {
          "annotationdefaults": {
           "arrowcolor": "#2a3f5f",
           "arrowhead": 0,
           "arrowwidth": 1
          },
          "autotypenumbers": "strict",
          "coloraxis": {
           "colorbar": {
            "outlinewidth": 0,
            "ticks": ""
           }
          },
          "colorscale": {
           "diverging": [
            [
             0,
             "#8e0152"
            ],
            [
             0.1,
             "#c51b7d"
            ],
            [
             0.2,
             "#de77ae"
            ],
            [
             0.3,
             "#f1b6da"
            ],
            [
             0.4,
             "#fde0ef"
            ],
            [
             0.5,
             "#f7f7f7"
            ],
            [
             0.6,
             "#e6f5d0"
            ],
            [
             0.7,
             "#b8e186"
            ],
            [
             0.8,
             "#7fbc41"
            ],
            [
             0.9,
             "#4d9221"
            ],
            [
             1,
             "#276419"
            ]
           ],
           "sequential": [
            [
             0,
             "#0d0887"
            ],
            [
             0.1111111111111111,
             "#46039f"
            ],
            [
             0.2222222222222222,
             "#7201a8"
            ],
            [
             0.3333333333333333,
             "#9c179e"
            ],
            [
             0.4444444444444444,
             "#bd3786"
            ],
            [
             0.5555555555555556,
             "#d8576b"
            ],
            [
             0.6666666666666666,
             "#ed7953"
            ],
            [
             0.7777777777777778,
             "#fb9f3a"
            ],
            [
             0.8888888888888888,
             "#fdca26"
            ],
            [
             1,
             "#f0f921"
            ]
           ],
           "sequentialminus": [
            [
             0,
             "#0d0887"
            ],
            [
             0.1111111111111111,
             "#46039f"
            ],
            [
             0.2222222222222222,
             "#7201a8"
            ],
            [
             0.3333333333333333,
             "#9c179e"
            ],
            [
             0.4444444444444444,
             "#bd3786"
            ],
            [
             0.5555555555555556,
             "#d8576b"
            ],
            [
             0.6666666666666666,
             "#ed7953"
            ],
            [
             0.7777777777777778,
             "#fb9f3a"
            ],
            [
             0.8888888888888888,
             "#fdca26"
            ],
            [
             1,
             "#f0f921"
            ]
           ]
          },
          "colorway": [
           "#636efa",
           "#EF553B",
           "#00cc96",
           "#ab63fa",
           "#FFA15A",
           "#19d3f3",
           "#FF6692",
           "#B6E880",
           "#FF97FF",
           "#FECB52"
          ],
          "font": {
           "color": "#2a3f5f"
          },
          "geo": {
           "bgcolor": "white",
           "lakecolor": "white",
           "landcolor": "white",
           "showlakes": true,
           "showland": true,
           "subunitcolor": "#C8D4E3"
          },
          "hoverlabel": {
           "align": "left"
          },
          "hovermode": "closest",
          "mapbox": {
           "style": "light"
          },
          "paper_bgcolor": "white",
          "plot_bgcolor": "white",
          "polar": {
           "angularaxis": {
            "gridcolor": "#EBF0F8",
            "linecolor": "#EBF0F8",
            "ticks": ""
           },
           "bgcolor": "white",
           "radialaxis": {
            "gridcolor": "#EBF0F8",
            "linecolor": "#EBF0F8",
            "ticks": ""
           }
          },
          "scene": {
           "xaxis": {
            "backgroundcolor": "white",
            "gridcolor": "#DFE8F3",
            "gridwidth": 2,
            "linecolor": "#EBF0F8",
            "showbackground": true,
            "ticks": "",
            "zerolinecolor": "#EBF0F8"
           },
           "yaxis": {
            "backgroundcolor": "white",
            "gridcolor": "#DFE8F3",
            "gridwidth": 2,
            "linecolor": "#EBF0F8",
            "showbackground": true,
            "ticks": "",
            "zerolinecolor": "#EBF0F8"
           },
           "zaxis": {
            "backgroundcolor": "white",
            "gridcolor": "#DFE8F3",
            "gridwidth": 2,
            "linecolor": "#EBF0F8",
            "showbackground": true,
            "ticks": "",
            "zerolinecolor": "#EBF0F8"
           }
          },
          "shapedefaults": {
           "line": {
            "color": "#2a3f5f"
           }
          },
          "ternary": {
           "aaxis": {
            "gridcolor": "#DFE8F3",
            "linecolor": "#A2B1C6",
            "ticks": ""
           },
           "baxis": {
            "gridcolor": "#DFE8F3",
            "linecolor": "#A2B1C6",
            "ticks": ""
           },
           "bgcolor": "white",
           "caxis": {
            "gridcolor": "#DFE8F3",
            "linecolor": "#A2B1C6",
            "ticks": ""
           }
          },
          "title": {
           "x": 0.05
          },
          "xaxis": {
           "automargin": true,
           "gridcolor": "#EBF0F8",
           "linecolor": "#EBF0F8",
           "ticks": "",
           "title": {
            "standoff": 15
           },
           "zerolinecolor": "#EBF0F8",
           "zerolinewidth": 2
          },
          "yaxis": {
           "automargin": true,
           "gridcolor": "#EBF0F8",
           "linecolor": "#EBF0F8",
           "ticks": "",
           "title": {
            "standoff": 15
           },
           "zerolinecolor": "#EBF0F8",
           "zerolinewidth": 2
          }
         }
        },
        "title": {
         "text": "Effektiv verfügbare Ladeleistung von Batteriespeichern (GW) – alle Szenarien inkl. BEV-Charger"
        },
        "xaxis": {
         "title": {
          "text": "Jahr"
         }
        },
        "yaxis": {
         "title": {
          "text": "Verfügbare Ladeleistung [GW]"
         }
        }
       }
      }
     },
     "metadata": {},
     "output_type": "display_data"
    }
   ],
   "source": [
    "fig_bev = go.Figure()\n",
    "\n",
    "# a) BEV-Charger-Spannweite für jedes Szenario zeichnen\n",
    "for scenario in df_bev_range[\"Scenario\"].unique():\n",
    "    df_scen_bev = df_bev_range[df_bev_range[\"Scenario\"] == scenario]\n",
    "    df_min  = df_scen_bev[df_scen_bev[\"Type\"] == \"EV battery (BEV charger) - Min\"].sort_values(\"Year\")\n",
    "    df_mean = df_scen_bev[df_scen_bev[\"Type\"] == \"EV battery (BEV charger) - Mean\"].sort_values(\"Year\")\n",
    "    df_max  = df_scen_bev[df_scen_bev[\"Type\"] == \"EV battery (BEV charger) - Max\"].sort_values(\"Year\")\n",
    "\n",
    "    x = df_mean[\"Year\"]\n",
    "\n",
    "    # Max-Linie\n",
    "    fig_bev.add_trace(go.Scatter(\n",
    "        x=x,\n",
    "        y=df_max[\"Value [GW]\"],\n",
    "        mode=\"lines+markers\",\n",
    "        line=dict(\n",
    "            color=bev_colors[\"EV battery (BEV charger) - Max\"],\n",
    "            dash=bev_dash[\"EV battery (BEV charger) - Max\"]\n",
    "        ),\n",
    "        name=f\"{scenario}: BEV charger – Max\"\n",
    "    ))\n",
    "\n",
    "    # Fläche zwischen Min und Max (schattierte Spannweite)\n",
    "    fig_bev.add_trace(go.Scatter(\n",
    "        x=x.tolist() + x[::-1].tolist(),\n",
    "        y=(df_max[\"Value [GW]\"].tolist() + df_min[\"Value [GW]\"][::-1].tolist()),\n",
    "        fill=\"toself\",\n",
    "        fillcolor=\"rgba(0, 180, 255, 0.2)\",\n",
    "        line=dict(color=\"rgba(255,255,255,0)\"),\n",
    "        hoverinfo=\"skip\",\n",
    "        showlegend=False,\n",
    "        name=f\"{scenario}: BEV charger – Range\"\n",
    "    ))\n",
    "\n",
    "    # Min-Linie\n",
    "    fig_bev.add_trace(go.Scatter(\n",
    "        x=x,\n",
    "        y=df_min[\"Value [GW]\"],\n",
    "        mode=\"lines+markers\",\n",
    "        line=dict(\n",
    "            color=bev_colors[\"EV battery (BEV charger) - Min\"],\n",
    "            dash=bev_dash[\"EV battery (BEV charger) - Min\"]\n",
    "        ),\n",
    "        name=f\"{scenario}: BEV charger – Min\"\n",
    "    ))\n",
    "\n",
    "    # Mean-Linie\n",
    "    fig_bev.add_trace(go.Scatter(\n",
    "        x=x,\n",
    "        y=df_mean[\"Value [GW]\"],\n",
    "        mode=\"lines+markers\",\n",
    "        line=dict(color=bev_colors[\"EV battery (BEV charger) - Mean\"], width=2),\n",
    "        name=f\"{scenario}: BEV charger – Mean\"\n",
    "    ))\n",
    "\n",
    "# b) Haupt‐Speicherkurven (Utility-scale, Home, EV battery) pro Szenario\n",
    "main_techs = [\"Utility-scale battery\", \"Home battery\", \"EV battery\"]\n",
    "for tech in main_techs:\n",
    "    df_tech = df_power[df_power[\"Type\"] == tech]\n",
    "    for scenario in df_tech[\"Scenario\"].unique():\n",
    "        df_sub = df_tech[df_tech[\"Scenario\"] == scenario].sort_values(\"Year\")\n",
    "        if df_sub.empty:\n",
    "            continue\n",
    "        fig_bev.add_trace(go.Scatter(\n",
    "            x=df_sub[\"Year\"],\n",
    "            y=df_sub[\"Value [GW]\"],\n",
    "            mode=\"lines+markers\",\n",
    "            name=f\"{scenario}: {tech}\"\n",
    "        ))\n",
    "\n",
    "# c) Layout anpassen\n",
    "fig_bev.update_layout(\n",
    "    title=\"Effektiv verfügbare Ladeleistung von Batteriespeichern (GW) – alle Szenarien inkl. BEV-Charger\",\n",
    "    xaxis_title=\"Jahr\",\n",
    "    yaxis_title=\"Verfügbare Ladeleistung [GW]\",\n",
    "    template=\"plotly_white\",\n",
    "    legend_title_text=\"Szenario / Typ\",\n",
    "    legend=dict(\n",
    "        orientation=\"v\",\n",
    "        yanchor=\"top\",\n",
    "        y=0.95,\n",
    "        xanchor=\"left\",\n",
    "        x=1.02,\n",
    "        traceorder=\"normal\",\n",
    "        itemsizing=\"constant\"\n",
    "    )\n",
    ")\n",
    "\n",
    "fig_bev.show()\n"
   ]
  },
  {
   "cell_type": "code",
   "execution_count": null,
   "id": "1ba52b25",
   "metadata": {},
   "outputs": [],
   "source": []
  }
 ],
 "metadata": {
  "kernelspec": {
   "display_name": "pypsa-de",
   "language": "python",
   "name": "python3"
  },
  "language_info": {
   "codemirror_mode": {
    "name": "ipython",
    "version": 3
   },
   "file_extension": ".py",
   "mimetype": "text/x-python",
   "name": "python",
   "nbconvert_exporter": "python",
   "pygments_lexer": "ipython3",
   "version": "3.12.10"
  }
 },
 "nbformat": 4,
 "nbformat_minor": 5
}
