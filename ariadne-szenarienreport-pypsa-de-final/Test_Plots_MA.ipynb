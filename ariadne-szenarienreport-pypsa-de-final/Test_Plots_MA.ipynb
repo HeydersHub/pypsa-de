{
 "cells": [
  {
   "cell_type": "code",
   "execution_count": 14,
   "id": "779864a1",
   "metadata": {},
   "outputs": [],
   "source": [
    "import plotly.graph_objects as go\n",
    "import plotly.express as px\n",
    "import pypsa\n",
    "import pandas as pd\n",
    "import numpy as np\n",
    "import matplotlib.pyplot as plt\n",
    "import yaml\n",
    "import plotly.express as px\n",
    "import gc\n",
    "import re\n",
    "import os\n"
   ]
  },
  {
   "cell_type": "code",
   "execution_count": 2,
   "id": "aced345a",
   "metadata": {},
   "outputs": [],
   "source": [
    "import sys\n",
    "sys.path.append(\"../../scripts/pypsa-de\")"
   ]
  },
  {
   "cell_type": "code",
   "execution_count": 4,
   "id": "ba77da50",
   "metadata": {},
   "outputs": [],
   "source": [
    "# Tech Colors aus AriadneReport laden\n",
    "with open(\"../config/plotting.default.yaml\", \"r\") as f:\n",
    "    plotting_config = yaml.safe_load(f)\n",
    "\n",
    "tech_colors = plotting_config[\"plotting\"][\"tech_colors\"]"
   ]
  },
  {
   "cell_type": "code",
   "execution_count": 5,
   "id": "cee3da08",
   "metadata": {},
   "outputs": [],
   "source": [
    "# ====================\n",
    "# 2. Vor-Definitionen\n",
    "# ====================\n",
    "\n",
    "# 2.1 Farben und Linienstile für BEV-Charger-Plot\n",
    "bev_colors = {\n",
    "    \"EV battery (BEV charger) - Min\":   \"violet\",\n",
    "    \"EV battery (BEV charger) - Mean\":  \"green\",\n",
    "    \"EV battery (BEV charger) - Max\":   \"blue\"\n",
    "}\n",
    "bev_dash = {\n",
    "    \"EV battery (BEV charger) - Min\":   \"dot\",\n",
    "    \"EV battery (BEV charger) - Mean\":  \"solid\",\n",
    "    \"EV battery (BEV charger) - Max\":   \"dot\"\n",
    "}\n",
    "\n",
    "# 2.2 Mapping der Carrier (für Discharge-Plot)\n",
    "carrier_map = {\n",
    "    \"battery discharger\":        \"Utility-scale battery\",\n",
    "    \"home battery discharger\":   \"Home battery\",\n",
    "    \"V2G\":                       \"EV battery\"\n",
    "}\n",
    "\n",
    "# 2.3 Speichertyp-Konfiguration (für extract_metrics)\n",
    "storage_config = {\n",
    "    \"Utility-scale battery\": {\"store\": \"battery\",           \"link\": \"battery discharger\"},\n",
    "    \"Home battery\":           {\"store\": \"home battery\",     \"link\": \"home battery discharger\"},\n",
    "    \"EV battery\":             {\"store\": \"EV battery\",       \"link\": \"BEV charger\"}\n",
    "}\n",
    "\n",
    "# 2.4 Hilfsfunktion: Versucht, aus einem Dateinamen eine vierstellige Jahreszahl zu extrahieren\n",
    "def parse_year_from_filename(filename: str) -> int:\n",
    "    m = re.search(r\"(\\d{4})\", filename)\n",
    "    return int(m.group(1)) if m else None\n",
    "\n",
    "# 2.5 Funktion: BEV-Charger (Min/Mean/Max) in Deutschland aus einem Netzwerk extrahieren (in GW)\n",
    "def get_bev_charger_range_DE(net: pypsa.Network):\n",
    "    bev_idx = net.links.index[\n",
    "        (net.links.carrier == \"BEV charger\") &\n",
    "        (net.links.bus0.str.startswith(\"DE\"))\n",
    "    ]\n",
    "    if len(bev_idx) == 0:\n",
    "        return 0.0, 0.0, 0.0\n",
    "\n",
    "    eff_p = net.links_t.p_max_pu[bev_idx].multiply(net.links.p_nom[bev_idx], axis=1)\n",
    "    summed = eff_p.sum(axis=1)\n",
    "\n",
    "    p_min  = summed.min()  / 1e3  # MW → GW\n",
    "    p_mean = summed.mean() / 1e3\n",
    "    p_max  = summed.max()  / 1e3\n",
    "    return p_min, p_mean, p_max\n"
   ]
  },
  {
   "cell_type": "code",
   "execution_count": 6,
   "id": "a5d6ced2",
   "metadata": {},
   "outputs": [],
   "source": [
    "####### definitions aus Ariadne Report #######\n",
    "plt.rcParams[\"font.family\"] = \"DejaVu Sans\"\n",
    "extent_de = [5.5, 15.5, 47, 56]\n",
    "\n",
    "THRESHOLD = 5  # GW\n",
    "\n",
    "CARRIER_GROUPS = {\n",
    "    \"electricity\": [\"AC\", \"low voltage\"],\n",
    "    \"heat\": [\n",
    "        \"urban central heat\",\n",
    "        \"urban decentral heat\",\n",
    "        \"rural heat\",\n",
    "        \"residential urban decentral heat\",\n",
    "        \"residential rural heat\",\n",
    "        \"services urban decentral heat\",\n",
    "        \"services rural heat\",\n",
    "    ],\n",
    "    # \"hydrogen\": \"H2\",\n",
    "    # \"oil\": \"oil\",\n",
    "    # \"methanol\": \"methanol\",\n",
    "    # \"ammonia\": \"NH3\",\n",
    "    # \"biomass\": [\"solid biomass\", \"biogas\"],\n",
    "    # \"CO2 atmosphere\": \"co2\",\n",
    "    # \"CO2 stored\": \"co2 stored\",\n",
    "    # \"methane\": \"gas\",\n",
    "}\n",
    "\n",
    "backup_techs = {\n",
    "    \"Gas\": [\n",
    "        \"OCGT\",\n",
    "        \"CCGT\",\n",
    "        \"biogas\",\n",
    "        \"urban central gas CHP\",\n",
    "        \"urban central gas CHP CC\",\n",
    "    ],\n",
    "    # \"Öl\": [\"oil\", \"urban central oil CHP\"],\n",
    "    \"Kohle\": [\"lignite\", \"coal\", \"urban central coal CHP\", \"urban central lignite CHP\"],\n",
    "    \"Wasserkraft\": [\"PHS\", \"hydro\"],\n",
    "    \"Batterie\": [\"battery discharger\", \"home battery discharger\"],\n",
    "    \"Wasserstoff\": [\n",
    "        \"H2 OCGT\",\n",
    "        \"H2 retrofit OCGT\",\n",
    "        \"urban central H2 CHP\",\n",
    "        \"urban central H2 retrofit CHP\",\n",
    "    ],\n",
    "    # \"Müllverbrennung\": [\"waste CHP\", \"waste CHP CC\"],\n",
    "    \"Biomasse\": [\n",
    "        \"solid biomass\",\n",
    "        \"urban central solid biomass CHP\",\n",
    "        \"urban central solid biomass CHP CC\",\n",
    "    ],\n",
    "}\n",
    "\n",
    "vre_gens = [\n",
    "    \"onwind\",\n",
    "    \"offwind-ac\",\n",
    "    \"offwind-dc\",\n",
    "    \"solar\",\n",
    "    \"solar-hsat\",\n",
    "    \"solar rooftop\",\n",
    "    \"ror\",\n",
    "]\n",
    "\n",
    "year_colors = [\n",
    "    \"dimgrey\",\n",
    "    \"darkorange\",\n",
    "    \"seagreen\",\n",
    "    \"cadetblue\",\n",
    "    \"hotpink\",\n",
    "    \"darkviolet\",\n",
    "    \"gold\",\n",
    "]\n",
    "markers = [\n",
    "    \"v\",\n",
    "    \"^\",\n",
    "    \"<\",\n",
    "    \">\",\n",
    "    \"1\",\n",
    "    \"2\",\n",
    "    \"3\",\n",
    "    \"4\",\n",
    "    \"*\",\n",
    "    \"+\",\n",
    "    \"d\",\n",
    "    \"o\",\n",
    "    \"|\",\n",
    "    \"s\",\n",
    "    \"P\",\n",
    "    \"p\",\n",
    "    \"h\",\n",
    "]\n",
    "\n",
    "date_format = \"%Y-%m-%d %H:%M:%S\"\n",
    "reduced_date_format = \"%Y-%m-%d\"\n",
    "\n",
    "\n",
    "resistive_heater = [\n",
    "    \"urban central resistive heater\",\n",
    "    \"rural resistive heater\",\n",
    "    \"urban decentral resistive heater\",\n",
    "]\n",
    "gas_boiler = [\n",
    "    \"urban central gas boiler\",\n",
    "    \"rural gas boiler\",\n",
    "    \"urban decentral gas boiler\",\n",
    "]\n",
    "air_heat_pump = [\n",
    "    \"urban central air heat pump\",\n",
    "    \"rural air heat pump\",\n",
    "    \"urban decentral air heat pump\",\n",
    "]\n",
    "water_tanks_charger = [\n",
    "    \"urban central water tanks charger\",\n",
    "    \"rural water tanks charger\",\n",
    "    \"urban decentral water tanks charger\",\n",
    "]\n",
    "water_tanks_discharger = [\n",
    "    \"urban central water tanks discharger\",\n",
    "    \"rural water tanks discharger\",\n",
    "    \"urban decentral water tanks discharger\",\n",
    "]\n",
    "solar_thermal = [\n",
    "    \"urban decentral solar thermal\",\n",
    "    \"urban central solar thermal\",\n",
    "    \"rural solar thermal\",\n",
    "]\n",
    "carrier_renaming = {\n",
    "    \"urban central solid biomass CHP CC\": \"biomass CHP CC\",\n",
    "    \"urban central solid biomass CHP\": \"biomass CHP\",\n",
    "    \"urban central gas CHP\": \"gas CHP\",\n",
    "    \"urban central gas CHP CC\": \"gas CHP CC\",\n",
    "    \"urban central air heat pump\": \"air heat pump\",\n",
    "    \"urban central resistive heater\": \"resistive heater\",\n",
    "}\n",
    "carrier_renaming_reverse = {\n",
    "    \"biomass CHP CC\": \"urban central solid biomass CHP CC\",\n",
    "    \"biomass CHP\": \"urban central solid biomass CHP\",\n",
    "    \"gas CHP\": \"urban central gas CHP\",\n",
    "    \"gas CHP CC\": \"urban central gas CHP CC\",\n",
    "    \"air heat pump\": \"urban central air heat pump\",\n",
    "    \"resistive heater\": \"urban central resistive heater\",\n",
    "}\n",
    "c1_groups = [\n",
    "    resistive_heater,\n",
    "    gas_boiler,\n",
    "    air_heat_pump,\n",
    "    water_tanks_charger,\n",
    "    water_tanks_discharger,\n",
    "    solar_thermal,\n",
    "]\n",
    "c1_groups_name = [\n",
    "    \"resistive heater\",\n",
    "    \"gas boiler\",\n",
    "    \"air heat pump\",\n",
    "    \"water tanks charger\",\n",
    "    \"water tanks discharger\",\n",
    "    \"solar thermal\",\n",
    "]\n",
    "solar = [\n",
    "    \"solar rooftop\",\n",
    "    \"solar-hsat\",\n",
    "    \"solar\",\n",
    "]\n",
    "electricity_load = [\n",
    "    \"electricity\",\n",
    "    \"industry electricity\",\n",
    "    \"agriculture electricity\",\n",
    "]\n",
    "electricity_imports = [\n",
    "    \"AC\",\n",
    "    \"DC\",\n",
    "]\n",
    "\n",
    "carriers_in_german = {\n",
    "    \"DC\": \"Gleichstrom\",\n",
    "    \"AC\": \"Wechselstrom\",\n",
    "    \"hydro\": \"Wasserkraft (Reservoir & Damm)\",\n",
    "    \"offwind-ac\": \"Offshore-Wind (AC)\",\n",
    "    \"offwind-dc\": \"Offshore-Wind (DC)\",\n",
    "    \"solar\": \"Solar\",\n",
    "    \"solar-hsat\": \"Solar (HSAT)\",\n",
    "    \"onwind\": \"Onshore-Wind\",\n",
    "    \"PHS\": \"Pumpspeicherkraftwerk\",\n",
    "    \"ror\": \"Laufwasserkraft\",\n",
    "    \"\": \"\",\n",
    "    \"lignite\": \"Braunkohle\",\n",
    "    \"coal\": \"Steinkohle\",\n",
    "    \"oil\": \"Öl\",\n",
    "    \"uranium\": \"Uran\",\n",
    "    \"none\": \"keine\",\n",
    "    \"co2\": \"CO2\",\n",
    "    \"co2 stored\": \"CO2 gespeichert\",\n",
    "    \"co2 sequestered\": \"CO2 sequestriert\",\n",
    "    \"gas\": \"Gas\",\n",
    "    \"H2\": \"Wasserstoffspeicher\",\n",
    "    \"battery\": \"Batteriespeicher\",\n",
    "    \"EV battery\": \"Elektrofahrzeug-Batterie\",\n",
    "    \"urban central heat\": \"Zentrale städtische Heizung\",\n",
    "    \"urban central water tanks\": \"Zentrale städtische Wassertanks\",\n",
    "    \"urban central solar thermal\": \"Zentrale städtische Solarthermie\",\n",
    "    \"biogas\": \"Biogas\",\n",
    "    \"solid biomass\": \"Biomasse\",\n",
    "    \"methanol\": \"Methanol\",\n",
    "    \"home battery\": \"Hausbatterie\",\n",
    "    \"rural heat\": \"Ländliche Wärme\",\n",
    "    \"rural solar thermal\": \"Ländliche Solarthermie\",\n",
    "    \"rural water tanks\": \"Ländliche Wassertanks\",\n",
    "    \"urban decentral heat\": \"Dezentrale städtische Heizung\",\n",
    "    \"urban decentral solar thermal\": \"Dezentrale städtische Solarthermie\",\n",
    "    \"urban decentral water tanks\": \"Dezentrale städtische Wassertanks\",\n",
    "    \"oil primary\": \"Primäröl\",\n",
    "    \"solar rooftop\": \"Solar-Dach\",\n",
    "    \"urban central heat vent\": \"Zentrale städtische Wärmeentlüftung\",\n",
    "    \"gas primary\": \"Primärgas\",\n",
    "    \"solid biomass for industry\": \"Biomasse (Industrie)\",\n",
    "    \"shipping oil\": \"Schiffsöl\",\n",
    "    \"agriculture machinery oil\": \"Landwirtschaftsmaschinenöl\",\n",
    "    \"naphtha for industry\": \"Naphtha für die Industrie\",\n",
    "    \"land transport oil\": \" Öl (Transport)\",\n",
    "    \"kerosene for aviation\": \"Kerosin für die Luftfahrt\",\n",
    "    \"non-sequestered HVC\": \"Nicht-sequestriertes HVC\",\n",
    "    \"shipping methanol\": \"Methanol für Schifffahrt\",\n",
    "    \"gas for industry\": \"Gas (Industrie)\",\n",
    "    \"low voltage\": \"Niederspannung\",\n",
    "    \"industry methanol\": \"Methanol (Industrie)\",\n",
    "    \"coal for industry\": \"Kohle (Industrie)\",\n",
    "    \"process emissions\": \"Prozessemissionen\",\n",
    "    \"industry electricity\": \"Industrieelektrizität\",\n",
    "    \"low-temperature heat for industry\": \"Niedertemperaturwärme (Industrie)\",\n",
    "    \"agriculture electricity\": \"Landwirtschaftliche Elektrizität\",\n",
    "    \"electricity\": \"Elektrizität\",\n",
    "    \"land transport EV\": \"Elektrofahrzeuge (Transport)\",\n",
    "    \"agriculture heat\": \"Landwirtschaftliche Wärme\",\n",
    "    \"urban central air heat pump\": \"Zentrale städtische Luftwärmepumpe\",\n",
    "    \"electricity distribution grid\": \"Stromverteilungsnetz\",\n",
    "    \"battery charger\": \"Batterie Laden\",\n",
    "    \"waste CHP\": \"Müll-KWK\",\n",
    "    \"urban central water tanks discharger\": \"Entladung zentraler städtischer Wassertanks\",\n",
    "    \"rural water tanks discharger\": \"Entladung ländlicher Wassertanks\",\n",
    "    \"urban decentral biomass boiler\": \"Dezentrale städtische Biomassekessel\",\n",
    "    \"BEV charger\": \"E-Fahrzeug Laden\",\n",
    "    \"rural ground heat pump\": \"Erdwärmepumpe\",\n",
    "    \"Fischer-Tropsch\": \"Fischer-Tropsch\",\n",
    "    \"urban decentral water tanks discharger\": \"Entladung dezentraler städtischer Wassertanks\",\n",
    "    \"urban central gas CHP\": \"Gas-KWK\",\n",
    "    \"Sabatier\": \"Sabatier-Prozess\",\n",
    "    \"gas compressing\": \"Gasverdichtung\",\n",
    "    \"home battery charger\": \"Hausbatterie Laden\",\n",
    "    \"battery discharger\": \"Batterie Entladung\",\n",
    "    \"H2 pipeline retrofitted\": \"Nachgerüstete Wasserstoffpipeline\",\n",
    "    \"rural resistive heater\": \"Ländlicher Widerstandsheizer\",\n",
    "    \"urban central water tanks charger\": \"Ladung zentraler städtischer Wassertanks\",\n",
    "    \"urban central solid biomass CHP CC\": \"Biomasse-KWK mit CO2-Abscheidung\",\n",
    "    \"rural air heat pump\": \"Ländliche Luftwärmepumpe\",\n",
    "    \"DAC\": \"Direkte CO2-Abscheidung\",\n",
    "    \"urban decentral air heat pump\": \"Dezentrale städtische Luftwärmepumpe\",\n",
    "    \"waste CHP CC\": \"Müll-KWK mit CO2-Abscheidung\",\n",
    "    \"biomass to liquid CC\": \"Biomasse zu Flüssigkeit mit CO2-Abscheidung\",\n",
    "    \"HVC to air\": \"HVC in die Luft\",\n",
    "    \"methanolisation\": \"Methanolisation\",\n",
    "    \"gas for industry CC\": \"Gas mit CO2-Abscheidung (Industrie)\",\n",
    "    \"H2 pipeline\": \"Wasserstoffpipeline\",\n",
    "    \"solid biomass for industry CC\": \"Biomasse mit CO2-Abscheidung (Industrie)\",\n",
    "    \"urban decentral gas boiler\": \"Dezentrale städtische Gaskessel\",\n",
    "    \"urban central gas CHP CC\": \"Gas-KWK mit CO2-Abscheidung\",\n",
    "    \"rural gas boiler\": \"Ländlicher Gaskessel\",\n",
    "    \"process emissions CC\": \"Prozessemissionen mit CO2-Abscheidung\",\n",
    "    \"urban decentral water tanks charger\": \"Ladung dezentraler städtischer Wassertanks\",\n",
    "    \"biogas to gas CC\": \"Biogas zu Gas mit CO2-Abscheidung\",\n",
    "    \"urban decentral resistive heater\": \"Dezentrale städtische Widerstandsheizer\",\n",
    "    \"biogas to gas\": \"Biogas zu Gas\",\n",
    "    \"OCGT\": \"Gas (OCGT)\",\n",
    "    \"urban central solid biomass CHP\": \"Biomasse-KWK\",\n",
    "    \"urban central gas boiler\": \"Zentraler städtischer Gaskessel\",\n",
    "    \"urban central resistive heater\": \"Zentraler städtischer Widerstandsheizer\",\n",
    "    \"oil refining\": \"Ölraffinierung\",\n",
    "    \"rural biomass boiler\": \"Ländlicher Biomassekessel\",\n",
    "    \"SMR\": \"Dampfreformierung\",\n",
    "    \"biomass to liquid\": \"Biomasse zu Flüssigkeit\",\n",
    "    \"rural water tanks charger\": \"Ladung ländlicher Wassertanks\",\n",
    "    \"home battery discharger\": \"Hausbatterie Entladung\",\n",
    "    \"H2 Store\": \"Wasserstoffspeicher\",\n",
    "    \"renewable oil\": \"Erneuerbares Öl\",\n",
    "    \"renewable gas\": \"Erneuerbares Gas\",\n",
    "    \"CCGT\": \"Gas (CCGT)\",\n",
    "    \"nuclear\": \"Kernenergie\",\n",
    "    \"gas CHP\": \"Gas-KWK\",\n",
    "    \"gas CHP CC\": \"Gas KWK mit CO2-Abscheidung\",\n",
    "    \"urban central coal CHP\": \"Steinkohle-KWK\",\n",
    "    \"Electricity trade\": \"Stromhandel\",\n",
    "    \"urban central biomass CHP\": \"Biomasse-KWK\",\n",
    "    \"biomass CHP\": \"Biomasse-KWK\",\n",
    "    \"air heat pump\": \"Luftwärmepumpe\",\n",
    "    \"Electricity load\": \"Stromlast\",\n",
    "    \"resistive heater\": \"Widerstandsheizung\",\n",
    "    \"gas boiler\": \"Gaskessel\",\n",
    "    \"H2 Electrolysis\": \"Elektrolyse\",\n",
    "    \"H2 Fuel Cell\": \"Brennstoffzelle (Strom)\",\n",
    "    \"H2 for industry\": \"H2 für Industrie\",\n",
    "    \"H2 OCGT\": \"Wasserstoff (OCGT)\",\n",
    "    \"H2 CHP\": \"H2 KWK\",\n",
    "    \"land transport fuel cell\": \"Brennstoffzelle (Verkehr)\",\n",
    "    \"other\": \"Sonstige\",\n",
    "    \"SMR CC\": \"Dampfreformierung mit CCS\",\n",
    "    \"H2 pipeline (new)\": \"H2 Pipeline (Neubau)\",\n",
    "    \"H2 pipeline (repurposed)\": \"H2 Pipeline (Umstellung)\",\n",
    "    \"H2 pipeline (Kernnetz)\": \"H2 Pipeline (Kernnetz)\",\n",
    "    \"heat pump\": \"Wärmepumpe\",\n",
    "    \"urban central H2 CHP\": \"Wasserstoff-KWK\",\n",
    "    \"urban central H2 retrofit CHP\": \"Wasserstoff-KWK (Umrüstung)\",\n",
    "    \"urban central oil CHP\": \"Öl-KWK\",\n",
    "    \"urban central lignite CHP\": \"Braunkohle-KWK\",\n",
    "    \"H2 retrofit OCGT\": \"Wasserstoff (OCGT;Umrüstung)\",\n",
    "}\n",
    "\n",
    "\n",
    "tech_colors.update({\n",
    "    \"H2 OCGT\": \"#e78ac3\",\n",
    "    \"H2 retrofit OCGT\": \"#fbb4ae\",\n",
    "    \"urban central H2 CHP\": \"#fccde5\",\n",
    "    \"urban central H2 retrofit CHP\": \"#d9d9d9\"\n",
    "})\n"
   ]
  },
  {
   "cell_type": "code",
   "execution_count": 7,
   "id": "05f3d821",
   "metadata": {},
   "outputs": [],
   "source": [
    "# ============================================\n",
    "# 3. Funktion: Daten aus EINEM Netzwerk extrahieren\n",
    "# ============================================\n",
    "\n",
    "def extract_metrics_from_network(net: pypsa.Network, scenario: str, year_label) -> dict:\n",
    "    \"\"\"\n",
    "    Extrahiert aus net (pypsa.Network) folgende Kenngrößen:\n",
    "      - energy_rows:   Speicherkapazität (e_nom_opt) in GWh pro Speichertyp (DE-only)\n",
    "      - power_rows:    Entladeleistung (p_nom_opt) in GW pro Speichertyp (DE-only)\n",
    "      - discharge_rows: Jährliche Strombereitstellung (statistics.supply) in TWh pro Carrier (DE-only)\n",
    "      - bev_rows:      BEV‐Charger‐Range (Min/Mean/Max) in GW\n",
    "    \n",
    "    Gibt ein Dictionary zurück:\n",
    "      {\n",
    "        \"energy\":    [ {...}, {...}, ... ],\n",
    "        \"power\":     [ {...}, {...}, ... ],\n",
    "        \"discharge\": [ {...}, {...}, ... ],\n",
    "        \"bev\":       [ {...}, {...}, {...} ]  # genau drei Einträge pro Net (Min/Mean/Max)\n",
    "      }\n",
    "    \"\"\"\n",
    "    energy_rows    = []\n",
    "    power_rows     = []\n",
    "    discharge_rows = []\n",
    "    bev_rows       = []\n",
    "\n",
    "    # 1) Kapazität (e_nom_opt) & Leistung (p_nom_opt) pro Speichertyp\n",
    "    for label, ids in storage_config.items():\n",
    "        store_idx = net.stores.index[\n",
    "            (net.stores.carrier == ids[\"store\"]) &\n",
    "            (net.stores.bus.str.startswith(\"DE\"))\n",
    "        ]\n",
    "        e_nom = net.stores.e_nom_opt[store_idx].sum() / 1e3 if len(store_idx) > 0 else 0.0\n",
    "\n",
    "        link_idx = net.links.index[\n",
    "            (net.links.carrier == ids[\"link\"]) &\n",
    "            (net.links.bus0.str.startswith(\"DE\"))\n",
    "        ]\n",
    "        p_nom = net.links.p_nom_opt[link_idx].sum() / 1e3 if len(link_idx) > 0 else 0.0\n",
    "\n",
    "        energy_rows.append({\n",
    "            \"Scenario\":     scenario,\n",
    "            \"Year\":         year_label,\n",
    "            \"Type\":         label,\n",
    "            \"Value [GWh]\":  e_nom\n",
    "        })\n",
    "        power_rows.append({\n",
    "            \"Scenario\":     scenario,\n",
    "            \"Year\":         year_label,\n",
    "            \"Type\":         label,\n",
    "            \"Value [GW]\":   p_nom\n",
    "        })\n",
    "\n",
    "    # 2) Discharge-Statistik (statistics.supply) in TWh\n",
    "    df_supply = (\n",
    "        net.statistics.supply(\n",
    "            bus_carrier=[\"low voltage\", \"AC\"],\n",
    "            groupby=[\"name\", \"bus\", \"carrier\"],\n",
    "            nice_names=False\n",
    "        )\n",
    "        .filter(like=\"DE\", axis=0)\n",
    "        .groupby(\"carrier\").sum()\n",
    "        .drop([\"AC\", \"DC\", \"electricity distribution grid\"], errors=\"ignore\")\n",
    "        / 1e6  # MWh → TWh\n",
    "    )\n",
    "    for carrier, value in df_supply.items():\n",
    "        if carrier in [\"battery discharger\", \"home battery discharger\", \"V2G\"]:\n",
    "            discharge_rows.append({\n",
    "                \"Scenario\":    scenario,\n",
    "                \"Year\":        year_label,\n",
    "                \"Type\":        carrier,\n",
    "                \"Value [TWh]\": value\n",
    "            })\n",
    "\n",
    "    # 3) BEV‐Charger‐Range (Min/Mean/Max) in GW\n",
    "    p_min, p_mean, p_max = get_bev_charger_range_DE(net)\n",
    "    bev_rows.append({\n",
    "        \"Scenario\":   scenario,\n",
    "        \"Year\":       year_label,\n",
    "        \"Type\":       \"EV battery (BEV charger) - Min\",\n",
    "        \"Value [GW]\": p_min\n",
    "    })\n",
    "    bev_rows.append({\n",
    "        \"Scenario\":   scenario,\n",
    "        \"Year\":       year_label,\n",
    "        \"Type\":       \"EV battery (BEV charger) - Mean\",\n",
    "        \"Value [GW]\": p_mean\n",
    "    })\n",
    "    bev_rows.append({\n",
    "        \"Scenario\":   scenario,\n",
    "        \"Year\":       year_label,\n",
    "        \"Type\":       \"EV battery (BEV charger) - Max\",\n",
    "        \"Value [GW]\": p_max\n",
    "    })\n",
    "\n",
    "    return {\n",
    "        \"energy\":    energy_rows,\n",
    "        \"power\":     power_rows,\n",
    "        \"discharge\": discharge_rows,\n",
    "        \"bev\":       bev_rows\n",
    "    }\n"
   ]
  },
  {
   "cell_type": "code",
   "execution_count": 8,
   "id": "148cbe90",
   "metadata": {},
   "outputs": [],
   "source": [
    "# ============================================\n",
    "# 4. Funktion: Alle Netzwerke eines Base-Folders einlesen,\n",
    "#    mit optionaler Möglichkeit, einzelne Szenarien auszuschließen\n",
    "# ============================================\n",
    "\n",
    "def load_all_scenarios(base_folder: str, exclude_scenarios: list = None) -> dict:\n",
    "    \"\"\"\n",
    "    Liest alle Szenarien in base_folder/*/postnetworks/*.nc ein,\n",
    "    ruft extract_metrics_from_network() auf und gibt ein Dict zurück:\n",
    "      {\n",
    "        \"energy\":    DataFrame,\n",
    "        \"power\":     DataFrame,\n",
    "        \"discharge\": DataFrame,\n",
    "        \"bev\":       DataFrame\n",
    "      }\n",
    "    \n",
    "    Parameter:\n",
    "      - base_folder        : Pfad zu deinem Ordner mit den Szenarien-Unterverzeichnissen.\n",
    "      - exclude_scenarios  : (optional) Liste von Szenario-Namen, die beim Einlesen übersprungen werden sollen.\n",
    "                            Beispiel: [\"FokusStrom\", \"SzenarioXYZ\"]\n",
    "                            Standardmäßig None (d.h. kein Szenario wird ausgeschlossen).\n",
    "\n",
    "    Vorgehen:\n",
    "      1. Ermittele alle Unterordner, die ein Unterverzeichnis \"postnetworks\" enthalten.\n",
    "      2. Filtere dabei jene in exclude_scenarios heraus (falls angegeben).\n",
    "      3. Für jedes verbleibende Szenario werden alle .nc-Dateien in \".../postnetworks\" geladen und über\n",
    "         extract_metrics_from_network() ausgelesen. BEV-Range wird direkt mitgesammelt.\n",
    "      4. Am Ende werden vier DataFrames zurückgegeben: energy, power, discharge, bev.\n",
    "    \"\"\"\n",
    "    if exclude_scenarios is None:\n",
    "        exclude_scenarios = []\n",
    "\n",
    "    all_energy_rows    = []\n",
    "    all_power_rows     = []\n",
    "    all_discharge_rows = []\n",
    "    all_bev_rows       = []\n",
    "\n",
    "    # Szenarien ermitteln (Ordner wie base_folder/<Szenario>/postnetworks)\n",
    "    szenarien = [\n",
    "        d for d in os.listdir(base_folder)\n",
    "        if os.path.isdir(os.path.join(base_folder, d, \"networks\"))\n",
    "    ]\n",
    "\n",
    "    # Szenarien herausfiltern, die ausgeschlossen werden sollen\n",
    "    szenarien = [s for s in szenarien if s not in exclude_scenarios]\n",
    "    print(\"Szenarien, die eingelesen werden:\", szenarien)\n",
    "    if exclude_scenarios:\n",
    "        print(\"Ausgeschlossene Szenarien:\", exclude_scenarios)\n",
    "\n",
    "    for scenario in szenarien:\n",
    "        net_folder = os.path.join(base_folder, scenario, \"networks\")\n",
    "        nc_files = [f for f in os.listdir(net_folder) if f.lower().endswith(\".nc\")]\n",
    "\n",
    "        if not nc_files:\n",
    "            print(f\"  → {scenario}: Keine .nc-Dateien gefunden, überspringe.\")\n",
    "            continue\n",
    "\n",
    "        print(f\"\\n=== Verarbeite Szenario '{scenario}' ({len(nc_files)} Netzwerke) ===\")\n",
    "        for fn in nc_files:\n",
    "            pfad = os.path.join(net_folder, fn)\n",
    "            jahr = parse_year_from_filename(fn)\n",
    "            year_label = jahr if jahr is not None else fn\n",
    "\n",
    "            print(f\"  • Lade {scenario}/{fn} …\", end=\" \")\n",
    "            net = pypsa.Network(pfad)\n",
    "            print(\"fertig.\")\n",
    "\n",
    "            metrics = extract_metrics_from_network(net, scenario, year_label)\n",
    "            all_energy_rows   .extend(metrics[\"energy\"])\n",
    "            all_power_rows    .extend(metrics[\"power\"])\n",
    "            all_discharge_rows.extend(metrics[\"discharge\"])\n",
    "            all_bev_rows      .extend(metrics[\"bev\"])\n",
    "\n",
    "            del net\n",
    "            gc.collect()\n",
    "\n",
    "        print(f\"— Fertig mit Szenario '{scenario}'\")\n",
    "\n",
    "    # Aus Listen entstehen DataFrames\n",
    "    df_energy    = pd.DataFrame(all_energy_rows)\n",
    "    df_power     = pd.DataFrame(all_power_rows)\n",
    "    df_discharge = pd.DataFrame(all_discharge_rows)\n",
    "    df_bev_range = pd.DataFrame(all_bev_rows)\n",
    "\n",
    "    # Sortierung (optional)\n",
    "    sort_cols = [\"Scenario\", \"Type\", \"Year\"]\n",
    "    df_energy    = df_energy   .sort_values(sort_cols).reset_index(drop=True)\n",
    "    df_power     = df_power    .sort_values(sort_cols).reset_index(drop=True)\n",
    "    df_discharge = df_discharge.sort_values(sort_cols).reset_index(drop=True)\n",
    "    df_bev_range = df_bev_range.sort_values(sort_cols).reset_index(drop=True)\n",
    "\n",
    "    return {\n",
    "        \"energy\":    df_energy,\n",
    "        \"power\":     df_power,\n",
    "        \"discharge\": df_discharge,\n",
    "        \"bev\":       df_bev_range\n",
    "    }\n"
   ]
  },
  {
   "cell_type": "code",
   "execution_count": 10,
   "id": "5615ab8b",
   "metadata": {},
   "outputs": [
    {
     "name": "stdout",
     "output_type": "stream",
     "text": [
      "Szenarien, die eingelesen werden: ['KN2045_Mix_1H_DE_1ZONE', 'KN2045_Mix_3H', 'KN2045_Mix_3H_DE_1ZONE', 'KN2045_Mix_Base_home_battery', 'Technologiemix']\n",
      "Ausgeschlossene Szenarien: ['KN2045_Mix_Base', 'KN2045_Mix_3H_DE_1ZONE_FW', 'KN2045_Mix']\n",
      "\n",
      "=== Verarbeite Szenario 'KN2045_Mix_1H_DE_1ZONE' (7 Netzwerke) ===\n",
      "  • Lade KN2045_Mix_1H_DE_1ZONE/base_s_20_hourly_none_2020.nc … "
     ]
    },
    {
     "name": "stderr",
     "output_type": "stream",
     "text": [
      "INFO:pypsa.io:Imported network base_s_20_hourly_none_2020.nc has buses, carriers, generators, global_constraints, lines, links, loads, storage_units, stores\n"
     ]
    },
    {
     "name": "stdout",
     "output_type": "stream",
     "text": [
      "fertig.\n",
      "  • Lade KN2045_Mix_1H_DE_1ZONE/base_s_20_hourly_none_2025.nc … "
     ]
    },
    {
     "name": "stderr",
     "output_type": "stream",
     "text": [
      "INFO:pypsa.io:Imported network base_s_20_hourly_none_2025.nc has buses, carriers, generators, global_constraints, lines, links, loads, storage_units, stores\n"
     ]
    },
    {
     "name": "stdout",
     "output_type": "stream",
     "text": [
      "fertig.\n",
      "  • Lade KN2045_Mix_1H_DE_1ZONE/base_s_20_hourly_none_2030.nc … "
     ]
    },
    {
     "name": "stderr",
     "output_type": "stream",
     "text": [
      "INFO:pypsa.io:Imported network base_s_20_hourly_none_2030.nc has buses, carriers, generators, global_constraints, lines, links, loads, storage_units, stores\n"
     ]
    },
    {
     "name": "stdout",
     "output_type": "stream",
     "text": [
      "fertig.\n",
      "  • Lade KN2045_Mix_1H_DE_1ZONE/base_s_20_hourly_none_2035.nc … "
     ]
    },
    {
     "name": "stderr",
     "output_type": "stream",
     "text": [
      "INFO:pypsa.io:Imported network base_s_20_hourly_none_2035.nc has buses, carriers, generators, global_constraints, lines, links, loads, storage_units, stores\n"
     ]
    },
    {
     "name": "stdout",
     "output_type": "stream",
     "text": [
      "fertig.\n",
      "  • Lade KN2045_Mix_1H_DE_1ZONE/base_s_20_hourly_none_2040.nc … "
     ]
    },
    {
     "name": "stderr",
     "output_type": "stream",
     "text": [
      "INFO:pypsa.io:Imported network base_s_20_hourly_none_2040.nc has buses, carriers, generators, global_constraints, lines, links, loads, storage_units, stores\n"
     ]
    },
    {
     "name": "stdout",
     "output_type": "stream",
     "text": [
      "fertig.\n",
      "  • Lade KN2045_Mix_1H_DE_1ZONE/base_s_20_hourly_none_2045.nc … "
     ]
    },
    {
     "name": "stderr",
     "output_type": "stream",
     "text": [
      "INFO:pypsa.io:Imported network base_s_20_hourly_none_2045.nc has buses, carriers, generators, global_constraints, lines, links, loads, storage_units, stores\n"
     ]
    },
    {
     "name": "stdout",
     "output_type": "stream",
     "text": [
      "fertig.\n",
      "  • Lade KN2045_Mix_1H_DE_1ZONE/base_s_20_hourly_none_2050.nc … "
     ]
    },
    {
     "name": "stderr",
     "output_type": "stream",
     "text": [
      "INFO:pypsa.io:Imported network base_s_20_hourly_none_2050.nc has buses, carriers, generators, global_constraints, lines, links, loads, storage_units, stores\n"
     ]
    },
    {
     "name": "stdout",
     "output_type": "stream",
     "text": [
      "fertig.\n",
      "— Fertig mit Szenario 'KN2045_Mix_1H_DE_1ZONE'\n",
      "\n",
      "=== Verarbeite Szenario 'KN2045_Mix_3H' (7 Netzwerke) ===\n",
      "  • Lade KN2045_Mix_3H/base_s_27__none_2020.nc … "
     ]
    },
    {
     "name": "stderr",
     "output_type": "stream",
     "text": [
      "INFO:pypsa.io:Imported network base_s_27__none_2020.nc has buses, carriers, generators, global_constraints, lines, links, loads, storage_units, stores\n"
     ]
    },
    {
     "name": "stdout",
     "output_type": "stream",
     "text": [
      "fertig.\n",
      "  • Lade KN2045_Mix_3H/base_s_27__none_2025.nc … "
     ]
    },
    {
     "name": "stderr",
     "output_type": "stream",
     "text": [
      "INFO:pypsa.io:Imported network base_s_27__none_2025.nc has buses, carriers, generators, global_constraints, lines, links, loads, storage_units, stores\n"
     ]
    },
    {
     "name": "stdout",
     "output_type": "stream",
     "text": [
      "fertig.\n",
      "  • Lade KN2045_Mix_3H/base_s_27__none_2030.nc … "
     ]
    },
    {
     "name": "stderr",
     "output_type": "stream",
     "text": [
      "INFO:pypsa.io:Imported network base_s_27__none_2030.nc has buses, carriers, generators, global_constraints, lines, links, loads, storage_units, stores\n"
     ]
    },
    {
     "name": "stdout",
     "output_type": "stream",
     "text": [
      "fertig.\n",
      "  • Lade KN2045_Mix_3H/base_s_27__none_2035.nc … "
     ]
    },
    {
     "name": "stderr",
     "output_type": "stream",
     "text": [
      "INFO:pypsa.io:Imported network base_s_27__none_2035.nc has buses, carriers, generators, global_constraints, lines, links, loads, storage_units, stores\n"
     ]
    },
    {
     "name": "stdout",
     "output_type": "stream",
     "text": [
      "fertig.\n",
      "  • Lade KN2045_Mix_3H/base_s_27__none_2040.nc … "
     ]
    },
    {
     "name": "stderr",
     "output_type": "stream",
     "text": [
      "INFO:pypsa.io:Imported network base_s_27__none_2040.nc has buses, carriers, generators, global_constraints, lines, links, loads, storage_units, stores\n"
     ]
    },
    {
     "name": "stdout",
     "output_type": "stream",
     "text": [
      "fertig.\n",
      "  • Lade KN2045_Mix_3H/base_s_27__none_2045.nc … "
     ]
    },
    {
     "name": "stderr",
     "output_type": "stream",
     "text": [
      "INFO:pypsa.io:Imported network base_s_27__none_2045.nc has buses, carriers, generators, global_constraints, lines, links, loads, storage_units, stores\n"
     ]
    },
    {
     "name": "stdout",
     "output_type": "stream",
     "text": [
      "fertig.\n",
      "  • Lade KN2045_Mix_3H/base_s_27__none_2050.nc … "
     ]
    },
    {
     "name": "stderr",
     "output_type": "stream",
     "text": [
      "INFO:pypsa.io:Imported network base_s_27__none_2050.nc has buses, carriers, generators, global_constraints, lines, links, loads, storage_units, stores\n"
     ]
    },
    {
     "name": "stdout",
     "output_type": "stream",
     "text": [
      "fertig.\n",
      "— Fertig mit Szenario 'KN2045_Mix_3H'\n",
      "\n",
      "=== Verarbeite Szenario 'KN2045_Mix_3H_DE_1ZONE' (8 Netzwerke) ===\n",
      "  • Lade KN2045_Mix_3H_DE_1ZONE/base_s_20_RedSpa_none_2020.nc … "
     ]
    },
    {
     "name": "stderr",
     "output_type": "stream",
     "text": [
      "INFO:pypsa.io:Imported network base_s_20_RedSpa_none_2020.nc has buses, carriers, generators, global_constraints, lines, links, loads, storage_units, stores\n"
     ]
    },
    {
     "name": "stdout",
     "output_type": "stream",
     "text": [
      "fertig.\n",
      "  • Lade KN2045_Mix_3H_DE_1ZONE/base_s_20_RedSpa_none_2025.nc … "
     ]
    },
    {
     "name": "stderr",
     "output_type": "stream",
     "text": [
      "INFO:pypsa.io:Imported network base_s_20_RedSpa_none_2025.nc has buses, carriers, generators, global_constraints, lines, links, loads, storage_units, stores\n"
     ]
    },
    {
     "name": "stdout",
     "output_type": "stream",
     "text": [
      "fertig.\n",
      "  • Lade KN2045_Mix_3H_DE_1ZONE/base_s_20_RedSpa_none_2030.nc … "
     ]
    },
    {
     "name": "stderr",
     "output_type": "stream",
     "text": [
      "INFO:pypsa.io:Imported network base_s_20_RedSpa_none_2030.nc has buses, carriers, generators, global_constraints, lines, links, loads, storage_units, stores\n"
     ]
    },
    {
     "name": "stdout",
     "output_type": "stream",
     "text": [
      "fertig.\n",
      "  • Lade KN2045_Mix_3H_DE_1ZONE/base_s_20_RedSpa_none_2035.nc … "
     ]
    },
    {
     "name": "stderr",
     "output_type": "stream",
     "text": [
      "INFO:pypsa.io:Imported network base_s_20_RedSpa_none_2035.nc has buses, carriers, generators, global_constraints, lines, links, loads, storage_units, stores\n"
     ]
    },
    {
     "name": "stdout",
     "output_type": "stream",
     "text": [
      "fertig.\n",
      "  • Lade KN2045_Mix_3H_DE_1ZONE/base_s_20_RedSpa_none_2040.nc … "
     ]
    },
    {
     "name": "stderr",
     "output_type": "stream",
     "text": [
      "INFO:pypsa.io:Imported network base_s_20_RedSpa_none_2040.nc has buses, carriers, generators, global_constraints, lines, links, loads, storage_units, stores\n"
     ]
    },
    {
     "name": "stdout",
     "output_type": "stream",
     "text": [
      "fertig.\n",
      "  • Lade KN2045_Mix_3H_DE_1ZONE/base_s_20_RedSpa_none_2045.nc … "
     ]
    },
    {
     "name": "stderr",
     "output_type": "stream",
     "text": [
      "INFO:pypsa.io:Imported network base_s_20_RedSpa_none_2045.nc has buses, carriers, generators, global_constraints, lines, links, loads, storage_units, stores\n"
     ]
    },
    {
     "name": "stdout",
     "output_type": "stream",
     "text": [
      "fertig.\n",
      "  • Lade KN2045_Mix_3H_DE_1ZONE/base_s_20_RedSpa_none_2050.nc … "
     ]
    },
    {
     "name": "stderr",
     "output_type": "stream",
     "text": [
      "INFO:pypsa.io:Imported network base_s_20_RedSpa_none_2050.nc has buses, carriers, generators, global_constraints, lines, links, loads, storage_units, stores\n"
     ]
    },
    {
     "name": "stdout",
     "output_type": "stream",
     "text": [
      "fertig.\n",
      "  • Lade KN2045_Mix_3H_DE_1ZONE/base_s_27__none_2020.nc … "
     ]
    },
    {
     "name": "stderr",
     "output_type": "stream",
     "text": [
      "INFO:pypsa.io:Imported network base_s_27__none_2020.nc has buses, carriers, generators, global_constraints, lines, links, loads, storage_units, stores\n"
     ]
    },
    {
     "name": "stdout",
     "output_type": "stream",
     "text": [
      "fertig.\n",
      "— Fertig mit Szenario 'KN2045_Mix_3H_DE_1ZONE'\n",
      "\n",
      "=== Verarbeite Szenario 'KN2045_Mix_Base_home_battery' (7 Netzwerke) ===\n",
      "  • Lade KN2045_Mix_Base_home_battery/base_s_20_hourly_none_2020.nc … "
     ]
    },
    {
     "name": "stderr",
     "output_type": "stream",
     "text": [
      "INFO:pypsa.io:Imported network base_s_20_hourly_none_2020.nc has buses, carriers, generators, global_constraints, lines, links, loads, storage_units, stores\n"
     ]
    },
    {
     "name": "stdout",
     "output_type": "stream",
     "text": [
      "fertig.\n",
      "  • Lade KN2045_Mix_Base_home_battery/base_s_20_hourly_none_2025.nc … "
     ]
    },
    {
     "name": "stderr",
     "output_type": "stream",
     "text": [
      "INFO:pypsa.io:Imported network base_s_20_hourly_none_2025.nc has buses, carriers, generators, global_constraints, lines, links, loads, storage_units, stores\n"
     ]
    },
    {
     "name": "stdout",
     "output_type": "stream",
     "text": [
      "fertig.\n",
      "  • Lade KN2045_Mix_Base_home_battery/base_s_20_hourly_none_2030.nc … "
     ]
    },
    {
     "name": "stderr",
     "output_type": "stream",
     "text": [
      "INFO:pypsa.io:Imported network base_s_20_hourly_none_2030.nc has buses, carriers, generators, global_constraints, lines, links, loads, storage_units, stores\n"
     ]
    },
    {
     "name": "stdout",
     "output_type": "stream",
     "text": [
      "fertig.\n",
      "  • Lade KN2045_Mix_Base_home_battery/base_s_20_hourly_none_2035.nc … "
     ]
    },
    {
     "name": "stderr",
     "output_type": "stream",
     "text": [
      "INFO:pypsa.io:Imported network base_s_20_hourly_none_2035.nc has buses, carriers, generators, global_constraints, lines, links, loads, storage_units, stores\n"
     ]
    },
    {
     "name": "stdout",
     "output_type": "stream",
     "text": [
      "fertig.\n",
      "  • Lade KN2045_Mix_Base_home_battery/base_s_20_hourly_none_2040.nc … "
     ]
    },
    {
     "name": "stderr",
     "output_type": "stream",
     "text": [
      "INFO:pypsa.io:Imported network base_s_20_hourly_none_2040.nc has buses, carriers, generators, global_constraints, lines, links, loads, storage_units, stores\n"
     ]
    },
    {
     "name": "stdout",
     "output_type": "stream",
     "text": [
      "fertig.\n",
      "  • Lade KN2045_Mix_Base_home_battery/base_s_20_hourly_none_2045.nc … "
     ]
    },
    {
     "name": "stderr",
     "output_type": "stream",
     "text": [
      "INFO:pypsa.io:Imported network base_s_20_hourly_none_2045.nc has buses, carriers, generators, global_constraints, lines, links, loads, storage_units, stores\n"
     ]
    },
    {
     "name": "stdout",
     "output_type": "stream",
     "text": [
      "fertig.\n",
      "  • Lade KN2045_Mix_Base_home_battery/base_s_20_hourly_none_2050.nc … "
     ]
    },
    {
     "name": "stderr",
     "output_type": "stream",
     "text": [
      "INFO:pypsa.io:Imported network base_s_20_hourly_none_2050.nc has buses, carriers, generators, global_constraints, lines, links, loads, storage_units, stores\n"
     ]
    },
    {
     "name": "stdout",
     "output_type": "stream",
     "text": [
      "fertig.\n",
      "— Fertig mit Szenario 'KN2045_Mix_Base_home_battery'\n",
      "\n",
      "=== Verarbeite Szenario 'Technologiemix' (6 Netzwerke) ===\n",
      "  • Lade Technologiemix/base_s_49_lvopt__none_2020.nc … "
     ]
    },
    {
     "name": "stderr",
     "output_type": "stream",
     "text": [
      "WARNING:pypsa.io:Importing network from PyPSA version v0.31.0 while current version is v0.34.1. Read the release notes at https://pypsa.readthedocs.io/en/latest/release_notes.html to prepare your network for import.\n",
      "INFO:pypsa.io:Imported network base_s_49_lvopt__none_2020.nc has buses, carriers, generators, global_constraints, lines, links, loads, storage_units, stores\n"
     ]
    },
    {
     "name": "stdout",
     "output_type": "stream",
     "text": [
      "fertig.\n",
      "  • Lade Technologiemix/base_s_49_lvopt__none_2025.nc … "
     ]
    },
    {
     "name": "stderr",
     "output_type": "stream",
     "text": [
      "WARNING:pypsa.io:Importing network from PyPSA version v0.31.0 while current version is v0.34.1. Read the release notes at https://pypsa.readthedocs.io/en/latest/release_notes.html to prepare your network for import.\n",
      "WARNING:pypsa.io:The following Link have buses which are not defined:\n",
      "Index(['FR4 0 waste CHP-2025', 'IT3 0 waste CHP-2025',\n",
      "       'FR4 0 waste CHP CC-2025', 'IT3 0 waste CHP CC-2025',\n",
      "       'FR4 0 urban central gas CHP-1995', 'IT3 0 urban central oil CHP-1995',\n",
      "       'IT3 0 urban central gas CHP-2000', 'IT3 0 urban central gas CHP-2005',\n",
      "       'IT3 0 urban central gas CHP-2010'],\n",
      "      dtype='object', name='name')\n",
      "INFO:pypsa.io:Imported network base_s_49_lvopt__none_2025.nc has buses, carriers, generators, global_constraints, lines, links, loads, storage_units, stores\n"
     ]
    },
    {
     "name": "stdout",
     "output_type": "stream",
     "text": [
      "fertig.\n",
      "  • Lade Technologiemix/base_s_49_lvopt__none_2030.nc … "
     ]
    },
    {
     "name": "stderr",
     "output_type": "stream",
     "text": [
      "WARNING:pypsa.io:Importing network from PyPSA version v0.31.0 while current version is v0.34.1. Read the release notes at https://pypsa.readthedocs.io/en/latest/release_notes.html to prepare your network for import.\n",
      "WARNING:pypsa.io:The following Link have buses which are not defined:\n",
      "Index(['FR4 0 waste CHP-2030', 'IT3 0 waste CHP-2030',\n",
      "       'FR4 0 waste CHP CC-2030', 'IT3 0 waste CHP CC-2030',\n",
      "       'FR4 0 urban central gas CHP-1995', 'IT3 0 urban central oil CHP-1995',\n",
      "       'IT3 0 urban central gas CHP-2000', 'IT3 0 urban central gas CHP-2005',\n",
      "       'IT3 0 urban central gas CHP-2010'],\n",
      "      dtype='object', name='name')\n",
      "INFO:pypsa.io:Imported network base_s_49_lvopt__none_2030.nc has buses, carriers, generators, global_constraints, lines, links, loads, storage_units, stores\n"
     ]
    },
    {
     "name": "stdout",
     "output_type": "stream",
     "text": [
      "fertig.\n",
      "  • Lade Technologiemix/base_s_49_lvopt__none_2035.nc … "
     ]
    },
    {
     "name": "stderr",
     "output_type": "stream",
     "text": [
      "WARNING:pypsa.io:Importing network from PyPSA version v0.31.0 while current version is v0.34.1. Read the release notes at https://pypsa.readthedocs.io/en/latest/release_notes.html to prepare your network for import.\n",
      "WARNING:pypsa.io:The following Link have buses which are not defined:\n",
      "Index(['FR4 0 waste CHP-2035', 'IT3 0 waste CHP-2035',\n",
      "       'FR4 0 waste CHP CC-2035', 'IT3 0 waste CHP CC-2035',\n",
      "       'IT3 0 urban central gas CHP-2000', 'IT3 0 urban central gas CHP-2005',\n",
      "       'IT3 0 urban central gas CHP-2010'],\n",
      "      dtype='object', name='name')\n",
      "INFO:pypsa.io:Imported network base_s_49_lvopt__none_2035.nc has buses, carriers, generators, global_constraints, lines, links, loads, storage_units, stores\n"
     ]
    },
    {
     "name": "stdout",
     "output_type": "stream",
     "text": [
      "fertig.\n",
      "  • Lade Technologiemix/base_s_49_lvopt__none_2040.nc … "
     ]
    },
    {
     "name": "stderr",
     "output_type": "stream",
     "text": [
      "WARNING:pypsa.io:Importing network from PyPSA version v0.31.0 while current version is v0.34.1. Read the release notes at https://pypsa.readthedocs.io/en/latest/release_notes.html to prepare your network for import.\n",
      "WARNING:pypsa.io:The following Link have buses which are not defined:\n",
      "Index(['FR4 0 waste CHP-2040', 'IT3 0 waste CHP-2040',\n",
      "       'FR4 0 waste CHP CC-2040', 'IT3 0 waste CHP CC-2040',\n",
      "       'IT3 0 urban central gas CHP-2005', 'IT3 0 urban central gas CHP-2010'],\n",
      "      dtype='object', name='name')\n",
      "INFO:pypsa.io:Imported network base_s_49_lvopt__none_2040.nc has buses, carriers, generators, global_constraints, lines, links, loads, storage_units, stores\n"
     ]
    },
    {
     "name": "stdout",
     "output_type": "stream",
     "text": [
      "fertig.\n",
      "  • Lade Technologiemix/base_s_49_lvopt__none_2045.nc … "
     ]
    },
    {
     "name": "stderr",
     "output_type": "stream",
     "text": [
      "WARNING:pypsa.io:Importing network from PyPSA version v0.31.0 while current version is v0.34.1. Read the release notes at https://pypsa.readthedocs.io/en/latest/release_notes.html to prepare your network for import.\n",
      "WARNING:pypsa.io:The following Link have buses which are not defined:\n",
      "Index(['FR4 0 waste CHP-2045', 'IT3 0 waste CHP-2045',\n",
      "       'FR4 0 waste CHP CC-2045', 'IT3 0 waste CHP CC-2045',\n",
      "       'IT3 0 urban central gas CHP-2010'],\n",
      "      dtype='object', name='name')\n",
      "INFO:pypsa.io:Imported network base_s_49_lvopt__none_2045.nc has buses, carriers, generators, global_constraints, lines, links, loads, storage_units, stores\n"
     ]
    },
    {
     "name": "stdout",
     "output_type": "stream",
     "text": [
      "fertig.\n",
      "— Fertig mit Szenario 'Technologiemix'\n"
     ]
    }
   ],
   "source": [
    "results = load_all_scenarios(\"results\", exclude_scenarios=[\"KN2045_Mix_Base\", \"KN2045_Mix_3H_DE_1ZONE_FW\", \"KN2045_Mix\"])\n",
    "df_energy    = results[\"energy\"]\n",
    "df_power     = results[\"power\"]\n",
    "df_discharge = results[\"discharge\"]\n",
    "df_bev_range = results[\"bev\"]\n"
   ]
  },
  {
   "cell_type": "code",
   "execution_count": null,
   "id": "b70722c7",
   "metadata": {},
   "outputs": [],
   "source": [
    "# Einzelne Szenarien nachträglich laden und an bestehende DataFrames anhängen\n",
    "\n",
    "# 1) Bereits existierende DataFrames (alle alten Szenarien)\n",
    "df_energy    # <bereits gebaut>\n",
    "df_power     # <bereits gebaut>\n",
    "df_discharge # <bereits gebaut>\n",
    "\n",
    "# 2) Lese nur das fehlende Szenario nach:\n",
    "base_folder = \"results\"\n",
    "new_scenario = \"KN2045_Mix_Base_home_battery\"\n",
    "\n",
    "# Wir können load_all_scenarios modifizieren, sodass es wahlweise NUR\n",
    "# dieses eine Szenario einliest (statt über alle zu iterieren). \n",
    "# Dafür definieren wir eine Variante:\n",
    "\n",
    "def load_single_scenario(base_folder: str, scenario_name: str):\n",
    "    net_folder = os.path.join(base_folder, scenario_name, \"networks\")\n",
    "    nc_files = [f for f in os.listdir(net_folder) if f.lower().endswith(\".nc\")]\n",
    "    \n",
    "    energy_rows_loc    = []\n",
    "    power_rows_loc     = []\n",
    "    discharge_rows_loc = []\n",
    "    \n",
    "    for fn in nc_files:\n",
    "        pfad = os.path.join(net_folder, fn)\n",
    "        jahr = parse_year_from_filename(fn)\n",
    "        year_label = jahr if jahr is not None else fn\n",
    "        \n",
    "        net = pypsa.Network(pfad)\n",
    "        metrics = extract_metrics_from_network(net, scenario_name, year_label)\n",
    "        \n",
    "        energy_rows_loc   .extend(metrics[\"energy\"])\n",
    "        power_rows_loc    .extend(metrics[\"power\"])\n",
    "        discharge_rows_loc.extend(metrics[\"discharge\"])\n",
    "        \n",
    "        del net\n",
    "        gc.collect()\n",
    "    \n",
    "    df_energy_loc    = pd.DataFrame(energy_rows_loc)\n",
    "    df_power_loc     = pd.DataFrame(power_rows_loc)\n",
    "    df_discharge_loc = pd.DataFrame(discharge_rows_loc)\n",
    "    \n",
    "    # Sortierung analog\n",
    "    sort_cols = [\"Scenario\", \"Type\", \"Year\"]\n",
    "    df_energy_loc    = df_energy_loc   .sort_values(sort_cols).reset_index(drop=True)\n",
    "    df_power_loc     = df_power_loc    .sort_values(sort_cols).reset_index(drop=True)\n",
    "    df_discharge_loc = df_discharge_loc.sort_values(sort_cols).reset_index(drop=True)\n",
    "    \n",
    "    return df_energy_loc, df_power_loc, df_discharge_loc\n",
    "\n",
    "# 3) Rufe load_single_scenario für das neue Szenario auf:\n",
    "df_energy_new, df_power_new, df_discharge_new = load_single_scenario(base_folder, new_scenario)\n",
    "\n",
    "# 4) Hänge an die existierenden DataFrames an:\n",
    "df_energy    = pd.concat([df_energy,    df_energy_new],    ignore_index=True)\n",
    "df_power     = pd.concat([df_power,     df_power_new],     ignore_index=True)\n",
    "df_discharge = pd.concat([df_discharge, df_discharge_new], ignore_index=True)\n",
    "\n",
    "# 5) (Optional) Sortiere wieder, um alles sauber geordnet zu haben:\n",
    "df_energy    = df_energy   .sort_values([\"Scenario\",\"Type\",\"Year\"]).reset_index(drop=True)\n",
    "df_power     = df_power    .sort_values([\"Scenario\",\"Type\",\"Year\"]).reset_index(drop=True)\n",
    "df_discharge = df_discharge.sort_values([\"Scenario\",\"Type\",\"Year\"]).reset_index(drop=True)\n"
   ]
  },
  {
   "cell_type": "code",
   "execution_count": 11,
   "id": "068136c6",
   "metadata": {},
   "outputs": [
    {
     "name": "stdout",
     "output_type": "stream",
     "text": [
      "=== df_energy  === (105, 4)\n",
      "                 Scenario  Year        Type  Value [GWh]\n",
      "0  KN2045_Mix_1H_DE_1ZONE  2020  EV battery     0.000000\n",
      "1  KN2045_Mix_1H_DE_1ZONE  2025  EV battery     0.000000\n",
      "2  KN2045_Mix_1H_DE_1ZONE  2030  EV battery   357.869828\n",
      "3  KN2045_Mix_1H_DE_1ZONE  2035  EV battery   536.804741\n",
      "4  KN2045_Mix_1H_DE_1ZONE  2040  EV battery   835.029598 \n",
      "\n",
      "=== df_power   === (105, 4)\n",
      "                 Scenario  Year        Type  Value [GW]\n",
      "0  KN2045_Mix_1H_DE_1ZONE  2020  EV battery   26.243787\n",
      "1  KN2045_Mix_1H_DE_1ZONE  2025  EV battery   78.731362\n",
      "2  KN2045_Mix_1H_DE_1ZONE  2030  EV battery  157.462724\n",
      "3  KN2045_Mix_1H_DE_1ZONE  2035  EV battery  236.194086\n",
      "4  KN2045_Mix_1H_DE_1ZONE  2040  EV battery  367.413023 \n",
      "\n",
      "=== df_discharge === (70, 4)\n",
      "                 Scenario  Year                Type  Value [TWh]\n",
      "0  KN2045_Mix_1H_DE_1ZONE  2020  battery discharger     0.000035\n",
      "1  KN2045_Mix_1H_DE_1ZONE  2025  battery discharger     0.000030\n",
      "2  KN2045_Mix_1H_DE_1ZONE  2030  battery discharger     7.700041\n",
      "3  KN2045_Mix_1H_DE_1ZONE  2035  battery discharger    52.500760\n",
      "4  KN2045_Mix_1H_DE_1ZONE  2040  battery discharger    56.911823 \n",
      "\n",
      "=== df_bev_range === (105, 4)\n",
      "                 Scenario  Year                            Type  Value [GW]\n",
      "0  KN2045_Mix_1H_DE_1ZONE  2020  EV battery (BEV charger) - Max   24.931598\n",
      "1  KN2045_Mix_1H_DE_1ZONE  2025  EV battery (BEV charger) - Max   74.794794\n",
      "2  KN2045_Mix_1H_DE_1ZONE  2030  EV battery (BEV charger) - Max  149.589588\n",
      "3  KN2045_Mix_1H_DE_1ZONE  2035  EV battery (BEV charger) - Max  224.384382\n",
      "4  KN2045_Mix_1H_DE_1ZONE  2040  EV battery (BEV charger) - Max  349.042372\n"
     ]
    }
   ],
   "source": [
    "print(\"=== df_energy  ===\", df_energy.shape)\n",
    "print(df_energy.head(), \"\\n\")\n",
    "print(\"=== df_power   ===\", df_power.shape)\n",
    "print(df_power.head(), \"\\n\")\n",
    "print(\"=== df_discharge ===\", df_discharge.shape)\n",
    "print(df_discharge.head(), \"\\n\")\n",
    "print(\"=== df_bev_range ===\", df_bev_range.shape)\n",
    "print(df_bev_range.head())\n"
   ]
  },
  {
   "cell_type": "code",
   "execution_count": 15,
   "id": "510309ec",
   "metadata": {},
   "outputs": [
    {
     "name": "stdout",
     "output_type": "stream",
     "text": [
      "['1H Res, 1-Zone (DE)' 'Eigener Technologiemix Szenario Run' '1-Zone (DE)'\n",
      " '1H Res, 1-Zone (DE), Min. Home Battery'\n",
      " 'Ariadne Report Technologiemix Szenario']\n"
     ]
    },
    {
     "data": {
      "text/plain": [
       "['KN2045_Mix_1H_DE_1ZONE',\n",
       " 'KN2045_Mix_3H',\n",
       " 'KN2045_Mix_3H_DE_1ZONE',\n",
       " 'KN2045_Mix_Base_home_battery',\n",
       " 'Technologiemix']"
      ]
     },
     "execution_count": 15,
     "metadata": {},
     "output_type": "execute_result"
    }
   ],
   "source": [
    "# 1) Mapping-Dict anlegen\n",
    "rename_dict = {\n",
    "    'Technologiemix': 'Ariadne Report Technologiemix Szenario',\n",
    "    'KN2045_Mix_3H': 'Eigener Technologiemix Szenario Run',\n",
    "    'KN2045_Mix_3H_DE_1ZONE': '1-Zone (DE)',\n",
    "    'KN2045_Mix_1H_DE_1ZONE': '1H Res, 1-Zone (DE)',\n",
    "    'KN2045_Mix_Base_home_battery': '1H Res, 1-Zone (DE), Min. Home Battery',\n",
    "    # … alle weiteren Zuordnungen hier\n",
    "}\n",
    "\n",
    "# 2) Auf alle DataFrames anwenden\n",
    "for df in [df_energy, df_power, df_discharge, df_bev_range]:\n",
    "    df['Scenario'] = df['Scenario'].replace(rename_dict)\n",
    "\n",
    "# 3) Kontrollieren\n",
    "print(df_energy['Scenario'].unique())\n",
    "\n",
    "['KN2045_Mix_1H_DE_1ZONE', 'KN2045_Mix_3H', 'KN2045_Mix_3H_DE_1ZONE', 'KN2045_Mix_Base_home_battery', 'Technologiemix']"
   ]
  },
  {
   "cell_type": "code",
   "execution_count": 16,
   "id": "f310a320",
   "metadata": {},
   "outputs": [
    {
     "data": {
      "text/plain": [
       "'\\n# ---------------------------------------------------------\\n# 1. Plot: Entladeleistung (GW) je Speichertyp über die Jahre\\n# ---------------------------------------------------------\\n# df_power enthält bereits die Spalten: [\"Scenario\", \"Year\", \"Type\", \"Value [GW]\"]\\n\\nfig_gw = px.line(\\n    df_power,\\n    x=\"Year\",\\n    y=\"Value [GW]\",\\n    color=\"Type\",\\n    title=\"Entladeleistung von Batteriespeichern in Deutschland (GW)\",\\n    markers=True\\n)\\nfig_gw.update_layout(\\n    xaxis_title=\"Jahr\",\\n    yaxis_title=\"Entladeleistung [GW]\"\\n)\\nfig_gw.show()\\n\\n\\n\\n# ---------------------------------------------------------\\n# 2. Plot: Energiespeicherkapazität (GWh) je Speichertyp über die Jahre\\n# ---------------------------------------------------------\\n# df_energy enthält bereits die Spalten: [\"Scenario\", \"Year\", \"Type\", \"Value [GWh]\"]\\n\\nfig_gwh = px.line(\\n    df_energy,\\n    x=\"Year\",\\n    y=\"Value [GWh]\",\\n    color=\"Type\",\\n    title=\"Energiespeicherkapazität von Batteriespeichern in Deutschland (GWh)\",\\n    markers=True\\n)\\nfig_gwh.update_layout(\\n    xaxis_title=\"Jahr\",\\n    yaxis_title=\"Kapazität [GWh]\"\\n)\\nfig_gwh.show()\\n\\n\\n\\n# ---------------------------------------------------------\\n# 3. Plot: Jährliche Strombereitstellung durch Batterietechnologien (TWh)\\n# ---------------------------------------------------------\\n# df_discharge enthält Spalten: [\"Scenario\", \"Year\", \"Type\", \"Value [TWh]\"],\\n# wobei \"Type\" hier die Carrier-Namen ist (z. B. \"battery discharger\", \"home battery discharger\", \"V2G\").\\n# Wir mappen sie auf die lesbaren Labels:\\ncarrier_map = {\\n    \"battery discharger\":        \"Utility-scale battery\",\\n    \"home battery discharger\":   \"Home battery\",\\n    \"V2G\":                       \"EV battery\"\\n}\\n\\ndf_discharge_plot = df_discharge.copy()\\ndf_discharge_plot[\"Type\"] = df_discharge_plot[\"Type\"].map(carrier_map)\\n\\nfig_discharge = px.bar(\\n    df_discharge_plot,\\n    x=\"Year\",\\n    y=\"Value [TWh]\",\\n    color=\"Type\",\\n    barmode=\"group\",\\n    title=\"Jährliche Strombereitstellung durch Batterietechnologien (TWh)\"\\n)\\nfig_discharge.update_layout(\\n    xaxis_title=\"Jahr\",\\n    yaxis_title=\"Bereitstellung [TWh]\"\\n)\\nfig_discharge.show()\\n'"
      ]
     },
     "execution_count": 16,
     "metadata": {},
     "output_type": "execute_result"
    }
   ],
   "source": [
    "\n",
    "\"\"\"\n",
    "# ---------------------------------------------------------\n",
    "# 1. Plot: Entladeleistung (GW) je Speichertyp über die Jahre\n",
    "# ---------------------------------------------------------\n",
    "# df_power enthält bereits die Spalten: [\"Scenario\", \"Year\", \"Type\", \"Value [GW]\"]\n",
    "\n",
    "fig_gw = px.line(\n",
    "    df_power,\n",
    "    x=\"Year\",\n",
    "    y=\"Value [GW]\",\n",
    "    color=\"Type\",\n",
    "    title=\"Entladeleistung von Batteriespeichern in Deutschland (GW)\",\n",
    "    markers=True\n",
    ")\n",
    "fig_gw.update_layout(\n",
    "    xaxis_title=\"Jahr\",\n",
    "    yaxis_title=\"Entladeleistung [GW]\"\n",
    ")\n",
    "fig_gw.show()\n",
    "\n",
    "\n",
    "\n",
    "# ---------------------------------------------------------\n",
    "# 2. Plot: Energiespeicherkapazität (GWh) je Speichertyp über die Jahre\n",
    "# ---------------------------------------------------------\n",
    "# df_energy enthält bereits die Spalten: [\"Scenario\", \"Year\", \"Type\", \"Value [GWh]\"]\n",
    "\n",
    "fig_gwh = px.line(\n",
    "    df_energy,\n",
    "    x=\"Year\",\n",
    "    y=\"Value [GWh]\",\n",
    "    color=\"Type\",\n",
    "    title=\"Energiespeicherkapazität von Batteriespeichern in Deutschland (GWh)\",\n",
    "    markers=True\n",
    ")\n",
    "fig_gwh.update_layout(\n",
    "    xaxis_title=\"Jahr\",\n",
    "    yaxis_title=\"Kapazität [GWh]\"\n",
    ")\n",
    "fig_gwh.show()\n",
    "\n",
    "\n",
    "\n",
    "# ---------------------------------------------------------\n",
    "# 3. Plot: Jährliche Strombereitstellung durch Batterietechnologien (TWh)\n",
    "# ---------------------------------------------------------\n",
    "# df_discharge enthält Spalten: [\"Scenario\", \"Year\", \"Type\", \"Value [TWh]\"],\n",
    "# wobei \"Type\" hier die Carrier-Namen ist (z. B. \"battery discharger\", \"home battery discharger\", \"V2G\").\n",
    "# Wir mappen sie auf die lesbaren Labels:\n",
    "carrier_map = {\n",
    "    \"battery discharger\":        \"Utility-scale battery\",\n",
    "    \"home battery discharger\":   \"Home battery\",\n",
    "    \"V2G\":                       \"EV battery\"\n",
    "}\n",
    "\n",
    "df_discharge_plot = df_discharge.copy()\n",
    "df_discharge_plot[\"Type\"] = df_discharge_plot[\"Type\"].map(carrier_map)\n",
    "\n",
    "fig_discharge = px.bar(\n",
    "    df_discharge_plot,\n",
    "    x=\"Year\",\n",
    "    y=\"Value [TWh]\",\n",
    "    color=\"Type\",\n",
    "    barmode=\"group\",\n",
    "    title=\"Jährliche Strombereitstellung durch Batterietechnologien (TWh)\"\n",
    ")\n",
    "fig_discharge.update_layout(\n",
    "    xaxis_title=\"Jahr\",\n",
    "    yaxis_title=\"Bereitstellung [TWh]\"\n",
    ")\n",
    "fig_discharge.show()\n",
    "\"\"\""
   ]
  },
  {
   "cell_type": "code",
   "execution_count": 22,
   "id": "2413c3bb",
   "metadata": {},
   "outputs": [
    {
     "name": "stderr",
     "output_type": "stream",
     "text": [
      "c:\\Users\\morit\\.conda\\envs\\pypsa-de\\Lib\\site-packages\\_plotly_utils\\basevalidators.py:2596: DeprecationWarning:\n",
      "\n",
      "*scattermapbox* is deprecated! Use *scattermap* instead. Learn more at: https://plotly.com/python/mapbox-to-maplibre/\n",
      "\n"
     ]
    },
    {
     "data": {
      "application/vnd.plotly.v1+json": {
       "config": {
        "plotlyServerURL": "https://plot.ly"
       },
       "data": [
        {
         "hovertemplate": "Type=EV battery<br>Scenario=1H Res, 1-Zone (DE)<br>Year=%{x}<br>Value [GW]=%{y}<extra></extra>",
         "legendgroup": "EV battery",
         "line": {
          "color": "#636efa",
          "dash": "solid"
         },
         "marker": {
          "symbol": "circle"
         },
         "mode": "lines+markers",
         "name": "EV battery",
         "orientation": "v",
         "showlegend": true,
         "type": "scatter",
         "x": {
          "bdata": "5AfpB+4H8wf4B/0HAgg=",
          "dtype": "i2"
         },
         "xaxis": "x4",
         "y": {
          "bdata": "sm0H2Wg+OkBGksWizq5TQEaSxaLOrmNAaFso9DWGbUD8f+a9m/Z2QI3kl2ZP4ntARNK4gRwqf0A=",
          "dtype": "f8"
         },
         "yaxis": "y4"
        },
        {
         "hovertemplate": "Type=EV battery<br>Scenario=Eigener Technologiemix Szenario Run<br>Year=%{x}<br>Value [GW]=%{y}<extra></extra>",
         "legendgroup": "EV battery",
         "line": {
          "color": "#636efa",
          "dash": "solid"
         },
         "marker": {
          "symbol": "circle"
         },
         "mode": "lines+markers",
         "name": "EV battery",
         "orientation": "v",
         "showlegend": false,
         "type": "scatter",
         "x": {
          "bdata": "5AfpB+4H8wf4B/0HAgg=",
          "dtype": "i2"
         },
         "xaxis": "x5",
         "y": {
          "bdata": "sG0H2Wg+OkBEksWizq5TQESSxaLOrmNAZlso9DWGbUD6f+a9m/Z2QIvkl2ZP4ntAQtK4gRwqf0A=",
          "dtype": "f8"
         },
         "yaxis": "y5"
        },
        {
         "hovertemplate": "Type=EV battery<br>Scenario=1-Zone (DE)<br>Year=%{x}<br>Value [GW]=%{y}<extra></extra>",
         "legendgroup": "EV battery",
         "line": {
          "color": "#636efa",
          "dash": "solid"
         },
         "marker": {
          "symbol": "circle"
         },
         "mode": "lines+markers",
         "name": "EV battery",
         "orientation": "v",
         "showlegend": false,
         "type": "scatter",
         "x": {
          "bdata": "5AfkB+kH7gfzB/gH/QcCCA==",
          "dtype": "i2"
         },
         "xaxis": "x6",
         "y": {
          "bdata": "sm0H2Wg+OkCwbQfZaD46QEaSxaLOrlNARpLFos6uY0BoWyj0NYZtQPx/5r2b9nZAjeSXZk/ie0BE0riBHCp/QA==",
          "dtype": "f8"
         },
         "yaxis": "y6"
        },
        {
         "hovertemplate": "Type=EV battery<br>Scenario=1H Res, 1-Zone (DE), Min. Home Battery<br>Year=%{x}<br>Value [GW]=%{y}<extra></extra>",
         "legendgroup": "EV battery",
         "line": {
          "color": "#636efa",
          "dash": "solid"
         },
         "marker": {
          "symbol": "circle"
         },
         "mode": "lines+markers",
         "name": "EV battery",
         "orientation": "v",
         "showlegend": false,
         "type": "scatter",
         "x": {
          "bdata": "5AfpB+4H8wf4B/0HAgg=",
          "dtype": "i2"
         },
         "xaxis": "x",
         "y": {
          "bdata": "sm0H2Wg+OkBGksWizq5TQEaSxaLOrmNAaFso9DWGbUD8f+a9m/Z2QI3kl2ZP4ntARNK4gRwqf0A=",
          "dtype": "f8"
         },
         "yaxis": "y"
        },
        {
         "hovertemplate": "Type=EV battery<br>Scenario=Ariadne Report Technologiemix Szenario<br>Year=%{x}<br>Value [GW]=%{y}<extra></extra>",
         "legendgroup": "EV battery",
         "line": {
          "color": "#636efa",
          "dash": "solid"
         },
         "marker": {
          "symbol": "circle"
         },
         "mode": "lines+markers",
         "name": "EV battery",
         "orientation": "v",
         "showlegend": false,
         "type": "scatter",
         "x": {
          "bdata": "5AfpB+4H8wf4B/0H",
          "dtype": "i2"
         },
         "xaxis": "x2",
         "y": {
          "bdata": "qG0H2Wg+OkA9ksWizq5TQD2SxaLOrmNAXVso9DWGbUDyf+a9m/Z2QIPkl2ZP4ntA",
          "dtype": "f8"
         },
         "yaxis": "y2"
        },
        {
         "hovertemplate": "Type=Home battery<br>Scenario=1H Res, 1-Zone (DE)<br>Year=%{x}<br>Value [GW]=%{y}<extra></extra>",
         "legendgroup": "Home battery",
         "line": {
          "color": "#EF553B",
          "dash": "solid"
         },
         "marker": {
          "symbol": "circle"
         },
         "mode": "lines+markers",
         "name": "Home battery",
         "orientation": "v",
         "showlegend": true,
         "type": "scatter",
         "x": {
          "bdata": "5AfpB+4H8wf4B/0HAgg=",
          "dtype": "i2"
         },
         "xaxis": "x4",
         "y": {
          "bdata": "jwp6yVF94D615oOsOXruPuPVs5ZaeRNA8vGgXZMnJkCEu9aSM7giQKRe9taeuxlA/waAFBqAE0A=",
          "dtype": "f8"
         },
         "yaxis": "y4"
        },
        {
         "hovertemplate": "Type=Home battery<br>Scenario=Eigener Technologiemix Szenario Run<br>Year=%{x}<br>Value [GW]=%{y}<extra></extra>",
         "legendgroup": "Home battery",
         "line": {
          "color": "#EF553B",
          "dash": "solid"
         },
         "marker": {
          "symbol": "circle"
         },
         "mode": "lines+markers",
         "name": "Home battery",
         "orientation": "v",
         "showlegend": false,
         "type": "scatter",
         "x": {
          "bdata": "5AfpB+4H8wf4B/0HAgg=",
          "dtype": "i2"
         },
         "xaxis": "x5",
         "y": {
          "bdata": "rnurqi3iSD/H9vKi5jhKP/A90oz8HeE/5Lk54uzh/z8hrbic2Hb7P/PNdBIOP/M/AY/Zz3dV8z8=",
          "dtype": "f8"
         },
         "yaxis": "y5"
        },
        {
         "hovertemplate": "Type=Home battery<br>Scenario=1-Zone (DE)<br>Year=%{x}<br>Value [GW]=%{y}<extra></extra>",
         "legendgroup": "Home battery",
         "line": {
          "color": "#EF553B",
          "dash": "solid"
         },
         "marker": {
          "symbol": "circle"
         },
         "mode": "lines+markers",
         "name": "Home battery",
         "orientation": "v",
         "showlegend": false,
         "type": "scatter",
         "x": {
          "bdata": "5AfkB+kH7gfzB/gH/QcCCA==",
          "dtype": "i2"
         },
         "xaxis": "x6",
         "y": {
          "bdata": "PxWBjfL7Fj94/Kx5mHhHPwaMJ+x9FyE/ND07aalNAj+c03tAFjG3PxDlmdp9Mbc/IxYp2Cwwpz8b0F4v+jmnPw==",
          "dtype": "f8"
         },
         "yaxis": "y6"
        },
        {
         "hovertemplate": "Type=Home battery<br>Scenario=1H Res, 1-Zone (DE), Min. Home Battery<br>Year=%{x}<br>Value [GW]=%{y}<extra></extra>",
         "legendgroup": "Home battery",
         "line": {
          "color": "#EF553B",
          "dash": "solid"
         },
         "marker": {
          "symbol": "circle"
         },
         "mode": "lines+markers",
         "name": "Home battery",
         "orientation": "v",
         "showlegend": false,
         "type": "scatter",
         "x": {
          "bdata": "5AfpB+4H8wf4B/0HAgg=",
          "dtype": "i2"
         },
         "xaxis": "x",
         "y": {
          "bdata": "Ne3SjR5l4T7TeeGEI84RQEo3NSaD3zRABu2bRKADQ0DlpJbjBCZLQJy28FEtd05AjZjGRi13TkA=",
          "dtype": "f8"
         },
         "yaxis": "y"
        },
        {
         "hovertemplate": "Type=Home battery<br>Scenario=Ariadne Report Technologiemix Szenario<br>Year=%{x}<br>Value [GW]=%{y}<extra></extra>",
         "legendgroup": "Home battery",
         "line": {
          "color": "#EF553B",
          "dash": "solid"
         },
         "marker": {
          "symbol": "circle"
         },
         "mode": "lines+markers",
         "name": "Home battery",
         "orientation": "v",
         "showlegend": false,
         "type": "scatter",
         "x": {
          "bdata": "5AfpB+4H8wf4B/0H",
          "dtype": "i2"
         },
         "xaxis": "x2",
         "y": {
          "bdata": "WRuT/essiD+dgbZbUGKtP4FMVgi+lKY/7nFcPlhtkj9KEo4ycxyOP35Rsm266Y0/",
          "dtype": "f8"
         },
         "yaxis": "y2"
        },
        {
         "hovertemplate": "Type=Utility-scale battery<br>Scenario=1H Res, 1-Zone (DE)<br>Year=%{x}<br>Value [GW]=%{y}<extra></extra>",
         "legendgroup": "Utility-scale battery",
         "line": {
          "color": "#00cc96",
          "dash": "solid"
         },
         "marker": {
          "symbol": "circle"
         },
         "mode": "lines+markers",
         "name": "Utility-scale battery",
         "orientation": "v",
         "showlegend": true,
         "type": "scatter",
         "x": {
          "bdata": "5AfpB+4H8wf4B/0HAgg=",
          "dtype": "i2"
         },
         "xaxis": "x4",
         "y": {
          "bdata": "ly92fqrb5D4qY+krJdvpPqeZSV2bgA5A+QQ5o10cPEAD73/oqTxBQLq01t/V/kBAgRR0CvMVREA=",
          "dtype": "f8"
         },
         "yaxis": "y4"
        },
        {
         "hovertemplate": "Type=Utility-scale battery<br>Scenario=Eigener Technologiemix Szenario Run<br>Year=%{x}<br>Value [GW]=%{y}<extra></extra>",
         "legendgroup": "Utility-scale battery",
         "line": {
          "color": "#00cc96",
          "dash": "solid"
         },
         "marker": {
          "symbol": "circle"
         },
         "mode": "lines+markers",
         "name": "Utility-scale battery",
         "orientation": "v",
         "showlegend": false,
         "type": "scatter",
         "x": {
          "bdata": "5AfpB+4H8wf4B/0HAgg=",
          "dtype": "i2"
         },
         "xaxis": "x5",
         "y": {
          "bdata": "9tgKXYTPQD+wJs/ARQhAPypvP6NXBhJAUqVHdXAyQECqIYx0n69HQPa186Csr0dAaO2L4yogUEA=",
          "dtype": "f8"
         },
         "yaxis": "y5"
        },
        {
         "hovertemplate": "Type=Utility-scale battery<br>Scenario=1-Zone (DE)<br>Year=%{x}<br>Value [GW]=%{y}<extra></extra>",
         "legendgroup": "Utility-scale battery",
         "line": {
          "color": "#00cc96",
          "dash": "solid"
         },
         "marker": {
          "symbol": "circle"
         },
         "mode": "lines+markers",
         "name": "Utility-scale battery",
         "orientation": "v",
         "showlegend": false,
         "type": "scatter",
         "x": {
          "bdata": "5AfkB+kH7gfzB/gH/QcCCA==",
          "dtype": "i2"
         },
         "xaxis": "x6",
         "y": {
          "bdata": "nkxaG2zHGD/3vkuuI+5BPyoEA3uYTxY/YVgeUb2kFEAIpAY5lzZBQGBE5CdQaERAk7ktwPZWREC0yUc7+lBFQA==",
          "dtype": "f8"
         },
         "yaxis": "y6"
        },
        {
         "hovertemplate": "Type=Utility-scale battery<br>Scenario=1H Res, 1-Zone (DE), Min. Home Battery<br>Year=%{x}<br>Value [GW]=%{y}<extra></extra>",
         "legendgroup": "Utility-scale battery",
         "line": {
          "color": "#00cc96",
          "dash": "solid"
         },
         "marker": {
          "symbol": "circle"
         },
         "mode": "lines+markers",
         "name": "Utility-scale battery",
         "orientation": "v",
         "showlegend": false,
         "type": "scatter",
         "x": {
          "bdata": "5AfpB+4H8wf4B/0HAgg=",
          "dtype": "i2"
         },
         "xaxis": "x",
         "y": {
          "bdata": "TE2oxFEF5j4buk0/2+PmPjwsW/bY0wQ/FntMXeyhMEAZxxr6BoA1QLSgGzxFNDVAIl9fiyfdQEA=",
          "dtype": "f8"
         },
         "yaxis": "y"
        },
        {
         "hovertemplate": "Type=Utility-scale battery<br>Scenario=Ariadne Report Technologiemix Szenario<br>Year=%{x}<br>Value [GW]=%{y}<extra></extra>",
         "legendgroup": "Utility-scale battery",
         "line": {
          "color": "#00cc96",
          "dash": "solid"
         },
         "marker": {
          "symbol": "circle"
         },
         "mode": "lines+markers",
         "name": "Utility-scale battery",
         "orientation": "v",
         "showlegend": false,
         "type": "scatter",
         "x": {
          "bdata": "5AfpB+4H8wf4B/0H",
          "dtype": "i2"
         },
         "xaxis": "x2",
         "y": {
          "bdata": "qMVbio/ajD/uIYCP5TWEP/BuwFIsbQ9AsNb7+AzhQEAFSOQx8jpJQNGF68PAOklA",
          "dtype": "f8"
         },
         "yaxis": "y2"
        }
       ],
       "layout": {
        "annotations": [
         {
          "font": {},
          "showarrow": false,
          "text": "1H Res, 1-Zone (DE), Min. Home Battery",
          "x": 0.15999999999999998,
          "xanchor": "center",
          "xref": "paper",
          "y": 0.46499999999999997,
          "yanchor": "bottom",
          "yref": "paper"
         },
         {
          "font": {},
          "showarrow": false,
          "text": "Ariadne Report Technologiemix Szenario",
          "x": 0.49999999999999994,
          "xanchor": "center",
          "xref": "paper",
          "y": 0.46499999999999997,
          "yanchor": "bottom",
          "yref": "paper"
         },
         {
          "font": {},
          "showarrow": false,
          "text": "1H Res, 1-Zone (DE)",
          "x": 0.15999999999999998,
          "xanchor": "center",
          "xref": "paper",
          "y": 0.9999999999999999,
          "yanchor": "bottom",
          "yref": "paper"
         },
         {
          "font": {},
          "showarrow": false,
          "text": "Eigener Technologiemix Szenario Run",
          "x": 0.49999999999999994,
          "xanchor": "center",
          "xref": "paper",
          "y": 0.9999999999999999,
          "yanchor": "bottom",
          "yref": "paper"
         },
         {
          "font": {},
          "showarrow": false,
          "text": "1-Zone (DE)",
          "x": 0.8399999999999999,
          "xanchor": "center",
          "xref": "paper",
          "y": 0.9999999999999999,
          "yanchor": "bottom",
          "yref": "paper"
         }
        ],
        "legend": {
         "title": {
          "text": "Type"
         },
         "tracegroupgap": 0
        },
        "template": {
         "data": {
          "bar": [
           {
            "error_x": {
             "color": "#2a3f5f"
            },
            "error_y": {
             "color": "#2a3f5f"
            },
            "marker": {
             "line": {
              "color": "#E5ECF6",
              "width": 0.5
             },
             "pattern": {
              "fillmode": "overlay",
              "size": 10,
              "solidity": 0.2
             }
            },
            "type": "bar"
           }
          ],
          "barpolar": [
           {
            "marker": {
             "line": {
              "color": "#E5ECF6",
              "width": 0.5
             },
             "pattern": {
              "fillmode": "overlay",
              "size": 10,
              "solidity": 0.2
             }
            },
            "type": "barpolar"
           }
          ],
          "carpet": [
           {
            "aaxis": {
             "endlinecolor": "#2a3f5f",
             "gridcolor": "white",
             "linecolor": "white",
             "minorgridcolor": "white",
             "startlinecolor": "#2a3f5f"
            },
            "baxis": {
             "endlinecolor": "#2a3f5f",
             "gridcolor": "white",
             "linecolor": "white",
             "minorgridcolor": "white",
             "startlinecolor": "#2a3f5f"
            },
            "type": "carpet"
           }
          ],
          "choropleth": [
           {
            "colorbar": {
             "outlinewidth": 0,
             "ticks": ""
            },
            "type": "choropleth"
           }
          ],
          "contour": [
           {
            "colorbar": {
             "outlinewidth": 0,
             "ticks": ""
            },
            "colorscale": [
             [
              0,
              "#0d0887"
             ],
             [
              0.1111111111111111,
              "#46039f"
             ],
             [
              0.2222222222222222,
              "#7201a8"
             ],
             [
              0.3333333333333333,
              "#9c179e"
             ],
             [
              0.4444444444444444,
              "#bd3786"
             ],
             [
              0.5555555555555556,
              "#d8576b"
             ],
             [
              0.6666666666666666,
              "#ed7953"
             ],
             [
              0.7777777777777778,
              "#fb9f3a"
             ],
             [
              0.8888888888888888,
              "#fdca26"
             ],
             [
              1,
              "#f0f921"
             ]
            ],
            "type": "contour"
           }
          ],
          "contourcarpet": [
           {
            "colorbar": {
             "outlinewidth": 0,
             "ticks": ""
            },
            "type": "contourcarpet"
           }
          ],
          "heatmap": [
           {
            "colorbar": {
             "outlinewidth": 0,
             "ticks": ""
            },
            "colorscale": [
             [
              0,
              "#0d0887"
             ],
             [
              0.1111111111111111,
              "#46039f"
             ],
             [
              0.2222222222222222,
              "#7201a8"
             ],
             [
              0.3333333333333333,
              "#9c179e"
             ],
             [
              0.4444444444444444,
              "#bd3786"
             ],
             [
              0.5555555555555556,
              "#d8576b"
             ],
             [
              0.6666666666666666,
              "#ed7953"
             ],
             [
              0.7777777777777778,
              "#fb9f3a"
             ],
             [
              0.8888888888888888,
              "#fdca26"
             ],
             [
              1,
              "#f0f921"
             ]
            ],
            "type": "heatmap"
           }
          ],
          "histogram": [
           {
            "marker": {
             "pattern": {
              "fillmode": "overlay",
              "size": 10,
              "solidity": 0.2
             }
            },
            "type": "histogram"
           }
          ],
          "histogram2d": [
           {
            "colorbar": {
             "outlinewidth": 0,
             "ticks": ""
            },
            "colorscale": [
             [
              0,
              "#0d0887"
             ],
             [
              0.1111111111111111,
              "#46039f"
             ],
             [
              0.2222222222222222,
              "#7201a8"
             ],
             [
              0.3333333333333333,
              "#9c179e"
             ],
             [
              0.4444444444444444,
              "#bd3786"
             ],
             [
              0.5555555555555556,
              "#d8576b"
             ],
             [
              0.6666666666666666,
              "#ed7953"
             ],
             [
              0.7777777777777778,
              "#fb9f3a"
             ],
             [
              0.8888888888888888,
              "#fdca26"
             ],
             [
              1,
              "#f0f921"
             ]
            ],
            "type": "histogram2d"
           }
          ],
          "histogram2dcontour": [
           {
            "colorbar": {
             "outlinewidth": 0,
             "ticks": ""
            },
            "colorscale": [
             [
              0,
              "#0d0887"
             ],
             [
              0.1111111111111111,
              "#46039f"
             ],
             [
              0.2222222222222222,
              "#7201a8"
             ],
             [
              0.3333333333333333,
              "#9c179e"
             ],
             [
              0.4444444444444444,
              "#bd3786"
             ],
             [
              0.5555555555555556,
              "#d8576b"
             ],
             [
              0.6666666666666666,
              "#ed7953"
             ],
             [
              0.7777777777777778,
              "#fb9f3a"
             ],
             [
              0.8888888888888888,
              "#fdca26"
             ],
             [
              1,
              "#f0f921"
             ]
            ],
            "type": "histogram2dcontour"
           }
          ],
          "mesh3d": [
           {
            "colorbar": {
             "outlinewidth": 0,
             "ticks": ""
            },
            "type": "mesh3d"
           }
          ],
          "parcoords": [
           {
            "line": {
             "colorbar": {
              "outlinewidth": 0,
              "ticks": ""
             }
            },
            "type": "parcoords"
           }
          ],
          "pie": [
           {
            "automargin": true,
            "type": "pie"
           }
          ],
          "scatter": [
           {
            "fillpattern": {
             "fillmode": "overlay",
             "size": 10,
             "solidity": 0.2
            },
            "type": "scatter"
           }
          ],
          "scatter3d": [
           {
            "line": {
             "colorbar": {
              "outlinewidth": 0,
              "ticks": ""
             }
            },
            "marker": {
             "colorbar": {
              "outlinewidth": 0,
              "ticks": ""
             }
            },
            "type": "scatter3d"
           }
          ],
          "scattercarpet": [
           {
            "marker": {
             "colorbar": {
              "outlinewidth": 0,
              "ticks": ""
             }
            },
            "type": "scattercarpet"
           }
          ],
          "scattergeo": [
           {
            "marker": {
             "colorbar": {
              "outlinewidth": 0,
              "ticks": ""
             }
            },
            "type": "scattergeo"
           }
          ],
          "scattergl": [
           {
            "marker": {
             "colorbar": {
              "outlinewidth": 0,
              "ticks": ""
             }
            },
            "type": "scattergl"
           }
          ],
          "scattermap": [
           {
            "marker": {
             "colorbar": {
              "outlinewidth": 0,
              "ticks": ""
             }
            },
            "type": "scattermap"
           }
          ],
          "scattermapbox": [
           {
            "marker": {
             "colorbar": {
              "outlinewidth": 0,
              "ticks": ""
             }
            },
            "type": "scattermapbox"
           }
          ],
          "scatterpolar": [
           {
            "marker": {
             "colorbar": {
              "outlinewidth": 0,
              "ticks": ""
             }
            },
            "type": "scatterpolar"
           }
          ],
          "scatterpolargl": [
           {
            "marker": {
             "colorbar": {
              "outlinewidth": 0,
              "ticks": ""
             }
            },
            "type": "scatterpolargl"
           }
          ],
          "scatterternary": [
           {
            "marker": {
             "colorbar": {
              "outlinewidth": 0,
              "ticks": ""
             }
            },
            "type": "scatterternary"
           }
          ],
          "surface": [
           {
            "colorbar": {
             "outlinewidth": 0,
             "ticks": ""
            },
            "colorscale": [
             [
              0,
              "#0d0887"
             ],
             [
              0.1111111111111111,
              "#46039f"
             ],
             [
              0.2222222222222222,
              "#7201a8"
             ],
             [
              0.3333333333333333,
              "#9c179e"
             ],
             [
              0.4444444444444444,
              "#bd3786"
             ],
             [
              0.5555555555555556,
              "#d8576b"
             ],
             [
              0.6666666666666666,
              "#ed7953"
             ],
             [
              0.7777777777777778,
              "#fb9f3a"
             ],
             [
              0.8888888888888888,
              "#fdca26"
             ],
             [
              1,
              "#f0f921"
             ]
            ],
            "type": "surface"
           }
          ],
          "table": [
           {
            "cells": {
             "fill": {
              "color": "#EBF0F8"
             },
             "line": {
              "color": "white"
             }
            },
            "header": {
             "fill": {
              "color": "#C8D4E3"
             },
             "line": {
              "color": "white"
             }
            },
            "type": "table"
           }
          ]
         },
         "layout": {
          "annotationdefaults": {
           "arrowcolor": "#2a3f5f",
           "arrowhead": 0,
           "arrowwidth": 1
          },
          "autotypenumbers": "strict",
          "coloraxis": {
           "colorbar": {
            "outlinewidth": 0,
            "ticks": ""
           }
          },
          "colorscale": {
           "diverging": [
            [
             0,
             "#8e0152"
            ],
            [
             0.1,
             "#c51b7d"
            ],
            [
             0.2,
             "#de77ae"
            ],
            [
             0.3,
             "#f1b6da"
            ],
            [
             0.4,
             "#fde0ef"
            ],
            [
             0.5,
             "#f7f7f7"
            ],
            [
             0.6,
             "#e6f5d0"
            ],
            [
             0.7,
             "#b8e186"
            ],
            [
             0.8,
             "#7fbc41"
            ],
            [
             0.9,
             "#4d9221"
            ],
            [
             1,
             "#276419"
            ]
           ],
           "sequential": [
            [
             0,
             "#0d0887"
            ],
            [
             0.1111111111111111,
             "#46039f"
            ],
            [
             0.2222222222222222,
             "#7201a8"
            ],
            [
             0.3333333333333333,
             "#9c179e"
            ],
            [
             0.4444444444444444,
             "#bd3786"
            ],
            [
             0.5555555555555556,
             "#d8576b"
            ],
            [
             0.6666666666666666,
             "#ed7953"
            ],
            [
             0.7777777777777778,
             "#fb9f3a"
            ],
            [
             0.8888888888888888,
             "#fdca26"
            ],
            [
             1,
             "#f0f921"
            ]
           ],
           "sequentialminus": [
            [
             0,
             "#0d0887"
            ],
            [
             0.1111111111111111,
             "#46039f"
            ],
            [
             0.2222222222222222,
             "#7201a8"
            ],
            [
             0.3333333333333333,
             "#9c179e"
            ],
            [
             0.4444444444444444,
             "#bd3786"
            ],
            [
             0.5555555555555556,
             "#d8576b"
            ],
            [
             0.6666666666666666,
             "#ed7953"
            ],
            [
             0.7777777777777778,
             "#fb9f3a"
            ],
            [
             0.8888888888888888,
             "#fdca26"
            ],
            [
             1,
             "#f0f921"
            ]
           ]
          },
          "colorway": [
           "#636efa",
           "#EF553B",
           "#00cc96",
           "#ab63fa",
           "#FFA15A",
           "#19d3f3",
           "#FF6692",
           "#B6E880",
           "#FF97FF",
           "#FECB52"
          ],
          "font": {
           "color": "#2a3f5f"
          },
          "geo": {
           "bgcolor": "white",
           "lakecolor": "white",
           "landcolor": "#E5ECF6",
           "showlakes": true,
           "showland": true,
           "subunitcolor": "white"
          },
          "hoverlabel": {
           "align": "left"
          },
          "hovermode": "closest",
          "mapbox": {
           "style": "light"
          },
          "paper_bgcolor": "white",
          "plot_bgcolor": "#E5ECF6",
          "polar": {
           "angularaxis": {
            "gridcolor": "white",
            "linecolor": "white",
            "ticks": ""
           },
           "bgcolor": "#E5ECF6",
           "radialaxis": {
            "gridcolor": "white",
            "linecolor": "white",
            "ticks": ""
           }
          },
          "scene": {
           "xaxis": {
            "backgroundcolor": "#E5ECF6",
            "gridcolor": "white",
            "gridwidth": 2,
            "linecolor": "white",
            "showbackground": true,
            "ticks": "",
            "zerolinecolor": "white"
           },
           "yaxis": {
            "backgroundcolor": "#E5ECF6",
            "gridcolor": "white",
            "gridwidth": 2,
            "linecolor": "white",
            "showbackground": true,
            "ticks": "",
            "zerolinecolor": "white"
           },
           "zaxis": {
            "backgroundcolor": "#E5ECF6",
            "gridcolor": "white",
            "gridwidth": 2,
            "linecolor": "white",
            "showbackground": true,
            "ticks": "",
            "zerolinecolor": "white"
           }
          },
          "shapedefaults": {
           "line": {
            "color": "#2a3f5f"
           }
          },
          "ternary": {
           "aaxis": {
            "gridcolor": "white",
            "linecolor": "white",
            "ticks": ""
           },
           "baxis": {
            "gridcolor": "white",
            "linecolor": "white",
            "ticks": ""
           },
           "bgcolor": "#E5ECF6",
           "caxis": {
            "gridcolor": "white",
            "linecolor": "white",
            "ticks": ""
           }
          },
          "title": {
           "x": 0.05
          },
          "xaxis": {
           "automargin": true,
           "gridcolor": "white",
           "linecolor": "white",
           "ticks": "",
           "title": {
            "standoff": 15
           },
           "zerolinecolor": "white",
           "zerolinewidth": 2
          },
          "yaxis": {
           "automargin": true,
           "gridcolor": "white",
           "linecolor": "white",
           "ticks": "",
           "title": {
            "standoff": 15
           },
           "zerolinecolor": "white",
           "zerolinewidth": 2
          }
         }
        },
        "title": {
         "text": "Entladeleistung von Batteriespeichern in Deutschland (GW) nach Szenario"
        },
        "xaxis": {
         "anchor": "y",
         "domain": [
          0,
          0.31999999999999995
         ],
         "title": {
          "text": "Year"
         }
        },
        "xaxis2": {
         "anchor": "y2",
         "domain": [
          0.33999999999999997,
          0.6599999999999999
         ],
         "matches": "x",
         "title": {
          "text": "Year"
         }
        },
        "xaxis3": {
         "anchor": "y3",
         "domain": [
          0.6799999999999999,
          0.9999999999999999
         ],
         "matches": "x",
         "title": {
          "text": "Year"
         }
        },
        "xaxis4": {
         "anchor": "y4",
         "domain": [
          0,
          0.31999999999999995
         ],
         "matches": "x",
         "showticklabels": false
        },
        "xaxis5": {
         "anchor": "y5",
         "domain": [
          0.33999999999999997,
          0.6599999999999999
         ],
         "matches": "x",
         "showticklabels": false
        },
        "xaxis6": {
         "anchor": "y6",
         "domain": [
          0.6799999999999999,
          0.9999999999999999
         ],
         "matches": "x",
         "showticklabels": false
        },
        "yaxis": {
         "anchor": "x",
         "domain": [
          0,
          0.46499999999999997
         ],
         "title": {
          "text": "Value [GW]"
         }
        },
        "yaxis2": {
         "anchor": "x2",
         "domain": [
          0,
          0.46499999999999997
         ],
         "matches": "y",
         "showticklabels": false
        },
        "yaxis3": {
         "anchor": "x3",
         "domain": [
          0,
          0.46499999999999997
         ],
         "matches": "y",
         "showticklabels": false
        },
        "yaxis4": {
         "anchor": "x4",
         "domain": [
          0.5349999999999999,
          0.9999999999999999
         ],
         "matches": "y",
         "title": {
          "text": "Value [GW]"
         }
        },
        "yaxis5": {
         "anchor": "x5",
         "domain": [
          0.5349999999999999,
          0.9999999999999999
         ],
         "matches": "y",
         "showticklabels": false
        },
        "yaxis6": {
         "anchor": "x6",
         "domain": [
          0.5349999999999999,
          0.9999999999999999
         ],
         "matches": "y",
         "showticklabels": false
        }
       }
      }
     },
     "metadata": {},
     "output_type": "display_data"
    },
    {
     "name": "stderr",
     "output_type": "stream",
     "text": [
      "c:\\Users\\morit\\.conda\\envs\\pypsa-de\\Lib\\site-packages\\_plotly_utils\\basevalidators.py:2596: DeprecationWarning:\n",
      "\n",
      "*scattermapbox* is deprecated! Use *scattermap* instead. Learn more at: https://plotly.com/python/mapbox-to-maplibre/\n",
      "\n"
     ]
    },
    {
     "data": {
      "application/vnd.plotly.v1+json": {
       "config": {
        "plotlyServerURL": "https://plot.ly"
       },
       "data": [
        {
         "hovertemplate": "Type=EV battery<br>Scenario=1H Res, 1-Zone (DE)<br>Year=%{x}<br>Value [GWh]=%{y}<extra></extra>",
         "legendgroup": "EV battery",
         "line": {
          "color": "#636efa",
          "dash": "solid"
         },
         "marker": {
          "symbol": "circle"
         },
         "mode": "lines+markers",
         "name": "EV battery",
         "orientation": "v",
         "showlegend": true,
         "type": "scatter",
         "x": {
          "bdata": "5AfpB+4H8wf4B/0HAgg=",
          "dtype": "i2"
         },
         "xaxis": "x4",
         "y": {
          "bdata": "AAAAAAAAAAAAAAAAAAAAAJaaPdDqXXZA8TMuHHDGgEBZNJ2dPBiKQP6arFG3r49AYRqGjwS1kUA=",
          "dtype": "f8"
         },
         "yaxis": "y4"
        },
        {
         "hovertemplate": "Type=EV battery<br>Scenario=Eigener Technologiemix Szenario Run<br>Year=%{x}<br>Value [GWh]=%{y}<extra></extra>",
         "legendgroup": "EV battery",
         "line": {
          "color": "#636efa",
          "dash": "solid"
         },
         "marker": {
          "symbol": "circle"
         },
         "mode": "lines+markers",
         "name": "EV battery",
         "orientation": "v",
         "showlegend": false,
         "type": "scatter",
         "x": {
          "bdata": "5AfpB+4H8wf4B/0HAgg=",
          "dtype": "i2"
         },
         "xaxis": "x5",
         "y": {
          "bdata": "AAAAAAAAAAAAAAAAAAAAAJOaPdDqXXZA7zMuHHDGgEBWNJ2dPBiKQPyarFG3r49AXxqGjwS1kUA=",
          "dtype": "f8"
         },
         "yaxis": "y5"
        },
        {
         "hovertemplate": "Type=EV battery<br>Scenario=1-Zone (DE)<br>Year=%{x}<br>Value [GWh]=%{y}<extra></extra>",
         "legendgroup": "EV battery",
         "line": {
          "color": "#636efa",
          "dash": "solid"
         },
         "marker": {
          "symbol": "circle"
         },
         "mode": "lines+markers",
         "name": "EV battery",
         "orientation": "v",
         "showlegend": false,
         "type": "scatter",
         "x": {
          "bdata": "5AfkB+kH7gfzB/gH/QcCCA==",
          "dtype": "i2"
         },
         "xaxis": "x6",
         "y": {
          "bdata": "AAAAAAAAAAAAAAAAAAAAAAAAAAAAAAAAlpo90OpddkDxMy4ccMaAQFk0nZ08GIpA/pqsUbevj0BhGoaPBLWRQA==",
          "dtype": "f8"
         },
         "yaxis": "y6"
        },
        {
         "hovertemplate": "Type=EV battery<br>Scenario=1H Res, 1-Zone (DE), Min. Home Battery<br>Year=%{x}<br>Value [GWh]=%{y}<extra></extra>",
         "legendgroup": "EV battery",
         "line": {
          "color": "#636efa",
          "dash": "solid"
         },
         "marker": {
          "symbol": "circle"
         },
         "mode": "lines+markers",
         "name": "EV battery",
         "orientation": "v",
         "showlegend": false,
         "type": "scatter",
         "x": {
          "bdata": "5AfpB+4H8wf4B/0HAgg=",
          "dtype": "i2"
         },
         "xaxis": "x",
         "y": {
          "bdata": "AAAAAAAAAAAAAAAAAAAAAJaaPdDqXXZA8TMuHHDGgEBZNJ2dPBiKQP6arFG3r49AYRqGjwS1kUA=",
          "dtype": "f8"
         },
         "yaxis": "y"
        },
        {
         "hovertemplate": "Type=EV battery<br>Scenario=Ariadne Report Technologiemix Szenario<br>Year=%{x}<br>Value [GWh]=%{y}<extra></extra>",
         "legendgroup": "EV battery",
         "line": {
          "color": "#636efa",
          "dash": "solid"
         },
         "marker": {
          "symbol": "circle"
         },
         "mode": "lines+markers",
         "name": "EV battery",
         "orientation": "v",
         "showlegend": false,
         "type": "scatter",
         "x": {
          "bdata": "5AfpB+4H8wf4B/0H",
          "dtype": "i2"
         },
         "xaxis": "x2",
         "y": {
          "bdata": "AAAAAAAAAAAAAAAAAAAAAI2aPdDqXXZA6jMuHHDGgEBPNJ2dPBiKQPOarFG3r49A",
          "dtype": "f8"
         },
         "yaxis": "y2"
        },
        {
         "hovertemplate": "Type=Home battery<br>Scenario=1H Res, 1-Zone (DE)<br>Year=%{x}<br>Value [GWh]=%{y}<extra></extra>",
         "legendgroup": "Home battery",
         "line": {
          "color": "#EF553B",
          "dash": "solid"
         },
         "marker": {
          "symbol": "circle"
         },
         "mode": "lines+markers",
         "name": "Home battery",
         "orientation": "v",
         "showlegend": true,
         "type": "scatter",
         "x": {
          "bdata": "5AfpB+4H8wf4B/0HAgg=",
          "dtype": "i2"
         },
         "xaxis": "x4",
         "y": {
          "bdata": "qUQNwT2xAT8wJIjshTsOP4KrodaBoS9ADDalD5MnRkCNbwufSmZHQCFi9UlvZkdAraU2hHdmR0A=",
          "dtype": "f8"
         },
         "yaxis": "y4"
        },
        {
         "hovertemplate": "Type=Home battery<br>Scenario=Eigener Technologiemix Szenario Run<br>Year=%{x}<br>Value [GWh]=%{y}<extra></extra>",
         "legendgroup": "Home battery",
         "line": {
          "color": "#EF553B",
          "dash": "solid"
         },
         "marker": {
          "symbol": "circle"
         },
         "mode": "lines+markers",
         "name": "Home battery",
         "orientation": "v",
         "showlegend": false,
         "type": "scatter",
         "x": {
          "bdata": "5AfpB+4H8wf4B/0HAgg=",
          "dtype": "i2"
         },
         "xaxis": "x5",
         "y": {
          "bdata": "DggVHO7aYj9GI4lis+pjP38aBnf93QFA12hMJBj1JkCyhlBNz/AqQJy65iVJ8SpAK9055/jwKkA=",
          "dtype": "f8"
         },
         "yaxis": "y5"
        },
        {
         "hovertemplate": "Type=Home battery<br>Scenario=1-Zone (DE)<br>Year=%{x}<br>Value [GWh]=%{y}<extra></extra>",
         "legendgroup": "Home battery",
         "line": {
          "color": "#EF553B",
          "dash": "solid"
         },
         "marker": {
          "symbol": "circle"
         },
         "mode": "lines+markers",
         "name": "Home battery",
         "orientation": "v",
         "showlegend": false,
         "type": "scatter",
         "x": {
          "bdata": "5AfkB+kH7gfzB/gH/QcCCA==",
          "dtype": "i2"
         },
         "xaxis": "x6",
         "y": {
          "bdata": "KJqJTgZDMT99zTsPqmVhPydlryiiqjk/x6g7LMPVKj8rFTqXibHgPy0H9RAXs+A/L1zXffWx4D8uEzVVp7HgPw==",
          "dtype": "f8"
         },
         "yaxis": "y6"
        },
        {
         "hovertemplate": "Type=Home battery<br>Scenario=1H Res, 1-Zone (DE), Min. Home Battery<br>Year=%{x}<br>Value [GWh]=%{y}<extra></extra>",
         "legendgroup": "Home battery",
         "line": {
          "color": "#EF553B",
          "dash": "solid"
         },
         "marker": {
          "symbol": "circle"
         },
         "mode": "lines+markers",
         "name": "Home battery",
         "orientation": "v",
         "showlegend": false,
         "type": "scatter",
         "x": {
          "bdata": "5AfpB+4H8wf4B/0HAgg=",
          "dtype": "i2"
         },
         "xaxis": "x",
         "y": {
          "bdata": "6nscNPlLBD/H22nNzIxEQFfl+wUAYFFARsdIHpy5Y0DRPFt53hRkQAYFdRjfFGRASM642sxsYUA=",
          "dtype": "f8"
         },
         "yaxis": "y"
        },
        {
         "hovertemplate": "Type=Home battery<br>Scenario=Ariadne Report Technologiemix Szenario<br>Year=%{x}<br>Value [GWh]=%{y}<extra></extra>",
         "legendgroup": "Home battery",
         "line": {
          "color": "#EF553B",
          "dash": "solid"
         },
         "marker": {
          "symbol": "circle"
         },
         "mode": "lines+markers",
         "name": "Home battery",
         "orientation": "v",
         "showlegend": false,
         "type": "scatter",
         "x": {
          "bdata": "5AfpB+4H8wf4B/0H",
          "dtype": "i2"
         },
         "xaxis": "x2",
         "y": {
          "bdata": "S/yQvxjMlT9SnsaCGpPFP4AYFMTn/sI/oEkXUy5owz9TwrU/H4jCP/UIHd3ed8I/",
          "dtype": "f8"
         },
         "yaxis": "y2"
        },
        {
         "hovertemplate": "Type=Utility-scale battery<br>Scenario=1H Res, 1-Zone (DE)<br>Year=%{x}<br>Value [GWh]=%{y}<extra></extra>",
         "legendgroup": "Utility-scale battery",
         "line": {
          "color": "#00cc96",
          "dash": "solid"
         },
         "marker": {
          "symbol": "circle"
         },
         "mode": "lines+markers",
         "name": "Utility-scale battery",
         "orientation": "v",
         "showlegend": true,
         "type": "scatter",
         "x": {
          "bdata": "5AfpB+4H8wf4B/0HAgg=",
          "dtype": "i2"
         },
         "xaxis": "x4",
         "y": {
          "bdata": "BHgiNVso5D6qrXMrfnf3PojBpERhAz9AlHXjKCgMcECDOLFpDItzQEIBfKYWi3NA9CjQmkyxdUA=",
          "dtype": "f8"
         },
         "yaxis": "y4"
        },
        {
         "hovertemplate": "Type=Utility-scale battery<br>Scenario=Eigener Technologiemix Szenario Run<br>Year=%{x}<br>Value [GWh]=%{y}<extra></extra>",
         "legendgroup": "Utility-scale battery",
         "line": {
          "color": "#00cc96",
          "dash": "solid"
         },
         "marker": {
          "symbol": "circle"
         },
         "mode": "lines+markers",
         "name": "Utility-scale battery",
         "orientation": "v",
         "showlegend": false,
         "type": "scatter",
         "x": {
          "bdata": "5AfpB+4H8wf4B/0HAgg=",
          "dtype": "i2"
         },
         "xaxis": "x5",
         "y": {
          "bdata": "mtzNaaIwQz/x6CZotTtPP0KOUKpdd0NADf1sxiV+cUB4cRVitpR5QD1eK+HElHlAAFos+mpqgUA=",
          "dtype": "f8"
         },
         "yaxis": "y5"
        },
        {
         "hovertemplate": "Type=Utility-scale battery<br>Scenario=1-Zone (DE)<br>Year=%{x}<br>Value [GWh]=%{y}<extra></extra>",
         "legendgroup": "Utility-scale battery",
         "line": {
          "color": "#00cc96",
          "dash": "solid"
         },
         "marker": {
          "symbol": "circle"
         },
         "mode": "lines+markers",
         "name": "Utility-scale battery",
         "orientation": "v",
         "showlegend": false,
         "type": "scatter",
         "x": {
          "bdata": "5AfkB+kH7gfzB/gH/QcCCA==",
          "dtype": "i2"
         },
         "xaxis": "x6",
         "y": {
          "bdata": "nJB3Ht17HD/xrPckfmxDPyDRukr6AyU/B9uUc4NLRkASWmx3HpdyQDgRexdCCnZABfqF8kIKdkA0WIcfiQV3QA==",
          "dtype": "f8"
         },
         "yaxis": "y6"
        },
        {
         "hovertemplate": "Type=Utility-scale battery<br>Scenario=1H Res, 1-Zone (DE), Min. Home Battery<br>Year=%{x}<br>Value [GWh]=%{y}<extra></extra>",
         "legendgroup": "Utility-scale battery",
         "line": {
          "color": "#00cc96",
          "dash": "solid"
         },
         "marker": {
          "symbol": "circle"
         },
         "mode": "lines+markers",
         "name": "Utility-scale battery",
         "orientation": "v",
         "showlegend": false,
         "type": "scatter",
         "x": {
          "bdata": "5AfpB+4H8wf4B/0HAgg=",
          "dtype": "i2"
         },
         "xaxis": "x",
         "y": {
          "bdata": "bLUz5hIb5j6ncn+6wnLyPhlYTD/jYzQ/so6b+DqJY0BhYqXxxCBpQJpYi8vGIGlAGwkS/4Y2ckA=",
          "dtype": "f8"
         },
         "yaxis": "y"
        },
        {
         "hovertemplate": "Type=Utility-scale battery<br>Scenario=Ariadne Report Technologiemix Szenario<br>Year=%{x}<br>Value [GWh]=%{y}<extra></extra>",
         "legendgroup": "Utility-scale battery",
         "line": {
          "color": "#00cc96",
          "dash": "solid"
         },
         "marker": {
          "symbol": "circle"
         },
         "mode": "lines+markers",
         "name": "Utility-scale battery",
         "orientation": "v",
         "showlegend": false,
         "type": "scatter",
         "x": {
          "bdata": "5AfpB+4H8wf4B/0H",
          "dtype": "i2"
         },
         "xaxis": "x2",
         "y": {
          "bdata": "8nArOskNiz9KSho+wvaQP9CfCM4a+EBAJ1WvLa06ckAnjvGZqD97QOe2z+pzP3tA",
          "dtype": "f8"
         },
         "yaxis": "y2"
        }
       ],
       "layout": {
        "annotations": [
         {
          "font": {},
          "showarrow": false,
          "text": "1H Res, 1-Zone (DE), Min. Home Battery",
          "x": 0.15999999999999998,
          "xanchor": "center",
          "xref": "paper",
          "y": 0.46499999999999997,
          "yanchor": "bottom",
          "yref": "paper"
         },
         {
          "font": {},
          "showarrow": false,
          "text": "Ariadne Report Technologiemix Szenario",
          "x": 0.49999999999999994,
          "xanchor": "center",
          "xref": "paper",
          "y": 0.46499999999999997,
          "yanchor": "bottom",
          "yref": "paper"
         },
         {
          "font": {},
          "showarrow": false,
          "text": "1H Res, 1-Zone (DE)",
          "x": 0.15999999999999998,
          "xanchor": "center",
          "xref": "paper",
          "y": 0.9999999999999999,
          "yanchor": "bottom",
          "yref": "paper"
         },
         {
          "font": {},
          "showarrow": false,
          "text": "Eigener Technologiemix Szenario Run",
          "x": 0.49999999999999994,
          "xanchor": "center",
          "xref": "paper",
          "y": 0.9999999999999999,
          "yanchor": "bottom",
          "yref": "paper"
         },
         {
          "font": {},
          "showarrow": false,
          "text": "1-Zone (DE)",
          "x": 0.8399999999999999,
          "xanchor": "center",
          "xref": "paper",
          "y": 0.9999999999999999,
          "yanchor": "bottom",
          "yref": "paper"
         }
        ],
        "legend": {
         "title": {
          "text": "Type"
         },
         "tracegroupgap": 0
        },
        "template": {
         "data": {
          "bar": [
           {
            "error_x": {
             "color": "#2a3f5f"
            },
            "error_y": {
             "color": "#2a3f5f"
            },
            "marker": {
             "line": {
              "color": "#E5ECF6",
              "width": 0.5
             },
             "pattern": {
              "fillmode": "overlay",
              "size": 10,
              "solidity": 0.2
             }
            },
            "type": "bar"
           }
          ],
          "barpolar": [
           {
            "marker": {
             "line": {
              "color": "#E5ECF6",
              "width": 0.5
             },
             "pattern": {
              "fillmode": "overlay",
              "size": 10,
              "solidity": 0.2
             }
            },
            "type": "barpolar"
           }
          ],
          "carpet": [
           {
            "aaxis": {
             "endlinecolor": "#2a3f5f",
             "gridcolor": "white",
             "linecolor": "white",
             "minorgridcolor": "white",
             "startlinecolor": "#2a3f5f"
            },
            "baxis": {
             "endlinecolor": "#2a3f5f",
             "gridcolor": "white",
             "linecolor": "white",
             "minorgridcolor": "white",
             "startlinecolor": "#2a3f5f"
            },
            "type": "carpet"
           }
          ],
          "choropleth": [
           {
            "colorbar": {
             "outlinewidth": 0,
             "ticks": ""
            },
            "type": "choropleth"
           }
          ],
          "contour": [
           {
            "colorbar": {
             "outlinewidth": 0,
             "ticks": ""
            },
            "colorscale": [
             [
              0,
              "#0d0887"
             ],
             [
              0.1111111111111111,
              "#46039f"
             ],
             [
              0.2222222222222222,
              "#7201a8"
             ],
             [
              0.3333333333333333,
              "#9c179e"
             ],
             [
              0.4444444444444444,
              "#bd3786"
             ],
             [
              0.5555555555555556,
              "#d8576b"
             ],
             [
              0.6666666666666666,
              "#ed7953"
             ],
             [
              0.7777777777777778,
              "#fb9f3a"
             ],
             [
              0.8888888888888888,
              "#fdca26"
             ],
             [
              1,
              "#f0f921"
             ]
            ],
            "type": "contour"
           }
          ],
          "contourcarpet": [
           {
            "colorbar": {
             "outlinewidth": 0,
             "ticks": ""
            },
            "type": "contourcarpet"
           }
          ],
          "heatmap": [
           {
            "colorbar": {
             "outlinewidth": 0,
             "ticks": ""
            },
            "colorscale": [
             [
              0,
              "#0d0887"
             ],
             [
              0.1111111111111111,
              "#46039f"
             ],
             [
              0.2222222222222222,
              "#7201a8"
             ],
             [
              0.3333333333333333,
              "#9c179e"
             ],
             [
              0.4444444444444444,
              "#bd3786"
             ],
             [
              0.5555555555555556,
              "#d8576b"
             ],
             [
              0.6666666666666666,
              "#ed7953"
             ],
             [
              0.7777777777777778,
              "#fb9f3a"
             ],
             [
              0.8888888888888888,
              "#fdca26"
             ],
             [
              1,
              "#f0f921"
             ]
            ],
            "type": "heatmap"
           }
          ],
          "histogram": [
           {
            "marker": {
             "pattern": {
              "fillmode": "overlay",
              "size": 10,
              "solidity": 0.2
             }
            },
            "type": "histogram"
           }
          ],
          "histogram2d": [
           {
            "colorbar": {
             "outlinewidth": 0,
             "ticks": ""
            },
            "colorscale": [
             [
              0,
              "#0d0887"
             ],
             [
              0.1111111111111111,
              "#46039f"
             ],
             [
              0.2222222222222222,
              "#7201a8"
             ],
             [
              0.3333333333333333,
              "#9c179e"
             ],
             [
              0.4444444444444444,
              "#bd3786"
             ],
             [
              0.5555555555555556,
              "#d8576b"
             ],
             [
              0.6666666666666666,
              "#ed7953"
             ],
             [
              0.7777777777777778,
              "#fb9f3a"
             ],
             [
              0.8888888888888888,
              "#fdca26"
             ],
             [
              1,
              "#f0f921"
             ]
            ],
            "type": "histogram2d"
           }
          ],
          "histogram2dcontour": [
           {
            "colorbar": {
             "outlinewidth": 0,
             "ticks": ""
            },
            "colorscale": [
             [
              0,
              "#0d0887"
             ],
             [
              0.1111111111111111,
              "#46039f"
             ],
             [
              0.2222222222222222,
              "#7201a8"
             ],
             [
              0.3333333333333333,
              "#9c179e"
             ],
             [
              0.4444444444444444,
              "#bd3786"
             ],
             [
              0.5555555555555556,
              "#d8576b"
             ],
             [
              0.6666666666666666,
              "#ed7953"
             ],
             [
              0.7777777777777778,
              "#fb9f3a"
             ],
             [
              0.8888888888888888,
              "#fdca26"
             ],
             [
              1,
              "#f0f921"
             ]
            ],
            "type": "histogram2dcontour"
           }
          ],
          "mesh3d": [
           {
            "colorbar": {
             "outlinewidth": 0,
             "ticks": ""
            },
            "type": "mesh3d"
           }
          ],
          "parcoords": [
           {
            "line": {
             "colorbar": {
              "outlinewidth": 0,
              "ticks": ""
             }
            },
            "type": "parcoords"
           }
          ],
          "pie": [
           {
            "automargin": true,
            "type": "pie"
           }
          ],
          "scatter": [
           {
            "fillpattern": {
             "fillmode": "overlay",
             "size": 10,
             "solidity": 0.2
            },
            "type": "scatter"
           }
          ],
          "scatter3d": [
           {
            "line": {
             "colorbar": {
              "outlinewidth": 0,
              "ticks": ""
             }
            },
            "marker": {
             "colorbar": {
              "outlinewidth": 0,
              "ticks": ""
             }
            },
            "type": "scatter3d"
           }
          ],
          "scattercarpet": [
           {
            "marker": {
             "colorbar": {
              "outlinewidth": 0,
              "ticks": ""
             }
            },
            "type": "scattercarpet"
           }
          ],
          "scattergeo": [
           {
            "marker": {
             "colorbar": {
              "outlinewidth": 0,
              "ticks": ""
             }
            },
            "type": "scattergeo"
           }
          ],
          "scattergl": [
           {
            "marker": {
             "colorbar": {
              "outlinewidth": 0,
              "ticks": ""
             }
            },
            "type": "scattergl"
           }
          ],
          "scattermap": [
           {
            "marker": {
             "colorbar": {
              "outlinewidth": 0,
              "ticks": ""
             }
            },
            "type": "scattermap"
           }
          ],
          "scattermapbox": [
           {
            "marker": {
             "colorbar": {
              "outlinewidth": 0,
              "ticks": ""
             }
            },
            "type": "scattermapbox"
           }
          ],
          "scatterpolar": [
           {
            "marker": {
             "colorbar": {
              "outlinewidth": 0,
              "ticks": ""
             }
            },
            "type": "scatterpolar"
           }
          ],
          "scatterpolargl": [
           {
            "marker": {
             "colorbar": {
              "outlinewidth": 0,
              "ticks": ""
             }
            },
            "type": "scatterpolargl"
           }
          ],
          "scatterternary": [
           {
            "marker": {
             "colorbar": {
              "outlinewidth": 0,
              "ticks": ""
             }
            },
            "type": "scatterternary"
           }
          ],
          "surface": [
           {
            "colorbar": {
             "outlinewidth": 0,
             "ticks": ""
            },
            "colorscale": [
             [
              0,
              "#0d0887"
             ],
             [
              0.1111111111111111,
              "#46039f"
             ],
             [
              0.2222222222222222,
              "#7201a8"
             ],
             [
              0.3333333333333333,
              "#9c179e"
             ],
             [
              0.4444444444444444,
              "#bd3786"
             ],
             [
              0.5555555555555556,
              "#d8576b"
             ],
             [
              0.6666666666666666,
              "#ed7953"
             ],
             [
              0.7777777777777778,
              "#fb9f3a"
             ],
             [
              0.8888888888888888,
              "#fdca26"
             ],
             [
              1,
              "#f0f921"
             ]
            ],
            "type": "surface"
           }
          ],
          "table": [
           {
            "cells": {
             "fill": {
              "color": "#EBF0F8"
             },
             "line": {
              "color": "white"
             }
            },
            "header": {
             "fill": {
              "color": "#C8D4E3"
             },
             "line": {
              "color": "white"
             }
            },
            "type": "table"
           }
          ]
         },
         "layout": {
          "annotationdefaults": {
           "arrowcolor": "#2a3f5f",
           "arrowhead": 0,
           "arrowwidth": 1
          },
          "autotypenumbers": "strict",
          "coloraxis": {
           "colorbar": {
            "outlinewidth": 0,
            "ticks": ""
           }
          },
          "colorscale": {
           "diverging": [
            [
             0,
             "#8e0152"
            ],
            [
             0.1,
             "#c51b7d"
            ],
            [
             0.2,
             "#de77ae"
            ],
            [
             0.3,
             "#f1b6da"
            ],
            [
             0.4,
             "#fde0ef"
            ],
            [
             0.5,
             "#f7f7f7"
            ],
            [
             0.6,
             "#e6f5d0"
            ],
            [
             0.7,
             "#b8e186"
            ],
            [
             0.8,
             "#7fbc41"
            ],
            [
             0.9,
             "#4d9221"
            ],
            [
             1,
             "#276419"
            ]
           ],
           "sequential": [
            [
             0,
             "#0d0887"
            ],
            [
             0.1111111111111111,
             "#46039f"
            ],
            [
             0.2222222222222222,
             "#7201a8"
            ],
            [
             0.3333333333333333,
             "#9c179e"
            ],
            [
             0.4444444444444444,
             "#bd3786"
            ],
            [
             0.5555555555555556,
             "#d8576b"
            ],
            [
             0.6666666666666666,
             "#ed7953"
            ],
            [
             0.7777777777777778,
             "#fb9f3a"
            ],
            [
             0.8888888888888888,
             "#fdca26"
            ],
            [
             1,
             "#f0f921"
            ]
           ],
           "sequentialminus": [
            [
             0,
             "#0d0887"
            ],
            [
             0.1111111111111111,
             "#46039f"
            ],
            [
             0.2222222222222222,
             "#7201a8"
            ],
            [
             0.3333333333333333,
             "#9c179e"
            ],
            [
             0.4444444444444444,
             "#bd3786"
            ],
            [
             0.5555555555555556,
             "#d8576b"
            ],
            [
             0.6666666666666666,
             "#ed7953"
            ],
            [
             0.7777777777777778,
             "#fb9f3a"
            ],
            [
             0.8888888888888888,
             "#fdca26"
            ],
            [
             1,
             "#f0f921"
            ]
           ]
          },
          "colorway": [
           "#636efa",
           "#EF553B",
           "#00cc96",
           "#ab63fa",
           "#FFA15A",
           "#19d3f3",
           "#FF6692",
           "#B6E880",
           "#FF97FF",
           "#FECB52"
          ],
          "font": {
           "color": "#2a3f5f"
          },
          "geo": {
           "bgcolor": "white",
           "lakecolor": "white",
           "landcolor": "#E5ECF6",
           "showlakes": true,
           "showland": true,
           "subunitcolor": "white"
          },
          "hoverlabel": {
           "align": "left"
          },
          "hovermode": "closest",
          "mapbox": {
           "style": "light"
          },
          "paper_bgcolor": "white",
          "plot_bgcolor": "#E5ECF6",
          "polar": {
           "angularaxis": {
            "gridcolor": "white",
            "linecolor": "white",
            "ticks": ""
           },
           "bgcolor": "#E5ECF6",
           "radialaxis": {
            "gridcolor": "white",
            "linecolor": "white",
            "ticks": ""
           }
          },
          "scene": {
           "xaxis": {
            "backgroundcolor": "#E5ECF6",
            "gridcolor": "white",
            "gridwidth": 2,
            "linecolor": "white",
            "showbackground": true,
            "ticks": "",
            "zerolinecolor": "white"
           },
           "yaxis": {
            "backgroundcolor": "#E5ECF6",
            "gridcolor": "white",
            "gridwidth": 2,
            "linecolor": "white",
            "showbackground": true,
            "ticks": "",
            "zerolinecolor": "white"
           },
           "zaxis": {
            "backgroundcolor": "#E5ECF6",
            "gridcolor": "white",
            "gridwidth": 2,
            "linecolor": "white",
            "showbackground": true,
            "ticks": "",
            "zerolinecolor": "white"
           }
          },
          "shapedefaults": {
           "line": {
            "color": "#2a3f5f"
           }
          },
          "ternary": {
           "aaxis": {
            "gridcolor": "white",
            "linecolor": "white",
            "ticks": ""
           },
           "baxis": {
            "gridcolor": "white",
            "linecolor": "white",
            "ticks": ""
           },
           "bgcolor": "#E5ECF6",
           "caxis": {
            "gridcolor": "white",
            "linecolor": "white",
            "ticks": ""
           }
          },
          "title": {
           "x": 0.05
          },
          "xaxis": {
           "automargin": true,
           "gridcolor": "white",
           "linecolor": "white",
           "ticks": "",
           "title": {
            "standoff": 15
           },
           "zerolinecolor": "white",
           "zerolinewidth": 2
          },
          "yaxis": {
           "automargin": true,
           "gridcolor": "white",
           "linecolor": "white",
           "ticks": "",
           "title": {
            "standoff": 15
           },
           "zerolinecolor": "white",
           "zerolinewidth": 2
          }
         }
        },
        "title": {
         "text": "Energiespeicherkapazität von Batteriespeichern in Deutschland (GWh) nach Szenario"
        },
        "xaxis": {
         "anchor": "y",
         "domain": [
          0,
          0.31999999999999995
         ],
         "title": {
          "text": "Year"
         }
        },
        "xaxis2": {
         "anchor": "y2",
         "domain": [
          0.33999999999999997,
          0.6599999999999999
         ],
         "matches": "x",
         "title": {
          "text": "Year"
         }
        },
        "xaxis3": {
         "anchor": "y3",
         "domain": [
          0.6799999999999999,
          0.9999999999999999
         ],
         "matches": "x",
         "title": {
          "text": "Year"
         }
        },
        "xaxis4": {
         "anchor": "y4",
         "domain": [
          0,
          0.31999999999999995
         ],
         "matches": "x",
         "showticklabels": false
        },
        "xaxis5": {
         "anchor": "y5",
         "domain": [
          0.33999999999999997,
          0.6599999999999999
         ],
         "matches": "x",
         "showticklabels": false
        },
        "xaxis6": {
         "anchor": "y6",
         "domain": [
          0.6799999999999999,
          0.9999999999999999
         ],
         "matches": "x",
         "showticklabels": false
        },
        "yaxis": {
         "anchor": "x",
         "domain": [
          0,
          0.46499999999999997
         ],
         "title": {
          "text": "Value [GWh]"
         }
        },
        "yaxis2": {
         "anchor": "x2",
         "domain": [
          0,
          0.46499999999999997
         ],
         "matches": "y",
         "showticklabels": false
        },
        "yaxis3": {
         "anchor": "x3",
         "domain": [
          0,
          0.46499999999999997
         ],
         "matches": "y",
         "showticklabels": false
        },
        "yaxis4": {
         "anchor": "x4",
         "domain": [
          0.5349999999999999,
          0.9999999999999999
         ],
         "matches": "y",
         "title": {
          "text": "Value [GWh]"
         }
        },
        "yaxis5": {
         "anchor": "x5",
         "domain": [
          0.5349999999999999,
          0.9999999999999999
         ],
         "matches": "y",
         "showticklabels": false
        },
        "yaxis6": {
         "anchor": "x6",
         "domain": [
          0.5349999999999999,
          0.9999999999999999
         ],
         "matches": "y",
         "showticklabels": false
        }
       }
      }
     },
     "metadata": {},
     "output_type": "display_data"
    },
    {
     "name": "stderr",
     "output_type": "stream",
     "text": [
      "c:\\Users\\morit\\.conda\\envs\\pypsa-de\\Lib\\site-packages\\_plotly_utils\\basevalidators.py:2596: DeprecationWarning:\n",
      "\n",
      "*scattermapbox* is deprecated! Use *scattermap* instead. Learn more at: https://plotly.com/python/mapbox-to-maplibre/\n",
      "\n"
     ]
    },
    {
     "data": {
      "application/vnd.plotly.v1+json": {
       "config": {
        "plotlyServerURL": "https://plot.ly"
       },
       "data": [
        {
         "alignmentgroup": "True",
         "hovertemplate": "Type=Utility-scale battery<br>Scenario=1H Res, 1-Zone (DE)<br>Year=%{x}<br>Value [TWh]=%{y}<extra></extra>",
         "legendgroup": "Utility-scale battery",
         "marker": {
          "color": "#636efa",
          "pattern": {
           "shape": ""
          }
         },
         "name": "Utility-scale battery",
         "offsetgroup": "Utility-scale battery",
         "orientation": "v",
         "showlegend": true,
         "textposition": "auto",
         "type": "bar",
         "x": {
          "bdata": "5AfpB+4H8wf4B/0HAgg=",
          "dtype": "i2"
         },
         "xaxis": "x4",
         "y": {
          "bdata": "twPnaKuUAj8lsavJ9Kn/PlrWN27XzB5AmUiW6hhASkAdC/iftnRMQAqjA+/i+ktAYwTvl8qXUEA=",
          "dtype": "f8"
         },
         "yaxis": "y4"
        },
        {
         "alignmentgroup": "True",
         "hovertemplate": "Type=Utility-scale battery<br>Scenario=Eigener Technologiemix Szenario Run<br>Year=%{x}<br>Value [TWh]=%{y}<extra></extra>",
         "legendgroup": "Utility-scale battery",
         "marker": {
          "color": "#636efa",
          "pattern": {
           "shape": ""
          }
         },
         "name": "Utility-scale battery",
         "offsetgroup": "Utility-scale battery",
         "orientation": "v",
         "showlegend": false,
         "textposition": "auto",
         "type": "bar",
         "x": {
          "bdata": "5AfpB+4H8wf4B/0HAgg=",
          "dtype": "i2"
         },
         "xaxis": "x5",
         "y": {
          "bdata": "JdY3ulqbVz8CbO5DrmVJPx26/gPNXCVAVAN1yVtYUEDqHe86BtxVQPGu7yzQeFVAaMe4WJHWXEA=",
          "dtype": "f8"
         },
         "yaxis": "y5"
        },
        {
         "alignmentgroup": "True",
         "hovertemplate": "Type=Utility-scale battery<br>Scenario=1-Zone (DE)<br>Year=%{x}<br>Value [TWh]=%{y}<extra></extra>",
         "legendgroup": "Utility-scale battery",
         "marker": {
          "color": "#636efa",
          "pattern": {
           "shape": ""
          }
         },
         "name": "Utility-scale battery",
         "offsetgroup": "Utility-scale battery",
         "orientation": "v",
         "showlegend": false,
         "textposition": "auto",
         "type": "bar",
         "x": {
          "bdata": "5AfkB+kH7gfzB/gH/QcCCA==",
          "dtype": "i2"
         },
         "xaxis": "x6",
         "y": {
          "bdata": "QGCxeLHuLD/GbXkL+V5aP96c3Ta/9yM/QDaY6N0aJkASeAm+PUlOQIwOaUUBLVBAnPvNhUJST0BCKl7meyZRQA==",
          "dtype": "f8"
         },
         "yaxis": "y6"
        },
        {
         "alignmentgroup": "True",
         "hovertemplate": "Type=Utility-scale battery<br>Scenario=1H Res, 1-Zone (DE), Min. Home Battery<br>Year=%{x}<br>Value [TWh]=%{y}<extra></extra>",
         "legendgroup": "Utility-scale battery",
         "marker": {
          "color": "#636efa",
          "pattern": {
           "shape": ""
          }
         },
         "name": "Utility-scale battery",
         "offsetgroup": "Utility-scale battery",
         "orientation": "v",
         "showlegend": false,
         "textposition": "auto",
         "type": "bar",
         "x": {
          "bdata": "5AfpB+4H8wf4B/0HAgg=",
          "dtype": "i2"
         },
         "xaxis": "x",
         "y": {
          "bdata": "oiiasVBjAz8ajsbGCgj8PoOHwjh4Qxg/x+gOowliQUAatEcu2VBCQCqgIbBH6UJAfK7AHTKjTEA=",
          "dtype": "f8"
         },
         "yaxis": "y"
        },
        {
         "alignmentgroup": "True",
         "hovertemplate": "Type=Utility-scale battery<br>Scenario=Ariadne Report Technologiemix Szenario<br>Year=%{x}<br>Value [TWh]=%{y}<extra></extra>",
         "legendgroup": "Utility-scale battery",
         "marker": {
          "color": "#636efa",
          "pattern": {
           "shape": ""
          }
         },
         "name": "Utility-scale battery",
         "offsetgroup": "Utility-scale battery",
         "orientation": "v",
         "showlegend": false,
         "textposition": "auto",
         "type": "bar",
         "x": {
          "bdata": "5AfpB+4H8wf4B/0H",
          "dtype": "i2"
         },
         "xaxis": "x2",
         "y": {
          "bdata": "LNgG34qpqj9nk/IPdCKWP/xSWp90SCNA5eFLOSBWUkCCAcWRcJRZQLSlXuiyZVlA",
          "dtype": "f8"
         },
         "yaxis": "y2"
        },
        {
         "alignmentgroup": "True",
         "hovertemplate": "Type=Home battery<br>Scenario=1H Res, 1-Zone (DE)<br>Year=%{x}<br>Value [TWh]=%{y}<extra></extra>",
         "legendgroup": "Home battery",
         "marker": {
          "color": "#EF553B",
          "pattern": {
           "shape": ""
          }
         },
         "name": "Home battery",
         "offsetgroup": "Home battery",
         "orientation": "v",
         "showlegend": true,
         "textposition": "auto",
         "type": "bar",
         "x": {
          "bdata": "5AfpB+4H8wf4B/0HAgg=",
          "dtype": "i2"
         },
         "xaxis": "x4",
         "y": {
          "bdata": "ZYYdkVND/j7YsD0JO4YDPwWefmj5ehFAUKSJuEJrIUAM1Mi1NRkiQHFVqKTQKh1ATlLOC79YHUA=",
          "dtype": "f8"
         },
         "yaxis": "y4"
        },
        {
         "alignmentgroup": "True",
         "hovertemplate": "Type=Home battery<br>Scenario=Eigener Technologiemix Szenario Run<br>Year=%{x}<br>Value [TWh]=%{y}<extra></extra>",
         "legendgroup": "Home battery",
         "marker": {
          "color": "#EF553B",
          "pattern": {
           "shape": ""
          }
         },
         "name": "Home battery",
         "offsetgroup": "Home battery",
         "orientation": "v",
         "showlegend": false,
         "textposition": "auto",
         "type": "bar",
         "x": {
          "bdata": "5AfpB+4H8wf4B/0HAgg=",
          "dtype": "i2"
         },
         "xaxis": "x5",
         "y": {
          "bdata": "81j/eqq9WT/vkHyhthpTP5GByVb8aeQ/qnZRO6xABUAN25HFxZgEQJfP4Fn8FwJAsl4hN3A3AUA=",
          "dtype": "f8"
         },
         "yaxis": "y5"
        },
        {
         "alignmentgroup": "True",
         "hovertemplate": "Type=Home battery<br>Scenario=1-Zone (DE)<br>Year=%{x}<br>Value [TWh]=%{y}<extra></extra>",
         "legendgroup": "Home battery",
         "marker": {
          "color": "#EF553B",
          "pattern": {
           "shape": ""
          }
         },
         "name": "Home battery",
         "offsetgroup": "Home battery",
         "orientation": "v",
         "showlegend": false,
         "textposition": "auto",
         "type": "bar",
         "x": {
          "bdata": "5AfkB+kH7gfzB/gH/QcCCA==",
          "dtype": "i2"
         },
         "xaxis": "x6",
         "y": {
          "bdata": "5YtNVeB3Kj9QG1QKf0VaP8Z5ewSI2yw/IdYY/TNGFT8LyChNQzy+PxnEhUX7A7k/MWCC9dmAsz+Je7HasXayPw==",
          "dtype": "f8"
         },
         "yaxis": "y6"
        },
        {
         "alignmentgroup": "True",
         "hovertemplate": "Type=Home battery<br>Scenario=1H Res, 1-Zone (DE), Min. Home Battery<br>Year=%{x}<br>Value [TWh]=%{y}<extra></extra>",
         "legendgroup": "Home battery",
         "marker": {
          "color": "#EF553B",
          "pattern": {
           "shape": ""
          }
         },
         "name": "Home battery",
         "offsetgroup": "Home battery",
         "orientation": "v",
         "showlegend": false,
         "textposition": "auto",
         "type": "bar",
         "x": {
          "bdata": "5AfpB+4H8wf4B/0HAgg=",
          "dtype": "i2"
         },
         "xaxis": "x",
         "y": {
          "bdata": "UyI/pRGZ/z5zuoDcpNoiQFB6aBZTzTFAOvQ4mpH+PUDSisQD8BQ+QLX9wq05DjpAZZBccgwiOEA=",
          "dtype": "f8"
         },
         "yaxis": "y"
        },
        {
         "alignmentgroup": "True",
         "hovertemplate": "Type=Home battery<br>Scenario=Ariadne Report Technologiemix Szenario<br>Year=%{x}<br>Value [TWh]=%{y}<extra></extra>",
         "legendgroup": "Home battery",
         "marker": {
          "color": "#EF553B",
          "pattern": {
           "shape": ""
          }
         },
         "name": "Home battery",
         "offsetgroup": "Home battery",
         "orientation": "v",
         "showlegend": false,
         "textposition": "auto",
         "type": "bar",
         "x": {
          "bdata": "5AfpB+4H8wf4B/0H",
          "dtype": "i2"
         },
         "xaxis": "x2",
         "y": {
          "bdata": "PumFBB3Tpj/aBRcg/9GzP2tHGmlcCac/6SEeuvXipD8WITdqns+eP+v2dlQ0SJ4/",
          "dtype": "f8"
         },
         "yaxis": "y2"
        }
       ],
       "layout": {
        "annotations": [
         {
          "font": {},
          "showarrow": false,
          "text": "1H Res, 1-Zone (DE), Min. Home Battery",
          "x": 0.15999999999999998,
          "xanchor": "center",
          "xref": "paper",
          "y": 0.46499999999999997,
          "yanchor": "bottom",
          "yref": "paper"
         },
         {
          "font": {},
          "showarrow": false,
          "text": "Ariadne Report Technologiemix Szenario",
          "x": 0.49999999999999994,
          "xanchor": "center",
          "xref": "paper",
          "y": 0.46499999999999997,
          "yanchor": "bottom",
          "yref": "paper"
         },
         {
          "font": {},
          "showarrow": false,
          "text": "1H Res, 1-Zone (DE)",
          "x": 0.15999999999999998,
          "xanchor": "center",
          "xref": "paper",
          "y": 0.9999999999999999,
          "yanchor": "bottom",
          "yref": "paper"
         },
         {
          "font": {},
          "showarrow": false,
          "text": "Eigener Technologiemix Szenario Run",
          "x": 0.49999999999999994,
          "xanchor": "center",
          "xref": "paper",
          "y": 0.9999999999999999,
          "yanchor": "bottom",
          "yref": "paper"
         },
         {
          "font": {},
          "showarrow": false,
          "text": "1-Zone (DE)",
          "x": 0.8399999999999999,
          "xanchor": "center",
          "xref": "paper",
          "y": 0.9999999999999999,
          "yanchor": "bottom",
          "yref": "paper"
         }
        ],
        "barmode": "group",
        "legend": {
         "title": {
          "text": "Speichertyp"
         },
         "tracegroupgap": 0
        },
        "template": {
         "data": {
          "bar": [
           {
            "error_x": {
             "color": "#2a3f5f"
            },
            "error_y": {
             "color": "#2a3f5f"
            },
            "marker": {
             "line": {
              "color": "#E5ECF6",
              "width": 0.5
             },
             "pattern": {
              "fillmode": "overlay",
              "size": 10,
              "solidity": 0.2
             }
            },
            "type": "bar"
           }
          ],
          "barpolar": [
           {
            "marker": {
             "line": {
              "color": "#E5ECF6",
              "width": 0.5
             },
             "pattern": {
              "fillmode": "overlay",
              "size": 10,
              "solidity": 0.2
             }
            },
            "type": "barpolar"
           }
          ],
          "carpet": [
           {
            "aaxis": {
             "endlinecolor": "#2a3f5f",
             "gridcolor": "white",
             "linecolor": "white",
             "minorgridcolor": "white",
             "startlinecolor": "#2a3f5f"
            },
            "baxis": {
             "endlinecolor": "#2a3f5f",
             "gridcolor": "white",
             "linecolor": "white",
             "minorgridcolor": "white",
             "startlinecolor": "#2a3f5f"
            },
            "type": "carpet"
           }
          ],
          "choropleth": [
           {
            "colorbar": {
             "outlinewidth": 0,
             "ticks": ""
            },
            "type": "choropleth"
           }
          ],
          "contour": [
           {
            "colorbar": {
             "outlinewidth": 0,
             "ticks": ""
            },
            "colorscale": [
             [
              0,
              "#0d0887"
             ],
             [
              0.1111111111111111,
              "#46039f"
             ],
             [
              0.2222222222222222,
              "#7201a8"
             ],
             [
              0.3333333333333333,
              "#9c179e"
             ],
             [
              0.4444444444444444,
              "#bd3786"
             ],
             [
              0.5555555555555556,
              "#d8576b"
             ],
             [
              0.6666666666666666,
              "#ed7953"
             ],
             [
              0.7777777777777778,
              "#fb9f3a"
             ],
             [
              0.8888888888888888,
              "#fdca26"
             ],
             [
              1,
              "#f0f921"
             ]
            ],
            "type": "contour"
           }
          ],
          "contourcarpet": [
           {
            "colorbar": {
             "outlinewidth": 0,
             "ticks": ""
            },
            "type": "contourcarpet"
           }
          ],
          "heatmap": [
           {
            "colorbar": {
             "outlinewidth": 0,
             "ticks": ""
            },
            "colorscale": [
             [
              0,
              "#0d0887"
             ],
             [
              0.1111111111111111,
              "#46039f"
             ],
             [
              0.2222222222222222,
              "#7201a8"
             ],
             [
              0.3333333333333333,
              "#9c179e"
             ],
             [
              0.4444444444444444,
              "#bd3786"
             ],
             [
              0.5555555555555556,
              "#d8576b"
             ],
             [
              0.6666666666666666,
              "#ed7953"
             ],
             [
              0.7777777777777778,
              "#fb9f3a"
             ],
             [
              0.8888888888888888,
              "#fdca26"
             ],
             [
              1,
              "#f0f921"
             ]
            ],
            "type": "heatmap"
           }
          ],
          "histogram": [
           {
            "marker": {
             "pattern": {
              "fillmode": "overlay",
              "size": 10,
              "solidity": 0.2
             }
            },
            "type": "histogram"
           }
          ],
          "histogram2d": [
           {
            "colorbar": {
             "outlinewidth": 0,
             "ticks": ""
            },
            "colorscale": [
             [
              0,
              "#0d0887"
             ],
             [
              0.1111111111111111,
              "#46039f"
             ],
             [
              0.2222222222222222,
              "#7201a8"
             ],
             [
              0.3333333333333333,
              "#9c179e"
             ],
             [
              0.4444444444444444,
              "#bd3786"
             ],
             [
              0.5555555555555556,
              "#d8576b"
             ],
             [
              0.6666666666666666,
              "#ed7953"
             ],
             [
              0.7777777777777778,
              "#fb9f3a"
             ],
             [
              0.8888888888888888,
              "#fdca26"
             ],
             [
              1,
              "#f0f921"
             ]
            ],
            "type": "histogram2d"
           }
          ],
          "histogram2dcontour": [
           {
            "colorbar": {
             "outlinewidth": 0,
             "ticks": ""
            },
            "colorscale": [
             [
              0,
              "#0d0887"
             ],
             [
              0.1111111111111111,
              "#46039f"
             ],
             [
              0.2222222222222222,
              "#7201a8"
             ],
             [
              0.3333333333333333,
              "#9c179e"
             ],
             [
              0.4444444444444444,
              "#bd3786"
             ],
             [
              0.5555555555555556,
              "#d8576b"
             ],
             [
              0.6666666666666666,
              "#ed7953"
             ],
             [
              0.7777777777777778,
              "#fb9f3a"
             ],
             [
              0.8888888888888888,
              "#fdca26"
             ],
             [
              1,
              "#f0f921"
             ]
            ],
            "type": "histogram2dcontour"
           }
          ],
          "mesh3d": [
           {
            "colorbar": {
             "outlinewidth": 0,
             "ticks": ""
            },
            "type": "mesh3d"
           }
          ],
          "parcoords": [
           {
            "line": {
             "colorbar": {
              "outlinewidth": 0,
              "ticks": ""
             }
            },
            "type": "parcoords"
           }
          ],
          "pie": [
           {
            "automargin": true,
            "type": "pie"
           }
          ],
          "scatter": [
           {
            "fillpattern": {
             "fillmode": "overlay",
             "size": 10,
             "solidity": 0.2
            },
            "type": "scatter"
           }
          ],
          "scatter3d": [
           {
            "line": {
             "colorbar": {
              "outlinewidth": 0,
              "ticks": ""
             }
            },
            "marker": {
             "colorbar": {
              "outlinewidth": 0,
              "ticks": ""
             }
            },
            "type": "scatter3d"
           }
          ],
          "scattercarpet": [
           {
            "marker": {
             "colorbar": {
              "outlinewidth": 0,
              "ticks": ""
             }
            },
            "type": "scattercarpet"
           }
          ],
          "scattergeo": [
           {
            "marker": {
             "colorbar": {
              "outlinewidth": 0,
              "ticks": ""
             }
            },
            "type": "scattergeo"
           }
          ],
          "scattergl": [
           {
            "marker": {
             "colorbar": {
              "outlinewidth": 0,
              "ticks": ""
             }
            },
            "type": "scattergl"
           }
          ],
          "scattermap": [
           {
            "marker": {
             "colorbar": {
              "outlinewidth": 0,
              "ticks": ""
             }
            },
            "type": "scattermap"
           }
          ],
          "scattermapbox": [
           {
            "marker": {
             "colorbar": {
              "outlinewidth": 0,
              "ticks": ""
             }
            },
            "type": "scattermapbox"
           }
          ],
          "scatterpolar": [
           {
            "marker": {
             "colorbar": {
              "outlinewidth": 0,
              "ticks": ""
             }
            },
            "type": "scatterpolar"
           }
          ],
          "scatterpolargl": [
           {
            "marker": {
             "colorbar": {
              "outlinewidth": 0,
              "ticks": ""
             }
            },
            "type": "scatterpolargl"
           }
          ],
          "scatterternary": [
           {
            "marker": {
             "colorbar": {
              "outlinewidth": 0,
              "ticks": ""
             }
            },
            "type": "scatterternary"
           }
          ],
          "surface": [
           {
            "colorbar": {
             "outlinewidth": 0,
             "ticks": ""
            },
            "colorscale": [
             [
              0,
              "#0d0887"
             ],
             [
              0.1111111111111111,
              "#46039f"
             ],
             [
              0.2222222222222222,
              "#7201a8"
             ],
             [
              0.3333333333333333,
              "#9c179e"
             ],
             [
              0.4444444444444444,
              "#bd3786"
             ],
             [
              0.5555555555555556,
              "#d8576b"
             ],
             [
              0.6666666666666666,
              "#ed7953"
             ],
             [
              0.7777777777777778,
              "#fb9f3a"
             ],
             [
              0.8888888888888888,
              "#fdca26"
             ],
             [
              1,
              "#f0f921"
             ]
            ],
            "type": "surface"
           }
          ],
          "table": [
           {
            "cells": {
             "fill": {
              "color": "#EBF0F8"
             },
             "line": {
              "color": "white"
             }
            },
            "header": {
             "fill": {
              "color": "#C8D4E3"
             },
             "line": {
              "color": "white"
             }
            },
            "type": "table"
           }
          ]
         },
         "layout": {
          "annotationdefaults": {
           "arrowcolor": "#2a3f5f",
           "arrowhead": 0,
           "arrowwidth": 1
          },
          "autotypenumbers": "strict",
          "coloraxis": {
           "colorbar": {
            "outlinewidth": 0,
            "ticks": ""
           }
          },
          "colorscale": {
           "diverging": [
            [
             0,
             "#8e0152"
            ],
            [
             0.1,
             "#c51b7d"
            ],
            [
             0.2,
             "#de77ae"
            ],
            [
             0.3,
             "#f1b6da"
            ],
            [
             0.4,
             "#fde0ef"
            ],
            [
             0.5,
             "#f7f7f7"
            ],
            [
             0.6,
             "#e6f5d0"
            ],
            [
             0.7,
             "#b8e186"
            ],
            [
             0.8,
             "#7fbc41"
            ],
            [
             0.9,
             "#4d9221"
            ],
            [
             1,
             "#276419"
            ]
           ],
           "sequential": [
            [
             0,
             "#0d0887"
            ],
            [
             0.1111111111111111,
             "#46039f"
            ],
            [
             0.2222222222222222,
             "#7201a8"
            ],
            [
             0.3333333333333333,
             "#9c179e"
            ],
            [
             0.4444444444444444,
             "#bd3786"
            ],
            [
             0.5555555555555556,
             "#d8576b"
            ],
            [
             0.6666666666666666,
             "#ed7953"
            ],
            [
             0.7777777777777778,
             "#fb9f3a"
            ],
            [
             0.8888888888888888,
             "#fdca26"
            ],
            [
             1,
             "#f0f921"
            ]
           ],
           "sequentialminus": [
            [
             0,
             "#0d0887"
            ],
            [
             0.1111111111111111,
             "#46039f"
            ],
            [
             0.2222222222222222,
             "#7201a8"
            ],
            [
             0.3333333333333333,
             "#9c179e"
            ],
            [
             0.4444444444444444,
             "#bd3786"
            ],
            [
             0.5555555555555556,
             "#d8576b"
            ],
            [
             0.6666666666666666,
             "#ed7953"
            ],
            [
             0.7777777777777778,
             "#fb9f3a"
            ],
            [
             0.8888888888888888,
             "#fdca26"
            ],
            [
             1,
             "#f0f921"
            ]
           ]
          },
          "colorway": [
           "#636efa",
           "#EF553B",
           "#00cc96",
           "#ab63fa",
           "#FFA15A",
           "#19d3f3",
           "#FF6692",
           "#B6E880",
           "#FF97FF",
           "#FECB52"
          ],
          "font": {
           "color": "#2a3f5f"
          },
          "geo": {
           "bgcolor": "white",
           "lakecolor": "white",
           "landcolor": "#E5ECF6",
           "showlakes": true,
           "showland": true,
           "subunitcolor": "white"
          },
          "hoverlabel": {
           "align": "left"
          },
          "hovermode": "closest",
          "mapbox": {
           "style": "light"
          },
          "paper_bgcolor": "white",
          "plot_bgcolor": "#E5ECF6",
          "polar": {
           "angularaxis": {
            "gridcolor": "white",
            "linecolor": "white",
            "ticks": ""
           },
           "bgcolor": "#E5ECF6",
           "radialaxis": {
            "gridcolor": "white",
            "linecolor": "white",
            "ticks": ""
           }
          },
          "scene": {
           "xaxis": {
            "backgroundcolor": "#E5ECF6",
            "gridcolor": "white",
            "gridwidth": 2,
            "linecolor": "white",
            "showbackground": true,
            "ticks": "",
            "zerolinecolor": "white"
           },
           "yaxis": {
            "backgroundcolor": "#E5ECF6",
            "gridcolor": "white",
            "gridwidth": 2,
            "linecolor": "white",
            "showbackground": true,
            "ticks": "",
            "zerolinecolor": "white"
           },
           "zaxis": {
            "backgroundcolor": "#E5ECF6",
            "gridcolor": "white",
            "gridwidth": 2,
            "linecolor": "white",
            "showbackground": true,
            "ticks": "",
            "zerolinecolor": "white"
           }
          },
          "shapedefaults": {
           "line": {
            "color": "#2a3f5f"
           }
          },
          "ternary": {
           "aaxis": {
            "gridcolor": "white",
            "linecolor": "white",
            "ticks": ""
           },
           "baxis": {
            "gridcolor": "white",
            "linecolor": "white",
            "ticks": ""
           },
           "bgcolor": "#E5ECF6",
           "caxis": {
            "gridcolor": "white",
            "linecolor": "white",
            "ticks": ""
           }
          },
          "title": {
           "x": 0.05
          },
          "xaxis": {
           "automargin": true,
           "gridcolor": "white",
           "linecolor": "white",
           "ticks": "",
           "title": {
            "standoff": 15
           },
           "zerolinecolor": "white",
           "zerolinewidth": 2
          },
          "yaxis": {
           "automargin": true,
           "gridcolor": "white",
           "linecolor": "white",
           "ticks": "",
           "title": {
            "standoff": 15
           },
           "zerolinecolor": "white",
           "zerolinewidth": 2
          }
         }
        },
        "title": {
         "text": "Jährliche Strombereitstellung durch Batterietechnologien (TWh) nach Szenario"
        },
        "xaxis": {
         "anchor": "y",
         "domain": [
          0,
          0.31999999999999995
         ],
         "title": {
          "text": "Jahr"
         }
        },
        "xaxis2": {
         "anchor": "y2",
         "domain": [
          0.33999999999999997,
          0.6599999999999999
         ],
         "matches": "x",
         "title": {
          "text": "Year"
         }
        },
        "xaxis3": {
         "anchor": "y3",
         "domain": [
          0.6799999999999999,
          0.9999999999999999
         ],
         "matches": "x",
         "title": {
          "text": "Year"
         }
        },
        "xaxis4": {
         "anchor": "y4",
         "domain": [
          0,
          0.31999999999999995
         ],
         "matches": "x",
         "showticklabels": false
        },
        "xaxis5": {
         "anchor": "y5",
         "domain": [
          0.33999999999999997,
          0.6599999999999999
         ],
         "matches": "x",
         "showticklabels": false
        },
        "xaxis6": {
         "anchor": "y6",
         "domain": [
          0.6799999999999999,
          0.9999999999999999
         ],
         "matches": "x",
         "showticklabels": false
        },
        "yaxis": {
         "anchor": "x",
         "domain": [
          0,
          0.46499999999999997
         ],
         "title": {
          "text": "Bereitstellung [TWh]"
         }
        },
        "yaxis2": {
         "anchor": "x2",
         "domain": [
          0,
          0.46499999999999997
         ],
         "matches": "y",
         "showticklabels": false
        },
        "yaxis3": {
         "anchor": "x3",
         "domain": [
          0,
          0.46499999999999997
         ],
         "matches": "y",
         "showticklabels": false
        },
        "yaxis4": {
         "anchor": "x4",
         "domain": [
          0.5349999999999999,
          0.9999999999999999
         ],
         "matches": "y",
         "title": {
          "text": "Value [TWh]"
         }
        },
        "yaxis5": {
         "anchor": "x5",
         "domain": [
          0.5349999999999999,
          0.9999999999999999
         ],
         "matches": "y",
         "showticklabels": false
        },
        "yaxis6": {
         "anchor": "x6",
         "domain": [
          0.5349999999999999,
          0.9999999999999999
         ],
         "matches": "y",
         "showticklabels": false
        }
       }
      }
     },
     "metadata": {},
     "output_type": "display_data"
    }
   ],
   "source": [
    "import plotly.express as px\n",
    "\n",
    "# -----------------------------------------------------------------------------\n",
    "# 1. Plot: Entladeleistung (GW) je Speichertyp und je Szenario über die Jahre\n",
    "# -----------------------------------------------------------------------------\n",
    "#\n",
    "# Wir nehmen df_power, das die Spalten [\"Scenario\", \"Year\", \"Type\", \"Value [GW]\"] enthält.\n",
    "\n",
    "fig_gw = px.line(\n",
    "    df_power,\n",
    "    x=\"Year\",\n",
    "    y=\"Value [GW]\",\n",
    "    color=\"Type\",\n",
    "    facet_col=\"Scenario\",\n",
    "    facet_col_wrap=3,  # Bei 3 Szenarien erhältst du eine Zeile mit 3 Spalten\n",
    "    title=\"Entladeleistung von Batteriespeichern in Deutschland (GW) nach Szenario\",\n",
    "    markers=True\n",
    ")\n",
    "\n",
    "# Beschriftungen anpassen\n",
    "#fig_gw.update_layout(\n",
    "#    xaxis_title=\"Jahr\",\n",
    "#    yaxis_title=\"Entladeleistung [GW]\",\n",
    "#    legend_title_text=\"Speichertyp\"\n",
    "#)\n",
    "\n",
    "# Die einzelnen Facet-Titel etwas kürzer gestalten (entfernt das \"Scenario=\")\n",
    "# Falls die automatische Beschriftung \"Scenario=Technologiemix\" etc. lautet, kürzen wir sie:\n",
    "for anno in fig_gw.layout.annotations:\n",
    "    # annotation text sieht typischerweise aus wie \"Scenario=Technologiemix\"\n",
    "    parts = anno.text.split(\"=\")\n",
    "    if len(parts) == 2:\n",
    "        anno.text = parts[1]\n",
    "\n",
    "fig_gw.show()\n",
    "\n",
    "\n",
    "\n",
    "# -----------------------------------------------------------------------------\n",
    "# 2. Plot: Energiespeicherkapazität (GWh) je Speichertyp und je Szenario\n",
    "# -----------------------------------------------------------------------------\n",
    "#\n",
    "# Wir nehmen df_energy, das die Spalten [\"Scenario\", \"Year\", \"Type\", \"Value [GWh]\"] enthält.\n",
    "\n",
    "fig_gwh = px.line(\n",
    "    df_energy,\n",
    "    x=\"Year\",\n",
    "    y=\"Value [GWh]\",\n",
    "    color=\"Type\",\n",
    "    facet_col=\"Scenario\",\n",
    "    facet_col_wrap=3,\n",
    "    title=\"Energiespeicherkapazität von Batteriespeichern in Deutschland (GWh) nach Szenario\",\n",
    "    markers=True\n",
    ")\n",
    "\n",
    "#fig_gwh.update_layout(\n",
    "#    xaxis_title=\"Jahr\",\n",
    "#    yaxis_title=\"Kapazität [GWh]\",\n",
    "#    legend_title_text=\"Speichertyp\"\n",
    "#)\n",
    "\n",
    "for anno in fig_gwh.layout.annotations:\n",
    "    parts = anno.text.split(\"=\")\n",
    "    if len(parts) == 2:\n",
    "        anno.text = parts[1]\n",
    "\n",
    "fig_gwh.show()\n",
    "\n",
    "\n",
    "\n",
    "# -----------------------------------------------------------------------------\n",
    "# 3. Plot: Jährliche Strombereitstellung durch Batterietechnologien (TWh)\n",
    "#    – je Typ, je Szenario\n",
    "# -----------------------------------------------------------------------------\n",
    "#\n",
    "# df_discharge enthält [\"Scenario\", \"Year\", \"Type\", \"Value [TWh]\"].\n",
    "# Wir mappen die Carrier-Namen auf lesbare Typ-Bezeichnungen:\n",
    "\n",
    "carrier_map = {\n",
    "    \"battery discharger\":        \"Utility-scale battery\",\n",
    "    \"home battery discharger\":   \"Home battery\",\n",
    "    \"V2G\":                       \"EV battery\"\n",
    "}\n",
    "\n",
    "df_discharge_plot = df_discharge.copy()\n",
    "df_discharge_plot[\"Type\"] = df_discharge_plot[\"Type\"].map(carrier_map)\n",
    "\n",
    "fig_discharge = px.bar(\n",
    "    df_discharge_plot,\n",
    "    x=\"Year\",\n",
    "    y=\"Value [TWh]\",\n",
    "    color=\"Type\",\n",
    "    facet_col=\"Scenario\",\n",
    "    facet_col_wrap=3,\n",
    "    barmode=\"group\",\n",
    "    title=\"Jährliche Strombereitstellung durch Batterietechnologien (TWh) nach Szenario\"\n",
    ")\n",
    "\n",
    "fig_discharge.update_layout(\n",
    "    xaxis_title=\"Jahr\",\n",
    "    yaxis_title=\"Bereitstellung [TWh]\",\n",
    "    legend_title_text=\"Speichertyp\"\n",
    ")\n",
    "\n",
    "for anno in fig_discharge.layout.annotations:\n",
    "    parts = anno.text.split(\"=\")\n",
    "    if len(parts) == 2:\n",
    "        anno.text = parts[1]\n",
    "\n",
    "fig_discharge.show()\n",
    "\n",
    "# 2. Figuren in diesem Ordner speichern\n",
    "plots = {\n",
    "    \"entladeleistung split scenario\":    fig_gw,\n",
    "    \"kapazitaet split scenario\":         fig_gwh,\n",
    "    \"bereitstellung split scenario\":     fig_discharge\n",
    "}\n",
    "\n",
    "for name, fig in plots.items():\n",
    "    fig.write_html(\n",
    "        os.path.join(\"Plots_MA\", f\"plot_{name}.html\"),\n",
    "        include_plotlyjs=\"cdn\",\n",
    "        full_html=True\n",
    "    )\n"
   ]
  },
  {
   "cell_type": "code",
   "execution_count": 19,
   "id": "c0b389d1",
   "metadata": {},
   "outputs": [
    {
     "name": "stderr",
     "output_type": "stream",
     "text": [
      "c:\\Users\\morit\\.conda\\envs\\pypsa-de\\Lib\\site-packages\\_plotly_utils\\basevalidators.py:2596: DeprecationWarning:\n",
      "\n",
      "*scattermapbox* is deprecated! Use *scattermap* instead. Learn more at: https://plotly.com/python/mapbox-to-maplibre/\n",
      "\n"
     ]
    },
    {
     "data": {
      "application/vnd.plotly.v1+json": {
       "config": {
        "plotlyServerURL": "https://plot.ly"
       },
       "data": [
        {
         "hovertemplate": "Type=EV battery<br>Scenario=1H Res, 1-Zone (DE)<br>Year=%{x}<br>Value [GW]=%{y}<extra></extra>",
         "legendgroup": "EV battery, 1H Res, 1-Zone (DE)",
         "line": {
          "color": "#636efa",
          "dash": "solid"
         },
         "marker": {
          "symbol": "circle"
         },
         "mode": "lines+markers",
         "name": "EV battery, 1H Res, 1-Zone (DE)",
         "orientation": "v",
         "showlegend": true,
         "type": "scatter",
         "x": {
          "bdata": "5AfpB+4H8wf4B/0HAgg=",
          "dtype": "i2"
         },
         "xaxis": "x",
         "y": {
          "bdata": "sm0H2Wg+OkBGksWizq5TQEaSxaLOrmNAaFso9DWGbUD8f+a9m/Z2QI3kl2ZP4ntARNK4gRwqf0A=",
          "dtype": "f8"
         },
         "yaxis": "y"
        },
        {
         "hovertemplate": "Type=EV battery<br>Scenario=Eigener Technologiemix Szenario Run<br>Year=%{x}<br>Value [GW]=%{y}<extra></extra>",
         "legendgroup": "EV battery, Eigener Technologiemix Szenario Run",
         "line": {
          "color": "#636efa",
          "dash": "dot"
         },
         "marker": {
          "symbol": "circle"
         },
         "mode": "lines+markers",
         "name": "EV battery, Eigener Technologiemix Szenario Run",
         "orientation": "v",
         "showlegend": true,
         "type": "scatter",
         "x": {
          "bdata": "5AfpB+4H8wf4B/0HAgg=",
          "dtype": "i2"
         },
         "xaxis": "x",
         "y": {
          "bdata": "sG0H2Wg+OkBEksWizq5TQESSxaLOrmNAZlso9DWGbUD6f+a9m/Z2QIvkl2ZP4ntAQtK4gRwqf0A=",
          "dtype": "f8"
         },
         "yaxis": "y"
        },
        {
         "hovertemplate": "Type=EV battery<br>Scenario=1-Zone (DE)<br>Year=%{x}<br>Value [GW]=%{y}<extra></extra>",
         "legendgroup": "EV battery, 1-Zone (DE)",
         "line": {
          "color": "#636efa",
          "dash": "dash"
         },
         "marker": {
          "symbol": "circle"
         },
         "mode": "lines+markers",
         "name": "EV battery, 1-Zone (DE)",
         "orientation": "v",
         "showlegend": true,
         "type": "scatter",
         "x": {
          "bdata": "5AfkB+kH7gfzB/gH/QcCCA==",
          "dtype": "i2"
         },
         "xaxis": "x",
         "y": {
          "bdata": "sm0H2Wg+OkCwbQfZaD46QEaSxaLOrlNARpLFos6uY0BoWyj0NYZtQPx/5r2b9nZAjeSXZk/ie0BE0riBHCp/QA==",
          "dtype": "f8"
         },
         "yaxis": "y"
        },
        {
         "hovertemplate": "Type=EV battery<br>Scenario=1H Res, 1-Zone (DE), Min. Home Battery<br>Year=%{x}<br>Value [GW]=%{y}<extra></extra>",
         "legendgroup": "EV battery, 1H Res, 1-Zone (DE), Min. Home Battery",
         "line": {
          "color": "#636efa",
          "dash": "longdash"
         },
         "marker": {
          "symbol": "circle"
         },
         "mode": "lines+markers",
         "name": "EV battery, 1H Res, 1-Zone (DE), Min. Home Battery",
         "orientation": "v",
         "showlegend": true,
         "type": "scatter",
         "x": {
          "bdata": "5AfpB+4H8wf4B/0HAgg=",
          "dtype": "i2"
         },
         "xaxis": "x",
         "y": {
          "bdata": "sm0H2Wg+OkBGksWizq5TQEaSxaLOrmNAaFso9DWGbUD8f+a9m/Z2QI3kl2ZP4ntARNK4gRwqf0A=",
          "dtype": "f8"
         },
         "yaxis": "y"
        },
        {
         "hovertemplate": "Type=EV battery<br>Scenario=Ariadne Report Technologiemix Szenario<br>Year=%{x}<br>Value [GW]=%{y}<extra></extra>",
         "legendgroup": "EV battery, Ariadne Report Technologiemix Szenario",
         "line": {
          "color": "#636efa",
          "dash": "dashdot"
         },
         "marker": {
          "symbol": "circle"
         },
         "mode": "lines+markers",
         "name": "EV battery, Ariadne Report Technologiemix Szenario",
         "orientation": "v",
         "showlegend": true,
         "type": "scatter",
         "x": {
          "bdata": "5AfpB+4H8wf4B/0H",
          "dtype": "i2"
         },
         "xaxis": "x",
         "y": {
          "bdata": "qG0H2Wg+OkA9ksWizq5TQD2SxaLOrmNAXVso9DWGbUDyf+a9m/Z2QIPkl2ZP4ntA",
          "dtype": "f8"
         },
         "yaxis": "y"
        },
        {
         "hovertemplate": "Type=Home battery<br>Scenario=1H Res, 1-Zone (DE)<br>Year=%{x}<br>Value [GW]=%{y}<extra></extra>",
         "legendgroup": "Home battery, 1H Res, 1-Zone (DE)",
         "line": {
          "color": "#EF553B",
          "dash": "solid"
         },
         "marker": {
          "symbol": "circle"
         },
         "mode": "lines+markers",
         "name": "Home battery, 1H Res, 1-Zone (DE)",
         "orientation": "v",
         "showlegend": true,
         "type": "scatter",
         "x": {
          "bdata": "5AfpB+4H8wf4B/0HAgg=",
          "dtype": "i2"
         },
         "xaxis": "x",
         "y": {
          "bdata": "jwp6yVF94D615oOsOXruPuPVs5ZaeRNA8vGgXZMnJkCEu9aSM7giQKRe9taeuxlA/waAFBqAE0A=",
          "dtype": "f8"
         },
         "yaxis": "y"
        },
        {
         "hovertemplate": "Type=Home battery<br>Scenario=Eigener Technologiemix Szenario Run<br>Year=%{x}<br>Value [GW]=%{y}<extra></extra>",
         "legendgroup": "Home battery, Eigener Technologiemix Szenario Run",
         "line": {
          "color": "#EF553B",
          "dash": "dot"
         },
         "marker": {
          "symbol": "circle"
         },
         "mode": "lines+markers",
         "name": "Home battery, Eigener Technologiemix Szenario Run",
         "orientation": "v",
         "showlegend": true,
         "type": "scatter",
         "x": {
          "bdata": "5AfpB+4H8wf4B/0HAgg=",
          "dtype": "i2"
         },
         "xaxis": "x",
         "y": {
          "bdata": "rnurqi3iSD/H9vKi5jhKP/A90oz8HeE/5Lk54uzh/z8hrbic2Hb7P/PNdBIOP/M/AY/Zz3dV8z8=",
          "dtype": "f8"
         },
         "yaxis": "y"
        },
        {
         "hovertemplate": "Type=Home battery<br>Scenario=1-Zone (DE)<br>Year=%{x}<br>Value [GW]=%{y}<extra></extra>",
         "legendgroup": "Home battery, 1-Zone (DE)",
         "line": {
          "color": "#EF553B",
          "dash": "dash"
         },
         "marker": {
          "symbol": "circle"
         },
         "mode": "lines+markers",
         "name": "Home battery, 1-Zone (DE)",
         "orientation": "v",
         "showlegend": true,
         "type": "scatter",
         "x": {
          "bdata": "5AfkB+kH7gfzB/gH/QcCCA==",
          "dtype": "i2"
         },
         "xaxis": "x",
         "y": {
          "bdata": "PxWBjfL7Fj94/Kx5mHhHPwaMJ+x9FyE/ND07aalNAj+c03tAFjG3PxDlmdp9Mbc/IxYp2Cwwpz8b0F4v+jmnPw==",
          "dtype": "f8"
         },
         "yaxis": "y"
        },
        {
         "hovertemplate": "Type=Home battery<br>Scenario=1H Res, 1-Zone (DE), Min. Home Battery<br>Year=%{x}<br>Value [GW]=%{y}<extra></extra>",
         "legendgroup": "Home battery, 1H Res, 1-Zone (DE), Min. Home Battery",
         "line": {
          "color": "#EF553B",
          "dash": "longdash"
         },
         "marker": {
          "symbol": "circle"
         },
         "mode": "lines+markers",
         "name": "Home battery, 1H Res, 1-Zone (DE), Min. Home Battery",
         "orientation": "v",
         "showlegend": true,
         "type": "scatter",
         "x": {
          "bdata": "5AfpB+4H8wf4B/0HAgg=",
          "dtype": "i2"
         },
         "xaxis": "x",
         "y": {
          "bdata": "Ne3SjR5l4T7TeeGEI84RQEo3NSaD3zRABu2bRKADQ0DlpJbjBCZLQJy28FEtd05AjZjGRi13TkA=",
          "dtype": "f8"
         },
         "yaxis": "y"
        },
        {
         "hovertemplate": "Type=Home battery<br>Scenario=Ariadne Report Technologiemix Szenario<br>Year=%{x}<br>Value [GW]=%{y}<extra></extra>",
         "legendgroup": "Home battery, Ariadne Report Technologiemix Szenario",
         "line": {
          "color": "#EF553B",
          "dash": "dashdot"
         },
         "marker": {
          "symbol": "circle"
         },
         "mode": "lines+markers",
         "name": "Home battery, Ariadne Report Technologiemix Szenario",
         "orientation": "v",
         "showlegend": true,
         "type": "scatter",
         "x": {
          "bdata": "5AfpB+4H8wf4B/0H",
          "dtype": "i2"
         },
         "xaxis": "x",
         "y": {
          "bdata": "WRuT/essiD+dgbZbUGKtP4FMVgi+lKY/7nFcPlhtkj9KEo4ycxyOP35Rsm266Y0/",
          "dtype": "f8"
         },
         "yaxis": "y"
        },
        {
         "hovertemplate": "Type=Utility-scale battery<br>Scenario=1H Res, 1-Zone (DE)<br>Year=%{x}<br>Value [GW]=%{y}<extra></extra>",
         "legendgroup": "Utility-scale battery, 1H Res, 1-Zone (DE)",
         "line": {
          "color": "#00cc96",
          "dash": "solid"
         },
         "marker": {
          "symbol": "circle"
         },
         "mode": "lines+markers",
         "name": "Utility-scale battery, 1H Res, 1-Zone (DE)",
         "orientation": "v",
         "showlegend": true,
         "type": "scatter",
         "x": {
          "bdata": "5AfpB+4H8wf4B/0HAgg=",
          "dtype": "i2"
         },
         "xaxis": "x",
         "y": {
          "bdata": "ly92fqrb5D4qY+krJdvpPqeZSV2bgA5A+QQ5o10cPEAD73/oqTxBQLq01t/V/kBAgRR0CvMVREA=",
          "dtype": "f8"
         },
         "yaxis": "y"
        },
        {
         "hovertemplate": "Type=Utility-scale battery<br>Scenario=Eigener Technologiemix Szenario Run<br>Year=%{x}<br>Value [GW]=%{y}<extra></extra>",
         "legendgroup": "Utility-scale battery, Eigener Technologiemix Szenario Run",
         "line": {
          "color": "#00cc96",
          "dash": "dot"
         },
         "marker": {
          "symbol": "circle"
         },
         "mode": "lines+markers",
         "name": "Utility-scale battery, Eigener Technologiemix Szenario Run",
         "orientation": "v",
         "showlegend": true,
         "type": "scatter",
         "x": {
          "bdata": "5AfpB+4H8wf4B/0HAgg=",
          "dtype": "i2"
         },
         "xaxis": "x",
         "y": {
          "bdata": "9tgKXYTPQD+wJs/ARQhAPypvP6NXBhJAUqVHdXAyQECqIYx0n69HQPa186Csr0dAaO2L4yogUEA=",
          "dtype": "f8"
         },
         "yaxis": "y"
        },
        {
         "hovertemplate": "Type=Utility-scale battery<br>Scenario=1-Zone (DE)<br>Year=%{x}<br>Value [GW]=%{y}<extra></extra>",
         "legendgroup": "Utility-scale battery, 1-Zone (DE)",
         "line": {
          "color": "#00cc96",
          "dash": "dash"
         },
         "marker": {
          "symbol": "circle"
         },
         "mode": "lines+markers",
         "name": "Utility-scale battery, 1-Zone (DE)",
         "orientation": "v",
         "showlegend": true,
         "type": "scatter",
         "x": {
          "bdata": "5AfkB+kH7gfzB/gH/QcCCA==",
          "dtype": "i2"
         },
         "xaxis": "x",
         "y": {
          "bdata": "nkxaG2zHGD/3vkuuI+5BPyoEA3uYTxY/YVgeUb2kFEAIpAY5lzZBQGBE5CdQaERAk7ktwPZWREC0yUc7+lBFQA==",
          "dtype": "f8"
         },
         "yaxis": "y"
        },
        {
         "hovertemplate": "Type=Utility-scale battery<br>Scenario=1H Res, 1-Zone (DE), Min. Home Battery<br>Year=%{x}<br>Value [GW]=%{y}<extra></extra>",
         "legendgroup": "Utility-scale battery, 1H Res, 1-Zone (DE), Min. Home Battery",
         "line": {
          "color": "#00cc96",
          "dash": "longdash"
         },
         "marker": {
          "symbol": "circle"
         },
         "mode": "lines+markers",
         "name": "Utility-scale battery, 1H Res, 1-Zone (DE), Min. Home Battery",
         "orientation": "v",
         "showlegend": true,
         "type": "scatter",
         "x": {
          "bdata": "5AfpB+4H8wf4B/0HAgg=",
          "dtype": "i2"
         },
         "xaxis": "x",
         "y": {
          "bdata": "TE2oxFEF5j4buk0/2+PmPjwsW/bY0wQ/FntMXeyhMEAZxxr6BoA1QLSgGzxFNDVAIl9fiyfdQEA=",
          "dtype": "f8"
         },
         "yaxis": "y"
        },
        {
         "hovertemplate": "Type=Utility-scale battery<br>Scenario=Ariadne Report Technologiemix Szenario<br>Year=%{x}<br>Value [GW]=%{y}<extra></extra>",
         "legendgroup": "Utility-scale battery, Ariadne Report Technologiemix Szenario",
         "line": {
          "color": "#00cc96",
          "dash": "dashdot"
         },
         "marker": {
          "symbol": "circle"
         },
         "mode": "lines+markers",
         "name": "Utility-scale battery, Ariadne Report Technologiemix Szenario",
         "orientation": "v",
         "showlegend": true,
         "type": "scatter",
         "x": {
          "bdata": "5AfpB+4H8wf4B/0H",
          "dtype": "i2"
         },
         "xaxis": "x",
         "y": {
          "bdata": "qMVbio/ajD/uIYCP5TWEP/BuwFIsbQ9AsNb7+AzhQEAFSOQx8jpJQNGF68PAOklA",
          "dtype": "f8"
         },
         "yaxis": "y"
        }
       ],
       "layout": {
        "legend": {
         "title": {
          "text": "Speichertyp / Szenario"
         },
         "tracegroupgap": 0
        },
        "template": {
         "data": {
          "bar": [
           {
            "error_x": {
             "color": "#2a3f5f"
            },
            "error_y": {
             "color": "#2a3f5f"
            },
            "marker": {
             "line": {
              "color": "#E5ECF6",
              "width": 0.5
             },
             "pattern": {
              "fillmode": "overlay",
              "size": 10,
              "solidity": 0.2
             }
            },
            "type": "bar"
           }
          ],
          "barpolar": [
           {
            "marker": {
             "line": {
              "color": "#E5ECF6",
              "width": 0.5
             },
             "pattern": {
              "fillmode": "overlay",
              "size": 10,
              "solidity": 0.2
             }
            },
            "type": "barpolar"
           }
          ],
          "carpet": [
           {
            "aaxis": {
             "endlinecolor": "#2a3f5f",
             "gridcolor": "white",
             "linecolor": "white",
             "minorgridcolor": "white",
             "startlinecolor": "#2a3f5f"
            },
            "baxis": {
             "endlinecolor": "#2a3f5f",
             "gridcolor": "white",
             "linecolor": "white",
             "minorgridcolor": "white",
             "startlinecolor": "#2a3f5f"
            },
            "type": "carpet"
           }
          ],
          "choropleth": [
           {
            "colorbar": {
             "outlinewidth": 0,
             "ticks": ""
            },
            "type": "choropleth"
           }
          ],
          "contour": [
           {
            "colorbar": {
             "outlinewidth": 0,
             "ticks": ""
            },
            "colorscale": [
             [
              0,
              "#0d0887"
             ],
             [
              0.1111111111111111,
              "#46039f"
             ],
             [
              0.2222222222222222,
              "#7201a8"
             ],
             [
              0.3333333333333333,
              "#9c179e"
             ],
             [
              0.4444444444444444,
              "#bd3786"
             ],
             [
              0.5555555555555556,
              "#d8576b"
             ],
             [
              0.6666666666666666,
              "#ed7953"
             ],
             [
              0.7777777777777778,
              "#fb9f3a"
             ],
             [
              0.8888888888888888,
              "#fdca26"
             ],
             [
              1,
              "#f0f921"
             ]
            ],
            "type": "contour"
           }
          ],
          "contourcarpet": [
           {
            "colorbar": {
             "outlinewidth": 0,
             "ticks": ""
            },
            "type": "contourcarpet"
           }
          ],
          "heatmap": [
           {
            "colorbar": {
             "outlinewidth": 0,
             "ticks": ""
            },
            "colorscale": [
             [
              0,
              "#0d0887"
             ],
             [
              0.1111111111111111,
              "#46039f"
             ],
             [
              0.2222222222222222,
              "#7201a8"
             ],
             [
              0.3333333333333333,
              "#9c179e"
             ],
             [
              0.4444444444444444,
              "#bd3786"
             ],
             [
              0.5555555555555556,
              "#d8576b"
             ],
             [
              0.6666666666666666,
              "#ed7953"
             ],
             [
              0.7777777777777778,
              "#fb9f3a"
             ],
             [
              0.8888888888888888,
              "#fdca26"
             ],
             [
              1,
              "#f0f921"
             ]
            ],
            "type": "heatmap"
           }
          ],
          "histogram": [
           {
            "marker": {
             "pattern": {
              "fillmode": "overlay",
              "size": 10,
              "solidity": 0.2
             }
            },
            "type": "histogram"
           }
          ],
          "histogram2d": [
           {
            "colorbar": {
             "outlinewidth": 0,
             "ticks": ""
            },
            "colorscale": [
             [
              0,
              "#0d0887"
             ],
             [
              0.1111111111111111,
              "#46039f"
             ],
             [
              0.2222222222222222,
              "#7201a8"
             ],
             [
              0.3333333333333333,
              "#9c179e"
             ],
             [
              0.4444444444444444,
              "#bd3786"
             ],
             [
              0.5555555555555556,
              "#d8576b"
             ],
             [
              0.6666666666666666,
              "#ed7953"
             ],
             [
              0.7777777777777778,
              "#fb9f3a"
             ],
             [
              0.8888888888888888,
              "#fdca26"
             ],
             [
              1,
              "#f0f921"
             ]
            ],
            "type": "histogram2d"
           }
          ],
          "histogram2dcontour": [
           {
            "colorbar": {
             "outlinewidth": 0,
             "ticks": ""
            },
            "colorscale": [
             [
              0,
              "#0d0887"
             ],
             [
              0.1111111111111111,
              "#46039f"
             ],
             [
              0.2222222222222222,
              "#7201a8"
             ],
             [
              0.3333333333333333,
              "#9c179e"
             ],
             [
              0.4444444444444444,
              "#bd3786"
             ],
             [
              0.5555555555555556,
              "#d8576b"
             ],
             [
              0.6666666666666666,
              "#ed7953"
             ],
             [
              0.7777777777777778,
              "#fb9f3a"
             ],
             [
              0.8888888888888888,
              "#fdca26"
             ],
             [
              1,
              "#f0f921"
             ]
            ],
            "type": "histogram2dcontour"
           }
          ],
          "mesh3d": [
           {
            "colorbar": {
             "outlinewidth": 0,
             "ticks": ""
            },
            "type": "mesh3d"
           }
          ],
          "parcoords": [
           {
            "line": {
             "colorbar": {
              "outlinewidth": 0,
              "ticks": ""
             }
            },
            "type": "parcoords"
           }
          ],
          "pie": [
           {
            "automargin": true,
            "type": "pie"
           }
          ],
          "scatter": [
           {
            "fillpattern": {
             "fillmode": "overlay",
             "size": 10,
             "solidity": 0.2
            },
            "type": "scatter"
           }
          ],
          "scatter3d": [
           {
            "line": {
             "colorbar": {
              "outlinewidth": 0,
              "ticks": ""
             }
            },
            "marker": {
             "colorbar": {
              "outlinewidth": 0,
              "ticks": ""
             }
            },
            "type": "scatter3d"
           }
          ],
          "scattercarpet": [
           {
            "marker": {
             "colorbar": {
              "outlinewidth": 0,
              "ticks": ""
             }
            },
            "type": "scattercarpet"
           }
          ],
          "scattergeo": [
           {
            "marker": {
             "colorbar": {
              "outlinewidth": 0,
              "ticks": ""
             }
            },
            "type": "scattergeo"
           }
          ],
          "scattergl": [
           {
            "marker": {
             "colorbar": {
              "outlinewidth": 0,
              "ticks": ""
             }
            },
            "type": "scattergl"
           }
          ],
          "scattermap": [
           {
            "marker": {
             "colorbar": {
              "outlinewidth": 0,
              "ticks": ""
             }
            },
            "type": "scattermap"
           }
          ],
          "scattermapbox": [
           {
            "marker": {
             "colorbar": {
              "outlinewidth": 0,
              "ticks": ""
             }
            },
            "type": "scattermapbox"
           }
          ],
          "scatterpolar": [
           {
            "marker": {
             "colorbar": {
              "outlinewidth": 0,
              "ticks": ""
             }
            },
            "type": "scatterpolar"
           }
          ],
          "scatterpolargl": [
           {
            "marker": {
             "colorbar": {
              "outlinewidth": 0,
              "ticks": ""
             }
            },
            "type": "scatterpolargl"
           }
          ],
          "scatterternary": [
           {
            "marker": {
             "colorbar": {
              "outlinewidth": 0,
              "ticks": ""
             }
            },
            "type": "scatterternary"
           }
          ],
          "surface": [
           {
            "colorbar": {
             "outlinewidth": 0,
             "ticks": ""
            },
            "colorscale": [
             [
              0,
              "#0d0887"
             ],
             [
              0.1111111111111111,
              "#46039f"
             ],
             [
              0.2222222222222222,
              "#7201a8"
             ],
             [
              0.3333333333333333,
              "#9c179e"
             ],
             [
              0.4444444444444444,
              "#bd3786"
             ],
             [
              0.5555555555555556,
              "#d8576b"
             ],
             [
              0.6666666666666666,
              "#ed7953"
             ],
             [
              0.7777777777777778,
              "#fb9f3a"
             ],
             [
              0.8888888888888888,
              "#fdca26"
             ],
             [
              1,
              "#f0f921"
             ]
            ],
            "type": "surface"
           }
          ],
          "table": [
           {
            "cells": {
             "fill": {
              "color": "#EBF0F8"
             },
             "line": {
              "color": "white"
             }
            },
            "header": {
             "fill": {
              "color": "#C8D4E3"
             },
             "line": {
              "color": "white"
             }
            },
            "type": "table"
           }
          ]
         },
         "layout": {
          "annotationdefaults": {
           "arrowcolor": "#2a3f5f",
           "arrowhead": 0,
           "arrowwidth": 1
          },
          "autotypenumbers": "strict",
          "coloraxis": {
           "colorbar": {
            "outlinewidth": 0,
            "ticks": ""
           }
          },
          "colorscale": {
           "diverging": [
            [
             0,
             "#8e0152"
            ],
            [
             0.1,
             "#c51b7d"
            ],
            [
             0.2,
             "#de77ae"
            ],
            [
             0.3,
             "#f1b6da"
            ],
            [
             0.4,
             "#fde0ef"
            ],
            [
             0.5,
             "#f7f7f7"
            ],
            [
             0.6,
             "#e6f5d0"
            ],
            [
             0.7,
             "#b8e186"
            ],
            [
             0.8,
             "#7fbc41"
            ],
            [
             0.9,
             "#4d9221"
            ],
            [
             1,
             "#276419"
            ]
           ],
           "sequential": [
            [
             0,
             "#0d0887"
            ],
            [
             0.1111111111111111,
             "#46039f"
            ],
            [
             0.2222222222222222,
             "#7201a8"
            ],
            [
             0.3333333333333333,
             "#9c179e"
            ],
            [
             0.4444444444444444,
             "#bd3786"
            ],
            [
             0.5555555555555556,
             "#d8576b"
            ],
            [
             0.6666666666666666,
             "#ed7953"
            ],
            [
             0.7777777777777778,
             "#fb9f3a"
            ],
            [
             0.8888888888888888,
             "#fdca26"
            ],
            [
             1,
             "#f0f921"
            ]
           ],
           "sequentialminus": [
            [
             0,
             "#0d0887"
            ],
            [
             0.1111111111111111,
             "#46039f"
            ],
            [
             0.2222222222222222,
             "#7201a8"
            ],
            [
             0.3333333333333333,
             "#9c179e"
            ],
            [
             0.4444444444444444,
             "#bd3786"
            ],
            [
             0.5555555555555556,
             "#d8576b"
            ],
            [
             0.6666666666666666,
             "#ed7953"
            ],
            [
             0.7777777777777778,
             "#fb9f3a"
            ],
            [
             0.8888888888888888,
             "#fdca26"
            ],
            [
             1,
             "#f0f921"
            ]
           ]
          },
          "colorway": [
           "#636efa",
           "#EF553B",
           "#00cc96",
           "#ab63fa",
           "#FFA15A",
           "#19d3f3",
           "#FF6692",
           "#B6E880",
           "#FF97FF",
           "#FECB52"
          ],
          "font": {
           "color": "#2a3f5f"
          },
          "geo": {
           "bgcolor": "white",
           "lakecolor": "white",
           "landcolor": "#E5ECF6",
           "showlakes": true,
           "showland": true,
           "subunitcolor": "white"
          },
          "hoverlabel": {
           "align": "left"
          },
          "hovermode": "closest",
          "mapbox": {
           "style": "light"
          },
          "paper_bgcolor": "white",
          "plot_bgcolor": "#E5ECF6",
          "polar": {
           "angularaxis": {
            "gridcolor": "white",
            "linecolor": "white",
            "ticks": ""
           },
           "bgcolor": "#E5ECF6",
           "radialaxis": {
            "gridcolor": "white",
            "linecolor": "white",
            "ticks": ""
           }
          },
          "scene": {
           "xaxis": {
            "backgroundcolor": "#E5ECF6",
            "gridcolor": "white",
            "gridwidth": 2,
            "linecolor": "white",
            "showbackground": true,
            "ticks": "",
            "zerolinecolor": "white"
           },
           "yaxis": {
            "backgroundcolor": "#E5ECF6",
            "gridcolor": "white",
            "gridwidth": 2,
            "linecolor": "white",
            "showbackground": true,
            "ticks": "",
            "zerolinecolor": "white"
           },
           "zaxis": {
            "backgroundcolor": "#E5ECF6",
            "gridcolor": "white",
            "gridwidth": 2,
            "linecolor": "white",
            "showbackground": true,
            "ticks": "",
            "zerolinecolor": "white"
           }
          },
          "shapedefaults": {
           "line": {
            "color": "#2a3f5f"
           }
          },
          "ternary": {
           "aaxis": {
            "gridcolor": "white",
            "linecolor": "white",
            "ticks": ""
           },
           "baxis": {
            "gridcolor": "white",
            "linecolor": "white",
            "ticks": ""
           },
           "bgcolor": "#E5ECF6",
           "caxis": {
            "gridcolor": "white",
            "linecolor": "white",
            "ticks": ""
           }
          },
          "title": {
           "x": 0.05
          },
          "xaxis": {
           "automargin": true,
           "gridcolor": "white",
           "linecolor": "white",
           "ticks": "",
           "title": {
            "standoff": 15
           },
           "zerolinecolor": "white",
           "zerolinewidth": 2
          },
          "yaxis": {
           "automargin": true,
           "gridcolor": "white",
           "linecolor": "white",
           "ticks": "",
           "title": {
            "standoff": 15
           },
           "zerolinecolor": "white",
           "zerolinewidth": 2
          }
         }
        },
        "title": {
         "text": "Entladeleistung von Batteriespeichern in Deutschland (GW) – alle Szenarien"
        },
        "xaxis": {
         "anchor": "y",
         "domain": [
          0,
          1
         ],
         "title": {
          "text": "Jahr"
         }
        },
        "yaxis": {
         "anchor": "x",
         "domain": [
          0,
          1
         ],
         "title": {
          "text": "Entladeleistung [GW]"
         }
        }
       }
      }
     },
     "metadata": {},
     "output_type": "display_data"
    },
    {
     "name": "stderr",
     "output_type": "stream",
     "text": [
      "c:\\Users\\morit\\.conda\\envs\\pypsa-de\\Lib\\site-packages\\_plotly_utils\\basevalidators.py:2596: DeprecationWarning:\n",
      "\n",
      "*scattermapbox* is deprecated! Use *scattermap* instead. Learn more at: https://plotly.com/python/mapbox-to-maplibre/\n",
      "\n"
     ]
    },
    {
     "data": {
      "application/vnd.plotly.v1+json": {
       "config": {
        "plotlyServerURL": "https://plot.ly"
       },
       "data": [
        {
         "hovertemplate": "Type=EV battery<br>Scenario=1H Res, 1-Zone (DE)<br>Year=%{x}<br>Value [GWh]=%{y}<extra></extra>",
         "legendgroup": "EV battery, 1H Res, 1-Zone (DE)",
         "line": {
          "color": "#636efa",
          "dash": "solid"
         },
         "marker": {
          "symbol": "circle"
         },
         "mode": "lines+markers",
         "name": "EV battery, 1H Res, 1-Zone (DE)",
         "orientation": "v",
         "showlegend": true,
         "type": "scatter",
         "x": {
          "bdata": "5AfpB+4H8wf4B/0HAgg=",
          "dtype": "i2"
         },
         "xaxis": "x",
         "y": {
          "bdata": "AAAAAAAAAAAAAAAAAAAAAJaaPdDqXXZA8TMuHHDGgEBZNJ2dPBiKQP6arFG3r49AYRqGjwS1kUA=",
          "dtype": "f8"
         },
         "yaxis": "y"
        },
        {
         "hovertemplate": "Type=EV battery<br>Scenario=Eigener Technologiemix Szenario Run<br>Year=%{x}<br>Value [GWh]=%{y}<extra></extra>",
         "legendgroup": "EV battery, Eigener Technologiemix Szenario Run",
         "line": {
          "color": "#636efa",
          "dash": "dot"
         },
         "marker": {
          "symbol": "circle"
         },
         "mode": "lines+markers",
         "name": "EV battery, Eigener Technologiemix Szenario Run",
         "orientation": "v",
         "showlegend": true,
         "type": "scatter",
         "x": {
          "bdata": "5AfpB+4H8wf4B/0HAgg=",
          "dtype": "i2"
         },
         "xaxis": "x",
         "y": {
          "bdata": "AAAAAAAAAAAAAAAAAAAAAJOaPdDqXXZA7zMuHHDGgEBWNJ2dPBiKQPyarFG3r49AXxqGjwS1kUA=",
          "dtype": "f8"
         },
         "yaxis": "y"
        },
        {
         "hovertemplate": "Type=EV battery<br>Scenario=1-Zone (DE)<br>Year=%{x}<br>Value [GWh]=%{y}<extra></extra>",
         "legendgroup": "EV battery, 1-Zone (DE)",
         "line": {
          "color": "#636efa",
          "dash": "dash"
         },
         "marker": {
          "symbol": "circle"
         },
         "mode": "lines+markers",
         "name": "EV battery, 1-Zone (DE)",
         "orientation": "v",
         "showlegend": true,
         "type": "scatter",
         "x": {
          "bdata": "5AfkB+kH7gfzB/gH/QcCCA==",
          "dtype": "i2"
         },
         "xaxis": "x",
         "y": {
          "bdata": "AAAAAAAAAAAAAAAAAAAAAAAAAAAAAAAAlpo90OpddkDxMy4ccMaAQFk0nZ08GIpA/pqsUbevj0BhGoaPBLWRQA==",
          "dtype": "f8"
         },
         "yaxis": "y"
        },
        {
         "hovertemplate": "Type=EV battery<br>Scenario=1H Res, 1-Zone (DE), Min. Home Battery<br>Year=%{x}<br>Value [GWh]=%{y}<extra></extra>",
         "legendgroup": "EV battery, 1H Res, 1-Zone (DE), Min. Home Battery",
         "line": {
          "color": "#636efa",
          "dash": "longdash"
         },
         "marker": {
          "symbol": "circle"
         },
         "mode": "lines+markers",
         "name": "EV battery, 1H Res, 1-Zone (DE), Min. Home Battery",
         "orientation": "v",
         "showlegend": true,
         "type": "scatter",
         "x": {
          "bdata": "5AfpB+4H8wf4B/0HAgg=",
          "dtype": "i2"
         },
         "xaxis": "x",
         "y": {
          "bdata": "AAAAAAAAAAAAAAAAAAAAAJaaPdDqXXZA8TMuHHDGgEBZNJ2dPBiKQP6arFG3r49AYRqGjwS1kUA=",
          "dtype": "f8"
         },
         "yaxis": "y"
        },
        {
         "hovertemplate": "Type=EV battery<br>Scenario=Ariadne Report Technologiemix Szenario<br>Year=%{x}<br>Value [GWh]=%{y}<extra></extra>",
         "legendgroup": "EV battery, Ariadne Report Technologiemix Szenario",
         "line": {
          "color": "#636efa",
          "dash": "dashdot"
         },
         "marker": {
          "symbol": "circle"
         },
         "mode": "lines+markers",
         "name": "EV battery, Ariadne Report Technologiemix Szenario",
         "orientation": "v",
         "showlegend": true,
         "type": "scatter",
         "x": {
          "bdata": "5AfpB+4H8wf4B/0H",
          "dtype": "i2"
         },
         "xaxis": "x",
         "y": {
          "bdata": "AAAAAAAAAAAAAAAAAAAAAI2aPdDqXXZA6jMuHHDGgEBPNJ2dPBiKQPOarFG3r49A",
          "dtype": "f8"
         },
         "yaxis": "y"
        },
        {
         "hovertemplate": "Type=Home battery<br>Scenario=1H Res, 1-Zone (DE)<br>Year=%{x}<br>Value [GWh]=%{y}<extra></extra>",
         "legendgroup": "Home battery, 1H Res, 1-Zone (DE)",
         "line": {
          "color": "#EF553B",
          "dash": "solid"
         },
         "marker": {
          "symbol": "circle"
         },
         "mode": "lines+markers",
         "name": "Home battery, 1H Res, 1-Zone (DE)",
         "orientation": "v",
         "showlegend": true,
         "type": "scatter",
         "x": {
          "bdata": "5AfpB+4H8wf4B/0HAgg=",
          "dtype": "i2"
         },
         "xaxis": "x",
         "y": {
          "bdata": "qUQNwT2xAT8wJIjshTsOP4KrodaBoS9ADDalD5MnRkCNbwufSmZHQCFi9UlvZkdAraU2hHdmR0A=",
          "dtype": "f8"
         },
         "yaxis": "y"
        },
        {
         "hovertemplate": "Type=Home battery<br>Scenario=Eigener Technologiemix Szenario Run<br>Year=%{x}<br>Value [GWh]=%{y}<extra></extra>",
         "legendgroup": "Home battery, Eigener Technologiemix Szenario Run",
         "line": {
          "color": "#EF553B",
          "dash": "dot"
         },
         "marker": {
          "symbol": "circle"
         },
         "mode": "lines+markers",
         "name": "Home battery, Eigener Technologiemix Szenario Run",
         "orientation": "v",
         "showlegend": true,
         "type": "scatter",
         "x": {
          "bdata": "5AfpB+4H8wf4B/0HAgg=",
          "dtype": "i2"
         },
         "xaxis": "x",
         "y": {
          "bdata": "DggVHO7aYj9GI4lis+pjP38aBnf93QFA12hMJBj1JkCyhlBNz/AqQJy65iVJ8SpAK9055/jwKkA=",
          "dtype": "f8"
         },
         "yaxis": "y"
        },
        {
         "hovertemplate": "Type=Home battery<br>Scenario=1-Zone (DE)<br>Year=%{x}<br>Value [GWh]=%{y}<extra></extra>",
         "legendgroup": "Home battery, 1-Zone (DE)",
         "line": {
          "color": "#EF553B",
          "dash": "dash"
         },
         "marker": {
          "symbol": "circle"
         },
         "mode": "lines+markers",
         "name": "Home battery, 1-Zone (DE)",
         "orientation": "v",
         "showlegend": true,
         "type": "scatter",
         "x": {
          "bdata": "5AfkB+kH7gfzB/gH/QcCCA==",
          "dtype": "i2"
         },
         "xaxis": "x",
         "y": {
          "bdata": "KJqJTgZDMT99zTsPqmVhPydlryiiqjk/x6g7LMPVKj8rFTqXibHgPy0H9RAXs+A/L1zXffWx4D8uEzVVp7HgPw==",
          "dtype": "f8"
         },
         "yaxis": "y"
        },
        {
         "hovertemplate": "Type=Home battery<br>Scenario=1H Res, 1-Zone (DE), Min. Home Battery<br>Year=%{x}<br>Value [GWh]=%{y}<extra></extra>",
         "legendgroup": "Home battery, 1H Res, 1-Zone (DE), Min. Home Battery",
         "line": {
          "color": "#EF553B",
          "dash": "longdash"
         },
         "marker": {
          "symbol": "circle"
         },
         "mode": "lines+markers",
         "name": "Home battery, 1H Res, 1-Zone (DE), Min. Home Battery",
         "orientation": "v",
         "showlegend": true,
         "type": "scatter",
         "x": {
          "bdata": "5AfpB+4H8wf4B/0HAgg=",
          "dtype": "i2"
         },
         "xaxis": "x",
         "y": {
          "bdata": "6nscNPlLBD/H22nNzIxEQFfl+wUAYFFARsdIHpy5Y0DRPFt53hRkQAYFdRjfFGRASM642sxsYUA=",
          "dtype": "f8"
         },
         "yaxis": "y"
        },
        {
         "hovertemplate": "Type=Home battery<br>Scenario=Ariadne Report Technologiemix Szenario<br>Year=%{x}<br>Value [GWh]=%{y}<extra></extra>",
         "legendgroup": "Home battery, Ariadne Report Technologiemix Szenario",
         "line": {
          "color": "#EF553B",
          "dash": "dashdot"
         },
         "marker": {
          "symbol": "circle"
         },
         "mode": "lines+markers",
         "name": "Home battery, Ariadne Report Technologiemix Szenario",
         "orientation": "v",
         "showlegend": true,
         "type": "scatter",
         "x": {
          "bdata": "5AfpB+4H8wf4B/0H",
          "dtype": "i2"
         },
         "xaxis": "x",
         "y": {
          "bdata": "S/yQvxjMlT9SnsaCGpPFP4AYFMTn/sI/oEkXUy5owz9TwrU/H4jCP/UIHd3ed8I/",
          "dtype": "f8"
         },
         "yaxis": "y"
        },
        {
         "hovertemplate": "Type=Utility-scale battery<br>Scenario=1H Res, 1-Zone (DE)<br>Year=%{x}<br>Value [GWh]=%{y}<extra></extra>",
         "legendgroup": "Utility-scale battery, 1H Res, 1-Zone (DE)",
         "line": {
          "color": "#00cc96",
          "dash": "solid"
         },
         "marker": {
          "symbol": "circle"
         },
         "mode": "lines+markers",
         "name": "Utility-scale battery, 1H Res, 1-Zone (DE)",
         "orientation": "v",
         "showlegend": true,
         "type": "scatter",
         "x": {
          "bdata": "5AfpB+4H8wf4B/0HAgg=",
          "dtype": "i2"
         },
         "xaxis": "x",
         "y": {
          "bdata": "BHgiNVso5D6qrXMrfnf3PojBpERhAz9AlHXjKCgMcECDOLFpDItzQEIBfKYWi3NA9CjQmkyxdUA=",
          "dtype": "f8"
         },
         "yaxis": "y"
        },
        {
         "hovertemplate": "Type=Utility-scale battery<br>Scenario=Eigener Technologiemix Szenario Run<br>Year=%{x}<br>Value [GWh]=%{y}<extra></extra>",
         "legendgroup": "Utility-scale battery, Eigener Technologiemix Szenario Run",
         "line": {
          "color": "#00cc96",
          "dash": "dot"
         },
         "marker": {
          "symbol": "circle"
         },
         "mode": "lines+markers",
         "name": "Utility-scale battery, Eigener Technologiemix Szenario Run",
         "orientation": "v",
         "showlegend": true,
         "type": "scatter",
         "x": {
          "bdata": "5AfpB+4H8wf4B/0HAgg=",
          "dtype": "i2"
         },
         "xaxis": "x",
         "y": {
          "bdata": "mtzNaaIwQz/x6CZotTtPP0KOUKpdd0NADf1sxiV+cUB4cRVitpR5QD1eK+HElHlAAFos+mpqgUA=",
          "dtype": "f8"
         },
         "yaxis": "y"
        },
        {
         "hovertemplate": "Type=Utility-scale battery<br>Scenario=1-Zone (DE)<br>Year=%{x}<br>Value [GWh]=%{y}<extra></extra>",
         "legendgroup": "Utility-scale battery, 1-Zone (DE)",
         "line": {
          "color": "#00cc96",
          "dash": "dash"
         },
         "marker": {
          "symbol": "circle"
         },
         "mode": "lines+markers",
         "name": "Utility-scale battery, 1-Zone (DE)",
         "orientation": "v",
         "showlegend": true,
         "type": "scatter",
         "x": {
          "bdata": "5AfkB+kH7gfzB/gH/QcCCA==",
          "dtype": "i2"
         },
         "xaxis": "x",
         "y": {
          "bdata": "nJB3Ht17HD/xrPckfmxDPyDRukr6AyU/B9uUc4NLRkASWmx3HpdyQDgRexdCCnZABfqF8kIKdkA0WIcfiQV3QA==",
          "dtype": "f8"
         },
         "yaxis": "y"
        },
        {
         "hovertemplate": "Type=Utility-scale battery<br>Scenario=1H Res, 1-Zone (DE), Min. Home Battery<br>Year=%{x}<br>Value [GWh]=%{y}<extra></extra>",
         "legendgroup": "Utility-scale battery, 1H Res, 1-Zone (DE), Min. Home Battery",
         "line": {
          "color": "#00cc96",
          "dash": "longdash"
         },
         "marker": {
          "symbol": "circle"
         },
         "mode": "lines+markers",
         "name": "Utility-scale battery, 1H Res, 1-Zone (DE), Min. Home Battery",
         "orientation": "v",
         "showlegend": true,
         "type": "scatter",
         "x": {
          "bdata": "5AfpB+4H8wf4B/0HAgg=",
          "dtype": "i2"
         },
         "xaxis": "x",
         "y": {
          "bdata": "bLUz5hIb5j6ncn+6wnLyPhlYTD/jYzQ/so6b+DqJY0BhYqXxxCBpQJpYi8vGIGlAGwkS/4Y2ckA=",
          "dtype": "f8"
         },
         "yaxis": "y"
        },
        {
         "hovertemplate": "Type=Utility-scale battery<br>Scenario=Ariadne Report Technologiemix Szenario<br>Year=%{x}<br>Value [GWh]=%{y}<extra></extra>",
         "legendgroup": "Utility-scale battery, Ariadne Report Technologiemix Szenario",
         "line": {
          "color": "#00cc96",
          "dash": "dashdot"
         },
         "marker": {
          "symbol": "circle"
         },
         "mode": "lines+markers",
         "name": "Utility-scale battery, Ariadne Report Technologiemix Szenario",
         "orientation": "v",
         "showlegend": true,
         "type": "scatter",
         "x": {
          "bdata": "5AfpB+4H8wf4B/0H",
          "dtype": "i2"
         },
         "xaxis": "x",
         "y": {
          "bdata": "8nArOskNiz9KSho+wvaQP9CfCM4a+EBAJ1WvLa06ckAnjvGZqD97QOe2z+pzP3tA",
          "dtype": "f8"
         },
         "yaxis": "y"
        }
       ],
       "layout": {
        "legend": {
         "title": {
          "text": "Speichertyp / Szenario"
         },
         "tracegroupgap": 0
        },
        "template": {
         "data": {
          "bar": [
           {
            "error_x": {
             "color": "#2a3f5f"
            },
            "error_y": {
             "color": "#2a3f5f"
            },
            "marker": {
             "line": {
              "color": "#E5ECF6",
              "width": 0.5
             },
             "pattern": {
              "fillmode": "overlay",
              "size": 10,
              "solidity": 0.2
             }
            },
            "type": "bar"
           }
          ],
          "barpolar": [
           {
            "marker": {
             "line": {
              "color": "#E5ECF6",
              "width": 0.5
             },
             "pattern": {
              "fillmode": "overlay",
              "size": 10,
              "solidity": 0.2
             }
            },
            "type": "barpolar"
           }
          ],
          "carpet": [
           {
            "aaxis": {
             "endlinecolor": "#2a3f5f",
             "gridcolor": "white",
             "linecolor": "white",
             "minorgridcolor": "white",
             "startlinecolor": "#2a3f5f"
            },
            "baxis": {
             "endlinecolor": "#2a3f5f",
             "gridcolor": "white",
             "linecolor": "white",
             "minorgridcolor": "white",
             "startlinecolor": "#2a3f5f"
            },
            "type": "carpet"
           }
          ],
          "choropleth": [
           {
            "colorbar": {
             "outlinewidth": 0,
             "ticks": ""
            },
            "type": "choropleth"
           }
          ],
          "contour": [
           {
            "colorbar": {
             "outlinewidth": 0,
             "ticks": ""
            },
            "colorscale": [
             [
              0,
              "#0d0887"
             ],
             [
              0.1111111111111111,
              "#46039f"
             ],
             [
              0.2222222222222222,
              "#7201a8"
             ],
             [
              0.3333333333333333,
              "#9c179e"
             ],
             [
              0.4444444444444444,
              "#bd3786"
             ],
             [
              0.5555555555555556,
              "#d8576b"
             ],
             [
              0.6666666666666666,
              "#ed7953"
             ],
             [
              0.7777777777777778,
              "#fb9f3a"
             ],
             [
              0.8888888888888888,
              "#fdca26"
             ],
             [
              1,
              "#f0f921"
             ]
            ],
            "type": "contour"
           }
          ],
          "contourcarpet": [
           {
            "colorbar": {
             "outlinewidth": 0,
             "ticks": ""
            },
            "type": "contourcarpet"
           }
          ],
          "heatmap": [
           {
            "colorbar": {
             "outlinewidth": 0,
             "ticks": ""
            },
            "colorscale": [
             [
              0,
              "#0d0887"
             ],
             [
              0.1111111111111111,
              "#46039f"
             ],
             [
              0.2222222222222222,
              "#7201a8"
             ],
             [
              0.3333333333333333,
              "#9c179e"
             ],
             [
              0.4444444444444444,
              "#bd3786"
             ],
             [
              0.5555555555555556,
              "#d8576b"
             ],
             [
              0.6666666666666666,
              "#ed7953"
             ],
             [
              0.7777777777777778,
              "#fb9f3a"
             ],
             [
              0.8888888888888888,
              "#fdca26"
             ],
             [
              1,
              "#f0f921"
             ]
            ],
            "type": "heatmap"
           }
          ],
          "histogram": [
           {
            "marker": {
             "pattern": {
              "fillmode": "overlay",
              "size": 10,
              "solidity": 0.2
             }
            },
            "type": "histogram"
           }
          ],
          "histogram2d": [
           {
            "colorbar": {
             "outlinewidth": 0,
             "ticks": ""
            },
            "colorscale": [
             [
              0,
              "#0d0887"
             ],
             [
              0.1111111111111111,
              "#46039f"
             ],
             [
              0.2222222222222222,
              "#7201a8"
             ],
             [
              0.3333333333333333,
              "#9c179e"
             ],
             [
              0.4444444444444444,
              "#bd3786"
             ],
             [
              0.5555555555555556,
              "#d8576b"
             ],
             [
              0.6666666666666666,
              "#ed7953"
             ],
             [
              0.7777777777777778,
              "#fb9f3a"
             ],
             [
              0.8888888888888888,
              "#fdca26"
             ],
             [
              1,
              "#f0f921"
             ]
            ],
            "type": "histogram2d"
           }
          ],
          "histogram2dcontour": [
           {
            "colorbar": {
             "outlinewidth": 0,
             "ticks": ""
            },
            "colorscale": [
             [
              0,
              "#0d0887"
             ],
             [
              0.1111111111111111,
              "#46039f"
             ],
             [
              0.2222222222222222,
              "#7201a8"
             ],
             [
              0.3333333333333333,
              "#9c179e"
             ],
             [
              0.4444444444444444,
              "#bd3786"
             ],
             [
              0.5555555555555556,
              "#d8576b"
             ],
             [
              0.6666666666666666,
              "#ed7953"
             ],
             [
              0.7777777777777778,
              "#fb9f3a"
             ],
             [
              0.8888888888888888,
              "#fdca26"
             ],
             [
              1,
              "#f0f921"
             ]
            ],
            "type": "histogram2dcontour"
           }
          ],
          "mesh3d": [
           {
            "colorbar": {
             "outlinewidth": 0,
             "ticks": ""
            },
            "type": "mesh3d"
           }
          ],
          "parcoords": [
           {
            "line": {
             "colorbar": {
              "outlinewidth": 0,
              "ticks": ""
             }
            },
            "type": "parcoords"
           }
          ],
          "pie": [
           {
            "automargin": true,
            "type": "pie"
           }
          ],
          "scatter": [
           {
            "fillpattern": {
             "fillmode": "overlay",
             "size": 10,
             "solidity": 0.2
            },
            "type": "scatter"
           }
          ],
          "scatter3d": [
           {
            "line": {
             "colorbar": {
              "outlinewidth": 0,
              "ticks": ""
             }
            },
            "marker": {
             "colorbar": {
              "outlinewidth": 0,
              "ticks": ""
             }
            },
            "type": "scatter3d"
           }
          ],
          "scattercarpet": [
           {
            "marker": {
             "colorbar": {
              "outlinewidth": 0,
              "ticks": ""
             }
            },
            "type": "scattercarpet"
           }
          ],
          "scattergeo": [
           {
            "marker": {
             "colorbar": {
              "outlinewidth": 0,
              "ticks": ""
             }
            },
            "type": "scattergeo"
           }
          ],
          "scattergl": [
           {
            "marker": {
             "colorbar": {
              "outlinewidth": 0,
              "ticks": ""
             }
            },
            "type": "scattergl"
           }
          ],
          "scattermap": [
           {
            "marker": {
             "colorbar": {
              "outlinewidth": 0,
              "ticks": ""
             }
            },
            "type": "scattermap"
           }
          ],
          "scattermapbox": [
           {
            "marker": {
             "colorbar": {
              "outlinewidth": 0,
              "ticks": ""
             }
            },
            "type": "scattermapbox"
           }
          ],
          "scatterpolar": [
           {
            "marker": {
             "colorbar": {
              "outlinewidth": 0,
              "ticks": ""
             }
            },
            "type": "scatterpolar"
           }
          ],
          "scatterpolargl": [
           {
            "marker": {
             "colorbar": {
              "outlinewidth": 0,
              "ticks": ""
             }
            },
            "type": "scatterpolargl"
           }
          ],
          "scatterternary": [
           {
            "marker": {
             "colorbar": {
              "outlinewidth": 0,
              "ticks": ""
             }
            },
            "type": "scatterternary"
           }
          ],
          "surface": [
           {
            "colorbar": {
             "outlinewidth": 0,
             "ticks": ""
            },
            "colorscale": [
             [
              0,
              "#0d0887"
             ],
             [
              0.1111111111111111,
              "#46039f"
             ],
             [
              0.2222222222222222,
              "#7201a8"
             ],
             [
              0.3333333333333333,
              "#9c179e"
             ],
             [
              0.4444444444444444,
              "#bd3786"
             ],
             [
              0.5555555555555556,
              "#d8576b"
             ],
             [
              0.6666666666666666,
              "#ed7953"
             ],
             [
              0.7777777777777778,
              "#fb9f3a"
             ],
             [
              0.8888888888888888,
              "#fdca26"
             ],
             [
              1,
              "#f0f921"
             ]
            ],
            "type": "surface"
           }
          ],
          "table": [
           {
            "cells": {
             "fill": {
              "color": "#EBF0F8"
             },
             "line": {
              "color": "white"
             }
            },
            "header": {
             "fill": {
              "color": "#C8D4E3"
             },
             "line": {
              "color": "white"
             }
            },
            "type": "table"
           }
          ]
         },
         "layout": {
          "annotationdefaults": {
           "arrowcolor": "#2a3f5f",
           "arrowhead": 0,
           "arrowwidth": 1
          },
          "autotypenumbers": "strict",
          "coloraxis": {
           "colorbar": {
            "outlinewidth": 0,
            "ticks": ""
           }
          },
          "colorscale": {
           "diverging": [
            [
             0,
             "#8e0152"
            ],
            [
             0.1,
             "#c51b7d"
            ],
            [
             0.2,
             "#de77ae"
            ],
            [
             0.3,
             "#f1b6da"
            ],
            [
             0.4,
             "#fde0ef"
            ],
            [
             0.5,
             "#f7f7f7"
            ],
            [
             0.6,
             "#e6f5d0"
            ],
            [
             0.7,
             "#b8e186"
            ],
            [
             0.8,
             "#7fbc41"
            ],
            [
             0.9,
             "#4d9221"
            ],
            [
             1,
             "#276419"
            ]
           ],
           "sequential": [
            [
             0,
             "#0d0887"
            ],
            [
             0.1111111111111111,
             "#46039f"
            ],
            [
             0.2222222222222222,
             "#7201a8"
            ],
            [
             0.3333333333333333,
             "#9c179e"
            ],
            [
             0.4444444444444444,
             "#bd3786"
            ],
            [
             0.5555555555555556,
             "#d8576b"
            ],
            [
             0.6666666666666666,
             "#ed7953"
            ],
            [
             0.7777777777777778,
             "#fb9f3a"
            ],
            [
             0.8888888888888888,
             "#fdca26"
            ],
            [
             1,
             "#f0f921"
            ]
           ],
           "sequentialminus": [
            [
             0,
             "#0d0887"
            ],
            [
             0.1111111111111111,
             "#46039f"
            ],
            [
             0.2222222222222222,
             "#7201a8"
            ],
            [
             0.3333333333333333,
             "#9c179e"
            ],
            [
             0.4444444444444444,
             "#bd3786"
            ],
            [
             0.5555555555555556,
             "#d8576b"
            ],
            [
             0.6666666666666666,
             "#ed7953"
            ],
            [
             0.7777777777777778,
             "#fb9f3a"
            ],
            [
             0.8888888888888888,
             "#fdca26"
            ],
            [
             1,
             "#f0f921"
            ]
           ]
          },
          "colorway": [
           "#636efa",
           "#EF553B",
           "#00cc96",
           "#ab63fa",
           "#FFA15A",
           "#19d3f3",
           "#FF6692",
           "#B6E880",
           "#FF97FF",
           "#FECB52"
          ],
          "font": {
           "color": "#2a3f5f"
          },
          "geo": {
           "bgcolor": "white",
           "lakecolor": "white",
           "landcolor": "#E5ECF6",
           "showlakes": true,
           "showland": true,
           "subunitcolor": "white"
          },
          "hoverlabel": {
           "align": "left"
          },
          "hovermode": "closest",
          "mapbox": {
           "style": "light"
          },
          "paper_bgcolor": "white",
          "plot_bgcolor": "#E5ECF6",
          "polar": {
           "angularaxis": {
            "gridcolor": "white",
            "linecolor": "white",
            "ticks": ""
           },
           "bgcolor": "#E5ECF6",
           "radialaxis": {
            "gridcolor": "white",
            "linecolor": "white",
            "ticks": ""
           }
          },
          "scene": {
           "xaxis": {
            "backgroundcolor": "#E5ECF6",
            "gridcolor": "white",
            "gridwidth": 2,
            "linecolor": "white",
            "showbackground": true,
            "ticks": "",
            "zerolinecolor": "white"
           },
           "yaxis": {
            "backgroundcolor": "#E5ECF6",
            "gridcolor": "white",
            "gridwidth": 2,
            "linecolor": "white",
            "showbackground": true,
            "ticks": "",
            "zerolinecolor": "white"
           },
           "zaxis": {
            "backgroundcolor": "#E5ECF6",
            "gridcolor": "white",
            "gridwidth": 2,
            "linecolor": "white",
            "showbackground": true,
            "ticks": "",
            "zerolinecolor": "white"
           }
          },
          "shapedefaults": {
           "line": {
            "color": "#2a3f5f"
           }
          },
          "ternary": {
           "aaxis": {
            "gridcolor": "white",
            "linecolor": "white",
            "ticks": ""
           },
           "baxis": {
            "gridcolor": "white",
            "linecolor": "white",
            "ticks": ""
           },
           "bgcolor": "#E5ECF6",
           "caxis": {
            "gridcolor": "white",
            "linecolor": "white",
            "ticks": ""
           }
          },
          "title": {
           "x": 0.05
          },
          "xaxis": {
           "automargin": true,
           "gridcolor": "white",
           "linecolor": "white",
           "ticks": "",
           "title": {
            "standoff": 15
           },
           "zerolinecolor": "white",
           "zerolinewidth": 2
          },
          "yaxis": {
           "automargin": true,
           "gridcolor": "white",
           "linecolor": "white",
           "ticks": "",
           "title": {
            "standoff": 15
           },
           "zerolinecolor": "white",
           "zerolinewidth": 2
          }
         }
        },
        "title": {
         "text": "Energiespeicherkapazität von Batteriespeichern in Deutschland (GWh) – alle Szenarien"
        },
        "xaxis": {
         "anchor": "y",
         "domain": [
          0,
          1
         ],
         "title": {
          "text": "Jahr"
         }
        },
        "yaxis": {
         "anchor": "x",
         "domain": [
          0,
          1
         ],
         "title": {
          "text": "Kapazität [GWh]"
         }
        }
       }
      }
     },
     "metadata": {},
     "output_type": "display_data"
    },
    {
     "name": "stderr",
     "output_type": "stream",
     "text": [
      "c:\\Users\\morit\\.conda\\envs\\pypsa-de\\Lib\\site-packages\\_plotly_utils\\basevalidators.py:2596: DeprecationWarning:\n",
      "\n",
      "*scattermapbox* is deprecated! Use *scattermap* instead. Learn more at: https://plotly.com/python/mapbox-to-maplibre/\n",
      "\n"
     ]
    },
    {
     "data": {
      "application/vnd.plotly.v1+json": {
       "config": {
        "plotlyServerURL": "https://plot.ly"
       },
       "data": [
        {
         "alignmentgroup": "True",
         "hovertemplate": "Type=Utility-scale battery<br>Scenario=1H Res, 1-Zone (DE)<br>Year=%{x}<br>Value [TWh]=%{y}<extra></extra>",
         "legendgroup": "Utility-scale battery, 1H Res, 1-Zone (DE)",
         "marker": {
          "color": "#636efa",
          "pattern": {
           "shape": ""
          }
         },
         "name": "Utility-scale battery, 1H Res, 1-Zone (DE)",
         "offsetgroup": "Utility-scale battery, 1H Res, 1-Zone (DE)",
         "orientation": "v",
         "showlegend": true,
         "textposition": "auto",
         "type": "bar",
         "x": {
          "bdata": "5AfpB+4H8wf4B/0HAgg=",
          "dtype": "i2"
         },
         "xaxis": "x",
         "y": {
          "bdata": "twPnaKuUAj8lsavJ9Kn/PlrWN27XzB5AmUiW6hhASkAdC/iftnRMQAqjA+/i+ktAYwTvl8qXUEA=",
          "dtype": "f8"
         },
         "yaxis": "y"
        },
        {
         "alignmentgroup": "True",
         "hovertemplate": "Type=Utility-scale battery<br>Scenario=Eigener Technologiemix Szenario Run<br>Year=%{x}<br>Value [TWh]=%{y}<extra></extra>",
         "legendgroup": "Utility-scale battery, Eigener Technologiemix Szenario Run",
         "marker": {
          "color": "#636efa",
          "pattern": {
           "shape": "/"
          }
         },
         "name": "Utility-scale battery, Eigener Technologiemix Szenario Run",
         "offsetgroup": "Utility-scale battery, Eigener Technologiemix Szenario Run",
         "orientation": "v",
         "showlegend": true,
         "textposition": "auto",
         "type": "bar",
         "x": {
          "bdata": "5AfpB+4H8wf4B/0HAgg=",
          "dtype": "i2"
         },
         "xaxis": "x",
         "y": {
          "bdata": "JdY3ulqbVz8CbO5DrmVJPx26/gPNXCVAVAN1yVtYUEDqHe86BtxVQPGu7yzQeFVAaMe4WJHWXEA=",
          "dtype": "f8"
         },
         "yaxis": "y"
        },
        {
         "alignmentgroup": "True",
         "hovertemplate": "Type=Utility-scale battery<br>Scenario=1-Zone (DE)<br>Year=%{x}<br>Value [TWh]=%{y}<extra></extra>",
         "legendgroup": "Utility-scale battery, 1-Zone (DE)",
         "marker": {
          "color": "#636efa",
          "pattern": {
           "shape": "\\"
          }
         },
         "name": "Utility-scale battery, 1-Zone (DE)",
         "offsetgroup": "Utility-scale battery, 1-Zone (DE)",
         "orientation": "v",
         "showlegend": true,
         "textposition": "auto",
         "type": "bar",
         "x": {
          "bdata": "5AfkB+kH7gfzB/gH/QcCCA==",
          "dtype": "i2"
         },
         "xaxis": "x",
         "y": {
          "bdata": "QGCxeLHuLD/GbXkL+V5aP96c3Ta/9yM/QDaY6N0aJkASeAm+PUlOQIwOaUUBLVBAnPvNhUJST0BCKl7meyZRQA==",
          "dtype": "f8"
         },
         "yaxis": "y"
        },
        {
         "alignmentgroup": "True",
         "hovertemplate": "Type=Utility-scale battery<br>Scenario=1H Res, 1-Zone (DE), Min. Home Battery<br>Year=%{x}<br>Value [TWh]=%{y}<extra></extra>",
         "legendgroup": "Utility-scale battery, 1H Res, 1-Zone (DE), Min. Home Battery",
         "marker": {
          "color": "#636efa",
          "pattern": {
           "shape": "x"
          }
         },
         "name": "Utility-scale battery, 1H Res, 1-Zone (DE), Min. Home Battery",
         "offsetgroup": "Utility-scale battery, 1H Res, 1-Zone (DE), Min. Home Battery",
         "orientation": "v",
         "showlegend": true,
         "textposition": "auto",
         "type": "bar",
         "x": {
          "bdata": "5AfpB+4H8wf4B/0HAgg=",
          "dtype": "i2"
         },
         "xaxis": "x",
         "y": {
          "bdata": "oiiasVBjAz8ajsbGCgj8PoOHwjh4Qxg/x+gOowliQUAatEcu2VBCQCqgIbBH6UJAfK7AHTKjTEA=",
          "dtype": "f8"
         },
         "yaxis": "y"
        },
        {
         "alignmentgroup": "True",
         "hovertemplate": "Type=Utility-scale battery<br>Scenario=Ariadne Report Technologiemix Szenario<br>Year=%{x}<br>Value [TWh]=%{y}<extra></extra>",
         "legendgroup": "Utility-scale battery, Ariadne Report Technologiemix Szenario",
         "marker": {
          "color": "#636efa",
          "pattern": {
           "shape": "+"
          }
         },
         "name": "Utility-scale battery, Ariadne Report Technologiemix Szenario",
         "offsetgroup": "Utility-scale battery, Ariadne Report Technologiemix Szenario",
         "orientation": "v",
         "showlegend": true,
         "textposition": "auto",
         "type": "bar",
         "x": {
          "bdata": "5AfpB+4H8wf4B/0H",
          "dtype": "i2"
         },
         "xaxis": "x",
         "y": {
          "bdata": "LNgG34qpqj9nk/IPdCKWP/xSWp90SCNA5eFLOSBWUkCCAcWRcJRZQLSlXuiyZVlA",
          "dtype": "f8"
         },
         "yaxis": "y"
        },
        {
         "alignmentgroup": "True",
         "hovertemplate": "Type=Home battery<br>Scenario=1H Res, 1-Zone (DE)<br>Year=%{x}<br>Value [TWh]=%{y}<extra></extra>",
         "legendgroup": "Home battery, 1H Res, 1-Zone (DE)",
         "marker": {
          "color": "#EF553B",
          "pattern": {
           "shape": ""
          }
         },
         "name": "Home battery, 1H Res, 1-Zone (DE)",
         "offsetgroup": "Home battery, 1H Res, 1-Zone (DE)",
         "orientation": "v",
         "showlegend": true,
         "textposition": "auto",
         "type": "bar",
         "x": {
          "bdata": "5AfpB+4H8wf4B/0HAgg=",
          "dtype": "i2"
         },
         "xaxis": "x",
         "y": {
          "bdata": "ZYYdkVND/j7YsD0JO4YDPwWefmj5ehFAUKSJuEJrIUAM1Mi1NRkiQHFVqKTQKh1ATlLOC79YHUA=",
          "dtype": "f8"
         },
         "yaxis": "y"
        },
        {
         "alignmentgroup": "True",
         "hovertemplate": "Type=Home battery<br>Scenario=Eigener Technologiemix Szenario Run<br>Year=%{x}<br>Value [TWh]=%{y}<extra></extra>",
         "legendgroup": "Home battery, Eigener Technologiemix Szenario Run",
         "marker": {
          "color": "#EF553B",
          "pattern": {
           "shape": "/"
          }
         },
         "name": "Home battery, Eigener Technologiemix Szenario Run",
         "offsetgroup": "Home battery, Eigener Technologiemix Szenario Run",
         "orientation": "v",
         "showlegend": true,
         "textposition": "auto",
         "type": "bar",
         "x": {
          "bdata": "5AfpB+4H8wf4B/0HAgg=",
          "dtype": "i2"
         },
         "xaxis": "x",
         "y": {
          "bdata": "81j/eqq9WT/vkHyhthpTP5GByVb8aeQ/qnZRO6xABUAN25HFxZgEQJfP4Fn8FwJAsl4hN3A3AUA=",
          "dtype": "f8"
         },
         "yaxis": "y"
        },
        {
         "alignmentgroup": "True",
         "hovertemplate": "Type=Home battery<br>Scenario=1-Zone (DE)<br>Year=%{x}<br>Value [TWh]=%{y}<extra></extra>",
         "legendgroup": "Home battery, 1-Zone (DE)",
         "marker": {
          "color": "#EF553B",
          "pattern": {
           "shape": "\\"
          }
         },
         "name": "Home battery, 1-Zone (DE)",
         "offsetgroup": "Home battery, 1-Zone (DE)",
         "orientation": "v",
         "showlegend": true,
         "textposition": "auto",
         "type": "bar",
         "x": {
          "bdata": "5AfkB+kH7gfzB/gH/QcCCA==",
          "dtype": "i2"
         },
         "xaxis": "x",
         "y": {
          "bdata": "5YtNVeB3Kj9QG1QKf0VaP8Z5ewSI2yw/IdYY/TNGFT8LyChNQzy+PxnEhUX7A7k/MWCC9dmAsz+Je7HasXayPw==",
          "dtype": "f8"
         },
         "yaxis": "y"
        },
        {
         "alignmentgroup": "True",
         "hovertemplate": "Type=Home battery<br>Scenario=1H Res, 1-Zone (DE), Min. Home Battery<br>Year=%{x}<br>Value [TWh]=%{y}<extra></extra>",
         "legendgroup": "Home battery, 1H Res, 1-Zone (DE), Min. Home Battery",
         "marker": {
          "color": "#EF553B",
          "pattern": {
           "shape": "x"
          }
         },
         "name": "Home battery, 1H Res, 1-Zone (DE), Min. Home Battery",
         "offsetgroup": "Home battery, 1H Res, 1-Zone (DE), Min. Home Battery",
         "orientation": "v",
         "showlegend": true,
         "textposition": "auto",
         "type": "bar",
         "x": {
          "bdata": "5AfpB+4H8wf4B/0HAgg=",
          "dtype": "i2"
         },
         "xaxis": "x",
         "y": {
          "bdata": "UyI/pRGZ/z5zuoDcpNoiQFB6aBZTzTFAOvQ4mpH+PUDSisQD8BQ+QLX9wq05DjpAZZBccgwiOEA=",
          "dtype": "f8"
         },
         "yaxis": "y"
        },
        {
         "alignmentgroup": "True",
         "hovertemplate": "Type=Home battery<br>Scenario=Ariadne Report Technologiemix Szenario<br>Year=%{x}<br>Value [TWh]=%{y}<extra></extra>",
         "legendgroup": "Home battery, Ariadne Report Technologiemix Szenario",
         "marker": {
          "color": "#EF553B",
          "pattern": {
           "shape": "+"
          }
         },
         "name": "Home battery, Ariadne Report Technologiemix Szenario",
         "offsetgroup": "Home battery, Ariadne Report Technologiemix Szenario",
         "orientation": "v",
         "showlegend": true,
         "textposition": "auto",
         "type": "bar",
         "x": {
          "bdata": "5AfpB+4H8wf4B/0H",
          "dtype": "i2"
         },
         "xaxis": "x",
         "y": {
          "bdata": "PumFBB3Tpj/aBRcg/9GzP2tHGmlcCac/6SEeuvXipD8WITdqns+eP+v2dlQ0SJ4/",
          "dtype": "f8"
         },
         "yaxis": "y"
        }
       ],
       "layout": {
        "barmode": "group",
        "legend": {
         "title": {
          "text": "Speichertyp / Szenario"
         },
         "tracegroupgap": 0
        },
        "template": {
         "data": {
          "bar": [
           {
            "error_x": {
             "color": "#2a3f5f"
            },
            "error_y": {
             "color": "#2a3f5f"
            },
            "marker": {
             "line": {
              "color": "#E5ECF6",
              "width": 0.5
             },
             "pattern": {
              "fillmode": "overlay",
              "size": 10,
              "solidity": 0.2
             }
            },
            "type": "bar"
           }
          ],
          "barpolar": [
           {
            "marker": {
             "line": {
              "color": "#E5ECF6",
              "width": 0.5
             },
             "pattern": {
              "fillmode": "overlay",
              "size": 10,
              "solidity": 0.2
             }
            },
            "type": "barpolar"
           }
          ],
          "carpet": [
           {
            "aaxis": {
             "endlinecolor": "#2a3f5f",
             "gridcolor": "white",
             "linecolor": "white",
             "minorgridcolor": "white",
             "startlinecolor": "#2a3f5f"
            },
            "baxis": {
             "endlinecolor": "#2a3f5f",
             "gridcolor": "white",
             "linecolor": "white",
             "minorgridcolor": "white",
             "startlinecolor": "#2a3f5f"
            },
            "type": "carpet"
           }
          ],
          "choropleth": [
           {
            "colorbar": {
             "outlinewidth": 0,
             "ticks": ""
            },
            "type": "choropleth"
           }
          ],
          "contour": [
           {
            "colorbar": {
             "outlinewidth": 0,
             "ticks": ""
            },
            "colorscale": [
             [
              0,
              "#0d0887"
             ],
             [
              0.1111111111111111,
              "#46039f"
             ],
             [
              0.2222222222222222,
              "#7201a8"
             ],
             [
              0.3333333333333333,
              "#9c179e"
             ],
             [
              0.4444444444444444,
              "#bd3786"
             ],
             [
              0.5555555555555556,
              "#d8576b"
             ],
             [
              0.6666666666666666,
              "#ed7953"
             ],
             [
              0.7777777777777778,
              "#fb9f3a"
             ],
             [
              0.8888888888888888,
              "#fdca26"
             ],
             [
              1,
              "#f0f921"
             ]
            ],
            "type": "contour"
           }
          ],
          "contourcarpet": [
           {
            "colorbar": {
             "outlinewidth": 0,
             "ticks": ""
            },
            "type": "contourcarpet"
           }
          ],
          "heatmap": [
           {
            "colorbar": {
             "outlinewidth": 0,
             "ticks": ""
            },
            "colorscale": [
             [
              0,
              "#0d0887"
             ],
             [
              0.1111111111111111,
              "#46039f"
             ],
             [
              0.2222222222222222,
              "#7201a8"
             ],
             [
              0.3333333333333333,
              "#9c179e"
             ],
             [
              0.4444444444444444,
              "#bd3786"
             ],
             [
              0.5555555555555556,
              "#d8576b"
             ],
             [
              0.6666666666666666,
              "#ed7953"
             ],
             [
              0.7777777777777778,
              "#fb9f3a"
             ],
             [
              0.8888888888888888,
              "#fdca26"
             ],
             [
              1,
              "#f0f921"
             ]
            ],
            "type": "heatmap"
           }
          ],
          "histogram": [
           {
            "marker": {
             "pattern": {
              "fillmode": "overlay",
              "size": 10,
              "solidity": 0.2
             }
            },
            "type": "histogram"
           }
          ],
          "histogram2d": [
           {
            "colorbar": {
             "outlinewidth": 0,
             "ticks": ""
            },
            "colorscale": [
             [
              0,
              "#0d0887"
             ],
             [
              0.1111111111111111,
              "#46039f"
             ],
             [
              0.2222222222222222,
              "#7201a8"
             ],
             [
              0.3333333333333333,
              "#9c179e"
             ],
             [
              0.4444444444444444,
              "#bd3786"
             ],
             [
              0.5555555555555556,
              "#d8576b"
             ],
             [
              0.6666666666666666,
              "#ed7953"
             ],
             [
              0.7777777777777778,
              "#fb9f3a"
             ],
             [
              0.8888888888888888,
              "#fdca26"
             ],
             [
              1,
              "#f0f921"
             ]
            ],
            "type": "histogram2d"
           }
          ],
          "histogram2dcontour": [
           {
            "colorbar": {
             "outlinewidth": 0,
             "ticks": ""
            },
            "colorscale": [
             [
              0,
              "#0d0887"
             ],
             [
              0.1111111111111111,
              "#46039f"
             ],
             [
              0.2222222222222222,
              "#7201a8"
             ],
             [
              0.3333333333333333,
              "#9c179e"
             ],
             [
              0.4444444444444444,
              "#bd3786"
             ],
             [
              0.5555555555555556,
              "#d8576b"
             ],
             [
              0.6666666666666666,
              "#ed7953"
             ],
             [
              0.7777777777777778,
              "#fb9f3a"
             ],
             [
              0.8888888888888888,
              "#fdca26"
             ],
             [
              1,
              "#f0f921"
             ]
            ],
            "type": "histogram2dcontour"
           }
          ],
          "mesh3d": [
           {
            "colorbar": {
             "outlinewidth": 0,
             "ticks": ""
            },
            "type": "mesh3d"
           }
          ],
          "parcoords": [
           {
            "line": {
             "colorbar": {
              "outlinewidth": 0,
              "ticks": ""
             }
            },
            "type": "parcoords"
           }
          ],
          "pie": [
           {
            "automargin": true,
            "type": "pie"
           }
          ],
          "scatter": [
           {
            "fillpattern": {
             "fillmode": "overlay",
             "size": 10,
             "solidity": 0.2
            },
            "type": "scatter"
           }
          ],
          "scatter3d": [
           {
            "line": {
             "colorbar": {
              "outlinewidth": 0,
              "ticks": ""
             }
            },
            "marker": {
             "colorbar": {
              "outlinewidth": 0,
              "ticks": ""
             }
            },
            "type": "scatter3d"
           }
          ],
          "scattercarpet": [
           {
            "marker": {
             "colorbar": {
              "outlinewidth": 0,
              "ticks": ""
             }
            },
            "type": "scattercarpet"
           }
          ],
          "scattergeo": [
           {
            "marker": {
             "colorbar": {
              "outlinewidth": 0,
              "ticks": ""
             }
            },
            "type": "scattergeo"
           }
          ],
          "scattergl": [
           {
            "marker": {
             "colorbar": {
              "outlinewidth": 0,
              "ticks": ""
             }
            },
            "type": "scattergl"
           }
          ],
          "scattermap": [
           {
            "marker": {
             "colorbar": {
              "outlinewidth": 0,
              "ticks": ""
             }
            },
            "type": "scattermap"
           }
          ],
          "scattermapbox": [
           {
            "marker": {
             "colorbar": {
              "outlinewidth": 0,
              "ticks": ""
             }
            },
            "type": "scattermapbox"
           }
          ],
          "scatterpolar": [
           {
            "marker": {
             "colorbar": {
              "outlinewidth": 0,
              "ticks": ""
             }
            },
            "type": "scatterpolar"
           }
          ],
          "scatterpolargl": [
           {
            "marker": {
             "colorbar": {
              "outlinewidth": 0,
              "ticks": ""
             }
            },
            "type": "scatterpolargl"
           }
          ],
          "scatterternary": [
           {
            "marker": {
             "colorbar": {
              "outlinewidth": 0,
              "ticks": ""
             }
            },
            "type": "scatterternary"
           }
          ],
          "surface": [
           {
            "colorbar": {
             "outlinewidth": 0,
             "ticks": ""
            },
            "colorscale": [
             [
              0,
              "#0d0887"
             ],
             [
              0.1111111111111111,
              "#46039f"
             ],
             [
              0.2222222222222222,
              "#7201a8"
             ],
             [
              0.3333333333333333,
              "#9c179e"
             ],
             [
              0.4444444444444444,
              "#bd3786"
             ],
             [
              0.5555555555555556,
              "#d8576b"
             ],
             [
              0.6666666666666666,
              "#ed7953"
             ],
             [
              0.7777777777777778,
              "#fb9f3a"
             ],
             [
              0.8888888888888888,
              "#fdca26"
             ],
             [
              1,
              "#f0f921"
             ]
            ],
            "type": "surface"
           }
          ],
          "table": [
           {
            "cells": {
             "fill": {
              "color": "#EBF0F8"
             },
             "line": {
              "color": "white"
             }
            },
            "header": {
             "fill": {
              "color": "#C8D4E3"
             },
             "line": {
              "color": "white"
             }
            },
            "type": "table"
           }
          ]
         },
         "layout": {
          "annotationdefaults": {
           "arrowcolor": "#2a3f5f",
           "arrowhead": 0,
           "arrowwidth": 1
          },
          "autotypenumbers": "strict",
          "coloraxis": {
           "colorbar": {
            "outlinewidth": 0,
            "ticks": ""
           }
          },
          "colorscale": {
           "diverging": [
            [
             0,
             "#8e0152"
            ],
            [
             0.1,
             "#c51b7d"
            ],
            [
             0.2,
             "#de77ae"
            ],
            [
             0.3,
             "#f1b6da"
            ],
            [
             0.4,
             "#fde0ef"
            ],
            [
             0.5,
             "#f7f7f7"
            ],
            [
             0.6,
             "#e6f5d0"
            ],
            [
             0.7,
             "#b8e186"
            ],
            [
             0.8,
             "#7fbc41"
            ],
            [
             0.9,
             "#4d9221"
            ],
            [
             1,
             "#276419"
            ]
           ],
           "sequential": [
            [
             0,
             "#0d0887"
            ],
            [
             0.1111111111111111,
             "#46039f"
            ],
            [
             0.2222222222222222,
             "#7201a8"
            ],
            [
             0.3333333333333333,
             "#9c179e"
            ],
            [
             0.4444444444444444,
             "#bd3786"
            ],
            [
             0.5555555555555556,
             "#d8576b"
            ],
            [
             0.6666666666666666,
             "#ed7953"
            ],
            [
             0.7777777777777778,
             "#fb9f3a"
            ],
            [
             0.8888888888888888,
             "#fdca26"
            ],
            [
             1,
             "#f0f921"
            ]
           ],
           "sequentialminus": [
            [
             0,
             "#0d0887"
            ],
            [
             0.1111111111111111,
             "#46039f"
            ],
            [
             0.2222222222222222,
             "#7201a8"
            ],
            [
             0.3333333333333333,
             "#9c179e"
            ],
            [
             0.4444444444444444,
             "#bd3786"
            ],
            [
             0.5555555555555556,
             "#d8576b"
            ],
            [
             0.6666666666666666,
             "#ed7953"
            ],
            [
             0.7777777777777778,
             "#fb9f3a"
            ],
            [
             0.8888888888888888,
             "#fdca26"
            ],
            [
             1,
             "#f0f921"
            ]
           ]
          },
          "colorway": [
           "#636efa",
           "#EF553B",
           "#00cc96",
           "#ab63fa",
           "#FFA15A",
           "#19d3f3",
           "#FF6692",
           "#B6E880",
           "#FF97FF",
           "#FECB52"
          ],
          "font": {
           "color": "#2a3f5f"
          },
          "geo": {
           "bgcolor": "white",
           "lakecolor": "white",
           "landcolor": "#E5ECF6",
           "showlakes": true,
           "showland": true,
           "subunitcolor": "white"
          },
          "hoverlabel": {
           "align": "left"
          },
          "hovermode": "closest",
          "mapbox": {
           "style": "light"
          },
          "paper_bgcolor": "white",
          "plot_bgcolor": "#E5ECF6",
          "polar": {
           "angularaxis": {
            "gridcolor": "white",
            "linecolor": "white",
            "ticks": ""
           },
           "bgcolor": "#E5ECF6",
           "radialaxis": {
            "gridcolor": "white",
            "linecolor": "white",
            "ticks": ""
           }
          },
          "scene": {
           "xaxis": {
            "backgroundcolor": "#E5ECF6",
            "gridcolor": "white",
            "gridwidth": 2,
            "linecolor": "white",
            "showbackground": true,
            "ticks": "",
            "zerolinecolor": "white"
           },
           "yaxis": {
            "backgroundcolor": "#E5ECF6",
            "gridcolor": "white",
            "gridwidth": 2,
            "linecolor": "white",
            "showbackground": true,
            "ticks": "",
            "zerolinecolor": "white"
           },
           "zaxis": {
            "backgroundcolor": "#E5ECF6",
            "gridcolor": "white",
            "gridwidth": 2,
            "linecolor": "white",
            "showbackground": true,
            "ticks": "",
            "zerolinecolor": "white"
           }
          },
          "shapedefaults": {
           "line": {
            "color": "#2a3f5f"
           }
          },
          "ternary": {
           "aaxis": {
            "gridcolor": "white",
            "linecolor": "white",
            "ticks": ""
           },
           "baxis": {
            "gridcolor": "white",
            "linecolor": "white",
            "ticks": ""
           },
           "bgcolor": "#E5ECF6",
           "caxis": {
            "gridcolor": "white",
            "linecolor": "white",
            "ticks": ""
           }
          },
          "title": {
           "x": 0.05
          },
          "xaxis": {
           "automargin": true,
           "gridcolor": "white",
           "linecolor": "white",
           "ticks": "",
           "title": {
            "standoff": 15
           },
           "zerolinecolor": "white",
           "zerolinewidth": 2
          },
          "yaxis": {
           "automargin": true,
           "gridcolor": "white",
           "linecolor": "white",
           "ticks": "",
           "title": {
            "standoff": 15
           },
           "zerolinecolor": "white",
           "zerolinewidth": 2
          }
         }
        },
        "title": {
         "text": "Jährliche Strombereitstellung durch Batterietechnologien (TWh) – alle Szenarien"
        },
        "xaxis": {
         "anchor": "y",
         "domain": [
          0,
          1
         ],
         "title": {
          "text": "Jahr"
         }
        },
        "yaxis": {
         "anchor": "x",
         "domain": [
          0,
          1
         ],
         "title": {
          "text": "Bereitstellung [TWh]"
         }
        }
       }
      }
     },
     "metadata": {},
     "output_type": "display_data"
    }
   ],
   "source": [
    "import plotly.express as px\n",
    "\n",
    "# -----------------------------------------------------------------------------\n",
    "# 1. Kombinierte Plot‐Version: Entladeleistung (GW) je Speichertyp und Szenario\n",
    "# -----------------------------------------------------------------------------\n",
    "#\n",
    "# Hier nutzen wir df_power mit den Spalten [\"Scenario\", \"Year\", \"Type\", \"Value [GW]\"].\n",
    "# Wir zeichnen pro (Type, Scenario) eine eigene Linie, indem wir color=\"Type\"\n",
    "# beibehalten und zusätzlich line_dash=\"Scenario\" setzen.\n",
    "\n",
    "fig_gw_all = px.line(\n",
    "    df_power,\n",
    "    x=\"Year\",\n",
    "    y=\"Value [GW]\",\n",
    "    color=\"Type\",          # gleiche Farben für jeden Speichertyp\n",
    "    line_dash=\"Scenario\",  # unterschiedliche Linientypen (Strichmuster) für jedes Szenario\n",
    "    title=\"Entladeleistung von Batteriespeichern in Deutschland (GW) – alle Szenarien\",\n",
    "    markers=True\n",
    ")\n",
    "\n",
    "fig_gw_all.update_layout(\n",
    "    xaxis_title=\"Jahr\",\n",
    "    yaxis_title=\"Entladeleistung [GW]\",\n",
    "    legend_title_text=\"Speichertyp / Szenario\"\n",
    ")\n",
    "\n",
    "fig_gw_all.show()\n",
    "\n",
    "\n",
    "\n",
    "# -----------------------------------------------------------------------------\n",
    "# 2. Kombinierte Plot‐Version: Energiespeicherkapazität (GWh) je Speichertyp und Szenario\n",
    "# -----------------------------------------------------------------------------\n",
    "#\n",
    "# Hier nutzen wir df_energy mit den Spalten [\"Scenario\", \"Year\", \"Type\", \"Value [GWh]\"].\n",
    "# Auch hier farblich nach Speichertyp, dash‐Linienmuster nach Szenario.\n",
    "\n",
    "fig_gwh_all = px.line(\n",
    "    df_energy,\n",
    "    x=\"Year\",\n",
    "    y=\"Value [GWh]\",\n",
    "    color=\"Type\",\n",
    "    line_dash=\"Scenario\",\n",
    "    title=\"Energiespeicherkapazität von Batteriespeichern in Deutschland (GWh) – alle Szenarien\",\n",
    "    markers=True\n",
    ")\n",
    "\n",
    "fig_gwh_all.update_layout(\n",
    "    xaxis_title=\"Jahr\",\n",
    "    yaxis_title=\"Kapazität [GWh]\",\n",
    "    legend_title_text=\"Speichertyp / Szenario\"\n",
    ")\n",
    "\n",
    "fig_gwh_all.show()\n",
    "\n",
    "\n",
    "\n",
    "# -----------------------------------------------------------------------------\n",
    "# 3. Kombinierte Plot‐Version: Jährliche Strombereitstellung (TWh) je Speichertyp und Szenario\n",
    "# -----------------------------------------------------------------------------\n",
    "#\n",
    "# Für df_discharge ([\"Scenario\",\"Year\",\"Type\",\"Value [TWh]\"]) mappen wir zunächst\n",
    "# die Carrier‐Namen auf lesbare Speichertypen, dann nutzen wir color=\"Type\"\n",
    "# und line_dash=\"Scenario\". Da es sich um eine Bar‐Chart handelt, verwenden wir\n",
    "# allerdings px.bar(). Leider kennt px.bar() kein line_dash, deshalb erstellen wir hier\n",
    "# ein umgebendes Facet für Scenario und color für Type, alle in einem Bild:\n",
    "#\n",
    "#    – color=\"Type\" unterscheidet die Balkenfarben nach Speichertyp\n",
    "#    – pattern_shape=\"Scenario\" („Füllmuster“) trennt zusätzlich die Szenarien;\n",
    "#      Plotly Express unterstützt pattern_shape mittlerweile auch bei bar‐Plots.\n",
    "#\n",
    "# Wenn dein Plotly-Upstream diese Version noch nicht unterstützt, kannst du alternativ\n",
    "# alle Szenarien mit opacity (Transparenz) überlagern oder auf eine reine Linien‐Variante\n",
    "# (px.line mit statistics) zurückgreifen – im Folgenden zeige ich die pattern_shape‐Variante.\n",
    "\n",
    "carrier_map = {\n",
    "    \"battery discharger\":      \"Utility-scale battery\",\n",
    "    \"home battery discharger\": \"Home battery\",\n",
    "    \"V2G\":                     \"EV battery\"\n",
    "}\n",
    "\n",
    "df_discharge_plot = df_discharge.copy()\n",
    "df_discharge_plot[\"Type\"] = df_discharge_plot[\"Type\"].map(carrier_map)\n",
    "\n",
    "# px.bar mit pattern_shape\n",
    "fig_discharge_all = px.bar(\n",
    "    df_discharge_plot,\n",
    "    x=\"Year\",\n",
    "    y=\"Value [TWh]\",\n",
    "    color=\"Type\",\n",
    "    pattern_shape=\"Scenario\",\n",
    "    barmode=\"group\",\n",
    "    title=\"Jährliche Strombereitstellung durch Batterietechnologien (TWh) – alle Szenarien\"\n",
    ")\n",
    "\n",
    "fig_discharge_all.update_layout(\n",
    "    xaxis_title=\"Jahr\",\n",
    "    yaxis_title=\"Bereitstellung [TWh]\",\n",
    "    legend_title_text=\"Speichertyp / Szenario\"\n",
    ")\n",
    "\n",
    "fig_discharge_all.show()\n",
    "\n",
    "# 2. Figuren in diesem Ordner speichern\n",
    "plots = {\n",
    "    \"entladeleistung\":    fig_gw_all,\n",
    "    \"kapazitaet\":         fig_gwh_all,\n",
    "    \"bereitstellung\":     fig_discharge_all\n",
    "}\n",
    "\n",
    "for name, fig in plots.items():\n",
    "    fig.write_html(\n",
    "        os.path.join(\"Plots_MA\", f\"plot_{name}.html\"),\n",
    "        include_plotlyjs=\"cdn\",\n",
    "        full_html=True\n",
    "    )"
   ]
  },
  {
   "cell_type": "code",
   "execution_count": 41,
   "id": "020a4e31",
   "metadata": {},
   "outputs": [
    {
     "name": "stderr",
     "output_type": "stream",
     "text": [
      "c:\\Users\\morit\\.conda\\envs\\pypsa-de\\Lib\\site-packages\\_plotly_utils\\basevalidators.py:2596: DeprecationWarning:\n",
      "\n",
      "*scattermapbox* is deprecated! Use *scattermap* instead. Learn more at: https://plotly.com/python/mapbox-to-maplibre/\n",
      "\n"
     ]
    },
    {
     "data": {
      "application/vnd.plotly.v1+json": {
       "config": {
        "plotlyServerURL": "https://plot.ly"
       },
       "data": [
        {
         "line": {
          "color": "blue",
          "dash": "dot"
         },
         "mode": "lines+markers",
         "name": "KN2045_Mix: BEV charger – Max",
         "type": "scatter",
         "x": {
          "bdata": "5AfpB+4H8wf4B/0HAgg=",
          "dtype": "i2"
         },
         "y": {
          "bdata": "aCDmpkvlOEBNmCy9+KtSQE2YLL34q2JAdeTCG/UBbEBcXAkyosh1QG6CVGGgc3pAe0Yx1kmQfUA=",
          "dtype": "f8"
         }
        },
        {
         "fill": "toself",
         "fillcolor": "rgba(0, 180, 255, 0.2)",
         "hoverinfo": "skip",
         "line": {
          "color": "rgba(255,255,255,0)"
         },
         "name": "KN2045_Mix: BEV charger – Range",
         "showlegend": false,
         "type": "scatter",
         "x": [
          2020,
          2025,
          2030,
          2035,
          2040,
          2045,
          2050,
          2050,
          2045,
          2040,
          2035,
          2030,
          2025,
          2020
         ],
         "y": [
          24.89568560713124,
          74.68705682139371,
          149.37411364278742,
          224.06117046418117,
          348.53959849983744,
          423.2266553212311,
          473.01802653549356,
          311.53521732094737,
          278.7420365503213,
          229.55226539438223,
          147.56931346781718,
          98.37954231187811,
          49.189771155939056,
          16.396590385313022
         ]
        },
        {
         "line": {
          "color": "violet",
          "dash": "dot"
         },
         "mode": "lines+markers",
         "name": "KN2045_Mix: BEV charger – Min",
         "type": "scatter",
         "x": {
          "bdata": "5AfpB+4H8wf4B/0HAgg=",
          "dtype": "i2"
         },
         "y": {
          "bdata": "1dOO8oZlMEC+PdZrSphIQL491mtKmFhAT67g0DdyYkCy8nkorLFsQBHBt2Hfa3FAjJsJQJB4c0A=",
          "dtype": "f8"
         }
        },
        {
         "line": {
          "color": "green",
          "width": 2
         },
         "mode": "lines+markers",
         "name": "KN2045_Mix: BEV charger – Mean",
         "type": "scatter",
         "x": {
          "bdata": "5AfpB+4H8wf4B/0HAgg=",
          "dtype": "i2"
         },
         "y": {
          "bdata": "evQXRMGNNEC17iPmodROQLXuI+ah1F5ACPOabHkfZ0Dp9ZQbCfxxQMFzWVid1nVAT3LcgFVoeEA=",
          "dtype": "f8"
         }
        },
        {
         "line": {
          "color": "blue",
          "dash": "dot"
         },
         "mode": "lines+markers",
         "name": "KN2045_Mix_3H: BEV charger – Max",
         "type": "scatter",
         "x": {
          "bdata": "5AfpB+4H8wf4B/0HAgg=",
          "dtype": "i2"
         },
         "y": {
          "bdata": "aCDmpkvlOEBNmCy9+KtSQE2YLL34q2JAdeTCG/UBbEBcXAkyosh1QG6CVGGgc3pAe0Yx1kmQfUA=",
          "dtype": "f8"
         }
        },
        {
         "fill": "toself",
         "fillcolor": "rgba(0, 180, 255, 0.2)",
         "hoverinfo": "skip",
         "line": {
          "color": "rgba(255,255,255,0)"
         },
         "name": "KN2045_Mix_3H: BEV charger – Range",
         "showlegend": false,
         "type": "scatter",
         "x": [
          2020,
          2025,
          2030,
          2035,
          2040,
          2045,
          2050,
          2050,
          2045,
          2040,
          2035,
          2030,
          2025,
          2020
         ],
         "y": [
          24.89568560713124,
          74.68705682139371,
          149.37411364278742,
          224.06117046418117,
          348.53959849983744,
          423.2266553212311,
          473.01802653549356,
          312.80470970716425,
          279.87789815904165,
          230.48768083685783,
          148.1706519665515,
          98.78043464436765,
          49.39021732218382,
          16.463405774061275
         ]
        },
        {
         "line": {
          "color": "violet",
          "dash": "dot"
         },
         "mode": "lines+markers",
         "name": "KN2045_Mix_3H: BEV charger – Min",
         "type": "scatter",
         "x": {
          "bdata": "5AfpB+4H8wf4B/0HAgg=",
          "dtype": "i2"
         },
         "y": {
          "bdata": "6V7EwqF2MEBdjiak8rFIQF2OJqTysVhAx+oc+3WFYkAXptcUm89sQNek8N4LfnFAtTBJF+CMc0A=",
          "dtype": "f8"
         }
        },
        {
         "line": {
          "color": "green",
          "width": 2
         },
         "mode": "lines+markers",
         "name": "KN2045_Mix_3H: BEV charger – Mean",
         "type": "scatter",
         "x": {
          "bdata": "5AfpB+4H8wf4B/0HAgg=",
          "dtype": "i2"
         },
         "y": {
          "bdata": "dZRqPM/+NECv3p/aNn5PQK/en9o2fl9ABOf3I6meZ0DlQd1U9V5yQLs9MTC8TnZAS5C+F5bueEA=",
          "dtype": "f8"
         }
        },
        {
         "line": {
          "color": "blue",
          "dash": "dot"
         },
         "mode": "lines+markers",
         "name": "KN2045_Mix_Base: BEV charger – Max",
         "type": "scatter",
         "x": {
          "bdata": "5AfpB+4H8wf4B/0HAgg=",
          "dtype": "i2"
         },
         "y": {
          "bdata": "MBbcAuEANUBIIUqEUYFPQEghSoRRgV9A9pg3I/2gZ0Bpk4DixGByQJLXCRPvUHZAWVplMwvxeEA=",
          "dtype": "f8"
         }
        },
        {
         "fill": "toself",
         "fillcolor": "rgba(0, 180, 255, 0.2)",
         "hoverinfo": "skip",
         "line": {
          "color": "rgba(255,255,255,0)"
         },
         "name": "KN2045_Mix_Base: BEV charger – Range",
         "showlegend": false,
         "type": "scatter",
         "x": [
          2020,
          2025,
          2030,
          2035,
          2040,
          2045,
          2050,
          2050,
          2045,
          2040,
          2035,
          2030,
          2025,
          2020
         ],
         "y": [
          21.003433397991273,
          63.01030019397382,
          126.02060038794764,
          189.03090058192146,
          294.04806757187777,
          357.0583677658516,
          399.0652345618342,
          398.66146699206035,
          356.69710204552774,
          293.7505546257287,
          188.839642259397,
          125.893094839598,
          62.946547419799,
          20.982182473266334
         ]
        },
        {
         "line": {
          "color": "violet",
          "dash": "dot"
         },
         "mode": "lines+markers",
         "name": "KN2045_Mix_Base: BEV charger – Min",
         "type": "scatter",
         "x": {
          "bdata": "5AfpB+4H8wf4B/0HAgg=",
          "dtype": "i2"
         },
         "y": {
          "bdata": "IGKBT3D7NEAwE0J3KHlPQDATQncoeV9AZI5xWd6aZ0DcNZFFAlxyQEN4eVQnS3ZAhqRpXpXqeEA=",
          "dtype": "f8"
         }
        },
        {
         "line": {
          "color": "green",
          "width": 2
         },
         "mode": "lines+markers",
         "name": "KN2045_Mix_Base: BEV charger – Mean",
         "type": "scatter",
         "x": {
          "bdata": "5AfpB+4H8wf4B/0HAgg=",
          "dtype": "i2"
         },
         "y": {
          "bdata": "d5RqPM/+NECx3p/aNn5PQLHen9o2fl9ABef3I6meZ0DnQd1U9V5yQL09MTC8TnZATZC+F5bueEA=",
          "dtype": "f8"
         }
        },
        {
         "mode": "lines+markers",
         "name": "KN2045_Mix: Utility-scale battery",
         "type": "scatter",
         "x": {
          "bdata": "5AfpB+4H8wf4B/0HAgg=",
          "dtype": "i2"
         },
         "y": {
          "bdata": "6f46yCZTgz8UdIt1o9ZBPzPM4MbB0RBAmKdKiOu3P0A4lv4v++9GQDoizHy4CUdApa19a6nlUEA=",
          "dtype": "f8"
         }
        },
        {
         "mode": "lines+markers",
         "name": "KN2045_Mix_3H: Utility-scale battery",
         "type": "scatter",
         "x": {
          "bdata": "5AfpB+4H8wf4B/0HAgg=",
          "dtype": "i2"
         },
         "y": {
          "bdata": "9tgKXYTPQD+wJs/ARQhAPypvP6NXBhJAUqVHdXAyQECqIYx0n69HQPa186Csr0dAaO2L4yogUEA=",
          "dtype": "f8"
         }
        },
        {
         "mode": "lines+markers",
         "name": "KN2045_Mix_Base: Utility-scale battery",
         "type": "scatter",
         "x": {
          "bdata": "5AfpB+4H8wf4B/0HAgg=",
          "dtype": "i2"
         },
         "y": {
          "bdata": "Qru3Y4CneD57FEQTSLBFPcHKdQmvBUQ9JPWayNTXuj7j1QLw919HPY/aVD0enBg9smmNGWbRET0=",
          "dtype": "f8"
         }
        },
        {
         "mode": "lines+markers",
         "name": "KN2045_Mix: Home battery",
         "type": "scatter",
         "x": {
          "bdata": "5AfpB+4H8wf4B/0HAgg=",
          "dtype": "i2"
         },
         "y": {
          "bdata": "Vvvmp3l+0j+S0bqKxbkCQJuX9gAarABAUMh9QbkOHUDjBJLcogEfQGbqJBt4DhVAVLuzJ8McFkA=",
          "dtype": "f8"
         }
        },
        {
         "mode": "lines+markers",
         "name": "KN2045_Mix_3H: Home battery",
         "type": "scatter",
         "x": {
          "bdata": "5AfpB+4H8wf4B/0HAgg=",
          "dtype": "i2"
         },
         "y": {
          "bdata": "rnurqi3iSD/H9vKi5jhKP/A90oz8HeE/5Lk54uzh/z8hrbic2Hb7P/PNdBIOP/M/AY/Zz3dV8z8=",
          "dtype": "f8"
         }
        },
        {
         "mode": "lines+markers",
         "name": "KN2045_Mix_Base: Home battery",
         "type": "scatter",
         "x": {
          "bdata": "5AfpB+4H8wf4B/0HAgg=",
          "dtype": "i2"
         },
         "y": {
          "bdata": "L37O4C6PcT4S3gt8I84RQLo8vCKD3zRAmKJEQ6ADQ0D8k2zWBCZLQN06JuMsd05A2zom4yx3TkA=",
          "dtype": "f8"
         }
        },
        {
         "mode": "lines+markers",
         "name": "KN2045_Mix: EV battery",
         "type": "scatter",
         "x": {
          "bdata": "5AfpB+4H8wf4B/0HAgg=",
          "dtype": "i2"
         },
         "y": {
          "bdata": "sG0H2Wg+OkBEksWizq5TQESSxaLOrmNAZlso9DWGbUD6f+a9m/Z2QIvkl2ZP4ntAQtK4gRwqf0A=",
          "dtype": "f8"
         }
        },
        {
         "mode": "lines+markers",
         "name": "KN2045_Mix_3H: EV battery",
         "type": "scatter",
         "x": {
          "bdata": "5AfpB+4H8wf4B/0HAgg=",
          "dtype": "i2"
         },
         "y": {
          "bdata": "sG0H2Wg+OkBEksWizq5TQESSxaLOrmNAZlso9DWGbUD6f+a9m/Z2QIvkl2ZP4ntAQtK4gRwqf0A=",
          "dtype": "f8"
         }
        },
        {
         "mode": "lines+markers",
         "name": "KN2045_Mix_Base: EV battery",
         "type": "scatter",
         "x": {
          "bdata": "5AfpB+4H8wf4B/0HAgg=",
          "dtype": "i2"
         },
         "y": {
          "bdata": "sm0H2Wg+OkBGksWizq5TQEaSxaLOrmNAaFso9DWGbUD8f+a9m/Z2QI3kl2ZP4ntARNK4gRwqf0A=",
          "dtype": "f8"
         }
        }
       ],
       "layout": {
        "legend": {
         "itemsizing": "constant",
         "orientation": "v",
         "title": {
          "text": "Szenario / Typ"
         },
         "traceorder": "normal",
         "x": 1.02,
         "xanchor": "left",
         "y": 0.95,
         "yanchor": "top"
        },
        "template": {
         "data": {
          "bar": [
           {
            "error_x": {
             "color": "#2a3f5f"
            },
            "error_y": {
             "color": "#2a3f5f"
            },
            "marker": {
             "line": {
              "color": "white",
              "width": 0.5
             },
             "pattern": {
              "fillmode": "overlay",
              "size": 10,
              "solidity": 0.2
             }
            },
            "type": "bar"
           }
          ],
          "barpolar": [
           {
            "marker": {
             "line": {
              "color": "white",
              "width": 0.5
             },
             "pattern": {
              "fillmode": "overlay",
              "size": 10,
              "solidity": 0.2
             }
            },
            "type": "barpolar"
           }
          ],
          "carpet": [
           {
            "aaxis": {
             "endlinecolor": "#2a3f5f",
             "gridcolor": "#C8D4E3",
             "linecolor": "#C8D4E3",
             "minorgridcolor": "#C8D4E3",
             "startlinecolor": "#2a3f5f"
            },
            "baxis": {
             "endlinecolor": "#2a3f5f",
             "gridcolor": "#C8D4E3",
             "linecolor": "#C8D4E3",
             "minorgridcolor": "#C8D4E3",
             "startlinecolor": "#2a3f5f"
            },
            "type": "carpet"
           }
          ],
          "choropleth": [
           {
            "colorbar": {
             "outlinewidth": 0,
             "ticks": ""
            },
            "type": "choropleth"
           }
          ],
          "contour": [
           {
            "colorbar": {
             "outlinewidth": 0,
             "ticks": ""
            },
            "colorscale": [
             [
              0,
              "#0d0887"
             ],
             [
              0.1111111111111111,
              "#46039f"
             ],
             [
              0.2222222222222222,
              "#7201a8"
             ],
             [
              0.3333333333333333,
              "#9c179e"
             ],
             [
              0.4444444444444444,
              "#bd3786"
             ],
             [
              0.5555555555555556,
              "#d8576b"
             ],
             [
              0.6666666666666666,
              "#ed7953"
             ],
             [
              0.7777777777777778,
              "#fb9f3a"
             ],
             [
              0.8888888888888888,
              "#fdca26"
             ],
             [
              1,
              "#f0f921"
             ]
            ],
            "type": "contour"
           }
          ],
          "contourcarpet": [
           {
            "colorbar": {
             "outlinewidth": 0,
             "ticks": ""
            },
            "type": "contourcarpet"
           }
          ],
          "heatmap": [
           {
            "colorbar": {
             "outlinewidth": 0,
             "ticks": ""
            },
            "colorscale": [
             [
              0,
              "#0d0887"
             ],
             [
              0.1111111111111111,
              "#46039f"
             ],
             [
              0.2222222222222222,
              "#7201a8"
             ],
             [
              0.3333333333333333,
              "#9c179e"
             ],
             [
              0.4444444444444444,
              "#bd3786"
             ],
             [
              0.5555555555555556,
              "#d8576b"
             ],
             [
              0.6666666666666666,
              "#ed7953"
             ],
             [
              0.7777777777777778,
              "#fb9f3a"
             ],
             [
              0.8888888888888888,
              "#fdca26"
             ],
             [
              1,
              "#f0f921"
             ]
            ],
            "type": "heatmap"
           }
          ],
          "histogram": [
           {
            "marker": {
             "pattern": {
              "fillmode": "overlay",
              "size": 10,
              "solidity": 0.2
             }
            },
            "type": "histogram"
           }
          ],
          "histogram2d": [
           {
            "colorbar": {
             "outlinewidth": 0,
             "ticks": ""
            },
            "colorscale": [
             [
              0,
              "#0d0887"
             ],
             [
              0.1111111111111111,
              "#46039f"
             ],
             [
              0.2222222222222222,
              "#7201a8"
             ],
             [
              0.3333333333333333,
              "#9c179e"
             ],
             [
              0.4444444444444444,
              "#bd3786"
             ],
             [
              0.5555555555555556,
              "#d8576b"
             ],
             [
              0.6666666666666666,
              "#ed7953"
             ],
             [
              0.7777777777777778,
              "#fb9f3a"
             ],
             [
              0.8888888888888888,
              "#fdca26"
             ],
             [
              1,
              "#f0f921"
             ]
            ],
            "type": "histogram2d"
           }
          ],
          "histogram2dcontour": [
           {
            "colorbar": {
             "outlinewidth": 0,
             "ticks": ""
            },
            "colorscale": [
             [
              0,
              "#0d0887"
             ],
             [
              0.1111111111111111,
              "#46039f"
             ],
             [
              0.2222222222222222,
              "#7201a8"
             ],
             [
              0.3333333333333333,
              "#9c179e"
             ],
             [
              0.4444444444444444,
              "#bd3786"
             ],
             [
              0.5555555555555556,
              "#d8576b"
             ],
             [
              0.6666666666666666,
              "#ed7953"
             ],
             [
              0.7777777777777778,
              "#fb9f3a"
             ],
             [
              0.8888888888888888,
              "#fdca26"
             ],
             [
              1,
              "#f0f921"
             ]
            ],
            "type": "histogram2dcontour"
           }
          ],
          "mesh3d": [
           {
            "colorbar": {
             "outlinewidth": 0,
             "ticks": ""
            },
            "type": "mesh3d"
           }
          ],
          "parcoords": [
           {
            "line": {
             "colorbar": {
              "outlinewidth": 0,
              "ticks": ""
             }
            },
            "type": "parcoords"
           }
          ],
          "pie": [
           {
            "automargin": true,
            "type": "pie"
           }
          ],
          "scatter": [
           {
            "fillpattern": {
             "fillmode": "overlay",
             "size": 10,
             "solidity": 0.2
            },
            "type": "scatter"
           }
          ],
          "scatter3d": [
           {
            "line": {
             "colorbar": {
              "outlinewidth": 0,
              "ticks": ""
             }
            },
            "marker": {
             "colorbar": {
              "outlinewidth": 0,
              "ticks": ""
             }
            },
            "type": "scatter3d"
           }
          ],
          "scattercarpet": [
           {
            "marker": {
             "colorbar": {
              "outlinewidth": 0,
              "ticks": ""
             }
            },
            "type": "scattercarpet"
           }
          ],
          "scattergeo": [
           {
            "marker": {
             "colorbar": {
              "outlinewidth": 0,
              "ticks": ""
             }
            },
            "type": "scattergeo"
           }
          ],
          "scattergl": [
           {
            "marker": {
             "colorbar": {
              "outlinewidth": 0,
              "ticks": ""
             }
            },
            "type": "scattergl"
           }
          ],
          "scattermap": [
           {
            "marker": {
             "colorbar": {
              "outlinewidth": 0,
              "ticks": ""
             }
            },
            "type": "scattermap"
           }
          ],
          "scattermapbox": [
           {
            "marker": {
             "colorbar": {
              "outlinewidth": 0,
              "ticks": ""
             }
            },
            "type": "scattermapbox"
           }
          ],
          "scatterpolar": [
           {
            "marker": {
             "colorbar": {
              "outlinewidth": 0,
              "ticks": ""
             }
            },
            "type": "scatterpolar"
           }
          ],
          "scatterpolargl": [
           {
            "marker": {
             "colorbar": {
              "outlinewidth": 0,
              "ticks": ""
             }
            },
            "type": "scatterpolargl"
           }
          ],
          "scatterternary": [
           {
            "marker": {
             "colorbar": {
              "outlinewidth": 0,
              "ticks": ""
             }
            },
            "type": "scatterternary"
           }
          ],
          "surface": [
           {
            "colorbar": {
             "outlinewidth": 0,
             "ticks": ""
            },
            "colorscale": [
             [
              0,
              "#0d0887"
             ],
             [
              0.1111111111111111,
              "#46039f"
             ],
             [
              0.2222222222222222,
              "#7201a8"
             ],
             [
              0.3333333333333333,
              "#9c179e"
             ],
             [
              0.4444444444444444,
              "#bd3786"
             ],
             [
              0.5555555555555556,
              "#d8576b"
             ],
             [
              0.6666666666666666,
              "#ed7953"
             ],
             [
              0.7777777777777778,
              "#fb9f3a"
             ],
             [
              0.8888888888888888,
              "#fdca26"
             ],
             [
              1,
              "#f0f921"
             ]
            ],
            "type": "surface"
           }
          ],
          "table": [
           {
            "cells": {
             "fill": {
              "color": "#EBF0F8"
             },
             "line": {
              "color": "white"
             }
            },
            "header": {
             "fill": {
              "color": "#C8D4E3"
             },
             "line": {
              "color": "white"
             }
            },
            "type": "table"
           }
          ]
         },
         "layout": {
          "annotationdefaults": {
           "arrowcolor": "#2a3f5f",
           "arrowhead": 0,
           "arrowwidth": 1
          },
          "autotypenumbers": "strict",
          "coloraxis": {
           "colorbar": {
            "outlinewidth": 0,
            "ticks": ""
           }
          },
          "colorscale": {
           "diverging": [
            [
             0,
             "#8e0152"
            ],
            [
             0.1,
             "#c51b7d"
            ],
            [
             0.2,
             "#de77ae"
            ],
            [
             0.3,
             "#f1b6da"
            ],
            [
             0.4,
             "#fde0ef"
            ],
            [
             0.5,
             "#f7f7f7"
            ],
            [
             0.6,
             "#e6f5d0"
            ],
            [
             0.7,
             "#b8e186"
            ],
            [
             0.8,
             "#7fbc41"
            ],
            [
             0.9,
             "#4d9221"
            ],
            [
             1,
             "#276419"
            ]
           ],
           "sequential": [
            [
             0,
             "#0d0887"
            ],
            [
             0.1111111111111111,
             "#46039f"
            ],
            [
             0.2222222222222222,
             "#7201a8"
            ],
            [
             0.3333333333333333,
             "#9c179e"
            ],
            [
             0.4444444444444444,
             "#bd3786"
            ],
            [
             0.5555555555555556,
             "#d8576b"
            ],
            [
             0.6666666666666666,
             "#ed7953"
            ],
            [
             0.7777777777777778,
             "#fb9f3a"
            ],
            [
             0.8888888888888888,
             "#fdca26"
            ],
            [
             1,
             "#f0f921"
            ]
           ],
           "sequentialminus": [
            [
             0,
             "#0d0887"
            ],
            [
             0.1111111111111111,
             "#46039f"
            ],
            [
             0.2222222222222222,
             "#7201a8"
            ],
            [
             0.3333333333333333,
             "#9c179e"
            ],
            [
             0.4444444444444444,
             "#bd3786"
            ],
            [
             0.5555555555555556,
             "#d8576b"
            ],
            [
             0.6666666666666666,
             "#ed7953"
            ],
            [
             0.7777777777777778,
             "#fb9f3a"
            ],
            [
             0.8888888888888888,
             "#fdca26"
            ],
            [
             1,
             "#f0f921"
            ]
           ]
          },
          "colorway": [
           "#636efa",
           "#EF553B",
           "#00cc96",
           "#ab63fa",
           "#FFA15A",
           "#19d3f3",
           "#FF6692",
           "#B6E880",
           "#FF97FF",
           "#FECB52"
          ],
          "font": {
           "color": "#2a3f5f"
          },
          "geo": {
           "bgcolor": "white",
           "lakecolor": "white",
           "landcolor": "white",
           "showlakes": true,
           "showland": true,
           "subunitcolor": "#C8D4E3"
          },
          "hoverlabel": {
           "align": "left"
          },
          "hovermode": "closest",
          "mapbox": {
           "style": "light"
          },
          "paper_bgcolor": "white",
          "plot_bgcolor": "white",
          "polar": {
           "angularaxis": {
            "gridcolor": "#EBF0F8",
            "linecolor": "#EBF0F8",
            "ticks": ""
           },
           "bgcolor": "white",
           "radialaxis": {
            "gridcolor": "#EBF0F8",
            "linecolor": "#EBF0F8",
            "ticks": ""
           }
          },
          "scene": {
           "xaxis": {
            "backgroundcolor": "white",
            "gridcolor": "#DFE8F3",
            "gridwidth": 2,
            "linecolor": "#EBF0F8",
            "showbackground": true,
            "ticks": "",
            "zerolinecolor": "#EBF0F8"
           },
           "yaxis": {
            "backgroundcolor": "white",
            "gridcolor": "#DFE8F3",
            "gridwidth": 2,
            "linecolor": "#EBF0F8",
            "showbackground": true,
            "ticks": "",
            "zerolinecolor": "#EBF0F8"
           },
           "zaxis": {
            "backgroundcolor": "white",
            "gridcolor": "#DFE8F3",
            "gridwidth": 2,
            "linecolor": "#EBF0F8",
            "showbackground": true,
            "ticks": "",
            "zerolinecolor": "#EBF0F8"
           }
          },
          "shapedefaults": {
           "line": {
            "color": "#2a3f5f"
           }
          },
          "ternary": {
           "aaxis": {
            "gridcolor": "#DFE8F3",
            "linecolor": "#A2B1C6",
            "ticks": ""
           },
           "baxis": {
            "gridcolor": "#DFE8F3",
            "linecolor": "#A2B1C6",
            "ticks": ""
           },
           "bgcolor": "white",
           "caxis": {
            "gridcolor": "#DFE8F3",
            "linecolor": "#A2B1C6",
            "ticks": ""
           }
          },
          "title": {
           "x": 0.05
          },
          "xaxis": {
           "automargin": true,
           "gridcolor": "#EBF0F8",
           "linecolor": "#EBF0F8",
           "ticks": "",
           "title": {
            "standoff": 15
           },
           "zerolinecolor": "#EBF0F8",
           "zerolinewidth": 2
          },
          "yaxis": {
           "automargin": true,
           "gridcolor": "#EBF0F8",
           "linecolor": "#EBF0F8",
           "ticks": "",
           "title": {
            "standoff": 15
           },
           "zerolinecolor": "#EBF0F8",
           "zerolinewidth": 2
          }
         }
        },
        "title": {
         "text": "Effektiv verfügbare Ladeleistung von Batteriespeichern (GW) – alle Szenarien inkl. BEV-Charger"
        },
        "xaxis": {
         "title": {
          "text": "Jahr"
         }
        },
        "yaxis": {
         "title": {
          "text": "Verfügbare Ladeleistung [GW]"
         }
        }
       }
      }
     },
     "metadata": {},
     "output_type": "display_data"
    }
   ],
   "source": [
    "fig_bev = go.Figure()\n",
    "\n",
    "# a) BEV-Charger-Spannweite für jedes Szenario zeichnen\n",
    "for scenario in df_bev_range[\"Scenario\"].unique():\n",
    "    df_scen_bev = df_bev_range[df_bev_range[\"Scenario\"] == scenario]\n",
    "    df_min  = df_scen_bev[df_scen_bev[\"Type\"] == \"EV battery (BEV charger) - Min\"].sort_values(\"Year\")\n",
    "    df_mean = df_scen_bev[df_scen_bev[\"Type\"] == \"EV battery (BEV charger) - Mean\"].sort_values(\"Year\")\n",
    "    df_max  = df_scen_bev[df_scen_bev[\"Type\"] == \"EV battery (BEV charger) - Max\"].sort_values(\"Year\")\n",
    "\n",
    "    x = df_mean[\"Year\"]\n",
    "\n",
    "    # Max-Linie\n",
    "    fig_bev.add_trace(go.Scatter(\n",
    "        x=x,\n",
    "        y=df_max[\"Value [GW]\"],\n",
    "        mode=\"lines+markers\",\n",
    "        line=dict(\n",
    "            color=bev_colors[\"EV battery (BEV charger) - Max\"],\n",
    "            dash=bev_dash[\"EV battery (BEV charger) - Max\"]\n",
    "        ),\n",
    "        name=f\"{scenario}: BEV charger – Max\"\n",
    "    ))\n",
    "\n",
    "    # Fläche zwischen Min und Max (schattierte Spannweite)\n",
    "    fig_bev.add_trace(go.Scatter(\n",
    "        x=x.tolist() + x[::-1].tolist(),\n",
    "        y=(df_max[\"Value [GW]\"].tolist() + df_min[\"Value [GW]\"][::-1].tolist()),\n",
    "        fill=\"toself\",\n",
    "        fillcolor=\"rgba(0, 180, 255, 0.2)\",\n",
    "        line=dict(color=\"rgba(255,255,255,0)\"),\n",
    "        hoverinfo=\"skip\",\n",
    "        showlegend=False,\n",
    "        name=f\"{scenario}: BEV charger – Range\"\n",
    "    ))\n",
    "\n",
    "    # Min-Linie\n",
    "    fig_bev.add_trace(go.Scatter(\n",
    "        x=x,\n",
    "        y=df_min[\"Value [GW]\"],\n",
    "        mode=\"lines+markers\",\n",
    "        line=dict(\n",
    "            color=bev_colors[\"EV battery (BEV charger) - Min\"],\n",
    "            dash=bev_dash[\"EV battery (BEV charger) - Min\"]\n",
    "        ),\n",
    "        name=f\"{scenario}: BEV charger – Min\"\n",
    "    ))\n",
    "\n",
    "    # Mean-Linie\n",
    "    fig_bev.add_trace(go.Scatter(\n",
    "        x=x,\n",
    "        y=df_mean[\"Value [GW]\"],\n",
    "        mode=\"lines+markers\",\n",
    "        line=dict(color=bev_colors[\"EV battery (BEV charger) - Mean\"], width=2),\n",
    "        name=f\"{scenario}: BEV charger – Mean\"\n",
    "    ))\n",
    "\n",
    "# b) Haupt‐Speicherkurven (Utility-scale, Home, EV battery) pro Szenario\n",
    "main_techs = [\"Utility-scale battery\", \"Home battery\", \"EV battery\"]\n",
    "for tech in main_techs:\n",
    "    df_tech = df_power[df_power[\"Type\"] == tech]\n",
    "    for scenario in df_tech[\"Scenario\"].unique():\n",
    "        df_sub = df_tech[df_tech[\"Scenario\"] == scenario].sort_values(\"Year\")\n",
    "        if df_sub.empty:\n",
    "            continue\n",
    "        fig_bev.add_trace(go.Scatter(\n",
    "            x=df_sub[\"Year\"],\n",
    "            y=df_sub[\"Value [GW]\"],\n",
    "            mode=\"lines+markers\",\n",
    "            name=f\"{scenario}: {tech}\"\n",
    "        ))\n",
    "\n",
    "# c) Layout anpassen\n",
    "fig_bev.update_layout(\n",
    "    title=\"Effektiv verfügbare Ladeleistung von Batteriespeichern (GW) – alle Szenarien inkl. BEV-Charger\",\n",
    "    xaxis_title=\"Jahr\",\n",
    "    yaxis_title=\"Verfügbare Ladeleistung [GW]\",\n",
    "    template=\"plotly_white\",\n",
    "    legend_title_text=\"Szenario / Typ\",\n",
    "    legend=dict(\n",
    "        orientation=\"v\",\n",
    "        yanchor=\"top\",\n",
    "        y=0.95,\n",
    "        xanchor=\"left\",\n",
    "        x=1.02,\n",
    "        traceorder=\"normal\",\n",
    "        itemsizing=\"constant\"\n",
    "    )\n",
    ")\n",
    "\n",
    "fig_bev.show()\n"
   ]
  },
  {
   "cell_type": "code",
   "execution_count": 52,
   "id": "1ba52b25",
   "metadata": {},
   "outputs": [
    {
     "ename": "NameError",
     "evalue": "name 'n' is not defined",
     "output_type": "error",
     "traceback": [
      "\u001b[31m---------------------------------------------------------------------------\u001b[39m",
      "\u001b[31mNameError\u001b[39m                                 Traceback (most recent call last)",
      "\u001b[36mCell\u001b[39m\u001b[36m \u001b[39m\u001b[32mIn[52]\u001b[39m\u001b[32m, line 27\u001b[39m\n\u001b[32m     20\u001b[39m     total_per_snapshot = e_avail.sum(axis=\u001b[32m1\u001b[39m)\n\u001b[32m     21\u001b[39m     \u001b[38;5;28;01mreturn\u001b[39;00m (\n\u001b[32m     22\u001b[39m         total_per_snapshot.min() / \u001b[32m1e3\u001b[39m,\n\u001b[32m     23\u001b[39m         total_per_snapshot.mean() / \u001b[32m1e3\u001b[39m,\n\u001b[32m     24\u001b[39m         total_per_snapshot.max() / \u001b[32m1e3\u001b[39m,\n\u001b[32m     25\u001b[39m     )\n\u001b[32m---> \u001b[39m\u001b[32m27\u001b[39m get_ev_battery_available_energy_range(\u001b[43mn\u001b[49m[\u001b[32m2040\u001b[39m])\n\u001b[32m     29\u001b[39m ev_energy_range = []\n\u001b[32m     31\u001b[39m \u001b[38;5;28;01mfor\u001b[39;00m year \u001b[38;5;129;01min\u001b[39;00m years:\n",
      "\u001b[31mNameError\u001b[39m: name 'n' is not defined"
     ]
    }
   ],
   "source": [
    "def get_ev_battery_available_energy_range(net):\n",
    "    ev_idx = net.stores.index[\n",
    "        (net.stores.carrier == \"EV battery\") &\n",
    "        (net.stores.bus.str.startswith(\"DE\"))\n",
    "    ]\n",
    "    if len(ev_idx) == 0:\n",
    "        return 0.0, 0.0, 0.0\n",
    "\n",
    "    e_nom = net.stores.loc[ev_idx, \"e_nom\"]\n",
    "    e_min_pu = net.stores_t.e_min_pu[ev_idx]\n",
    "    e_max_pu = 1  # am besten nicht hard gecoded falls sich value ändert\n",
    "\n",
    "    print(\"Max min_pu:\", e_min_pu.max().max())\n",
    "    print(\"Min min_pu:\", e_min_pu.min().min())\n",
    "\n",
    "    e_avail = (e_max_pu - e_min_pu).multiply(e_nom, axis=1)\n",
    "\n",
    "    print(\"Min verfügbar:\", e_avail.sum(axis=1).min())\n",
    "\n",
    "    total_per_snapshot = e_avail.sum(axis=1)\n",
    "    return (\n",
    "        total_per_snapshot.min() / 1e3,\n",
    "        total_per_snapshot.mean() / 1e3,\n",
    "        total_per_snapshot.max() / 1e3,\n",
    "    )\n",
    "\n",
    "get_ev_battery_available_energy_range(n[2040])\n",
    "\n",
    "ev_energy_range = []\n",
    "\n",
    "for year in years:\n",
    "    net = n[year]\n",
    "    e_min, e_mean, e_max = get_ev_battery_available_energy_range(net)\n",
    "    ev_energy_range.append({\"Year\": year, \"Type\": \"EV battery available - Min\", \"Value [GWh]\": e_min})\n",
    "    ev_energy_range.append({\"Year\": year, \"Type\": \"EV battery available - Mean\", \"Value [GWh]\": e_mean})\n",
    "    ev_energy_range.append({\"Year\": year, \"Type\": \"EV battery available - Max\", \"Value [GWh]\": e_max})\n",
    "\n",
    "df_ev_energy_range = pd.DataFrame(ev_energy_range)\n",
    "df_energy_all = pd.concat([df_energy, df_ev_energy_range])\n",
    "\n",
    "import plotly.graph_objects as go\n",
    "\n",
    "# Daten für EV battery available\n",
    "df_min = df_energy_all[df_energy_all[\"Type\"] == \"EV battery available - Min\"]\n",
    "df_mean = df_energy_all[df_energy_all[\"Type\"] == \"EV battery available - Mean\"]\n",
    "df_max = df_energy_all[df_energy_all[\"Type\"] == \"EV battery available - Max\"]\n",
    "x = df_mean[\"Year\"]\n",
    "\n",
    "fig = go.Figure()\n",
    "\n",
    "# Max-Linie (sichtbar)\n",
    "fig.add_trace(go.Scatter(\n",
    "    x=x,\n",
    "    y=df_max[\"Value [GWh]\"],\n",
    "    mode=\"lines+markers\",\n",
    "    line=dict(color=\"lightblue\", dash=\"dot\"),\n",
    "    name=\"EV battery available - Max\"\n",
    "))\n",
    "\n",
    "# Fläche zur Max-Linie von unten (tonexty)\n",
    "fig.add_trace(go.Scatter(\n",
    "    x=x,\n",
    "    y=df_min[\"Value [GWh]\"],\n",
    "    mode=\"lines\",\n",
    "    fill=\"tonexty\",\n",
    "    fillcolor=\"rgba(0, 100, 255, 0.2)\",\n",
    "    line=dict(width=0),\n",
    "    name=\"Spannweite\",\n",
    "    hoverinfo=\"skip\",\n",
    "    showlegend=False\n",
    "))\n",
    "\n",
    "# Min-Linie (sichtbar)\n",
    "fig.add_trace(go.Scatter(\n",
    "    x=x,\n",
    "    y=df_min[\"Value [GWh]\"],\n",
    "    mode=\"lines+markers\",\n",
    "    line=dict(color=\"lightblue\", dash=\"dot\"),\n",
    "    name=\"EV battery available - Min\"\n",
    "))\n",
    "\n",
    "# Mittelwertlinie (sichtbar)\n",
    "fig.add_trace(go.Scatter(\n",
    "    x=x,\n",
    "    y=df_mean[\"Value [GWh]\"],\n",
    "    mode=\"lines+markers\",\n",
    "    line=dict(color=\"blue\", width=2),\n",
    "    name=\"EV battery available - Mean\"\n",
    "))\n",
    "\n",
    "# Weitere Speicherarten (aus df_energy_all)\n",
    "for tech in [\"Utility-scale battery\", \"Home battery\", \"EV battery\"]:\n",
    "    df_ = df_energy_all[df_energy_all[\"Type\"] == tech]\n",
    "    fig.add_trace(go.Scatter(\n",
    "        x=df_[\"Year\"],\n",
    "        y=df_[\"Value [GWh]\"],\n",
    "        mode=\"lines+markers\",\n",
    "        name=tech\n",
    "    ))\n",
    "\n",
    "fig.update_layout(\n",
    "    title=\"Nutzbare EV-Speicherkapazität mit e_min_pu (GWh)\",\n",
    "    xaxis_title=\"Jahr\",\n",
    "    yaxis_title=\"Verfügbare Kapazität [GWh]\",\n",
    "    template=\"plotly_white\"\n",
    ")\n",
    "\n",
    "fig.show()\n"
   ]
  },
  {
   "cell_type": "code",
   "execution_count": null,
   "id": "06db0968",
   "metadata": {},
   "outputs": [],
   "source": []
  },
  {
   "cell_type": "code",
   "execution_count": 34,
   "id": "cb163544",
   "metadata": {},
   "outputs": [
    {
     "data": {
      "application/vnd.plotly.v1+json": {
       "config": {
        "plotlyServerURL": "https://plot.ly"
       },
       "data": [
        {
         "mode": "lines",
         "name": "AT0 0 battery discharger-2045 – 1-Zone (DE)",
         "type": "scatter",
         "x": [],
         "y": []
        },
        {
         "mode": "lines",
         "name": "BE0 0 battery discharger-2045 – 1-Zone (DE)",
         "type": "scatter",
         "x": [],
         "y": []
        },
        {
         "mode": "lines",
         "name": "CH0 0 battery discharger-2045 – 1-Zone (DE)",
         "type": "scatter",
         "x": [],
         "y": []
        },
        {
         "mode": "lines",
         "name": "CZ0 0 battery discharger-2045 – 1-Zone (DE)",
         "type": "scatter",
         "x": [],
         "y": []
        },
        {
         "mode": "lines",
         "name": "DE0 0 battery discharger-2045 – 1-Zone (DE)",
         "type": "scatter",
         "x": [],
         "y": []
        },
        {
         "mode": "lines",
         "name": "DK0 0 battery discharger-2045 – 1-Zone (DE)",
         "type": "scatter",
         "x": [],
         "y": []
        },
        {
         "mode": "lines",
         "name": "DK1 0 battery discharger-2045 – 1-Zone (DE)",
         "type": "scatter",
         "x": [],
         "y": []
        },
        {
         "mode": "lines",
         "name": "ES0 0 battery discharger-2045 – 1-Zone (DE)",
         "type": "scatter",
         "x": [],
         "y": []
        },
        {
         "mode": "lines",
         "name": "ES6 0 battery discharger-2045 – 1-Zone (DE)",
         "type": "scatter",
         "x": [],
         "y": []
        },
        {
         "mode": "lines",
         "name": "FR0 0 battery discharger-2045 – 1-Zone (DE)",
         "type": "scatter",
         "x": [],
         "y": []
        },
        {
         "mode": "lines",
         "name": "FR4 0 battery discharger-2045 – 1-Zone (DE)",
         "type": "scatter",
         "x": [],
         "y": []
        },
        {
         "mode": "lines",
         "name": "GB2 0 battery discharger-2045 – 1-Zone (DE)",
         "type": "scatter",
         "x": [],
         "y": []
        },
        {
         "mode": "lines",
         "name": "GB5 0 battery discharger-2045 – 1-Zone (DE)",
         "type": "scatter",
         "x": [],
         "y": []
        },
        {
         "mode": "lines",
         "name": "IT0 0 battery discharger-2045 – 1-Zone (DE)",
         "type": "scatter",
         "x": [],
         "y": []
        },
        {
         "mode": "lines",
         "name": "IT3 0 battery discharger-2045 – 1-Zone (DE)",
         "type": "scatter",
         "x": [],
         "y": []
        },
        {
         "mode": "lines",
         "name": "LU0 0 battery discharger-2045 – 1-Zone (DE)",
         "type": "scatter",
         "x": [],
         "y": []
        },
        {
         "mode": "lines",
         "name": "NL0 0 battery discharger-2045 – 1-Zone (DE)",
         "type": "scatter",
         "x": [],
         "y": []
        },
        {
         "mode": "lines",
         "name": "NO1 0 battery discharger-2045 – 1-Zone (DE)",
         "type": "scatter",
         "x": [],
         "y": []
        },
        {
         "mode": "lines",
         "name": "PL0 0 battery discharger-2045 – 1-Zone (DE)",
         "type": "scatter",
         "x": [],
         "y": []
        },
        {
         "mode": "lines",
         "name": "SE1 0 battery discharger-2045 – 1-Zone (DE)",
         "type": "scatter",
         "x": [],
         "y": []
        },
        {
         "mode": "lines",
         "name": "AT0 0 urban central water tanks discharger-2045 – 1-Zone (DE)",
         "type": "scatter",
         "x": [],
         "y": []
        },
        {
         "mode": "lines",
         "name": "BE0 0 urban central water tanks discharger-2045 – 1-Zone (DE)",
         "type": "scatter",
         "x": [],
         "y": []
        },
        {
         "mode": "lines",
         "name": "CH0 0 urban central water tanks discharger-2045 – 1-Zone (DE)",
         "type": "scatter",
         "x": [],
         "y": []
        },
        {
         "mode": "lines",
         "name": "CZ0 0 urban central water tanks discharger-2045 – 1-Zone (DE)",
         "type": "scatter",
         "x": [],
         "y": []
        },
        {
         "mode": "lines",
         "name": "DE0 0 urban central water tanks discharger-2045 – 1-Zone (DE)",
         "type": "scatter",
         "x": [],
         "y": []
        },
        {
         "mode": "lines",
         "name": "DK0 0 urban central water tanks discharger-2045 – 1-Zone (DE)",
         "type": "scatter",
         "x": [],
         "y": []
        },
        {
         "mode": "lines",
         "name": "DK1 0 urban central water tanks discharger-2045 – 1-Zone (DE)",
         "type": "scatter",
         "x": [],
         "y": []
        },
        {
         "mode": "lines",
         "name": "ES0 0 urban central water tanks discharger-2045 – 1-Zone (DE)",
         "type": "scatter",
         "x": [],
         "y": []
        },
        {
         "mode": "lines",
         "name": "ES6 0 urban central water tanks discharger-2045 – 1-Zone (DE)",
         "type": "scatter",
         "x": [],
         "y": []
        },
        {
         "mode": "lines",
         "name": "FR0 0 urban central water tanks discharger-2045 – 1-Zone (DE)",
         "type": "scatter",
         "x": [],
         "y": []
        },
        {
         "mode": "lines",
         "name": "GB2 0 urban central water tanks discharger-2045 – 1-Zone (DE)",
         "type": "scatter",
         "x": [],
         "y": []
        },
        {
         "mode": "lines",
         "name": "GB5 0 urban central water tanks discharger-2045 – 1-Zone (DE)",
         "type": "scatter",
         "x": [],
         "y": []
        },
        {
         "mode": "lines",
         "name": "IT0 0 urban central water tanks discharger-2045 – 1-Zone (DE)",
         "type": "scatter",
         "x": [],
         "y": []
        },
        {
         "mode": "lines",
         "name": "IT3 0 urban central water tanks discharger-2045 – 1-Zone (DE)",
         "type": "scatter",
         "x": [],
         "y": []
        },
        {
         "mode": "lines",
         "name": "LU0 0 urban central water tanks discharger-2045 – 1-Zone (DE)",
         "type": "scatter",
         "x": [],
         "y": []
        },
        {
         "mode": "lines",
         "name": "NL0 0 urban central water tanks discharger-2045 – 1-Zone (DE)",
         "type": "scatter",
         "x": [],
         "y": []
        },
        {
         "mode": "lines",
         "name": "NO1 0 urban central water tanks discharger-2045 – 1-Zone (DE)",
         "type": "scatter",
         "x": [],
         "y": []
        },
        {
         "mode": "lines",
         "name": "PL0 0 urban central water tanks discharger-2045 – 1-Zone (DE)",
         "type": "scatter",
         "x": [],
         "y": []
        },
        {
         "mode": "lines",
         "name": "SE1 0 urban central water tanks discharger-2045 – 1-Zone (DE)",
         "type": "scatter",
         "x": [],
         "y": []
        },
        {
         "mode": "lines",
         "name": "AT0 0 urban central water pits discharger-2045 – 1-Zone (DE)",
         "type": "scatter",
         "x": [],
         "y": []
        },
        {
         "mode": "lines",
         "name": "BE0 0 urban central water pits discharger-2045 – 1-Zone (DE)",
         "type": "scatter",
         "x": [],
         "y": []
        },
        {
         "mode": "lines",
         "name": "CH0 0 urban central water pits discharger-2045 – 1-Zone (DE)",
         "type": "scatter",
         "x": [],
         "y": []
        },
        {
         "mode": "lines",
         "name": "CZ0 0 urban central water pits discharger-2045 – 1-Zone (DE)",
         "type": "scatter",
         "x": [],
         "y": []
        },
        {
         "mode": "lines",
         "name": "DE0 0 urban central water pits discharger-2045 – 1-Zone (DE)",
         "type": "scatter",
         "x": [],
         "y": []
        },
        {
         "mode": "lines",
         "name": "DK0 0 urban central water pits discharger-2045 – 1-Zone (DE)",
         "type": "scatter",
         "x": [],
         "y": []
        },
        {
         "mode": "lines",
         "name": "DK1 0 urban central water pits discharger-2045 – 1-Zone (DE)",
         "type": "scatter",
         "x": [],
         "y": []
        },
        {
         "mode": "lines",
         "name": "ES0 0 urban central water pits discharger-2045 – 1-Zone (DE)",
         "type": "scatter",
         "x": [],
         "y": []
        },
        {
         "mode": "lines",
         "name": "ES6 0 urban central water pits discharger-2045 – 1-Zone (DE)",
         "type": "scatter",
         "x": [],
         "y": []
        },
        {
         "mode": "lines",
         "name": "FR0 0 urban central water pits discharger-2045 – 1-Zone (DE)",
         "type": "scatter",
         "x": [],
         "y": []
        },
        {
         "mode": "lines",
         "name": "GB2 0 urban central water pits discharger-2045 – 1-Zone (DE)",
         "type": "scatter",
         "x": [],
         "y": []
        },
        {
         "mode": "lines",
         "name": "GB5 0 urban central water pits discharger-2045 – 1-Zone (DE)",
         "type": "scatter",
         "x": [],
         "y": []
        },
        {
         "mode": "lines",
         "name": "IT0 0 urban central water pits discharger-2045 – 1-Zone (DE)",
         "type": "scatter",
         "x": [],
         "y": []
        },
        {
         "mode": "lines",
         "name": "IT3 0 urban central water pits discharger-2045 – 1-Zone (DE)",
         "type": "scatter",
         "x": [],
         "y": []
        },
        {
         "mode": "lines",
         "name": "LU0 0 urban central water pits discharger-2045 – 1-Zone (DE)",
         "type": "scatter",
         "x": [],
         "y": []
        },
        {
         "mode": "lines",
         "name": "NL0 0 urban central water pits discharger-2045 – 1-Zone (DE)",
         "type": "scatter",
         "x": [],
         "y": []
        },
        {
         "mode": "lines",
         "name": "NO1 0 urban central water pits discharger-2045 – 1-Zone (DE)",
         "type": "scatter",
         "x": [],
         "y": []
        },
        {
         "mode": "lines",
         "name": "PL0 0 urban central water pits discharger-2045 – 1-Zone (DE)",
         "type": "scatter",
         "x": [],
         "y": []
        },
        {
         "mode": "lines",
         "name": "SE1 0 urban central water pits discharger-2045 – 1-Zone (DE)",
         "type": "scatter",
         "x": [],
         "y": []
        },
        {
         "mode": "lines",
         "name": "AT0 0 home battery discharger-2045 – 1-Zone (DE)",
         "type": "scatter",
         "x": [],
         "y": []
        },
        {
         "mode": "lines",
         "name": "BE0 0 home battery discharger-2045 – 1-Zone (DE)",
         "type": "scatter",
         "x": [],
         "y": []
        },
        {
         "mode": "lines",
         "name": "CH0 0 home battery discharger-2045 – 1-Zone (DE)",
         "type": "scatter",
         "x": [],
         "y": []
        },
        {
         "mode": "lines",
         "name": "CZ0 0 home battery discharger-2045 – 1-Zone (DE)",
         "type": "scatter",
         "x": [],
         "y": []
        },
        {
         "mode": "lines",
         "name": "DE0 0 home battery discharger-2045 – 1-Zone (DE)",
         "type": "scatter",
         "x": [],
         "y": []
        },
        {
         "mode": "lines",
         "name": "DK0 0 home battery discharger-2045 – 1-Zone (DE)",
         "type": "scatter",
         "x": [],
         "y": []
        },
        {
         "mode": "lines",
         "name": "DK1 0 home battery discharger-2045 – 1-Zone (DE)",
         "type": "scatter",
         "x": [],
         "y": []
        },
        {
         "mode": "lines",
         "name": "ES0 0 home battery discharger-2045 – 1-Zone (DE)",
         "type": "scatter",
         "x": [],
         "y": []
        },
        {
         "mode": "lines",
         "name": "ES6 0 home battery discharger-2045 – 1-Zone (DE)",
         "type": "scatter",
         "x": [],
         "y": []
        },
        {
         "mode": "lines",
         "name": "FR0 0 home battery discharger-2045 – 1-Zone (DE)",
         "type": "scatter",
         "x": [],
         "y": []
        },
        {
         "mode": "lines",
         "name": "FR4 0 home battery discharger-2045 – 1-Zone (DE)",
         "type": "scatter",
         "x": [],
         "y": []
        },
        {
         "mode": "lines",
         "name": "GB2 0 home battery discharger-2045 – 1-Zone (DE)",
         "type": "scatter",
         "x": [],
         "y": []
        },
        {
         "mode": "lines",
         "name": "GB5 0 home battery discharger-2045 – 1-Zone (DE)",
         "type": "scatter",
         "x": [],
         "y": []
        },
        {
         "mode": "lines",
         "name": "IT0 0 home battery discharger-2045 – 1-Zone (DE)",
         "type": "scatter",
         "x": [],
         "y": []
        },
        {
         "mode": "lines",
         "name": "IT3 0 home battery discharger-2045 – 1-Zone (DE)",
         "type": "scatter",
         "x": [],
         "y": []
        },
        {
         "mode": "lines",
         "name": "LU0 0 home battery discharger-2045 – 1-Zone (DE)",
         "type": "scatter",
         "x": [],
         "y": []
        },
        {
         "mode": "lines",
         "name": "NL0 0 home battery discharger-2045 – 1-Zone (DE)",
         "type": "scatter",
         "x": [],
         "y": []
        },
        {
         "mode": "lines",
         "name": "NO1 0 home battery discharger-2045 – 1-Zone (DE)",
         "type": "scatter",
         "x": [],
         "y": []
        },
        {
         "mode": "lines",
         "name": "PL0 0 home battery discharger-2045 – 1-Zone (DE)",
         "type": "scatter",
         "x": [],
         "y": []
        },
        {
         "mode": "lines",
         "name": "SE1 0 home battery discharger-2045 – 1-Zone (DE)",
         "type": "scatter",
         "x": [],
         "y": []
        },
        {
         "mode": "lines",
         "name": "AT0 0 rural water tanks discharger-2045 – 1-Zone (DE)",
         "type": "scatter",
         "x": [],
         "y": []
        },
        {
         "mode": "lines",
         "name": "AT0 0 urban decentral water tanks discharger-2045 – 1-Zone (DE)",
         "type": "scatter",
         "x": [],
         "y": []
        },
        {
         "mode": "lines",
         "name": "BE0 0 rural water tanks discharger-2045 – 1-Zone (DE)",
         "type": "scatter",
         "x": [],
         "y": []
        },
        {
         "mode": "lines",
         "name": "BE0 0 urban decentral water tanks discharger-2045 – 1-Zone (DE)",
         "type": "scatter",
         "x": [],
         "y": []
        },
        {
         "mode": "lines",
         "name": "CH0 0 rural water tanks discharger-2045 – 1-Zone (DE)",
         "type": "scatter",
         "x": [],
         "y": []
        },
        {
         "mode": "lines",
         "name": "CH0 0 urban decentral water tanks discharger-2045 – 1-Zone (DE)",
         "type": "scatter",
         "x": [],
         "y": []
        },
        {
         "mode": "lines",
         "name": "CZ0 0 rural water tanks discharger-2045 – 1-Zone (DE)",
         "type": "scatter",
         "x": [],
         "y": []
        },
        {
         "mode": "lines",
         "name": "CZ0 0 urban decentral water tanks discharger-2045 – 1-Zone (DE)",
         "type": "scatter",
         "x": [],
         "y": []
        },
        {
         "mode": "lines",
         "name": "DE0 0 rural water tanks discharger-2045 – 1-Zone (DE)",
         "type": "scatter",
         "x": [],
         "y": []
        },
        {
         "mode": "lines",
         "name": "DE0 0 urban decentral water tanks discharger-2045 – 1-Zone (DE)",
         "type": "scatter",
         "x": [],
         "y": []
        },
        {
         "mode": "lines",
         "name": "DK0 0 rural water tanks discharger-2045 – 1-Zone (DE)",
         "type": "scatter",
         "x": [],
         "y": []
        },
        {
         "mode": "lines",
         "name": "DK0 0 urban decentral water tanks discharger-2045 – 1-Zone (DE)",
         "type": "scatter",
         "x": [],
         "y": []
        },
        {
         "mode": "lines",
         "name": "DK1 0 rural water tanks discharger-2045 – 1-Zone (DE)",
         "type": "scatter",
         "x": [],
         "y": []
        },
        {
         "mode": "lines",
         "name": "DK1 0 urban decentral water tanks discharger-2045 – 1-Zone (DE)",
         "type": "scatter",
         "x": [],
         "y": []
        },
        {
         "mode": "lines",
         "name": "ES0 0 rural water tanks discharger-2045 – 1-Zone (DE)",
         "type": "scatter",
         "x": [],
         "y": []
        },
        {
         "mode": "lines",
         "name": "ES0 0 urban decentral water tanks discharger-2045 – 1-Zone (DE)",
         "type": "scatter",
         "x": [],
         "y": []
        },
        {
         "mode": "lines",
         "name": "ES6 0 rural water tanks discharger-2045 – 1-Zone (DE)",
         "type": "scatter",
         "x": [],
         "y": []
        },
        {
         "mode": "lines",
         "name": "ES6 0 urban decentral water tanks discharger-2045 – 1-Zone (DE)",
         "type": "scatter",
         "x": [],
         "y": []
        },
        {
         "mode": "lines",
         "name": "FR0 0 rural water tanks discharger-2045 – 1-Zone (DE)",
         "type": "scatter",
         "x": [],
         "y": []
        },
        {
         "mode": "lines",
         "name": "FR0 0 urban decentral water tanks discharger-2045 – 1-Zone (DE)",
         "type": "scatter",
         "x": [],
         "y": []
        },
        {
         "mode": "lines",
         "name": "FR4 0 rural water tanks discharger-2045 – 1-Zone (DE)",
         "type": "scatter",
         "x": [],
         "y": []
        },
        {
         "mode": "lines",
         "name": "FR4 0 urban decentral water tanks discharger-2045 – 1-Zone (DE)",
         "type": "scatter",
         "x": [],
         "y": []
        },
        {
         "mode": "lines",
         "name": "GB2 0 rural water tanks discharger-2045 – 1-Zone (DE)",
         "type": "scatter",
         "x": [],
         "y": []
        },
        {
         "mode": "lines",
         "name": "GB2 0 urban decentral water tanks discharger-2045 – 1-Zone (DE)",
         "type": "scatter",
         "x": [],
         "y": []
        },
        {
         "mode": "lines",
         "name": "GB5 0 rural water tanks discharger-2045 – 1-Zone (DE)",
         "type": "scatter",
         "x": [],
         "y": []
        },
        {
         "mode": "lines",
         "name": "GB5 0 urban decentral water tanks discharger-2045 – 1-Zone (DE)",
         "type": "scatter",
         "x": [],
         "y": []
        },
        {
         "mode": "lines",
         "name": "IT0 0 rural water tanks discharger-2045 – 1-Zone (DE)",
         "type": "scatter",
         "x": [],
         "y": []
        },
        {
         "mode": "lines",
         "name": "IT0 0 urban decentral water tanks discharger-2045 – 1-Zone (DE)",
         "type": "scatter",
         "x": [],
         "y": []
        },
        {
         "mode": "lines",
         "name": "IT3 0 rural water tanks discharger-2045 – 1-Zone (DE)",
         "type": "scatter",
         "x": [],
         "y": []
        },
        {
         "mode": "lines",
         "name": "IT3 0 urban decentral water tanks discharger-2045 – 1-Zone (DE)",
         "type": "scatter",
         "x": [],
         "y": []
        },
        {
         "mode": "lines",
         "name": "LU0 0 rural water tanks discharger-2045 – 1-Zone (DE)",
         "type": "scatter",
         "x": [],
         "y": []
        },
        {
         "mode": "lines",
         "name": "LU0 0 urban decentral water tanks discharger-2045 – 1-Zone (DE)",
         "type": "scatter",
         "x": [],
         "y": []
        },
        {
         "mode": "lines",
         "name": "NL0 0 rural water tanks discharger-2045 – 1-Zone (DE)",
         "type": "scatter",
         "x": [],
         "y": []
        },
        {
         "mode": "lines",
         "name": "NL0 0 urban decentral water tanks discharger-2045 – 1-Zone (DE)",
         "type": "scatter",
         "x": [],
         "y": []
        },
        {
         "mode": "lines",
         "name": "NO1 0 rural water tanks discharger-2045 – 1-Zone (DE)",
         "type": "scatter",
         "x": [],
         "y": []
        },
        {
         "mode": "lines",
         "name": "NO1 0 urban decentral water tanks discharger-2045 – 1-Zone (DE)",
         "type": "scatter",
         "x": [],
         "y": []
        },
        {
         "mode": "lines",
         "name": "PL0 0 rural water tanks discharger-2045 – 1-Zone (DE)",
         "type": "scatter",
         "x": [],
         "y": []
        },
        {
         "mode": "lines",
         "name": "PL0 0 urban decentral water tanks discharger-2045 – 1-Zone (DE)",
         "type": "scatter",
         "x": [],
         "y": []
        },
        {
         "mode": "lines",
         "name": "SE1 0 rural water tanks discharger-2045 – 1-Zone (DE)",
         "type": "scatter",
         "x": [],
         "y": []
        },
        {
         "mode": "lines",
         "name": "SE1 0 urban decentral water tanks discharger-2045 – 1-Zone (DE)",
         "type": "scatter",
         "x": [],
         "y": []
        },
        {
         "mode": "lines",
         "name": "AT0 0 battery discharger-2040 – 1-Zone (DE)",
         "type": "scatter",
         "x": [],
         "y": []
        },
        {
         "mode": "lines",
         "name": "BE0 0 battery discharger-2040 – 1-Zone (DE)",
         "type": "scatter",
         "x": [],
         "y": []
        },
        {
         "mode": "lines",
         "name": "CH0 0 battery discharger-2040 – 1-Zone (DE)",
         "type": "scatter",
         "x": [],
         "y": []
        },
        {
         "mode": "lines",
         "name": "CZ0 0 battery discharger-2040 – 1-Zone (DE)",
         "type": "scatter",
         "x": [],
         "y": []
        },
        {
         "mode": "lines",
         "name": "DE0 0 battery discharger-2040 – 1-Zone (DE)",
         "type": "scatter",
         "x": [],
         "y": []
        },
        {
         "mode": "lines",
         "name": "ES0 0 battery discharger-2040 – 1-Zone (DE)",
         "type": "scatter",
         "x": [],
         "y": []
        },
        {
         "mode": "lines",
         "name": "ES6 0 battery discharger-2040 – 1-Zone (DE)",
         "type": "scatter",
         "x": [],
         "y": []
        },
        {
         "mode": "lines",
         "name": "FR0 0 battery discharger-2040 – 1-Zone (DE)",
         "type": "scatter",
         "x": [],
         "y": []
        },
        {
         "mode": "lines",
         "name": "IT0 0 battery discharger-2040 – 1-Zone (DE)",
         "type": "scatter",
         "x": [],
         "y": []
        },
        {
         "mode": "lines",
         "name": "IT3 0 battery discharger-2040 – 1-Zone (DE)",
         "type": "scatter",
         "x": [],
         "y": []
        },
        {
         "mode": "lines",
         "name": "NL0 0 battery discharger-2040 – 1-Zone (DE)",
         "type": "scatter",
         "x": [],
         "y": []
        },
        {
         "mode": "lines",
         "name": "PL0 0 battery discharger-2040 – 1-Zone (DE)",
         "type": "scatter",
         "x": [],
         "y": []
        },
        {
         "mode": "lines",
         "name": "AT0 0 urban central water pits discharger-2040 – 1-Zone (DE)",
         "type": "scatter",
         "x": [],
         "y": []
        },
        {
         "mode": "lines",
         "name": "BE0 0 urban central water pits discharger-2040 – 1-Zone (DE)",
         "type": "scatter",
         "x": [],
         "y": []
        },
        {
         "mode": "lines",
         "name": "CH0 0 urban central water pits discharger-2040 – 1-Zone (DE)",
         "type": "scatter",
         "x": [],
         "y": []
        },
        {
         "mode": "lines",
         "name": "CZ0 0 urban central water pits discharger-2040 – 1-Zone (DE)",
         "type": "scatter",
         "x": [],
         "y": []
        },
        {
         "mode": "lines",
         "name": "DK0 0 urban central water pits discharger-2040 – 1-Zone (DE)",
         "type": "scatter",
         "x": [],
         "y": []
        },
        {
         "mode": "lines",
         "name": "DK1 0 urban central water pits discharger-2040 – 1-Zone (DE)",
         "type": "scatter",
         "x": [],
         "y": []
        },
        {
         "mode": "lines",
         "name": "ES0 0 urban central water pits discharger-2040 – 1-Zone (DE)",
         "type": "scatter",
         "x": [],
         "y": []
        },
        {
         "mode": "lines",
         "name": "FR0 0 urban central water pits discharger-2040 – 1-Zone (DE)",
         "type": "scatter",
         "x": [],
         "y": []
        },
        {
         "mode": "lines",
         "name": "IT0 0 urban central water pits discharger-2040 – 1-Zone (DE)",
         "type": "scatter",
         "x": [],
         "y": []
        },
        {
         "mode": "lines",
         "name": "LU0 0 urban central water pits discharger-2040 – 1-Zone (DE)",
         "type": "scatter",
         "x": [],
         "y": []
        },
        {
         "mode": "lines",
         "name": "PL0 0 urban central water pits discharger-2040 – 1-Zone (DE)",
         "type": "scatter",
         "x": [],
         "y": []
        },
        {
         "mode": "lines",
         "name": "SE1 0 urban central water pits discharger-2040 – 1-Zone (DE)",
         "type": "scatter",
         "x": [],
         "y": []
        },
        {
         "mode": "lines",
         "name": "AT0 0 home battery discharger-2040 – 1-Zone (DE)",
         "type": "scatter",
         "x": [],
         "y": []
        },
        {
         "mode": "lines",
         "name": "CH0 0 home battery discharger-2040 – 1-Zone (DE)",
         "type": "scatter",
         "x": [],
         "y": []
        },
        {
         "mode": "lines",
         "name": "CZ0 0 home battery discharger-2040 – 1-Zone (DE)",
         "type": "scatter",
         "x": [],
         "y": []
        },
        {
         "mode": "lines",
         "name": "ES0 0 home battery discharger-2040 – 1-Zone (DE)",
         "type": "scatter",
         "x": [],
         "y": []
        },
        {
         "mode": "lines",
         "name": "ES6 0 home battery discharger-2040 – 1-Zone (DE)",
         "type": "scatter",
         "x": [],
         "y": []
        },
        {
         "mode": "lines",
         "name": "FR0 0 home battery discharger-2040 – 1-Zone (DE)",
         "type": "scatter",
         "x": [],
         "y": []
        },
        {
         "mode": "lines",
         "name": "FR4 0 home battery discharger-2040 – 1-Zone (DE)",
         "type": "scatter",
         "x": [],
         "y": []
        },
        {
         "mode": "lines",
         "name": "IT0 0 home battery discharger-2040 – 1-Zone (DE)",
         "type": "scatter",
         "x": [],
         "y": []
        },
        {
         "mode": "lines",
         "name": "IT3 0 home battery discharger-2040 – 1-Zone (DE)",
         "type": "scatter",
         "x": [],
         "y": []
        },
        {
         "mode": "lines",
         "name": "LU0 0 home battery discharger-2040 – 1-Zone (DE)",
         "type": "scatter",
         "x": [],
         "y": []
        },
        {
         "mode": "lines",
         "name": "NL0 0 home battery discharger-2040 – 1-Zone (DE)",
         "type": "scatter",
         "x": [],
         "y": []
        },
        {
         "mode": "lines",
         "name": "PL0 0 home battery discharger-2040 – 1-Zone (DE)",
         "type": "scatter",
         "x": [],
         "y": []
        },
        {
         "mode": "lines",
         "name": "SE1 0 home battery discharger-2040 – 1-Zone (DE)",
         "type": "scatter",
         "x": [],
         "y": []
        },
        {
         "mode": "lines",
         "name": "AT0 0 urban central water pits discharger-2035 – 1-Zone (DE)",
         "type": "scatter",
         "x": [],
         "y": []
        },
        {
         "mode": "lines",
         "name": "BE0 0 urban central water pits discharger-2035 – 1-Zone (DE)",
         "type": "scatter",
         "x": [],
         "y": []
        },
        {
         "mode": "lines",
         "name": "CH0 0 urban central water pits discharger-2035 – 1-Zone (DE)",
         "type": "scatter",
         "x": [],
         "y": []
        },
        {
         "mode": "lines",
         "name": "CZ0 0 urban central water pits discharger-2035 – 1-Zone (DE)",
         "type": "scatter",
         "x": [],
         "y": []
        },
        {
         "mode": "lines",
         "name": "DE0 0 urban central water pits discharger-2035 – 1-Zone (DE)",
         "type": "scatter",
         "x": [],
         "y": []
        },
        {
         "mode": "lines",
         "name": "DK0 0 urban central water pits discharger-2035 – 1-Zone (DE)",
         "type": "scatter",
         "x": [],
         "y": []
        },
        {
         "mode": "lines",
         "name": "DK1 0 urban central water pits discharger-2035 – 1-Zone (DE)",
         "type": "scatter",
         "x": [],
         "y": []
        },
        {
         "mode": "lines",
         "name": "ES0 0 urban central water pits discharger-2035 – 1-Zone (DE)",
         "type": "scatter",
         "x": [],
         "y": []
        },
        {
         "mode": "lines",
         "name": "ES6 0 urban central water pits discharger-2035 – 1-Zone (DE)",
         "type": "scatter",
         "x": [],
         "y": []
        },
        {
         "mode": "lines",
         "name": "FR0 0 urban central water pits discharger-2035 – 1-Zone (DE)",
         "type": "scatter",
         "x": [],
         "y": []
        },
        {
         "mode": "lines",
         "name": "GB2 0 urban central water pits discharger-2035 – 1-Zone (DE)",
         "type": "scatter",
         "x": [],
         "y": []
        },
        {
         "mode": "lines",
         "name": "GB5 0 urban central water pits discharger-2035 – 1-Zone (DE)",
         "type": "scatter",
         "x": [],
         "y": []
        },
        {
         "mode": "lines",
         "name": "IT0 0 urban central water pits discharger-2035 – 1-Zone (DE)",
         "type": "scatter",
         "x": [],
         "y": []
        },
        {
         "mode": "lines",
         "name": "IT3 0 urban central water pits discharger-2035 – 1-Zone (DE)",
         "type": "scatter",
         "x": [],
         "y": []
        },
        {
         "mode": "lines",
         "name": "LU0 0 urban central water pits discharger-2035 – 1-Zone (DE)",
         "type": "scatter",
         "x": [],
         "y": []
        },
        {
         "mode": "lines",
         "name": "NL0 0 urban central water pits discharger-2035 – 1-Zone (DE)",
         "type": "scatter",
         "x": [],
         "y": []
        },
        {
         "mode": "lines",
         "name": "NO1 0 urban central water pits discharger-2035 – 1-Zone (DE)",
         "type": "scatter",
         "x": [],
         "y": []
        },
        {
         "mode": "lines",
         "name": "PL0 0 urban central water pits discharger-2035 – 1-Zone (DE)",
         "type": "scatter",
         "x": [],
         "y": []
        },
        {
         "mode": "lines",
         "name": "SE1 0 urban central water pits discharger-2035 – 1-Zone (DE)",
         "type": "scatter",
         "x": [],
         "y": []
        },
        {
         "mode": "lines",
         "name": "BE0 0 urban decentral water tanks discharger-2035 – 1-Zone (DE)",
         "type": "scatter",
         "x": [],
         "y": []
        },
        {
         "mode": "lines",
         "name": "CZ0 0 rural water tanks discharger-2035 – 1-Zone (DE)",
         "type": "scatter",
         "x": [],
         "y": []
        },
        {
         "mode": "lines",
         "name": "CZ0 0 urban decentral water tanks discharger-2035 – 1-Zone (DE)",
         "type": "scatter",
         "x": [],
         "y": []
        },
        {
         "mode": "lines",
         "name": "DE0 0 rural water tanks discharger-2035 – 1-Zone (DE)",
         "type": "scatter",
         "x": [],
         "y": []
        },
        {
         "mode": "lines",
         "name": "DE0 0 urban decentral water tanks discharger-2035 – 1-Zone (DE)",
         "type": "scatter",
         "x": [],
         "y": []
        },
        {
         "mode": "lines",
         "name": "DK0 0 rural water tanks discharger-2035 – 1-Zone (DE)",
         "type": "scatter",
         "x": [],
         "y": []
        },
        {
         "mode": "lines",
         "name": "DK0 0 urban decentral water tanks discharger-2035 – 1-Zone (DE)",
         "type": "scatter",
         "x": [],
         "y": []
        },
        {
         "mode": "lines",
         "name": "DK1 0 rural water tanks discharger-2035 – 1-Zone (DE)",
         "type": "scatter",
         "x": [],
         "y": []
        },
        {
         "mode": "lines",
         "name": "FR0 0 rural water tanks discharger-2035 – 1-Zone (DE)",
         "type": "scatter",
         "x": [],
         "y": []
        },
        {
         "mode": "lines",
         "name": "GB2 0 rural water tanks discharger-2035 – 1-Zone (DE)",
         "type": "scatter",
         "x": [],
         "y": []
        },
        {
         "mode": "lines",
         "name": "GB2 0 urban decentral water tanks discharger-2035 – 1-Zone (DE)",
         "type": "scatter",
         "x": [],
         "y": []
        },
        {
         "mode": "lines",
         "name": "GB5 0 rural water tanks discharger-2035 – 1-Zone (DE)",
         "type": "scatter",
         "x": [],
         "y": []
        },
        {
         "mode": "lines",
         "name": "GB5 0 urban decentral water tanks discharger-2035 – 1-Zone (DE)",
         "type": "scatter",
         "x": [],
         "y": []
        },
        {
         "mode": "lines",
         "name": "IT0 0 rural water tanks discharger-2035 – 1-Zone (DE)",
         "type": "scatter",
         "x": [],
         "y": []
        },
        {
         "mode": "lines",
         "name": "NL0 0 urban decentral water tanks discharger-2035 – 1-Zone (DE)",
         "type": "scatter",
         "x": [],
         "y": []
        },
        {
         "mode": "lines",
         "name": "NO1 0 rural water tanks discharger-2035 – 1-Zone (DE)",
         "type": "scatter",
         "x": [],
         "y": []
        },
        {
         "mode": "lines",
         "name": "PL0 0 rural water tanks discharger-2035 – 1-Zone (DE)",
         "type": "scatter",
         "x": [],
         "y": []
        },
        {
         "mode": "lines",
         "name": "PL0 0 urban decentral water tanks discharger-2035 – 1-Zone (DE)",
         "type": "scatter",
         "x": [],
         "y": []
        },
        {
         "mode": "lines",
         "name": "AT0 0 urban central water pits discharger-2030 – 1-Zone (DE)",
         "type": "scatter",
         "x": [],
         "y": []
        },
        {
         "mode": "lines",
         "name": "BE0 0 urban central water pits discharger-2030 – 1-Zone (DE)",
         "type": "scatter",
         "x": [],
         "y": []
        },
        {
         "mode": "lines",
         "name": "CH0 0 urban central water pits discharger-2030 – 1-Zone (DE)",
         "type": "scatter",
         "x": [],
         "y": []
        },
        {
         "mode": "lines",
         "name": "CZ0 0 urban central water pits discharger-2030 – 1-Zone (DE)",
         "type": "scatter",
         "x": [],
         "y": []
        },
        {
         "mode": "lines",
         "name": "DE0 0 urban central water pits discharger-2030 – 1-Zone (DE)",
         "type": "scatter",
         "x": [],
         "y": []
        },
        {
         "mode": "lines",
         "name": "ES0 0 urban central water pits discharger-2030 – 1-Zone (DE)",
         "type": "scatter",
         "x": [],
         "y": []
        },
        {
         "mode": "lines",
         "name": "FR0 0 urban central water pits discharger-2030 – 1-Zone (DE)",
         "type": "scatter",
         "x": [],
         "y": []
        },
        {
         "mode": "lines",
         "name": "GB2 0 urban central water pits discharger-2030 – 1-Zone (DE)",
         "type": "scatter",
         "x": [],
         "y": []
        },
        {
         "mode": "lines",
         "name": "GB5 0 urban central water pits discharger-2030 – 1-Zone (DE)",
         "type": "scatter",
         "x": [],
         "y": []
        },
        {
         "mode": "lines",
         "name": "IT0 0 urban central water pits discharger-2030 – 1-Zone (DE)",
         "type": "scatter",
         "x": [],
         "y": []
        },
        {
         "mode": "lines",
         "name": "IT3 0 urban central water pits discharger-2030 – 1-Zone (DE)",
         "type": "scatter",
         "x": [],
         "y": []
        },
        {
         "mode": "lines",
         "name": "LU0 0 urban central water pits discharger-2030 – 1-Zone (DE)",
         "type": "scatter",
         "x": [],
         "y": []
        },
        {
         "mode": "lines",
         "name": "NL0 0 urban central water pits discharger-2030 – 1-Zone (DE)",
         "type": "scatter",
         "x": [],
         "y": []
        },
        {
         "mode": "lines",
         "name": "NO1 0 urban central water pits discharger-2030 – 1-Zone (DE)",
         "type": "scatter",
         "x": [],
         "y": []
        },
        {
         "mode": "lines",
         "name": "PL0 0 urban central water pits discharger-2030 – 1-Zone (DE)",
         "type": "scatter",
         "x": [],
         "y": []
        },
        {
         "mode": "lines",
         "name": "SE1 0 urban central water pits discharger-2030 – 1-Zone (DE)",
         "type": "scatter",
         "x": [],
         "y": []
        },
        {
         "mode": "lines",
         "name": "AT0 0 rural water tanks discharger-2030 – 1-Zone (DE)",
         "type": "scatter",
         "x": [],
         "y": []
        },
        {
         "mode": "lines",
         "name": "CZ0 0 rural water tanks discharger-2030 – 1-Zone (DE)",
         "type": "scatter",
         "x": [],
         "y": []
        },
        {
         "mode": "lines",
         "name": "CZ0 0 urban decentral water tanks discharger-2030 – 1-Zone (DE)",
         "type": "scatter",
         "x": [],
         "y": []
        },
        {
         "mode": "lines",
         "name": "DK0 0 urban decentral water tanks discharger-2030 – 1-Zone (DE)",
         "type": "scatter",
         "x": [],
         "y": []
        },
        {
         "mode": "lines",
         "name": "DK1 0 urban decentral water tanks discharger-2030 – 1-Zone (DE)",
         "type": "scatter",
         "x": [],
         "y": []
        },
        {
         "mode": "lines",
         "name": "ES6 0 urban decentral water tanks discharger-2030 – 1-Zone (DE)",
         "type": "scatter",
         "x": [],
         "y": []
        },
        {
         "mode": "lines",
         "name": "FR0 0 rural water tanks discharger-2030 – 1-Zone (DE)",
         "type": "scatter",
         "x": [],
         "y": []
        },
        {
         "mode": "lines",
         "name": "FR4 0 rural water tanks discharger-2030 – 1-Zone (DE)",
         "type": "scatter",
         "x": [],
         "y": []
        },
        {
         "mode": "lines",
         "name": "GB2 0 rural water tanks discharger-2030 – 1-Zone (DE)",
         "type": "scatter",
         "x": [],
         "y": []
        },
        {
         "mode": "lines",
         "name": "GB2 0 urban decentral water tanks discharger-2030 – 1-Zone (DE)",
         "type": "scatter",
         "x": [],
         "y": []
        },
        {
         "mode": "lines",
         "name": "GB5 0 rural water tanks discharger-2030 – 1-Zone (DE)",
         "type": "scatter",
         "x": [],
         "y": []
        },
        {
         "mode": "lines",
         "name": "GB5 0 urban decentral water tanks discharger-2030 – 1-Zone (DE)",
         "type": "scatter",
         "x": [],
         "y": []
        },
        {
         "mode": "lines",
         "name": "NL0 0 urban decentral water tanks discharger-2030 – 1-Zone (DE)",
         "type": "scatter",
         "x": [],
         "y": []
        },
        {
         "mode": "lines",
         "name": "PL0 0 rural water tanks discharger-2030 – 1-Zone (DE)",
         "type": "scatter",
         "x": [],
         "y": []
        },
        {
         "mode": "lines",
         "name": "SE1 0 rural water tanks discharger-2030 – 1-Zone (DE)",
         "type": "scatter",
         "x": [],
         "y": []
        },
        {
         "mode": "lines",
         "name": "AT0 0 urban central water pits discharger-2025 – 1-Zone (DE)",
         "type": "scatter",
         "x": [],
         "y": []
        },
        {
         "mode": "lines",
         "name": "BE0 0 urban central water pits discharger-2025 – 1-Zone (DE)",
         "type": "scatter",
         "x": [],
         "y": []
        },
        {
         "mode": "lines",
         "name": "CH0 0 urban central water pits discharger-2025 – 1-Zone (DE)",
         "type": "scatter",
         "x": [],
         "y": []
        },
        {
         "mode": "lines",
         "name": "CZ0 0 urban central water pits discharger-2025 – 1-Zone (DE)",
         "type": "scatter",
         "x": [],
         "y": []
        },
        {
         "mode": "lines",
         "name": "DE0 0 urban central water pits discharger-2025 – 1-Zone (DE)",
         "type": "scatter",
         "x": [],
         "y": []
        },
        {
         "mode": "lines",
         "name": "DK0 0 urban central water pits discharger-2025 – 1-Zone (DE)",
         "type": "scatter",
         "x": [],
         "y": []
        },
        {
         "mode": "lines",
         "name": "DK1 0 urban central water pits discharger-2025 – 1-Zone (DE)",
         "type": "scatter",
         "x": [],
         "y": []
        },
        {
         "mode": "lines",
         "name": "ES0 0 urban central water pits discharger-2025 – 1-Zone (DE)",
         "type": "scatter",
         "x": [],
         "y": []
        },
        {
         "mode": "lines",
         "name": "FR0 0 urban central water pits discharger-2025 – 1-Zone (DE)",
         "type": "scatter",
         "x": [],
         "y": []
        },
        {
         "mode": "lines",
         "name": "GB2 0 urban central water pits discharger-2025 – 1-Zone (DE)",
         "type": "scatter",
         "x": [],
         "y": []
        },
        {
         "mode": "lines",
         "name": "GB5 0 urban central water pits discharger-2025 – 1-Zone (DE)",
         "type": "scatter",
         "x": [],
         "y": []
        },
        {
         "mode": "lines",
         "name": "IT0 0 urban central water pits discharger-2025 – 1-Zone (DE)",
         "type": "scatter",
         "x": [],
         "y": []
        },
        {
         "mode": "lines",
         "name": "IT3 0 urban central water pits discharger-2025 – 1-Zone (DE)",
         "type": "scatter",
         "x": [],
         "y": []
        },
        {
         "mode": "lines",
         "name": "LU0 0 urban central water pits discharger-2025 – 1-Zone (DE)",
         "type": "scatter",
         "x": [],
         "y": []
        },
        {
         "mode": "lines",
         "name": "NL0 0 urban central water pits discharger-2025 – 1-Zone (DE)",
         "type": "scatter",
         "x": [],
         "y": []
        },
        {
         "mode": "lines",
         "name": "NO1 0 urban central water pits discharger-2025 – 1-Zone (DE)",
         "type": "scatter",
         "x": [],
         "y": []
        },
        {
         "mode": "lines",
         "name": "PL0 0 urban central water pits discharger-2025 – 1-Zone (DE)",
         "type": "scatter",
         "x": [],
         "y": []
        },
        {
         "mode": "lines",
         "name": "SE1 0 urban central water pits discharger-2025 – 1-Zone (DE)",
         "type": "scatter",
         "x": [],
         "y": []
        },
        {
         "mode": "lines",
         "name": "AT0 0 rural water tanks discharger-2025 – 1-Zone (DE)",
         "type": "scatter",
         "x": [],
         "y": []
        },
        {
         "mode": "lines",
         "name": "AT0 0 urban decentral water tanks discharger-2025 – 1-Zone (DE)",
         "type": "scatter",
         "x": [],
         "y": []
        },
        {
         "mode": "lines",
         "name": "BE0 0 rural water tanks discharger-2025 – 1-Zone (DE)",
         "type": "scatter",
         "x": [],
         "y": []
        },
        {
         "mode": "lines",
         "name": "BE0 0 urban decentral water tanks discharger-2025 – 1-Zone (DE)",
         "type": "scatter",
         "x": [],
         "y": []
        },
        {
         "mode": "lines",
         "name": "CZ0 0 urban decentral water tanks discharger-2025 – 1-Zone (DE)",
         "type": "scatter",
         "x": [],
         "y": []
        },
        {
         "mode": "lines",
         "name": "DE0 0 urban decentral water tanks discharger-2025 – 1-Zone (DE)",
         "type": "scatter",
         "x": [],
         "y": []
        },
        {
         "mode": "lines",
         "name": "DK0 0 urban decentral water tanks discharger-2025 – 1-Zone (DE)",
         "type": "scatter",
         "x": [],
         "y": []
        },
        {
         "mode": "lines",
         "name": "DK1 0 urban decentral water tanks discharger-2025 – 1-Zone (DE)",
         "type": "scatter",
         "x": [],
         "y": []
        },
        {
         "mode": "lines",
         "name": "ES0 0 rural water tanks discharger-2025 – 1-Zone (DE)",
         "type": "scatter",
         "x": [],
         "y": []
        },
        {
         "mode": "lines",
         "name": "ES6 0 urban decentral water tanks discharger-2025 – 1-Zone (DE)",
         "type": "scatter",
         "x": [],
         "y": []
        },
        {
         "mode": "lines",
         "name": "FR0 0 rural water tanks discharger-2025 – 1-Zone (DE)",
         "type": "scatter",
         "x": [],
         "y": []
        },
        {
         "mode": "lines",
         "name": "FR0 0 urban decentral water tanks discharger-2025 – 1-Zone (DE)",
         "type": "scatter",
         "x": [],
         "y": []
        },
        {
         "mode": "lines",
         "name": "FR4 0 rural water tanks discharger-2025 – 1-Zone (DE)",
         "type": "scatter",
         "x": [],
         "y": []
        },
        {
         "mode": "lines",
         "name": "GB2 0 rural water tanks discharger-2025 – 1-Zone (DE)",
         "type": "scatter",
         "x": [],
         "y": []
        },
        {
         "mode": "lines",
         "name": "GB2 0 urban decentral water tanks discharger-2025 – 1-Zone (DE)",
         "type": "scatter",
         "x": [],
         "y": []
        },
        {
         "mode": "lines",
         "name": "GB5 0 rural water tanks discharger-2025 – 1-Zone (DE)",
         "type": "scatter",
         "x": [],
         "y": []
        },
        {
         "mode": "lines",
         "name": "IT0 0 rural water tanks discharger-2025 – 1-Zone (DE)",
         "type": "scatter",
         "x": [],
         "y": []
        },
        {
         "mode": "lines",
         "name": "IT0 0 urban decentral water tanks discharger-2025 – 1-Zone (DE)",
         "type": "scatter",
         "x": [],
         "y": []
        },
        {
         "mode": "lines",
         "name": "IT3 0 rural water tanks discharger-2025 – 1-Zone (DE)",
         "type": "scatter",
         "x": [],
         "y": []
        },
        {
         "mode": "lines",
         "name": "LU0 0 urban decentral water tanks discharger-2025 – 1-Zone (DE)",
         "type": "scatter",
         "x": [],
         "y": []
        },
        {
         "mode": "lines",
         "name": "NL0 0 rural water tanks discharger-2025 – 1-Zone (DE)",
         "type": "scatter",
         "x": [],
         "y": []
        },
        {
         "mode": "lines",
         "name": "PL0 0 rural water tanks discharger-2025 – 1-Zone (DE)",
         "type": "scatter",
         "x": [],
         "y": []
        },
        {
         "mode": "lines",
         "name": "PL0 0 urban decentral water tanks discharger-2025 – 1-Zone (DE)",
         "type": "scatter",
         "x": [],
         "y": []
        },
        {
         "mode": "lines",
         "name": "SE1 0 rural water tanks discharger-2025 – 1-Zone (DE)",
         "type": "scatter",
         "x": [],
         "y": []
        },
        {
         "mode": "lines",
         "name": "SE1 0 urban decentral water tanks discharger-2025 – 1-Zone (DE)",
         "type": "scatter",
         "x": [],
         "y": []
        },
        {
         "mode": "lines",
         "name": "AT0 0 rural water tanks discharger-2020 – 1-Zone (DE)",
         "type": "scatter",
         "x": [],
         "y": []
        },
        {
         "mode": "lines",
         "name": "BE0 0 rural water tanks discharger-2020 – 1-Zone (DE)",
         "type": "scatter",
         "x": [],
         "y": []
        },
        {
         "mode": "lines",
         "name": "BE0 0 urban decentral water tanks discharger-2020 – 1-Zone (DE)",
         "type": "scatter",
         "x": [],
         "y": []
        },
        {
         "mode": "lines",
         "name": "CH0 0 rural water tanks discharger-2020 – 1-Zone (DE)",
         "type": "scatter",
         "x": [],
         "y": []
        },
        {
         "mode": "lines",
         "name": "CH0 0 urban decentral water tanks discharger-2020 – 1-Zone (DE)",
         "type": "scatter",
         "x": [],
         "y": []
        },
        {
         "mode": "lines",
         "name": "CZ0 0 rural water tanks discharger-2020 – 1-Zone (DE)",
         "type": "scatter",
         "x": [],
         "y": []
        },
        {
         "mode": "lines",
         "name": "CZ0 0 urban decentral water tanks discharger-2020 – 1-Zone (DE)",
         "type": "scatter",
         "x": [],
         "y": []
        },
        {
         "mode": "lines",
         "name": "DE0 0 rural water tanks discharger-2020 – 1-Zone (DE)",
         "type": "scatter",
         "x": [],
         "y": []
        },
        {
         "mode": "lines",
         "name": "DK0 0 rural water tanks discharger-2020 – 1-Zone (DE)",
         "type": "scatter",
         "x": [],
         "y": []
        },
        {
         "mode": "lines",
         "name": "DK0 0 urban decentral water tanks discharger-2020 – 1-Zone (DE)",
         "type": "scatter",
         "x": [],
         "y": []
        },
        {
         "mode": "lines",
         "name": "DK1 0 urban decentral water tanks discharger-2020 – 1-Zone (DE)",
         "type": "scatter",
         "x": [],
         "y": []
        },
        {
         "mode": "lines",
         "name": "ES0 0 urban decentral water tanks discharger-2020 – 1-Zone (DE)",
         "type": "scatter",
         "x": [],
         "y": []
        },
        {
         "mode": "lines",
         "name": "ES6 0 rural water tanks discharger-2020 – 1-Zone (DE)",
         "type": "scatter",
         "x": [],
         "y": []
        },
        {
         "mode": "lines",
         "name": "ES6 0 urban decentral water tanks discharger-2020 – 1-Zone (DE)",
         "type": "scatter",
         "x": [],
         "y": []
        },
        {
         "mode": "lines",
         "name": "FR0 0 urban decentral water tanks discharger-2020 – 1-Zone (DE)",
         "type": "scatter",
         "x": [],
         "y": []
        },
        {
         "mode": "lines",
         "name": "FR4 0 rural water tanks discharger-2020 – 1-Zone (DE)",
         "type": "scatter",
         "x": [],
         "y": []
        },
        {
         "mode": "lines",
         "name": "GB2 0 rural water tanks discharger-2020 – 1-Zone (DE)",
         "type": "scatter",
         "x": [],
         "y": []
        },
        {
         "mode": "lines",
         "name": "GB2 0 urban decentral water tanks discharger-2020 – 1-Zone (DE)",
         "type": "scatter",
         "x": [],
         "y": []
        },
        {
         "mode": "lines",
         "name": "GB5 0 rural water tanks discharger-2020 – 1-Zone (DE)",
         "type": "scatter",
         "x": [],
         "y": []
        },
        {
         "mode": "lines",
         "name": "GB5 0 urban decentral water tanks discharger-2020 – 1-Zone (DE)",
         "type": "scatter",
         "x": [],
         "y": []
        },
        {
         "mode": "lines",
         "name": "IT0 0 urban decentral water tanks discharger-2020 – 1-Zone (DE)",
         "type": "scatter",
         "x": [],
         "y": []
        },
        {
         "mode": "lines",
         "name": "IT3 0 rural water tanks discharger-2020 – 1-Zone (DE)",
         "type": "scatter",
         "x": [],
         "y": []
        },
        {
         "mode": "lines",
         "name": "LU0 0 rural water tanks discharger-2020 – 1-Zone (DE)",
         "type": "scatter",
         "x": [],
         "y": []
        },
        {
         "mode": "lines",
         "name": "LU0 0 urban decentral water tanks discharger-2020 – 1-Zone (DE)",
         "type": "scatter",
         "x": [],
         "y": []
        },
        {
         "mode": "lines",
         "name": "NL0 0 rural water tanks discharger-2020 – 1-Zone (DE)",
         "type": "scatter",
         "x": [],
         "y": []
        },
        {
         "mode": "lines",
         "name": "NO1 0 rural water tanks discharger-2020 – 1-Zone (DE)",
         "type": "scatter",
         "x": [],
         "y": []
        },
        {
         "mode": "lines",
         "name": "NO1 0 urban decentral water tanks discharger-2020 – 1-Zone (DE)",
         "type": "scatter",
         "x": [],
         "y": []
        },
        {
         "mode": "lines",
         "name": "PL0 0 rural water tanks discharger-2020 – 1-Zone (DE)",
         "type": "scatter",
         "x": [],
         "y": []
        },
        {
         "mode": "lines",
         "name": "PL0 0 urban decentral water tanks discharger-2020 – 1-Zone (DE)",
         "type": "scatter",
         "x": [],
         "y": []
        },
        {
         "mode": "lines",
         "name": "SE1 0 urban decentral water tanks discharger-2020 – 1-Zone (DE)",
         "type": "scatter",
         "x": [],
         "y": []
        },
        {
         "mode": "lines",
         "name": "AT0 0 battery discharger-2045 – 1H Res, 1-Zone (DE)",
         "type": "scatter",
         "x": [],
         "y": []
        },
        {
         "mode": "lines",
         "name": "BE0 0 battery discharger-2045 – 1H Res, 1-Zone (DE)",
         "type": "scatter",
         "x": [],
         "y": []
        },
        {
         "mode": "lines",
         "name": "CH0 0 battery discharger-2045 – 1H Res, 1-Zone (DE)",
         "type": "scatter",
         "x": [],
         "y": []
        },
        {
         "mode": "lines",
         "name": "CZ0 0 battery discharger-2045 – 1H Res, 1-Zone (DE)",
         "type": "scatter",
         "x": [],
         "y": []
        },
        {
         "mode": "lines",
         "name": "DE0 0 battery discharger-2045 – 1H Res, 1-Zone (DE)",
         "type": "scatter",
         "x": [],
         "y": []
        },
        {
         "mode": "lines",
         "name": "DK0 0 battery discharger-2045 – 1H Res, 1-Zone (DE)",
         "type": "scatter",
         "x": [],
         "y": []
        },
        {
         "mode": "lines",
         "name": "DK1 0 battery discharger-2045 – 1H Res, 1-Zone (DE)",
         "type": "scatter",
         "x": [],
         "y": []
        },
        {
         "mode": "lines",
         "name": "ES0 0 battery discharger-2045 – 1H Res, 1-Zone (DE)",
         "type": "scatter",
         "x": [],
         "y": []
        },
        {
         "mode": "lines",
         "name": "ES6 0 battery discharger-2045 – 1H Res, 1-Zone (DE)",
         "type": "scatter",
         "x": [],
         "y": []
        },
        {
         "mode": "lines",
         "name": "FR0 0 battery discharger-2045 – 1H Res, 1-Zone (DE)",
         "type": "scatter",
         "x": [],
         "y": []
        },
        {
         "mode": "lines",
         "name": "FR4 0 battery discharger-2045 – 1H Res, 1-Zone (DE)",
         "type": "scatter",
         "x": [],
         "y": []
        },
        {
         "mode": "lines",
         "name": "GB2 0 battery discharger-2045 – 1H Res, 1-Zone (DE)",
         "type": "scatter",
         "x": [],
         "y": []
        },
        {
         "mode": "lines",
         "name": "GB5 0 battery discharger-2045 – 1H Res, 1-Zone (DE)",
         "type": "scatter",
         "x": [],
         "y": []
        },
        {
         "mode": "lines",
         "name": "IT0 0 battery discharger-2045 – 1H Res, 1-Zone (DE)",
         "type": "scatter",
         "x": [],
         "y": []
        },
        {
         "mode": "lines",
         "name": "IT3 0 battery discharger-2045 – 1H Res, 1-Zone (DE)",
         "type": "scatter",
         "x": [],
         "y": []
        },
        {
         "mode": "lines",
         "name": "LU0 0 battery discharger-2045 – 1H Res, 1-Zone (DE)",
         "type": "scatter",
         "x": [],
         "y": []
        },
        {
         "mode": "lines",
         "name": "NL0 0 battery discharger-2045 – 1H Res, 1-Zone (DE)",
         "type": "scatter",
         "x": [],
         "y": []
        },
        {
         "mode": "lines",
         "name": "NO1 0 battery discharger-2045 – 1H Res, 1-Zone (DE)",
         "type": "scatter",
         "x": [],
         "y": []
        },
        {
         "mode": "lines",
         "name": "PL0 0 battery discharger-2045 – 1H Res, 1-Zone (DE)",
         "type": "scatter",
         "x": [],
         "y": []
        },
        {
         "mode": "lines",
         "name": "SE1 0 battery discharger-2045 – 1H Res, 1-Zone (DE)",
         "type": "scatter",
         "x": [],
         "y": []
        },
        {
         "mode": "lines",
         "name": "AT0 0 urban central water tanks discharger-2045 – 1H Res, 1-Zone (DE)",
         "type": "scatter",
         "x": [],
         "y": []
        },
        {
         "mode": "lines",
         "name": "BE0 0 urban central water tanks discharger-2045 – 1H Res, 1-Zone (DE)",
         "type": "scatter",
         "x": [],
         "y": []
        },
        {
         "mode": "lines",
         "name": "CH0 0 urban central water tanks discharger-2045 – 1H Res, 1-Zone (DE)",
         "type": "scatter",
         "x": [],
         "y": []
        },
        {
         "mode": "lines",
         "name": "CZ0 0 urban central water tanks discharger-2045 – 1H Res, 1-Zone (DE)",
         "type": "scatter",
         "x": [],
         "y": []
        },
        {
         "mode": "lines",
         "name": "DE0 0 urban central water tanks discharger-2045 – 1H Res, 1-Zone (DE)",
         "type": "scatter",
         "x": [],
         "y": []
        },
        {
         "mode": "lines",
         "name": "DK0 0 urban central water tanks discharger-2045 – 1H Res, 1-Zone (DE)",
         "type": "scatter",
         "x": [],
         "y": []
        },
        {
         "mode": "lines",
         "name": "DK1 0 urban central water tanks discharger-2045 – 1H Res, 1-Zone (DE)",
         "type": "scatter",
         "x": [],
         "y": []
        },
        {
         "mode": "lines",
         "name": "ES0 0 urban central water tanks discharger-2045 – 1H Res, 1-Zone (DE)",
         "type": "scatter",
         "x": [],
         "y": []
        },
        {
         "mode": "lines",
         "name": "ES6 0 urban central water tanks discharger-2045 – 1H Res, 1-Zone (DE)",
         "type": "scatter",
         "x": [],
         "y": []
        },
        {
         "mode": "lines",
         "name": "FR0 0 urban central water tanks discharger-2045 – 1H Res, 1-Zone (DE)",
         "type": "scatter",
         "x": [],
         "y": []
        },
        {
         "mode": "lines",
         "name": "GB2 0 urban central water tanks discharger-2045 – 1H Res, 1-Zone (DE)",
         "type": "scatter",
         "x": [],
         "y": []
        },
        {
         "mode": "lines",
         "name": "GB5 0 urban central water tanks discharger-2045 – 1H Res, 1-Zone (DE)",
         "type": "scatter",
         "x": [],
         "y": []
        },
        {
         "mode": "lines",
         "name": "IT0 0 urban central water tanks discharger-2045 – 1H Res, 1-Zone (DE)",
         "type": "scatter",
         "x": [],
         "y": []
        },
        {
         "mode": "lines",
         "name": "IT3 0 urban central water tanks discharger-2045 – 1H Res, 1-Zone (DE)",
         "type": "scatter",
         "x": [],
         "y": []
        },
        {
         "mode": "lines",
         "name": "LU0 0 urban central water tanks discharger-2045 – 1H Res, 1-Zone (DE)",
         "type": "scatter",
         "x": [],
         "y": []
        },
        {
         "mode": "lines",
         "name": "NL0 0 urban central water tanks discharger-2045 – 1H Res, 1-Zone (DE)",
         "type": "scatter",
         "x": [],
         "y": []
        },
        {
         "mode": "lines",
         "name": "NO1 0 urban central water tanks discharger-2045 – 1H Res, 1-Zone (DE)",
         "type": "scatter",
         "x": [],
         "y": []
        },
        {
         "mode": "lines",
         "name": "PL0 0 urban central water tanks discharger-2045 – 1H Res, 1-Zone (DE)",
         "type": "scatter",
         "x": [],
         "y": []
        },
        {
         "mode": "lines",
         "name": "SE1 0 urban central water tanks discharger-2045 – 1H Res, 1-Zone (DE)",
         "type": "scatter",
         "x": [],
         "y": []
        },
        {
         "mode": "lines",
         "name": "AT0 0 urban central water pits discharger-2045 – 1H Res, 1-Zone (DE)",
         "type": "scatter",
         "x": [],
         "y": []
        },
        {
         "mode": "lines",
         "name": "BE0 0 urban central water pits discharger-2045 – 1H Res, 1-Zone (DE)",
         "type": "scatter",
         "x": [],
         "y": []
        },
        {
         "mode": "lines",
         "name": "CH0 0 urban central water pits discharger-2045 – 1H Res, 1-Zone (DE)",
         "type": "scatter",
         "x": [],
         "y": []
        },
        {
         "mode": "lines",
         "name": "CZ0 0 urban central water pits discharger-2045 – 1H Res, 1-Zone (DE)",
         "type": "scatter",
         "x": [],
         "y": []
        },
        {
         "mode": "lines",
         "name": "DE0 0 urban central water pits discharger-2045 – 1H Res, 1-Zone (DE)",
         "type": "scatter",
         "x": [],
         "y": []
        },
        {
         "mode": "lines",
         "name": "DK0 0 urban central water pits discharger-2045 – 1H Res, 1-Zone (DE)",
         "type": "scatter",
         "x": [],
         "y": []
        },
        {
         "mode": "lines",
         "name": "DK1 0 urban central water pits discharger-2045 – 1H Res, 1-Zone (DE)",
         "type": "scatter",
         "x": [],
         "y": []
        },
        {
         "mode": "lines",
         "name": "ES0 0 urban central water pits discharger-2045 – 1H Res, 1-Zone (DE)",
         "type": "scatter",
         "x": [],
         "y": []
        },
        {
         "mode": "lines",
         "name": "ES6 0 urban central water pits discharger-2045 – 1H Res, 1-Zone (DE)",
         "type": "scatter",
         "x": [],
         "y": []
        },
        {
         "mode": "lines",
         "name": "FR0 0 urban central water pits discharger-2045 – 1H Res, 1-Zone (DE)",
         "type": "scatter",
         "x": [],
         "y": []
        },
        {
         "mode": "lines",
         "name": "GB2 0 urban central water pits discharger-2045 – 1H Res, 1-Zone (DE)",
         "type": "scatter",
         "x": [],
         "y": []
        },
        {
         "mode": "lines",
         "name": "GB5 0 urban central water pits discharger-2045 – 1H Res, 1-Zone (DE)",
         "type": "scatter",
         "x": [],
         "y": []
        },
        {
         "mode": "lines",
         "name": "IT0 0 urban central water pits discharger-2045 – 1H Res, 1-Zone (DE)",
         "type": "scatter",
         "x": [],
         "y": []
        },
        {
         "mode": "lines",
         "name": "IT3 0 urban central water pits discharger-2045 – 1H Res, 1-Zone (DE)",
         "type": "scatter",
         "x": [],
         "y": []
        },
        {
         "mode": "lines",
         "name": "LU0 0 urban central water pits discharger-2045 – 1H Res, 1-Zone (DE)",
         "type": "scatter",
         "x": [],
         "y": []
        },
        {
         "mode": "lines",
         "name": "NL0 0 urban central water pits discharger-2045 – 1H Res, 1-Zone (DE)",
         "type": "scatter",
         "x": [],
         "y": []
        },
        {
         "mode": "lines",
         "name": "NO1 0 urban central water pits discharger-2045 – 1H Res, 1-Zone (DE)",
         "type": "scatter",
         "x": [],
         "y": []
        },
        {
         "mode": "lines",
         "name": "PL0 0 urban central water pits discharger-2045 – 1H Res, 1-Zone (DE)",
         "type": "scatter",
         "x": [],
         "y": []
        },
        {
         "mode": "lines",
         "name": "SE1 0 urban central water pits discharger-2045 – 1H Res, 1-Zone (DE)",
         "type": "scatter",
         "x": [],
         "y": []
        },
        {
         "mode": "lines",
         "name": "AT0 0 home battery discharger-2045 – 1H Res, 1-Zone (DE)",
         "type": "scatter",
         "x": [],
         "y": []
        },
        {
         "mode": "lines",
         "name": "BE0 0 home battery discharger-2045 – 1H Res, 1-Zone (DE)",
         "type": "scatter",
         "x": [],
         "y": []
        },
        {
         "mode": "lines",
         "name": "CH0 0 home battery discharger-2045 – 1H Res, 1-Zone (DE)",
         "type": "scatter",
         "x": [],
         "y": []
        },
        {
         "mode": "lines",
         "name": "CZ0 0 home battery discharger-2045 – 1H Res, 1-Zone (DE)",
         "type": "scatter",
         "x": [],
         "y": []
        },
        {
         "mode": "lines",
         "name": "DE0 0 home battery discharger-2045 – 1H Res, 1-Zone (DE)",
         "type": "scatter",
         "x": [],
         "y": []
        },
        {
         "mode": "lines",
         "name": "DK0 0 home battery discharger-2045 – 1H Res, 1-Zone (DE)",
         "type": "scatter",
         "x": [],
         "y": []
        },
        {
         "mode": "lines",
         "name": "DK1 0 home battery discharger-2045 – 1H Res, 1-Zone (DE)",
         "type": "scatter",
         "x": [],
         "y": []
        },
        {
         "mode": "lines",
         "name": "ES0 0 home battery discharger-2045 – 1H Res, 1-Zone (DE)",
         "type": "scatter",
         "x": [],
         "y": []
        },
        {
         "mode": "lines",
         "name": "ES6 0 home battery discharger-2045 – 1H Res, 1-Zone (DE)",
         "type": "scatter",
         "x": [],
         "y": []
        },
        {
         "mode": "lines",
         "name": "FR0 0 home battery discharger-2045 – 1H Res, 1-Zone (DE)",
         "type": "scatter",
         "x": [],
         "y": []
        },
        {
         "mode": "lines",
         "name": "FR4 0 home battery discharger-2045 – 1H Res, 1-Zone (DE)",
         "type": "scatter",
         "x": [],
         "y": []
        },
        {
         "mode": "lines",
         "name": "GB2 0 home battery discharger-2045 – 1H Res, 1-Zone (DE)",
         "type": "scatter",
         "x": [],
         "y": []
        },
        {
         "mode": "lines",
         "name": "GB5 0 home battery discharger-2045 – 1H Res, 1-Zone (DE)",
         "type": "scatter",
         "x": [],
         "y": []
        },
        {
         "mode": "lines",
         "name": "IT0 0 home battery discharger-2045 – 1H Res, 1-Zone (DE)",
         "type": "scatter",
         "x": [],
         "y": []
        },
        {
         "mode": "lines",
         "name": "IT3 0 home battery discharger-2045 – 1H Res, 1-Zone (DE)",
         "type": "scatter",
         "x": [],
         "y": []
        },
        {
         "mode": "lines",
         "name": "LU0 0 home battery discharger-2045 – 1H Res, 1-Zone (DE)",
         "type": "scatter",
         "x": [],
         "y": []
        },
        {
         "mode": "lines",
         "name": "NL0 0 home battery discharger-2045 – 1H Res, 1-Zone (DE)",
         "type": "scatter",
         "x": [],
         "y": []
        },
        {
         "mode": "lines",
         "name": "NO1 0 home battery discharger-2045 – 1H Res, 1-Zone (DE)",
         "type": "scatter",
         "x": [],
         "y": []
        },
        {
         "mode": "lines",
         "name": "PL0 0 home battery discharger-2045 – 1H Res, 1-Zone (DE)",
         "type": "scatter",
         "x": [],
         "y": []
        },
        {
         "mode": "lines",
         "name": "SE1 0 home battery discharger-2045 – 1H Res, 1-Zone (DE)",
         "type": "scatter",
         "x": [],
         "y": []
        },
        {
         "mode": "lines",
         "name": "AT0 0 rural water tanks discharger-2045 – 1H Res, 1-Zone (DE)",
         "type": "scatter",
         "x": [],
         "y": []
        },
        {
         "mode": "lines",
         "name": "AT0 0 urban decentral water tanks discharger-2045 – 1H Res, 1-Zone (DE)",
         "type": "scatter",
         "x": [],
         "y": []
        },
        {
         "mode": "lines",
         "name": "BE0 0 rural water tanks discharger-2045 – 1H Res, 1-Zone (DE)",
         "type": "scatter",
         "x": [],
         "y": []
        },
        {
         "mode": "lines",
         "name": "BE0 0 urban decentral water tanks discharger-2045 – 1H Res, 1-Zone (DE)",
         "type": "scatter",
         "x": [],
         "y": []
        },
        {
         "mode": "lines",
         "name": "CH0 0 rural water tanks discharger-2045 – 1H Res, 1-Zone (DE)",
         "type": "scatter",
         "x": [],
         "y": []
        },
        {
         "mode": "lines",
         "name": "CH0 0 urban decentral water tanks discharger-2045 – 1H Res, 1-Zone (DE)",
         "type": "scatter",
         "x": [],
         "y": []
        },
        {
         "mode": "lines",
         "name": "CZ0 0 rural water tanks discharger-2045 – 1H Res, 1-Zone (DE)",
         "type": "scatter",
         "x": [],
         "y": []
        },
        {
         "mode": "lines",
         "name": "CZ0 0 urban decentral water tanks discharger-2045 – 1H Res, 1-Zone (DE)",
         "type": "scatter",
         "x": [],
         "y": []
        },
        {
         "mode": "lines",
         "name": "DE0 0 rural water tanks discharger-2045 – 1H Res, 1-Zone (DE)",
         "type": "scatter",
         "x": [],
         "y": []
        },
        {
         "mode": "lines",
         "name": "DE0 0 urban decentral water tanks discharger-2045 – 1H Res, 1-Zone (DE)",
         "type": "scatter",
         "x": [],
         "y": []
        },
        {
         "mode": "lines",
         "name": "DK0 0 rural water tanks discharger-2045 – 1H Res, 1-Zone (DE)",
         "type": "scatter",
         "x": [],
         "y": []
        },
        {
         "mode": "lines",
         "name": "DK0 0 urban decentral water tanks discharger-2045 – 1H Res, 1-Zone (DE)",
         "type": "scatter",
         "x": [],
         "y": []
        },
        {
         "mode": "lines",
         "name": "DK1 0 rural water tanks discharger-2045 – 1H Res, 1-Zone (DE)",
         "type": "scatter",
         "x": [],
         "y": []
        },
        {
         "mode": "lines",
         "name": "DK1 0 urban decentral water tanks discharger-2045 – 1H Res, 1-Zone (DE)",
         "type": "scatter",
         "x": [],
         "y": []
        },
        {
         "mode": "lines",
         "name": "ES0 0 rural water tanks discharger-2045 – 1H Res, 1-Zone (DE)",
         "type": "scatter",
         "x": [],
         "y": []
        },
        {
         "mode": "lines",
         "name": "ES0 0 urban decentral water tanks discharger-2045 – 1H Res, 1-Zone (DE)",
         "type": "scatter",
         "x": [],
         "y": []
        },
        {
         "mode": "lines",
         "name": "ES6 0 rural water tanks discharger-2045 – 1H Res, 1-Zone (DE)",
         "type": "scatter",
         "x": [],
         "y": []
        },
        {
         "mode": "lines",
         "name": "ES6 0 urban decentral water tanks discharger-2045 – 1H Res, 1-Zone (DE)",
         "type": "scatter",
         "x": [],
         "y": []
        },
        {
         "mode": "lines",
         "name": "FR0 0 rural water tanks discharger-2045 – 1H Res, 1-Zone (DE)",
         "type": "scatter",
         "x": [],
         "y": []
        },
        {
         "mode": "lines",
         "name": "FR0 0 urban decentral water tanks discharger-2045 – 1H Res, 1-Zone (DE)",
         "type": "scatter",
         "x": [],
         "y": []
        },
        {
         "mode": "lines",
         "name": "FR4 0 rural water tanks discharger-2045 – 1H Res, 1-Zone (DE)",
         "type": "scatter",
         "x": [],
         "y": []
        },
        {
         "mode": "lines",
         "name": "FR4 0 urban decentral water tanks discharger-2045 – 1H Res, 1-Zone (DE)",
         "type": "scatter",
         "x": [],
         "y": []
        },
        {
         "mode": "lines",
         "name": "GB2 0 rural water tanks discharger-2045 – 1H Res, 1-Zone (DE)",
         "type": "scatter",
         "x": [],
         "y": []
        },
        {
         "mode": "lines",
         "name": "GB2 0 urban decentral water tanks discharger-2045 – 1H Res, 1-Zone (DE)",
         "type": "scatter",
         "x": [],
         "y": []
        },
        {
         "mode": "lines",
         "name": "GB5 0 rural water tanks discharger-2045 – 1H Res, 1-Zone (DE)",
         "type": "scatter",
         "x": [],
         "y": []
        },
        {
         "mode": "lines",
         "name": "GB5 0 urban decentral water tanks discharger-2045 – 1H Res, 1-Zone (DE)",
         "type": "scatter",
         "x": [],
         "y": []
        },
        {
         "mode": "lines",
         "name": "IT0 0 rural water tanks discharger-2045 – 1H Res, 1-Zone (DE)",
         "type": "scatter",
         "x": [],
         "y": []
        },
        {
         "mode": "lines",
         "name": "IT0 0 urban decentral water tanks discharger-2045 – 1H Res, 1-Zone (DE)",
         "type": "scatter",
         "x": [],
         "y": []
        },
        {
         "mode": "lines",
         "name": "IT3 0 rural water tanks discharger-2045 – 1H Res, 1-Zone (DE)",
         "type": "scatter",
         "x": [],
         "y": []
        },
        {
         "mode": "lines",
         "name": "IT3 0 urban decentral water tanks discharger-2045 – 1H Res, 1-Zone (DE)",
         "type": "scatter",
         "x": [],
         "y": []
        },
        {
         "mode": "lines",
         "name": "LU0 0 rural water tanks discharger-2045 – 1H Res, 1-Zone (DE)",
         "type": "scatter",
         "x": [],
         "y": []
        },
        {
         "mode": "lines",
         "name": "LU0 0 urban decentral water tanks discharger-2045 – 1H Res, 1-Zone (DE)",
         "type": "scatter",
         "x": [],
         "y": []
        },
        {
         "mode": "lines",
         "name": "NL0 0 rural water tanks discharger-2045 – 1H Res, 1-Zone (DE)",
         "type": "scatter",
         "x": [],
         "y": []
        },
        {
         "mode": "lines",
         "name": "NL0 0 urban decentral water tanks discharger-2045 – 1H Res, 1-Zone (DE)",
         "type": "scatter",
         "x": [],
         "y": []
        },
        {
         "mode": "lines",
         "name": "NO1 0 rural water tanks discharger-2045 – 1H Res, 1-Zone (DE)",
         "type": "scatter",
         "x": [],
         "y": []
        },
        {
         "mode": "lines",
         "name": "NO1 0 urban decentral water tanks discharger-2045 – 1H Res, 1-Zone (DE)",
         "type": "scatter",
         "x": [],
         "y": []
        },
        {
         "mode": "lines",
         "name": "PL0 0 rural water tanks discharger-2045 – 1H Res, 1-Zone (DE)",
         "type": "scatter",
         "x": [],
         "y": []
        },
        {
         "mode": "lines",
         "name": "PL0 0 urban decentral water tanks discharger-2045 – 1H Res, 1-Zone (DE)",
         "type": "scatter",
         "x": [],
         "y": []
        },
        {
         "mode": "lines",
         "name": "SE1 0 rural water tanks discharger-2045 – 1H Res, 1-Zone (DE)",
         "type": "scatter",
         "x": [],
         "y": []
        },
        {
         "mode": "lines",
         "name": "SE1 0 urban decentral water tanks discharger-2045 – 1H Res, 1-Zone (DE)",
         "type": "scatter",
         "x": [],
         "y": []
        },
        {
         "mode": "lines",
         "name": "AT0 0 battery discharger-2040 – 1H Res, 1-Zone (DE)",
         "type": "scatter",
         "x": [],
         "y": []
        },
        {
         "mode": "lines",
         "name": "BE0 0 battery discharger-2040 – 1H Res, 1-Zone (DE)",
         "type": "scatter",
         "x": [],
         "y": []
        },
        {
         "mode": "lines",
         "name": "CH0 0 battery discharger-2040 – 1H Res, 1-Zone (DE)",
         "type": "scatter",
         "x": [],
         "y": []
        },
        {
         "mode": "lines",
         "name": "CZ0 0 battery discharger-2040 – 1H Res, 1-Zone (DE)",
         "type": "scatter",
         "x": [],
         "y": []
        },
        {
         "mode": "lines",
         "name": "DE0 0 battery discharger-2040 – 1H Res, 1-Zone (DE)",
         "type": "scatter",
         "x": [],
         "y": []
        },
        {
         "mode": "lines",
         "name": "ES0 0 battery discharger-2040 – 1H Res, 1-Zone (DE)",
         "type": "scatter",
         "x": [],
         "y": []
        },
        {
         "mode": "lines",
         "name": "ES6 0 battery discharger-2040 – 1H Res, 1-Zone (DE)",
         "type": "scatter",
         "x": [],
         "y": []
        },
        {
         "mode": "lines",
         "name": "FR0 0 battery discharger-2040 – 1H Res, 1-Zone (DE)",
         "type": "scatter",
         "x": [],
         "y": []
        },
        {
         "mode": "lines",
         "name": "GB2 0 battery discharger-2040 – 1H Res, 1-Zone (DE)",
         "type": "scatter",
         "x": [],
         "y": []
        },
        {
         "mode": "lines",
         "name": "IT0 0 battery discharger-2040 – 1H Res, 1-Zone (DE)",
         "type": "scatter",
         "x": [],
         "y": []
        },
        {
         "mode": "lines",
         "name": "IT3 0 battery discharger-2040 – 1H Res, 1-Zone (DE)",
         "type": "scatter",
         "x": [],
         "y": []
        },
        {
         "mode": "lines",
         "name": "NL0 0 battery discharger-2040 – 1H Res, 1-Zone (DE)",
         "type": "scatter",
         "x": [],
         "y": []
        },
        {
         "mode": "lines",
         "name": "PL0 0 battery discharger-2040 – 1H Res, 1-Zone (DE)",
         "type": "scatter",
         "x": [],
         "y": []
        },
        {
         "mode": "lines",
         "name": "AT0 0 urban central water pits discharger-2040 – 1H Res, 1-Zone (DE)",
         "type": "scatter",
         "x": [],
         "y": []
        },
        {
         "mode": "lines",
         "name": "BE0 0 urban central water pits discharger-2040 – 1H Res, 1-Zone (DE)",
         "type": "scatter",
         "x": [],
         "y": []
        },
        {
         "mode": "lines",
         "name": "CH0 0 urban central water pits discharger-2040 – 1H Res, 1-Zone (DE)",
         "type": "scatter",
         "x": [],
         "y": []
        },
        {
         "mode": "lines",
         "name": "CZ0 0 urban central water pits discharger-2040 – 1H Res, 1-Zone (DE)",
         "type": "scatter",
         "x": [],
         "y": []
        },
        {
         "mode": "lines",
         "name": "DK0 0 urban central water pits discharger-2040 – 1H Res, 1-Zone (DE)",
         "type": "scatter",
         "x": [],
         "y": []
        },
        {
         "mode": "lines",
         "name": "DK1 0 urban central water pits discharger-2040 – 1H Res, 1-Zone (DE)",
         "type": "scatter",
         "x": [],
         "y": []
        },
        {
         "mode": "lines",
         "name": "ES0 0 urban central water pits discharger-2040 – 1H Res, 1-Zone (DE)",
         "type": "scatter",
         "x": [],
         "y": []
        },
        {
         "mode": "lines",
         "name": "ES6 0 urban central water pits discharger-2040 – 1H Res, 1-Zone (DE)",
         "type": "scatter",
         "x": [],
         "y": []
        },
        {
         "mode": "lines",
         "name": "FR0 0 urban central water pits discharger-2040 – 1H Res, 1-Zone (DE)",
         "type": "scatter",
         "x": [],
         "y": []
        },
        {
         "mode": "lines",
         "name": "IT0 0 urban central water pits discharger-2040 – 1H Res, 1-Zone (DE)",
         "type": "scatter",
         "x": [],
         "y": []
        },
        {
         "mode": "lines",
         "name": "PL0 0 urban central water pits discharger-2040 – 1H Res, 1-Zone (DE)",
         "type": "scatter",
         "x": [],
         "y": []
        },
        {
         "mode": "lines",
         "name": "SE1 0 urban central water pits discharger-2040 – 1H Res, 1-Zone (DE)",
         "type": "scatter",
         "x": [],
         "y": []
        },
        {
         "mode": "lines",
         "name": "CH0 0 home battery discharger-2040 – 1H Res, 1-Zone (DE)",
         "type": "scatter",
         "x": [],
         "y": []
        },
        {
         "mode": "lines",
         "name": "CZ0 0 home battery discharger-2040 – 1H Res, 1-Zone (DE)",
         "type": "scatter",
         "x": [],
         "y": []
        },
        {
         "mode": "lines",
         "name": "DE0 0 home battery discharger-2040 – 1H Res, 1-Zone (DE)",
         "type": "scatter",
         "x": [],
         "y": []
        },
        {
         "mode": "lines",
         "name": "DK1 0 home battery discharger-2040 – 1H Res, 1-Zone (DE)",
         "type": "scatter",
         "x": [],
         "y": []
        },
        {
         "mode": "lines",
         "name": "ES0 0 home battery discharger-2040 – 1H Res, 1-Zone (DE)",
         "type": "scatter",
         "x": [],
         "y": []
        },
        {
         "mode": "lines",
         "name": "FR0 0 home battery discharger-2040 – 1H Res, 1-Zone (DE)",
         "type": "scatter",
         "x": [],
         "y": []
        },
        {
         "mode": "lines",
         "name": "FR4 0 home battery discharger-2040 – 1H Res, 1-Zone (DE)",
         "type": "scatter",
         "x": [],
         "y": []
        },
        {
         "mode": "lines",
         "name": "GB2 0 home battery discharger-2040 – 1H Res, 1-Zone (DE)",
         "type": "scatter",
         "x": [],
         "y": []
        },
        {
         "mode": "lines",
         "name": "IT0 0 home battery discharger-2040 – 1H Res, 1-Zone (DE)",
         "type": "scatter",
         "x": [],
         "y": []
        },
        {
         "mode": "lines",
         "name": "IT3 0 home battery discharger-2040 – 1H Res, 1-Zone (DE)",
         "type": "scatter",
         "x": [],
         "y": []
        },
        {
         "mode": "lines",
         "name": "NL0 0 home battery discharger-2040 – 1H Res, 1-Zone (DE)",
         "type": "scatter",
         "x": [],
         "y": []
        },
        {
         "mode": "lines",
         "name": "PL0 0 home battery discharger-2040 – 1H Res, 1-Zone (DE)",
         "type": "scatter",
         "x": [],
         "y": []
        },
        {
         "mode": "lines",
         "name": "SE1 0 home battery discharger-2040 – 1H Res, 1-Zone (DE)",
         "type": "scatter",
         "x": [],
         "y": []
        },
        {
         "mode": "lines",
         "name": "CZ0 0 rural water tanks discharger-2040 – 1H Res, 1-Zone (DE)",
         "type": "scatter",
         "x": [],
         "y": []
        },
        {
         "mode": "lines",
         "name": "IT0 0 rural water tanks discharger-2040 – 1H Res, 1-Zone (DE)",
         "type": "scatter",
         "x": [],
         "y": []
        },
        {
         "mode": "lines",
         "name": "PL0 0 rural water tanks discharger-2040 – 1H Res, 1-Zone (DE)",
         "type": "scatter",
         "x": [],
         "y": []
        },
        {
         "mode": "lines",
         "name": "PL0 0 urban decentral water tanks discharger-2040 – 1H Res, 1-Zone (DE)",
         "type": "scatter",
         "x": [],
         "y": []
        },
        {
         "mode": "lines",
         "name": "SE1 0 rural water tanks discharger-2040 – 1H Res, 1-Zone (DE)",
         "type": "scatter",
         "x": [],
         "y": []
        },
        {
         "mode": "lines",
         "name": "AT0 0 urban central water pits discharger-2035 – 1H Res, 1-Zone (DE)",
         "type": "scatter",
         "x": [],
         "y": []
        },
        {
         "mode": "lines",
         "name": "BE0 0 urban central water pits discharger-2035 – 1H Res, 1-Zone (DE)",
         "type": "scatter",
         "x": [],
         "y": []
        },
        {
         "mode": "lines",
         "name": "CH0 0 urban central water pits discharger-2035 – 1H Res, 1-Zone (DE)",
         "type": "scatter",
         "x": [],
         "y": []
        },
        {
         "mode": "lines",
         "name": "CZ0 0 urban central water pits discharger-2035 – 1H Res, 1-Zone (DE)",
         "type": "scatter",
         "x": [],
         "y": []
        },
        {
         "mode": "lines",
         "name": "DE0 0 urban central water pits discharger-2035 – 1H Res, 1-Zone (DE)",
         "type": "scatter",
         "x": [],
         "y": []
        },
        {
         "mode": "lines",
         "name": "DK0 0 urban central water pits discharger-2035 – 1H Res, 1-Zone (DE)",
         "type": "scatter",
         "x": [],
         "y": []
        },
        {
         "mode": "lines",
         "name": "DK1 0 urban central water pits discharger-2035 – 1H Res, 1-Zone (DE)",
         "type": "scatter",
         "x": [],
         "y": []
        },
        {
         "mode": "lines",
         "name": "ES0 0 urban central water pits discharger-2035 – 1H Res, 1-Zone (DE)",
         "type": "scatter",
         "x": [],
         "y": []
        },
        {
         "mode": "lines",
         "name": "ES6 0 urban central water pits discharger-2035 – 1H Res, 1-Zone (DE)",
         "type": "scatter",
         "x": [],
         "y": []
        },
        {
         "mode": "lines",
         "name": "FR0 0 urban central water pits discharger-2035 – 1H Res, 1-Zone (DE)",
         "type": "scatter",
         "x": [],
         "y": []
        },
        {
         "mode": "lines",
         "name": "GB2 0 urban central water pits discharger-2035 – 1H Res, 1-Zone (DE)",
         "type": "scatter",
         "x": [],
         "y": []
        },
        {
         "mode": "lines",
         "name": "GB5 0 urban central water pits discharger-2035 – 1H Res, 1-Zone (DE)",
         "type": "scatter",
         "x": [],
         "y": []
        },
        {
         "mode": "lines",
         "name": "IT0 0 urban central water pits discharger-2035 – 1H Res, 1-Zone (DE)",
         "type": "scatter",
         "x": [],
         "y": []
        },
        {
         "mode": "lines",
         "name": "IT3 0 urban central water pits discharger-2035 – 1H Res, 1-Zone (DE)",
         "type": "scatter",
         "x": [],
         "y": []
        },
        {
         "mode": "lines",
         "name": "LU0 0 urban central water pits discharger-2035 – 1H Res, 1-Zone (DE)",
         "type": "scatter",
         "x": [],
         "y": []
        },
        {
         "mode": "lines",
         "name": "NL0 0 urban central water pits discharger-2035 – 1H Res, 1-Zone (DE)",
         "type": "scatter",
         "x": [],
         "y": []
        },
        {
         "mode": "lines",
         "name": "NO1 0 urban central water pits discharger-2035 – 1H Res, 1-Zone (DE)",
         "type": "scatter",
         "x": [],
         "y": []
        },
        {
         "mode": "lines",
         "name": "PL0 0 urban central water pits discharger-2035 – 1H Res, 1-Zone (DE)",
         "type": "scatter",
         "x": [],
         "y": []
        },
        {
         "mode": "lines",
         "name": "SE1 0 urban central water pits discharger-2035 – 1H Res, 1-Zone (DE)",
         "type": "scatter",
         "x": [],
         "y": []
        },
        {
         "mode": "lines",
         "name": "AT0 0 rural water tanks discharger-2035 – 1H Res, 1-Zone (DE)",
         "type": "scatter",
         "x": [],
         "y": []
        },
        {
         "mode": "lines",
         "name": "CZ0 0 rural water tanks discharger-2035 – 1H Res, 1-Zone (DE)",
         "type": "scatter",
         "x": [],
         "y": []
        },
        {
         "mode": "lines",
         "name": "DE0 0 rural water tanks discharger-2035 – 1H Res, 1-Zone (DE)",
         "type": "scatter",
         "x": [],
         "y": []
        },
        {
         "mode": "lines",
         "name": "DE0 0 urban decentral water tanks discharger-2035 – 1H Res, 1-Zone (DE)",
         "type": "scatter",
         "x": [],
         "y": []
        },
        {
         "mode": "lines",
         "name": "DK0 0 urban decentral water tanks discharger-2035 – 1H Res, 1-Zone (DE)",
         "type": "scatter",
         "x": [],
         "y": []
        },
        {
         "mode": "lines",
         "name": "FR0 0 rural water tanks discharger-2035 – 1H Res, 1-Zone (DE)",
         "type": "scatter",
         "x": [],
         "y": []
        },
        {
         "mode": "lines",
         "name": "GB2 0 rural water tanks discharger-2035 – 1H Res, 1-Zone (DE)",
         "type": "scatter",
         "x": [],
         "y": []
        },
        {
         "mode": "lines",
         "name": "GB2 0 urban decentral water tanks discharger-2035 – 1H Res, 1-Zone (DE)",
         "type": "scatter",
         "x": [],
         "y": []
        },
        {
         "mode": "lines",
         "name": "GB5 0 rural water tanks discharger-2035 – 1H Res, 1-Zone (DE)",
         "type": "scatter",
         "x": [],
         "y": []
        },
        {
         "mode": "lines",
         "name": "GB5 0 urban decentral water tanks discharger-2035 – 1H Res, 1-Zone (DE)",
         "type": "scatter",
         "x": [],
         "y": []
        },
        {
         "mode": "lines",
         "name": "IT0 0 rural water tanks discharger-2035 – 1H Res, 1-Zone (DE)",
         "type": "scatter",
         "x": [],
         "y": []
        },
        {
         "mode": "lines",
         "name": "NL0 0 urban decentral water tanks discharger-2035 – 1H Res, 1-Zone (DE)",
         "type": "scatter",
         "x": [],
         "y": []
        },
        {
         "mode": "lines",
         "name": "PL0 0 rural water tanks discharger-2035 – 1H Res, 1-Zone (DE)",
         "type": "scatter",
         "x": [],
         "y": []
        },
        {
         "mode": "lines",
         "name": "PL0 0 urban decentral water tanks discharger-2035 – 1H Res, 1-Zone (DE)",
         "type": "scatter",
         "x": [],
         "y": []
        },
        {
         "mode": "lines",
         "name": "AT0 0 urban central water pits discharger-2030 – 1H Res, 1-Zone (DE)",
         "type": "scatter",
         "x": [],
         "y": []
        },
        {
         "mode": "lines",
         "name": "BE0 0 urban central water pits discharger-2030 – 1H Res, 1-Zone (DE)",
         "type": "scatter",
         "x": [],
         "y": []
        },
        {
         "mode": "lines",
         "name": "CH0 0 urban central water pits discharger-2030 – 1H Res, 1-Zone (DE)",
         "type": "scatter",
         "x": [],
         "y": []
        },
        {
         "mode": "lines",
         "name": "CZ0 0 urban central water pits discharger-2030 – 1H Res, 1-Zone (DE)",
         "type": "scatter",
         "x": [],
         "y": []
        },
        {
         "mode": "lines",
         "name": "DE0 0 urban central water pits discharger-2030 – 1H Res, 1-Zone (DE)",
         "type": "scatter",
         "x": [],
         "y": []
        },
        {
         "mode": "lines",
         "name": "DK0 0 urban central water pits discharger-2030 – 1H Res, 1-Zone (DE)",
         "type": "scatter",
         "x": [],
         "y": []
        },
        {
         "mode": "lines",
         "name": "ES0 0 urban central water pits discharger-2030 – 1H Res, 1-Zone (DE)",
         "type": "scatter",
         "x": [],
         "y": []
        },
        {
         "mode": "lines",
         "name": "FR0 0 urban central water pits discharger-2030 – 1H Res, 1-Zone (DE)",
         "type": "scatter",
         "x": [],
         "y": []
        },
        {
         "mode": "lines",
         "name": "GB2 0 urban central water pits discharger-2030 – 1H Res, 1-Zone (DE)",
         "type": "scatter",
         "x": [],
         "y": []
        },
        {
         "mode": "lines",
         "name": "GB5 0 urban central water pits discharger-2030 – 1H Res, 1-Zone (DE)",
         "type": "scatter",
         "x": [],
         "y": []
        },
        {
         "mode": "lines",
         "name": "IT0 0 urban central water pits discharger-2030 – 1H Res, 1-Zone (DE)",
         "type": "scatter",
         "x": [],
         "y": []
        },
        {
         "mode": "lines",
         "name": "IT3 0 urban central water pits discharger-2030 – 1H Res, 1-Zone (DE)",
         "type": "scatter",
         "x": [],
         "y": []
        },
        {
         "mode": "lines",
         "name": "LU0 0 urban central water pits discharger-2030 – 1H Res, 1-Zone (DE)",
         "type": "scatter",
         "x": [],
         "y": []
        },
        {
         "mode": "lines",
         "name": "NL0 0 urban central water pits discharger-2030 – 1H Res, 1-Zone (DE)",
         "type": "scatter",
         "x": [],
         "y": []
        },
        {
         "mode": "lines",
         "name": "NO1 0 urban central water pits discharger-2030 – 1H Res, 1-Zone (DE)",
         "type": "scatter",
         "x": [],
         "y": []
        },
        {
         "mode": "lines",
         "name": "PL0 0 urban central water pits discharger-2030 – 1H Res, 1-Zone (DE)",
         "type": "scatter",
         "x": [],
         "y": []
        },
        {
         "mode": "lines",
         "name": "SE1 0 urban central water pits discharger-2030 – 1H Res, 1-Zone (DE)",
         "type": "scatter",
         "x": [],
         "y": []
        },
        {
         "mode": "lines",
         "name": "CZ0 0 rural water tanks discharger-2030 – 1H Res, 1-Zone (DE)",
         "type": "scatter",
         "x": [],
         "y": []
        },
        {
         "mode": "lines",
         "name": "DE0 0 rural water tanks discharger-2030 – 1H Res, 1-Zone (DE)",
         "type": "scatter",
         "x": [],
         "y": []
        },
        {
         "mode": "lines",
         "name": "DE0 0 urban decentral water tanks discharger-2030 – 1H Res, 1-Zone (DE)",
         "type": "scatter",
         "x": [],
         "y": []
        },
        {
         "mode": "lines",
         "name": "DK1 0 urban decentral water tanks discharger-2030 – 1H Res, 1-Zone (DE)",
         "type": "scatter",
         "x": [],
         "y": []
        },
        {
         "mode": "lines",
         "name": "GB2 0 rural water tanks discharger-2030 – 1H Res, 1-Zone (DE)",
         "type": "scatter",
         "x": [],
         "y": []
        },
        {
         "mode": "lines",
         "name": "GB2 0 urban decentral water tanks discharger-2030 – 1H Res, 1-Zone (DE)",
         "type": "scatter",
         "x": [],
         "y": []
        },
        {
         "mode": "lines",
         "name": "GB5 0 rural water tanks discharger-2030 – 1H Res, 1-Zone (DE)",
         "type": "scatter",
         "x": [],
         "y": []
        },
        {
         "mode": "lines",
         "name": "GB5 0 urban decentral water tanks discharger-2030 – 1H Res, 1-Zone (DE)",
         "type": "scatter",
         "x": [],
         "y": []
        },
        {
         "mode": "lines",
         "name": "NL0 0 urban decentral water tanks discharger-2030 – 1H Res, 1-Zone (DE)",
         "type": "scatter",
         "x": [],
         "y": []
        },
        {
         "mode": "lines",
         "name": "AT0 0 urban central water pits discharger-2025 – 1H Res, 1-Zone (DE)",
         "type": "scatter",
         "x": [],
         "y": []
        },
        {
         "mode": "lines",
         "name": "BE0 0 urban central water pits discharger-2025 – 1H Res, 1-Zone (DE)",
         "type": "scatter",
         "x": [],
         "y": []
        },
        {
         "mode": "lines",
         "name": "CH0 0 urban central water pits discharger-2025 – 1H Res, 1-Zone (DE)",
         "type": "scatter",
         "x": [],
         "y": []
        },
        {
         "mode": "lines",
         "name": "CZ0 0 urban central water pits discharger-2025 – 1H Res, 1-Zone (DE)",
         "type": "scatter",
         "x": [],
         "y": []
        },
        {
         "mode": "lines",
         "name": "DE0 0 urban central water pits discharger-2025 – 1H Res, 1-Zone (DE)",
         "type": "scatter",
         "x": [],
         "y": []
        },
        {
         "mode": "lines",
         "name": "DK0 0 urban central water pits discharger-2025 – 1H Res, 1-Zone (DE)",
         "type": "scatter",
         "x": [],
         "y": []
        },
        {
         "mode": "lines",
         "name": "DK1 0 urban central water pits discharger-2025 – 1H Res, 1-Zone (DE)",
         "type": "scatter",
         "x": [],
         "y": []
        },
        {
         "mode": "lines",
         "name": "ES0 0 urban central water pits discharger-2025 – 1H Res, 1-Zone (DE)",
         "type": "scatter",
         "x": [],
         "y": []
        },
        {
         "mode": "lines",
         "name": "FR0 0 urban central water pits discharger-2025 – 1H Res, 1-Zone (DE)",
         "type": "scatter",
         "x": [],
         "y": []
        },
        {
         "mode": "lines",
         "name": "GB2 0 urban central water pits discharger-2025 – 1H Res, 1-Zone (DE)",
         "type": "scatter",
         "x": [],
         "y": []
        },
        {
         "mode": "lines",
         "name": "GB5 0 urban central water pits discharger-2025 – 1H Res, 1-Zone (DE)",
         "type": "scatter",
         "x": [],
         "y": []
        },
        {
         "mode": "lines",
         "name": "IT0 0 urban central water pits discharger-2025 – 1H Res, 1-Zone (DE)",
         "type": "scatter",
         "x": [],
         "y": []
        },
        {
         "mode": "lines",
         "name": "IT3 0 urban central water pits discharger-2025 – 1H Res, 1-Zone (DE)",
         "type": "scatter",
         "x": [],
         "y": []
        },
        {
         "mode": "lines",
         "name": "LU0 0 urban central water pits discharger-2025 – 1H Res, 1-Zone (DE)",
         "type": "scatter",
         "x": [],
         "y": []
        },
        {
         "mode": "lines",
         "name": "NL0 0 urban central water pits discharger-2025 – 1H Res, 1-Zone (DE)",
         "type": "scatter",
         "x": [],
         "y": []
        },
        {
         "mode": "lines",
         "name": "NO1 0 urban central water pits discharger-2025 – 1H Res, 1-Zone (DE)",
         "type": "scatter",
         "x": [],
         "y": []
        },
        {
         "mode": "lines",
         "name": "SE1 0 urban central water pits discharger-2025 – 1H Res, 1-Zone (DE)",
         "type": "scatter",
         "x": [],
         "y": []
        },
        {
         "mode": "lines",
         "name": "AT0 0 rural water tanks discharger-2025 – 1H Res, 1-Zone (DE)",
         "type": "scatter",
         "x": [],
         "y": []
        },
        {
         "mode": "lines",
         "name": "AT0 0 urban decentral water tanks discharger-2025 – 1H Res, 1-Zone (DE)",
         "type": "scatter",
         "x": [],
         "y": []
        },
        {
         "mode": "lines",
         "name": "BE0 0 rural water tanks discharger-2025 – 1H Res, 1-Zone (DE)",
         "type": "scatter",
         "x": [],
         "y": []
        },
        {
         "mode": "lines",
         "name": "BE0 0 urban decentral water tanks discharger-2025 – 1H Res, 1-Zone (DE)",
         "type": "scatter",
         "x": [],
         "y": []
        },
        {
         "mode": "lines",
         "name": "CZ0 0 rural water tanks discharger-2025 – 1H Res, 1-Zone (DE)",
         "type": "scatter",
         "x": [],
         "y": []
        },
        {
         "mode": "lines",
         "name": "CZ0 0 urban decentral water tanks discharger-2025 – 1H Res, 1-Zone (DE)",
         "type": "scatter",
         "x": [],
         "y": []
        },
        {
         "mode": "lines",
         "name": "DE0 0 rural water tanks discharger-2025 – 1H Res, 1-Zone (DE)",
         "type": "scatter",
         "x": [],
         "y": []
        },
        {
         "mode": "lines",
         "name": "DE0 0 urban decentral water tanks discharger-2025 – 1H Res, 1-Zone (DE)",
         "type": "scatter",
         "x": [],
         "y": []
        },
        {
         "mode": "lines",
         "name": "DK1 0 urban decentral water tanks discharger-2025 – 1H Res, 1-Zone (DE)",
         "type": "scatter",
         "x": [],
         "y": []
        },
        {
         "mode": "lines",
         "name": "ES0 0 rural water tanks discharger-2025 – 1H Res, 1-Zone (DE)",
         "type": "scatter",
         "x": [],
         "y": []
        },
        {
         "mode": "lines",
         "name": "ES0 0 urban decentral water tanks discharger-2025 – 1H Res, 1-Zone (DE)",
         "type": "scatter",
         "x": [],
         "y": []
        },
        {
         "mode": "lines",
         "name": "FR0 0 rural water tanks discharger-2025 – 1H Res, 1-Zone (DE)",
         "type": "scatter",
         "x": [],
         "y": []
        },
        {
         "mode": "lines",
         "name": "FR0 0 urban decentral water tanks discharger-2025 – 1H Res, 1-Zone (DE)",
         "type": "scatter",
         "x": [],
         "y": []
        },
        {
         "mode": "lines",
         "name": "GB2 0 rural water tanks discharger-2025 – 1H Res, 1-Zone (DE)",
         "type": "scatter",
         "x": [],
         "y": []
        },
        {
         "mode": "lines",
         "name": "GB2 0 urban decentral water tanks discharger-2025 – 1H Res, 1-Zone (DE)",
         "type": "scatter",
         "x": [],
         "y": []
        },
        {
         "mode": "lines",
         "name": "GB5 0 rural water tanks discharger-2025 – 1H Res, 1-Zone (DE)",
         "type": "scatter",
         "x": [],
         "y": []
        },
        {
         "mode": "lines",
         "name": "IT0 0 rural water tanks discharger-2025 – 1H Res, 1-Zone (DE)",
         "type": "scatter",
         "x": [],
         "y": []
        },
        {
         "mode": "lines",
         "name": "IT0 0 urban decentral water tanks discharger-2025 – 1H Res, 1-Zone (DE)",
         "type": "scatter",
         "x": [],
         "y": []
        },
        {
         "mode": "lines",
         "name": "IT3 0 rural water tanks discharger-2025 – 1H Res, 1-Zone (DE)",
         "type": "scatter",
         "x": [],
         "y": []
        },
        {
         "mode": "lines",
         "name": "IT3 0 urban decentral water tanks discharger-2025 – 1H Res, 1-Zone (DE)",
         "type": "scatter",
         "x": [],
         "y": []
        },
        {
         "mode": "lines",
         "name": "NL0 0 rural water tanks discharger-2025 – 1H Res, 1-Zone (DE)",
         "type": "scatter",
         "x": [],
         "y": []
        },
        {
         "mode": "lines",
         "name": "NL0 0 urban decentral water tanks discharger-2025 – 1H Res, 1-Zone (DE)",
         "type": "scatter",
         "x": [],
         "y": []
        },
        {
         "mode": "lines",
         "name": "PL0 0 rural water tanks discharger-2025 – 1H Res, 1-Zone (DE)",
         "type": "scatter",
         "x": [],
         "y": []
        },
        {
         "mode": "lines",
         "name": "PL0 0 urban decentral water tanks discharger-2025 – 1H Res, 1-Zone (DE)",
         "type": "scatter",
         "x": [],
         "y": []
        },
        {
         "mode": "lines",
         "name": "SE1 0 rural water tanks discharger-2025 – 1H Res, 1-Zone (DE)",
         "type": "scatter",
         "x": [],
         "y": []
        },
        {
         "mode": "lines",
         "name": "AT0 0 rural water tanks discharger-2020 – 1H Res, 1-Zone (DE)",
         "type": "scatter",
         "x": [],
         "y": []
        },
        {
         "mode": "lines",
         "name": "AT0 0 urban decentral water tanks discharger-2020 – 1H Res, 1-Zone (DE)",
         "type": "scatter",
         "x": [],
         "y": []
        },
        {
         "mode": "lines",
         "name": "BE0 0 rural water tanks discharger-2020 – 1H Res, 1-Zone (DE)",
         "type": "scatter",
         "x": [],
         "y": []
        },
        {
         "mode": "lines",
         "name": "BE0 0 urban decentral water tanks discharger-2020 – 1H Res, 1-Zone (DE)",
         "type": "scatter",
         "x": [],
         "y": []
        },
        {
         "mode": "lines",
         "name": "CH0 0 rural water tanks discharger-2020 – 1H Res, 1-Zone (DE)",
         "type": "scatter",
         "x": [],
         "y": []
        },
        {
         "mode": "lines",
         "name": "CH0 0 urban decentral water tanks discharger-2020 – 1H Res, 1-Zone (DE)",
         "type": "scatter",
         "x": [],
         "y": []
        },
        {
         "mode": "lines",
         "name": "CZ0 0 rural water tanks discharger-2020 – 1H Res, 1-Zone (DE)",
         "type": "scatter",
         "x": [],
         "y": []
        },
        {
         "mode": "lines",
         "name": "CZ0 0 urban decentral water tanks discharger-2020 – 1H Res, 1-Zone (DE)",
         "type": "scatter",
         "x": [],
         "y": []
        },
        {
         "mode": "lines",
         "name": "DE0 0 rural water tanks discharger-2020 – 1H Res, 1-Zone (DE)",
         "type": "scatter",
         "x": [],
         "y": []
        },
        {
         "mode": "lines",
         "name": "DK0 0 rural water tanks discharger-2020 – 1H Res, 1-Zone (DE)",
         "type": "scatter",
         "x": [],
         "y": []
        },
        {
         "mode": "lines",
         "name": "DK0 0 urban decentral water tanks discharger-2020 – 1H Res, 1-Zone (DE)",
         "type": "scatter",
         "x": [],
         "y": []
        },
        {
         "mode": "lines",
         "name": "DK1 0 rural water tanks discharger-2020 – 1H Res, 1-Zone (DE)",
         "type": "scatter",
         "x": [],
         "y": []
        },
        {
         "mode": "lines",
         "name": "DK1 0 urban decentral water tanks discharger-2020 – 1H Res, 1-Zone (DE)",
         "type": "scatter",
         "x": [],
         "y": []
        },
        {
         "mode": "lines",
         "name": "ES0 0 rural water tanks discharger-2020 – 1H Res, 1-Zone (DE)",
         "type": "scatter",
         "x": [],
         "y": []
        },
        {
         "mode": "lines",
         "name": "ES0 0 urban decentral water tanks discharger-2020 – 1H Res, 1-Zone (DE)",
         "type": "scatter",
         "x": [],
         "y": []
        },
        {
         "mode": "lines",
         "name": "ES6 0 rural water tanks discharger-2020 – 1H Res, 1-Zone (DE)",
         "type": "scatter",
         "x": [],
         "y": []
        },
        {
         "mode": "lines",
         "name": "ES6 0 urban decentral water tanks discharger-2020 – 1H Res, 1-Zone (DE)",
         "type": "scatter",
         "x": [],
         "y": []
        },
        {
         "mode": "lines",
         "name": "FR0 0 rural water tanks discharger-2020 – 1H Res, 1-Zone (DE)",
         "type": "scatter",
         "x": [],
         "y": []
        },
        {
         "mode": "lines",
         "name": "FR0 0 urban decentral water tanks discharger-2020 – 1H Res, 1-Zone (DE)",
         "type": "scatter",
         "x": [],
         "y": []
        },
        {
         "mode": "lines",
         "name": "FR4 0 rural water tanks discharger-2020 – 1H Res, 1-Zone (DE)",
         "type": "scatter",
         "x": [],
         "y": []
        },
        {
         "mode": "lines",
         "name": "GB2 0 rural water tanks discharger-2020 – 1H Res, 1-Zone (DE)",
         "type": "scatter",
         "x": [],
         "y": []
        },
        {
         "mode": "lines",
         "name": "GB2 0 urban decentral water tanks discharger-2020 – 1H Res, 1-Zone (DE)",
         "type": "scatter",
         "x": [],
         "y": []
        },
        {
         "mode": "lines",
         "name": "GB5 0 rural water tanks discharger-2020 – 1H Res, 1-Zone (DE)",
         "type": "scatter",
         "x": [],
         "y": []
        },
        {
         "mode": "lines",
         "name": "GB5 0 urban decentral water tanks discharger-2020 – 1H Res, 1-Zone (DE)",
         "type": "scatter",
         "x": [],
         "y": []
        },
        {
         "mode": "lines",
         "name": "IT0 0 rural water tanks discharger-2020 – 1H Res, 1-Zone (DE)",
         "type": "scatter",
         "x": [],
         "y": []
        },
        {
         "mode": "lines",
         "name": "IT0 0 urban decentral water tanks discharger-2020 – 1H Res, 1-Zone (DE)",
         "type": "scatter",
         "x": [],
         "y": []
        },
        {
         "mode": "lines",
         "name": "IT3 0 rural water tanks discharger-2020 – 1H Res, 1-Zone (DE)",
         "type": "scatter",
         "x": [],
         "y": []
        },
        {
         "mode": "lines",
         "name": "IT3 0 urban decentral water tanks discharger-2020 – 1H Res, 1-Zone (DE)",
         "type": "scatter",
         "x": [],
         "y": []
        },
        {
         "mode": "lines",
         "name": "LU0 0 rural water tanks discharger-2020 – 1H Res, 1-Zone (DE)",
         "type": "scatter",
         "x": [],
         "y": []
        },
        {
         "mode": "lines",
         "name": "LU0 0 urban decentral water tanks discharger-2020 – 1H Res, 1-Zone (DE)",
         "type": "scatter",
         "x": [],
         "y": []
        },
        {
         "mode": "lines",
         "name": "NL0 0 rural water tanks discharger-2020 – 1H Res, 1-Zone (DE)",
         "type": "scatter",
         "x": [],
         "y": []
        },
        {
         "mode": "lines",
         "name": "NO1 0 rural water tanks discharger-2020 – 1H Res, 1-Zone (DE)",
         "type": "scatter",
         "x": [],
         "y": []
        },
        {
         "mode": "lines",
         "name": "NO1 0 urban decentral water tanks discharger-2020 – 1H Res, 1-Zone (DE)",
         "type": "scatter",
         "x": [],
         "y": []
        },
        {
         "mode": "lines",
         "name": "PL0 0 rural water tanks discharger-2020 – 1H Res, 1-Zone (DE)",
         "type": "scatter",
         "x": [],
         "y": []
        },
        {
         "mode": "lines",
         "name": "PL0 0 urban decentral water tanks discharger-2020 – 1H Res, 1-Zone (DE)",
         "type": "scatter",
         "x": [],
         "y": []
        },
        {
         "mode": "lines",
         "name": "SE1 0 urban decentral water tanks discharger-2020 – 1H Res, 1-Zone (DE)",
         "type": "scatter",
         "x": [],
         "y": []
        }
       ],
       "layout": {
        "hovermode": "x unified",
        "legend": {
         "title": {
          "text": "Szenario & Link"
         }
        },
        "template": {
         "data": {
          "bar": [
           {
            "error_x": {
             "color": "#2a3f5f"
            },
            "error_y": {
             "color": "#2a3f5f"
            },
            "marker": {
             "line": {
              "color": "#E5ECF6",
              "width": 0.5
             },
             "pattern": {
              "fillmode": "overlay",
              "size": 10,
              "solidity": 0.2
             }
            },
            "type": "bar"
           }
          ],
          "barpolar": [
           {
            "marker": {
             "line": {
              "color": "#E5ECF6",
              "width": 0.5
             },
             "pattern": {
              "fillmode": "overlay",
              "size": 10,
              "solidity": 0.2
             }
            },
            "type": "barpolar"
           }
          ],
          "carpet": [
           {
            "aaxis": {
             "endlinecolor": "#2a3f5f",
             "gridcolor": "white",
             "linecolor": "white",
             "minorgridcolor": "white",
             "startlinecolor": "#2a3f5f"
            },
            "baxis": {
             "endlinecolor": "#2a3f5f",
             "gridcolor": "white",
             "linecolor": "white",
             "minorgridcolor": "white",
             "startlinecolor": "#2a3f5f"
            },
            "type": "carpet"
           }
          ],
          "choropleth": [
           {
            "colorbar": {
             "outlinewidth": 0,
             "ticks": ""
            },
            "type": "choropleth"
           }
          ],
          "contour": [
           {
            "colorbar": {
             "outlinewidth": 0,
             "ticks": ""
            },
            "colorscale": [
             [
              0,
              "#0d0887"
             ],
             [
              0.1111111111111111,
              "#46039f"
             ],
             [
              0.2222222222222222,
              "#7201a8"
             ],
             [
              0.3333333333333333,
              "#9c179e"
             ],
             [
              0.4444444444444444,
              "#bd3786"
             ],
             [
              0.5555555555555556,
              "#d8576b"
             ],
             [
              0.6666666666666666,
              "#ed7953"
             ],
             [
              0.7777777777777778,
              "#fb9f3a"
             ],
             [
              0.8888888888888888,
              "#fdca26"
             ],
             [
              1,
              "#f0f921"
             ]
            ],
            "type": "contour"
           }
          ],
          "contourcarpet": [
           {
            "colorbar": {
             "outlinewidth": 0,
             "ticks": ""
            },
            "type": "contourcarpet"
           }
          ],
          "heatmap": [
           {
            "colorbar": {
             "outlinewidth": 0,
             "ticks": ""
            },
            "colorscale": [
             [
              0,
              "#0d0887"
             ],
             [
              0.1111111111111111,
              "#46039f"
             ],
             [
              0.2222222222222222,
              "#7201a8"
             ],
             [
              0.3333333333333333,
              "#9c179e"
             ],
             [
              0.4444444444444444,
              "#bd3786"
             ],
             [
              0.5555555555555556,
              "#d8576b"
             ],
             [
              0.6666666666666666,
              "#ed7953"
             ],
             [
              0.7777777777777778,
              "#fb9f3a"
             ],
             [
              0.8888888888888888,
              "#fdca26"
             ],
             [
              1,
              "#f0f921"
             ]
            ],
            "type": "heatmap"
           }
          ],
          "histogram": [
           {
            "marker": {
             "pattern": {
              "fillmode": "overlay",
              "size": 10,
              "solidity": 0.2
             }
            },
            "type": "histogram"
           }
          ],
          "histogram2d": [
           {
            "colorbar": {
             "outlinewidth": 0,
             "ticks": ""
            },
            "colorscale": [
             [
              0,
              "#0d0887"
             ],
             [
              0.1111111111111111,
              "#46039f"
             ],
             [
              0.2222222222222222,
              "#7201a8"
             ],
             [
              0.3333333333333333,
              "#9c179e"
             ],
             [
              0.4444444444444444,
              "#bd3786"
             ],
             [
              0.5555555555555556,
              "#d8576b"
             ],
             [
              0.6666666666666666,
              "#ed7953"
             ],
             [
              0.7777777777777778,
              "#fb9f3a"
             ],
             [
              0.8888888888888888,
              "#fdca26"
             ],
             [
              1,
              "#f0f921"
             ]
            ],
            "type": "histogram2d"
           }
          ],
          "histogram2dcontour": [
           {
            "colorbar": {
             "outlinewidth": 0,
             "ticks": ""
            },
            "colorscale": [
             [
              0,
              "#0d0887"
             ],
             [
              0.1111111111111111,
              "#46039f"
             ],
             [
              0.2222222222222222,
              "#7201a8"
             ],
             [
              0.3333333333333333,
              "#9c179e"
             ],
             [
              0.4444444444444444,
              "#bd3786"
             ],
             [
              0.5555555555555556,
              "#d8576b"
             ],
             [
              0.6666666666666666,
              "#ed7953"
             ],
             [
              0.7777777777777778,
              "#fb9f3a"
             ],
             [
              0.8888888888888888,
              "#fdca26"
             ],
             [
              1,
              "#f0f921"
             ]
            ],
            "type": "histogram2dcontour"
           }
          ],
          "mesh3d": [
           {
            "colorbar": {
             "outlinewidth": 0,
             "ticks": ""
            },
            "type": "mesh3d"
           }
          ],
          "parcoords": [
           {
            "line": {
             "colorbar": {
              "outlinewidth": 0,
              "ticks": ""
             }
            },
            "type": "parcoords"
           }
          ],
          "pie": [
           {
            "automargin": true,
            "type": "pie"
           }
          ],
          "scatter": [
           {
            "fillpattern": {
             "fillmode": "overlay",
             "size": 10,
             "solidity": 0.2
            },
            "type": "scatter"
           }
          ],
          "scatter3d": [
           {
            "line": {
             "colorbar": {
              "outlinewidth": 0,
              "ticks": ""
             }
            },
            "marker": {
             "colorbar": {
              "outlinewidth": 0,
              "ticks": ""
             }
            },
            "type": "scatter3d"
           }
          ],
          "scattercarpet": [
           {
            "marker": {
             "colorbar": {
              "outlinewidth": 0,
              "ticks": ""
             }
            },
            "type": "scattercarpet"
           }
          ],
          "scattergeo": [
           {
            "marker": {
             "colorbar": {
              "outlinewidth": 0,
              "ticks": ""
             }
            },
            "type": "scattergeo"
           }
          ],
          "scattergl": [
           {
            "marker": {
             "colorbar": {
              "outlinewidth": 0,
              "ticks": ""
             }
            },
            "type": "scattergl"
           }
          ],
          "scattermap": [
           {
            "marker": {
             "colorbar": {
              "outlinewidth": 0,
              "ticks": ""
             }
            },
            "type": "scattermap"
           }
          ],
          "scattermapbox": [
           {
            "marker": {
             "colorbar": {
              "outlinewidth": 0,
              "ticks": ""
             }
            },
            "type": "scattermapbox"
           }
          ],
          "scatterpolar": [
           {
            "marker": {
             "colorbar": {
              "outlinewidth": 0,
              "ticks": ""
             }
            },
            "type": "scatterpolar"
           }
          ],
          "scatterpolargl": [
           {
            "marker": {
             "colorbar": {
              "outlinewidth": 0,
              "ticks": ""
             }
            },
            "type": "scatterpolargl"
           }
          ],
          "scatterternary": [
           {
            "marker": {
             "colorbar": {
              "outlinewidth": 0,
              "ticks": ""
             }
            },
            "type": "scatterternary"
           }
          ],
          "surface": [
           {
            "colorbar": {
             "outlinewidth": 0,
             "ticks": ""
            },
            "colorscale": [
             [
              0,
              "#0d0887"
             ],
             [
              0.1111111111111111,
              "#46039f"
             ],
             [
              0.2222222222222222,
              "#7201a8"
             ],
             [
              0.3333333333333333,
              "#9c179e"
             ],
             [
              0.4444444444444444,
              "#bd3786"
             ],
             [
              0.5555555555555556,
              "#d8576b"
             ],
             [
              0.6666666666666666,
              "#ed7953"
             ],
             [
              0.7777777777777778,
              "#fb9f3a"
             ],
             [
              0.8888888888888888,
              "#fdca26"
             ],
             [
              1,
              "#f0f921"
             ]
            ],
            "type": "surface"
           }
          ],
          "table": [
           {
            "cells": {
             "fill": {
              "color": "#EBF0F8"
             },
             "line": {
              "color": "white"
             }
            },
            "header": {
             "fill": {
              "color": "#C8D4E3"
             },
             "line": {
              "color": "white"
             }
            },
            "type": "table"
           }
          ]
         },
         "layout": {
          "annotationdefaults": {
           "arrowcolor": "#2a3f5f",
           "arrowhead": 0,
           "arrowwidth": 1
          },
          "autotypenumbers": "strict",
          "coloraxis": {
           "colorbar": {
            "outlinewidth": 0,
            "ticks": ""
           }
          },
          "colorscale": {
           "diverging": [
            [
             0,
             "#8e0152"
            ],
            [
             0.1,
             "#c51b7d"
            ],
            [
             0.2,
             "#de77ae"
            ],
            [
             0.3,
             "#f1b6da"
            ],
            [
             0.4,
             "#fde0ef"
            ],
            [
             0.5,
             "#f7f7f7"
            ],
            [
             0.6,
             "#e6f5d0"
            ],
            [
             0.7,
             "#b8e186"
            ],
            [
             0.8,
             "#7fbc41"
            ],
            [
             0.9,
             "#4d9221"
            ],
            [
             1,
             "#276419"
            ]
           ],
           "sequential": [
            [
             0,
             "#0d0887"
            ],
            [
             0.1111111111111111,
             "#46039f"
            ],
            [
             0.2222222222222222,
             "#7201a8"
            ],
            [
             0.3333333333333333,
             "#9c179e"
            ],
            [
             0.4444444444444444,
             "#bd3786"
            ],
            [
             0.5555555555555556,
             "#d8576b"
            ],
            [
             0.6666666666666666,
             "#ed7953"
            ],
            [
             0.7777777777777778,
             "#fb9f3a"
            ],
            [
             0.8888888888888888,
             "#fdca26"
            ],
            [
             1,
             "#f0f921"
            ]
           ],
           "sequentialminus": [
            [
             0,
             "#0d0887"
            ],
            [
             0.1111111111111111,
             "#46039f"
            ],
            [
             0.2222222222222222,
             "#7201a8"
            ],
            [
             0.3333333333333333,
             "#9c179e"
            ],
            [
             0.4444444444444444,
             "#bd3786"
            ],
            [
             0.5555555555555556,
             "#d8576b"
            ],
            [
             0.6666666666666666,
             "#ed7953"
            ],
            [
             0.7777777777777778,
             "#fb9f3a"
            ],
            [
             0.8888888888888888,
             "#fdca26"
            ],
            [
             1,
             "#f0f921"
            ]
           ]
          },
          "colorway": [
           "#636efa",
           "#EF553B",
           "#00cc96",
           "#ab63fa",
           "#FFA15A",
           "#19d3f3",
           "#FF6692",
           "#B6E880",
           "#FF97FF",
           "#FECB52"
          ],
          "font": {
           "color": "#2a3f5f"
          },
          "geo": {
           "bgcolor": "white",
           "lakecolor": "white",
           "landcolor": "#E5ECF6",
           "showlakes": true,
           "showland": true,
           "subunitcolor": "white"
          },
          "hoverlabel": {
           "align": "left"
          },
          "hovermode": "closest",
          "mapbox": {
           "style": "light"
          },
          "paper_bgcolor": "white",
          "plot_bgcolor": "#E5ECF6",
          "polar": {
           "angularaxis": {
            "gridcolor": "white",
            "linecolor": "white",
            "ticks": ""
           },
           "bgcolor": "#E5ECF6",
           "radialaxis": {
            "gridcolor": "white",
            "linecolor": "white",
            "ticks": ""
           }
          },
          "scene": {
           "xaxis": {
            "backgroundcolor": "#E5ECF6",
            "gridcolor": "white",
            "gridwidth": 2,
            "linecolor": "white",
            "showbackground": true,
            "ticks": "",
            "zerolinecolor": "white"
           },
           "yaxis": {
            "backgroundcolor": "#E5ECF6",
            "gridcolor": "white",
            "gridwidth": 2,
            "linecolor": "white",
            "showbackground": true,
            "ticks": "",
            "zerolinecolor": "white"
           },
           "zaxis": {
            "backgroundcolor": "#E5ECF6",
            "gridcolor": "white",
            "gridwidth": 2,
            "linecolor": "white",
            "showbackground": true,
            "ticks": "",
            "zerolinecolor": "white"
           }
          },
          "shapedefaults": {
           "line": {
            "color": "#2a3f5f"
           }
          },
          "ternary": {
           "aaxis": {
            "gridcolor": "white",
            "linecolor": "white",
            "ticks": ""
           },
           "baxis": {
            "gridcolor": "white",
            "linecolor": "white",
            "ticks": ""
           },
           "bgcolor": "#E5ECF6",
           "caxis": {
            "gridcolor": "white",
            "linecolor": "white",
            "ticks": ""
           }
          },
          "title": {
           "x": 0.05
          },
          "xaxis": {
           "automargin": true,
           "gridcolor": "white",
           "linecolor": "white",
           "ticks": "",
           "title": {
            "standoff": 15
           },
           "zerolinecolor": "white",
           "zerolinewidth": 2
          },
          "yaxis": {
           "automargin": true,
           "gridcolor": "white",
           "linecolor": "white",
           "ticks": "",
           "title": {
            "standoff": 15
           },
           "zerolinecolor": "white",
           "zerolinewidth": 2
          }
         }
        },
        "title": {
         "text": "Stündliche Entladungen der Batterie-Discharger im August 2045"
        },
        "xaxis": {
         "title": {
          "text": "Zeit"
         }
        },
        "yaxis": {
         "title": {
          "text": "Entladungsleistung (MW)"
         }
        }
       }
      }
     },
     "metadata": {},
     "output_type": "display_data"
    },
    {
     "data": {
      "application/vnd.plotly.v1+json": {
       "config": {
        "plotlyServerURL": "https://plot.ly"
       },
       "data": [
        {
         "mode": "lines",
         "name": "AT0 0 battery discharger-2045 – 1-Zone (DE)",
         "type": "scatter",
         "x": [],
         "y": []
        },
        {
         "mode": "lines",
         "name": "BE0 0 battery discharger-2045 – 1-Zone (DE)",
         "type": "scatter",
         "x": [],
         "y": []
        },
        {
         "mode": "lines",
         "name": "CH0 0 battery discharger-2045 – 1-Zone (DE)",
         "type": "scatter",
         "x": [],
         "y": []
        },
        {
         "mode": "lines",
         "name": "CZ0 0 battery discharger-2045 – 1-Zone (DE)",
         "type": "scatter",
         "x": [],
         "y": []
        },
        {
         "mode": "lines",
         "name": "DE0 0 battery discharger-2045 – 1-Zone (DE)",
         "type": "scatter",
         "x": [],
         "y": []
        },
        {
         "mode": "lines",
         "name": "DK0 0 battery discharger-2045 – 1-Zone (DE)",
         "type": "scatter",
         "x": [],
         "y": []
        },
        {
         "mode": "lines",
         "name": "DK1 0 battery discharger-2045 – 1-Zone (DE)",
         "type": "scatter",
         "x": [],
         "y": []
        },
        {
         "mode": "lines",
         "name": "ES0 0 battery discharger-2045 – 1-Zone (DE)",
         "type": "scatter",
         "x": [],
         "y": []
        },
        {
         "mode": "lines",
         "name": "ES6 0 battery discharger-2045 – 1-Zone (DE)",
         "type": "scatter",
         "x": [],
         "y": []
        },
        {
         "mode": "lines",
         "name": "FR0 0 battery discharger-2045 – 1-Zone (DE)",
         "type": "scatter",
         "x": [],
         "y": []
        },
        {
         "mode": "lines",
         "name": "FR4 0 battery discharger-2045 – 1-Zone (DE)",
         "type": "scatter",
         "x": [],
         "y": []
        },
        {
         "mode": "lines",
         "name": "GB2 0 battery discharger-2045 – 1-Zone (DE)",
         "type": "scatter",
         "x": [],
         "y": []
        },
        {
         "mode": "lines",
         "name": "GB5 0 battery discharger-2045 – 1-Zone (DE)",
         "type": "scatter",
         "x": [],
         "y": []
        },
        {
         "mode": "lines",
         "name": "IT0 0 battery discharger-2045 – 1-Zone (DE)",
         "type": "scatter",
         "x": [],
         "y": []
        },
        {
         "mode": "lines",
         "name": "IT3 0 battery discharger-2045 – 1-Zone (DE)",
         "type": "scatter",
         "x": [],
         "y": []
        },
        {
         "mode": "lines",
         "name": "LU0 0 battery discharger-2045 – 1-Zone (DE)",
         "type": "scatter",
         "x": [],
         "y": []
        },
        {
         "mode": "lines",
         "name": "NL0 0 battery discharger-2045 – 1-Zone (DE)",
         "type": "scatter",
         "x": [],
         "y": []
        },
        {
         "mode": "lines",
         "name": "NO1 0 battery discharger-2045 – 1-Zone (DE)",
         "type": "scatter",
         "x": [],
         "y": []
        },
        {
         "mode": "lines",
         "name": "PL0 0 battery discharger-2045 – 1-Zone (DE)",
         "type": "scatter",
         "x": [],
         "y": []
        },
        {
         "mode": "lines",
         "name": "SE1 0 battery discharger-2045 – 1-Zone (DE)",
         "type": "scatter",
         "x": [],
         "y": []
        },
        {
         "mode": "lines",
         "name": "AT0 0 urban central water tanks discharger-2045 – 1-Zone (DE)",
         "type": "scatter",
         "x": [],
         "y": []
        },
        {
         "mode": "lines",
         "name": "BE0 0 urban central water tanks discharger-2045 – 1-Zone (DE)",
         "type": "scatter",
         "x": [],
         "y": []
        },
        {
         "mode": "lines",
         "name": "CH0 0 urban central water tanks discharger-2045 – 1-Zone (DE)",
         "type": "scatter",
         "x": [],
         "y": []
        },
        {
         "mode": "lines",
         "name": "CZ0 0 urban central water tanks discharger-2045 – 1-Zone (DE)",
         "type": "scatter",
         "x": [],
         "y": []
        },
        {
         "mode": "lines",
         "name": "DE0 0 urban central water tanks discharger-2045 – 1-Zone (DE)",
         "type": "scatter",
         "x": [],
         "y": []
        },
        {
         "mode": "lines",
         "name": "DK0 0 urban central water tanks discharger-2045 – 1-Zone (DE)",
         "type": "scatter",
         "x": [],
         "y": []
        },
        {
         "mode": "lines",
         "name": "DK1 0 urban central water tanks discharger-2045 – 1-Zone (DE)",
         "type": "scatter",
         "x": [],
         "y": []
        },
        {
         "mode": "lines",
         "name": "ES0 0 urban central water tanks discharger-2045 – 1-Zone (DE)",
         "type": "scatter",
         "x": [],
         "y": []
        },
        {
         "mode": "lines",
         "name": "ES6 0 urban central water tanks discharger-2045 – 1-Zone (DE)",
         "type": "scatter",
         "x": [],
         "y": []
        },
        {
         "mode": "lines",
         "name": "FR0 0 urban central water tanks discharger-2045 – 1-Zone (DE)",
         "type": "scatter",
         "x": [],
         "y": []
        },
        {
         "mode": "lines",
         "name": "GB2 0 urban central water tanks discharger-2045 – 1-Zone (DE)",
         "type": "scatter",
         "x": [],
         "y": []
        },
        {
         "mode": "lines",
         "name": "GB5 0 urban central water tanks discharger-2045 – 1-Zone (DE)",
         "type": "scatter",
         "x": [],
         "y": []
        },
        {
         "mode": "lines",
         "name": "IT0 0 urban central water tanks discharger-2045 – 1-Zone (DE)",
         "type": "scatter",
         "x": [],
         "y": []
        },
        {
         "mode": "lines",
         "name": "IT3 0 urban central water tanks discharger-2045 – 1-Zone (DE)",
         "type": "scatter",
         "x": [],
         "y": []
        },
        {
         "mode": "lines",
         "name": "LU0 0 urban central water tanks discharger-2045 – 1-Zone (DE)",
         "type": "scatter",
         "x": [],
         "y": []
        },
        {
         "mode": "lines",
         "name": "NL0 0 urban central water tanks discharger-2045 – 1-Zone (DE)",
         "type": "scatter",
         "x": [],
         "y": []
        },
        {
         "mode": "lines",
         "name": "NO1 0 urban central water tanks discharger-2045 – 1-Zone (DE)",
         "type": "scatter",
         "x": [],
         "y": []
        },
        {
         "mode": "lines",
         "name": "PL0 0 urban central water tanks discharger-2045 – 1-Zone (DE)",
         "type": "scatter",
         "x": [],
         "y": []
        },
        {
         "mode": "lines",
         "name": "SE1 0 urban central water tanks discharger-2045 – 1-Zone (DE)",
         "type": "scatter",
         "x": [],
         "y": []
        },
        {
         "mode": "lines",
         "name": "AT0 0 urban central water pits discharger-2045 – 1-Zone (DE)",
         "type": "scatter",
         "x": [],
         "y": []
        },
        {
         "mode": "lines",
         "name": "BE0 0 urban central water pits discharger-2045 – 1-Zone (DE)",
         "type": "scatter",
         "x": [],
         "y": []
        },
        {
         "mode": "lines",
         "name": "CH0 0 urban central water pits discharger-2045 – 1-Zone (DE)",
         "type": "scatter",
         "x": [],
         "y": []
        },
        {
         "mode": "lines",
         "name": "CZ0 0 urban central water pits discharger-2045 – 1-Zone (DE)",
         "type": "scatter",
         "x": [],
         "y": []
        },
        {
         "mode": "lines",
         "name": "DE0 0 urban central water pits discharger-2045 – 1-Zone (DE)",
         "type": "scatter",
         "x": [],
         "y": []
        },
        {
         "mode": "lines",
         "name": "DK0 0 urban central water pits discharger-2045 – 1-Zone (DE)",
         "type": "scatter",
         "x": [],
         "y": []
        },
        {
         "mode": "lines",
         "name": "DK1 0 urban central water pits discharger-2045 – 1-Zone (DE)",
         "type": "scatter",
         "x": [],
         "y": []
        },
        {
         "mode": "lines",
         "name": "ES0 0 urban central water pits discharger-2045 – 1-Zone (DE)",
         "type": "scatter",
         "x": [],
         "y": []
        },
        {
         "mode": "lines",
         "name": "ES6 0 urban central water pits discharger-2045 – 1-Zone (DE)",
         "type": "scatter",
         "x": [],
         "y": []
        },
        {
         "mode": "lines",
         "name": "FR0 0 urban central water pits discharger-2045 – 1-Zone (DE)",
         "type": "scatter",
         "x": [],
         "y": []
        },
        {
         "mode": "lines",
         "name": "GB2 0 urban central water pits discharger-2045 – 1-Zone (DE)",
         "type": "scatter",
         "x": [],
         "y": []
        },
        {
         "mode": "lines",
         "name": "GB5 0 urban central water pits discharger-2045 – 1-Zone (DE)",
         "type": "scatter",
         "x": [],
         "y": []
        },
        {
         "mode": "lines",
         "name": "IT0 0 urban central water pits discharger-2045 – 1-Zone (DE)",
         "type": "scatter",
         "x": [],
         "y": []
        },
        {
         "mode": "lines",
         "name": "IT3 0 urban central water pits discharger-2045 – 1-Zone (DE)",
         "type": "scatter",
         "x": [],
         "y": []
        },
        {
         "mode": "lines",
         "name": "LU0 0 urban central water pits discharger-2045 – 1-Zone (DE)",
         "type": "scatter",
         "x": [],
         "y": []
        },
        {
         "mode": "lines",
         "name": "NL0 0 urban central water pits discharger-2045 – 1-Zone (DE)",
         "type": "scatter",
         "x": [],
         "y": []
        },
        {
         "mode": "lines",
         "name": "NO1 0 urban central water pits discharger-2045 – 1-Zone (DE)",
         "type": "scatter",
         "x": [],
         "y": []
        },
        {
         "mode": "lines",
         "name": "PL0 0 urban central water pits discharger-2045 – 1-Zone (DE)",
         "type": "scatter",
         "x": [],
         "y": []
        },
        {
         "mode": "lines",
         "name": "SE1 0 urban central water pits discharger-2045 – 1-Zone (DE)",
         "type": "scatter",
         "x": [],
         "y": []
        },
        {
         "mode": "lines",
         "name": "AT0 0 home battery discharger-2045 – 1-Zone (DE)",
         "type": "scatter",
         "x": [],
         "y": []
        },
        {
         "mode": "lines",
         "name": "BE0 0 home battery discharger-2045 – 1-Zone (DE)",
         "type": "scatter",
         "x": [],
         "y": []
        },
        {
         "mode": "lines",
         "name": "CH0 0 home battery discharger-2045 – 1-Zone (DE)",
         "type": "scatter",
         "x": [],
         "y": []
        },
        {
         "mode": "lines",
         "name": "CZ0 0 home battery discharger-2045 – 1-Zone (DE)",
         "type": "scatter",
         "x": [],
         "y": []
        },
        {
         "mode": "lines",
         "name": "DE0 0 home battery discharger-2045 – 1-Zone (DE)",
         "type": "scatter",
         "x": [],
         "y": []
        },
        {
         "mode": "lines",
         "name": "DK0 0 home battery discharger-2045 – 1-Zone (DE)",
         "type": "scatter",
         "x": [],
         "y": []
        },
        {
         "mode": "lines",
         "name": "DK1 0 home battery discharger-2045 – 1-Zone (DE)",
         "type": "scatter",
         "x": [],
         "y": []
        },
        {
         "mode": "lines",
         "name": "ES0 0 home battery discharger-2045 – 1-Zone (DE)",
         "type": "scatter",
         "x": [],
         "y": []
        },
        {
         "mode": "lines",
         "name": "ES6 0 home battery discharger-2045 – 1-Zone (DE)",
         "type": "scatter",
         "x": [],
         "y": []
        },
        {
         "mode": "lines",
         "name": "FR0 0 home battery discharger-2045 – 1-Zone (DE)",
         "type": "scatter",
         "x": [],
         "y": []
        },
        {
         "mode": "lines",
         "name": "FR4 0 home battery discharger-2045 – 1-Zone (DE)",
         "type": "scatter",
         "x": [],
         "y": []
        },
        {
         "mode": "lines",
         "name": "GB2 0 home battery discharger-2045 – 1-Zone (DE)",
         "type": "scatter",
         "x": [],
         "y": []
        },
        {
         "mode": "lines",
         "name": "GB5 0 home battery discharger-2045 – 1-Zone (DE)",
         "type": "scatter",
         "x": [],
         "y": []
        },
        {
         "mode": "lines",
         "name": "IT0 0 home battery discharger-2045 – 1-Zone (DE)",
         "type": "scatter",
         "x": [],
         "y": []
        },
        {
         "mode": "lines",
         "name": "IT3 0 home battery discharger-2045 – 1-Zone (DE)",
         "type": "scatter",
         "x": [],
         "y": []
        },
        {
         "mode": "lines",
         "name": "LU0 0 home battery discharger-2045 – 1-Zone (DE)",
         "type": "scatter",
         "x": [],
         "y": []
        },
        {
         "mode": "lines",
         "name": "NL0 0 home battery discharger-2045 – 1-Zone (DE)",
         "type": "scatter",
         "x": [],
         "y": []
        },
        {
         "mode": "lines",
         "name": "NO1 0 home battery discharger-2045 – 1-Zone (DE)",
         "type": "scatter",
         "x": [],
         "y": []
        },
        {
         "mode": "lines",
         "name": "PL0 0 home battery discharger-2045 – 1-Zone (DE)",
         "type": "scatter",
         "x": [],
         "y": []
        },
        {
         "mode": "lines",
         "name": "SE1 0 home battery discharger-2045 – 1-Zone (DE)",
         "type": "scatter",
         "x": [],
         "y": []
        },
        {
         "mode": "lines",
         "name": "AT0 0 rural water tanks discharger-2045 – 1-Zone (DE)",
         "type": "scatter",
         "x": [],
         "y": []
        },
        {
         "mode": "lines",
         "name": "AT0 0 urban decentral water tanks discharger-2045 – 1-Zone (DE)",
         "type": "scatter",
         "x": [],
         "y": []
        },
        {
         "mode": "lines",
         "name": "BE0 0 rural water tanks discharger-2045 – 1-Zone (DE)",
         "type": "scatter",
         "x": [],
         "y": []
        },
        {
         "mode": "lines",
         "name": "BE0 0 urban decentral water tanks discharger-2045 – 1-Zone (DE)",
         "type": "scatter",
         "x": [],
         "y": []
        },
        {
         "mode": "lines",
         "name": "CH0 0 rural water tanks discharger-2045 – 1-Zone (DE)",
         "type": "scatter",
         "x": [],
         "y": []
        },
        {
         "mode": "lines",
         "name": "CH0 0 urban decentral water tanks discharger-2045 – 1-Zone (DE)",
         "type": "scatter",
         "x": [],
         "y": []
        },
        {
         "mode": "lines",
         "name": "CZ0 0 rural water tanks discharger-2045 – 1-Zone (DE)",
         "type": "scatter",
         "x": [],
         "y": []
        },
        {
         "mode": "lines",
         "name": "CZ0 0 urban decentral water tanks discharger-2045 – 1-Zone (DE)",
         "type": "scatter",
         "x": [],
         "y": []
        },
        {
         "mode": "lines",
         "name": "DE0 0 rural water tanks discharger-2045 – 1-Zone (DE)",
         "type": "scatter",
         "x": [],
         "y": []
        },
        {
         "mode": "lines",
         "name": "DE0 0 urban decentral water tanks discharger-2045 – 1-Zone (DE)",
         "type": "scatter",
         "x": [],
         "y": []
        },
        {
         "mode": "lines",
         "name": "DK0 0 rural water tanks discharger-2045 – 1-Zone (DE)",
         "type": "scatter",
         "x": [],
         "y": []
        },
        {
         "mode": "lines",
         "name": "DK0 0 urban decentral water tanks discharger-2045 – 1-Zone (DE)",
         "type": "scatter",
         "x": [],
         "y": []
        },
        {
         "mode": "lines",
         "name": "DK1 0 rural water tanks discharger-2045 – 1-Zone (DE)",
         "type": "scatter",
         "x": [],
         "y": []
        },
        {
         "mode": "lines",
         "name": "DK1 0 urban decentral water tanks discharger-2045 – 1-Zone (DE)",
         "type": "scatter",
         "x": [],
         "y": []
        },
        {
         "mode": "lines",
         "name": "ES0 0 rural water tanks discharger-2045 – 1-Zone (DE)",
         "type": "scatter",
         "x": [],
         "y": []
        },
        {
         "mode": "lines",
         "name": "ES0 0 urban decentral water tanks discharger-2045 – 1-Zone (DE)",
         "type": "scatter",
         "x": [],
         "y": []
        },
        {
         "mode": "lines",
         "name": "ES6 0 rural water tanks discharger-2045 – 1-Zone (DE)",
         "type": "scatter",
         "x": [],
         "y": []
        },
        {
         "mode": "lines",
         "name": "ES6 0 urban decentral water tanks discharger-2045 – 1-Zone (DE)",
         "type": "scatter",
         "x": [],
         "y": []
        },
        {
         "mode": "lines",
         "name": "FR0 0 rural water tanks discharger-2045 – 1-Zone (DE)",
         "type": "scatter",
         "x": [],
         "y": []
        },
        {
         "mode": "lines",
         "name": "FR0 0 urban decentral water tanks discharger-2045 – 1-Zone (DE)",
         "type": "scatter",
         "x": [],
         "y": []
        },
        {
         "mode": "lines",
         "name": "FR4 0 rural water tanks discharger-2045 – 1-Zone (DE)",
         "type": "scatter",
         "x": [],
         "y": []
        },
        {
         "mode": "lines",
         "name": "FR4 0 urban decentral water tanks discharger-2045 – 1-Zone (DE)",
         "type": "scatter",
         "x": [],
         "y": []
        },
        {
         "mode": "lines",
         "name": "GB2 0 rural water tanks discharger-2045 – 1-Zone (DE)",
         "type": "scatter",
         "x": [],
         "y": []
        },
        {
         "mode": "lines",
         "name": "GB2 0 urban decentral water tanks discharger-2045 – 1-Zone (DE)",
         "type": "scatter",
         "x": [],
         "y": []
        },
        {
         "mode": "lines",
         "name": "GB5 0 rural water tanks discharger-2045 – 1-Zone (DE)",
         "type": "scatter",
         "x": [],
         "y": []
        },
        {
         "mode": "lines",
         "name": "GB5 0 urban decentral water tanks discharger-2045 – 1-Zone (DE)",
         "type": "scatter",
         "x": [],
         "y": []
        },
        {
         "mode": "lines",
         "name": "IT0 0 rural water tanks discharger-2045 – 1-Zone (DE)",
         "type": "scatter",
         "x": [],
         "y": []
        },
        {
         "mode": "lines",
         "name": "IT0 0 urban decentral water tanks discharger-2045 – 1-Zone (DE)",
         "type": "scatter",
         "x": [],
         "y": []
        },
        {
         "mode": "lines",
         "name": "IT3 0 rural water tanks discharger-2045 – 1-Zone (DE)",
         "type": "scatter",
         "x": [],
         "y": []
        },
        {
         "mode": "lines",
         "name": "IT3 0 urban decentral water tanks discharger-2045 – 1-Zone (DE)",
         "type": "scatter",
         "x": [],
         "y": []
        },
        {
         "mode": "lines",
         "name": "LU0 0 rural water tanks discharger-2045 – 1-Zone (DE)",
         "type": "scatter",
         "x": [],
         "y": []
        },
        {
         "mode": "lines",
         "name": "LU0 0 urban decentral water tanks discharger-2045 – 1-Zone (DE)",
         "type": "scatter",
         "x": [],
         "y": []
        },
        {
         "mode": "lines",
         "name": "NL0 0 rural water tanks discharger-2045 – 1-Zone (DE)",
         "type": "scatter",
         "x": [],
         "y": []
        },
        {
         "mode": "lines",
         "name": "NL0 0 urban decentral water tanks discharger-2045 – 1-Zone (DE)",
         "type": "scatter",
         "x": [],
         "y": []
        },
        {
         "mode": "lines",
         "name": "NO1 0 rural water tanks discharger-2045 – 1-Zone (DE)",
         "type": "scatter",
         "x": [],
         "y": []
        },
        {
         "mode": "lines",
         "name": "NO1 0 urban decentral water tanks discharger-2045 – 1-Zone (DE)",
         "type": "scatter",
         "x": [],
         "y": []
        },
        {
         "mode": "lines",
         "name": "PL0 0 rural water tanks discharger-2045 – 1-Zone (DE)",
         "type": "scatter",
         "x": [],
         "y": []
        },
        {
         "mode": "lines",
         "name": "PL0 0 urban decentral water tanks discharger-2045 – 1-Zone (DE)",
         "type": "scatter",
         "x": [],
         "y": []
        },
        {
         "mode": "lines",
         "name": "SE1 0 rural water tanks discharger-2045 – 1-Zone (DE)",
         "type": "scatter",
         "x": [],
         "y": []
        },
        {
         "mode": "lines",
         "name": "SE1 0 urban decentral water tanks discharger-2045 – 1-Zone (DE)",
         "type": "scatter",
         "x": [],
         "y": []
        },
        {
         "mode": "lines",
         "name": "AT0 0 battery discharger-2040 – 1-Zone (DE)",
         "type": "scatter",
         "x": [],
         "y": []
        },
        {
         "mode": "lines",
         "name": "BE0 0 battery discharger-2040 – 1-Zone (DE)",
         "type": "scatter",
         "x": [],
         "y": []
        },
        {
         "mode": "lines",
         "name": "CH0 0 battery discharger-2040 – 1-Zone (DE)",
         "type": "scatter",
         "x": [],
         "y": []
        },
        {
         "mode": "lines",
         "name": "CZ0 0 battery discharger-2040 – 1-Zone (DE)",
         "type": "scatter",
         "x": [],
         "y": []
        },
        {
         "mode": "lines",
         "name": "DE0 0 battery discharger-2040 – 1-Zone (DE)",
         "type": "scatter",
         "x": [],
         "y": []
        },
        {
         "mode": "lines",
         "name": "ES0 0 battery discharger-2040 – 1-Zone (DE)",
         "type": "scatter",
         "x": [],
         "y": []
        },
        {
         "mode": "lines",
         "name": "ES6 0 battery discharger-2040 – 1-Zone (DE)",
         "type": "scatter",
         "x": [],
         "y": []
        },
        {
         "mode": "lines",
         "name": "FR0 0 battery discharger-2040 – 1-Zone (DE)",
         "type": "scatter",
         "x": [],
         "y": []
        },
        {
         "mode": "lines",
         "name": "IT0 0 battery discharger-2040 – 1-Zone (DE)",
         "type": "scatter",
         "x": [],
         "y": []
        },
        {
         "mode": "lines",
         "name": "IT3 0 battery discharger-2040 – 1-Zone (DE)",
         "type": "scatter",
         "x": [],
         "y": []
        },
        {
         "mode": "lines",
         "name": "NL0 0 battery discharger-2040 – 1-Zone (DE)",
         "type": "scatter",
         "x": [],
         "y": []
        },
        {
         "mode": "lines",
         "name": "PL0 0 battery discharger-2040 – 1-Zone (DE)",
         "type": "scatter",
         "x": [],
         "y": []
        },
        {
         "mode": "lines",
         "name": "AT0 0 urban central water pits discharger-2040 – 1-Zone (DE)",
         "type": "scatter",
         "x": [],
         "y": []
        },
        {
         "mode": "lines",
         "name": "BE0 0 urban central water pits discharger-2040 – 1-Zone (DE)",
         "type": "scatter",
         "x": [],
         "y": []
        },
        {
         "mode": "lines",
         "name": "CH0 0 urban central water pits discharger-2040 – 1-Zone (DE)",
         "type": "scatter",
         "x": [],
         "y": []
        },
        {
         "mode": "lines",
         "name": "CZ0 0 urban central water pits discharger-2040 – 1-Zone (DE)",
         "type": "scatter",
         "x": [],
         "y": []
        },
        {
         "mode": "lines",
         "name": "DK0 0 urban central water pits discharger-2040 – 1-Zone (DE)",
         "type": "scatter",
         "x": [],
         "y": []
        },
        {
         "mode": "lines",
         "name": "DK1 0 urban central water pits discharger-2040 – 1-Zone (DE)",
         "type": "scatter",
         "x": [],
         "y": []
        },
        {
         "mode": "lines",
         "name": "ES0 0 urban central water pits discharger-2040 – 1-Zone (DE)",
         "type": "scatter",
         "x": [],
         "y": []
        },
        {
         "mode": "lines",
         "name": "FR0 0 urban central water pits discharger-2040 – 1-Zone (DE)",
         "type": "scatter",
         "x": [],
         "y": []
        },
        {
         "mode": "lines",
         "name": "IT0 0 urban central water pits discharger-2040 – 1-Zone (DE)",
         "type": "scatter",
         "x": [],
         "y": []
        },
        {
         "mode": "lines",
         "name": "LU0 0 urban central water pits discharger-2040 – 1-Zone (DE)",
         "type": "scatter",
         "x": [],
         "y": []
        },
        {
         "mode": "lines",
         "name": "PL0 0 urban central water pits discharger-2040 – 1-Zone (DE)",
         "type": "scatter",
         "x": [],
         "y": []
        },
        {
         "mode": "lines",
         "name": "SE1 0 urban central water pits discharger-2040 – 1-Zone (DE)",
         "type": "scatter",
         "x": [],
         "y": []
        },
        {
         "mode": "lines",
         "name": "AT0 0 home battery discharger-2040 – 1-Zone (DE)",
         "type": "scatter",
         "x": [],
         "y": []
        },
        {
         "mode": "lines",
         "name": "CH0 0 home battery discharger-2040 – 1-Zone (DE)",
         "type": "scatter",
         "x": [],
         "y": []
        },
        {
         "mode": "lines",
         "name": "CZ0 0 home battery discharger-2040 – 1-Zone (DE)",
         "type": "scatter",
         "x": [],
         "y": []
        },
        {
         "mode": "lines",
         "name": "ES0 0 home battery discharger-2040 – 1-Zone (DE)",
         "type": "scatter",
         "x": [],
         "y": []
        },
        {
         "mode": "lines",
         "name": "ES6 0 home battery discharger-2040 – 1-Zone (DE)",
         "type": "scatter",
         "x": [],
         "y": []
        },
        {
         "mode": "lines",
         "name": "FR0 0 home battery discharger-2040 – 1-Zone (DE)",
         "type": "scatter",
         "x": [],
         "y": []
        },
        {
         "mode": "lines",
         "name": "FR4 0 home battery discharger-2040 – 1-Zone (DE)",
         "type": "scatter",
         "x": [],
         "y": []
        },
        {
         "mode": "lines",
         "name": "IT0 0 home battery discharger-2040 – 1-Zone (DE)",
         "type": "scatter",
         "x": [],
         "y": []
        },
        {
         "mode": "lines",
         "name": "IT3 0 home battery discharger-2040 – 1-Zone (DE)",
         "type": "scatter",
         "x": [],
         "y": []
        },
        {
         "mode": "lines",
         "name": "LU0 0 home battery discharger-2040 – 1-Zone (DE)",
         "type": "scatter",
         "x": [],
         "y": []
        },
        {
         "mode": "lines",
         "name": "NL0 0 home battery discharger-2040 – 1-Zone (DE)",
         "type": "scatter",
         "x": [],
         "y": []
        },
        {
         "mode": "lines",
         "name": "PL0 0 home battery discharger-2040 – 1-Zone (DE)",
         "type": "scatter",
         "x": [],
         "y": []
        },
        {
         "mode": "lines",
         "name": "SE1 0 home battery discharger-2040 – 1-Zone (DE)",
         "type": "scatter",
         "x": [],
         "y": []
        },
        {
         "mode": "lines",
         "name": "AT0 0 urban central water pits discharger-2035 – 1-Zone (DE)",
         "type": "scatter",
         "x": [],
         "y": []
        },
        {
         "mode": "lines",
         "name": "BE0 0 urban central water pits discharger-2035 – 1-Zone (DE)",
         "type": "scatter",
         "x": [],
         "y": []
        },
        {
         "mode": "lines",
         "name": "CH0 0 urban central water pits discharger-2035 – 1-Zone (DE)",
         "type": "scatter",
         "x": [],
         "y": []
        },
        {
         "mode": "lines",
         "name": "CZ0 0 urban central water pits discharger-2035 – 1-Zone (DE)",
         "type": "scatter",
         "x": [],
         "y": []
        },
        {
         "mode": "lines",
         "name": "DE0 0 urban central water pits discharger-2035 – 1-Zone (DE)",
         "type": "scatter",
         "x": [],
         "y": []
        },
        {
         "mode": "lines",
         "name": "DK0 0 urban central water pits discharger-2035 – 1-Zone (DE)",
         "type": "scatter",
         "x": [],
         "y": []
        },
        {
         "mode": "lines",
         "name": "DK1 0 urban central water pits discharger-2035 – 1-Zone (DE)",
         "type": "scatter",
         "x": [],
         "y": []
        },
        {
         "mode": "lines",
         "name": "ES0 0 urban central water pits discharger-2035 – 1-Zone (DE)",
         "type": "scatter",
         "x": [],
         "y": []
        },
        {
         "mode": "lines",
         "name": "ES6 0 urban central water pits discharger-2035 – 1-Zone (DE)",
         "type": "scatter",
         "x": [],
         "y": []
        },
        {
         "mode": "lines",
         "name": "FR0 0 urban central water pits discharger-2035 – 1-Zone (DE)",
         "type": "scatter",
         "x": [],
         "y": []
        },
        {
         "mode": "lines",
         "name": "GB2 0 urban central water pits discharger-2035 – 1-Zone (DE)",
         "type": "scatter",
         "x": [],
         "y": []
        },
        {
         "mode": "lines",
         "name": "GB5 0 urban central water pits discharger-2035 – 1-Zone (DE)",
         "type": "scatter",
         "x": [],
         "y": []
        },
        {
         "mode": "lines",
         "name": "IT0 0 urban central water pits discharger-2035 – 1-Zone (DE)",
         "type": "scatter",
         "x": [],
         "y": []
        },
        {
         "mode": "lines",
         "name": "IT3 0 urban central water pits discharger-2035 – 1-Zone (DE)",
         "type": "scatter",
         "x": [],
         "y": []
        },
        {
         "mode": "lines",
         "name": "LU0 0 urban central water pits discharger-2035 – 1-Zone (DE)",
         "type": "scatter",
         "x": [],
         "y": []
        },
        {
         "mode": "lines",
         "name": "NL0 0 urban central water pits discharger-2035 – 1-Zone (DE)",
         "type": "scatter",
         "x": [],
         "y": []
        },
        {
         "mode": "lines",
         "name": "NO1 0 urban central water pits discharger-2035 – 1-Zone (DE)",
         "type": "scatter",
         "x": [],
         "y": []
        },
        {
         "mode": "lines",
         "name": "PL0 0 urban central water pits discharger-2035 – 1-Zone (DE)",
         "type": "scatter",
         "x": [],
         "y": []
        },
        {
         "mode": "lines",
         "name": "SE1 0 urban central water pits discharger-2035 – 1-Zone (DE)",
         "type": "scatter",
         "x": [],
         "y": []
        },
        {
         "mode": "lines",
         "name": "BE0 0 urban decentral water tanks discharger-2035 – 1-Zone (DE)",
         "type": "scatter",
         "x": [],
         "y": []
        },
        {
         "mode": "lines",
         "name": "CZ0 0 rural water tanks discharger-2035 – 1-Zone (DE)",
         "type": "scatter",
         "x": [],
         "y": []
        },
        {
         "mode": "lines",
         "name": "CZ0 0 urban decentral water tanks discharger-2035 – 1-Zone (DE)",
         "type": "scatter",
         "x": [],
         "y": []
        },
        {
         "mode": "lines",
         "name": "DE0 0 rural water tanks discharger-2035 – 1-Zone (DE)",
         "type": "scatter",
         "x": [],
         "y": []
        },
        {
         "mode": "lines",
         "name": "DE0 0 urban decentral water tanks discharger-2035 – 1-Zone (DE)",
         "type": "scatter",
         "x": [],
         "y": []
        },
        {
         "mode": "lines",
         "name": "DK0 0 rural water tanks discharger-2035 – 1-Zone (DE)",
         "type": "scatter",
         "x": [],
         "y": []
        },
        {
         "mode": "lines",
         "name": "DK0 0 urban decentral water tanks discharger-2035 – 1-Zone (DE)",
         "type": "scatter",
         "x": [],
         "y": []
        },
        {
         "mode": "lines",
         "name": "DK1 0 rural water tanks discharger-2035 – 1-Zone (DE)",
         "type": "scatter",
         "x": [],
         "y": []
        },
        {
         "mode": "lines",
         "name": "FR0 0 rural water tanks discharger-2035 – 1-Zone (DE)",
         "type": "scatter",
         "x": [],
         "y": []
        },
        {
         "mode": "lines",
         "name": "GB2 0 rural water tanks discharger-2035 – 1-Zone (DE)",
         "type": "scatter",
         "x": [],
         "y": []
        },
        {
         "mode": "lines",
         "name": "GB2 0 urban decentral water tanks discharger-2035 – 1-Zone (DE)",
         "type": "scatter",
         "x": [],
         "y": []
        },
        {
         "mode": "lines",
         "name": "GB5 0 rural water tanks discharger-2035 – 1-Zone (DE)",
         "type": "scatter",
         "x": [],
         "y": []
        },
        {
         "mode": "lines",
         "name": "GB5 0 urban decentral water tanks discharger-2035 – 1-Zone (DE)",
         "type": "scatter",
         "x": [],
         "y": []
        },
        {
         "mode": "lines",
         "name": "IT0 0 rural water tanks discharger-2035 – 1-Zone (DE)",
         "type": "scatter",
         "x": [],
         "y": []
        },
        {
         "mode": "lines",
         "name": "NL0 0 urban decentral water tanks discharger-2035 – 1-Zone (DE)",
         "type": "scatter",
         "x": [],
         "y": []
        },
        {
         "mode": "lines",
         "name": "NO1 0 rural water tanks discharger-2035 – 1-Zone (DE)",
         "type": "scatter",
         "x": [],
         "y": []
        },
        {
         "mode": "lines",
         "name": "PL0 0 rural water tanks discharger-2035 – 1-Zone (DE)",
         "type": "scatter",
         "x": [],
         "y": []
        },
        {
         "mode": "lines",
         "name": "PL0 0 urban decentral water tanks discharger-2035 – 1-Zone (DE)",
         "type": "scatter",
         "x": [],
         "y": []
        },
        {
         "mode": "lines",
         "name": "AT0 0 urban central water pits discharger-2030 – 1-Zone (DE)",
         "type": "scatter",
         "x": [],
         "y": []
        },
        {
         "mode": "lines",
         "name": "BE0 0 urban central water pits discharger-2030 – 1-Zone (DE)",
         "type": "scatter",
         "x": [],
         "y": []
        },
        {
         "mode": "lines",
         "name": "CH0 0 urban central water pits discharger-2030 – 1-Zone (DE)",
         "type": "scatter",
         "x": [],
         "y": []
        },
        {
         "mode": "lines",
         "name": "CZ0 0 urban central water pits discharger-2030 – 1-Zone (DE)",
         "type": "scatter",
         "x": [],
         "y": []
        },
        {
         "mode": "lines",
         "name": "DE0 0 urban central water pits discharger-2030 – 1-Zone (DE)",
         "type": "scatter",
         "x": [],
         "y": []
        },
        {
         "mode": "lines",
         "name": "ES0 0 urban central water pits discharger-2030 – 1-Zone (DE)",
         "type": "scatter",
         "x": [],
         "y": []
        },
        {
         "mode": "lines",
         "name": "FR0 0 urban central water pits discharger-2030 – 1-Zone (DE)",
         "type": "scatter",
         "x": [],
         "y": []
        },
        {
         "mode": "lines",
         "name": "GB2 0 urban central water pits discharger-2030 – 1-Zone (DE)",
         "type": "scatter",
         "x": [],
         "y": []
        },
        {
         "mode": "lines",
         "name": "GB5 0 urban central water pits discharger-2030 – 1-Zone (DE)",
         "type": "scatter",
         "x": [],
         "y": []
        },
        {
         "mode": "lines",
         "name": "IT0 0 urban central water pits discharger-2030 – 1-Zone (DE)",
         "type": "scatter",
         "x": [],
         "y": []
        },
        {
         "mode": "lines",
         "name": "IT3 0 urban central water pits discharger-2030 – 1-Zone (DE)",
         "type": "scatter",
         "x": [],
         "y": []
        },
        {
         "mode": "lines",
         "name": "LU0 0 urban central water pits discharger-2030 – 1-Zone (DE)",
         "type": "scatter",
         "x": [],
         "y": []
        },
        {
         "mode": "lines",
         "name": "NL0 0 urban central water pits discharger-2030 – 1-Zone (DE)",
         "type": "scatter",
         "x": [],
         "y": []
        },
        {
         "mode": "lines",
         "name": "NO1 0 urban central water pits discharger-2030 – 1-Zone (DE)",
         "type": "scatter",
         "x": [],
         "y": []
        },
        {
         "mode": "lines",
         "name": "PL0 0 urban central water pits discharger-2030 – 1-Zone (DE)",
         "type": "scatter",
         "x": [],
         "y": []
        },
        {
         "mode": "lines",
         "name": "SE1 0 urban central water pits discharger-2030 – 1-Zone (DE)",
         "type": "scatter",
         "x": [],
         "y": []
        },
        {
         "mode": "lines",
         "name": "AT0 0 rural water tanks discharger-2030 – 1-Zone (DE)",
         "type": "scatter",
         "x": [],
         "y": []
        },
        {
         "mode": "lines",
         "name": "CZ0 0 rural water tanks discharger-2030 – 1-Zone (DE)",
         "type": "scatter",
         "x": [],
         "y": []
        },
        {
         "mode": "lines",
         "name": "CZ0 0 urban decentral water tanks discharger-2030 – 1-Zone (DE)",
         "type": "scatter",
         "x": [],
         "y": []
        },
        {
         "mode": "lines",
         "name": "DK0 0 urban decentral water tanks discharger-2030 – 1-Zone (DE)",
         "type": "scatter",
         "x": [],
         "y": []
        },
        {
         "mode": "lines",
         "name": "DK1 0 urban decentral water tanks discharger-2030 – 1-Zone (DE)",
         "type": "scatter",
         "x": [],
         "y": []
        },
        {
         "mode": "lines",
         "name": "ES6 0 urban decentral water tanks discharger-2030 – 1-Zone (DE)",
         "type": "scatter",
         "x": [],
         "y": []
        },
        {
         "mode": "lines",
         "name": "FR0 0 rural water tanks discharger-2030 – 1-Zone (DE)",
         "type": "scatter",
         "x": [],
         "y": []
        },
        {
         "mode": "lines",
         "name": "FR4 0 rural water tanks discharger-2030 – 1-Zone (DE)",
         "type": "scatter",
         "x": [],
         "y": []
        },
        {
         "mode": "lines",
         "name": "GB2 0 rural water tanks discharger-2030 – 1-Zone (DE)",
         "type": "scatter",
         "x": [],
         "y": []
        },
        {
         "mode": "lines",
         "name": "GB2 0 urban decentral water tanks discharger-2030 – 1-Zone (DE)",
         "type": "scatter",
         "x": [],
         "y": []
        },
        {
         "mode": "lines",
         "name": "GB5 0 rural water tanks discharger-2030 – 1-Zone (DE)",
         "type": "scatter",
         "x": [],
         "y": []
        },
        {
         "mode": "lines",
         "name": "GB5 0 urban decentral water tanks discharger-2030 – 1-Zone (DE)",
         "type": "scatter",
         "x": [],
         "y": []
        },
        {
         "mode": "lines",
         "name": "NL0 0 urban decentral water tanks discharger-2030 – 1-Zone (DE)",
         "type": "scatter",
         "x": [],
         "y": []
        },
        {
         "mode": "lines",
         "name": "PL0 0 rural water tanks discharger-2030 – 1-Zone (DE)",
         "type": "scatter",
         "x": [],
         "y": []
        },
        {
         "mode": "lines",
         "name": "SE1 0 rural water tanks discharger-2030 – 1-Zone (DE)",
         "type": "scatter",
         "x": [],
         "y": []
        },
        {
         "mode": "lines",
         "name": "AT0 0 urban central water pits discharger-2025 – 1-Zone (DE)",
         "type": "scatter",
         "x": [],
         "y": []
        },
        {
         "mode": "lines",
         "name": "BE0 0 urban central water pits discharger-2025 – 1-Zone (DE)",
         "type": "scatter",
         "x": [],
         "y": []
        },
        {
         "mode": "lines",
         "name": "CH0 0 urban central water pits discharger-2025 – 1-Zone (DE)",
         "type": "scatter",
         "x": [],
         "y": []
        },
        {
         "mode": "lines",
         "name": "CZ0 0 urban central water pits discharger-2025 – 1-Zone (DE)",
         "type": "scatter",
         "x": [],
         "y": []
        },
        {
         "mode": "lines",
         "name": "DE0 0 urban central water pits discharger-2025 – 1-Zone (DE)",
         "type": "scatter",
         "x": [],
         "y": []
        },
        {
         "mode": "lines",
         "name": "DK0 0 urban central water pits discharger-2025 – 1-Zone (DE)",
         "type": "scatter",
         "x": [],
         "y": []
        },
        {
         "mode": "lines",
         "name": "DK1 0 urban central water pits discharger-2025 – 1-Zone (DE)",
         "type": "scatter",
         "x": [],
         "y": []
        },
        {
         "mode": "lines",
         "name": "ES0 0 urban central water pits discharger-2025 – 1-Zone (DE)",
         "type": "scatter",
         "x": [],
         "y": []
        },
        {
         "mode": "lines",
         "name": "FR0 0 urban central water pits discharger-2025 – 1-Zone (DE)",
         "type": "scatter",
         "x": [],
         "y": []
        },
        {
         "mode": "lines",
         "name": "GB2 0 urban central water pits discharger-2025 – 1-Zone (DE)",
         "type": "scatter",
         "x": [],
         "y": []
        },
        {
         "mode": "lines",
         "name": "GB5 0 urban central water pits discharger-2025 – 1-Zone (DE)",
         "type": "scatter",
         "x": [],
         "y": []
        },
        {
         "mode": "lines",
         "name": "IT0 0 urban central water pits discharger-2025 – 1-Zone (DE)",
         "type": "scatter",
         "x": [],
         "y": []
        },
        {
         "mode": "lines",
         "name": "IT3 0 urban central water pits discharger-2025 – 1-Zone (DE)",
         "type": "scatter",
         "x": [],
         "y": []
        },
        {
         "mode": "lines",
         "name": "LU0 0 urban central water pits discharger-2025 – 1-Zone (DE)",
         "type": "scatter",
         "x": [],
         "y": []
        },
        {
         "mode": "lines",
         "name": "NL0 0 urban central water pits discharger-2025 – 1-Zone (DE)",
         "type": "scatter",
         "x": [],
         "y": []
        },
        {
         "mode": "lines",
         "name": "NO1 0 urban central water pits discharger-2025 – 1-Zone (DE)",
         "type": "scatter",
         "x": [],
         "y": []
        },
        {
         "mode": "lines",
         "name": "PL0 0 urban central water pits discharger-2025 – 1-Zone (DE)",
         "type": "scatter",
         "x": [],
         "y": []
        },
        {
         "mode": "lines",
         "name": "SE1 0 urban central water pits discharger-2025 – 1-Zone (DE)",
         "type": "scatter",
         "x": [],
         "y": []
        },
        {
         "mode": "lines",
         "name": "AT0 0 rural water tanks discharger-2025 – 1-Zone (DE)",
         "type": "scatter",
         "x": [],
         "y": []
        },
        {
         "mode": "lines",
         "name": "AT0 0 urban decentral water tanks discharger-2025 – 1-Zone (DE)",
         "type": "scatter",
         "x": [],
         "y": []
        },
        {
         "mode": "lines",
         "name": "BE0 0 rural water tanks discharger-2025 – 1-Zone (DE)",
         "type": "scatter",
         "x": [],
         "y": []
        },
        {
         "mode": "lines",
         "name": "BE0 0 urban decentral water tanks discharger-2025 – 1-Zone (DE)",
         "type": "scatter",
         "x": [],
         "y": []
        },
        {
         "mode": "lines",
         "name": "CZ0 0 urban decentral water tanks discharger-2025 – 1-Zone (DE)",
         "type": "scatter",
         "x": [],
         "y": []
        },
        {
         "mode": "lines",
         "name": "DE0 0 urban decentral water tanks discharger-2025 – 1-Zone (DE)",
         "type": "scatter",
         "x": [],
         "y": []
        },
        {
         "mode": "lines",
         "name": "DK0 0 urban decentral water tanks discharger-2025 – 1-Zone (DE)",
         "type": "scatter",
         "x": [],
         "y": []
        },
        {
         "mode": "lines",
         "name": "DK1 0 urban decentral water tanks discharger-2025 – 1-Zone (DE)",
         "type": "scatter",
         "x": [],
         "y": []
        },
        {
         "mode": "lines",
         "name": "ES0 0 rural water tanks discharger-2025 – 1-Zone (DE)",
         "type": "scatter",
         "x": [],
         "y": []
        },
        {
         "mode": "lines",
         "name": "ES6 0 urban decentral water tanks discharger-2025 – 1-Zone (DE)",
         "type": "scatter",
         "x": [],
         "y": []
        },
        {
         "mode": "lines",
         "name": "FR0 0 rural water tanks discharger-2025 – 1-Zone (DE)",
         "type": "scatter",
         "x": [],
         "y": []
        },
        {
         "mode": "lines",
         "name": "FR0 0 urban decentral water tanks discharger-2025 – 1-Zone (DE)",
         "type": "scatter",
         "x": [],
         "y": []
        },
        {
         "mode": "lines",
         "name": "FR4 0 rural water tanks discharger-2025 – 1-Zone (DE)",
         "type": "scatter",
         "x": [],
         "y": []
        },
        {
         "mode": "lines",
         "name": "GB2 0 rural water tanks discharger-2025 – 1-Zone (DE)",
         "type": "scatter",
         "x": [],
         "y": []
        },
        {
         "mode": "lines",
         "name": "GB2 0 urban decentral water tanks discharger-2025 – 1-Zone (DE)",
         "type": "scatter",
         "x": [],
         "y": []
        },
        {
         "mode": "lines",
         "name": "GB5 0 rural water tanks discharger-2025 – 1-Zone (DE)",
         "type": "scatter",
         "x": [],
         "y": []
        },
        {
         "mode": "lines",
         "name": "IT0 0 rural water tanks discharger-2025 – 1-Zone (DE)",
         "type": "scatter",
         "x": [],
         "y": []
        },
        {
         "mode": "lines",
         "name": "IT0 0 urban decentral water tanks discharger-2025 – 1-Zone (DE)",
         "type": "scatter",
         "x": [],
         "y": []
        },
        {
         "mode": "lines",
         "name": "IT3 0 rural water tanks discharger-2025 – 1-Zone (DE)",
         "type": "scatter",
         "x": [],
         "y": []
        },
        {
         "mode": "lines",
         "name": "LU0 0 urban decentral water tanks discharger-2025 – 1-Zone (DE)",
         "type": "scatter",
         "x": [],
         "y": []
        },
        {
         "mode": "lines",
         "name": "NL0 0 rural water tanks discharger-2025 – 1-Zone (DE)",
         "type": "scatter",
         "x": [],
         "y": []
        },
        {
         "mode": "lines",
         "name": "PL0 0 rural water tanks discharger-2025 – 1-Zone (DE)",
         "type": "scatter",
         "x": [],
         "y": []
        },
        {
         "mode": "lines",
         "name": "PL0 0 urban decentral water tanks discharger-2025 – 1-Zone (DE)",
         "type": "scatter",
         "x": [],
         "y": []
        },
        {
         "mode": "lines",
         "name": "SE1 0 rural water tanks discharger-2025 – 1-Zone (DE)",
         "type": "scatter",
         "x": [],
         "y": []
        },
        {
         "mode": "lines",
         "name": "SE1 0 urban decentral water tanks discharger-2025 – 1-Zone (DE)",
         "type": "scatter",
         "x": [],
         "y": []
        },
        {
         "mode": "lines",
         "name": "AT0 0 rural water tanks discharger-2020 – 1-Zone (DE)",
         "type": "scatter",
         "x": [],
         "y": []
        },
        {
         "mode": "lines",
         "name": "BE0 0 rural water tanks discharger-2020 – 1-Zone (DE)",
         "type": "scatter",
         "x": [],
         "y": []
        },
        {
         "mode": "lines",
         "name": "BE0 0 urban decentral water tanks discharger-2020 – 1-Zone (DE)",
         "type": "scatter",
         "x": [],
         "y": []
        },
        {
         "mode": "lines",
         "name": "CH0 0 rural water tanks discharger-2020 – 1-Zone (DE)",
         "type": "scatter",
         "x": [],
         "y": []
        },
        {
         "mode": "lines",
         "name": "CH0 0 urban decentral water tanks discharger-2020 – 1-Zone (DE)",
         "type": "scatter",
         "x": [],
         "y": []
        },
        {
         "mode": "lines",
         "name": "CZ0 0 rural water tanks discharger-2020 – 1-Zone (DE)",
         "type": "scatter",
         "x": [],
         "y": []
        },
        {
         "mode": "lines",
         "name": "CZ0 0 urban decentral water tanks discharger-2020 – 1-Zone (DE)",
         "type": "scatter",
         "x": [],
         "y": []
        },
        {
         "mode": "lines",
         "name": "DE0 0 rural water tanks discharger-2020 – 1-Zone (DE)",
         "type": "scatter",
         "x": [],
         "y": []
        },
        {
         "mode": "lines",
         "name": "DK0 0 rural water tanks discharger-2020 – 1-Zone (DE)",
         "type": "scatter",
         "x": [],
         "y": []
        },
        {
         "mode": "lines",
         "name": "DK0 0 urban decentral water tanks discharger-2020 – 1-Zone (DE)",
         "type": "scatter",
         "x": [],
         "y": []
        },
        {
         "mode": "lines",
         "name": "DK1 0 urban decentral water tanks discharger-2020 – 1-Zone (DE)",
         "type": "scatter",
         "x": [],
         "y": []
        },
        {
         "mode": "lines",
         "name": "ES0 0 urban decentral water tanks discharger-2020 – 1-Zone (DE)",
         "type": "scatter",
         "x": [],
         "y": []
        },
        {
         "mode": "lines",
         "name": "ES6 0 rural water tanks discharger-2020 – 1-Zone (DE)",
         "type": "scatter",
         "x": [],
         "y": []
        },
        {
         "mode": "lines",
         "name": "ES6 0 urban decentral water tanks discharger-2020 – 1-Zone (DE)",
         "type": "scatter",
         "x": [],
         "y": []
        },
        {
         "mode": "lines",
         "name": "FR0 0 urban decentral water tanks discharger-2020 – 1-Zone (DE)",
         "type": "scatter",
         "x": [],
         "y": []
        },
        {
         "mode": "lines",
         "name": "FR4 0 rural water tanks discharger-2020 – 1-Zone (DE)",
         "type": "scatter",
         "x": [],
         "y": []
        },
        {
         "mode": "lines",
         "name": "GB2 0 rural water tanks discharger-2020 – 1-Zone (DE)",
         "type": "scatter",
         "x": [],
         "y": []
        },
        {
         "mode": "lines",
         "name": "GB2 0 urban decentral water tanks discharger-2020 – 1-Zone (DE)",
         "type": "scatter",
         "x": [],
         "y": []
        },
        {
         "mode": "lines",
         "name": "GB5 0 rural water tanks discharger-2020 – 1-Zone (DE)",
         "type": "scatter",
         "x": [],
         "y": []
        },
        {
         "mode": "lines",
         "name": "GB5 0 urban decentral water tanks discharger-2020 – 1-Zone (DE)",
         "type": "scatter",
         "x": [],
         "y": []
        },
        {
         "mode": "lines",
         "name": "IT0 0 urban decentral water tanks discharger-2020 – 1-Zone (DE)",
         "type": "scatter",
         "x": [],
         "y": []
        },
        {
         "mode": "lines",
         "name": "IT3 0 rural water tanks discharger-2020 – 1-Zone (DE)",
         "type": "scatter",
         "x": [],
         "y": []
        },
        {
         "mode": "lines",
         "name": "LU0 0 rural water tanks discharger-2020 – 1-Zone (DE)",
         "type": "scatter",
         "x": [],
         "y": []
        },
        {
         "mode": "lines",
         "name": "LU0 0 urban decentral water tanks discharger-2020 – 1-Zone (DE)",
         "type": "scatter",
         "x": [],
         "y": []
        },
        {
         "mode": "lines",
         "name": "NL0 0 rural water tanks discharger-2020 – 1-Zone (DE)",
         "type": "scatter",
         "x": [],
         "y": []
        },
        {
         "mode": "lines",
         "name": "NO1 0 rural water tanks discharger-2020 – 1-Zone (DE)",
         "type": "scatter",
         "x": [],
         "y": []
        },
        {
         "mode": "lines",
         "name": "NO1 0 urban decentral water tanks discharger-2020 – 1-Zone (DE)",
         "type": "scatter",
         "x": [],
         "y": []
        },
        {
         "mode": "lines",
         "name": "PL0 0 rural water tanks discharger-2020 – 1-Zone (DE)",
         "type": "scatter",
         "x": [],
         "y": []
        },
        {
         "mode": "lines",
         "name": "PL0 0 urban decentral water tanks discharger-2020 – 1-Zone (DE)",
         "type": "scatter",
         "x": [],
         "y": []
        },
        {
         "mode": "lines",
         "name": "SE1 0 urban decentral water tanks discharger-2020 – 1-Zone (DE)",
         "type": "scatter",
         "x": [],
         "y": []
        },
        {
         "mode": "lines",
         "name": "AT0 0 battery discharger-2045 – 1H Res, 1-Zone (DE)",
         "type": "scatter",
         "x": [],
         "y": []
        },
        {
         "mode": "lines",
         "name": "BE0 0 battery discharger-2045 – 1H Res, 1-Zone (DE)",
         "type": "scatter",
         "x": [],
         "y": []
        },
        {
         "mode": "lines",
         "name": "CH0 0 battery discharger-2045 – 1H Res, 1-Zone (DE)",
         "type": "scatter",
         "x": [],
         "y": []
        },
        {
         "mode": "lines",
         "name": "CZ0 0 battery discharger-2045 – 1H Res, 1-Zone (DE)",
         "type": "scatter",
         "x": [],
         "y": []
        },
        {
         "mode": "lines",
         "name": "DE0 0 battery discharger-2045 – 1H Res, 1-Zone (DE)",
         "type": "scatter",
         "x": [],
         "y": []
        },
        {
         "mode": "lines",
         "name": "DK0 0 battery discharger-2045 – 1H Res, 1-Zone (DE)",
         "type": "scatter",
         "x": [],
         "y": []
        },
        {
         "mode": "lines",
         "name": "DK1 0 battery discharger-2045 – 1H Res, 1-Zone (DE)",
         "type": "scatter",
         "x": [],
         "y": []
        },
        {
         "mode": "lines",
         "name": "ES0 0 battery discharger-2045 – 1H Res, 1-Zone (DE)",
         "type": "scatter",
         "x": [],
         "y": []
        },
        {
         "mode": "lines",
         "name": "ES6 0 battery discharger-2045 – 1H Res, 1-Zone (DE)",
         "type": "scatter",
         "x": [],
         "y": []
        },
        {
         "mode": "lines",
         "name": "FR0 0 battery discharger-2045 – 1H Res, 1-Zone (DE)",
         "type": "scatter",
         "x": [],
         "y": []
        },
        {
         "mode": "lines",
         "name": "FR4 0 battery discharger-2045 – 1H Res, 1-Zone (DE)",
         "type": "scatter",
         "x": [],
         "y": []
        },
        {
         "mode": "lines",
         "name": "GB2 0 battery discharger-2045 – 1H Res, 1-Zone (DE)",
         "type": "scatter",
         "x": [],
         "y": []
        },
        {
         "mode": "lines",
         "name": "GB5 0 battery discharger-2045 – 1H Res, 1-Zone (DE)",
         "type": "scatter",
         "x": [],
         "y": []
        },
        {
         "mode": "lines",
         "name": "IT0 0 battery discharger-2045 – 1H Res, 1-Zone (DE)",
         "type": "scatter",
         "x": [],
         "y": []
        },
        {
         "mode": "lines",
         "name": "IT3 0 battery discharger-2045 – 1H Res, 1-Zone (DE)",
         "type": "scatter",
         "x": [],
         "y": []
        },
        {
         "mode": "lines",
         "name": "LU0 0 battery discharger-2045 – 1H Res, 1-Zone (DE)",
         "type": "scatter",
         "x": [],
         "y": []
        },
        {
         "mode": "lines",
         "name": "NL0 0 battery discharger-2045 – 1H Res, 1-Zone (DE)",
         "type": "scatter",
         "x": [],
         "y": []
        },
        {
         "mode": "lines",
         "name": "NO1 0 battery discharger-2045 – 1H Res, 1-Zone (DE)",
         "type": "scatter",
         "x": [],
         "y": []
        },
        {
         "mode": "lines",
         "name": "PL0 0 battery discharger-2045 – 1H Res, 1-Zone (DE)",
         "type": "scatter",
         "x": [],
         "y": []
        },
        {
         "mode": "lines",
         "name": "SE1 0 battery discharger-2045 – 1H Res, 1-Zone (DE)",
         "type": "scatter",
         "x": [],
         "y": []
        },
        {
         "mode": "lines",
         "name": "AT0 0 urban central water tanks discharger-2045 – 1H Res, 1-Zone (DE)",
         "type": "scatter",
         "x": [],
         "y": []
        },
        {
         "mode": "lines",
         "name": "BE0 0 urban central water tanks discharger-2045 – 1H Res, 1-Zone (DE)",
         "type": "scatter",
         "x": [],
         "y": []
        },
        {
         "mode": "lines",
         "name": "CH0 0 urban central water tanks discharger-2045 – 1H Res, 1-Zone (DE)",
         "type": "scatter",
         "x": [],
         "y": []
        },
        {
         "mode": "lines",
         "name": "CZ0 0 urban central water tanks discharger-2045 – 1H Res, 1-Zone (DE)",
         "type": "scatter",
         "x": [],
         "y": []
        },
        {
         "mode": "lines",
         "name": "DE0 0 urban central water tanks discharger-2045 – 1H Res, 1-Zone (DE)",
         "type": "scatter",
         "x": [],
         "y": []
        },
        {
         "mode": "lines",
         "name": "DK0 0 urban central water tanks discharger-2045 – 1H Res, 1-Zone (DE)",
         "type": "scatter",
         "x": [],
         "y": []
        },
        {
         "mode": "lines",
         "name": "DK1 0 urban central water tanks discharger-2045 – 1H Res, 1-Zone (DE)",
         "type": "scatter",
         "x": [],
         "y": []
        },
        {
         "mode": "lines",
         "name": "ES0 0 urban central water tanks discharger-2045 – 1H Res, 1-Zone (DE)",
         "type": "scatter",
         "x": [],
         "y": []
        },
        {
         "mode": "lines",
         "name": "ES6 0 urban central water tanks discharger-2045 – 1H Res, 1-Zone (DE)",
         "type": "scatter",
         "x": [],
         "y": []
        },
        {
         "mode": "lines",
         "name": "FR0 0 urban central water tanks discharger-2045 – 1H Res, 1-Zone (DE)",
         "type": "scatter",
         "x": [],
         "y": []
        },
        {
         "mode": "lines",
         "name": "GB2 0 urban central water tanks discharger-2045 – 1H Res, 1-Zone (DE)",
         "type": "scatter",
         "x": [],
         "y": []
        },
        {
         "mode": "lines",
         "name": "GB5 0 urban central water tanks discharger-2045 – 1H Res, 1-Zone (DE)",
         "type": "scatter",
         "x": [],
         "y": []
        },
        {
         "mode": "lines",
         "name": "IT0 0 urban central water tanks discharger-2045 – 1H Res, 1-Zone (DE)",
         "type": "scatter",
         "x": [],
         "y": []
        },
        {
         "mode": "lines",
         "name": "IT3 0 urban central water tanks discharger-2045 – 1H Res, 1-Zone (DE)",
         "type": "scatter",
         "x": [],
         "y": []
        },
        {
         "mode": "lines",
         "name": "LU0 0 urban central water tanks discharger-2045 – 1H Res, 1-Zone (DE)",
         "type": "scatter",
         "x": [],
         "y": []
        },
        {
         "mode": "lines",
         "name": "NL0 0 urban central water tanks discharger-2045 – 1H Res, 1-Zone (DE)",
         "type": "scatter",
         "x": [],
         "y": []
        },
        {
         "mode": "lines",
         "name": "NO1 0 urban central water tanks discharger-2045 – 1H Res, 1-Zone (DE)",
         "type": "scatter",
         "x": [],
         "y": []
        },
        {
         "mode": "lines",
         "name": "PL0 0 urban central water tanks discharger-2045 – 1H Res, 1-Zone (DE)",
         "type": "scatter",
         "x": [],
         "y": []
        },
        {
         "mode": "lines",
         "name": "SE1 0 urban central water tanks discharger-2045 – 1H Res, 1-Zone (DE)",
         "type": "scatter",
         "x": [],
         "y": []
        },
        {
         "mode": "lines",
         "name": "AT0 0 urban central water pits discharger-2045 – 1H Res, 1-Zone (DE)",
         "type": "scatter",
         "x": [],
         "y": []
        },
        {
         "mode": "lines",
         "name": "BE0 0 urban central water pits discharger-2045 – 1H Res, 1-Zone (DE)",
         "type": "scatter",
         "x": [],
         "y": []
        },
        {
         "mode": "lines",
         "name": "CH0 0 urban central water pits discharger-2045 – 1H Res, 1-Zone (DE)",
         "type": "scatter",
         "x": [],
         "y": []
        },
        {
         "mode": "lines",
         "name": "CZ0 0 urban central water pits discharger-2045 – 1H Res, 1-Zone (DE)",
         "type": "scatter",
         "x": [],
         "y": []
        },
        {
         "mode": "lines",
         "name": "DE0 0 urban central water pits discharger-2045 – 1H Res, 1-Zone (DE)",
         "type": "scatter",
         "x": [],
         "y": []
        },
        {
         "mode": "lines",
         "name": "DK0 0 urban central water pits discharger-2045 – 1H Res, 1-Zone (DE)",
         "type": "scatter",
         "x": [],
         "y": []
        },
        {
         "mode": "lines",
         "name": "DK1 0 urban central water pits discharger-2045 – 1H Res, 1-Zone (DE)",
         "type": "scatter",
         "x": [],
         "y": []
        },
        {
         "mode": "lines",
         "name": "ES0 0 urban central water pits discharger-2045 – 1H Res, 1-Zone (DE)",
         "type": "scatter",
         "x": [],
         "y": []
        },
        {
         "mode": "lines",
         "name": "ES6 0 urban central water pits discharger-2045 – 1H Res, 1-Zone (DE)",
         "type": "scatter",
         "x": [],
         "y": []
        },
        {
         "mode": "lines",
         "name": "FR0 0 urban central water pits discharger-2045 – 1H Res, 1-Zone (DE)",
         "type": "scatter",
         "x": [],
         "y": []
        },
        {
         "mode": "lines",
         "name": "GB2 0 urban central water pits discharger-2045 – 1H Res, 1-Zone (DE)",
         "type": "scatter",
         "x": [],
         "y": []
        },
        {
         "mode": "lines",
         "name": "GB5 0 urban central water pits discharger-2045 – 1H Res, 1-Zone (DE)",
         "type": "scatter",
         "x": [],
         "y": []
        },
        {
         "mode": "lines",
         "name": "IT0 0 urban central water pits discharger-2045 – 1H Res, 1-Zone (DE)",
         "type": "scatter",
         "x": [],
         "y": []
        },
        {
         "mode": "lines",
         "name": "IT3 0 urban central water pits discharger-2045 – 1H Res, 1-Zone (DE)",
         "type": "scatter",
         "x": [],
         "y": []
        },
        {
         "mode": "lines",
         "name": "LU0 0 urban central water pits discharger-2045 – 1H Res, 1-Zone (DE)",
         "type": "scatter",
         "x": [],
         "y": []
        },
        {
         "mode": "lines",
         "name": "NL0 0 urban central water pits discharger-2045 – 1H Res, 1-Zone (DE)",
         "type": "scatter",
         "x": [],
         "y": []
        },
        {
         "mode": "lines",
         "name": "NO1 0 urban central water pits discharger-2045 – 1H Res, 1-Zone (DE)",
         "type": "scatter",
         "x": [],
         "y": []
        },
        {
         "mode": "lines",
         "name": "PL0 0 urban central water pits discharger-2045 – 1H Res, 1-Zone (DE)",
         "type": "scatter",
         "x": [],
         "y": []
        },
        {
         "mode": "lines",
         "name": "SE1 0 urban central water pits discharger-2045 – 1H Res, 1-Zone (DE)",
         "type": "scatter",
         "x": [],
         "y": []
        },
        {
         "mode": "lines",
         "name": "AT0 0 home battery discharger-2045 – 1H Res, 1-Zone (DE)",
         "type": "scatter",
         "x": [],
         "y": []
        },
        {
         "mode": "lines",
         "name": "BE0 0 home battery discharger-2045 – 1H Res, 1-Zone (DE)",
         "type": "scatter",
         "x": [],
         "y": []
        },
        {
         "mode": "lines",
         "name": "CH0 0 home battery discharger-2045 – 1H Res, 1-Zone (DE)",
         "type": "scatter",
         "x": [],
         "y": []
        },
        {
         "mode": "lines",
         "name": "CZ0 0 home battery discharger-2045 – 1H Res, 1-Zone (DE)",
         "type": "scatter",
         "x": [],
         "y": []
        },
        {
         "mode": "lines",
         "name": "DE0 0 home battery discharger-2045 – 1H Res, 1-Zone (DE)",
         "type": "scatter",
         "x": [],
         "y": []
        },
        {
         "mode": "lines",
         "name": "DK0 0 home battery discharger-2045 – 1H Res, 1-Zone (DE)",
         "type": "scatter",
         "x": [],
         "y": []
        },
        {
         "mode": "lines",
         "name": "DK1 0 home battery discharger-2045 – 1H Res, 1-Zone (DE)",
         "type": "scatter",
         "x": [],
         "y": []
        },
        {
         "mode": "lines",
         "name": "ES0 0 home battery discharger-2045 – 1H Res, 1-Zone (DE)",
         "type": "scatter",
         "x": [],
         "y": []
        },
        {
         "mode": "lines",
         "name": "ES6 0 home battery discharger-2045 – 1H Res, 1-Zone (DE)",
         "type": "scatter",
         "x": [],
         "y": []
        },
        {
         "mode": "lines",
         "name": "FR0 0 home battery discharger-2045 – 1H Res, 1-Zone (DE)",
         "type": "scatter",
         "x": [],
         "y": []
        },
        {
         "mode": "lines",
         "name": "FR4 0 home battery discharger-2045 – 1H Res, 1-Zone (DE)",
         "type": "scatter",
         "x": [],
         "y": []
        },
        {
         "mode": "lines",
         "name": "GB2 0 home battery discharger-2045 – 1H Res, 1-Zone (DE)",
         "type": "scatter",
         "x": [],
         "y": []
        },
        {
         "mode": "lines",
         "name": "GB5 0 home battery discharger-2045 – 1H Res, 1-Zone (DE)",
         "type": "scatter",
         "x": [],
         "y": []
        },
        {
         "mode": "lines",
         "name": "IT0 0 home battery discharger-2045 – 1H Res, 1-Zone (DE)",
         "type": "scatter",
         "x": [],
         "y": []
        },
        {
         "mode": "lines",
         "name": "IT3 0 home battery discharger-2045 – 1H Res, 1-Zone (DE)",
         "type": "scatter",
         "x": [],
         "y": []
        },
        {
         "mode": "lines",
         "name": "LU0 0 home battery discharger-2045 – 1H Res, 1-Zone (DE)",
         "type": "scatter",
         "x": [],
         "y": []
        },
        {
         "mode": "lines",
         "name": "NL0 0 home battery discharger-2045 – 1H Res, 1-Zone (DE)",
         "type": "scatter",
         "x": [],
         "y": []
        },
        {
         "mode": "lines",
         "name": "NO1 0 home battery discharger-2045 – 1H Res, 1-Zone (DE)",
         "type": "scatter",
         "x": [],
         "y": []
        },
        {
         "mode": "lines",
         "name": "PL0 0 home battery discharger-2045 – 1H Res, 1-Zone (DE)",
         "type": "scatter",
         "x": [],
         "y": []
        },
        {
         "mode": "lines",
         "name": "SE1 0 home battery discharger-2045 – 1H Res, 1-Zone (DE)",
         "type": "scatter",
         "x": [],
         "y": []
        },
        {
         "mode": "lines",
         "name": "AT0 0 rural water tanks discharger-2045 – 1H Res, 1-Zone (DE)",
         "type": "scatter",
         "x": [],
         "y": []
        },
        {
         "mode": "lines",
         "name": "AT0 0 urban decentral water tanks discharger-2045 – 1H Res, 1-Zone (DE)",
         "type": "scatter",
         "x": [],
         "y": []
        },
        {
         "mode": "lines",
         "name": "BE0 0 rural water tanks discharger-2045 – 1H Res, 1-Zone (DE)",
         "type": "scatter",
         "x": [],
         "y": []
        },
        {
         "mode": "lines",
         "name": "BE0 0 urban decentral water tanks discharger-2045 – 1H Res, 1-Zone (DE)",
         "type": "scatter",
         "x": [],
         "y": []
        },
        {
         "mode": "lines",
         "name": "CH0 0 rural water tanks discharger-2045 – 1H Res, 1-Zone (DE)",
         "type": "scatter",
         "x": [],
         "y": []
        },
        {
         "mode": "lines",
         "name": "CH0 0 urban decentral water tanks discharger-2045 – 1H Res, 1-Zone (DE)",
         "type": "scatter",
         "x": [],
         "y": []
        },
        {
         "mode": "lines",
         "name": "CZ0 0 rural water tanks discharger-2045 – 1H Res, 1-Zone (DE)",
         "type": "scatter",
         "x": [],
         "y": []
        },
        {
         "mode": "lines",
         "name": "CZ0 0 urban decentral water tanks discharger-2045 – 1H Res, 1-Zone (DE)",
         "type": "scatter",
         "x": [],
         "y": []
        },
        {
         "mode": "lines",
         "name": "DE0 0 rural water tanks discharger-2045 – 1H Res, 1-Zone (DE)",
         "type": "scatter",
         "x": [],
         "y": []
        },
        {
         "mode": "lines",
         "name": "DE0 0 urban decentral water tanks discharger-2045 – 1H Res, 1-Zone (DE)",
         "type": "scatter",
         "x": [],
         "y": []
        },
        {
         "mode": "lines",
         "name": "DK0 0 rural water tanks discharger-2045 – 1H Res, 1-Zone (DE)",
         "type": "scatter",
         "x": [],
         "y": []
        },
        {
         "mode": "lines",
         "name": "DK0 0 urban decentral water tanks discharger-2045 – 1H Res, 1-Zone (DE)",
         "type": "scatter",
         "x": [],
         "y": []
        },
        {
         "mode": "lines",
         "name": "DK1 0 rural water tanks discharger-2045 – 1H Res, 1-Zone (DE)",
         "type": "scatter",
         "x": [],
         "y": []
        },
        {
         "mode": "lines",
         "name": "DK1 0 urban decentral water tanks discharger-2045 – 1H Res, 1-Zone (DE)",
         "type": "scatter",
         "x": [],
         "y": []
        },
        {
         "mode": "lines",
         "name": "ES0 0 rural water tanks discharger-2045 – 1H Res, 1-Zone (DE)",
         "type": "scatter",
         "x": [],
         "y": []
        },
        {
         "mode": "lines",
         "name": "ES0 0 urban decentral water tanks discharger-2045 – 1H Res, 1-Zone (DE)",
         "type": "scatter",
         "x": [],
         "y": []
        },
        {
         "mode": "lines",
         "name": "ES6 0 rural water tanks discharger-2045 – 1H Res, 1-Zone (DE)",
         "type": "scatter",
         "x": [],
         "y": []
        },
        {
         "mode": "lines",
         "name": "ES6 0 urban decentral water tanks discharger-2045 – 1H Res, 1-Zone (DE)",
         "type": "scatter",
         "x": [],
         "y": []
        },
        {
         "mode": "lines",
         "name": "FR0 0 rural water tanks discharger-2045 – 1H Res, 1-Zone (DE)",
         "type": "scatter",
         "x": [],
         "y": []
        },
        {
         "mode": "lines",
         "name": "FR0 0 urban decentral water tanks discharger-2045 – 1H Res, 1-Zone (DE)",
         "type": "scatter",
         "x": [],
         "y": []
        },
        {
         "mode": "lines",
         "name": "FR4 0 rural water tanks discharger-2045 – 1H Res, 1-Zone (DE)",
         "type": "scatter",
         "x": [],
         "y": []
        },
        {
         "mode": "lines",
         "name": "FR4 0 urban decentral water tanks discharger-2045 – 1H Res, 1-Zone (DE)",
         "type": "scatter",
         "x": [],
         "y": []
        },
        {
         "mode": "lines",
         "name": "GB2 0 rural water tanks discharger-2045 – 1H Res, 1-Zone (DE)",
         "type": "scatter",
         "x": [],
         "y": []
        },
        {
         "mode": "lines",
         "name": "GB2 0 urban decentral water tanks discharger-2045 – 1H Res, 1-Zone (DE)",
         "type": "scatter",
         "x": [],
         "y": []
        },
        {
         "mode": "lines",
         "name": "GB5 0 rural water tanks discharger-2045 – 1H Res, 1-Zone (DE)",
         "type": "scatter",
         "x": [],
         "y": []
        },
        {
         "mode": "lines",
         "name": "GB5 0 urban decentral water tanks discharger-2045 – 1H Res, 1-Zone (DE)",
         "type": "scatter",
         "x": [],
         "y": []
        },
        {
         "mode": "lines",
         "name": "IT0 0 rural water tanks discharger-2045 – 1H Res, 1-Zone (DE)",
         "type": "scatter",
         "x": [],
         "y": []
        },
        {
         "mode": "lines",
         "name": "IT0 0 urban decentral water tanks discharger-2045 – 1H Res, 1-Zone (DE)",
         "type": "scatter",
         "x": [],
         "y": []
        },
        {
         "mode": "lines",
         "name": "IT3 0 rural water tanks discharger-2045 – 1H Res, 1-Zone (DE)",
         "type": "scatter",
         "x": [],
         "y": []
        },
        {
         "mode": "lines",
         "name": "IT3 0 urban decentral water tanks discharger-2045 – 1H Res, 1-Zone (DE)",
         "type": "scatter",
         "x": [],
         "y": []
        },
        {
         "mode": "lines",
         "name": "LU0 0 rural water tanks discharger-2045 – 1H Res, 1-Zone (DE)",
         "type": "scatter",
         "x": [],
         "y": []
        },
        {
         "mode": "lines",
         "name": "LU0 0 urban decentral water tanks discharger-2045 – 1H Res, 1-Zone (DE)",
         "type": "scatter",
         "x": [],
         "y": []
        },
        {
         "mode": "lines",
         "name": "NL0 0 rural water tanks discharger-2045 – 1H Res, 1-Zone (DE)",
         "type": "scatter",
         "x": [],
         "y": []
        },
        {
         "mode": "lines",
         "name": "NL0 0 urban decentral water tanks discharger-2045 – 1H Res, 1-Zone (DE)",
         "type": "scatter",
         "x": [],
         "y": []
        },
        {
         "mode": "lines",
         "name": "NO1 0 rural water tanks discharger-2045 – 1H Res, 1-Zone (DE)",
         "type": "scatter",
         "x": [],
         "y": []
        },
        {
         "mode": "lines",
         "name": "NO1 0 urban decentral water tanks discharger-2045 – 1H Res, 1-Zone (DE)",
         "type": "scatter",
         "x": [],
         "y": []
        },
        {
         "mode": "lines",
         "name": "PL0 0 rural water tanks discharger-2045 – 1H Res, 1-Zone (DE)",
         "type": "scatter",
         "x": [],
         "y": []
        },
        {
         "mode": "lines",
         "name": "PL0 0 urban decentral water tanks discharger-2045 – 1H Res, 1-Zone (DE)",
         "type": "scatter",
         "x": [],
         "y": []
        },
        {
         "mode": "lines",
         "name": "SE1 0 rural water tanks discharger-2045 – 1H Res, 1-Zone (DE)",
         "type": "scatter",
         "x": [],
         "y": []
        },
        {
         "mode": "lines",
         "name": "SE1 0 urban decentral water tanks discharger-2045 – 1H Res, 1-Zone (DE)",
         "type": "scatter",
         "x": [],
         "y": []
        },
        {
         "mode": "lines",
         "name": "AT0 0 battery discharger-2040 – 1H Res, 1-Zone (DE)",
         "type": "scatter",
         "x": [],
         "y": []
        },
        {
         "mode": "lines",
         "name": "BE0 0 battery discharger-2040 – 1H Res, 1-Zone (DE)",
         "type": "scatter",
         "x": [],
         "y": []
        },
        {
         "mode": "lines",
         "name": "CH0 0 battery discharger-2040 – 1H Res, 1-Zone (DE)",
         "type": "scatter",
         "x": [],
         "y": []
        },
        {
         "mode": "lines",
         "name": "CZ0 0 battery discharger-2040 – 1H Res, 1-Zone (DE)",
         "type": "scatter",
         "x": [],
         "y": []
        },
        {
         "mode": "lines",
         "name": "DE0 0 battery discharger-2040 – 1H Res, 1-Zone (DE)",
         "type": "scatter",
         "x": [],
         "y": []
        },
        {
         "mode": "lines",
         "name": "ES0 0 battery discharger-2040 – 1H Res, 1-Zone (DE)",
         "type": "scatter",
         "x": [],
         "y": []
        },
        {
         "mode": "lines",
         "name": "ES6 0 battery discharger-2040 – 1H Res, 1-Zone (DE)",
         "type": "scatter",
         "x": [],
         "y": []
        },
        {
         "mode": "lines",
         "name": "FR0 0 battery discharger-2040 – 1H Res, 1-Zone (DE)",
         "type": "scatter",
         "x": [],
         "y": []
        },
        {
         "mode": "lines",
         "name": "GB2 0 battery discharger-2040 – 1H Res, 1-Zone (DE)",
         "type": "scatter",
         "x": [],
         "y": []
        },
        {
         "mode": "lines",
         "name": "IT0 0 battery discharger-2040 – 1H Res, 1-Zone (DE)",
         "type": "scatter",
         "x": [],
         "y": []
        },
        {
         "mode": "lines",
         "name": "IT3 0 battery discharger-2040 – 1H Res, 1-Zone (DE)",
         "type": "scatter",
         "x": [],
         "y": []
        },
        {
         "mode": "lines",
         "name": "NL0 0 battery discharger-2040 – 1H Res, 1-Zone (DE)",
         "type": "scatter",
         "x": [],
         "y": []
        },
        {
         "mode": "lines",
         "name": "PL0 0 battery discharger-2040 – 1H Res, 1-Zone (DE)",
         "type": "scatter",
         "x": [],
         "y": []
        },
        {
         "mode": "lines",
         "name": "AT0 0 urban central water pits discharger-2040 – 1H Res, 1-Zone (DE)",
         "type": "scatter",
         "x": [],
         "y": []
        },
        {
         "mode": "lines",
         "name": "BE0 0 urban central water pits discharger-2040 – 1H Res, 1-Zone (DE)",
         "type": "scatter",
         "x": [],
         "y": []
        },
        {
         "mode": "lines",
         "name": "CH0 0 urban central water pits discharger-2040 – 1H Res, 1-Zone (DE)",
         "type": "scatter",
         "x": [],
         "y": []
        },
        {
         "mode": "lines",
         "name": "CZ0 0 urban central water pits discharger-2040 – 1H Res, 1-Zone (DE)",
         "type": "scatter",
         "x": [],
         "y": []
        },
        {
         "mode": "lines",
         "name": "DK0 0 urban central water pits discharger-2040 – 1H Res, 1-Zone (DE)",
         "type": "scatter",
         "x": [],
         "y": []
        },
        {
         "mode": "lines",
         "name": "DK1 0 urban central water pits discharger-2040 – 1H Res, 1-Zone (DE)",
         "type": "scatter",
         "x": [],
         "y": []
        },
        {
         "mode": "lines",
         "name": "ES0 0 urban central water pits discharger-2040 – 1H Res, 1-Zone (DE)",
         "type": "scatter",
         "x": [],
         "y": []
        },
        {
         "mode": "lines",
         "name": "ES6 0 urban central water pits discharger-2040 – 1H Res, 1-Zone (DE)",
         "type": "scatter",
         "x": [],
         "y": []
        },
        {
         "mode": "lines",
         "name": "FR0 0 urban central water pits discharger-2040 – 1H Res, 1-Zone (DE)",
         "type": "scatter",
         "x": [],
         "y": []
        },
        {
         "mode": "lines",
         "name": "IT0 0 urban central water pits discharger-2040 – 1H Res, 1-Zone (DE)",
         "type": "scatter",
         "x": [],
         "y": []
        },
        {
         "mode": "lines",
         "name": "PL0 0 urban central water pits discharger-2040 – 1H Res, 1-Zone (DE)",
         "type": "scatter",
         "x": [],
         "y": []
        },
        {
         "mode": "lines",
         "name": "SE1 0 urban central water pits discharger-2040 – 1H Res, 1-Zone (DE)",
         "type": "scatter",
         "x": [],
         "y": []
        },
        {
         "mode": "lines",
         "name": "CH0 0 home battery discharger-2040 – 1H Res, 1-Zone (DE)",
         "type": "scatter",
         "x": [],
         "y": []
        },
        {
         "mode": "lines",
         "name": "CZ0 0 home battery discharger-2040 – 1H Res, 1-Zone (DE)",
         "type": "scatter",
         "x": [],
         "y": []
        },
        {
         "mode": "lines",
         "name": "DE0 0 home battery discharger-2040 – 1H Res, 1-Zone (DE)",
         "type": "scatter",
         "x": [],
         "y": []
        },
        {
         "mode": "lines",
         "name": "DK1 0 home battery discharger-2040 – 1H Res, 1-Zone (DE)",
         "type": "scatter",
         "x": [],
         "y": []
        },
        {
         "mode": "lines",
         "name": "ES0 0 home battery discharger-2040 – 1H Res, 1-Zone (DE)",
         "type": "scatter",
         "x": [],
         "y": []
        },
        {
         "mode": "lines",
         "name": "FR0 0 home battery discharger-2040 – 1H Res, 1-Zone (DE)",
         "type": "scatter",
         "x": [],
         "y": []
        },
        {
         "mode": "lines",
         "name": "FR4 0 home battery discharger-2040 – 1H Res, 1-Zone (DE)",
         "type": "scatter",
         "x": [],
         "y": []
        },
        {
         "mode": "lines",
         "name": "GB2 0 home battery discharger-2040 – 1H Res, 1-Zone (DE)",
         "type": "scatter",
         "x": [],
         "y": []
        },
        {
         "mode": "lines",
         "name": "IT0 0 home battery discharger-2040 – 1H Res, 1-Zone (DE)",
         "type": "scatter",
         "x": [],
         "y": []
        },
        {
         "mode": "lines",
         "name": "IT3 0 home battery discharger-2040 – 1H Res, 1-Zone (DE)",
         "type": "scatter",
         "x": [],
         "y": []
        },
        {
         "mode": "lines",
         "name": "NL0 0 home battery discharger-2040 – 1H Res, 1-Zone (DE)",
         "type": "scatter",
         "x": [],
         "y": []
        },
        {
         "mode": "lines",
         "name": "PL0 0 home battery discharger-2040 – 1H Res, 1-Zone (DE)",
         "type": "scatter",
         "x": [],
         "y": []
        },
        {
         "mode": "lines",
         "name": "SE1 0 home battery discharger-2040 – 1H Res, 1-Zone (DE)",
         "type": "scatter",
         "x": [],
         "y": []
        },
        {
         "mode": "lines",
         "name": "CZ0 0 rural water tanks discharger-2040 – 1H Res, 1-Zone (DE)",
         "type": "scatter",
         "x": [],
         "y": []
        },
        {
         "mode": "lines",
         "name": "IT0 0 rural water tanks discharger-2040 – 1H Res, 1-Zone (DE)",
         "type": "scatter",
         "x": [],
         "y": []
        },
        {
         "mode": "lines",
         "name": "PL0 0 rural water tanks discharger-2040 – 1H Res, 1-Zone (DE)",
         "type": "scatter",
         "x": [],
         "y": []
        },
        {
         "mode": "lines",
         "name": "PL0 0 urban decentral water tanks discharger-2040 – 1H Res, 1-Zone (DE)",
         "type": "scatter",
         "x": [],
         "y": []
        },
        {
         "mode": "lines",
         "name": "SE1 0 rural water tanks discharger-2040 – 1H Res, 1-Zone (DE)",
         "type": "scatter",
         "x": [],
         "y": []
        },
        {
         "mode": "lines",
         "name": "AT0 0 urban central water pits discharger-2035 – 1H Res, 1-Zone (DE)",
         "type": "scatter",
         "x": [],
         "y": []
        },
        {
         "mode": "lines",
         "name": "BE0 0 urban central water pits discharger-2035 – 1H Res, 1-Zone (DE)",
         "type": "scatter",
         "x": [],
         "y": []
        },
        {
         "mode": "lines",
         "name": "CH0 0 urban central water pits discharger-2035 – 1H Res, 1-Zone (DE)",
         "type": "scatter",
         "x": [],
         "y": []
        },
        {
         "mode": "lines",
         "name": "CZ0 0 urban central water pits discharger-2035 – 1H Res, 1-Zone (DE)",
         "type": "scatter",
         "x": [],
         "y": []
        },
        {
         "mode": "lines",
         "name": "DE0 0 urban central water pits discharger-2035 – 1H Res, 1-Zone (DE)",
         "type": "scatter",
         "x": [],
         "y": []
        },
        {
         "mode": "lines",
         "name": "DK0 0 urban central water pits discharger-2035 – 1H Res, 1-Zone (DE)",
         "type": "scatter",
         "x": [],
         "y": []
        },
        {
         "mode": "lines",
         "name": "DK1 0 urban central water pits discharger-2035 – 1H Res, 1-Zone (DE)",
         "type": "scatter",
         "x": [],
         "y": []
        },
        {
         "mode": "lines",
         "name": "ES0 0 urban central water pits discharger-2035 – 1H Res, 1-Zone (DE)",
         "type": "scatter",
         "x": [],
         "y": []
        },
        {
         "mode": "lines",
         "name": "ES6 0 urban central water pits discharger-2035 – 1H Res, 1-Zone (DE)",
         "type": "scatter",
         "x": [],
         "y": []
        },
        {
         "mode": "lines",
         "name": "FR0 0 urban central water pits discharger-2035 – 1H Res, 1-Zone (DE)",
         "type": "scatter",
         "x": [],
         "y": []
        },
        {
         "mode": "lines",
         "name": "GB2 0 urban central water pits discharger-2035 – 1H Res, 1-Zone (DE)",
         "type": "scatter",
         "x": [],
         "y": []
        },
        {
         "mode": "lines",
         "name": "GB5 0 urban central water pits discharger-2035 – 1H Res, 1-Zone (DE)",
         "type": "scatter",
         "x": [],
         "y": []
        },
        {
         "mode": "lines",
         "name": "IT0 0 urban central water pits discharger-2035 – 1H Res, 1-Zone (DE)",
         "type": "scatter",
         "x": [],
         "y": []
        },
        {
         "mode": "lines",
         "name": "IT3 0 urban central water pits discharger-2035 – 1H Res, 1-Zone (DE)",
         "type": "scatter",
         "x": [],
         "y": []
        },
        {
         "mode": "lines",
         "name": "LU0 0 urban central water pits discharger-2035 – 1H Res, 1-Zone (DE)",
         "type": "scatter",
         "x": [],
         "y": []
        },
        {
         "mode": "lines",
         "name": "NL0 0 urban central water pits discharger-2035 – 1H Res, 1-Zone (DE)",
         "type": "scatter",
         "x": [],
         "y": []
        },
        {
         "mode": "lines",
         "name": "NO1 0 urban central water pits discharger-2035 – 1H Res, 1-Zone (DE)",
         "type": "scatter",
         "x": [],
         "y": []
        },
        {
         "mode": "lines",
         "name": "PL0 0 urban central water pits discharger-2035 – 1H Res, 1-Zone (DE)",
         "type": "scatter",
         "x": [],
         "y": []
        },
        {
         "mode": "lines",
         "name": "SE1 0 urban central water pits discharger-2035 – 1H Res, 1-Zone (DE)",
         "type": "scatter",
         "x": [],
         "y": []
        },
        {
         "mode": "lines",
         "name": "AT0 0 rural water tanks discharger-2035 – 1H Res, 1-Zone (DE)",
         "type": "scatter",
         "x": [],
         "y": []
        },
        {
         "mode": "lines",
         "name": "CZ0 0 rural water tanks discharger-2035 – 1H Res, 1-Zone (DE)",
         "type": "scatter",
         "x": [],
         "y": []
        },
        {
         "mode": "lines",
         "name": "DE0 0 rural water tanks discharger-2035 – 1H Res, 1-Zone (DE)",
         "type": "scatter",
         "x": [],
         "y": []
        },
        {
         "mode": "lines",
         "name": "DE0 0 urban decentral water tanks discharger-2035 – 1H Res, 1-Zone (DE)",
         "type": "scatter",
         "x": [],
         "y": []
        },
        {
         "mode": "lines",
         "name": "DK0 0 urban decentral water tanks discharger-2035 – 1H Res, 1-Zone (DE)",
         "type": "scatter",
         "x": [],
         "y": []
        },
        {
         "mode": "lines",
         "name": "FR0 0 rural water tanks discharger-2035 – 1H Res, 1-Zone (DE)",
         "type": "scatter",
         "x": [],
         "y": []
        },
        {
         "mode": "lines",
         "name": "GB2 0 rural water tanks discharger-2035 – 1H Res, 1-Zone (DE)",
         "type": "scatter",
         "x": [],
         "y": []
        },
        {
         "mode": "lines",
         "name": "GB2 0 urban decentral water tanks discharger-2035 – 1H Res, 1-Zone (DE)",
         "type": "scatter",
         "x": [],
         "y": []
        },
        {
         "mode": "lines",
         "name": "GB5 0 rural water tanks discharger-2035 – 1H Res, 1-Zone (DE)",
         "type": "scatter",
         "x": [],
         "y": []
        },
        {
         "mode": "lines",
         "name": "GB5 0 urban decentral water tanks discharger-2035 – 1H Res, 1-Zone (DE)",
         "type": "scatter",
         "x": [],
         "y": []
        },
        {
         "mode": "lines",
         "name": "IT0 0 rural water tanks discharger-2035 – 1H Res, 1-Zone (DE)",
         "type": "scatter",
         "x": [],
         "y": []
        },
        {
         "mode": "lines",
         "name": "NL0 0 urban decentral water tanks discharger-2035 – 1H Res, 1-Zone (DE)",
         "type": "scatter",
         "x": [],
         "y": []
        },
        {
         "mode": "lines",
         "name": "PL0 0 rural water tanks discharger-2035 – 1H Res, 1-Zone (DE)",
         "type": "scatter",
         "x": [],
         "y": []
        },
        {
         "mode": "lines",
         "name": "PL0 0 urban decentral water tanks discharger-2035 – 1H Res, 1-Zone (DE)",
         "type": "scatter",
         "x": [],
         "y": []
        },
        {
         "mode": "lines",
         "name": "AT0 0 urban central water pits discharger-2030 – 1H Res, 1-Zone (DE)",
         "type": "scatter",
         "x": [],
         "y": []
        },
        {
         "mode": "lines",
         "name": "BE0 0 urban central water pits discharger-2030 – 1H Res, 1-Zone (DE)",
         "type": "scatter",
         "x": [],
         "y": []
        },
        {
         "mode": "lines",
         "name": "CH0 0 urban central water pits discharger-2030 – 1H Res, 1-Zone (DE)",
         "type": "scatter",
         "x": [],
         "y": []
        },
        {
         "mode": "lines",
         "name": "CZ0 0 urban central water pits discharger-2030 – 1H Res, 1-Zone (DE)",
         "type": "scatter",
         "x": [],
         "y": []
        },
        {
         "mode": "lines",
         "name": "DE0 0 urban central water pits discharger-2030 – 1H Res, 1-Zone (DE)",
         "type": "scatter",
         "x": [],
         "y": []
        },
        {
         "mode": "lines",
         "name": "DK0 0 urban central water pits discharger-2030 – 1H Res, 1-Zone (DE)",
         "type": "scatter",
         "x": [],
         "y": []
        },
        {
         "mode": "lines",
         "name": "ES0 0 urban central water pits discharger-2030 – 1H Res, 1-Zone (DE)",
         "type": "scatter",
         "x": [],
         "y": []
        },
        {
         "mode": "lines",
         "name": "FR0 0 urban central water pits discharger-2030 – 1H Res, 1-Zone (DE)",
         "type": "scatter",
         "x": [],
         "y": []
        },
        {
         "mode": "lines",
         "name": "GB2 0 urban central water pits discharger-2030 – 1H Res, 1-Zone (DE)",
         "type": "scatter",
         "x": [],
         "y": []
        },
        {
         "mode": "lines",
         "name": "GB5 0 urban central water pits discharger-2030 – 1H Res, 1-Zone (DE)",
         "type": "scatter",
         "x": [],
         "y": []
        },
        {
         "mode": "lines",
         "name": "IT0 0 urban central water pits discharger-2030 – 1H Res, 1-Zone (DE)",
         "type": "scatter",
         "x": [],
         "y": []
        },
        {
         "mode": "lines",
         "name": "IT3 0 urban central water pits discharger-2030 – 1H Res, 1-Zone (DE)",
         "type": "scatter",
         "x": [],
         "y": []
        },
        {
         "mode": "lines",
         "name": "LU0 0 urban central water pits discharger-2030 – 1H Res, 1-Zone (DE)",
         "type": "scatter",
         "x": [],
         "y": []
        },
        {
         "mode": "lines",
         "name": "NL0 0 urban central water pits discharger-2030 – 1H Res, 1-Zone (DE)",
         "type": "scatter",
         "x": [],
         "y": []
        },
        {
         "mode": "lines",
         "name": "NO1 0 urban central water pits discharger-2030 – 1H Res, 1-Zone (DE)",
         "type": "scatter",
         "x": [],
         "y": []
        },
        {
         "mode": "lines",
         "name": "PL0 0 urban central water pits discharger-2030 – 1H Res, 1-Zone (DE)",
         "type": "scatter",
         "x": [],
         "y": []
        },
        {
         "mode": "lines",
         "name": "SE1 0 urban central water pits discharger-2030 – 1H Res, 1-Zone (DE)",
         "type": "scatter",
         "x": [],
         "y": []
        },
        {
         "mode": "lines",
         "name": "CZ0 0 rural water tanks discharger-2030 – 1H Res, 1-Zone (DE)",
         "type": "scatter",
         "x": [],
         "y": []
        },
        {
         "mode": "lines",
         "name": "DE0 0 rural water tanks discharger-2030 – 1H Res, 1-Zone (DE)",
         "type": "scatter",
         "x": [],
         "y": []
        },
        {
         "mode": "lines",
         "name": "DE0 0 urban decentral water tanks discharger-2030 – 1H Res, 1-Zone (DE)",
         "type": "scatter",
         "x": [],
         "y": []
        },
        {
         "mode": "lines",
         "name": "DK1 0 urban decentral water tanks discharger-2030 – 1H Res, 1-Zone (DE)",
         "type": "scatter",
         "x": [],
         "y": []
        },
        {
         "mode": "lines",
         "name": "GB2 0 rural water tanks discharger-2030 – 1H Res, 1-Zone (DE)",
         "type": "scatter",
         "x": [],
         "y": []
        },
        {
         "mode": "lines",
         "name": "GB2 0 urban decentral water tanks discharger-2030 – 1H Res, 1-Zone (DE)",
         "type": "scatter",
         "x": [],
         "y": []
        },
        {
         "mode": "lines",
         "name": "GB5 0 rural water tanks discharger-2030 – 1H Res, 1-Zone (DE)",
         "type": "scatter",
         "x": [],
         "y": []
        },
        {
         "mode": "lines",
         "name": "GB5 0 urban decentral water tanks discharger-2030 – 1H Res, 1-Zone (DE)",
         "type": "scatter",
         "x": [],
         "y": []
        },
        {
         "mode": "lines",
         "name": "NL0 0 urban decentral water tanks discharger-2030 – 1H Res, 1-Zone (DE)",
         "type": "scatter",
         "x": [],
         "y": []
        },
        {
         "mode": "lines",
         "name": "AT0 0 urban central water pits discharger-2025 – 1H Res, 1-Zone (DE)",
         "type": "scatter",
         "x": [],
         "y": []
        },
        {
         "mode": "lines",
         "name": "BE0 0 urban central water pits discharger-2025 – 1H Res, 1-Zone (DE)",
         "type": "scatter",
         "x": [],
         "y": []
        },
        {
         "mode": "lines",
         "name": "CH0 0 urban central water pits discharger-2025 – 1H Res, 1-Zone (DE)",
         "type": "scatter",
         "x": [],
         "y": []
        },
        {
         "mode": "lines",
         "name": "CZ0 0 urban central water pits discharger-2025 – 1H Res, 1-Zone (DE)",
         "type": "scatter",
         "x": [],
         "y": []
        },
        {
         "mode": "lines",
         "name": "DE0 0 urban central water pits discharger-2025 – 1H Res, 1-Zone (DE)",
         "type": "scatter",
         "x": [],
         "y": []
        },
        {
         "mode": "lines",
         "name": "DK0 0 urban central water pits discharger-2025 – 1H Res, 1-Zone (DE)",
         "type": "scatter",
         "x": [],
         "y": []
        },
        {
         "mode": "lines",
         "name": "DK1 0 urban central water pits discharger-2025 – 1H Res, 1-Zone (DE)",
         "type": "scatter",
         "x": [],
         "y": []
        },
        {
         "mode": "lines",
         "name": "ES0 0 urban central water pits discharger-2025 – 1H Res, 1-Zone (DE)",
         "type": "scatter",
         "x": [],
         "y": []
        },
        {
         "mode": "lines",
         "name": "FR0 0 urban central water pits discharger-2025 – 1H Res, 1-Zone (DE)",
         "type": "scatter",
         "x": [],
         "y": []
        },
        {
         "mode": "lines",
         "name": "GB2 0 urban central water pits discharger-2025 – 1H Res, 1-Zone (DE)",
         "type": "scatter",
         "x": [],
         "y": []
        },
        {
         "mode": "lines",
         "name": "GB5 0 urban central water pits discharger-2025 – 1H Res, 1-Zone (DE)",
         "type": "scatter",
         "x": [],
         "y": []
        },
        {
         "mode": "lines",
         "name": "IT0 0 urban central water pits discharger-2025 – 1H Res, 1-Zone (DE)",
         "type": "scatter",
         "x": [],
         "y": []
        },
        {
         "mode": "lines",
         "name": "IT3 0 urban central water pits discharger-2025 – 1H Res, 1-Zone (DE)",
         "type": "scatter",
         "x": [],
         "y": []
        },
        {
         "mode": "lines",
         "name": "LU0 0 urban central water pits discharger-2025 – 1H Res, 1-Zone (DE)",
         "type": "scatter",
         "x": [],
         "y": []
        },
        {
         "mode": "lines",
         "name": "NL0 0 urban central water pits discharger-2025 – 1H Res, 1-Zone (DE)",
         "type": "scatter",
         "x": [],
         "y": []
        },
        {
         "mode": "lines",
         "name": "NO1 0 urban central water pits discharger-2025 – 1H Res, 1-Zone (DE)",
         "type": "scatter",
         "x": [],
         "y": []
        },
        {
         "mode": "lines",
         "name": "SE1 0 urban central water pits discharger-2025 – 1H Res, 1-Zone (DE)",
         "type": "scatter",
         "x": [],
         "y": []
        },
        {
         "mode": "lines",
         "name": "AT0 0 rural water tanks discharger-2025 – 1H Res, 1-Zone (DE)",
         "type": "scatter",
         "x": [],
         "y": []
        },
        {
         "mode": "lines",
         "name": "AT0 0 urban decentral water tanks discharger-2025 – 1H Res, 1-Zone (DE)",
         "type": "scatter",
         "x": [],
         "y": []
        },
        {
         "mode": "lines",
         "name": "BE0 0 rural water tanks discharger-2025 – 1H Res, 1-Zone (DE)",
         "type": "scatter",
         "x": [],
         "y": []
        },
        {
         "mode": "lines",
         "name": "BE0 0 urban decentral water tanks discharger-2025 – 1H Res, 1-Zone (DE)",
         "type": "scatter",
         "x": [],
         "y": []
        },
        {
         "mode": "lines",
         "name": "CZ0 0 rural water tanks discharger-2025 – 1H Res, 1-Zone (DE)",
         "type": "scatter",
         "x": [],
         "y": []
        },
        {
         "mode": "lines",
         "name": "CZ0 0 urban decentral water tanks discharger-2025 – 1H Res, 1-Zone (DE)",
         "type": "scatter",
         "x": [],
         "y": []
        },
        {
         "mode": "lines",
         "name": "DE0 0 rural water tanks discharger-2025 – 1H Res, 1-Zone (DE)",
         "type": "scatter",
         "x": [],
         "y": []
        },
        {
         "mode": "lines",
         "name": "DE0 0 urban decentral water tanks discharger-2025 – 1H Res, 1-Zone (DE)",
         "type": "scatter",
         "x": [],
         "y": []
        },
        {
         "mode": "lines",
         "name": "DK1 0 urban decentral water tanks discharger-2025 – 1H Res, 1-Zone (DE)",
         "type": "scatter",
         "x": [],
         "y": []
        },
        {
         "mode": "lines",
         "name": "ES0 0 rural water tanks discharger-2025 – 1H Res, 1-Zone (DE)",
         "type": "scatter",
         "x": [],
         "y": []
        },
        {
         "mode": "lines",
         "name": "ES0 0 urban decentral water tanks discharger-2025 – 1H Res, 1-Zone (DE)",
         "type": "scatter",
         "x": [],
         "y": []
        },
        {
         "mode": "lines",
         "name": "FR0 0 rural water tanks discharger-2025 – 1H Res, 1-Zone (DE)",
         "type": "scatter",
         "x": [],
         "y": []
        },
        {
         "mode": "lines",
         "name": "FR0 0 urban decentral water tanks discharger-2025 – 1H Res, 1-Zone (DE)",
         "type": "scatter",
         "x": [],
         "y": []
        },
        {
         "mode": "lines",
         "name": "GB2 0 rural water tanks discharger-2025 – 1H Res, 1-Zone (DE)",
         "type": "scatter",
         "x": [],
         "y": []
        },
        {
         "mode": "lines",
         "name": "GB2 0 urban decentral water tanks discharger-2025 – 1H Res, 1-Zone (DE)",
         "type": "scatter",
         "x": [],
         "y": []
        },
        {
         "mode": "lines",
         "name": "GB5 0 rural water tanks discharger-2025 – 1H Res, 1-Zone (DE)",
         "type": "scatter",
         "x": [],
         "y": []
        },
        {
         "mode": "lines",
         "name": "IT0 0 rural water tanks discharger-2025 – 1H Res, 1-Zone (DE)",
         "type": "scatter",
         "x": [],
         "y": []
        },
        {
         "mode": "lines",
         "name": "IT0 0 urban decentral water tanks discharger-2025 – 1H Res, 1-Zone (DE)",
         "type": "scatter",
         "x": [],
         "y": []
        },
        {
         "mode": "lines",
         "name": "IT3 0 rural water tanks discharger-2025 – 1H Res, 1-Zone (DE)",
         "type": "scatter",
         "x": [],
         "y": []
        },
        {
         "mode": "lines",
         "name": "IT3 0 urban decentral water tanks discharger-2025 – 1H Res, 1-Zone (DE)",
         "type": "scatter",
         "x": [],
         "y": []
        },
        {
         "mode": "lines",
         "name": "NL0 0 rural water tanks discharger-2025 – 1H Res, 1-Zone (DE)",
         "type": "scatter",
         "x": [],
         "y": []
        },
        {
         "mode": "lines",
         "name": "NL0 0 urban decentral water tanks discharger-2025 – 1H Res, 1-Zone (DE)",
         "type": "scatter",
         "x": [],
         "y": []
        },
        {
         "mode": "lines",
         "name": "PL0 0 rural water tanks discharger-2025 – 1H Res, 1-Zone (DE)",
         "type": "scatter",
         "x": [],
         "y": []
        },
        {
         "mode": "lines",
         "name": "PL0 0 urban decentral water tanks discharger-2025 – 1H Res, 1-Zone (DE)",
         "type": "scatter",
         "x": [],
         "y": []
        },
        {
         "mode": "lines",
         "name": "SE1 0 rural water tanks discharger-2025 – 1H Res, 1-Zone (DE)",
         "type": "scatter",
         "x": [],
         "y": []
        },
        {
         "mode": "lines",
         "name": "AT0 0 rural water tanks discharger-2020 – 1H Res, 1-Zone (DE)",
         "type": "scatter",
         "x": [],
         "y": []
        },
        {
         "mode": "lines",
         "name": "AT0 0 urban decentral water tanks discharger-2020 – 1H Res, 1-Zone (DE)",
         "type": "scatter",
         "x": [],
         "y": []
        },
        {
         "mode": "lines",
         "name": "BE0 0 rural water tanks discharger-2020 – 1H Res, 1-Zone (DE)",
         "type": "scatter",
         "x": [],
         "y": []
        },
        {
         "mode": "lines",
         "name": "BE0 0 urban decentral water tanks discharger-2020 – 1H Res, 1-Zone (DE)",
         "type": "scatter",
         "x": [],
         "y": []
        },
        {
         "mode": "lines",
         "name": "CH0 0 rural water tanks discharger-2020 – 1H Res, 1-Zone (DE)",
         "type": "scatter",
         "x": [],
         "y": []
        },
        {
         "mode": "lines",
         "name": "CH0 0 urban decentral water tanks discharger-2020 – 1H Res, 1-Zone (DE)",
         "type": "scatter",
         "x": [],
         "y": []
        },
        {
         "mode": "lines",
         "name": "CZ0 0 rural water tanks discharger-2020 – 1H Res, 1-Zone (DE)",
         "type": "scatter",
         "x": [],
         "y": []
        },
        {
         "mode": "lines",
         "name": "CZ0 0 urban decentral water tanks discharger-2020 – 1H Res, 1-Zone (DE)",
         "type": "scatter",
         "x": [],
         "y": []
        },
        {
         "mode": "lines",
         "name": "DE0 0 rural water tanks discharger-2020 – 1H Res, 1-Zone (DE)",
         "type": "scatter",
         "x": [],
         "y": []
        },
        {
         "mode": "lines",
         "name": "DK0 0 rural water tanks discharger-2020 – 1H Res, 1-Zone (DE)",
         "type": "scatter",
         "x": [],
         "y": []
        },
        {
         "mode": "lines",
         "name": "DK0 0 urban decentral water tanks discharger-2020 – 1H Res, 1-Zone (DE)",
         "type": "scatter",
         "x": [],
         "y": []
        },
        {
         "mode": "lines",
         "name": "DK1 0 rural water tanks discharger-2020 – 1H Res, 1-Zone (DE)",
         "type": "scatter",
         "x": [],
         "y": []
        },
        {
         "mode": "lines",
         "name": "DK1 0 urban decentral water tanks discharger-2020 – 1H Res, 1-Zone (DE)",
         "type": "scatter",
         "x": [],
         "y": []
        },
        {
         "mode": "lines",
         "name": "ES0 0 rural water tanks discharger-2020 – 1H Res, 1-Zone (DE)",
         "type": "scatter",
         "x": [],
         "y": []
        },
        {
         "mode": "lines",
         "name": "ES0 0 urban decentral water tanks discharger-2020 – 1H Res, 1-Zone (DE)",
         "type": "scatter",
         "x": [],
         "y": []
        },
        {
         "mode": "lines",
         "name": "ES6 0 rural water tanks discharger-2020 – 1H Res, 1-Zone (DE)",
         "type": "scatter",
         "x": [],
         "y": []
        },
        {
         "mode": "lines",
         "name": "ES6 0 urban decentral water tanks discharger-2020 – 1H Res, 1-Zone (DE)",
         "type": "scatter",
         "x": [],
         "y": []
        },
        {
         "mode": "lines",
         "name": "FR0 0 rural water tanks discharger-2020 – 1H Res, 1-Zone (DE)",
         "type": "scatter",
         "x": [],
         "y": []
        },
        {
         "mode": "lines",
         "name": "FR0 0 urban decentral water tanks discharger-2020 – 1H Res, 1-Zone (DE)",
         "type": "scatter",
         "x": [],
         "y": []
        },
        {
         "mode": "lines",
         "name": "FR4 0 rural water tanks discharger-2020 – 1H Res, 1-Zone (DE)",
         "type": "scatter",
         "x": [],
         "y": []
        },
        {
         "mode": "lines",
         "name": "GB2 0 rural water tanks discharger-2020 – 1H Res, 1-Zone (DE)",
         "type": "scatter",
         "x": [],
         "y": []
        },
        {
         "mode": "lines",
         "name": "GB2 0 urban decentral water tanks discharger-2020 – 1H Res, 1-Zone (DE)",
         "type": "scatter",
         "x": [],
         "y": []
        },
        {
         "mode": "lines",
         "name": "GB5 0 rural water tanks discharger-2020 – 1H Res, 1-Zone (DE)",
         "type": "scatter",
         "x": [],
         "y": []
        },
        {
         "mode": "lines",
         "name": "GB5 0 urban decentral water tanks discharger-2020 – 1H Res, 1-Zone (DE)",
         "type": "scatter",
         "x": [],
         "y": []
        },
        {
         "mode": "lines",
         "name": "IT0 0 rural water tanks discharger-2020 – 1H Res, 1-Zone (DE)",
         "type": "scatter",
         "x": [],
         "y": []
        },
        {
         "mode": "lines",
         "name": "IT0 0 urban decentral water tanks discharger-2020 – 1H Res, 1-Zone (DE)",
         "type": "scatter",
         "x": [],
         "y": []
        },
        {
         "mode": "lines",
         "name": "IT3 0 rural water tanks discharger-2020 – 1H Res, 1-Zone (DE)",
         "type": "scatter",
         "x": [],
         "y": []
        },
        {
         "mode": "lines",
         "name": "IT3 0 urban decentral water tanks discharger-2020 – 1H Res, 1-Zone (DE)",
         "type": "scatter",
         "x": [],
         "y": []
        },
        {
         "mode": "lines",
         "name": "LU0 0 rural water tanks discharger-2020 – 1H Res, 1-Zone (DE)",
         "type": "scatter",
         "x": [],
         "y": []
        },
        {
         "mode": "lines",
         "name": "LU0 0 urban decentral water tanks discharger-2020 – 1H Res, 1-Zone (DE)",
         "type": "scatter",
         "x": [],
         "y": []
        },
        {
         "mode": "lines",
         "name": "NL0 0 rural water tanks discharger-2020 – 1H Res, 1-Zone (DE)",
         "type": "scatter",
         "x": [],
         "y": []
        },
        {
         "mode": "lines",
         "name": "NO1 0 rural water tanks discharger-2020 – 1H Res, 1-Zone (DE)",
         "type": "scatter",
         "x": [],
         "y": []
        },
        {
         "mode": "lines",
         "name": "NO1 0 urban decentral water tanks discharger-2020 – 1H Res, 1-Zone (DE)",
         "type": "scatter",
         "x": [],
         "y": []
        },
        {
         "mode": "lines",
         "name": "PL0 0 rural water tanks discharger-2020 – 1H Res, 1-Zone (DE)",
         "type": "scatter",
         "x": [],
         "y": []
        },
        {
         "mode": "lines",
         "name": "PL0 0 urban decentral water tanks discharger-2020 – 1H Res, 1-Zone (DE)",
         "type": "scatter",
         "x": [],
         "y": []
        },
        {
         "mode": "lines",
         "name": "SE1 0 urban decentral water tanks discharger-2020 – 1H Res, 1-Zone (DE)",
         "type": "scatter",
         "x": [],
         "y": []
        }
       ],
       "layout": {
        "hovermode": "x unified",
        "legend": {
         "title": {
          "text": "Szenario & Link"
         }
        },
        "template": {
         "data": {
          "bar": [
           {
            "error_x": {
             "color": "#2a3f5f"
            },
            "error_y": {
             "color": "#2a3f5f"
            },
            "marker": {
             "line": {
              "color": "#E5ECF6",
              "width": 0.5
             },
             "pattern": {
              "fillmode": "overlay",
              "size": 10,
              "solidity": 0.2
             }
            },
            "type": "bar"
           }
          ],
          "barpolar": [
           {
            "marker": {
             "line": {
              "color": "#E5ECF6",
              "width": 0.5
             },
             "pattern": {
              "fillmode": "overlay",
              "size": 10,
              "solidity": 0.2
             }
            },
            "type": "barpolar"
           }
          ],
          "carpet": [
           {
            "aaxis": {
             "endlinecolor": "#2a3f5f",
             "gridcolor": "white",
             "linecolor": "white",
             "minorgridcolor": "white",
             "startlinecolor": "#2a3f5f"
            },
            "baxis": {
             "endlinecolor": "#2a3f5f",
             "gridcolor": "white",
             "linecolor": "white",
             "minorgridcolor": "white",
             "startlinecolor": "#2a3f5f"
            },
            "type": "carpet"
           }
          ],
          "choropleth": [
           {
            "colorbar": {
             "outlinewidth": 0,
             "ticks": ""
            },
            "type": "choropleth"
           }
          ],
          "contour": [
           {
            "colorbar": {
             "outlinewidth": 0,
             "ticks": ""
            },
            "colorscale": [
             [
              0,
              "#0d0887"
             ],
             [
              0.1111111111111111,
              "#46039f"
             ],
             [
              0.2222222222222222,
              "#7201a8"
             ],
             [
              0.3333333333333333,
              "#9c179e"
             ],
             [
              0.4444444444444444,
              "#bd3786"
             ],
             [
              0.5555555555555556,
              "#d8576b"
             ],
             [
              0.6666666666666666,
              "#ed7953"
             ],
             [
              0.7777777777777778,
              "#fb9f3a"
             ],
             [
              0.8888888888888888,
              "#fdca26"
             ],
             [
              1,
              "#f0f921"
             ]
            ],
            "type": "contour"
           }
          ],
          "contourcarpet": [
           {
            "colorbar": {
             "outlinewidth": 0,
             "ticks": ""
            },
            "type": "contourcarpet"
           }
          ],
          "heatmap": [
           {
            "colorbar": {
             "outlinewidth": 0,
             "ticks": ""
            },
            "colorscale": [
             [
              0,
              "#0d0887"
             ],
             [
              0.1111111111111111,
              "#46039f"
             ],
             [
              0.2222222222222222,
              "#7201a8"
             ],
             [
              0.3333333333333333,
              "#9c179e"
             ],
             [
              0.4444444444444444,
              "#bd3786"
             ],
             [
              0.5555555555555556,
              "#d8576b"
             ],
             [
              0.6666666666666666,
              "#ed7953"
             ],
             [
              0.7777777777777778,
              "#fb9f3a"
             ],
             [
              0.8888888888888888,
              "#fdca26"
             ],
             [
              1,
              "#f0f921"
             ]
            ],
            "type": "heatmap"
           }
          ],
          "histogram": [
           {
            "marker": {
             "pattern": {
              "fillmode": "overlay",
              "size": 10,
              "solidity": 0.2
             }
            },
            "type": "histogram"
           }
          ],
          "histogram2d": [
           {
            "colorbar": {
             "outlinewidth": 0,
             "ticks": ""
            },
            "colorscale": [
             [
              0,
              "#0d0887"
             ],
             [
              0.1111111111111111,
              "#46039f"
             ],
             [
              0.2222222222222222,
              "#7201a8"
             ],
             [
              0.3333333333333333,
              "#9c179e"
             ],
             [
              0.4444444444444444,
              "#bd3786"
             ],
             [
              0.5555555555555556,
              "#d8576b"
             ],
             [
              0.6666666666666666,
              "#ed7953"
             ],
             [
              0.7777777777777778,
              "#fb9f3a"
             ],
             [
              0.8888888888888888,
              "#fdca26"
             ],
             [
              1,
              "#f0f921"
             ]
            ],
            "type": "histogram2d"
           }
          ],
          "histogram2dcontour": [
           {
            "colorbar": {
             "outlinewidth": 0,
             "ticks": ""
            },
            "colorscale": [
             [
              0,
              "#0d0887"
             ],
             [
              0.1111111111111111,
              "#46039f"
             ],
             [
              0.2222222222222222,
              "#7201a8"
             ],
             [
              0.3333333333333333,
              "#9c179e"
             ],
             [
              0.4444444444444444,
              "#bd3786"
             ],
             [
              0.5555555555555556,
              "#d8576b"
             ],
             [
              0.6666666666666666,
              "#ed7953"
             ],
             [
              0.7777777777777778,
              "#fb9f3a"
             ],
             [
              0.8888888888888888,
              "#fdca26"
             ],
             [
              1,
              "#f0f921"
             ]
            ],
            "type": "histogram2dcontour"
           }
          ],
          "mesh3d": [
           {
            "colorbar": {
             "outlinewidth": 0,
             "ticks": ""
            },
            "type": "mesh3d"
           }
          ],
          "parcoords": [
           {
            "line": {
             "colorbar": {
              "outlinewidth": 0,
              "ticks": ""
             }
            },
            "type": "parcoords"
           }
          ],
          "pie": [
           {
            "automargin": true,
            "type": "pie"
           }
          ],
          "scatter": [
           {
            "fillpattern": {
             "fillmode": "overlay",
             "size": 10,
             "solidity": 0.2
            },
            "type": "scatter"
           }
          ],
          "scatter3d": [
           {
            "line": {
             "colorbar": {
              "outlinewidth": 0,
              "ticks": ""
             }
            },
            "marker": {
             "colorbar": {
              "outlinewidth": 0,
              "ticks": ""
             }
            },
            "type": "scatter3d"
           }
          ],
          "scattercarpet": [
           {
            "marker": {
             "colorbar": {
              "outlinewidth": 0,
              "ticks": ""
             }
            },
            "type": "scattercarpet"
           }
          ],
          "scattergeo": [
           {
            "marker": {
             "colorbar": {
              "outlinewidth": 0,
              "ticks": ""
             }
            },
            "type": "scattergeo"
           }
          ],
          "scattergl": [
           {
            "marker": {
             "colorbar": {
              "outlinewidth": 0,
              "ticks": ""
             }
            },
            "type": "scattergl"
           }
          ],
          "scattermap": [
           {
            "marker": {
             "colorbar": {
              "outlinewidth": 0,
              "ticks": ""
             }
            },
            "type": "scattermap"
           }
          ],
          "scattermapbox": [
           {
            "marker": {
             "colorbar": {
              "outlinewidth": 0,
              "ticks": ""
             }
            },
            "type": "scattermapbox"
           }
          ],
          "scatterpolar": [
           {
            "marker": {
             "colorbar": {
              "outlinewidth": 0,
              "ticks": ""
             }
            },
            "type": "scatterpolar"
           }
          ],
          "scatterpolargl": [
           {
            "marker": {
             "colorbar": {
              "outlinewidth": 0,
              "ticks": ""
             }
            },
            "type": "scatterpolargl"
           }
          ],
          "scatterternary": [
           {
            "marker": {
             "colorbar": {
              "outlinewidth": 0,
              "ticks": ""
             }
            },
            "type": "scatterternary"
           }
          ],
          "surface": [
           {
            "colorbar": {
             "outlinewidth": 0,
             "ticks": ""
            },
            "colorscale": [
             [
              0,
              "#0d0887"
             ],
             [
              0.1111111111111111,
              "#46039f"
             ],
             [
              0.2222222222222222,
              "#7201a8"
             ],
             [
              0.3333333333333333,
              "#9c179e"
             ],
             [
              0.4444444444444444,
              "#bd3786"
             ],
             [
              0.5555555555555556,
              "#d8576b"
             ],
             [
              0.6666666666666666,
              "#ed7953"
             ],
             [
              0.7777777777777778,
              "#fb9f3a"
             ],
             [
              0.8888888888888888,
              "#fdca26"
             ],
             [
              1,
              "#f0f921"
             ]
            ],
            "type": "surface"
           }
          ],
          "table": [
           {
            "cells": {
             "fill": {
              "color": "#EBF0F8"
             },
             "line": {
              "color": "white"
             }
            },
            "header": {
             "fill": {
              "color": "#C8D4E3"
             },
             "line": {
              "color": "white"
             }
            },
            "type": "table"
           }
          ]
         },
         "layout": {
          "annotationdefaults": {
           "arrowcolor": "#2a3f5f",
           "arrowhead": 0,
           "arrowwidth": 1
          },
          "autotypenumbers": "strict",
          "coloraxis": {
           "colorbar": {
            "outlinewidth": 0,
            "ticks": ""
           }
          },
          "colorscale": {
           "diverging": [
            [
             0,
             "#8e0152"
            ],
            [
             0.1,
             "#c51b7d"
            ],
            [
             0.2,
             "#de77ae"
            ],
            [
             0.3,
             "#f1b6da"
            ],
            [
             0.4,
             "#fde0ef"
            ],
            [
             0.5,
             "#f7f7f7"
            ],
            [
             0.6,
             "#e6f5d0"
            ],
            [
             0.7,
             "#b8e186"
            ],
            [
             0.8,
             "#7fbc41"
            ],
            [
             0.9,
             "#4d9221"
            ],
            [
             1,
             "#276419"
            ]
           ],
           "sequential": [
            [
             0,
             "#0d0887"
            ],
            [
             0.1111111111111111,
             "#46039f"
            ],
            [
             0.2222222222222222,
             "#7201a8"
            ],
            [
             0.3333333333333333,
             "#9c179e"
            ],
            [
             0.4444444444444444,
             "#bd3786"
            ],
            [
             0.5555555555555556,
             "#d8576b"
            ],
            [
             0.6666666666666666,
             "#ed7953"
            ],
            [
             0.7777777777777778,
             "#fb9f3a"
            ],
            [
             0.8888888888888888,
             "#fdca26"
            ],
            [
             1,
             "#f0f921"
            ]
           ],
           "sequentialminus": [
            [
             0,
             "#0d0887"
            ],
            [
             0.1111111111111111,
             "#46039f"
            ],
            [
             0.2222222222222222,
             "#7201a8"
            ],
            [
             0.3333333333333333,
             "#9c179e"
            ],
            [
             0.4444444444444444,
             "#bd3786"
            ],
            [
             0.5555555555555556,
             "#d8576b"
            ],
            [
             0.6666666666666666,
             "#ed7953"
            ],
            [
             0.7777777777777778,
             "#fb9f3a"
            ],
            [
             0.8888888888888888,
             "#fdca26"
            ],
            [
             1,
             "#f0f921"
            ]
           ]
          },
          "colorway": [
           "#636efa",
           "#EF553B",
           "#00cc96",
           "#ab63fa",
           "#FFA15A",
           "#19d3f3",
           "#FF6692",
           "#B6E880",
           "#FF97FF",
           "#FECB52"
          ],
          "font": {
           "color": "#2a3f5f"
          },
          "geo": {
           "bgcolor": "white",
           "lakecolor": "white",
           "landcolor": "#E5ECF6",
           "showlakes": true,
           "showland": true,
           "subunitcolor": "white"
          },
          "hoverlabel": {
           "align": "left"
          },
          "hovermode": "closest",
          "mapbox": {
           "style": "light"
          },
          "paper_bgcolor": "white",
          "plot_bgcolor": "#E5ECF6",
          "polar": {
           "angularaxis": {
            "gridcolor": "white",
            "linecolor": "white",
            "ticks": ""
           },
           "bgcolor": "#E5ECF6",
           "radialaxis": {
            "gridcolor": "white",
            "linecolor": "white",
            "ticks": ""
           }
          },
          "scene": {
           "xaxis": {
            "backgroundcolor": "#E5ECF6",
            "gridcolor": "white",
            "gridwidth": 2,
            "linecolor": "white",
            "showbackground": true,
            "ticks": "",
            "zerolinecolor": "white"
           },
           "yaxis": {
            "backgroundcolor": "#E5ECF6",
            "gridcolor": "white",
            "gridwidth": 2,
            "linecolor": "white",
            "showbackground": true,
            "ticks": "",
            "zerolinecolor": "white"
           },
           "zaxis": {
            "backgroundcolor": "#E5ECF6",
            "gridcolor": "white",
            "gridwidth": 2,
            "linecolor": "white",
            "showbackground": true,
            "ticks": "",
            "zerolinecolor": "white"
           }
          },
          "shapedefaults": {
           "line": {
            "color": "#2a3f5f"
           }
          },
          "ternary": {
           "aaxis": {
            "gridcolor": "white",
            "linecolor": "white",
            "ticks": ""
           },
           "baxis": {
            "gridcolor": "white",
            "linecolor": "white",
            "ticks": ""
           },
           "bgcolor": "#E5ECF6",
           "caxis": {
            "gridcolor": "white",
            "linecolor": "white",
            "ticks": ""
           }
          },
          "title": {
           "x": 0.05
          },
          "xaxis": {
           "automargin": true,
           "gridcolor": "white",
           "linecolor": "white",
           "ticks": "",
           "title": {
            "standoff": 15
           },
           "zerolinecolor": "white",
           "zerolinewidth": 2
          },
          "yaxis": {
           "automargin": true,
           "gridcolor": "white",
           "linecolor": "white",
           "ticks": "",
           "title": {
            "standoff": 15
           },
           "zerolinecolor": "white",
           "zerolinewidth": 2
          }
         }
        },
        "title": {
         "text": "Stündliche Entladungen der Batterie-Discharger im Januar 2045"
        },
        "xaxis": {
         "title": {
          "text": "Zeit"
         }
        },
        "yaxis": {
         "title": {
          "text": "Entladungsleistung (MW)"
         }
        }
       }
      }
     },
     "metadata": {},
     "output_type": "display_data"
    }
   ],
   "source": [
    "import xarray as xr\n",
    "import pandas as pd\n",
    "import plotly.graph_objects as go\n",
    "from pathlib import Path\n",
    "\n",
    "# Szenarien und Labels\n",
    "scenarios = {\n",
    "    'KN2045_Mix_3H_DE_1ZONE': '1-Zone (DE)',\n",
    "    'KN2045_Mix_1H_DE_1ZONE': '1H Res, 1-Zone (DE)'\n",
    "}\n",
    "\n",
    "# Analyse-Jahr (z.B. 2045) und Monate\n",
    "analysis_year = '2045'\n",
    "months = {\n",
    "    f'{analysis_year}-08': 'August',\n",
    "    f'{analysis_year}-01': 'Januar'\n",
    "}\n",
    "\n",
    "# Durch alle Szenarien iterieren\n",
    "for month_key, month_label in months.items():\n",
    "    fig = go.Figure()\n",
    "    for scenario_id, scenario_label in scenarios.items():\n",
    "        net_folder = Path('results') / scenario_id / 'networks'\n",
    "        # Nur NetCDF-Dateien für das Analyse-Jahr auswählen\n",
    "        nc_files = sorted(net_folder.glob(f'*{analysis_year}*.nc'))\n",
    "        if not nc_files:\n",
    "            print(f\"Keine Dateien für Jahr {analysis_year} in Szenario {scenario_id}\")\n",
    "            continue\n",
    "\n",
    "        nc_file = nc_files[0]  # Ein Datei pro Szenario\n",
    "        try:\n",
    "            ds = xr.open_dataset(nc_file)\n",
    "        except Exception as e:\n",
    "            print(f\"Fehler beim Laden {nc_file.name}: {e}\")\n",
    "            continue\n",
    "\n",
    "        # Zeitstempel\n",
    "        if 'snapshots' in ds.coords:\n",
    "            times = pd.DatetimeIndex(ds['snapshots'].values)\n",
    "        else:\n",
    "            coord0 = list(ds.coords)[0]\n",
    "            times = pd.DatetimeIndex(ds.coords[coord0].values)\n",
    "        mask = times.strftime('%Y-%m') == month_key\n",
    "\n",
    "        # Link-Dispatch Variable bestimmen\n",
    "        if 'links_t_p0' in ds.data_vars:\n",
    "            dispatch = ds['links_t_p0']\n",
    "        elif 'links_t_p1' in ds.data_vars:\n",
    "            dispatch = ds['links_t_p1']\n",
    "        else:\n",
    "            print(f\"Keine Link-Dispatch-Variable in {nc_file.name}\")\n",
    "            continue\n",
    "\n",
    "        # Link-Dimension finden\n",
    "        link_dim = next((d for d in dispatch.dims if 'link' in d), None)\n",
    "        if link_dim is None:\n",
    "            print(f\"Keine Link-Dimension in {nc_file.name}\")\n",
    "            continue\n",
    "\n",
    "        # Discharger-Links filtern\n",
    "        available_links = list(dispatch.coords[link_dim].values)\n",
    "        dischargers = [l for l in available_links if 'discharger' in str(l).lower()]\n",
    "        if not dischargers:\n",
    "            print(f\"Keine Discharger-Links in {nc_file.name}\")\n",
    "            continue\n",
    "\n",
    "        # Für jeden Discharger die Entladungen plotten\n",
    "        for link_id in dischargers:\n",
    "            data = dispatch.sel({link_dim: link_id}).values\n",
    "            # Entladung: negative Fluss ⇒ positiv darstellen\n",
    "            discharge = pd.Series(-data, index=times).clip(lower=0)\n",
    "            discharge_month = discharge[mask]\n",
    "            fig.add_trace(\n",
    "                go.Scatter(\n",
    "                    x=discharge_month.index,\n",
    "                    y=discharge_month.values,\n",
    "                    mode='lines',\n",
    "                    name=f\"{link_id} – {scenario_label}\"\n",
    "                )\n",
    "            )\n",
    "\n",
    "    fig.update_layout(\n",
    "        title=f\"Stündliche Entladungen der Batterie-Discharger im {month_label} {analysis_year}\",\n",
    "        xaxis_title=\"Zeit\",\n",
    "        yaxis_title=\"Entladungsleistung (MW)\",\n",
    "        legend_title=\"Szenario & Link\",\n",
    "        hovermode='x unified'\n",
    "    )\n",
    "    fig.show()\n"
   ]
  },
  {
   "cell_type": "code",
   "execution_count": 37,
   "id": "a0426924",
   "metadata": {},
   "outputs": [
    {
     "name": "stdout",
     "output_type": "stream",
     "text": [
      "Lade base_s_20_RedSpa_none_2045.nc für Szenario 1-Zone (DE)\n",
      "Lade base_s_20_hourly_none_2045.nc für Szenario 1H Res, 1-Zone (DE)\n"
     ]
    },
    {
     "data": {
      "application/vnd.plotly.v1+json": {
       "config": {
        "plotlyServerURL": "https://plot.ly"
       },
       "data": [
        {
         "mode": "lines",
         "name": "1-Zone (DE) – AT0 0 battery discharger-2045",
         "type": "scatter",
         "x": [],
         "y": []
        },
        {
         "mode": "lines",
         "name": "1-Zone (DE) – BE0 0 battery discharger-2045",
         "type": "scatter",
         "x": [],
         "y": []
        },
        {
         "mode": "lines",
         "name": "1-Zone (DE) – CH0 0 battery discharger-2045",
         "type": "scatter",
         "x": [],
         "y": []
        },
        {
         "mode": "lines",
         "name": "1-Zone (DE) – CZ0 0 battery discharger-2045",
         "type": "scatter",
         "x": [],
         "y": []
        },
        {
         "mode": "lines",
         "name": "1-Zone (DE) – DE0 0 battery discharger-2045",
         "type": "scatter",
         "x": [],
         "y": []
        },
        {
         "mode": "lines",
         "name": "1-Zone (DE) – DK0 0 battery discharger-2045",
         "type": "scatter",
         "x": [],
         "y": []
        },
        {
         "mode": "lines",
         "name": "1-Zone (DE) – DK1 0 battery discharger-2045",
         "type": "scatter",
         "x": [],
         "y": []
        },
        {
         "mode": "lines",
         "name": "1-Zone (DE) – ES0 0 battery discharger-2045",
         "type": "scatter",
         "x": [],
         "y": []
        },
        {
         "mode": "lines",
         "name": "1-Zone (DE) – ES6 0 battery discharger-2045",
         "type": "scatter",
         "x": [],
         "y": []
        },
        {
         "mode": "lines",
         "name": "1-Zone (DE) – FR0 0 battery discharger-2045",
         "type": "scatter",
         "x": [],
         "y": []
        },
        {
         "mode": "lines",
         "name": "1-Zone (DE) – FR4 0 battery discharger-2045",
         "type": "scatter",
         "x": [],
         "y": []
        },
        {
         "mode": "lines",
         "name": "1-Zone (DE) – GB2 0 battery discharger-2045",
         "type": "scatter",
         "x": [],
         "y": []
        },
        {
         "mode": "lines",
         "name": "1-Zone (DE) – GB5 0 battery discharger-2045",
         "type": "scatter",
         "x": [],
         "y": []
        },
        {
         "mode": "lines",
         "name": "1-Zone (DE) – IT0 0 battery discharger-2045",
         "type": "scatter",
         "x": [],
         "y": []
        },
        {
         "mode": "lines",
         "name": "1-Zone (DE) – IT3 0 battery discharger-2045",
         "type": "scatter",
         "x": [],
         "y": []
        },
        {
         "mode": "lines",
         "name": "1-Zone (DE) – LU0 0 battery discharger-2045",
         "type": "scatter",
         "x": [],
         "y": []
        },
        {
         "mode": "lines",
         "name": "1-Zone (DE) – NL0 0 battery discharger-2045",
         "type": "scatter",
         "x": [],
         "y": []
        },
        {
         "mode": "lines",
         "name": "1-Zone (DE) – NO1 0 battery discharger-2045",
         "type": "scatter",
         "x": [],
         "y": []
        },
        {
         "mode": "lines",
         "name": "1-Zone (DE) – PL0 0 battery discharger-2045",
         "type": "scatter",
         "x": [],
         "y": []
        },
        {
         "mode": "lines",
         "name": "1-Zone (DE) – SE1 0 battery discharger-2045",
         "type": "scatter",
         "x": [],
         "y": []
        },
        {
         "mode": "lines",
         "name": "1-Zone (DE) – AT0 0 urban central water tanks discharger-2045",
         "type": "scatter",
         "x": [],
         "y": []
        },
        {
         "mode": "lines",
         "name": "1-Zone (DE) – BE0 0 urban central water tanks discharger-2045",
         "type": "scatter",
         "x": [],
         "y": []
        },
        {
         "mode": "lines",
         "name": "1-Zone (DE) – CH0 0 urban central water tanks discharger-2045",
         "type": "scatter",
         "x": [],
         "y": []
        },
        {
         "mode": "lines",
         "name": "1-Zone (DE) – CZ0 0 urban central water tanks discharger-2045",
         "type": "scatter",
         "x": [],
         "y": []
        },
        {
         "mode": "lines",
         "name": "1-Zone (DE) – DE0 0 urban central water tanks discharger-2045",
         "type": "scatter",
         "x": [],
         "y": []
        },
        {
         "mode": "lines",
         "name": "1-Zone (DE) – DK0 0 urban central water tanks discharger-2045",
         "type": "scatter",
         "x": [],
         "y": []
        },
        {
         "mode": "lines",
         "name": "1-Zone (DE) – DK1 0 urban central water tanks discharger-2045",
         "type": "scatter",
         "x": [],
         "y": []
        },
        {
         "mode": "lines",
         "name": "1-Zone (DE) – ES0 0 urban central water tanks discharger-2045",
         "type": "scatter",
         "x": [],
         "y": []
        },
        {
         "mode": "lines",
         "name": "1-Zone (DE) – ES6 0 urban central water tanks discharger-2045",
         "type": "scatter",
         "x": [],
         "y": []
        },
        {
         "mode": "lines",
         "name": "1-Zone (DE) – FR0 0 urban central water tanks discharger-2045",
         "type": "scatter",
         "x": [],
         "y": []
        },
        {
         "mode": "lines",
         "name": "1-Zone (DE) – GB2 0 urban central water tanks discharger-2045",
         "type": "scatter",
         "x": [],
         "y": []
        },
        {
         "mode": "lines",
         "name": "1-Zone (DE) – GB5 0 urban central water tanks discharger-2045",
         "type": "scatter",
         "x": [],
         "y": []
        },
        {
         "mode": "lines",
         "name": "1-Zone (DE) – IT0 0 urban central water tanks discharger-2045",
         "type": "scatter",
         "x": [],
         "y": []
        },
        {
         "mode": "lines",
         "name": "1-Zone (DE) – IT3 0 urban central water tanks discharger-2045",
         "type": "scatter",
         "x": [],
         "y": []
        },
        {
         "mode": "lines",
         "name": "1-Zone (DE) – LU0 0 urban central water tanks discharger-2045",
         "type": "scatter",
         "x": [],
         "y": []
        },
        {
         "mode": "lines",
         "name": "1-Zone (DE) – NL0 0 urban central water tanks discharger-2045",
         "type": "scatter",
         "x": [],
         "y": []
        },
        {
         "mode": "lines",
         "name": "1-Zone (DE) – NO1 0 urban central water tanks discharger-2045",
         "type": "scatter",
         "x": [],
         "y": []
        },
        {
         "mode": "lines",
         "name": "1-Zone (DE) – PL0 0 urban central water tanks discharger-2045",
         "type": "scatter",
         "x": [],
         "y": []
        },
        {
         "mode": "lines",
         "name": "1-Zone (DE) – SE1 0 urban central water tanks discharger-2045",
         "type": "scatter",
         "x": [],
         "y": []
        },
        {
         "mode": "lines",
         "name": "1-Zone (DE) – AT0 0 urban central water pits discharger-2045",
         "type": "scatter",
         "x": [],
         "y": []
        },
        {
         "mode": "lines",
         "name": "1-Zone (DE) – BE0 0 urban central water pits discharger-2045",
         "type": "scatter",
         "x": [],
         "y": []
        },
        {
         "mode": "lines",
         "name": "1-Zone (DE) – CH0 0 urban central water pits discharger-2045",
         "type": "scatter",
         "x": [],
         "y": []
        },
        {
         "mode": "lines",
         "name": "1-Zone (DE) – CZ0 0 urban central water pits discharger-2045",
         "type": "scatter",
         "x": [],
         "y": []
        },
        {
         "mode": "lines",
         "name": "1-Zone (DE) – DE0 0 urban central water pits discharger-2045",
         "type": "scatter",
         "x": [],
         "y": []
        },
        {
         "mode": "lines",
         "name": "1-Zone (DE) – DK0 0 urban central water pits discharger-2045",
         "type": "scatter",
         "x": [],
         "y": []
        },
        {
         "mode": "lines",
         "name": "1-Zone (DE) – DK1 0 urban central water pits discharger-2045",
         "type": "scatter",
         "x": [],
         "y": []
        },
        {
         "mode": "lines",
         "name": "1-Zone (DE) – ES0 0 urban central water pits discharger-2045",
         "type": "scatter",
         "x": [],
         "y": []
        },
        {
         "mode": "lines",
         "name": "1-Zone (DE) – ES6 0 urban central water pits discharger-2045",
         "type": "scatter",
         "x": [],
         "y": []
        },
        {
         "mode": "lines",
         "name": "1-Zone (DE) – FR0 0 urban central water pits discharger-2045",
         "type": "scatter",
         "x": [],
         "y": []
        },
        {
         "mode": "lines",
         "name": "1-Zone (DE) – GB2 0 urban central water pits discharger-2045",
         "type": "scatter",
         "x": [],
         "y": []
        },
        {
         "mode": "lines",
         "name": "1-Zone (DE) – GB5 0 urban central water pits discharger-2045",
         "type": "scatter",
         "x": [],
         "y": []
        },
        {
         "mode": "lines",
         "name": "1-Zone (DE) – IT0 0 urban central water pits discharger-2045",
         "type": "scatter",
         "x": [],
         "y": []
        },
        {
         "mode": "lines",
         "name": "1-Zone (DE) – IT3 0 urban central water pits discharger-2045",
         "type": "scatter",
         "x": [],
         "y": []
        },
        {
         "mode": "lines",
         "name": "1-Zone (DE) – LU0 0 urban central water pits discharger-2045",
         "type": "scatter",
         "x": [],
         "y": []
        },
        {
         "mode": "lines",
         "name": "1-Zone (DE) – NL0 0 urban central water pits discharger-2045",
         "type": "scatter",
         "x": [],
         "y": []
        },
        {
         "mode": "lines",
         "name": "1-Zone (DE) – NO1 0 urban central water pits discharger-2045",
         "type": "scatter",
         "x": [],
         "y": []
        },
        {
         "mode": "lines",
         "name": "1-Zone (DE) – PL0 0 urban central water pits discharger-2045",
         "type": "scatter",
         "x": [],
         "y": []
        },
        {
         "mode": "lines",
         "name": "1-Zone (DE) – SE1 0 urban central water pits discharger-2045",
         "type": "scatter",
         "x": [],
         "y": []
        },
        {
         "mode": "lines",
         "name": "1-Zone (DE) – AT0 0 home battery discharger-2045",
         "type": "scatter",
         "x": [],
         "y": []
        },
        {
         "mode": "lines",
         "name": "1-Zone (DE) – BE0 0 home battery discharger-2045",
         "type": "scatter",
         "x": [],
         "y": []
        },
        {
         "mode": "lines",
         "name": "1-Zone (DE) – CH0 0 home battery discharger-2045",
         "type": "scatter",
         "x": [],
         "y": []
        },
        {
         "mode": "lines",
         "name": "1-Zone (DE) – CZ0 0 home battery discharger-2045",
         "type": "scatter",
         "x": [],
         "y": []
        },
        {
         "mode": "lines",
         "name": "1-Zone (DE) – DE0 0 home battery discharger-2045",
         "type": "scatter",
         "x": [],
         "y": []
        },
        {
         "mode": "lines",
         "name": "1-Zone (DE) – DK0 0 home battery discharger-2045",
         "type": "scatter",
         "x": [],
         "y": []
        },
        {
         "mode": "lines",
         "name": "1-Zone (DE) – DK1 0 home battery discharger-2045",
         "type": "scatter",
         "x": [],
         "y": []
        },
        {
         "mode": "lines",
         "name": "1-Zone (DE) – ES0 0 home battery discharger-2045",
         "type": "scatter",
         "x": [],
         "y": []
        },
        {
         "mode": "lines",
         "name": "1-Zone (DE) – ES6 0 home battery discharger-2045",
         "type": "scatter",
         "x": [],
         "y": []
        },
        {
         "mode": "lines",
         "name": "1-Zone (DE) – FR0 0 home battery discharger-2045",
         "type": "scatter",
         "x": [],
         "y": []
        },
        {
         "mode": "lines",
         "name": "1-Zone (DE) – FR4 0 home battery discharger-2045",
         "type": "scatter",
         "x": [],
         "y": []
        },
        {
         "mode": "lines",
         "name": "1-Zone (DE) – GB2 0 home battery discharger-2045",
         "type": "scatter",
         "x": [],
         "y": []
        },
        {
         "mode": "lines",
         "name": "1-Zone (DE) – GB5 0 home battery discharger-2045",
         "type": "scatter",
         "x": [],
         "y": []
        },
        {
         "mode": "lines",
         "name": "1-Zone (DE) – IT0 0 home battery discharger-2045",
         "type": "scatter",
         "x": [],
         "y": []
        },
        {
         "mode": "lines",
         "name": "1-Zone (DE) – IT3 0 home battery discharger-2045",
         "type": "scatter",
         "x": [],
         "y": []
        },
        {
         "mode": "lines",
         "name": "1-Zone (DE) – LU0 0 home battery discharger-2045",
         "type": "scatter",
         "x": [],
         "y": []
        },
        {
         "mode": "lines",
         "name": "1-Zone (DE) – NL0 0 home battery discharger-2045",
         "type": "scatter",
         "x": [],
         "y": []
        },
        {
         "mode": "lines",
         "name": "1-Zone (DE) – NO1 0 home battery discharger-2045",
         "type": "scatter",
         "x": [],
         "y": []
        },
        {
         "mode": "lines",
         "name": "1-Zone (DE) – PL0 0 home battery discharger-2045",
         "type": "scatter",
         "x": [],
         "y": []
        },
        {
         "mode": "lines",
         "name": "1-Zone (DE) – SE1 0 home battery discharger-2045",
         "type": "scatter",
         "x": [],
         "y": []
        },
        {
         "mode": "lines",
         "name": "1-Zone (DE) – AT0 0 rural water tanks discharger-2045",
         "type": "scatter",
         "x": [],
         "y": []
        },
        {
         "mode": "lines",
         "name": "1-Zone (DE) – AT0 0 urban decentral water tanks discharger-2045",
         "type": "scatter",
         "x": [],
         "y": []
        },
        {
         "mode": "lines",
         "name": "1-Zone (DE) – BE0 0 rural water tanks discharger-2045",
         "type": "scatter",
         "x": [],
         "y": []
        },
        {
         "mode": "lines",
         "name": "1-Zone (DE) – BE0 0 urban decentral water tanks discharger-2045",
         "type": "scatter",
         "x": [],
         "y": []
        },
        {
         "mode": "lines",
         "name": "1-Zone (DE) – CH0 0 rural water tanks discharger-2045",
         "type": "scatter",
         "x": [],
         "y": []
        },
        {
         "mode": "lines",
         "name": "1-Zone (DE) – CH0 0 urban decentral water tanks discharger-2045",
         "type": "scatter",
         "x": [],
         "y": []
        },
        {
         "mode": "lines",
         "name": "1-Zone (DE) – CZ0 0 rural water tanks discharger-2045",
         "type": "scatter",
         "x": [],
         "y": []
        },
        {
         "mode": "lines",
         "name": "1-Zone (DE) – CZ0 0 urban decentral water tanks discharger-2045",
         "type": "scatter",
         "x": [],
         "y": []
        },
        {
         "mode": "lines",
         "name": "1-Zone (DE) – DE0 0 rural water tanks discharger-2045",
         "type": "scatter",
         "x": [],
         "y": []
        },
        {
         "mode": "lines",
         "name": "1-Zone (DE) – DE0 0 urban decentral water tanks discharger-2045",
         "type": "scatter",
         "x": [],
         "y": []
        },
        {
         "mode": "lines",
         "name": "1-Zone (DE) – DK0 0 rural water tanks discharger-2045",
         "type": "scatter",
         "x": [],
         "y": []
        },
        {
         "mode": "lines",
         "name": "1-Zone (DE) – DK0 0 urban decentral water tanks discharger-2045",
         "type": "scatter",
         "x": [],
         "y": []
        },
        {
         "mode": "lines",
         "name": "1-Zone (DE) – DK1 0 rural water tanks discharger-2045",
         "type": "scatter",
         "x": [],
         "y": []
        },
        {
         "mode": "lines",
         "name": "1-Zone (DE) – DK1 0 urban decentral water tanks discharger-2045",
         "type": "scatter",
         "x": [],
         "y": []
        },
        {
         "mode": "lines",
         "name": "1-Zone (DE) – ES0 0 rural water tanks discharger-2045",
         "type": "scatter",
         "x": [],
         "y": []
        },
        {
         "mode": "lines",
         "name": "1-Zone (DE) – ES0 0 urban decentral water tanks discharger-2045",
         "type": "scatter",
         "x": [],
         "y": []
        },
        {
         "mode": "lines",
         "name": "1-Zone (DE) – ES6 0 rural water tanks discharger-2045",
         "type": "scatter",
         "x": [],
         "y": []
        },
        {
         "mode": "lines",
         "name": "1-Zone (DE) – ES6 0 urban decentral water tanks discharger-2045",
         "type": "scatter",
         "x": [],
         "y": []
        },
        {
         "mode": "lines",
         "name": "1-Zone (DE) – FR0 0 rural water tanks discharger-2045",
         "type": "scatter",
         "x": [],
         "y": []
        },
        {
         "mode": "lines",
         "name": "1-Zone (DE) – FR0 0 urban decentral water tanks discharger-2045",
         "type": "scatter",
         "x": [],
         "y": []
        },
        {
         "mode": "lines",
         "name": "1-Zone (DE) – FR4 0 rural water tanks discharger-2045",
         "type": "scatter",
         "x": [],
         "y": []
        },
        {
         "mode": "lines",
         "name": "1-Zone (DE) – FR4 0 urban decentral water tanks discharger-2045",
         "type": "scatter",
         "x": [],
         "y": []
        },
        {
         "mode": "lines",
         "name": "1-Zone (DE) – GB2 0 rural water tanks discharger-2045",
         "type": "scatter",
         "x": [],
         "y": []
        },
        {
         "mode": "lines",
         "name": "1-Zone (DE) – GB2 0 urban decentral water tanks discharger-2045",
         "type": "scatter",
         "x": [],
         "y": []
        },
        {
         "mode": "lines",
         "name": "1-Zone (DE) – GB5 0 rural water tanks discharger-2045",
         "type": "scatter",
         "x": [],
         "y": []
        },
        {
         "mode": "lines",
         "name": "1-Zone (DE) – GB5 0 urban decentral water tanks discharger-2045",
         "type": "scatter",
         "x": [],
         "y": []
        },
        {
         "mode": "lines",
         "name": "1-Zone (DE) – IT0 0 rural water tanks discharger-2045",
         "type": "scatter",
         "x": [],
         "y": []
        },
        {
         "mode": "lines",
         "name": "1-Zone (DE) – IT0 0 urban decentral water tanks discharger-2045",
         "type": "scatter",
         "x": [],
         "y": []
        },
        {
         "mode": "lines",
         "name": "1-Zone (DE) – IT3 0 rural water tanks discharger-2045",
         "type": "scatter",
         "x": [],
         "y": []
        },
        {
         "mode": "lines",
         "name": "1-Zone (DE) – IT3 0 urban decentral water tanks discharger-2045",
         "type": "scatter",
         "x": [],
         "y": []
        },
        {
         "mode": "lines",
         "name": "1-Zone (DE) – LU0 0 rural water tanks discharger-2045",
         "type": "scatter",
         "x": [],
         "y": []
        },
        {
         "mode": "lines",
         "name": "1-Zone (DE) – LU0 0 urban decentral water tanks discharger-2045",
         "type": "scatter",
         "x": [],
         "y": []
        },
        {
         "mode": "lines",
         "name": "1-Zone (DE) – NL0 0 rural water tanks discharger-2045",
         "type": "scatter",
         "x": [],
         "y": []
        },
        {
         "mode": "lines",
         "name": "1-Zone (DE) – NL0 0 urban decentral water tanks discharger-2045",
         "type": "scatter",
         "x": [],
         "y": []
        },
        {
         "mode": "lines",
         "name": "1-Zone (DE) – NO1 0 rural water tanks discharger-2045",
         "type": "scatter",
         "x": [],
         "y": []
        },
        {
         "mode": "lines",
         "name": "1-Zone (DE) – NO1 0 urban decentral water tanks discharger-2045",
         "type": "scatter",
         "x": [],
         "y": []
        },
        {
         "mode": "lines",
         "name": "1-Zone (DE) – PL0 0 rural water tanks discharger-2045",
         "type": "scatter",
         "x": [],
         "y": []
        },
        {
         "mode": "lines",
         "name": "1-Zone (DE) – PL0 0 urban decentral water tanks discharger-2045",
         "type": "scatter",
         "x": [],
         "y": []
        },
        {
         "mode": "lines",
         "name": "1-Zone (DE) – SE1 0 rural water tanks discharger-2045",
         "type": "scatter",
         "x": [],
         "y": []
        },
        {
         "mode": "lines",
         "name": "1-Zone (DE) – SE1 0 urban decentral water tanks discharger-2045",
         "type": "scatter",
         "x": [],
         "y": []
        },
        {
         "mode": "lines",
         "name": "1-Zone (DE) – AT0 0 battery discharger-2040",
         "type": "scatter",
         "x": [],
         "y": []
        },
        {
         "mode": "lines",
         "name": "1-Zone (DE) – BE0 0 battery discharger-2040",
         "type": "scatter",
         "x": [],
         "y": []
        },
        {
         "mode": "lines",
         "name": "1-Zone (DE) – CH0 0 battery discharger-2040",
         "type": "scatter",
         "x": [],
         "y": []
        },
        {
         "mode": "lines",
         "name": "1-Zone (DE) – CZ0 0 battery discharger-2040",
         "type": "scatter",
         "x": [],
         "y": []
        },
        {
         "mode": "lines",
         "name": "1-Zone (DE) – DE0 0 battery discharger-2040",
         "type": "scatter",
         "x": [],
         "y": []
        },
        {
         "mode": "lines",
         "name": "1-Zone (DE) – ES0 0 battery discharger-2040",
         "type": "scatter",
         "x": [],
         "y": []
        },
        {
         "mode": "lines",
         "name": "1-Zone (DE) – ES6 0 battery discharger-2040",
         "type": "scatter",
         "x": [],
         "y": []
        },
        {
         "mode": "lines",
         "name": "1-Zone (DE) – FR0 0 battery discharger-2040",
         "type": "scatter",
         "x": [],
         "y": []
        },
        {
         "mode": "lines",
         "name": "1-Zone (DE) – IT0 0 battery discharger-2040",
         "type": "scatter",
         "x": [],
         "y": []
        },
        {
         "mode": "lines",
         "name": "1-Zone (DE) – IT3 0 battery discharger-2040",
         "type": "scatter",
         "x": [],
         "y": []
        },
        {
         "mode": "lines",
         "name": "1-Zone (DE) – NL0 0 battery discharger-2040",
         "type": "scatter",
         "x": [],
         "y": []
        },
        {
         "mode": "lines",
         "name": "1-Zone (DE) – PL0 0 battery discharger-2040",
         "type": "scatter",
         "x": [],
         "y": []
        },
        {
         "mode": "lines",
         "name": "1-Zone (DE) – AT0 0 urban central water pits discharger-2040",
         "type": "scatter",
         "x": [],
         "y": []
        },
        {
         "mode": "lines",
         "name": "1-Zone (DE) – BE0 0 urban central water pits discharger-2040",
         "type": "scatter",
         "x": [],
         "y": []
        },
        {
         "mode": "lines",
         "name": "1-Zone (DE) – CH0 0 urban central water pits discharger-2040",
         "type": "scatter",
         "x": [],
         "y": []
        },
        {
         "mode": "lines",
         "name": "1-Zone (DE) – CZ0 0 urban central water pits discharger-2040",
         "type": "scatter",
         "x": [],
         "y": []
        },
        {
         "mode": "lines",
         "name": "1-Zone (DE) – DK0 0 urban central water pits discharger-2040",
         "type": "scatter",
         "x": [],
         "y": []
        },
        {
         "mode": "lines",
         "name": "1-Zone (DE) – DK1 0 urban central water pits discharger-2040",
         "type": "scatter",
         "x": [],
         "y": []
        },
        {
         "mode": "lines",
         "name": "1-Zone (DE) – ES0 0 urban central water pits discharger-2040",
         "type": "scatter",
         "x": [],
         "y": []
        },
        {
         "mode": "lines",
         "name": "1-Zone (DE) – FR0 0 urban central water pits discharger-2040",
         "type": "scatter",
         "x": [],
         "y": []
        },
        {
         "mode": "lines",
         "name": "1-Zone (DE) – IT0 0 urban central water pits discharger-2040",
         "type": "scatter",
         "x": [],
         "y": []
        },
        {
         "mode": "lines",
         "name": "1-Zone (DE) – LU0 0 urban central water pits discharger-2040",
         "type": "scatter",
         "x": [],
         "y": []
        },
        {
         "mode": "lines",
         "name": "1-Zone (DE) – PL0 0 urban central water pits discharger-2040",
         "type": "scatter",
         "x": [],
         "y": []
        },
        {
         "mode": "lines",
         "name": "1-Zone (DE) – SE1 0 urban central water pits discharger-2040",
         "type": "scatter",
         "x": [],
         "y": []
        },
        {
         "mode": "lines",
         "name": "1-Zone (DE) – AT0 0 home battery discharger-2040",
         "type": "scatter",
         "x": [],
         "y": []
        },
        {
         "mode": "lines",
         "name": "1-Zone (DE) – CH0 0 home battery discharger-2040",
         "type": "scatter",
         "x": [],
         "y": []
        },
        {
         "mode": "lines",
         "name": "1-Zone (DE) – CZ0 0 home battery discharger-2040",
         "type": "scatter",
         "x": [],
         "y": []
        },
        {
         "mode": "lines",
         "name": "1-Zone (DE) – ES0 0 home battery discharger-2040",
         "type": "scatter",
         "x": [],
         "y": []
        },
        {
         "mode": "lines",
         "name": "1-Zone (DE) – ES6 0 home battery discharger-2040",
         "type": "scatter",
         "x": [],
         "y": []
        },
        {
         "mode": "lines",
         "name": "1-Zone (DE) – FR0 0 home battery discharger-2040",
         "type": "scatter",
         "x": [],
         "y": []
        },
        {
         "mode": "lines",
         "name": "1-Zone (DE) – FR4 0 home battery discharger-2040",
         "type": "scatter",
         "x": [],
         "y": []
        },
        {
         "mode": "lines",
         "name": "1-Zone (DE) – IT0 0 home battery discharger-2040",
         "type": "scatter",
         "x": [],
         "y": []
        },
        {
         "mode": "lines",
         "name": "1-Zone (DE) – IT3 0 home battery discharger-2040",
         "type": "scatter",
         "x": [],
         "y": []
        },
        {
         "mode": "lines",
         "name": "1-Zone (DE) – LU0 0 home battery discharger-2040",
         "type": "scatter",
         "x": [],
         "y": []
        },
        {
         "mode": "lines",
         "name": "1-Zone (DE) – NL0 0 home battery discharger-2040",
         "type": "scatter",
         "x": [],
         "y": []
        },
        {
         "mode": "lines",
         "name": "1-Zone (DE) – PL0 0 home battery discharger-2040",
         "type": "scatter",
         "x": [],
         "y": []
        },
        {
         "mode": "lines",
         "name": "1-Zone (DE) – SE1 0 home battery discharger-2040",
         "type": "scatter",
         "x": [],
         "y": []
        },
        {
         "mode": "lines",
         "name": "1-Zone (DE) – AT0 0 urban central water pits discharger-2035",
         "type": "scatter",
         "x": [],
         "y": []
        },
        {
         "mode": "lines",
         "name": "1-Zone (DE) – BE0 0 urban central water pits discharger-2035",
         "type": "scatter",
         "x": [],
         "y": []
        },
        {
         "mode": "lines",
         "name": "1-Zone (DE) – CH0 0 urban central water pits discharger-2035",
         "type": "scatter",
         "x": [],
         "y": []
        },
        {
         "mode": "lines",
         "name": "1-Zone (DE) – CZ0 0 urban central water pits discharger-2035",
         "type": "scatter",
         "x": [],
         "y": []
        },
        {
         "mode": "lines",
         "name": "1-Zone (DE) – DE0 0 urban central water pits discharger-2035",
         "type": "scatter",
         "x": [],
         "y": []
        },
        {
         "mode": "lines",
         "name": "1-Zone (DE) – DK0 0 urban central water pits discharger-2035",
         "type": "scatter",
         "x": [],
         "y": []
        },
        {
         "mode": "lines",
         "name": "1-Zone (DE) – DK1 0 urban central water pits discharger-2035",
         "type": "scatter",
         "x": [],
         "y": []
        },
        {
         "mode": "lines",
         "name": "1-Zone (DE) – ES0 0 urban central water pits discharger-2035",
         "type": "scatter",
         "x": [],
         "y": []
        },
        {
         "mode": "lines",
         "name": "1-Zone (DE) – ES6 0 urban central water pits discharger-2035",
         "type": "scatter",
         "x": [],
         "y": []
        },
        {
         "mode": "lines",
         "name": "1-Zone (DE) – FR0 0 urban central water pits discharger-2035",
         "type": "scatter",
         "x": [],
         "y": []
        },
        {
         "mode": "lines",
         "name": "1-Zone (DE) – GB2 0 urban central water pits discharger-2035",
         "type": "scatter",
         "x": [],
         "y": []
        },
        {
         "mode": "lines",
         "name": "1-Zone (DE) – GB5 0 urban central water pits discharger-2035",
         "type": "scatter",
         "x": [],
         "y": []
        },
        {
         "mode": "lines",
         "name": "1-Zone (DE) – IT0 0 urban central water pits discharger-2035",
         "type": "scatter",
         "x": [],
         "y": []
        },
        {
         "mode": "lines",
         "name": "1-Zone (DE) – IT3 0 urban central water pits discharger-2035",
         "type": "scatter",
         "x": [],
         "y": []
        },
        {
         "mode": "lines",
         "name": "1-Zone (DE) – LU0 0 urban central water pits discharger-2035",
         "type": "scatter",
         "x": [],
         "y": []
        },
        {
         "mode": "lines",
         "name": "1-Zone (DE) – NL0 0 urban central water pits discharger-2035",
         "type": "scatter",
         "x": [],
         "y": []
        },
        {
         "mode": "lines",
         "name": "1-Zone (DE) – NO1 0 urban central water pits discharger-2035",
         "type": "scatter",
         "x": [],
         "y": []
        },
        {
         "mode": "lines",
         "name": "1-Zone (DE) – PL0 0 urban central water pits discharger-2035",
         "type": "scatter",
         "x": [],
         "y": []
        },
        {
         "mode": "lines",
         "name": "1-Zone (DE) – SE1 0 urban central water pits discharger-2035",
         "type": "scatter",
         "x": [],
         "y": []
        },
        {
         "mode": "lines",
         "name": "1-Zone (DE) – BE0 0 urban decentral water tanks discharger-2035",
         "type": "scatter",
         "x": [],
         "y": []
        },
        {
         "mode": "lines",
         "name": "1-Zone (DE) – CZ0 0 rural water tanks discharger-2035",
         "type": "scatter",
         "x": [],
         "y": []
        },
        {
         "mode": "lines",
         "name": "1-Zone (DE) – CZ0 0 urban decentral water tanks discharger-2035",
         "type": "scatter",
         "x": [],
         "y": []
        },
        {
         "mode": "lines",
         "name": "1-Zone (DE) – DE0 0 rural water tanks discharger-2035",
         "type": "scatter",
         "x": [],
         "y": []
        },
        {
         "mode": "lines",
         "name": "1-Zone (DE) – DE0 0 urban decentral water tanks discharger-2035",
         "type": "scatter",
         "x": [],
         "y": []
        },
        {
         "mode": "lines",
         "name": "1-Zone (DE) – DK0 0 rural water tanks discharger-2035",
         "type": "scatter",
         "x": [],
         "y": []
        },
        {
         "mode": "lines",
         "name": "1-Zone (DE) – DK0 0 urban decentral water tanks discharger-2035",
         "type": "scatter",
         "x": [],
         "y": []
        },
        {
         "mode": "lines",
         "name": "1-Zone (DE) – DK1 0 rural water tanks discharger-2035",
         "type": "scatter",
         "x": [],
         "y": []
        },
        {
         "mode": "lines",
         "name": "1-Zone (DE) – FR0 0 rural water tanks discharger-2035",
         "type": "scatter",
         "x": [],
         "y": []
        },
        {
         "mode": "lines",
         "name": "1-Zone (DE) – GB2 0 rural water tanks discharger-2035",
         "type": "scatter",
         "x": [],
         "y": []
        },
        {
         "mode": "lines",
         "name": "1-Zone (DE) – GB2 0 urban decentral water tanks discharger-2035",
         "type": "scatter",
         "x": [],
         "y": []
        },
        {
         "mode": "lines",
         "name": "1-Zone (DE) – GB5 0 rural water tanks discharger-2035",
         "type": "scatter",
         "x": [],
         "y": []
        },
        {
         "mode": "lines",
         "name": "1-Zone (DE) – GB5 0 urban decentral water tanks discharger-2035",
         "type": "scatter",
         "x": [],
         "y": []
        },
        {
         "mode": "lines",
         "name": "1-Zone (DE) – IT0 0 rural water tanks discharger-2035",
         "type": "scatter",
         "x": [],
         "y": []
        },
        {
         "mode": "lines",
         "name": "1-Zone (DE) – NL0 0 urban decentral water tanks discharger-2035",
         "type": "scatter",
         "x": [],
         "y": []
        },
        {
         "mode": "lines",
         "name": "1-Zone (DE) – NO1 0 rural water tanks discharger-2035",
         "type": "scatter",
         "x": [],
         "y": []
        },
        {
         "mode": "lines",
         "name": "1-Zone (DE) – PL0 0 rural water tanks discharger-2035",
         "type": "scatter",
         "x": [],
         "y": []
        },
        {
         "mode": "lines",
         "name": "1-Zone (DE) – PL0 0 urban decentral water tanks discharger-2035",
         "type": "scatter",
         "x": [],
         "y": []
        },
        {
         "mode": "lines",
         "name": "1-Zone (DE) – AT0 0 urban central water pits discharger-2030",
         "type": "scatter",
         "x": [],
         "y": []
        },
        {
         "mode": "lines",
         "name": "1-Zone (DE) – BE0 0 urban central water pits discharger-2030",
         "type": "scatter",
         "x": [],
         "y": []
        },
        {
         "mode": "lines",
         "name": "1-Zone (DE) – CH0 0 urban central water pits discharger-2030",
         "type": "scatter",
         "x": [],
         "y": []
        },
        {
         "mode": "lines",
         "name": "1-Zone (DE) – CZ0 0 urban central water pits discharger-2030",
         "type": "scatter",
         "x": [],
         "y": []
        },
        {
         "mode": "lines",
         "name": "1-Zone (DE) – DE0 0 urban central water pits discharger-2030",
         "type": "scatter",
         "x": [],
         "y": []
        },
        {
         "mode": "lines",
         "name": "1-Zone (DE) – ES0 0 urban central water pits discharger-2030",
         "type": "scatter",
         "x": [],
         "y": []
        },
        {
         "mode": "lines",
         "name": "1-Zone (DE) – FR0 0 urban central water pits discharger-2030",
         "type": "scatter",
         "x": [],
         "y": []
        },
        {
         "mode": "lines",
         "name": "1-Zone (DE) – GB2 0 urban central water pits discharger-2030",
         "type": "scatter",
         "x": [],
         "y": []
        },
        {
         "mode": "lines",
         "name": "1-Zone (DE) – GB5 0 urban central water pits discharger-2030",
         "type": "scatter",
         "x": [],
         "y": []
        },
        {
         "mode": "lines",
         "name": "1-Zone (DE) – IT0 0 urban central water pits discharger-2030",
         "type": "scatter",
         "x": [],
         "y": []
        },
        {
         "mode": "lines",
         "name": "1-Zone (DE) – IT3 0 urban central water pits discharger-2030",
         "type": "scatter",
         "x": [],
         "y": []
        },
        {
         "mode": "lines",
         "name": "1-Zone (DE) – LU0 0 urban central water pits discharger-2030",
         "type": "scatter",
         "x": [],
         "y": []
        },
        {
         "mode": "lines",
         "name": "1-Zone (DE) – NL0 0 urban central water pits discharger-2030",
         "type": "scatter",
         "x": [],
         "y": []
        },
        {
         "mode": "lines",
         "name": "1-Zone (DE) – NO1 0 urban central water pits discharger-2030",
         "type": "scatter",
         "x": [],
         "y": []
        },
        {
         "mode": "lines",
         "name": "1-Zone (DE) – PL0 0 urban central water pits discharger-2030",
         "type": "scatter",
         "x": [],
         "y": []
        },
        {
         "mode": "lines",
         "name": "1-Zone (DE) – SE1 0 urban central water pits discharger-2030",
         "type": "scatter",
         "x": [],
         "y": []
        },
        {
         "mode": "lines",
         "name": "1-Zone (DE) – AT0 0 rural water tanks discharger-2030",
         "type": "scatter",
         "x": [],
         "y": []
        },
        {
         "mode": "lines",
         "name": "1-Zone (DE) – CZ0 0 rural water tanks discharger-2030",
         "type": "scatter",
         "x": [],
         "y": []
        },
        {
         "mode": "lines",
         "name": "1-Zone (DE) – CZ0 0 urban decentral water tanks discharger-2030",
         "type": "scatter",
         "x": [],
         "y": []
        },
        {
         "mode": "lines",
         "name": "1-Zone (DE) – DK0 0 urban decentral water tanks discharger-2030",
         "type": "scatter",
         "x": [],
         "y": []
        },
        {
         "mode": "lines",
         "name": "1-Zone (DE) – DK1 0 urban decentral water tanks discharger-2030",
         "type": "scatter",
         "x": [],
         "y": []
        },
        {
         "mode": "lines",
         "name": "1-Zone (DE) – ES6 0 urban decentral water tanks discharger-2030",
         "type": "scatter",
         "x": [],
         "y": []
        },
        {
         "mode": "lines",
         "name": "1-Zone (DE) – FR0 0 rural water tanks discharger-2030",
         "type": "scatter",
         "x": [],
         "y": []
        },
        {
         "mode": "lines",
         "name": "1-Zone (DE) – FR4 0 rural water tanks discharger-2030",
         "type": "scatter",
         "x": [],
         "y": []
        },
        {
         "mode": "lines",
         "name": "1-Zone (DE) – GB2 0 rural water tanks discharger-2030",
         "type": "scatter",
         "x": [],
         "y": []
        },
        {
         "mode": "lines",
         "name": "1-Zone (DE) – GB2 0 urban decentral water tanks discharger-2030",
         "type": "scatter",
         "x": [],
         "y": []
        },
        {
         "mode": "lines",
         "name": "1-Zone (DE) – GB5 0 rural water tanks discharger-2030",
         "type": "scatter",
         "x": [],
         "y": []
        },
        {
         "mode": "lines",
         "name": "1-Zone (DE) – GB5 0 urban decentral water tanks discharger-2030",
         "type": "scatter",
         "x": [],
         "y": []
        },
        {
         "mode": "lines",
         "name": "1-Zone (DE) – NL0 0 urban decentral water tanks discharger-2030",
         "type": "scatter",
         "x": [],
         "y": []
        },
        {
         "mode": "lines",
         "name": "1-Zone (DE) – PL0 0 rural water tanks discharger-2030",
         "type": "scatter",
         "x": [],
         "y": []
        },
        {
         "mode": "lines",
         "name": "1-Zone (DE) – SE1 0 rural water tanks discharger-2030",
         "type": "scatter",
         "x": [],
         "y": []
        },
        {
         "mode": "lines",
         "name": "1-Zone (DE) – AT0 0 urban central water pits discharger-2025",
         "type": "scatter",
         "x": [],
         "y": []
        },
        {
         "mode": "lines",
         "name": "1-Zone (DE) – BE0 0 urban central water pits discharger-2025",
         "type": "scatter",
         "x": [],
         "y": []
        },
        {
         "mode": "lines",
         "name": "1-Zone (DE) – CH0 0 urban central water pits discharger-2025",
         "type": "scatter",
         "x": [],
         "y": []
        },
        {
         "mode": "lines",
         "name": "1-Zone (DE) – CZ0 0 urban central water pits discharger-2025",
         "type": "scatter",
         "x": [],
         "y": []
        },
        {
         "mode": "lines",
         "name": "1-Zone (DE) – DE0 0 urban central water pits discharger-2025",
         "type": "scatter",
         "x": [],
         "y": []
        },
        {
         "mode": "lines",
         "name": "1-Zone (DE) – DK0 0 urban central water pits discharger-2025",
         "type": "scatter",
         "x": [],
         "y": []
        },
        {
         "mode": "lines",
         "name": "1-Zone (DE) – DK1 0 urban central water pits discharger-2025",
         "type": "scatter",
         "x": [],
         "y": []
        },
        {
         "mode": "lines",
         "name": "1-Zone (DE) – ES0 0 urban central water pits discharger-2025",
         "type": "scatter",
         "x": [],
         "y": []
        },
        {
         "mode": "lines",
         "name": "1-Zone (DE) – FR0 0 urban central water pits discharger-2025",
         "type": "scatter",
         "x": [],
         "y": []
        },
        {
         "mode": "lines",
         "name": "1-Zone (DE) – GB2 0 urban central water pits discharger-2025",
         "type": "scatter",
         "x": [],
         "y": []
        },
        {
         "mode": "lines",
         "name": "1-Zone (DE) – GB5 0 urban central water pits discharger-2025",
         "type": "scatter",
         "x": [],
         "y": []
        },
        {
         "mode": "lines",
         "name": "1-Zone (DE) – IT0 0 urban central water pits discharger-2025",
         "type": "scatter",
         "x": [],
         "y": []
        },
        {
         "mode": "lines",
         "name": "1-Zone (DE) – IT3 0 urban central water pits discharger-2025",
         "type": "scatter",
         "x": [],
         "y": []
        },
        {
         "mode": "lines",
         "name": "1-Zone (DE) – LU0 0 urban central water pits discharger-2025",
         "type": "scatter",
         "x": [],
         "y": []
        },
        {
         "mode": "lines",
         "name": "1-Zone (DE) – NL0 0 urban central water pits discharger-2025",
         "type": "scatter",
         "x": [],
         "y": []
        },
        {
         "mode": "lines",
         "name": "1-Zone (DE) – NO1 0 urban central water pits discharger-2025",
         "type": "scatter",
         "x": [],
         "y": []
        },
        {
         "mode": "lines",
         "name": "1-Zone (DE) – PL0 0 urban central water pits discharger-2025",
         "type": "scatter",
         "x": [],
         "y": []
        },
        {
         "mode": "lines",
         "name": "1-Zone (DE) – SE1 0 urban central water pits discharger-2025",
         "type": "scatter",
         "x": [],
         "y": []
        },
        {
         "mode": "lines",
         "name": "1-Zone (DE) – AT0 0 rural water tanks discharger-2025",
         "type": "scatter",
         "x": [],
         "y": []
        },
        {
         "mode": "lines",
         "name": "1-Zone (DE) – AT0 0 urban decentral water tanks discharger-2025",
         "type": "scatter",
         "x": [],
         "y": []
        },
        {
         "mode": "lines",
         "name": "1-Zone (DE) – BE0 0 rural water tanks discharger-2025",
         "type": "scatter",
         "x": [],
         "y": []
        },
        {
         "mode": "lines",
         "name": "1-Zone (DE) – BE0 0 urban decentral water tanks discharger-2025",
         "type": "scatter",
         "x": [],
         "y": []
        },
        {
         "mode": "lines",
         "name": "1-Zone (DE) – CZ0 0 urban decentral water tanks discharger-2025",
         "type": "scatter",
         "x": [],
         "y": []
        },
        {
         "mode": "lines",
         "name": "1-Zone (DE) – DE0 0 urban decentral water tanks discharger-2025",
         "type": "scatter",
         "x": [],
         "y": []
        },
        {
         "mode": "lines",
         "name": "1-Zone (DE) – DK0 0 urban decentral water tanks discharger-2025",
         "type": "scatter",
         "x": [],
         "y": []
        },
        {
         "mode": "lines",
         "name": "1-Zone (DE) – DK1 0 urban decentral water tanks discharger-2025",
         "type": "scatter",
         "x": [],
         "y": []
        },
        {
         "mode": "lines",
         "name": "1-Zone (DE) – ES0 0 rural water tanks discharger-2025",
         "type": "scatter",
         "x": [],
         "y": []
        },
        {
         "mode": "lines",
         "name": "1-Zone (DE) – ES6 0 urban decentral water tanks discharger-2025",
         "type": "scatter",
         "x": [],
         "y": []
        },
        {
         "mode": "lines",
         "name": "1-Zone (DE) – FR0 0 rural water tanks discharger-2025",
         "type": "scatter",
         "x": [],
         "y": []
        },
        {
         "mode": "lines",
         "name": "1-Zone (DE) – FR0 0 urban decentral water tanks discharger-2025",
         "type": "scatter",
         "x": [],
         "y": []
        },
        {
         "mode": "lines",
         "name": "1-Zone (DE) – FR4 0 rural water tanks discharger-2025",
         "type": "scatter",
         "x": [],
         "y": []
        },
        {
         "mode": "lines",
         "name": "1-Zone (DE) – GB2 0 rural water tanks discharger-2025",
         "type": "scatter",
         "x": [],
         "y": []
        },
        {
         "mode": "lines",
         "name": "1-Zone (DE) – GB2 0 urban decentral water tanks discharger-2025",
         "type": "scatter",
         "x": [],
         "y": []
        },
        {
         "mode": "lines",
         "name": "1-Zone (DE) – GB5 0 rural water tanks discharger-2025",
         "type": "scatter",
         "x": [],
         "y": []
        },
        {
         "mode": "lines",
         "name": "1-Zone (DE) – IT0 0 rural water tanks discharger-2025",
         "type": "scatter",
         "x": [],
         "y": []
        },
        {
         "mode": "lines",
         "name": "1-Zone (DE) – IT0 0 urban decentral water tanks discharger-2025",
         "type": "scatter",
         "x": [],
         "y": []
        },
        {
         "mode": "lines",
         "name": "1-Zone (DE) – IT3 0 rural water tanks discharger-2025",
         "type": "scatter",
         "x": [],
         "y": []
        },
        {
         "mode": "lines",
         "name": "1-Zone (DE) – LU0 0 urban decentral water tanks discharger-2025",
         "type": "scatter",
         "x": [],
         "y": []
        },
        {
         "mode": "lines",
         "name": "1-Zone (DE) – NL0 0 rural water tanks discharger-2025",
         "type": "scatter",
         "x": [],
         "y": []
        },
        {
         "mode": "lines",
         "name": "1-Zone (DE) – PL0 0 rural water tanks discharger-2025",
         "type": "scatter",
         "x": [],
         "y": []
        },
        {
         "mode": "lines",
         "name": "1-Zone (DE) – PL0 0 urban decentral water tanks discharger-2025",
         "type": "scatter",
         "x": [],
         "y": []
        },
        {
         "mode": "lines",
         "name": "1-Zone (DE) – SE1 0 rural water tanks discharger-2025",
         "type": "scatter",
         "x": [],
         "y": []
        },
        {
         "mode": "lines",
         "name": "1-Zone (DE) – SE1 0 urban decentral water tanks discharger-2025",
         "type": "scatter",
         "x": [],
         "y": []
        },
        {
         "mode": "lines",
         "name": "1-Zone (DE) – AT0 0 rural water tanks discharger-2020",
         "type": "scatter",
         "x": [],
         "y": []
        },
        {
         "mode": "lines",
         "name": "1-Zone (DE) – BE0 0 rural water tanks discharger-2020",
         "type": "scatter",
         "x": [],
         "y": []
        },
        {
         "mode": "lines",
         "name": "1-Zone (DE) – BE0 0 urban decentral water tanks discharger-2020",
         "type": "scatter",
         "x": [],
         "y": []
        },
        {
         "mode": "lines",
         "name": "1-Zone (DE) – CH0 0 rural water tanks discharger-2020",
         "type": "scatter",
         "x": [],
         "y": []
        },
        {
         "mode": "lines",
         "name": "1-Zone (DE) – CH0 0 urban decentral water tanks discharger-2020",
         "type": "scatter",
         "x": [],
         "y": []
        },
        {
         "mode": "lines",
         "name": "1-Zone (DE) – CZ0 0 rural water tanks discharger-2020",
         "type": "scatter",
         "x": [],
         "y": []
        },
        {
         "mode": "lines",
         "name": "1-Zone (DE) – CZ0 0 urban decentral water tanks discharger-2020",
         "type": "scatter",
         "x": [],
         "y": []
        },
        {
         "mode": "lines",
         "name": "1-Zone (DE) – DE0 0 rural water tanks discharger-2020",
         "type": "scatter",
         "x": [],
         "y": []
        },
        {
         "mode": "lines",
         "name": "1-Zone (DE) – DK0 0 rural water tanks discharger-2020",
         "type": "scatter",
         "x": [],
         "y": []
        },
        {
         "mode": "lines",
         "name": "1-Zone (DE) – DK0 0 urban decentral water tanks discharger-2020",
         "type": "scatter",
         "x": [],
         "y": []
        },
        {
         "mode": "lines",
         "name": "1-Zone (DE) – DK1 0 urban decentral water tanks discharger-2020",
         "type": "scatter",
         "x": [],
         "y": []
        },
        {
         "mode": "lines",
         "name": "1-Zone (DE) – ES0 0 urban decentral water tanks discharger-2020",
         "type": "scatter",
         "x": [],
         "y": []
        },
        {
         "mode": "lines",
         "name": "1-Zone (DE) – ES6 0 rural water tanks discharger-2020",
         "type": "scatter",
         "x": [],
         "y": []
        },
        {
         "mode": "lines",
         "name": "1-Zone (DE) – ES6 0 urban decentral water tanks discharger-2020",
         "type": "scatter",
         "x": [],
         "y": []
        },
        {
         "mode": "lines",
         "name": "1-Zone (DE) – FR0 0 urban decentral water tanks discharger-2020",
         "type": "scatter",
         "x": [],
         "y": []
        },
        {
         "mode": "lines",
         "name": "1-Zone (DE) – FR4 0 rural water tanks discharger-2020",
         "type": "scatter",
         "x": [],
         "y": []
        },
        {
         "mode": "lines",
         "name": "1-Zone (DE) – GB2 0 rural water tanks discharger-2020",
         "type": "scatter",
         "x": [],
         "y": []
        },
        {
         "mode": "lines",
         "name": "1-Zone (DE) – GB2 0 urban decentral water tanks discharger-2020",
         "type": "scatter",
         "x": [],
         "y": []
        },
        {
         "mode": "lines",
         "name": "1-Zone (DE) – GB5 0 rural water tanks discharger-2020",
         "type": "scatter",
         "x": [],
         "y": []
        },
        {
         "mode": "lines",
         "name": "1-Zone (DE) – GB5 0 urban decentral water tanks discharger-2020",
         "type": "scatter",
         "x": [],
         "y": []
        },
        {
         "mode": "lines",
         "name": "1-Zone (DE) – IT0 0 urban decentral water tanks discharger-2020",
         "type": "scatter",
         "x": [],
         "y": []
        },
        {
         "mode": "lines",
         "name": "1-Zone (DE) – IT3 0 rural water tanks discharger-2020",
         "type": "scatter",
         "x": [],
         "y": []
        },
        {
         "mode": "lines",
         "name": "1-Zone (DE) – LU0 0 rural water tanks discharger-2020",
         "type": "scatter",
         "x": [],
         "y": []
        },
        {
         "mode": "lines",
         "name": "1-Zone (DE) – LU0 0 urban decentral water tanks discharger-2020",
         "type": "scatter",
         "x": [],
         "y": []
        },
        {
         "mode": "lines",
         "name": "1-Zone (DE) – NL0 0 rural water tanks discharger-2020",
         "type": "scatter",
         "x": [],
         "y": []
        },
        {
         "mode": "lines",
         "name": "1-Zone (DE) – NO1 0 rural water tanks discharger-2020",
         "type": "scatter",
         "x": [],
         "y": []
        },
        {
         "mode": "lines",
         "name": "1-Zone (DE) – NO1 0 urban decentral water tanks discharger-2020",
         "type": "scatter",
         "x": [],
         "y": []
        },
        {
         "mode": "lines",
         "name": "1-Zone (DE) – PL0 0 rural water tanks discharger-2020",
         "type": "scatter",
         "x": [],
         "y": []
        },
        {
         "mode": "lines",
         "name": "1-Zone (DE) – PL0 0 urban decentral water tanks discharger-2020",
         "type": "scatter",
         "x": [],
         "y": []
        },
        {
         "mode": "lines",
         "name": "1-Zone (DE) – SE1 0 urban decentral water tanks discharger-2020",
         "type": "scatter",
         "x": [],
         "y": []
        },
        {
         "mode": "lines",
         "name": "1H Res, 1-Zone (DE) – AT0 0 battery discharger-2045",
         "type": "scatter",
         "x": [],
         "y": []
        },
        {
         "mode": "lines",
         "name": "1H Res, 1-Zone (DE) – BE0 0 battery discharger-2045",
         "type": "scatter",
         "x": [],
         "y": []
        },
        {
         "mode": "lines",
         "name": "1H Res, 1-Zone (DE) – CH0 0 battery discharger-2045",
         "type": "scatter",
         "x": [],
         "y": []
        },
        {
         "mode": "lines",
         "name": "1H Res, 1-Zone (DE) – CZ0 0 battery discharger-2045",
         "type": "scatter",
         "x": [],
         "y": []
        },
        {
         "mode": "lines",
         "name": "1H Res, 1-Zone (DE) – DE0 0 battery discharger-2045",
         "type": "scatter",
         "x": [],
         "y": []
        },
        {
         "mode": "lines",
         "name": "1H Res, 1-Zone (DE) – DK0 0 battery discharger-2045",
         "type": "scatter",
         "x": [],
         "y": []
        },
        {
         "mode": "lines",
         "name": "1H Res, 1-Zone (DE) – DK1 0 battery discharger-2045",
         "type": "scatter",
         "x": [],
         "y": []
        },
        {
         "mode": "lines",
         "name": "1H Res, 1-Zone (DE) – ES0 0 battery discharger-2045",
         "type": "scatter",
         "x": [],
         "y": []
        },
        {
         "mode": "lines",
         "name": "1H Res, 1-Zone (DE) – ES6 0 battery discharger-2045",
         "type": "scatter",
         "x": [],
         "y": []
        },
        {
         "mode": "lines",
         "name": "1H Res, 1-Zone (DE) – FR0 0 battery discharger-2045",
         "type": "scatter",
         "x": [],
         "y": []
        },
        {
         "mode": "lines",
         "name": "1H Res, 1-Zone (DE) – FR4 0 battery discharger-2045",
         "type": "scatter",
         "x": [],
         "y": []
        },
        {
         "mode": "lines",
         "name": "1H Res, 1-Zone (DE) – GB2 0 battery discharger-2045",
         "type": "scatter",
         "x": [],
         "y": []
        },
        {
         "mode": "lines",
         "name": "1H Res, 1-Zone (DE) – GB5 0 battery discharger-2045",
         "type": "scatter",
         "x": [],
         "y": []
        },
        {
         "mode": "lines",
         "name": "1H Res, 1-Zone (DE) – IT0 0 battery discharger-2045",
         "type": "scatter",
         "x": [],
         "y": []
        },
        {
         "mode": "lines",
         "name": "1H Res, 1-Zone (DE) – IT3 0 battery discharger-2045",
         "type": "scatter",
         "x": [],
         "y": []
        },
        {
         "mode": "lines",
         "name": "1H Res, 1-Zone (DE) – LU0 0 battery discharger-2045",
         "type": "scatter",
         "x": [],
         "y": []
        },
        {
         "mode": "lines",
         "name": "1H Res, 1-Zone (DE) – NL0 0 battery discharger-2045",
         "type": "scatter",
         "x": [],
         "y": []
        },
        {
         "mode": "lines",
         "name": "1H Res, 1-Zone (DE) – NO1 0 battery discharger-2045",
         "type": "scatter",
         "x": [],
         "y": []
        },
        {
         "mode": "lines",
         "name": "1H Res, 1-Zone (DE) – PL0 0 battery discharger-2045",
         "type": "scatter",
         "x": [],
         "y": []
        },
        {
         "mode": "lines",
         "name": "1H Res, 1-Zone (DE) – SE1 0 battery discharger-2045",
         "type": "scatter",
         "x": [],
         "y": []
        },
        {
         "mode": "lines",
         "name": "1H Res, 1-Zone (DE) – AT0 0 urban central water tanks discharger-2045",
         "type": "scatter",
         "x": [],
         "y": []
        },
        {
         "mode": "lines",
         "name": "1H Res, 1-Zone (DE) – BE0 0 urban central water tanks discharger-2045",
         "type": "scatter",
         "x": [],
         "y": []
        },
        {
         "mode": "lines",
         "name": "1H Res, 1-Zone (DE) – CH0 0 urban central water tanks discharger-2045",
         "type": "scatter",
         "x": [],
         "y": []
        },
        {
         "mode": "lines",
         "name": "1H Res, 1-Zone (DE) – CZ0 0 urban central water tanks discharger-2045",
         "type": "scatter",
         "x": [],
         "y": []
        },
        {
         "mode": "lines",
         "name": "1H Res, 1-Zone (DE) – DE0 0 urban central water tanks discharger-2045",
         "type": "scatter",
         "x": [],
         "y": []
        },
        {
         "mode": "lines",
         "name": "1H Res, 1-Zone (DE) – DK0 0 urban central water tanks discharger-2045",
         "type": "scatter",
         "x": [],
         "y": []
        },
        {
         "mode": "lines",
         "name": "1H Res, 1-Zone (DE) – DK1 0 urban central water tanks discharger-2045",
         "type": "scatter",
         "x": [],
         "y": []
        },
        {
         "mode": "lines",
         "name": "1H Res, 1-Zone (DE) – ES0 0 urban central water tanks discharger-2045",
         "type": "scatter",
         "x": [],
         "y": []
        },
        {
         "mode": "lines",
         "name": "1H Res, 1-Zone (DE) – ES6 0 urban central water tanks discharger-2045",
         "type": "scatter",
         "x": [],
         "y": []
        },
        {
         "mode": "lines",
         "name": "1H Res, 1-Zone (DE) – FR0 0 urban central water tanks discharger-2045",
         "type": "scatter",
         "x": [],
         "y": []
        },
        {
         "mode": "lines",
         "name": "1H Res, 1-Zone (DE) – GB2 0 urban central water tanks discharger-2045",
         "type": "scatter",
         "x": [],
         "y": []
        },
        {
         "mode": "lines",
         "name": "1H Res, 1-Zone (DE) – GB5 0 urban central water tanks discharger-2045",
         "type": "scatter",
         "x": [],
         "y": []
        },
        {
         "mode": "lines",
         "name": "1H Res, 1-Zone (DE) – IT0 0 urban central water tanks discharger-2045",
         "type": "scatter",
         "x": [],
         "y": []
        },
        {
         "mode": "lines",
         "name": "1H Res, 1-Zone (DE) – IT3 0 urban central water tanks discharger-2045",
         "type": "scatter",
         "x": [],
         "y": []
        },
        {
         "mode": "lines",
         "name": "1H Res, 1-Zone (DE) – LU0 0 urban central water tanks discharger-2045",
         "type": "scatter",
         "x": [],
         "y": []
        },
        {
         "mode": "lines",
         "name": "1H Res, 1-Zone (DE) – NL0 0 urban central water tanks discharger-2045",
         "type": "scatter",
         "x": [],
         "y": []
        },
        {
         "mode": "lines",
         "name": "1H Res, 1-Zone (DE) – NO1 0 urban central water tanks discharger-2045",
         "type": "scatter",
         "x": [],
         "y": []
        },
        {
         "mode": "lines",
         "name": "1H Res, 1-Zone (DE) – PL0 0 urban central water tanks discharger-2045",
         "type": "scatter",
         "x": [],
         "y": []
        },
        {
         "mode": "lines",
         "name": "1H Res, 1-Zone (DE) – SE1 0 urban central water tanks discharger-2045",
         "type": "scatter",
         "x": [],
         "y": []
        },
        {
         "mode": "lines",
         "name": "1H Res, 1-Zone (DE) – AT0 0 urban central water pits discharger-2045",
         "type": "scatter",
         "x": [],
         "y": []
        },
        {
         "mode": "lines",
         "name": "1H Res, 1-Zone (DE) – BE0 0 urban central water pits discharger-2045",
         "type": "scatter",
         "x": [],
         "y": []
        },
        {
         "mode": "lines",
         "name": "1H Res, 1-Zone (DE) – CH0 0 urban central water pits discharger-2045",
         "type": "scatter",
         "x": [],
         "y": []
        },
        {
         "mode": "lines",
         "name": "1H Res, 1-Zone (DE) – CZ0 0 urban central water pits discharger-2045",
         "type": "scatter",
         "x": [],
         "y": []
        },
        {
         "mode": "lines",
         "name": "1H Res, 1-Zone (DE) – DE0 0 urban central water pits discharger-2045",
         "type": "scatter",
         "x": [],
         "y": []
        },
        {
         "mode": "lines",
         "name": "1H Res, 1-Zone (DE) – DK0 0 urban central water pits discharger-2045",
         "type": "scatter",
         "x": [],
         "y": []
        },
        {
         "mode": "lines",
         "name": "1H Res, 1-Zone (DE) – DK1 0 urban central water pits discharger-2045",
         "type": "scatter",
         "x": [],
         "y": []
        },
        {
         "mode": "lines",
         "name": "1H Res, 1-Zone (DE) – ES0 0 urban central water pits discharger-2045",
         "type": "scatter",
         "x": [],
         "y": []
        },
        {
         "mode": "lines",
         "name": "1H Res, 1-Zone (DE) – ES6 0 urban central water pits discharger-2045",
         "type": "scatter",
         "x": [],
         "y": []
        },
        {
         "mode": "lines",
         "name": "1H Res, 1-Zone (DE) – FR0 0 urban central water pits discharger-2045",
         "type": "scatter",
         "x": [],
         "y": []
        },
        {
         "mode": "lines",
         "name": "1H Res, 1-Zone (DE) – GB2 0 urban central water pits discharger-2045",
         "type": "scatter",
         "x": [],
         "y": []
        },
        {
         "mode": "lines",
         "name": "1H Res, 1-Zone (DE) – GB5 0 urban central water pits discharger-2045",
         "type": "scatter",
         "x": [],
         "y": []
        },
        {
         "mode": "lines",
         "name": "1H Res, 1-Zone (DE) – IT0 0 urban central water pits discharger-2045",
         "type": "scatter",
         "x": [],
         "y": []
        },
        {
         "mode": "lines",
         "name": "1H Res, 1-Zone (DE) – IT3 0 urban central water pits discharger-2045",
         "type": "scatter",
         "x": [],
         "y": []
        },
        {
         "mode": "lines",
         "name": "1H Res, 1-Zone (DE) – LU0 0 urban central water pits discharger-2045",
         "type": "scatter",
         "x": [],
         "y": []
        },
        {
         "mode": "lines",
         "name": "1H Res, 1-Zone (DE) – NL0 0 urban central water pits discharger-2045",
         "type": "scatter",
         "x": [],
         "y": []
        },
        {
         "mode": "lines",
         "name": "1H Res, 1-Zone (DE) – NO1 0 urban central water pits discharger-2045",
         "type": "scatter",
         "x": [],
         "y": []
        },
        {
         "mode": "lines",
         "name": "1H Res, 1-Zone (DE) – PL0 0 urban central water pits discharger-2045",
         "type": "scatter",
         "x": [],
         "y": []
        },
        {
         "mode": "lines",
         "name": "1H Res, 1-Zone (DE) – SE1 0 urban central water pits discharger-2045",
         "type": "scatter",
         "x": [],
         "y": []
        },
        {
         "mode": "lines",
         "name": "1H Res, 1-Zone (DE) – AT0 0 home battery discharger-2045",
         "type": "scatter",
         "x": [],
         "y": []
        },
        {
         "mode": "lines",
         "name": "1H Res, 1-Zone (DE) – BE0 0 home battery discharger-2045",
         "type": "scatter",
         "x": [],
         "y": []
        },
        {
         "mode": "lines",
         "name": "1H Res, 1-Zone (DE) – CH0 0 home battery discharger-2045",
         "type": "scatter",
         "x": [],
         "y": []
        },
        {
         "mode": "lines",
         "name": "1H Res, 1-Zone (DE) – CZ0 0 home battery discharger-2045",
         "type": "scatter",
         "x": [],
         "y": []
        },
        {
         "mode": "lines",
         "name": "1H Res, 1-Zone (DE) – DE0 0 home battery discharger-2045",
         "type": "scatter",
         "x": [],
         "y": []
        },
        {
         "mode": "lines",
         "name": "1H Res, 1-Zone (DE) – DK0 0 home battery discharger-2045",
         "type": "scatter",
         "x": [],
         "y": []
        },
        {
         "mode": "lines",
         "name": "1H Res, 1-Zone (DE) – DK1 0 home battery discharger-2045",
         "type": "scatter",
         "x": [],
         "y": []
        },
        {
         "mode": "lines",
         "name": "1H Res, 1-Zone (DE) – ES0 0 home battery discharger-2045",
         "type": "scatter",
         "x": [],
         "y": []
        },
        {
         "mode": "lines",
         "name": "1H Res, 1-Zone (DE) – ES6 0 home battery discharger-2045",
         "type": "scatter",
         "x": [],
         "y": []
        },
        {
         "mode": "lines",
         "name": "1H Res, 1-Zone (DE) – FR0 0 home battery discharger-2045",
         "type": "scatter",
         "x": [],
         "y": []
        },
        {
         "mode": "lines",
         "name": "1H Res, 1-Zone (DE) – FR4 0 home battery discharger-2045",
         "type": "scatter",
         "x": [],
         "y": []
        },
        {
         "mode": "lines",
         "name": "1H Res, 1-Zone (DE) – GB2 0 home battery discharger-2045",
         "type": "scatter",
         "x": [],
         "y": []
        },
        {
         "mode": "lines",
         "name": "1H Res, 1-Zone (DE) – GB5 0 home battery discharger-2045",
         "type": "scatter",
         "x": [],
         "y": []
        },
        {
         "mode": "lines",
         "name": "1H Res, 1-Zone (DE) – IT0 0 home battery discharger-2045",
         "type": "scatter",
         "x": [],
         "y": []
        },
        {
         "mode": "lines",
         "name": "1H Res, 1-Zone (DE) – IT3 0 home battery discharger-2045",
         "type": "scatter",
         "x": [],
         "y": []
        },
        {
         "mode": "lines",
         "name": "1H Res, 1-Zone (DE) – LU0 0 home battery discharger-2045",
         "type": "scatter",
         "x": [],
         "y": []
        },
        {
         "mode": "lines",
         "name": "1H Res, 1-Zone (DE) – NL0 0 home battery discharger-2045",
         "type": "scatter",
         "x": [],
         "y": []
        },
        {
         "mode": "lines",
         "name": "1H Res, 1-Zone (DE) – NO1 0 home battery discharger-2045",
         "type": "scatter",
         "x": [],
         "y": []
        },
        {
         "mode": "lines",
         "name": "1H Res, 1-Zone (DE) – PL0 0 home battery discharger-2045",
         "type": "scatter",
         "x": [],
         "y": []
        },
        {
         "mode": "lines",
         "name": "1H Res, 1-Zone (DE) – SE1 0 home battery discharger-2045",
         "type": "scatter",
         "x": [],
         "y": []
        },
        {
         "mode": "lines",
         "name": "1H Res, 1-Zone (DE) – AT0 0 rural water tanks discharger-2045",
         "type": "scatter",
         "x": [],
         "y": []
        },
        {
         "mode": "lines",
         "name": "1H Res, 1-Zone (DE) – AT0 0 urban decentral water tanks discharger-2045",
         "type": "scatter",
         "x": [],
         "y": []
        },
        {
         "mode": "lines",
         "name": "1H Res, 1-Zone (DE) – BE0 0 rural water tanks discharger-2045",
         "type": "scatter",
         "x": [],
         "y": []
        },
        {
         "mode": "lines",
         "name": "1H Res, 1-Zone (DE) – BE0 0 urban decentral water tanks discharger-2045",
         "type": "scatter",
         "x": [],
         "y": []
        },
        {
         "mode": "lines",
         "name": "1H Res, 1-Zone (DE) – CH0 0 rural water tanks discharger-2045",
         "type": "scatter",
         "x": [],
         "y": []
        },
        {
         "mode": "lines",
         "name": "1H Res, 1-Zone (DE) – CH0 0 urban decentral water tanks discharger-2045",
         "type": "scatter",
         "x": [],
         "y": []
        },
        {
         "mode": "lines",
         "name": "1H Res, 1-Zone (DE) – CZ0 0 rural water tanks discharger-2045",
         "type": "scatter",
         "x": [],
         "y": []
        },
        {
         "mode": "lines",
         "name": "1H Res, 1-Zone (DE) – CZ0 0 urban decentral water tanks discharger-2045",
         "type": "scatter",
         "x": [],
         "y": []
        },
        {
         "mode": "lines",
         "name": "1H Res, 1-Zone (DE) – DE0 0 rural water tanks discharger-2045",
         "type": "scatter",
         "x": [],
         "y": []
        },
        {
         "mode": "lines",
         "name": "1H Res, 1-Zone (DE) – DE0 0 urban decentral water tanks discharger-2045",
         "type": "scatter",
         "x": [],
         "y": []
        },
        {
         "mode": "lines",
         "name": "1H Res, 1-Zone (DE) – DK0 0 rural water tanks discharger-2045",
         "type": "scatter",
         "x": [],
         "y": []
        },
        {
         "mode": "lines",
         "name": "1H Res, 1-Zone (DE) – DK0 0 urban decentral water tanks discharger-2045",
         "type": "scatter",
         "x": [],
         "y": []
        },
        {
         "mode": "lines",
         "name": "1H Res, 1-Zone (DE) – DK1 0 rural water tanks discharger-2045",
         "type": "scatter",
         "x": [],
         "y": []
        },
        {
         "mode": "lines",
         "name": "1H Res, 1-Zone (DE) – DK1 0 urban decentral water tanks discharger-2045",
         "type": "scatter",
         "x": [],
         "y": []
        },
        {
         "mode": "lines",
         "name": "1H Res, 1-Zone (DE) – ES0 0 rural water tanks discharger-2045",
         "type": "scatter",
         "x": [],
         "y": []
        },
        {
         "mode": "lines",
         "name": "1H Res, 1-Zone (DE) – ES0 0 urban decentral water tanks discharger-2045",
         "type": "scatter",
         "x": [],
         "y": []
        },
        {
         "mode": "lines",
         "name": "1H Res, 1-Zone (DE) – ES6 0 rural water tanks discharger-2045",
         "type": "scatter",
         "x": [],
         "y": []
        },
        {
         "mode": "lines",
         "name": "1H Res, 1-Zone (DE) – ES6 0 urban decentral water tanks discharger-2045",
         "type": "scatter",
         "x": [],
         "y": []
        },
        {
         "mode": "lines",
         "name": "1H Res, 1-Zone (DE) – FR0 0 rural water tanks discharger-2045",
         "type": "scatter",
         "x": [],
         "y": []
        },
        {
         "mode": "lines",
         "name": "1H Res, 1-Zone (DE) – FR0 0 urban decentral water tanks discharger-2045",
         "type": "scatter",
         "x": [],
         "y": []
        },
        {
         "mode": "lines",
         "name": "1H Res, 1-Zone (DE) – FR4 0 rural water tanks discharger-2045",
         "type": "scatter",
         "x": [],
         "y": []
        },
        {
         "mode": "lines",
         "name": "1H Res, 1-Zone (DE) – FR4 0 urban decentral water tanks discharger-2045",
         "type": "scatter",
         "x": [],
         "y": []
        },
        {
         "mode": "lines",
         "name": "1H Res, 1-Zone (DE) – GB2 0 rural water tanks discharger-2045",
         "type": "scatter",
         "x": [],
         "y": []
        },
        {
         "mode": "lines",
         "name": "1H Res, 1-Zone (DE) – GB2 0 urban decentral water tanks discharger-2045",
         "type": "scatter",
         "x": [],
         "y": []
        },
        {
         "mode": "lines",
         "name": "1H Res, 1-Zone (DE) – GB5 0 rural water tanks discharger-2045",
         "type": "scatter",
         "x": [],
         "y": []
        },
        {
         "mode": "lines",
         "name": "1H Res, 1-Zone (DE) – GB5 0 urban decentral water tanks discharger-2045",
         "type": "scatter",
         "x": [],
         "y": []
        },
        {
         "mode": "lines",
         "name": "1H Res, 1-Zone (DE) – IT0 0 rural water tanks discharger-2045",
         "type": "scatter",
         "x": [],
         "y": []
        },
        {
         "mode": "lines",
         "name": "1H Res, 1-Zone (DE) – IT0 0 urban decentral water tanks discharger-2045",
         "type": "scatter",
         "x": [],
         "y": []
        },
        {
         "mode": "lines",
         "name": "1H Res, 1-Zone (DE) – IT3 0 rural water tanks discharger-2045",
         "type": "scatter",
         "x": [],
         "y": []
        },
        {
         "mode": "lines",
         "name": "1H Res, 1-Zone (DE) – IT3 0 urban decentral water tanks discharger-2045",
         "type": "scatter",
         "x": [],
         "y": []
        },
        {
         "mode": "lines",
         "name": "1H Res, 1-Zone (DE) – LU0 0 rural water tanks discharger-2045",
         "type": "scatter",
         "x": [],
         "y": []
        },
        {
         "mode": "lines",
         "name": "1H Res, 1-Zone (DE) – LU0 0 urban decentral water tanks discharger-2045",
         "type": "scatter",
         "x": [],
         "y": []
        },
        {
         "mode": "lines",
         "name": "1H Res, 1-Zone (DE) – NL0 0 rural water tanks discharger-2045",
         "type": "scatter",
         "x": [],
         "y": []
        },
        {
         "mode": "lines",
         "name": "1H Res, 1-Zone (DE) – NL0 0 urban decentral water tanks discharger-2045",
         "type": "scatter",
         "x": [],
         "y": []
        },
        {
         "mode": "lines",
         "name": "1H Res, 1-Zone (DE) – NO1 0 rural water tanks discharger-2045",
         "type": "scatter",
         "x": [],
         "y": []
        },
        {
         "mode": "lines",
         "name": "1H Res, 1-Zone (DE) – NO1 0 urban decentral water tanks discharger-2045",
         "type": "scatter",
         "x": [],
         "y": []
        },
        {
         "mode": "lines",
         "name": "1H Res, 1-Zone (DE) – PL0 0 rural water tanks discharger-2045",
         "type": "scatter",
         "x": [],
         "y": []
        },
        {
         "mode": "lines",
         "name": "1H Res, 1-Zone (DE) – PL0 0 urban decentral water tanks discharger-2045",
         "type": "scatter",
         "x": [],
         "y": []
        },
        {
         "mode": "lines",
         "name": "1H Res, 1-Zone (DE) – SE1 0 rural water tanks discharger-2045",
         "type": "scatter",
         "x": [],
         "y": []
        },
        {
         "mode": "lines",
         "name": "1H Res, 1-Zone (DE) – SE1 0 urban decentral water tanks discharger-2045",
         "type": "scatter",
         "x": [],
         "y": []
        },
        {
         "mode": "lines",
         "name": "1H Res, 1-Zone (DE) – AT0 0 battery discharger-2040",
         "type": "scatter",
         "x": [],
         "y": []
        },
        {
         "mode": "lines",
         "name": "1H Res, 1-Zone (DE) – BE0 0 battery discharger-2040",
         "type": "scatter",
         "x": [],
         "y": []
        },
        {
         "mode": "lines",
         "name": "1H Res, 1-Zone (DE) – CH0 0 battery discharger-2040",
         "type": "scatter",
         "x": [],
         "y": []
        },
        {
         "mode": "lines",
         "name": "1H Res, 1-Zone (DE) – CZ0 0 battery discharger-2040",
         "type": "scatter",
         "x": [],
         "y": []
        },
        {
         "mode": "lines",
         "name": "1H Res, 1-Zone (DE) – DE0 0 battery discharger-2040",
         "type": "scatter",
         "x": [],
         "y": []
        },
        {
         "mode": "lines",
         "name": "1H Res, 1-Zone (DE) – ES0 0 battery discharger-2040",
         "type": "scatter",
         "x": [],
         "y": []
        },
        {
         "mode": "lines",
         "name": "1H Res, 1-Zone (DE) – ES6 0 battery discharger-2040",
         "type": "scatter",
         "x": [],
         "y": []
        },
        {
         "mode": "lines",
         "name": "1H Res, 1-Zone (DE) – FR0 0 battery discharger-2040",
         "type": "scatter",
         "x": [],
         "y": []
        },
        {
         "mode": "lines",
         "name": "1H Res, 1-Zone (DE) – GB2 0 battery discharger-2040",
         "type": "scatter",
         "x": [],
         "y": []
        },
        {
         "mode": "lines",
         "name": "1H Res, 1-Zone (DE) – IT0 0 battery discharger-2040",
         "type": "scatter",
         "x": [],
         "y": []
        },
        {
         "mode": "lines",
         "name": "1H Res, 1-Zone (DE) – IT3 0 battery discharger-2040",
         "type": "scatter",
         "x": [],
         "y": []
        },
        {
         "mode": "lines",
         "name": "1H Res, 1-Zone (DE) – NL0 0 battery discharger-2040",
         "type": "scatter",
         "x": [],
         "y": []
        },
        {
         "mode": "lines",
         "name": "1H Res, 1-Zone (DE) – PL0 0 battery discharger-2040",
         "type": "scatter",
         "x": [],
         "y": []
        },
        {
         "mode": "lines",
         "name": "1H Res, 1-Zone (DE) – AT0 0 urban central water pits discharger-2040",
         "type": "scatter",
         "x": [],
         "y": []
        },
        {
         "mode": "lines",
         "name": "1H Res, 1-Zone (DE) – BE0 0 urban central water pits discharger-2040",
         "type": "scatter",
         "x": [],
         "y": []
        },
        {
         "mode": "lines",
         "name": "1H Res, 1-Zone (DE) – CH0 0 urban central water pits discharger-2040",
         "type": "scatter",
         "x": [],
         "y": []
        },
        {
         "mode": "lines",
         "name": "1H Res, 1-Zone (DE) – CZ0 0 urban central water pits discharger-2040",
         "type": "scatter",
         "x": [],
         "y": []
        },
        {
         "mode": "lines",
         "name": "1H Res, 1-Zone (DE) – DK0 0 urban central water pits discharger-2040",
         "type": "scatter",
         "x": [],
         "y": []
        },
        {
         "mode": "lines",
         "name": "1H Res, 1-Zone (DE) – DK1 0 urban central water pits discharger-2040",
         "type": "scatter",
         "x": [],
         "y": []
        },
        {
         "mode": "lines",
         "name": "1H Res, 1-Zone (DE) – ES0 0 urban central water pits discharger-2040",
         "type": "scatter",
         "x": [],
         "y": []
        },
        {
         "mode": "lines",
         "name": "1H Res, 1-Zone (DE) – ES6 0 urban central water pits discharger-2040",
         "type": "scatter",
         "x": [],
         "y": []
        },
        {
         "mode": "lines",
         "name": "1H Res, 1-Zone (DE) – FR0 0 urban central water pits discharger-2040",
         "type": "scatter",
         "x": [],
         "y": []
        },
        {
         "mode": "lines",
         "name": "1H Res, 1-Zone (DE) – IT0 0 urban central water pits discharger-2040",
         "type": "scatter",
         "x": [],
         "y": []
        },
        {
         "mode": "lines",
         "name": "1H Res, 1-Zone (DE) – PL0 0 urban central water pits discharger-2040",
         "type": "scatter",
         "x": [],
         "y": []
        },
        {
         "mode": "lines",
         "name": "1H Res, 1-Zone (DE) – SE1 0 urban central water pits discharger-2040",
         "type": "scatter",
         "x": [],
         "y": []
        },
        {
         "mode": "lines",
         "name": "1H Res, 1-Zone (DE) – CH0 0 home battery discharger-2040",
         "type": "scatter",
         "x": [],
         "y": []
        },
        {
         "mode": "lines",
         "name": "1H Res, 1-Zone (DE) – CZ0 0 home battery discharger-2040",
         "type": "scatter",
         "x": [],
         "y": []
        },
        {
         "mode": "lines",
         "name": "1H Res, 1-Zone (DE) – DE0 0 home battery discharger-2040",
         "type": "scatter",
         "x": [],
         "y": []
        },
        {
         "mode": "lines",
         "name": "1H Res, 1-Zone (DE) – DK1 0 home battery discharger-2040",
         "type": "scatter",
         "x": [],
         "y": []
        },
        {
         "mode": "lines",
         "name": "1H Res, 1-Zone (DE) – ES0 0 home battery discharger-2040",
         "type": "scatter",
         "x": [],
         "y": []
        },
        {
         "mode": "lines",
         "name": "1H Res, 1-Zone (DE) – FR0 0 home battery discharger-2040",
         "type": "scatter",
         "x": [],
         "y": []
        },
        {
         "mode": "lines",
         "name": "1H Res, 1-Zone (DE) – FR4 0 home battery discharger-2040",
         "type": "scatter",
         "x": [],
         "y": []
        },
        {
         "mode": "lines",
         "name": "1H Res, 1-Zone (DE) – GB2 0 home battery discharger-2040",
         "type": "scatter",
         "x": [],
         "y": []
        },
        {
         "mode": "lines",
         "name": "1H Res, 1-Zone (DE) – IT0 0 home battery discharger-2040",
         "type": "scatter",
         "x": [],
         "y": []
        },
        {
         "mode": "lines",
         "name": "1H Res, 1-Zone (DE) – IT3 0 home battery discharger-2040",
         "type": "scatter",
         "x": [],
         "y": []
        },
        {
         "mode": "lines",
         "name": "1H Res, 1-Zone (DE) – NL0 0 home battery discharger-2040",
         "type": "scatter",
         "x": [],
         "y": []
        },
        {
         "mode": "lines",
         "name": "1H Res, 1-Zone (DE) – PL0 0 home battery discharger-2040",
         "type": "scatter",
         "x": [],
         "y": []
        },
        {
         "mode": "lines",
         "name": "1H Res, 1-Zone (DE) – SE1 0 home battery discharger-2040",
         "type": "scatter",
         "x": [],
         "y": []
        },
        {
         "mode": "lines",
         "name": "1H Res, 1-Zone (DE) – CZ0 0 rural water tanks discharger-2040",
         "type": "scatter",
         "x": [],
         "y": []
        },
        {
         "mode": "lines",
         "name": "1H Res, 1-Zone (DE) – IT0 0 rural water tanks discharger-2040",
         "type": "scatter",
         "x": [],
         "y": []
        },
        {
         "mode": "lines",
         "name": "1H Res, 1-Zone (DE) – PL0 0 rural water tanks discharger-2040",
         "type": "scatter",
         "x": [],
         "y": []
        },
        {
         "mode": "lines",
         "name": "1H Res, 1-Zone (DE) – PL0 0 urban decentral water tanks discharger-2040",
         "type": "scatter",
         "x": [],
         "y": []
        },
        {
         "mode": "lines",
         "name": "1H Res, 1-Zone (DE) – SE1 0 rural water tanks discharger-2040",
         "type": "scatter",
         "x": [],
         "y": []
        },
        {
         "mode": "lines",
         "name": "1H Res, 1-Zone (DE) – AT0 0 urban central water pits discharger-2035",
         "type": "scatter",
         "x": [],
         "y": []
        },
        {
         "mode": "lines",
         "name": "1H Res, 1-Zone (DE) – BE0 0 urban central water pits discharger-2035",
         "type": "scatter",
         "x": [],
         "y": []
        },
        {
         "mode": "lines",
         "name": "1H Res, 1-Zone (DE) – CH0 0 urban central water pits discharger-2035",
         "type": "scatter",
         "x": [],
         "y": []
        },
        {
         "mode": "lines",
         "name": "1H Res, 1-Zone (DE) – CZ0 0 urban central water pits discharger-2035",
         "type": "scatter",
         "x": [],
         "y": []
        },
        {
         "mode": "lines",
         "name": "1H Res, 1-Zone (DE) – DE0 0 urban central water pits discharger-2035",
         "type": "scatter",
         "x": [],
         "y": []
        },
        {
         "mode": "lines",
         "name": "1H Res, 1-Zone (DE) – DK0 0 urban central water pits discharger-2035",
         "type": "scatter",
         "x": [],
         "y": []
        },
        {
         "mode": "lines",
         "name": "1H Res, 1-Zone (DE) – DK1 0 urban central water pits discharger-2035",
         "type": "scatter",
         "x": [],
         "y": []
        },
        {
         "mode": "lines",
         "name": "1H Res, 1-Zone (DE) – ES0 0 urban central water pits discharger-2035",
         "type": "scatter",
         "x": [],
         "y": []
        },
        {
         "mode": "lines",
         "name": "1H Res, 1-Zone (DE) – ES6 0 urban central water pits discharger-2035",
         "type": "scatter",
         "x": [],
         "y": []
        },
        {
         "mode": "lines",
         "name": "1H Res, 1-Zone (DE) – FR0 0 urban central water pits discharger-2035",
         "type": "scatter",
         "x": [],
         "y": []
        },
        {
         "mode": "lines",
         "name": "1H Res, 1-Zone (DE) – GB2 0 urban central water pits discharger-2035",
         "type": "scatter",
         "x": [],
         "y": []
        },
        {
         "mode": "lines",
         "name": "1H Res, 1-Zone (DE) – GB5 0 urban central water pits discharger-2035",
         "type": "scatter",
         "x": [],
         "y": []
        },
        {
         "mode": "lines",
         "name": "1H Res, 1-Zone (DE) – IT0 0 urban central water pits discharger-2035",
         "type": "scatter",
         "x": [],
         "y": []
        },
        {
         "mode": "lines",
         "name": "1H Res, 1-Zone (DE) – IT3 0 urban central water pits discharger-2035",
         "type": "scatter",
         "x": [],
         "y": []
        },
        {
         "mode": "lines",
         "name": "1H Res, 1-Zone (DE) – LU0 0 urban central water pits discharger-2035",
         "type": "scatter",
         "x": [],
         "y": []
        },
        {
         "mode": "lines",
         "name": "1H Res, 1-Zone (DE) – NL0 0 urban central water pits discharger-2035",
         "type": "scatter",
         "x": [],
         "y": []
        },
        {
         "mode": "lines",
         "name": "1H Res, 1-Zone (DE) – NO1 0 urban central water pits discharger-2035",
         "type": "scatter",
         "x": [],
         "y": []
        },
        {
         "mode": "lines",
         "name": "1H Res, 1-Zone (DE) – PL0 0 urban central water pits discharger-2035",
         "type": "scatter",
         "x": [],
         "y": []
        },
        {
         "mode": "lines",
         "name": "1H Res, 1-Zone (DE) – SE1 0 urban central water pits discharger-2035",
         "type": "scatter",
         "x": [],
         "y": []
        },
        {
         "mode": "lines",
         "name": "1H Res, 1-Zone (DE) – AT0 0 rural water tanks discharger-2035",
         "type": "scatter",
         "x": [],
         "y": []
        },
        {
         "mode": "lines",
         "name": "1H Res, 1-Zone (DE) – CZ0 0 rural water tanks discharger-2035",
         "type": "scatter",
         "x": [],
         "y": []
        },
        {
         "mode": "lines",
         "name": "1H Res, 1-Zone (DE) – DE0 0 rural water tanks discharger-2035",
         "type": "scatter",
         "x": [],
         "y": []
        },
        {
         "mode": "lines",
         "name": "1H Res, 1-Zone (DE) – DE0 0 urban decentral water tanks discharger-2035",
         "type": "scatter",
         "x": [],
         "y": []
        },
        {
         "mode": "lines",
         "name": "1H Res, 1-Zone (DE) – DK0 0 urban decentral water tanks discharger-2035",
         "type": "scatter",
         "x": [],
         "y": []
        },
        {
         "mode": "lines",
         "name": "1H Res, 1-Zone (DE) – FR0 0 rural water tanks discharger-2035",
         "type": "scatter",
         "x": [],
         "y": []
        },
        {
         "mode": "lines",
         "name": "1H Res, 1-Zone (DE) – GB2 0 rural water tanks discharger-2035",
         "type": "scatter",
         "x": [],
         "y": []
        },
        {
         "mode": "lines",
         "name": "1H Res, 1-Zone (DE) – GB2 0 urban decentral water tanks discharger-2035",
         "type": "scatter",
         "x": [],
         "y": []
        },
        {
         "mode": "lines",
         "name": "1H Res, 1-Zone (DE) – GB5 0 rural water tanks discharger-2035",
         "type": "scatter",
         "x": [],
         "y": []
        },
        {
         "mode": "lines",
         "name": "1H Res, 1-Zone (DE) – GB5 0 urban decentral water tanks discharger-2035",
         "type": "scatter",
         "x": [],
         "y": []
        },
        {
         "mode": "lines",
         "name": "1H Res, 1-Zone (DE) – IT0 0 rural water tanks discharger-2035",
         "type": "scatter",
         "x": [],
         "y": []
        },
        {
         "mode": "lines",
         "name": "1H Res, 1-Zone (DE) – NL0 0 urban decentral water tanks discharger-2035",
         "type": "scatter",
         "x": [],
         "y": []
        },
        {
         "mode": "lines",
         "name": "1H Res, 1-Zone (DE) – PL0 0 rural water tanks discharger-2035",
         "type": "scatter",
         "x": [],
         "y": []
        },
        {
         "mode": "lines",
         "name": "1H Res, 1-Zone (DE) – PL0 0 urban decentral water tanks discharger-2035",
         "type": "scatter",
         "x": [],
         "y": []
        },
        {
         "mode": "lines",
         "name": "1H Res, 1-Zone (DE) – AT0 0 urban central water pits discharger-2030",
         "type": "scatter",
         "x": [],
         "y": []
        },
        {
         "mode": "lines",
         "name": "1H Res, 1-Zone (DE) – BE0 0 urban central water pits discharger-2030",
         "type": "scatter",
         "x": [],
         "y": []
        },
        {
         "mode": "lines",
         "name": "1H Res, 1-Zone (DE) – CH0 0 urban central water pits discharger-2030",
         "type": "scatter",
         "x": [],
         "y": []
        },
        {
         "mode": "lines",
         "name": "1H Res, 1-Zone (DE) – CZ0 0 urban central water pits discharger-2030",
         "type": "scatter",
         "x": [],
         "y": []
        },
        {
         "mode": "lines",
         "name": "1H Res, 1-Zone (DE) – DE0 0 urban central water pits discharger-2030",
         "type": "scatter",
         "x": [],
         "y": []
        },
        {
         "mode": "lines",
         "name": "1H Res, 1-Zone (DE) – DK0 0 urban central water pits discharger-2030",
         "type": "scatter",
         "x": [],
         "y": []
        },
        {
         "mode": "lines",
         "name": "1H Res, 1-Zone (DE) – ES0 0 urban central water pits discharger-2030",
         "type": "scatter",
         "x": [],
         "y": []
        },
        {
         "mode": "lines",
         "name": "1H Res, 1-Zone (DE) – FR0 0 urban central water pits discharger-2030",
         "type": "scatter",
         "x": [],
         "y": []
        },
        {
         "mode": "lines",
         "name": "1H Res, 1-Zone (DE) – GB2 0 urban central water pits discharger-2030",
         "type": "scatter",
         "x": [],
         "y": []
        },
        {
         "mode": "lines",
         "name": "1H Res, 1-Zone (DE) – GB5 0 urban central water pits discharger-2030",
         "type": "scatter",
         "x": [],
         "y": []
        },
        {
         "mode": "lines",
         "name": "1H Res, 1-Zone (DE) – IT0 0 urban central water pits discharger-2030",
         "type": "scatter",
         "x": [],
         "y": []
        },
        {
         "mode": "lines",
         "name": "1H Res, 1-Zone (DE) – IT3 0 urban central water pits discharger-2030",
         "type": "scatter",
         "x": [],
         "y": []
        },
        {
         "mode": "lines",
         "name": "1H Res, 1-Zone (DE) – LU0 0 urban central water pits discharger-2030",
         "type": "scatter",
         "x": [],
         "y": []
        },
        {
         "mode": "lines",
         "name": "1H Res, 1-Zone (DE) – NL0 0 urban central water pits discharger-2030",
         "type": "scatter",
         "x": [],
         "y": []
        },
        {
         "mode": "lines",
         "name": "1H Res, 1-Zone (DE) – NO1 0 urban central water pits discharger-2030",
         "type": "scatter",
         "x": [],
         "y": []
        },
        {
         "mode": "lines",
         "name": "1H Res, 1-Zone (DE) – PL0 0 urban central water pits discharger-2030",
         "type": "scatter",
         "x": [],
         "y": []
        },
        {
         "mode": "lines",
         "name": "1H Res, 1-Zone (DE) – SE1 0 urban central water pits discharger-2030",
         "type": "scatter",
         "x": [],
         "y": []
        },
        {
         "mode": "lines",
         "name": "1H Res, 1-Zone (DE) – CZ0 0 rural water tanks discharger-2030",
         "type": "scatter",
         "x": [],
         "y": []
        },
        {
         "mode": "lines",
         "name": "1H Res, 1-Zone (DE) – DE0 0 rural water tanks discharger-2030",
         "type": "scatter",
         "x": [],
         "y": []
        },
        {
         "mode": "lines",
         "name": "1H Res, 1-Zone (DE) – DE0 0 urban decentral water tanks discharger-2030",
         "type": "scatter",
         "x": [],
         "y": []
        },
        {
         "mode": "lines",
         "name": "1H Res, 1-Zone (DE) – DK1 0 urban decentral water tanks discharger-2030",
         "type": "scatter",
         "x": [],
         "y": []
        },
        {
         "mode": "lines",
         "name": "1H Res, 1-Zone (DE) – GB2 0 rural water tanks discharger-2030",
         "type": "scatter",
         "x": [],
         "y": []
        },
        {
         "mode": "lines",
         "name": "1H Res, 1-Zone (DE) – GB2 0 urban decentral water tanks discharger-2030",
         "type": "scatter",
         "x": [],
         "y": []
        },
        {
         "mode": "lines",
         "name": "1H Res, 1-Zone (DE) – GB5 0 rural water tanks discharger-2030",
         "type": "scatter",
         "x": [],
         "y": []
        },
        {
         "mode": "lines",
         "name": "1H Res, 1-Zone (DE) – GB5 0 urban decentral water tanks discharger-2030",
         "type": "scatter",
         "x": [],
         "y": []
        },
        {
         "mode": "lines",
         "name": "1H Res, 1-Zone (DE) – NL0 0 urban decentral water tanks discharger-2030",
         "type": "scatter",
         "x": [],
         "y": []
        },
        {
         "mode": "lines",
         "name": "1H Res, 1-Zone (DE) – AT0 0 urban central water pits discharger-2025",
         "type": "scatter",
         "x": [],
         "y": []
        },
        {
         "mode": "lines",
         "name": "1H Res, 1-Zone (DE) – BE0 0 urban central water pits discharger-2025",
         "type": "scatter",
         "x": [],
         "y": []
        },
        {
         "mode": "lines",
         "name": "1H Res, 1-Zone (DE) – CH0 0 urban central water pits discharger-2025",
         "type": "scatter",
         "x": [],
         "y": []
        },
        {
         "mode": "lines",
         "name": "1H Res, 1-Zone (DE) – CZ0 0 urban central water pits discharger-2025",
         "type": "scatter",
         "x": [],
         "y": []
        },
        {
         "mode": "lines",
         "name": "1H Res, 1-Zone (DE) – DE0 0 urban central water pits discharger-2025",
         "type": "scatter",
         "x": [],
         "y": []
        },
        {
         "mode": "lines",
         "name": "1H Res, 1-Zone (DE) – DK0 0 urban central water pits discharger-2025",
         "type": "scatter",
         "x": [],
         "y": []
        },
        {
         "mode": "lines",
         "name": "1H Res, 1-Zone (DE) – DK1 0 urban central water pits discharger-2025",
         "type": "scatter",
         "x": [],
         "y": []
        },
        {
         "mode": "lines",
         "name": "1H Res, 1-Zone (DE) – ES0 0 urban central water pits discharger-2025",
         "type": "scatter",
         "x": [],
         "y": []
        },
        {
         "mode": "lines",
         "name": "1H Res, 1-Zone (DE) – FR0 0 urban central water pits discharger-2025",
         "type": "scatter",
         "x": [],
         "y": []
        },
        {
         "mode": "lines",
         "name": "1H Res, 1-Zone (DE) – GB2 0 urban central water pits discharger-2025",
         "type": "scatter",
         "x": [],
         "y": []
        },
        {
         "mode": "lines",
         "name": "1H Res, 1-Zone (DE) – GB5 0 urban central water pits discharger-2025",
         "type": "scatter",
         "x": [],
         "y": []
        },
        {
         "mode": "lines",
         "name": "1H Res, 1-Zone (DE) – IT0 0 urban central water pits discharger-2025",
         "type": "scatter",
         "x": [],
         "y": []
        },
        {
         "mode": "lines",
         "name": "1H Res, 1-Zone (DE) – IT3 0 urban central water pits discharger-2025",
         "type": "scatter",
         "x": [],
         "y": []
        },
        {
         "mode": "lines",
         "name": "1H Res, 1-Zone (DE) – LU0 0 urban central water pits discharger-2025",
         "type": "scatter",
         "x": [],
         "y": []
        },
        {
         "mode": "lines",
         "name": "1H Res, 1-Zone (DE) – NL0 0 urban central water pits discharger-2025",
         "type": "scatter",
         "x": [],
         "y": []
        },
        {
         "mode": "lines",
         "name": "1H Res, 1-Zone (DE) – NO1 0 urban central water pits discharger-2025",
         "type": "scatter",
         "x": [],
         "y": []
        },
        {
         "mode": "lines",
         "name": "1H Res, 1-Zone (DE) – SE1 0 urban central water pits discharger-2025",
         "type": "scatter",
         "x": [],
         "y": []
        },
        {
         "mode": "lines",
         "name": "1H Res, 1-Zone (DE) – AT0 0 rural water tanks discharger-2025",
         "type": "scatter",
         "x": [],
         "y": []
        },
        {
         "mode": "lines",
         "name": "1H Res, 1-Zone (DE) – AT0 0 urban decentral water tanks discharger-2025",
         "type": "scatter",
         "x": [],
         "y": []
        },
        {
         "mode": "lines",
         "name": "1H Res, 1-Zone (DE) – BE0 0 rural water tanks discharger-2025",
         "type": "scatter",
         "x": [],
         "y": []
        },
        {
         "mode": "lines",
         "name": "1H Res, 1-Zone (DE) – BE0 0 urban decentral water tanks discharger-2025",
         "type": "scatter",
         "x": [],
         "y": []
        },
        {
         "mode": "lines",
         "name": "1H Res, 1-Zone (DE) – CZ0 0 rural water tanks discharger-2025",
         "type": "scatter",
         "x": [],
         "y": []
        },
        {
         "mode": "lines",
         "name": "1H Res, 1-Zone (DE) – CZ0 0 urban decentral water tanks discharger-2025",
         "type": "scatter",
         "x": [],
         "y": []
        },
        {
         "mode": "lines",
         "name": "1H Res, 1-Zone (DE) – DE0 0 rural water tanks discharger-2025",
         "type": "scatter",
         "x": [],
         "y": []
        },
        {
         "mode": "lines",
         "name": "1H Res, 1-Zone (DE) – DE0 0 urban decentral water tanks discharger-2025",
         "type": "scatter",
         "x": [],
         "y": []
        },
        {
         "mode": "lines",
         "name": "1H Res, 1-Zone (DE) – DK1 0 urban decentral water tanks discharger-2025",
         "type": "scatter",
         "x": [],
         "y": []
        },
        {
         "mode": "lines",
         "name": "1H Res, 1-Zone (DE) – ES0 0 rural water tanks discharger-2025",
         "type": "scatter",
         "x": [],
         "y": []
        },
        {
         "mode": "lines",
         "name": "1H Res, 1-Zone (DE) – ES0 0 urban decentral water tanks discharger-2025",
         "type": "scatter",
         "x": [],
         "y": []
        },
        {
         "mode": "lines",
         "name": "1H Res, 1-Zone (DE) – FR0 0 rural water tanks discharger-2025",
         "type": "scatter",
         "x": [],
         "y": []
        },
        {
         "mode": "lines",
         "name": "1H Res, 1-Zone (DE) – FR0 0 urban decentral water tanks discharger-2025",
         "type": "scatter",
         "x": [],
         "y": []
        },
        {
         "mode": "lines",
         "name": "1H Res, 1-Zone (DE) – GB2 0 rural water tanks discharger-2025",
         "type": "scatter",
         "x": [],
         "y": []
        },
        {
         "mode": "lines",
         "name": "1H Res, 1-Zone (DE) – GB2 0 urban decentral water tanks discharger-2025",
         "type": "scatter",
         "x": [],
         "y": []
        },
        {
         "mode": "lines",
         "name": "1H Res, 1-Zone (DE) – GB5 0 rural water tanks discharger-2025",
         "type": "scatter",
         "x": [],
         "y": []
        },
        {
         "mode": "lines",
         "name": "1H Res, 1-Zone (DE) – IT0 0 rural water tanks discharger-2025",
         "type": "scatter",
         "x": [],
         "y": []
        },
        {
         "mode": "lines",
         "name": "1H Res, 1-Zone (DE) – IT0 0 urban decentral water tanks discharger-2025",
         "type": "scatter",
         "x": [],
         "y": []
        },
        {
         "mode": "lines",
         "name": "1H Res, 1-Zone (DE) – IT3 0 rural water tanks discharger-2025",
         "type": "scatter",
         "x": [],
         "y": []
        },
        {
         "mode": "lines",
         "name": "1H Res, 1-Zone (DE) – IT3 0 urban decentral water tanks discharger-2025",
         "type": "scatter",
         "x": [],
         "y": []
        },
        {
         "mode": "lines",
         "name": "1H Res, 1-Zone (DE) – NL0 0 rural water tanks discharger-2025",
         "type": "scatter",
         "x": [],
         "y": []
        },
        {
         "mode": "lines",
         "name": "1H Res, 1-Zone (DE) – NL0 0 urban decentral water tanks discharger-2025",
         "type": "scatter",
         "x": [],
         "y": []
        },
        {
         "mode": "lines",
         "name": "1H Res, 1-Zone (DE) – PL0 0 rural water tanks discharger-2025",
         "type": "scatter",
         "x": [],
         "y": []
        },
        {
         "mode": "lines",
         "name": "1H Res, 1-Zone (DE) – PL0 0 urban decentral water tanks discharger-2025",
         "type": "scatter",
         "x": [],
         "y": []
        },
        {
         "mode": "lines",
         "name": "1H Res, 1-Zone (DE) – SE1 0 rural water tanks discharger-2025",
         "type": "scatter",
         "x": [],
         "y": []
        },
        {
         "mode": "lines",
         "name": "1H Res, 1-Zone (DE) – AT0 0 rural water tanks discharger-2020",
         "type": "scatter",
         "x": [],
         "y": []
        },
        {
         "mode": "lines",
         "name": "1H Res, 1-Zone (DE) – AT0 0 urban decentral water tanks discharger-2020",
         "type": "scatter",
         "x": [],
         "y": []
        },
        {
         "mode": "lines",
         "name": "1H Res, 1-Zone (DE) – BE0 0 rural water tanks discharger-2020",
         "type": "scatter",
         "x": [],
         "y": []
        },
        {
         "mode": "lines",
         "name": "1H Res, 1-Zone (DE) – BE0 0 urban decentral water tanks discharger-2020",
         "type": "scatter",
         "x": [],
         "y": []
        },
        {
         "mode": "lines",
         "name": "1H Res, 1-Zone (DE) – CH0 0 rural water tanks discharger-2020",
         "type": "scatter",
         "x": [],
         "y": []
        },
        {
         "mode": "lines",
         "name": "1H Res, 1-Zone (DE) – CH0 0 urban decentral water tanks discharger-2020",
         "type": "scatter",
         "x": [],
         "y": []
        },
        {
         "mode": "lines",
         "name": "1H Res, 1-Zone (DE) – CZ0 0 rural water tanks discharger-2020",
         "type": "scatter",
         "x": [],
         "y": []
        },
        {
         "mode": "lines",
         "name": "1H Res, 1-Zone (DE) – CZ0 0 urban decentral water tanks discharger-2020",
         "type": "scatter",
         "x": [],
         "y": []
        },
        {
         "mode": "lines",
         "name": "1H Res, 1-Zone (DE) – DE0 0 rural water tanks discharger-2020",
         "type": "scatter",
         "x": [],
         "y": []
        },
        {
         "mode": "lines",
         "name": "1H Res, 1-Zone (DE) – DK0 0 rural water tanks discharger-2020",
         "type": "scatter",
         "x": [],
         "y": []
        },
        {
         "mode": "lines",
         "name": "1H Res, 1-Zone (DE) – DK0 0 urban decentral water tanks discharger-2020",
         "type": "scatter",
         "x": [],
         "y": []
        },
        {
         "mode": "lines",
         "name": "1H Res, 1-Zone (DE) – DK1 0 rural water tanks discharger-2020",
         "type": "scatter",
         "x": [],
         "y": []
        },
        {
         "mode": "lines",
         "name": "1H Res, 1-Zone (DE) – DK1 0 urban decentral water tanks discharger-2020",
         "type": "scatter",
         "x": [],
         "y": []
        },
        {
         "mode": "lines",
         "name": "1H Res, 1-Zone (DE) – ES0 0 rural water tanks discharger-2020",
         "type": "scatter",
         "x": [],
         "y": []
        },
        {
         "mode": "lines",
         "name": "1H Res, 1-Zone (DE) – ES0 0 urban decentral water tanks discharger-2020",
         "type": "scatter",
         "x": [],
         "y": []
        },
        {
         "mode": "lines",
         "name": "1H Res, 1-Zone (DE) – ES6 0 rural water tanks discharger-2020",
         "type": "scatter",
         "x": [],
         "y": []
        },
        {
         "mode": "lines",
         "name": "1H Res, 1-Zone (DE) – ES6 0 urban decentral water tanks discharger-2020",
         "type": "scatter",
         "x": [],
         "y": []
        },
        {
         "mode": "lines",
         "name": "1H Res, 1-Zone (DE) – FR0 0 rural water tanks discharger-2020",
         "type": "scatter",
         "x": [],
         "y": []
        },
        {
         "mode": "lines",
         "name": "1H Res, 1-Zone (DE) – FR0 0 urban decentral water tanks discharger-2020",
         "type": "scatter",
         "x": [],
         "y": []
        },
        {
         "mode": "lines",
         "name": "1H Res, 1-Zone (DE) – FR4 0 rural water tanks discharger-2020",
         "type": "scatter",
         "x": [],
         "y": []
        },
        {
         "mode": "lines",
         "name": "1H Res, 1-Zone (DE) – GB2 0 rural water tanks discharger-2020",
         "type": "scatter",
         "x": [],
         "y": []
        },
        {
         "mode": "lines",
         "name": "1H Res, 1-Zone (DE) – GB2 0 urban decentral water tanks discharger-2020",
         "type": "scatter",
         "x": [],
         "y": []
        },
        {
         "mode": "lines",
         "name": "1H Res, 1-Zone (DE) – GB5 0 rural water tanks discharger-2020",
         "type": "scatter",
         "x": [],
         "y": []
        },
        {
         "mode": "lines",
         "name": "1H Res, 1-Zone (DE) – GB5 0 urban decentral water tanks discharger-2020",
         "type": "scatter",
         "x": [],
         "y": []
        },
        {
         "mode": "lines",
         "name": "1H Res, 1-Zone (DE) – IT0 0 rural water tanks discharger-2020",
         "type": "scatter",
         "x": [],
         "y": []
        },
        {
         "mode": "lines",
         "name": "1H Res, 1-Zone (DE) – IT0 0 urban decentral water tanks discharger-2020",
         "type": "scatter",
         "x": [],
         "y": []
        },
        {
         "mode": "lines",
         "name": "1H Res, 1-Zone (DE) – IT3 0 rural water tanks discharger-2020",
         "type": "scatter",
         "x": [],
         "y": []
        },
        {
         "mode": "lines",
         "name": "1H Res, 1-Zone (DE) – IT3 0 urban decentral water tanks discharger-2020",
         "type": "scatter",
         "x": [],
         "y": []
        },
        {
         "mode": "lines",
         "name": "1H Res, 1-Zone (DE) – LU0 0 rural water tanks discharger-2020",
         "type": "scatter",
         "x": [],
         "y": []
        },
        {
         "mode": "lines",
         "name": "1H Res, 1-Zone (DE) – LU0 0 urban decentral water tanks discharger-2020",
         "type": "scatter",
         "x": [],
         "y": []
        },
        {
         "mode": "lines",
         "name": "1H Res, 1-Zone (DE) – NL0 0 rural water tanks discharger-2020",
         "type": "scatter",
         "x": [],
         "y": []
        },
        {
         "mode": "lines",
         "name": "1H Res, 1-Zone (DE) – NO1 0 rural water tanks discharger-2020",
         "type": "scatter",
         "x": [],
         "y": []
        },
        {
         "mode": "lines",
         "name": "1H Res, 1-Zone (DE) – NO1 0 urban decentral water tanks discharger-2020",
         "type": "scatter",
         "x": [],
         "y": []
        },
        {
         "mode": "lines",
         "name": "1H Res, 1-Zone (DE) – PL0 0 rural water tanks discharger-2020",
         "type": "scatter",
         "x": [],
         "y": []
        },
        {
         "mode": "lines",
         "name": "1H Res, 1-Zone (DE) – PL0 0 urban decentral water tanks discharger-2020",
         "type": "scatter",
         "x": [],
         "y": []
        },
        {
         "mode": "lines",
         "name": "1H Res, 1-Zone (DE) – SE1 0 urban decentral water tanks discharger-2020",
         "type": "scatter",
         "x": [],
         "y": []
        }
       ],
       "layout": {
        "hovermode": "x unified",
        "legend": {
         "title": {
          "text": "Szenario – Link"
         }
        },
        "template": {
         "data": {
          "bar": [
           {
            "error_x": {
             "color": "#2a3f5f"
            },
            "error_y": {
             "color": "#2a3f5f"
            },
            "marker": {
             "line": {
              "color": "#E5ECF6",
              "width": 0.5
             },
             "pattern": {
              "fillmode": "overlay",
              "size": 10,
              "solidity": 0.2
             }
            },
            "type": "bar"
           }
          ],
          "barpolar": [
           {
            "marker": {
             "line": {
              "color": "#E5ECF6",
              "width": 0.5
             },
             "pattern": {
              "fillmode": "overlay",
              "size": 10,
              "solidity": 0.2
             }
            },
            "type": "barpolar"
           }
          ],
          "carpet": [
           {
            "aaxis": {
             "endlinecolor": "#2a3f5f",
             "gridcolor": "white",
             "linecolor": "white",
             "minorgridcolor": "white",
             "startlinecolor": "#2a3f5f"
            },
            "baxis": {
             "endlinecolor": "#2a3f5f",
             "gridcolor": "white",
             "linecolor": "white",
             "minorgridcolor": "white",
             "startlinecolor": "#2a3f5f"
            },
            "type": "carpet"
           }
          ],
          "choropleth": [
           {
            "colorbar": {
             "outlinewidth": 0,
             "ticks": ""
            },
            "type": "choropleth"
           }
          ],
          "contour": [
           {
            "colorbar": {
             "outlinewidth": 0,
             "ticks": ""
            },
            "colorscale": [
             [
              0,
              "#0d0887"
             ],
             [
              0.1111111111111111,
              "#46039f"
             ],
             [
              0.2222222222222222,
              "#7201a8"
             ],
             [
              0.3333333333333333,
              "#9c179e"
             ],
             [
              0.4444444444444444,
              "#bd3786"
             ],
             [
              0.5555555555555556,
              "#d8576b"
             ],
             [
              0.6666666666666666,
              "#ed7953"
             ],
             [
              0.7777777777777778,
              "#fb9f3a"
             ],
             [
              0.8888888888888888,
              "#fdca26"
             ],
             [
              1,
              "#f0f921"
             ]
            ],
            "type": "contour"
           }
          ],
          "contourcarpet": [
           {
            "colorbar": {
             "outlinewidth": 0,
             "ticks": ""
            },
            "type": "contourcarpet"
           }
          ],
          "heatmap": [
           {
            "colorbar": {
             "outlinewidth": 0,
             "ticks": ""
            },
            "colorscale": [
             [
              0,
              "#0d0887"
             ],
             [
              0.1111111111111111,
              "#46039f"
             ],
             [
              0.2222222222222222,
              "#7201a8"
             ],
             [
              0.3333333333333333,
              "#9c179e"
             ],
             [
              0.4444444444444444,
              "#bd3786"
             ],
             [
              0.5555555555555556,
              "#d8576b"
             ],
             [
              0.6666666666666666,
              "#ed7953"
             ],
             [
              0.7777777777777778,
              "#fb9f3a"
             ],
             [
              0.8888888888888888,
              "#fdca26"
             ],
             [
              1,
              "#f0f921"
             ]
            ],
            "type": "heatmap"
           }
          ],
          "histogram": [
           {
            "marker": {
             "pattern": {
              "fillmode": "overlay",
              "size": 10,
              "solidity": 0.2
             }
            },
            "type": "histogram"
           }
          ],
          "histogram2d": [
           {
            "colorbar": {
             "outlinewidth": 0,
             "ticks": ""
            },
            "colorscale": [
             [
              0,
              "#0d0887"
             ],
             [
              0.1111111111111111,
              "#46039f"
             ],
             [
              0.2222222222222222,
              "#7201a8"
             ],
             [
              0.3333333333333333,
              "#9c179e"
             ],
             [
              0.4444444444444444,
              "#bd3786"
             ],
             [
              0.5555555555555556,
              "#d8576b"
             ],
             [
              0.6666666666666666,
              "#ed7953"
             ],
             [
              0.7777777777777778,
              "#fb9f3a"
             ],
             [
              0.8888888888888888,
              "#fdca26"
             ],
             [
              1,
              "#f0f921"
             ]
            ],
            "type": "histogram2d"
           }
          ],
          "histogram2dcontour": [
           {
            "colorbar": {
             "outlinewidth": 0,
             "ticks": ""
            },
            "colorscale": [
             [
              0,
              "#0d0887"
             ],
             [
              0.1111111111111111,
              "#46039f"
             ],
             [
              0.2222222222222222,
              "#7201a8"
             ],
             [
              0.3333333333333333,
              "#9c179e"
             ],
             [
              0.4444444444444444,
              "#bd3786"
             ],
             [
              0.5555555555555556,
              "#d8576b"
             ],
             [
              0.6666666666666666,
              "#ed7953"
             ],
             [
              0.7777777777777778,
              "#fb9f3a"
             ],
             [
              0.8888888888888888,
              "#fdca26"
             ],
             [
              1,
              "#f0f921"
             ]
            ],
            "type": "histogram2dcontour"
           }
          ],
          "mesh3d": [
           {
            "colorbar": {
             "outlinewidth": 0,
             "ticks": ""
            },
            "type": "mesh3d"
           }
          ],
          "parcoords": [
           {
            "line": {
             "colorbar": {
              "outlinewidth": 0,
              "ticks": ""
             }
            },
            "type": "parcoords"
           }
          ],
          "pie": [
           {
            "automargin": true,
            "type": "pie"
           }
          ],
          "scatter": [
           {
            "fillpattern": {
             "fillmode": "overlay",
             "size": 10,
             "solidity": 0.2
            },
            "type": "scatter"
           }
          ],
          "scatter3d": [
           {
            "line": {
             "colorbar": {
              "outlinewidth": 0,
              "ticks": ""
             }
            },
            "marker": {
             "colorbar": {
              "outlinewidth": 0,
              "ticks": ""
             }
            },
            "type": "scatter3d"
           }
          ],
          "scattercarpet": [
           {
            "marker": {
             "colorbar": {
              "outlinewidth": 0,
              "ticks": ""
             }
            },
            "type": "scattercarpet"
           }
          ],
          "scattergeo": [
           {
            "marker": {
             "colorbar": {
              "outlinewidth": 0,
              "ticks": ""
             }
            },
            "type": "scattergeo"
           }
          ],
          "scattergl": [
           {
            "marker": {
             "colorbar": {
              "outlinewidth": 0,
              "ticks": ""
             }
            },
            "type": "scattergl"
           }
          ],
          "scattermap": [
           {
            "marker": {
             "colorbar": {
              "outlinewidth": 0,
              "ticks": ""
             }
            },
            "type": "scattermap"
           }
          ],
          "scattermapbox": [
           {
            "marker": {
             "colorbar": {
              "outlinewidth": 0,
              "ticks": ""
             }
            },
            "type": "scattermapbox"
           }
          ],
          "scatterpolar": [
           {
            "marker": {
             "colorbar": {
              "outlinewidth": 0,
              "ticks": ""
             }
            },
            "type": "scatterpolar"
           }
          ],
          "scatterpolargl": [
           {
            "marker": {
             "colorbar": {
              "outlinewidth": 0,
              "ticks": ""
             }
            },
            "type": "scatterpolargl"
           }
          ],
          "scatterternary": [
           {
            "marker": {
             "colorbar": {
              "outlinewidth": 0,
              "ticks": ""
             }
            },
            "type": "scatterternary"
           }
          ],
          "surface": [
           {
            "colorbar": {
             "outlinewidth": 0,
             "ticks": ""
            },
            "colorscale": [
             [
              0,
              "#0d0887"
             ],
             [
              0.1111111111111111,
              "#46039f"
             ],
             [
              0.2222222222222222,
              "#7201a8"
             ],
             [
              0.3333333333333333,
              "#9c179e"
             ],
             [
              0.4444444444444444,
              "#bd3786"
             ],
             [
              0.5555555555555556,
              "#d8576b"
             ],
             [
              0.6666666666666666,
              "#ed7953"
             ],
             [
              0.7777777777777778,
              "#fb9f3a"
             ],
             [
              0.8888888888888888,
              "#fdca26"
             ],
             [
              1,
              "#f0f921"
             ]
            ],
            "type": "surface"
           }
          ],
          "table": [
           {
            "cells": {
             "fill": {
              "color": "#EBF0F8"
             },
             "line": {
              "color": "white"
             }
            },
            "header": {
             "fill": {
              "color": "#C8D4E3"
             },
             "line": {
              "color": "white"
             }
            },
            "type": "table"
           }
          ]
         },
         "layout": {
          "annotationdefaults": {
           "arrowcolor": "#2a3f5f",
           "arrowhead": 0,
           "arrowwidth": 1
          },
          "autotypenumbers": "strict",
          "coloraxis": {
           "colorbar": {
            "outlinewidth": 0,
            "ticks": ""
           }
          },
          "colorscale": {
           "diverging": [
            [
             0,
             "#8e0152"
            ],
            [
             0.1,
             "#c51b7d"
            ],
            [
             0.2,
             "#de77ae"
            ],
            [
             0.3,
             "#f1b6da"
            ],
            [
             0.4,
             "#fde0ef"
            ],
            [
             0.5,
             "#f7f7f7"
            ],
            [
             0.6,
             "#e6f5d0"
            ],
            [
             0.7,
             "#b8e186"
            ],
            [
             0.8,
             "#7fbc41"
            ],
            [
             0.9,
             "#4d9221"
            ],
            [
             1,
             "#276419"
            ]
           ],
           "sequential": [
            [
             0,
             "#0d0887"
            ],
            [
             0.1111111111111111,
             "#46039f"
            ],
            [
             0.2222222222222222,
             "#7201a8"
            ],
            [
             0.3333333333333333,
             "#9c179e"
            ],
            [
             0.4444444444444444,
             "#bd3786"
            ],
            [
             0.5555555555555556,
             "#d8576b"
            ],
            [
             0.6666666666666666,
             "#ed7953"
            ],
            [
             0.7777777777777778,
             "#fb9f3a"
            ],
            [
             0.8888888888888888,
             "#fdca26"
            ],
            [
             1,
             "#f0f921"
            ]
           ],
           "sequentialminus": [
            [
             0,
             "#0d0887"
            ],
            [
             0.1111111111111111,
             "#46039f"
            ],
            [
             0.2222222222222222,
             "#7201a8"
            ],
            [
             0.3333333333333333,
             "#9c179e"
            ],
            [
             0.4444444444444444,
             "#bd3786"
            ],
            [
             0.5555555555555556,
             "#d8576b"
            ],
            [
             0.6666666666666666,
             "#ed7953"
            ],
            [
             0.7777777777777778,
             "#fb9f3a"
            ],
            [
             0.8888888888888888,
             "#fdca26"
            ],
            [
             1,
             "#f0f921"
            ]
           ]
          },
          "colorway": [
           "#636efa",
           "#EF553B",
           "#00cc96",
           "#ab63fa",
           "#FFA15A",
           "#19d3f3",
           "#FF6692",
           "#B6E880",
           "#FF97FF",
           "#FECB52"
          ],
          "font": {
           "color": "#2a3f5f"
          },
          "geo": {
           "bgcolor": "white",
           "lakecolor": "white",
           "landcolor": "#E5ECF6",
           "showlakes": true,
           "showland": true,
           "subunitcolor": "white"
          },
          "hoverlabel": {
           "align": "left"
          },
          "hovermode": "closest",
          "mapbox": {
           "style": "light"
          },
          "paper_bgcolor": "white",
          "plot_bgcolor": "#E5ECF6",
          "polar": {
           "angularaxis": {
            "gridcolor": "white",
            "linecolor": "white",
            "ticks": ""
           },
           "bgcolor": "#E5ECF6",
           "radialaxis": {
            "gridcolor": "white",
            "linecolor": "white",
            "ticks": ""
           }
          },
          "scene": {
           "xaxis": {
            "backgroundcolor": "#E5ECF6",
            "gridcolor": "white",
            "gridwidth": 2,
            "linecolor": "white",
            "showbackground": true,
            "ticks": "",
            "zerolinecolor": "white"
           },
           "yaxis": {
            "backgroundcolor": "#E5ECF6",
            "gridcolor": "white",
            "gridwidth": 2,
            "linecolor": "white",
            "showbackground": true,
            "ticks": "",
            "zerolinecolor": "white"
           },
           "zaxis": {
            "backgroundcolor": "#E5ECF6",
            "gridcolor": "white",
            "gridwidth": 2,
            "linecolor": "white",
            "showbackground": true,
            "ticks": "",
            "zerolinecolor": "white"
           }
          },
          "shapedefaults": {
           "line": {
            "color": "#2a3f5f"
           }
          },
          "ternary": {
           "aaxis": {
            "gridcolor": "white",
            "linecolor": "white",
            "ticks": ""
           },
           "baxis": {
            "gridcolor": "white",
            "linecolor": "white",
            "ticks": ""
           },
           "bgcolor": "#E5ECF6",
           "caxis": {
            "gridcolor": "white",
            "linecolor": "white",
            "ticks": ""
           }
          },
          "title": {
           "x": 0.05
          },
          "xaxis": {
           "automargin": true,
           "gridcolor": "white",
           "linecolor": "white",
           "ticks": "",
           "title": {
            "standoff": 15
           },
           "zerolinecolor": "white",
           "zerolinewidth": 2
          },
          "yaxis": {
           "automargin": true,
           "gridcolor": "white",
           "linecolor": "white",
           "ticks": "",
           "title": {
            "standoff": 15
           },
           "zerolinecolor": "white",
           "zerolinewidth": 2
          }
         }
        },
        "title": {
         "text": "Stündliche Batteriedischargen im August 2045"
        },
        "xaxis": {
         "title": {
          "text": "Zeit"
         }
        },
        "yaxis": {
         "title": {
          "text": "Entladungsleistung (MW)"
         }
        }
       }
      }
     },
     "metadata": {},
     "output_type": "display_data"
    },
    {
     "name": "stdout",
     "output_type": "stream",
     "text": [
      "Lade base_s_20_RedSpa_none_2045.nc für Szenario 1-Zone (DE)\n",
      "Lade base_s_20_hourly_none_2045.nc für Szenario 1H Res, 1-Zone (DE)\n"
     ]
    },
    {
     "data": {
      "application/vnd.plotly.v1+json": {
       "config": {
        "plotlyServerURL": "https://plot.ly"
       },
       "data": [
        {
         "mode": "lines",
         "name": "1-Zone (DE) – AT0 0 battery discharger-2045",
         "type": "scatter",
         "x": [],
         "y": []
        },
        {
         "mode": "lines",
         "name": "1-Zone (DE) – BE0 0 battery discharger-2045",
         "type": "scatter",
         "x": [],
         "y": []
        },
        {
         "mode": "lines",
         "name": "1-Zone (DE) – CH0 0 battery discharger-2045",
         "type": "scatter",
         "x": [],
         "y": []
        },
        {
         "mode": "lines",
         "name": "1-Zone (DE) – CZ0 0 battery discharger-2045",
         "type": "scatter",
         "x": [],
         "y": []
        },
        {
         "mode": "lines",
         "name": "1-Zone (DE) – DE0 0 battery discharger-2045",
         "type": "scatter",
         "x": [],
         "y": []
        },
        {
         "mode": "lines",
         "name": "1-Zone (DE) – DK0 0 battery discharger-2045",
         "type": "scatter",
         "x": [],
         "y": []
        },
        {
         "mode": "lines",
         "name": "1-Zone (DE) – DK1 0 battery discharger-2045",
         "type": "scatter",
         "x": [],
         "y": []
        },
        {
         "mode": "lines",
         "name": "1-Zone (DE) – ES0 0 battery discharger-2045",
         "type": "scatter",
         "x": [],
         "y": []
        },
        {
         "mode": "lines",
         "name": "1-Zone (DE) – ES6 0 battery discharger-2045",
         "type": "scatter",
         "x": [],
         "y": []
        },
        {
         "mode": "lines",
         "name": "1-Zone (DE) – FR0 0 battery discharger-2045",
         "type": "scatter",
         "x": [],
         "y": []
        },
        {
         "mode": "lines",
         "name": "1-Zone (DE) – FR4 0 battery discharger-2045",
         "type": "scatter",
         "x": [],
         "y": []
        },
        {
         "mode": "lines",
         "name": "1-Zone (DE) – GB2 0 battery discharger-2045",
         "type": "scatter",
         "x": [],
         "y": []
        },
        {
         "mode": "lines",
         "name": "1-Zone (DE) – GB5 0 battery discharger-2045",
         "type": "scatter",
         "x": [],
         "y": []
        },
        {
         "mode": "lines",
         "name": "1-Zone (DE) – IT0 0 battery discharger-2045",
         "type": "scatter",
         "x": [],
         "y": []
        },
        {
         "mode": "lines",
         "name": "1-Zone (DE) – IT3 0 battery discharger-2045",
         "type": "scatter",
         "x": [],
         "y": []
        },
        {
         "mode": "lines",
         "name": "1-Zone (DE) – LU0 0 battery discharger-2045",
         "type": "scatter",
         "x": [],
         "y": []
        },
        {
         "mode": "lines",
         "name": "1-Zone (DE) – NL0 0 battery discharger-2045",
         "type": "scatter",
         "x": [],
         "y": []
        },
        {
         "mode": "lines",
         "name": "1-Zone (DE) – NO1 0 battery discharger-2045",
         "type": "scatter",
         "x": [],
         "y": []
        },
        {
         "mode": "lines",
         "name": "1-Zone (DE) – PL0 0 battery discharger-2045",
         "type": "scatter",
         "x": [],
         "y": []
        },
        {
         "mode": "lines",
         "name": "1-Zone (DE) – SE1 0 battery discharger-2045",
         "type": "scatter",
         "x": [],
         "y": []
        },
        {
         "mode": "lines",
         "name": "1-Zone (DE) – AT0 0 urban central water tanks discharger-2045",
         "type": "scatter",
         "x": [],
         "y": []
        },
        {
         "mode": "lines",
         "name": "1-Zone (DE) – BE0 0 urban central water tanks discharger-2045",
         "type": "scatter",
         "x": [],
         "y": []
        },
        {
         "mode": "lines",
         "name": "1-Zone (DE) – CH0 0 urban central water tanks discharger-2045",
         "type": "scatter",
         "x": [],
         "y": []
        },
        {
         "mode": "lines",
         "name": "1-Zone (DE) – CZ0 0 urban central water tanks discharger-2045",
         "type": "scatter",
         "x": [],
         "y": []
        },
        {
         "mode": "lines",
         "name": "1-Zone (DE) – DE0 0 urban central water tanks discharger-2045",
         "type": "scatter",
         "x": [],
         "y": []
        },
        {
         "mode": "lines",
         "name": "1-Zone (DE) – DK0 0 urban central water tanks discharger-2045",
         "type": "scatter",
         "x": [],
         "y": []
        },
        {
         "mode": "lines",
         "name": "1-Zone (DE) – DK1 0 urban central water tanks discharger-2045",
         "type": "scatter",
         "x": [],
         "y": []
        },
        {
         "mode": "lines",
         "name": "1-Zone (DE) – ES0 0 urban central water tanks discharger-2045",
         "type": "scatter",
         "x": [],
         "y": []
        },
        {
         "mode": "lines",
         "name": "1-Zone (DE) – ES6 0 urban central water tanks discharger-2045",
         "type": "scatter",
         "x": [],
         "y": []
        },
        {
         "mode": "lines",
         "name": "1-Zone (DE) – FR0 0 urban central water tanks discharger-2045",
         "type": "scatter",
         "x": [],
         "y": []
        },
        {
         "mode": "lines",
         "name": "1-Zone (DE) – GB2 0 urban central water tanks discharger-2045",
         "type": "scatter",
         "x": [],
         "y": []
        },
        {
         "mode": "lines",
         "name": "1-Zone (DE) – GB5 0 urban central water tanks discharger-2045",
         "type": "scatter",
         "x": [],
         "y": []
        },
        {
         "mode": "lines",
         "name": "1-Zone (DE) – IT0 0 urban central water tanks discharger-2045",
         "type": "scatter",
         "x": [],
         "y": []
        },
        {
         "mode": "lines",
         "name": "1-Zone (DE) – IT3 0 urban central water tanks discharger-2045",
         "type": "scatter",
         "x": [],
         "y": []
        },
        {
         "mode": "lines",
         "name": "1-Zone (DE) – LU0 0 urban central water tanks discharger-2045",
         "type": "scatter",
         "x": [],
         "y": []
        },
        {
         "mode": "lines",
         "name": "1-Zone (DE) – NL0 0 urban central water tanks discharger-2045",
         "type": "scatter",
         "x": [],
         "y": []
        },
        {
         "mode": "lines",
         "name": "1-Zone (DE) – NO1 0 urban central water tanks discharger-2045",
         "type": "scatter",
         "x": [],
         "y": []
        },
        {
         "mode": "lines",
         "name": "1-Zone (DE) – PL0 0 urban central water tanks discharger-2045",
         "type": "scatter",
         "x": [],
         "y": []
        },
        {
         "mode": "lines",
         "name": "1-Zone (DE) – SE1 0 urban central water tanks discharger-2045",
         "type": "scatter",
         "x": [],
         "y": []
        },
        {
         "mode": "lines",
         "name": "1-Zone (DE) – AT0 0 urban central water pits discharger-2045",
         "type": "scatter",
         "x": [],
         "y": []
        },
        {
         "mode": "lines",
         "name": "1-Zone (DE) – BE0 0 urban central water pits discharger-2045",
         "type": "scatter",
         "x": [],
         "y": []
        },
        {
         "mode": "lines",
         "name": "1-Zone (DE) – CH0 0 urban central water pits discharger-2045",
         "type": "scatter",
         "x": [],
         "y": []
        },
        {
         "mode": "lines",
         "name": "1-Zone (DE) – CZ0 0 urban central water pits discharger-2045",
         "type": "scatter",
         "x": [],
         "y": []
        },
        {
         "mode": "lines",
         "name": "1-Zone (DE) – DE0 0 urban central water pits discharger-2045",
         "type": "scatter",
         "x": [],
         "y": []
        },
        {
         "mode": "lines",
         "name": "1-Zone (DE) – DK0 0 urban central water pits discharger-2045",
         "type": "scatter",
         "x": [],
         "y": []
        },
        {
         "mode": "lines",
         "name": "1-Zone (DE) – DK1 0 urban central water pits discharger-2045",
         "type": "scatter",
         "x": [],
         "y": []
        },
        {
         "mode": "lines",
         "name": "1-Zone (DE) – ES0 0 urban central water pits discharger-2045",
         "type": "scatter",
         "x": [],
         "y": []
        },
        {
         "mode": "lines",
         "name": "1-Zone (DE) – ES6 0 urban central water pits discharger-2045",
         "type": "scatter",
         "x": [],
         "y": []
        },
        {
         "mode": "lines",
         "name": "1-Zone (DE) – FR0 0 urban central water pits discharger-2045",
         "type": "scatter",
         "x": [],
         "y": []
        },
        {
         "mode": "lines",
         "name": "1-Zone (DE) – GB2 0 urban central water pits discharger-2045",
         "type": "scatter",
         "x": [],
         "y": []
        },
        {
         "mode": "lines",
         "name": "1-Zone (DE) – GB5 0 urban central water pits discharger-2045",
         "type": "scatter",
         "x": [],
         "y": []
        },
        {
         "mode": "lines",
         "name": "1-Zone (DE) – IT0 0 urban central water pits discharger-2045",
         "type": "scatter",
         "x": [],
         "y": []
        },
        {
         "mode": "lines",
         "name": "1-Zone (DE) – IT3 0 urban central water pits discharger-2045",
         "type": "scatter",
         "x": [],
         "y": []
        },
        {
         "mode": "lines",
         "name": "1-Zone (DE) – LU0 0 urban central water pits discharger-2045",
         "type": "scatter",
         "x": [],
         "y": []
        },
        {
         "mode": "lines",
         "name": "1-Zone (DE) – NL0 0 urban central water pits discharger-2045",
         "type": "scatter",
         "x": [],
         "y": []
        },
        {
         "mode": "lines",
         "name": "1-Zone (DE) – NO1 0 urban central water pits discharger-2045",
         "type": "scatter",
         "x": [],
         "y": []
        },
        {
         "mode": "lines",
         "name": "1-Zone (DE) – PL0 0 urban central water pits discharger-2045",
         "type": "scatter",
         "x": [],
         "y": []
        },
        {
         "mode": "lines",
         "name": "1-Zone (DE) – SE1 0 urban central water pits discharger-2045",
         "type": "scatter",
         "x": [],
         "y": []
        },
        {
         "mode": "lines",
         "name": "1-Zone (DE) – AT0 0 home battery discharger-2045",
         "type": "scatter",
         "x": [],
         "y": []
        },
        {
         "mode": "lines",
         "name": "1-Zone (DE) – BE0 0 home battery discharger-2045",
         "type": "scatter",
         "x": [],
         "y": []
        },
        {
         "mode": "lines",
         "name": "1-Zone (DE) – CH0 0 home battery discharger-2045",
         "type": "scatter",
         "x": [],
         "y": []
        },
        {
         "mode": "lines",
         "name": "1-Zone (DE) – CZ0 0 home battery discharger-2045",
         "type": "scatter",
         "x": [],
         "y": []
        },
        {
         "mode": "lines",
         "name": "1-Zone (DE) – DE0 0 home battery discharger-2045",
         "type": "scatter",
         "x": [],
         "y": []
        },
        {
         "mode": "lines",
         "name": "1-Zone (DE) – DK0 0 home battery discharger-2045",
         "type": "scatter",
         "x": [],
         "y": []
        },
        {
         "mode": "lines",
         "name": "1-Zone (DE) – DK1 0 home battery discharger-2045",
         "type": "scatter",
         "x": [],
         "y": []
        },
        {
         "mode": "lines",
         "name": "1-Zone (DE) – ES0 0 home battery discharger-2045",
         "type": "scatter",
         "x": [],
         "y": []
        },
        {
         "mode": "lines",
         "name": "1-Zone (DE) – ES6 0 home battery discharger-2045",
         "type": "scatter",
         "x": [],
         "y": []
        },
        {
         "mode": "lines",
         "name": "1-Zone (DE) – FR0 0 home battery discharger-2045",
         "type": "scatter",
         "x": [],
         "y": []
        },
        {
         "mode": "lines",
         "name": "1-Zone (DE) – FR4 0 home battery discharger-2045",
         "type": "scatter",
         "x": [],
         "y": []
        },
        {
         "mode": "lines",
         "name": "1-Zone (DE) – GB2 0 home battery discharger-2045",
         "type": "scatter",
         "x": [],
         "y": []
        },
        {
         "mode": "lines",
         "name": "1-Zone (DE) – GB5 0 home battery discharger-2045",
         "type": "scatter",
         "x": [],
         "y": []
        },
        {
         "mode": "lines",
         "name": "1-Zone (DE) – IT0 0 home battery discharger-2045",
         "type": "scatter",
         "x": [],
         "y": []
        },
        {
         "mode": "lines",
         "name": "1-Zone (DE) – IT3 0 home battery discharger-2045",
         "type": "scatter",
         "x": [],
         "y": []
        },
        {
         "mode": "lines",
         "name": "1-Zone (DE) – LU0 0 home battery discharger-2045",
         "type": "scatter",
         "x": [],
         "y": []
        },
        {
         "mode": "lines",
         "name": "1-Zone (DE) – NL0 0 home battery discharger-2045",
         "type": "scatter",
         "x": [],
         "y": []
        },
        {
         "mode": "lines",
         "name": "1-Zone (DE) – NO1 0 home battery discharger-2045",
         "type": "scatter",
         "x": [],
         "y": []
        },
        {
         "mode": "lines",
         "name": "1-Zone (DE) – PL0 0 home battery discharger-2045",
         "type": "scatter",
         "x": [],
         "y": []
        },
        {
         "mode": "lines",
         "name": "1-Zone (DE) – SE1 0 home battery discharger-2045",
         "type": "scatter",
         "x": [],
         "y": []
        },
        {
         "mode": "lines",
         "name": "1-Zone (DE) – AT0 0 rural water tanks discharger-2045",
         "type": "scatter",
         "x": [],
         "y": []
        },
        {
         "mode": "lines",
         "name": "1-Zone (DE) – AT0 0 urban decentral water tanks discharger-2045",
         "type": "scatter",
         "x": [],
         "y": []
        },
        {
         "mode": "lines",
         "name": "1-Zone (DE) – BE0 0 rural water tanks discharger-2045",
         "type": "scatter",
         "x": [],
         "y": []
        },
        {
         "mode": "lines",
         "name": "1-Zone (DE) – BE0 0 urban decentral water tanks discharger-2045",
         "type": "scatter",
         "x": [],
         "y": []
        },
        {
         "mode": "lines",
         "name": "1-Zone (DE) – CH0 0 rural water tanks discharger-2045",
         "type": "scatter",
         "x": [],
         "y": []
        },
        {
         "mode": "lines",
         "name": "1-Zone (DE) – CH0 0 urban decentral water tanks discharger-2045",
         "type": "scatter",
         "x": [],
         "y": []
        },
        {
         "mode": "lines",
         "name": "1-Zone (DE) – CZ0 0 rural water tanks discharger-2045",
         "type": "scatter",
         "x": [],
         "y": []
        },
        {
         "mode": "lines",
         "name": "1-Zone (DE) – CZ0 0 urban decentral water tanks discharger-2045",
         "type": "scatter",
         "x": [],
         "y": []
        },
        {
         "mode": "lines",
         "name": "1-Zone (DE) – DE0 0 rural water tanks discharger-2045",
         "type": "scatter",
         "x": [],
         "y": []
        },
        {
         "mode": "lines",
         "name": "1-Zone (DE) – DE0 0 urban decentral water tanks discharger-2045",
         "type": "scatter",
         "x": [],
         "y": []
        },
        {
         "mode": "lines",
         "name": "1-Zone (DE) – DK0 0 rural water tanks discharger-2045",
         "type": "scatter",
         "x": [],
         "y": []
        },
        {
         "mode": "lines",
         "name": "1-Zone (DE) – DK0 0 urban decentral water tanks discharger-2045",
         "type": "scatter",
         "x": [],
         "y": []
        },
        {
         "mode": "lines",
         "name": "1-Zone (DE) – DK1 0 rural water tanks discharger-2045",
         "type": "scatter",
         "x": [],
         "y": []
        },
        {
         "mode": "lines",
         "name": "1-Zone (DE) – DK1 0 urban decentral water tanks discharger-2045",
         "type": "scatter",
         "x": [],
         "y": []
        },
        {
         "mode": "lines",
         "name": "1-Zone (DE) – ES0 0 rural water tanks discharger-2045",
         "type": "scatter",
         "x": [],
         "y": []
        },
        {
         "mode": "lines",
         "name": "1-Zone (DE) – ES0 0 urban decentral water tanks discharger-2045",
         "type": "scatter",
         "x": [],
         "y": []
        },
        {
         "mode": "lines",
         "name": "1-Zone (DE) – ES6 0 rural water tanks discharger-2045",
         "type": "scatter",
         "x": [],
         "y": []
        },
        {
         "mode": "lines",
         "name": "1-Zone (DE) – ES6 0 urban decentral water tanks discharger-2045",
         "type": "scatter",
         "x": [],
         "y": []
        },
        {
         "mode": "lines",
         "name": "1-Zone (DE) – FR0 0 rural water tanks discharger-2045",
         "type": "scatter",
         "x": [],
         "y": []
        },
        {
         "mode": "lines",
         "name": "1-Zone (DE) – FR0 0 urban decentral water tanks discharger-2045",
         "type": "scatter",
         "x": [],
         "y": []
        },
        {
         "mode": "lines",
         "name": "1-Zone (DE) – FR4 0 rural water tanks discharger-2045",
         "type": "scatter",
         "x": [],
         "y": []
        },
        {
         "mode": "lines",
         "name": "1-Zone (DE) – FR4 0 urban decentral water tanks discharger-2045",
         "type": "scatter",
         "x": [],
         "y": []
        },
        {
         "mode": "lines",
         "name": "1-Zone (DE) – GB2 0 rural water tanks discharger-2045",
         "type": "scatter",
         "x": [],
         "y": []
        },
        {
         "mode": "lines",
         "name": "1-Zone (DE) – GB2 0 urban decentral water tanks discharger-2045",
         "type": "scatter",
         "x": [],
         "y": []
        },
        {
         "mode": "lines",
         "name": "1-Zone (DE) – GB5 0 rural water tanks discharger-2045",
         "type": "scatter",
         "x": [],
         "y": []
        },
        {
         "mode": "lines",
         "name": "1-Zone (DE) – GB5 0 urban decentral water tanks discharger-2045",
         "type": "scatter",
         "x": [],
         "y": []
        },
        {
         "mode": "lines",
         "name": "1-Zone (DE) – IT0 0 rural water tanks discharger-2045",
         "type": "scatter",
         "x": [],
         "y": []
        },
        {
         "mode": "lines",
         "name": "1-Zone (DE) – IT0 0 urban decentral water tanks discharger-2045",
         "type": "scatter",
         "x": [],
         "y": []
        },
        {
         "mode": "lines",
         "name": "1-Zone (DE) – IT3 0 rural water tanks discharger-2045",
         "type": "scatter",
         "x": [],
         "y": []
        },
        {
         "mode": "lines",
         "name": "1-Zone (DE) – IT3 0 urban decentral water tanks discharger-2045",
         "type": "scatter",
         "x": [],
         "y": []
        },
        {
         "mode": "lines",
         "name": "1-Zone (DE) – LU0 0 rural water tanks discharger-2045",
         "type": "scatter",
         "x": [],
         "y": []
        },
        {
         "mode": "lines",
         "name": "1-Zone (DE) – LU0 0 urban decentral water tanks discharger-2045",
         "type": "scatter",
         "x": [],
         "y": []
        },
        {
         "mode": "lines",
         "name": "1-Zone (DE) – NL0 0 rural water tanks discharger-2045",
         "type": "scatter",
         "x": [],
         "y": []
        },
        {
         "mode": "lines",
         "name": "1-Zone (DE) – NL0 0 urban decentral water tanks discharger-2045",
         "type": "scatter",
         "x": [],
         "y": []
        },
        {
         "mode": "lines",
         "name": "1-Zone (DE) – NO1 0 rural water tanks discharger-2045",
         "type": "scatter",
         "x": [],
         "y": []
        },
        {
         "mode": "lines",
         "name": "1-Zone (DE) – NO1 0 urban decentral water tanks discharger-2045",
         "type": "scatter",
         "x": [],
         "y": []
        },
        {
         "mode": "lines",
         "name": "1-Zone (DE) – PL0 0 rural water tanks discharger-2045",
         "type": "scatter",
         "x": [],
         "y": []
        },
        {
         "mode": "lines",
         "name": "1-Zone (DE) – PL0 0 urban decentral water tanks discharger-2045",
         "type": "scatter",
         "x": [],
         "y": []
        },
        {
         "mode": "lines",
         "name": "1-Zone (DE) – SE1 0 rural water tanks discharger-2045",
         "type": "scatter",
         "x": [],
         "y": []
        },
        {
         "mode": "lines",
         "name": "1-Zone (DE) – SE1 0 urban decentral water tanks discharger-2045",
         "type": "scatter",
         "x": [],
         "y": []
        },
        {
         "mode": "lines",
         "name": "1-Zone (DE) – AT0 0 battery discharger-2040",
         "type": "scatter",
         "x": [],
         "y": []
        },
        {
         "mode": "lines",
         "name": "1-Zone (DE) – BE0 0 battery discharger-2040",
         "type": "scatter",
         "x": [],
         "y": []
        },
        {
         "mode": "lines",
         "name": "1-Zone (DE) – CH0 0 battery discharger-2040",
         "type": "scatter",
         "x": [],
         "y": []
        },
        {
         "mode": "lines",
         "name": "1-Zone (DE) – CZ0 0 battery discharger-2040",
         "type": "scatter",
         "x": [],
         "y": []
        },
        {
         "mode": "lines",
         "name": "1-Zone (DE) – DE0 0 battery discharger-2040",
         "type": "scatter",
         "x": [],
         "y": []
        },
        {
         "mode": "lines",
         "name": "1-Zone (DE) – ES0 0 battery discharger-2040",
         "type": "scatter",
         "x": [],
         "y": []
        },
        {
         "mode": "lines",
         "name": "1-Zone (DE) – ES6 0 battery discharger-2040",
         "type": "scatter",
         "x": [],
         "y": []
        },
        {
         "mode": "lines",
         "name": "1-Zone (DE) – FR0 0 battery discharger-2040",
         "type": "scatter",
         "x": [],
         "y": []
        },
        {
         "mode": "lines",
         "name": "1-Zone (DE) – IT0 0 battery discharger-2040",
         "type": "scatter",
         "x": [],
         "y": []
        },
        {
         "mode": "lines",
         "name": "1-Zone (DE) – IT3 0 battery discharger-2040",
         "type": "scatter",
         "x": [],
         "y": []
        },
        {
         "mode": "lines",
         "name": "1-Zone (DE) – NL0 0 battery discharger-2040",
         "type": "scatter",
         "x": [],
         "y": []
        },
        {
         "mode": "lines",
         "name": "1-Zone (DE) – PL0 0 battery discharger-2040",
         "type": "scatter",
         "x": [],
         "y": []
        },
        {
         "mode": "lines",
         "name": "1-Zone (DE) – AT0 0 urban central water pits discharger-2040",
         "type": "scatter",
         "x": [],
         "y": []
        },
        {
         "mode": "lines",
         "name": "1-Zone (DE) – BE0 0 urban central water pits discharger-2040",
         "type": "scatter",
         "x": [],
         "y": []
        },
        {
         "mode": "lines",
         "name": "1-Zone (DE) – CH0 0 urban central water pits discharger-2040",
         "type": "scatter",
         "x": [],
         "y": []
        },
        {
         "mode": "lines",
         "name": "1-Zone (DE) – CZ0 0 urban central water pits discharger-2040",
         "type": "scatter",
         "x": [],
         "y": []
        },
        {
         "mode": "lines",
         "name": "1-Zone (DE) – DK0 0 urban central water pits discharger-2040",
         "type": "scatter",
         "x": [],
         "y": []
        },
        {
         "mode": "lines",
         "name": "1-Zone (DE) – DK1 0 urban central water pits discharger-2040",
         "type": "scatter",
         "x": [],
         "y": []
        },
        {
         "mode": "lines",
         "name": "1-Zone (DE) – ES0 0 urban central water pits discharger-2040",
         "type": "scatter",
         "x": [],
         "y": []
        },
        {
         "mode": "lines",
         "name": "1-Zone (DE) – FR0 0 urban central water pits discharger-2040",
         "type": "scatter",
         "x": [],
         "y": []
        },
        {
         "mode": "lines",
         "name": "1-Zone (DE) – IT0 0 urban central water pits discharger-2040",
         "type": "scatter",
         "x": [],
         "y": []
        },
        {
         "mode": "lines",
         "name": "1-Zone (DE) – LU0 0 urban central water pits discharger-2040",
         "type": "scatter",
         "x": [],
         "y": []
        },
        {
         "mode": "lines",
         "name": "1-Zone (DE) – PL0 0 urban central water pits discharger-2040",
         "type": "scatter",
         "x": [],
         "y": []
        },
        {
         "mode": "lines",
         "name": "1-Zone (DE) – SE1 0 urban central water pits discharger-2040",
         "type": "scatter",
         "x": [],
         "y": []
        },
        {
         "mode": "lines",
         "name": "1-Zone (DE) – AT0 0 home battery discharger-2040",
         "type": "scatter",
         "x": [],
         "y": []
        },
        {
         "mode": "lines",
         "name": "1-Zone (DE) – CH0 0 home battery discharger-2040",
         "type": "scatter",
         "x": [],
         "y": []
        },
        {
         "mode": "lines",
         "name": "1-Zone (DE) – CZ0 0 home battery discharger-2040",
         "type": "scatter",
         "x": [],
         "y": []
        },
        {
         "mode": "lines",
         "name": "1-Zone (DE) – ES0 0 home battery discharger-2040",
         "type": "scatter",
         "x": [],
         "y": []
        },
        {
         "mode": "lines",
         "name": "1-Zone (DE) – ES6 0 home battery discharger-2040",
         "type": "scatter",
         "x": [],
         "y": []
        },
        {
         "mode": "lines",
         "name": "1-Zone (DE) – FR0 0 home battery discharger-2040",
         "type": "scatter",
         "x": [],
         "y": []
        },
        {
         "mode": "lines",
         "name": "1-Zone (DE) – FR4 0 home battery discharger-2040",
         "type": "scatter",
         "x": [],
         "y": []
        },
        {
         "mode": "lines",
         "name": "1-Zone (DE) – IT0 0 home battery discharger-2040",
         "type": "scatter",
         "x": [],
         "y": []
        },
        {
         "mode": "lines",
         "name": "1-Zone (DE) – IT3 0 home battery discharger-2040",
         "type": "scatter",
         "x": [],
         "y": []
        },
        {
         "mode": "lines",
         "name": "1-Zone (DE) – LU0 0 home battery discharger-2040",
         "type": "scatter",
         "x": [],
         "y": []
        },
        {
         "mode": "lines",
         "name": "1-Zone (DE) – NL0 0 home battery discharger-2040",
         "type": "scatter",
         "x": [],
         "y": []
        },
        {
         "mode": "lines",
         "name": "1-Zone (DE) – PL0 0 home battery discharger-2040",
         "type": "scatter",
         "x": [],
         "y": []
        },
        {
         "mode": "lines",
         "name": "1-Zone (DE) – SE1 0 home battery discharger-2040",
         "type": "scatter",
         "x": [],
         "y": []
        },
        {
         "mode": "lines",
         "name": "1-Zone (DE) – AT0 0 urban central water pits discharger-2035",
         "type": "scatter",
         "x": [],
         "y": []
        },
        {
         "mode": "lines",
         "name": "1-Zone (DE) – BE0 0 urban central water pits discharger-2035",
         "type": "scatter",
         "x": [],
         "y": []
        },
        {
         "mode": "lines",
         "name": "1-Zone (DE) – CH0 0 urban central water pits discharger-2035",
         "type": "scatter",
         "x": [],
         "y": []
        },
        {
         "mode": "lines",
         "name": "1-Zone (DE) – CZ0 0 urban central water pits discharger-2035",
         "type": "scatter",
         "x": [],
         "y": []
        },
        {
         "mode": "lines",
         "name": "1-Zone (DE) – DE0 0 urban central water pits discharger-2035",
         "type": "scatter",
         "x": [],
         "y": []
        },
        {
         "mode": "lines",
         "name": "1-Zone (DE) – DK0 0 urban central water pits discharger-2035",
         "type": "scatter",
         "x": [],
         "y": []
        },
        {
         "mode": "lines",
         "name": "1-Zone (DE) – DK1 0 urban central water pits discharger-2035",
         "type": "scatter",
         "x": [],
         "y": []
        },
        {
         "mode": "lines",
         "name": "1-Zone (DE) – ES0 0 urban central water pits discharger-2035",
         "type": "scatter",
         "x": [],
         "y": []
        },
        {
         "mode": "lines",
         "name": "1-Zone (DE) – ES6 0 urban central water pits discharger-2035",
         "type": "scatter",
         "x": [],
         "y": []
        },
        {
         "mode": "lines",
         "name": "1-Zone (DE) – FR0 0 urban central water pits discharger-2035",
         "type": "scatter",
         "x": [],
         "y": []
        },
        {
         "mode": "lines",
         "name": "1-Zone (DE) – GB2 0 urban central water pits discharger-2035",
         "type": "scatter",
         "x": [],
         "y": []
        },
        {
         "mode": "lines",
         "name": "1-Zone (DE) – GB5 0 urban central water pits discharger-2035",
         "type": "scatter",
         "x": [],
         "y": []
        },
        {
         "mode": "lines",
         "name": "1-Zone (DE) – IT0 0 urban central water pits discharger-2035",
         "type": "scatter",
         "x": [],
         "y": []
        },
        {
         "mode": "lines",
         "name": "1-Zone (DE) – IT3 0 urban central water pits discharger-2035",
         "type": "scatter",
         "x": [],
         "y": []
        },
        {
         "mode": "lines",
         "name": "1-Zone (DE) – LU0 0 urban central water pits discharger-2035",
         "type": "scatter",
         "x": [],
         "y": []
        },
        {
         "mode": "lines",
         "name": "1-Zone (DE) – NL0 0 urban central water pits discharger-2035",
         "type": "scatter",
         "x": [],
         "y": []
        },
        {
         "mode": "lines",
         "name": "1-Zone (DE) – NO1 0 urban central water pits discharger-2035",
         "type": "scatter",
         "x": [],
         "y": []
        },
        {
         "mode": "lines",
         "name": "1-Zone (DE) – PL0 0 urban central water pits discharger-2035",
         "type": "scatter",
         "x": [],
         "y": []
        },
        {
         "mode": "lines",
         "name": "1-Zone (DE) – SE1 0 urban central water pits discharger-2035",
         "type": "scatter",
         "x": [],
         "y": []
        },
        {
         "mode": "lines",
         "name": "1-Zone (DE) – BE0 0 urban decentral water tanks discharger-2035",
         "type": "scatter",
         "x": [],
         "y": []
        },
        {
         "mode": "lines",
         "name": "1-Zone (DE) – CZ0 0 rural water tanks discharger-2035",
         "type": "scatter",
         "x": [],
         "y": []
        },
        {
         "mode": "lines",
         "name": "1-Zone (DE) – CZ0 0 urban decentral water tanks discharger-2035",
         "type": "scatter",
         "x": [],
         "y": []
        },
        {
         "mode": "lines",
         "name": "1-Zone (DE) – DE0 0 rural water tanks discharger-2035",
         "type": "scatter",
         "x": [],
         "y": []
        },
        {
         "mode": "lines",
         "name": "1-Zone (DE) – DE0 0 urban decentral water tanks discharger-2035",
         "type": "scatter",
         "x": [],
         "y": []
        },
        {
         "mode": "lines",
         "name": "1-Zone (DE) – DK0 0 rural water tanks discharger-2035",
         "type": "scatter",
         "x": [],
         "y": []
        },
        {
         "mode": "lines",
         "name": "1-Zone (DE) – DK0 0 urban decentral water tanks discharger-2035",
         "type": "scatter",
         "x": [],
         "y": []
        },
        {
         "mode": "lines",
         "name": "1-Zone (DE) – DK1 0 rural water tanks discharger-2035",
         "type": "scatter",
         "x": [],
         "y": []
        },
        {
         "mode": "lines",
         "name": "1-Zone (DE) – FR0 0 rural water tanks discharger-2035",
         "type": "scatter",
         "x": [],
         "y": []
        },
        {
         "mode": "lines",
         "name": "1-Zone (DE) – GB2 0 rural water tanks discharger-2035",
         "type": "scatter",
         "x": [],
         "y": []
        },
        {
         "mode": "lines",
         "name": "1-Zone (DE) – GB2 0 urban decentral water tanks discharger-2035",
         "type": "scatter",
         "x": [],
         "y": []
        },
        {
         "mode": "lines",
         "name": "1-Zone (DE) – GB5 0 rural water tanks discharger-2035",
         "type": "scatter",
         "x": [],
         "y": []
        },
        {
         "mode": "lines",
         "name": "1-Zone (DE) – GB5 0 urban decentral water tanks discharger-2035",
         "type": "scatter",
         "x": [],
         "y": []
        },
        {
         "mode": "lines",
         "name": "1-Zone (DE) – IT0 0 rural water tanks discharger-2035",
         "type": "scatter",
         "x": [],
         "y": []
        },
        {
         "mode": "lines",
         "name": "1-Zone (DE) – NL0 0 urban decentral water tanks discharger-2035",
         "type": "scatter",
         "x": [],
         "y": []
        },
        {
         "mode": "lines",
         "name": "1-Zone (DE) – NO1 0 rural water tanks discharger-2035",
         "type": "scatter",
         "x": [],
         "y": []
        },
        {
         "mode": "lines",
         "name": "1-Zone (DE) – PL0 0 rural water tanks discharger-2035",
         "type": "scatter",
         "x": [],
         "y": []
        },
        {
         "mode": "lines",
         "name": "1-Zone (DE) – PL0 0 urban decentral water tanks discharger-2035",
         "type": "scatter",
         "x": [],
         "y": []
        },
        {
         "mode": "lines",
         "name": "1-Zone (DE) – AT0 0 urban central water pits discharger-2030",
         "type": "scatter",
         "x": [],
         "y": []
        },
        {
         "mode": "lines",
         "name": "1-Zone (DE) – BE0 0 urban central water pits discharger-2030",
         "type": "scatter",
         "x": [],
         "y": []
        },
        {
         "mode": "lines",
         "name": "1-Zone (DE) – CH0 0 urban central water pits discharger-2030",
         "type": "scatter",
         "x": [],
         "y": []
        },
        {
         "mode": "lines",
         "name": "1-Zone (DE) – CZ0 0 urban central water pits discharger-2030",
         "type": "scatter",
         "x": [],
         "y": []
        },
        {
         "mode": "lines",
         "name": "1-Zone (DE) – DE0 0 urban central water pits discharger-2030",
         "type": "scatter",
         "x": [],
         "y": []
        },
        {
         "mode": "lines",
         "name": "1-Zone (DE) – ES0 0 urban central water pits discharger-2030",
         "type": "scatter",
         "x": [],
         "y": []
        },
        {
         "mode": "lines",
         "name": "1-Zone (DE) – FR0 0 urban central water pits discharger-2030",
         "type": "scatter",
         "x": [],
         "y": []
        },
        {
         "mode": "lines",
         "name": "1-Zone (DE) – GB2 0 urban central water pits discharger-2030",
         "type": "scatter",
         "x": [],
         "y": []
        },
        {
         "mode": "lines",
         "name": "1-Zone (DE) – GB5 0 urban central water pits discharger-2030",
         "type": "scatter",
         "x": [],
         "y": []
        },
        {
         "mode": "lines",
         "name": "1-Zone (DE) – IT0 0 urban central water pits discharger-2030",
         "type": "scatter",
         "x": [],
         "y": []
        },
        {
         "mode": "lines",
         "name": "1-Zone (DE) – IT3 0 urban central water pits discharger-2030",
         "type": "scatter",
         "x": [],
         "y": []
        },
        {
         "mode": "lines",
         "name": "1-Zone (DE) – LU0 0 urban central water pits discharger-2030",
         "type": "scatter",
         "x": [],
         "y": []
        },
        {
         "mode": "lines",
         "name": "1-Zone (DE) – NL0 0 urban central water pits discharger-2030",
         "type": "scatter",
         "x": [],
         "y": []
        },
        {
         "mode": "lines",
         "name": "1-Zone (DE) – NO1 0 urban central water pits discharger-2030",
         "type": "scatter",
         "x": [],
         "y": []
        },
        {
         "mode": "lines",
         "name": "1-Zone (DE) – PL0 0 urban central water pits discharger-2030",
         "type": "scatter",
         "x": [],
         "y": []
        },
        {
         "mode": "lines",
         "name": "1-Zone (DE) – SE1 0 urban central water pits discharger-2030",
         "type": "scatter",
         "x": [],
         "y": []
        },
        {
         "mode": "lines",
         "name": "1-Zone (DE) – AT0 0 rural water tanks discharger-2030",
         "type": "scatter",
         "x": [],
         "y": []
        },
        {
         "mode": "lines",
         "name": "1-Zone (DE) – CZ0 0 rural water tanks discharger-2030",
         "type": "scatter",
         "x": [],
         "y": []
        },
        {
         "mode": "lines",
         "name": "1-Zone (DE) – CZ0 0 urban decentral water tanks discharger-2030",
         "type": "scatter",
         "x": [],
         "y": []
        },
        {
         "mode": "lines",
         "name": "1-Zone (DE) – DK0 0 urban decentral water tanks discharger-2030",
         "type": "scatter",
         "x": [],
         "y": []
        },
        {
         "mode": "lines",
         "name": "1-Zone (DE) – DK1 0 urban decentral water tanks discharger-2030",
         "type": "scatter",
         "x": [],
         "y": []
        },
        {
         "mode": "lines",
         "name": "1-Zone (DE) – ES6 0 urban decentral water tanks discharger-2030",
         "type": "scatter",
         "x": [],
         "y": []
        },
        {
         "mode": "lines",
         "name": "1-Zone (DE) – FR0 0 rural water tanks discharger-2030",
         "type": "scatter",
         "x": [],
         "y": []
        },
        {
         "mode": "lines",
         "name": "1-Zone (DE) – FR4 0 rural water tanks discharger-2030",
         "type": "scatter",
         "x": [],
         "y": []
        },
        {
         "mode": "lines",
         "name": "1-Zone (DE) – GB2 0 rural water tanks discharger-2030",
         "type": "scatter",
         "x": [],
         "y": []
        },
        {
         "mode": "lines",
         "name": "1-Zone (DE) – GB2 0 urban decentral water tanks discharger-2030",
         "type": "scatter",
         "x": [],
         "y": []
        },
        {
         "mode": "lines",
         "name": "1-Zone (DE) – GB5 0 rural water tanks discharger-2030",
         "type": "scatter",
         "x": [],
         "y": []
        },
        {
         "mode": "lines",
         "name": "1-Zone (DE) – GB5 0 urban decentral water tanks discharger-2030",
         "type": "scatter",
         "x": [],
         "y": []
        },
        {
         "mode": "lines",
         "name": "1-Zone (DE) – NL0 0 urban decentral water tanks discharger-2030",
         "type": "scatter",
         "x": [],
         "y": []
        },
        {
         "mode": "lines",
         "name": "1-Zone (DE) – PL0 0 rural water tanks discharger-2030",
         "type": "scatter",
         "x": [],
         "y": []
        },
        {
         "mode": "lines",
         "name": "1-Zone (DE) – SE1 0 rural water tanks discharger-2030",
         "type": "scatter",
         "x": [],
         "y": []
        },
        {
         "mode": "lines",
         "name": "1-Zone (DE) – AT0 0 urban central water pits discharger-2025",
         "type": "scatter",
         "x": [],
         "y": []
        },
        {
         "mode": "lines",
         "name": "1-Zone (DE) – BE0 0 urban central water pits discharger-2025",
         "type": "scatter",
         "x": [],
         "y": []
        },
        {
         "mode": "lines",
         "name": "1-Zone (DE) – CH0 0 urban central water pits discharger-2025",
         "type": "scatter",
         "x": [],
         "y": []
        },
        {
         "mode": "lines",
         "name": "1-Zone (DE) – CZ0 0 urban central water pits discharger-2025",
         "type": "scatter",
         "x": [],
         "y": []
        },
        {
         "mode": "lines",
         "name": "1-Zone (DE) – DE0 0 urban central water pits discharger-2025",
         "type": "scatter",
         "x": [],
         "y": []
        },
        {
         "mode": "lines",
         "name": "1-Zone (DE) – DK0 0 urban central water pits discharger-2025",
         "type": "scatter",
         "x": [],
         "y": []
        },
        {
         "mode": "lines",
         "name": "1-Zone (DE) – DK1 0 urban central water pits discharger-2025",
         "type": "scatter",
         "x": [],
         "y": []
        },
        {
         "mode": "lines",
         "name": "1-Zone (DE) – ES0 0 urban central water pits discharger-2025",
         "type": "scatter",
         "x": [],
         "y": []
        },
        {
         "mode": "lines",
         "name": "1-Zone (DE) – FR0 0 urban central water pits discharger-2025",
         "type": "scatter",
         "x": [],
         "y": []
        },
        {
         "mode": "lines",
         "name": "1-Zone (DE) – GB2 0 urban central water pits discharger-2025",
         "type": "scatter",
         "x": [],
         "y": []
        },
        {
         "mode": "lines",
         "name": "1-Zone (DE) – GB5 0 urban central water pits discharger-2025",
         "type": "scatter",
         "x": [],
         "y": []
        },
        {
         "mode": "lines",
         "name": "1-Zone (DE) – IT0 0 urban central water pits discharger-2025",
         "type": "scatter",
         "x": [],
         "y": []
        },
        {
         "mode": "lines",
         "name": "1-Zone (DE) – IT3 0 urban central water pits discharger-2025",
         "type": "scatter",
         "x": [],
         "y": []
        },
        {
         "mode": "lines",
         "name": "1-Zone (DE) – LU0 0 urban central water pits discharger-2025",
         "type": "scatter",
         "x": [],
         "y": []
        },
        {
         "mode": "lines",
         "name": "1-Zone (DE) – NL0 0 urban central water pits discharger-2025",
         "type": "scatter",
         "x": [],
         "y": []
        },
        {
         "mode": "lines",
         "name": "1-Zone (DE) – NO1 0 urban central water pits discharger-2025",
         "type": "scatter",
         "x": [],
         "y": []
        },
        {
         "mode": "lines",
         "name": "1-Zone (DE) – PL0 0 urban central water pits discharger-2025",
         "type": "scatter",
         "x": [],
         "y": []
        },
        {
         "mode": "lines",
         "name": "1-Zone (DE) – SE1 0 urban central water pits discharger-2025",
         "type": "scatter",
         "x": [],
         "y": []
        },
        {
         "mode": "lines",
         "name": "1-Zone (DE) – AT0 0 rural water tanks discharger-2025",
         "type": "scatter",
         "x": [],
         "y": []
        },
        {
         "mode": "lines",
         "name": "1-Zone (DE) – AT0 0 urban decentral water tanks discharger-2025",
         "type": "scatter",
         "x": [],
         "y": []
        },
        {
         "mode": "lines",
         "name": "1-Zone (DE) – BE0 0 rural water tanks discharger-2025",
         "type": "scatter",
         "x": [],
         "y": []
        },
        {
         "mode": "lines",
         "name": "1-Zone (DE) – BE0 0 urban decentral water tanks discharger-2025",
         "type": "scatter",
         "x": [],
         "y": []
        },
        {
         "mode": "lines",
         "name": "1-Zone (DE) – CZ0 0 urban decentral water tanks discharger-2025",
         "type": "scatter",
         "x": [],
         "y": []
        },
        {
         "mode": "lines",
         "name": "1-Zone (DE) – DE0 0 urban decentral water tanks discharger-2025",
         "type": "scatter",
         "x": [],
         "y": []
        },
        {
         "mode": "lines",
         "name": "1-Zone (DE) – DK0 0 urban decentral water tanks discharger-2025",
         "type": "scatter",
         "x": [],
         "y": []
        },
        {
         "mode": "lines",
         "name": "1-Zone (DE) – DK1 0 urban decentral water tanks discharger-2025",
         "type": "scatter",
         "x": [],
         "y": []
        },
        {
         "mode": "lines",
         "name": "1-Zone (DE) – ES0 0 rural water tanks discharger-2025",
         "type": "scatter",
         "x": [],
         "y": []
        },
        {
         "mode": "lines",
         "name": "1-Zone (DE) – ES6 0 urban decentral water tanks discharger-2025",
         "type": "scatter",
         "x": [],
         "y": []
        },
        {
         "mode": "lines",
         "name": "1-Zone (DE) – FR0 0 rural water tanks discharger-2025",
         "type": "scatter",
         "x": [],
         "y": []
        },
        {
         "mode": "lines",
         "name": "1-Zone (DE) – FR0 0 urban decentral water tanks discharger-2025",
         "type": "scatter",
         "x": [],
         "y": []
        },
        {
         "mode": "lines",
         "name": "1-Zone (DE) – FR4 0 rural water tanks discharger-2025",
         "type": "scatter",
         "x": [],
         "y": []
        },
        {
         "mode": "lines",
         "name": "1-Zone (DE) – GB2 0 rural water tanks discharger-2025",
         "type": "scatter",
         "x": [],
         "y": []
        },
        {
         "mode": "lines",
         "name": "1-Zone (DE) – GB2 0 urban decentral water tanks discharger-2025",
         "type": "scatter",
         "x": [],
         "y": []
        },
        {
         "mode": "lines",
         "name": "1-Zone (DE) – GB5 0 rural water tanks discharger-2025",
         "type": "scatter",
         "x": [],
         "y": []
        },
        {
         "mode": "lines",
         "name": "1-Zone (DE) – IT0 0 rural water tanks discharger-2025",
         "type": "scatter",
         "x": [],
         "y": []
        },
        {
         "mode": "lines",
         "name": "1-Zone (DE) – IT0 0 urban decentral water tanks discharger-2025",
         "type": "scatter",
         "x": [],
         "y": []
        },
        {
         "mode": "lines",
         "name": "1-Zone (DE) – IT3 0 rural water tanks discharger-2025",
         "type": "scatter",
         "x": [],
         "y": []
        },
        {
         "mode": "lines",
         "name": "1-Zone (DE) – LU0 0 urban decentral water tanks discharger-2025",
         "type": "scatter",
         "x": [],
         "y": []
        },
        {
         "mode": "lines",
         "name": "1-Zone (DE) – NL0 0 rural water tanks discharger-2025",
         "type": "scatter",
         "x": [],
         "y": []
        },
        {
         "mode": "lines",
         "name": "1-Zone (DE) – PL0 0 rural water tanks discharger-2025",
         "type": "scatter",
         "x": [],
         "y": []
        },
        {
         "mode": "lines",
         "name": "1-Zone (DE) – PL0 0 urban decentral water tanks discharger-2025",
         "type": "scatter",
         "x": [],
         "y": []
        },
        {
         "mode": "lines",
         "name": "1-Zone (DE) – SE1 0 rural water tanks discharger-2025",
         "type": "scatter",
         "x": [],
         "y": []
        },
        {
         "mode": "lines",
         "name": "1-Zone (DE) – SE1 0 urban decentral water tanks discharger-2025",
         "type": "scatter",
         "x": [],
         "y": []
        },
        {
         "mode": "lines",
         "name": "1-Zone (DE) – AT0 0 rural water tanks discharger-2020",
         "type": "scatter",
         "x": [],
         "y": []
        },
        {
         "mode": "lines",
         "name": "1-Zone (DE) – BE0 0 rural water tanks discharger-2020",
         "type": "scatter",
         "x": [],
         "y": []
        },
        {
         "mode": "lines",
         "name": "1-Zone (DE) – BE0 0 urban decentral water tanks discharger-2020",
         "type": "scatter",
         "x": [],
         "y": []
        },
        {
         "mode": "lines",
         "name": "1-Zone (DE) – CH0 0 rural water tanks discharger-2020",
         "type": "scatter",
         "x": [],
         "y": []
        },
        {
         "mode": "lines",
         "name": "1-Zone (DE) – CH0 0 urban decentral water tanks discharger-2020",
         "type": "scatter",
         "x": [],
         "y": []
        },
        {
         "mode": "lines",
         "name": "1-Zone (DE) – CZ0 0 rural water tanks discharger-2020",
         "type": "scatter",
         "x": [],
         "y": []
        },
        {
         "mode": "lines",
         "name": "1-Zone (DE) – CZ0 0 urban decentral water tanks discharger-2020",
         "type": "scatter",
         "x": [],
         "y": []
        },
        {
         "mode": "lines",
         "name": "1-Zone (DE) – DE0 0 rural water tanks discharger-2020",
         "type": "scatter",
         "x": [],
         "y": []
        },
        {
         "mode": "lines",
         "name": "1-Zone (DE) – DK0 0 rural water tanks discharger-2020",
         "type": "scatter",
         "x": [],
         "y": []
        },
        {
         "mode": "lines",
         "name": "1-Zone (DE) – DK0 0 urban decentral water tanks discharger-2020",
         "type": "scatter",
         "x": [],
         "y": []
        },
        {
         "mode": "lines",
         "name": "1-Zone (DE) – DK1 0 urban decentral water tanks discharger-2020",
         "type": "scatter",
         "x": [],
         "y": []
        },
        {
         "mode": "lines",
         "name": "1-Zone (DE) – ES0 0 urban decentral water tanks discharger-2020",
         "type": "scatter",
         "x": [],
         "y": []
        },
        {
         "mode": "lines",
         "name": "1-Zone (DE) – ES6 0 rural water tanks discharger-2020",
         "type": "scatter",
         "x": [],
         "y": []
        },
        {
         "mode": "lines",
         "name": "1-Zone (DE) – ES6 0 urban decentral water tanks discharger-2020",
         "type": "scatter",
         "x": [],
         "y": []
        },
        {
         "mode": "lines",
         "name": "1-Zone (DE) – FR0 0 urban decentral water tanks discharger-2020",
         "type": "scatter",
         "x": [],
         "y": []
        },
        {
         "mode": "lines",
         "name": "1-Zone (DE) – FR4 0 rural water tanks discharger-2020",
         "type": "scatter",
         "x": [],
         "y": []
        },
        {
         "mode": "lines",
         "name": "1-Zone (DE) – GB2 0 rural water tanks discharger-2020",
         "type": "scatter",
         "x": [],
         "y": []
        },
        {
         "mode": "lines",
         "name": "1-Zone (DE) – GB2 0 urban decentral water tanks discharger-2020",
         "type": "scatter",
         "x": [],
         "y": []
        },
        {
         "mode": "lines",
         "name": "1-Zone (DE) – GB5 0 rural water tanks discharger-2020",
         "type": "scatter",
         "x": [],
         "y": []
        },
        {
         "mode": "lines",
         "name": "1-Zone (DE) – GB5 0 urban decentral water tanks discharger-2020",
         "type": "scatter",
         "x": [],
         "y": []
        },
        {
         "mode": "lines",
         "name": "1-Zone (DE) – IT0 0 urban decentral water tanks discharger-2020",
         "type": "scatter",
         "x": [],
         "y": []
        },
        {
         "mode": "lines",
         "name": "1-Zone (DE) – IT3 0 rural water tanks discharger-2020",
         "type": "scatter",
         "x": [],
         "y": []
        },
        {
         "mode": "lines",
         "name": "1-Zone (DE) – LU0 0 rural water tanks discharger-2020",
         "type": "scatter",
         "x": [],
         "y": []
        },
        {
         "mode": "lines",
         "name": "1-Zone (DE) – LU0 0 urban decentral water tanks discharger-2020",
         "type": "scatter",
         "x": [],
         "y": []
        },
        {
         "mode": "lines",
         "name": "1-Zone (DE) – NL0 0 rural water tanks discharger-2020",
         "type": "scatter",
         "x": [],
         "y": []
        },
        {
         "mode": "lines",
         "name": "1-Zone (DE) – NO1 0 rural water tanks discharger-2020",
         "type": "scatter",
         "x": [],
         "y": []
        },
        {
         "mode": "lines",
         "name": "1-Zone (DE) – NO1 0 urban decentral water tanks discharger-2020",
         "type": "scatter",
         "x": [],
         "y": []
        },
        {
         "mode": "lines",
         "name": "1-Zone (DE) – PL0 0 rural water tanks discharger-2020",
         "type": "scatter",
         "x": [],
         "y": []
        },
        {
         "mode": "lines",
         "name": "1-Zone (DE) – PL0 0 urban decentral water tanks discharger-2020",
         "type": "scatter",
         "x": [],
         "y": []
        },
        {
         "mode": "lines",
         "name": "1-Zone (DE) – SE1 0 urban decentral water tanks discharger-2020",
         "type": "scatter",
         "x": [],
         "y": []
        },
        {
         "mode": "lines",
         "name": "1H Res, 1-Zone (DE) – AT0 0 battery discharger-2045",
         "type": "scatter",
         "x": [],
         "y": []
        },
        {
         "mode": "lines",
         "name": "1H Res, 1-Zone (DE) – BE0 0 battery discharger-2045",
         "type": "scatter",
         "x": [],
         "y": []
        },
        {
         "mode": "lines",
         "name": "1H Res, 1-Zone (DE) – CH0 0 battery discharger-2045",
         "type": "scatter",
         "x": [],
         "y": []
        },
        {
         "mode": "lines",
         "name": "1H Res, 1-Zone (DE) – CZ0 0 battery discharger-2045",
         "type": "scatter",
         "x": [],
         "y": []
        },
        {
         "mode": "lines",
         "name": "1H Res, 1-Zone (DE) – DE0 0 battery discharger-2045",
         "type": "scatter",
         "x": [],
         "y": []
        },
        {
         "mode": "lines",
         "name": "1H Res, 1-Zone (DE) – DK0 0 battery discharger-2045",
         "type": "scatter",
         "x": [],
         "y": []
        },
        {
         "mode": "lines",
         "name": "1H Res, 1-Zone (DE) – DK1 0 battery discharger-2045",
         "type": "scatter",
         "x": [],
         "y": []
        },
        {
         "mode": "lines",
         "name": "1H Res, 1-Zone (DE) – ES0 0 battery discharger-2045",
         "type": "scatter",
         "x": [],
         "y": []
        },
        {
         "mode": "lines",
         "name": "1H Res, 1-Zone (DE) – ES6 0 battery discharger-2045",
         "type": "scatter",
         "x": [],
         "y": []
        },
        {
         "mode": "lines",
         "name": "1H Res, 1-Zone (DE) – FR0 0 battery discharger-2045",
         "type": "scatter",
         "x": [],
         "y": []
        },
        {
         "mode": "lines",
         "name": "1H Res, 1-Zone (DE) – FR4 0 battery discharger-2045",
         "type": "scatter",
         "x": [],
         "y": []
        },
        {
         "mode": "lines",
         "name": "1H Res, 1-Zone (DE) – GB2 0 battery discharger-2045",
         "type": "scatter",
         "x": [],
         "y": []
        },
        {
         "mode": "lines",
         "name": "1H Res, 1-Zone (DE) – GB5 0 battery discharger-2045",
         "type": "scatter",
         "x": [],
         "y": []
        },
        {
         "mode": "lines",
         "name": "1H Res, 1-Zone (DE) – IT0 0 battery discharger-2045",
         "type": "scatter",
         "x": [],
         "y": []
        },
        {
         "mode": "lines",
         "name": "1H Res, 1-Zone (DE) – IT3 0 battery discharger-2045",
         "type": "scatter",
         "x": [],
         "y": []
        },
        {
         "mode": "lines",
         "name": "1H Res, 1-Zone (DE) – LU0 0 battery discharger-2045",
         "type": "scatter",
         "x": [],
         "y": []
        },
        {
         "mode": "lines",
         "name": "1H Res, 1-Zone (DE) – NL0 0 battery discharger-2045",
         "type": "scatter",
         "x": [],
         "y": []
        },
        {
         "mode": "lines",
         "name": "1H Res, 1-Zone (DE) – NO1 0 battery discharger-2045",
         "type": "scatter",
         "x": [],
         "y": []
        },
        {
         "mode": "lines",
         "name": "1H Res, 1-Zone (DE) – PL0 0 battery discharger-2045",
         "type": "scatter",
         "x": [],
         "y": []
        },
        {
         "mode": "lines",
         "name": "1H Res, 1-Zone (DE) – SE1 0 battery discharger-2045",
         "type": "scatter",
         "x": [],
         "y": []
        },
        {
         "mode": "lines",
         "name": "1H Res, 1-Zone (DE) – AT0 0 urban central water tanks discharger-2045",
         "type": "scatter",
         "x": [],
         "y": []
        },
        {
         "mode": "lines",
         "name": "1H Res, 1-Zone (DE) – BE0 0 urban central water tanks discharger-2045",
         "type": "scatter",
         "x": [],
         "y": []
        },
        {
         "mode": "lines",
         "name": "1H Res, 1-Zone (DE) – CH0 0 urban central water tanks discharger-2045",
         "type": "scatter",
         "x": [],
         "y": []
        },
        {
         "mode": "lines",
         "name": "1H Res, 1-Zone (DE) – CZ0 0 urban central water tanks discharger-2045",
         "type": "scatter",
         "x": [],
         "y": []
        },
        {
         "mode": "lines",
         "name": "1H Res, 1-Zone (DE) – DE0 0 urban central water tanks discharger-2045",
         "type": "scatter",
         "x": [],
         "y": []
        },
        {
         "mode": "lines",
         "name": "1H Res, 1-Zone (DE) – DK0 0 urban central water tanks discharger-2045",
         "type": "scatter",
         "x": [],
         "y": []
        },
        {
         "mode": "lines",
         "name": "1H Res, 1-Zone (DE) – DK1 0 urban central water tanks discharger-2045",
         "type": "scatter",
         "x": [],
         "y": []
        },
        {
         "mode": "lines",
         "name": "1H Res, 1-Zone (DE) – ES0 0 urban central water tanks discharger-2045",
         "type": "scatter",
         "x": [],
         "y": []
        },
        {
         "mode": "lines",
         "name": "1H Res, 1-Zone (DE) – ES6 0 urban central water tanks discharger-2045",
         "type": "scatter",
         "x": [],
         "y": []
        },
        {
         "mode": "lines",
         "name": "1H Res, 1-Zone (DE) – FR0 0 urban central water tanks discharger-2045",
         "type": "scatter",
         "x": [],
         "y": []
        },
        {
         "mode": "lines",
         "name": "1H Res, 1-Zone (DE) – GB2 0 urban central water tanks discharger-2045",
         "type": "scatter",
         "x": [],
         "y": []
        },
        {
         "mode": "lines",
         "name": "1H Res, 1-Zone (DE) – GB5 0 urban central water tanks discharger-2045",
         "type": "scatter",
         "x": [],
         "y": []
        },
        {
         "mode": "lines",
         "name": "1H Res, 1-Zone (DE) – IT0 0 urban central water tanks discharger-2045",
         "type": "scatter",
         "x": [],
         "y": []
        },
        {
         "mode": "lines",
         "name": "1H Res, 1-Zone (DE) – IT3 0 urban central water tanks discharger-2045",
         "type": "scatter",
         "x": [],
         "y": []
        },
        {
         "mode": "lines",
         "name": "1H Res, 1-Zone (DE) – LU0 0 urban central water tanks discharger-2045",
         "type": "scatter",
         "x": [],
         "y": []
        },
        {
         "mode": "lines",
         "name": "1H Res, 1-Zone (DE) – NL0 0 urban central water tanks discharger-2045",
         "type": "scatter",
         "x": [],
         "y": []
        },
        {
         "mode": "lines",
         "name": "1H Res, 1-Zone (DE) – NO1 0 urban central water tanks discharger-2045",
         "type": "scatter",
         "x": [],
         "y": []
        },
        {
         "mode": "lines",
         "name": "1H Res, 1-Zone (DE) – PL0 0 urban central water tanks discharger-2045",
         "type": "scatter",
         "x": [],
         "y": []
        },
        {
         "mode": "lines",
         "name": "1H Res, 1-Zone (DE) – SE1 0 urban central water tanks discharger-2045",
         "type": "scatter",
         "x": [],
         "y": []
        },
        {
         "mode": "lines",
         "name": "1H Res, 1-Zone (DE) – AT0 0 urban central water pits discharger-2045",
         "type": "scatter",
         "x": [],
         "y": []
        },
        {
         "mode": "lines",
         "name": "1H Res, 1-Zone (DE) – BE0 0 urban central water pits discharger-2045",
         "type": "scatter",
         "x": [],
         "y": []
        },
        {
         "mode": "lines",
         "name": "1H Res, 1-Zone (DE) – CH0 0 urban central water pits discharger-2045",
         "type": "scatter",
         "x": [],
         "y": []
        },
        {
         "mode": "lines",
         "name": "1H Res, 1-Zone (DE) – CZ0 0 urban central water pits discharger-2045",
         "type": "scatter",
         "x": [],
         "y": []
        },
        {
         "mode": "lines",
         "name": "1H Res, 1-Zone (DE) – DE0 0 urban central water pits discharger-2045",
         "type": "scatter",
         "x": [],
         "y": []
        },
        {
         "mode": "lines",
         "name": "1H Res, 1-Zone (DE) – DK0 0 urban central water pits discharger-2045",
         "type": "scatter",
         "x": [],
         "y": []
        },
        {
         "mode": "lines",
         "name": "1H Res, 1-Zone (DE) – DK1 0 urban central water pits discharger-2045",
         "type": "scatter",
         "x": [],
         "y": []
        },
        {
         "mode": "lines",
         "name": "1H Res, 1-Zone (DE) – ES0 0 urban central water pits discharger-2045",
         "type": "scatter",
         "x": [],
         "y": []
        },
        {
         "mode": "lines",
         "name": "1H Res, 1-Zone (DE) – ES6 0 urban central water pits discharger-2045",
         "type": "scatter",
         "x": [],
         "y": []
        },
        {
         "mode": "lines",
         "name": "1H Res, 1-Zone (DE) – FR0 0 urban central water pits discharger-2045",
         "type": "scatter",
         "x": [],
         "y": []
        },
        {
         "mode": "lines",
         "name": "1H Res, 1-Zone (DE) – GB2 0 urban central water pits discharger-2045",
         "type": "scatter",
         "x": [],
         "y": []
        },
        {
         "mode": "lines",
         "name": "1H Res, 1-Zone (DE) – GB5 0 urban central water pits discharger-2045",
         "type": "scatter",
         "x": [],
         "y": []
        },
        {
         "mode": "lines",
         "name": "1H Res, 1-Zone (DE) – IT0 0 urban central water pits discharger-2045",
         "type": "scatter",
         "x": [],
         "y": []
        },
        {
         "mode": "lines",
         "name": "1H Res, 1-Zone (DE) – IT3 0 urban central water pits discharger-2045",
         "type": "scatter",
         "x": [],
         "y": []
        },
        {
         "mode": "lines",
         "name": "1H Res, 1-Zone (DE) – LU0 0 urban central water pits discharger-2045",
         "type": "scatter",
         "x": [],
         "y": []
        },
        {
         "mode": "lines",
         "name": "1H Res, 1-Zone (DE) – NL0 0 urban central water pits discharger-2045",
         "type": "scatter",
         "x": [],
         "y": []
        },
        {
         "mode": "lines",
         "name": "1H Res, 1-Zone (DE) – NO1 0 urban central water pits discharger-2045",
         "type": "scatter",
         "x": [],
         "y": []
        },
        {
         "mode": "lines",
         "name": "1H Res, 1-Zone (DE) – PL0 0 urban central water pits discharger-2045",
         "type": "scatter",
         "x": [],
         "y": []
        },
        {
         "mode": "lines",
         "name": "1H Res, 1-Zone (DE) – SE1 0 urban central water pits discharger-2045",
         "type": "scatter",
         "x": [],
         "y": []
        },
        {
         "mode": "lines",
         "name": "1H Res, 1-Zone (DE) – AT0 0 home battery discharger-2045",
         "type": "scatter",
         "x": [],
         "y": []
        },
        {
         "mode": "lines",
         "name": "1H Res, 1-Zone (DE) – BE0 0 home battery discharger-2045",
         "type": "scatter",
         "x": [],
         "y": []
        },
        {
         "mode": "lines",
         "name": "1H Res, 1-Zone (DE) – CH0 0 home battery discharger-2045",
         "type": "scatter",
         "x": [],
         "y": []
        },
        {
         "mode": "lines",
         "name": "1H Res, 1-Zone (DE) – CZ0 0 home battery discharger-2045",
         "type": "scatter",
         "x": [],
         "y": []
        },
        {
         "mode": "lines",
         "name": "1H Res, 1-Zone (DE) – DE0 0 home battery discharger-2045",
         "type": "scatter",
         "x": [],
         "y": []
        },
        {
         "mode": "lines",
         "name": "1H Res, 1-Zone (DE) – DK0 0 home battery discharger-2045",
         "type": "scatter",
         "x": [],
         "y": []
        },
        {
         "mode": "lines",
         "name": "1H Res, 1-Zone (DE) – DK1 0 home battery discharger-2045",
         "type": "scatter",
         "x": [],
         "y": []
        },
        {
         "mode": "lines",
         "name": "1H Res, 1-Zone (DE) – ES0 0 home battery discharger-2045",
         "type": "scatter",
         "x": [],
         "y": []
        },
        {
         "mode": "lines",
         "name": "1H Res, 1-Zone (DE) – ES6 0 home battery discharger-2045",
         "type": "scatter",
         "x": [],
         "y": []
        },
        {
         "mode": "lines",
         "name": "1H Res, 1-Zone (DE) – FR0 0 home battery discharger-2045",
         "type": "scatter",
         "x": [],
         "y": []
        },
        {
         "mode": "lines",
         "name": "1H Res, 1-Zone (DE) – FR4 0 home battery discharger-2045",
         "type": "scatter",
         "x": [],
         "y": []
        },
        {
         "mode": "lines",
         "name": "1H Res, 1-Zone (DE) – GB2 0 home battery discharger-2045",
         "type": "scatter",
         "x": [],
         "y": []
        },
        {
         "mode": "lines",
         "name": "1H Res, 1-Zone (DE) – GB5 0 home battery discharger-2045",
         "type": "scatter",
         "x": [],
         "y": []
        },
        {
         "mode": "lines",
         "name": "1H Res, 1-Zone (DE) – IT0 0 home battery discharger-2045",
         "type": "scatter",
         "x": [],
         "y": []
        },
        {
         "mode": "lines",
         "name": "1H Res, 1-Zone (DE) – IT3 0 home battery discharger-2045",
         "type": "scatter",
         "x": [],
         "y": []
        },
        {
         "mode": "lines",
         "name": "1H Res, 1-Zone (DE) – LU0 0 home battery discharger-2045",
         "type": "scatter",
         "x": [],
         "y": []
        },
        {
         "mode": "lines",
         "name": "1H Res, 1-Zone (DE) – NL0 0 home battery discharger-2045",
         "type": "scatter",
         "x": [],
         "y": []
        },
        {
         "mode": "lines",
         "name": "1H Res, 1-Zone (DE) – NO1 0 home battery discharger-2045",
         "type": "scatter",
         "x": [],
         "y": []
        },
        {
         "mode": "lines",
         "name": "1H Res, 1-Zone (DE) – PL0 0 home battery discharger-2045",
         "type": "scatter",
         "x": [],
         "y": []
        },
        {
         "mode": "lines",
         "name": "1H Res, 1-Zone (DE) – SE1 0 home battery discharger-2045",
         "type": "scatter",
         "x": [],
         "y": []
        },
        {
         "mode": "lines",
         "name": "1H Res, 1-Zone (DE) – AT0 0 rural water tanks discharger-2045",
         "type": "scatter",
         "x": [],
         "y": []
        },
        {
         "mode": "lines",
         "name": "1H Res, 1-Zone (DE) – AT0 0 urban decentral water tanks discharger-2045",
         "type": "scatter",
         "x": [],
         "y": []
        },
        {
         "mode": "lines",
         "name": "1H Res, 1-Zone (DE) – BE0 0 rural water tanks discharger-2045",
         "type": "scatter",
         "x": [],
         "y": []
        },
        {
         "mode": "lines",
         "name": "1H Res, 1-Zone (DE) – BE0 0 urban decentral water tanks discharger-2045",
         "type": "scatter",
         "x": [],
         "y": []
        },
        {
         "mode": "lines",
         "name": "1H Res, 1-Zone (DE) – CH0 0 rural water tanks discharger-2045",
         "type": "scatter",
         "x": [],
         "y": []
        },
        {
         "mode": "lines",
         "name": "1H Res, 1-Zone (DE) – CH0 0 urban decentral water tanks discharger-2045",
         "type": "scatter",
         "x": [],
         "y": []
        },
        {
         "mode": "lines",
         "name": "1H Res, 1-Zone (DE) – CZ0 0 rural water tanks discharger-2045",
         "type": "scatter",
         "x": [],
         "y": []
        },
        {
         "mode": "lines",
         "name": "1H Res, 1-Zone (DE) – CZ0 0 urban decentral water tanks discharger-2045",
         "type": "scatter",
         "x": [],
         "y": []
        },
        {
         "mode": "lines",
         "name": "1H Res, 1-Zone (DE) – DE0 0 rural water tanks discharger-2045",
         "type": "scatter",
         "x": [],
         "y": []
        },
        {
         "mode": "lines",
         "name": "1H Res, 1-Zone (DE) – DE0 0 urban decentral water tanks discharger-2045",
         "type": "scatter",
         "x": [],
         "y": []
        },
        {
         "mode": "lines",
         "name": "1H Res, 1-Zone (DE) – DK0 0 rural water tanks discharger-2045",
         "type": "scatter",
         "x": [],
         "y": []
        },
        {
         "mode": "lines",
         "name": "1H Res, 1-Zone (DE) – DK0 0 urban decentral water tanks discharger-2045",
         "type": "scatter",
         "x": [],
         "y": []
        },
        {
         "mode": "lines",
         "name": "1H Res, 1-Zone (DE) – DK1 0 rural water tanks discharger-2045",
         "type": "scatter",
         "x": [],
         "y": []
        },
        {
         "mode": "lines",
         "name": "1H Res, 1-Zone (DE) – DK1 0 urban decentral water tanks discharger-2045",
         "type": "scatter",
         "x": [],
         "y": []
        },
        {
         "mode": "lines",
         "name": "1H Res, 1-Zone (DE) – ES0 0 rural water tanks discharger-2045",
         "type": "scatter",
         "x": [],
         "y": []
        },
        {
         "mode": "lines",
         "name": "1H Res, 1-Zone (DE) – ES0 0 urban decentral water tanks discharger-2045",
         "type": "scatter",
         "x": [],
         "y": []
        },
        {
         "mode": "lines",
         "name": "1H Res, 1-Zone (DE) – ES6 0 rural water tanks discharger-2045",
         "type": "scatter",
         "x": [],
         "y": []
        },
        {
         "mode": "lines",
         "name": "1H Res, 1-Zone (DE) – ES6 0 urban decentral water tanks discharger-2045",
         "type": "scatter",
         "x": [],
         "y": []
        },
        {
         "mode": "lines",
         "name": "1H Res, 1-Zone (DE) – FR0 0 rural water tanks discharger-2045",
         "type": "scatter",
         "x": [],
         "y": []
        },
        {
         "mode": "lines",
         "name": "1H Res, 1-Zone (DE) – FR0 0 urban decentral water tanks discharger-2045",
         "type": "scatter",
         "x": [],
         "y": []
        },
        {
         "mode": "lines",
         "name": "1H Res, 1-Zone (DE) – FR4 0 rural water tanks discharger-2045",
         "type": "scatter",
         "x": [],
         "y": []
        },
        {
         "mode": "lines",
         "name": "1H Res, 1-Zone (DE) – FR4 0 urban decentral water tanks discharger-2045",
         "type": "scatter",
         "x": [],
         "y": []
        },
        {
         "mode": "lines",
         "name": "1H Res, 1-Zone (DE) – GB2 0 rural water tanks discharger-2045",
         "type": "scatter",
         "x": [],
         "y": []
        },
        {
         "mode": "lines",
         "name": "1H Res, 1-Zone (DE) – GB2 0 urban decentral water tanks discharger-2045",
         "type": "scatter",
         "x": [],
         "y": []
        },
        {
         "mode": "lines",
         "name": "1H Res, 1-Zone (DE) – GB5 0 rural water tanks discharger-2045",
         "type": "scatter",
         "x": [],
         "y": []
        },
        {
         "mode": "lines",
         "name": "1H Res, 1-Zone (DE) – GB5 0 urban decentral water tanks discharger-2045",
         "type": "scatter",
         "x": [],
         "y": []
        },
        {
         "mode": "lines",
         "name": "1H Res, 1-Zone (DE) – IT0 0 rural water tanks discharger-2045",
         "type": "scatter",
         "x": [],
         "y": []
        },
        {
         "mode": "lines",
         "name": "1H Res, 1-Zone (DE) – IT0 0 urban decentral water tanks discharger-2045",
         "type": "scatter",
         "x": [],
         "y": []
        },
        {
         "mode": "lines",
         "name": "1H Res, 1-Zone (DE) – IT3 0 rural water tanks discharger-2045",
         "type": "scatter",
         "x": [],
         "y": []
        },
        {
         "mode": "lines",
         "name": "1H Res, 1-Zone (DE) – IT3 0 urban decentral water tanks discharger-2045",
         "type": "scatter",
         "x": [],
         "y": []
        },
        {
         "mode": "lines",
         "name": "1H Res, 1-Zone (DE) – LU0 0 rural water tanks discharger-2045",
         "type": "scatter",
         "x": [],
         "y": []
        },
        {
         "mode": "lines",
         "name": "1H Res, 1-Zone (DE) – LU0 0 urban decentral water tanks discharger-2045",
         "type": "scatter",
         "x": [],
         "y": []
        },
        {
         "mode": "lines",
         "name": "1H Res, 1-Zone (DE) – NL0 0 rural water tanks discharger-2045",
         "type": "scatter",
         "x": [],
         "y": []
        },
        {
         "mode": "lines",
         "name": "1H Res, 1-Zone (DE) – NL0 0 urban decentral water tanks discharger-2045",
         "type": "scatter",
         "x": [],
         "y": []
        },
        {
         "mode": "lines",
         "name": "1H Res, 1-Zone (DE) – NO1 0 rural water tanks discharger-2045",
         "type": "scatter",
         "x": [],
         "y": []
        },
        {
         "mode": "lines",
         "name": "1H Res, 1-Zone (DE) – NO1 0 urban decentral water tanks discharger-2045",
         "type": "scatter",
         "x": [],
         "y": []
        },
        {
         "mode": "lines",
         "name": "1H Res, 1-Zone (DE) – PL0 0 rural water tanks discharger-2045",
         "type": "scatter",
         "x": [],
         "y": []
        },
        {
         "mode": "lines",
         "name": "1H Res, 1-Zone (DE) – PL0 0 urban decentral water tanks discharger-2045",
         "type": "scatter",
         "x": [],
         "y": []
        },
        {
         "mode": "lines",
         "name": "1H Res, 1-Zone (DE) – SE1 0 rural water tanks discharger-2045",
         "type": "scatter",
         "x": [],
         "y": []
        },
        {
         "mode": "lines",
         "name": "1H Res, 1-Zone (DE) – SE1 0 urban decentral water tanks discharger-2045",
         "type": "scatter",
         "x": [],
         "y": []
        },
        {
         "mode": "lines",
         "name": "1H Res, 1-Zone (DE) – AT0 0 battery discharger-2040",
         "type": "scatter",
         "x": [],
         "y": []
        },
        {
         "mode": "lines",
         "name": "1H Res, 1-Zone (DE) – BE0 0 battery discharger-2040",
         "type": "scatter",
         "x": [],
         "y": []
        },
        {
         "mode": "lines",
         "name": "1H Res, 1-Zone (DE) – CH0 0 battery discharger-2040",
         "type": "scatter",
         "x": [],
         "y": []
        },
        {
         "mode": "lines",
         "name": "1H Res, 1-Zone (DE) – CZ0 0 battery discharger-2040",
         "type": "scatter",
         "x": [],
         "y": []
        },
        {
         "mode": "lines",
         "name": "1H Res, 1-Zone (DE) – DE0 0 battery discharger-2040",
         "type": "scatter",
         "x": [],
         "y": []
        },
        {
         "mode": "lines",
         "name": "1H Res, 1-Zone (DE) – ES0 0 battery discharger-2040",
         "type": "scatter",
         "x": [],
         "y": []
        },
        {
         "mode": "lines",
         "name": "1H Res, 1-Zone (DE) – ES6 0 battery discharger-2040",
         "type": "scatter",
         "x": [],
         "y": []
        },
        {
         "mode": "lines",
         "name": "1H Res, 1-Zone (DE) – FR0 0 battery discharger-2040",
         "type": "scatter",
         "x": [],
         "y": []
        },
        {
         "mode": "lines",
         "name": "1H Res, 1-Zone (DE) – GB2 0 battery discharger-2040",
         "type": "scatter",
         "x": [],
         "y": []
        },
        {
         "mode": "lines",
         "name": "1H Res, 1-Zone (DE) – IT0 0 battery discharger-2040",
         "type": "scatter",
         "x": [],
         "y": []
        },
        {
         "mode": "lines",
         "name": "1H Res, 1-Zone (DE) – IT3 0 battery discharger-2040",
         "type": "scatter",
         "x": [],
         "y": []
        },
        {
         "mode": "lines",
         "name": "1H Res, 1-Zone (DE) – NL0 0 battery discharger-2040",
         "type": "scatter",
         "x": [],
         "y": []
        },
        {
         "mode": "lines",
         "name": "1H Res, 1-Zone (DE) – PL0 0 battery discharger-2040",
         "type": "scatter",
         "x": [],
         "y": []
        },
        {
         "mode": "lines",
         "name": "1H Res, 1-Zone (DE) – AT0 0 urban central water pits discharger-2040",
         "type": "scatter",
         "x": [],
         "y": []
        },
        {
         "mode": "lines",
         "name": "1H Res, 1-Zone (DE) – BE0 0 urban central water pits discharger-2040",
         "type": "scatter",
         "x": [],
         "y": []
        },
        {
         "mode": "lines",
         "name": "1H Res, 1-Zone (DE) – CH0 0 urban central water pits discharger-2040",
         "type": "scatter",
         "x": [],
         "y": []
        },
        {
         "mode": "lines",
         "name": "1H Res, 1-Zone (DE) – CZ0 0 urban central water pits discharger-2040",
         "type": "scatter",
         "x": [],
         "y": []
        },
        {
         "mode": "lines",
         "name": "1H Res, 1-Zone (DE) – DK0 0 urban central water pits discharger-2040",
         "type": "scatter",
         "x": [],
         "y": []
        },
        {
         "mode": "lines",
         "name": "1H Res, 1-Zone (DE) – DK1 0 urban central water pits discharger-2040",
         "type": "scatter",
         "x": [],
         "y": []
        },
        {
         "mode": "lines",
         "name": "1H Res, 1-Zone (DE) – ES0 0 urban central water pits discharger-2040",
         "type": "scatter",
         "x": [],
         "y": []
        },
        {
         "mode": "lines",
         "name": "1H Res, 1-Zone (DE) – ES6 0 urban central water pits discharger-2040",
         "type": "scatter",
         "x": [],
         "y": []
        },
        {
         "mode": "lines",
         "name": "1H Res, 1-Zone (DE) – FR0 0 urban central water pits discharger-2040",
         "type": "scatter",
         "x": [],
         "y": []
        },
        {
         "mode": "lines",
         "name": "1H Res, 1-Zone (DE) – IT0 0 urban central water pits discharger-2040",
         "type": "scatter",
         "x": [],
         "y": []
        },
        {
         "mode": "lines",
         "name": "1H Res, 1-Zone (DE) – PL0 0 urban central water pits discharger-2040",
         "type": "scatter",
         "x": [],
         "y": []
        },
        {
         "mode": "lines",
         "name": "1H Res, 1-Zone (DE) – SE1 0 urban central water pits discharger-2040",
         "type": "scatter",
         "x": [],
         "y": []
        },
        {
         "mode": "lines",
         "name": "1H Res, 1-Zone (DE) – CH0 0 home battery discharger-2040",
         "type": "scatter",
         "x": [],
         "y": []
        },
        {
         "mode": "lines",
         "name": "1H Res, 1-Zone (DE) – CZ0 0 home battery discharger-2040",
         "type": "scatter",
         "x": [],
         "y": []
        },
        {
         "mode": "lines",
         "name": "1H Res, 1-Zone (DE) – DE0 0 home battery discharger-2040",
         "type": "scatter",
         "x": [],
         "y": []
        },
        {
         "mode": "lines",
         "name": "1H Res, 1-Zone (DE) – DK1 0 home battery discharger-2040",
         "type": "scatter",
         "x": [],
         "y": []
        },
        {
         "mode": "lines",
         "name": "1H Res, 1-Zone (DE) – ES0 0 home battery discharger-2040",
         "type": "scatter",
         "x": [],
         "y": []
        },
        {
         "mode": "lines",
         "name": "1H Res, 1-Zone (DE) – FR0 0 home battery discharger-2040",
         "type": "scatter",
         "x": [],
         "y": []
        },
        {
         "mode": "lines",
         "name": "1H Res, 1-Zone (DE) – FR4 0 home battery discharger-2040",
         "type": "scatter",
         "x": [],
         "y": []
        },
        {
         "mode": "lines",
         "name": "1H Res, 1-Zone (DE) – GB2 0 home battery discharger-2040",
         "type": "scatter",
         "x": [],
         "y": []
        },
        {
         "mode": "lines",
         "name": "1H Res, 1-Zone (DE) – IT0 0 home battery discharger-2040",
         "type": "scatter",
         "x": [],
         "y": []
        },
        {
         "mode": "lines",
         "name": "1H Res, 1-Zone (DE) – IT3 0 home battery discharger-2040",
         "type": "scatter",
         "x": [],
         "y": []
        },
        {
         "mode": "lines",
         "name": "1H Res, 1-Zone (DE) – NL0 0 home battery discharger-2040",
         "type": "scatter",
         "x": [],
         "y": []
        },
        {
         "mode": "lines",
         "name": "1H Res, 1-Zone (DE) – PL0 0 home battery discharger-2040",
         "type": "scatter",
         "x": [],
         "y": []
        },
        {
         "mode": "lines",
         "name": "1H Res, 1-Zone (DE) – SE1 0 home battery discharger-2040",
         "type": "scatter",
         "x": [],
         "y": []
        },
        {
         "mode": "lines",
         "name": "1H Res, 1-Zone (DE) – CZ0 0 rural water tanks discharger-2040",
         "type": "scatter",
         "x": [],
         "y": []
        },
        {
         "mode": "lines",
         "name": "1H Res, 1-Zone (DE) – IT0 0 rural water tanks discharger-2040",
         "type": "scatter",
         "x": [],
         "y": []
        },
        {
         "mode": "lines",
         "name": "1H Res, 1-Zone (DE) – PL0 0 rural water tanks discharger-2040",
         "type": "scatter",
         "x": [],
         "y": []
        },
        {
         "mode": "lines",
         "name": "1H Res, 1-Zone (DE) – PL0 0 urban decentral water tanks discharger-2040",
         "type": "scatter",
         "x": [],
         "y": []
        },
        {
         "mode": "lines",
         "name": "1H Res, 1-Zone (DE) – SE1 0 rural water tanks discharger-2040",
         "type": "scatter",
         "x": [],
         "y": []
        },
        {
         "mode": "lines",
         "name": "1H Res, 1-Zone (DE) – AT0 0 urban central water pits discharger-2035",
         "type": "scatter",
         "x": [],
         "y": []
        },
        {
         "mode": "lines",
         "name": "1H Res, 1-Zone (DE) – BE0 0 urban central water pits discharger-2035",
         "type": "scatter",
         "x": [],
         "y": []
        },
        {
         "mode": "lines",
         "name": "1H Res, 1-Zone (DE) – CH0 0 urban central water pits discharger-2035",
         "type": "scatter",
         "x": [],
         "y": []
        },
        {
         "mode": "lines",
         "name": "1H Res, 1-Zone (DE) – CZ0 0 urban central water pits discharger-2035",
         "type": "scatter",
         "x": [],
         "y": []
        },
        {
         "mode": "lines",
         "name": "1H Res, 1-Zone (DE) – DE0 0 urban central water pits discharger-2035",
         "type": "scatter",
         "x": [],
         "y": []
        },
        {
         "mode": "lines",
         "name": "1H Res, 1-Zone (DE) – DK0 0 urban central water pits discharger-2035",
         "type": "scatter",
         "x": [],
         "y": []
        },
        {
         "mode": "lines",
         "name": "1H Res, 1-Zone (DE) – DK1 0 urban central water pits discharger-2035",
         "type": "scatter",
         "x": [],
         "y": []
        },
        {
         "mode": "lines",
         "name": "1H Res, 1-Zone (DE) – ES0 0 urban central water pits discharger-2035",
         "type": "scatter",
         "x": [],
         "y": []
        },
        {
         "mode": "lines",
         "name": "1H Res, 1-Zone (DE) – ES6 0 urban central water pits discharger-2035",
         "type": "scatter",
         "x": [],
         "y": []
        },
        {
         "mode": "lines",
         "name": "1H Res, 1-Zone (DE) – FR0 0 urban central water pits discharger-2035",
         "type": "scatter",
         "x": [],
         "y": []
        },
        {
         "mode": "lines",
         "name": "1H Res, 1-Zone (DE) – GB2 0 urban central water pits discharger-2035",
         "type": "scatter",
         "x": [],
         "y": []
        },
        {
         "mode": "lines",
         "name": "1H Res, 1-Zone (DE) – GB5 0 urban central water pits discharger-2035",
         "type": "scatter",
         "x": [],
         "y": []
        },
        {
         "mode": "lines",
         "name": "1H Res, 1-Zone (DE) – IT0 0 urban central water pits discharger-2035",
         "type": "scatter",
         "x": [],
         "y": []
        },
        {
         "mode": "lines",
         "name": "1H Res, 1-Zone (DE) – IT3 0 urban central water pits discharger-2035",
         "type": "scatter",
         "x": [],
         "y": []
        },
        {
         "mode": "lines",
         "name": "1H Res, 1-Zone (DE) – LU0 0 urban central water pits discharger-2035",
         "type": "scatter",
         "x": [],
         "y": []
        },
        {
         "mode": "lines",
         "name": "1H Res, 1-Zone (DE) – NL0 0 urban central water pits discharger-2035",
         "type": "scatter",
         "x": [],
         "y": []
        },
        {
         "mode": "lines",
         "name": "1H Res, 1-Zone (DE) – NO1 0 urban central water pits discharger-2035",
         "type": "scatter",
         "x": [],
         "y": []
        },
        {
         "mode": "lines",
         "name": "1H Res, 1-Zone (DE) – PL0 0 urban central water pits discharger-2035",
         "type": "scatter",
         "x": [],
         "y": []
        },
        {
         "mode": "lines",
         "name": "1H Res, 1-Zone (DE) – SE1 0 urban central water pits discharger-2035",
         "type": "scatter",
         "x": [],
         "y": []
        },
        {
         "mode": "lines",
         "name": "1H Res, 1-Zone (DE) – AT0 0 rural water tanks discharger-2035",
         "type": "scatter",
         "x": [],
         "y": []
        },
        {
         "mode": "lines",
         "name": "1H Res, 1-Zone (DE) – CZ0 0 rural water tanks discharger-2035",
         "type": "scatter",
         "x": [],
         "y": []
        },
        {
         "mode": "lines",
         "name": "1H Res, 1-Zone (DE) – DE0 0 rural water tanks discharger-2035",
         "type": "scatter",
         "x": [],
         "y": []
        },
        {
         "mode": "lines",
         "name": "1H Res, 1-Zone (DE) – DE0 0 urban decentral water tanks discharger-2035",
         "type": "scatter",
         "x": [],
         "y": []
        },
        {
         "mode": "lines",
         "name": "1H Res, 1-Zone (DE) – DK0 0 urban decentral water tanks discharger-2035",
         "type": "scatter",
         "x": [],
         "y": []
        },
        {
         "mode": "lines",
         "name": "1H Res, 1-Zone (DE) – FR0 0 rural water tanks discharger-2035",
         "type": "scatter",
         "x": [],
         "y": []
        },
        {
         "mode": "lines",
         "name": "1H Res, 1-Zone (DE) – GB2 0 rural water tanks discharger-2035",
         "type": "scatter",
         "x": [],
         "y": []
        },
        {
         "mode": "lines",
         "name": "1H Res, 1-Zone (DE) – GB2 0 urban decentral water tanks discharger-2035",
         "type": "scatter",
         "x": [],
         "y": []
        },
        {
         "mode": "lines",
         "name": "1H Res, 1-Zone (DE) – GB5 0 rural water tanks discharger-2035",
         "type": "scatter",
         "x": [],
         "y": []
        },
        {
         "mode": "lines",
         "name": "1H Res, 1-Zone (DE) – GB5 0 urban decentral water tanks discharger-2035",
         "type": "scatter",
         "x": [],
         "y": []
        },
        {
         "mode": "lines",
         "name": "1H Res, 1-Zone (DE) – IT0 0 rural water tanks discharger-2035",
         "type": "scatter",
         "x": [],
         "y": []
        },
        {
         "mode": "lines",
         "name": "1H Res, 1-Zone (DE) – NL0 0 urban decentral water tanks discharger-2035",
         "type": "scatter",
         "x": [],
         "y": []
        },
        {
         "mode": "lines",
         "name": "1H Res, 1-Zone (DE) – PL0 0 rural water tanks discharger-2035",
         "type": "scatter",
         "x": [],
         "y": []
        },
        {
         "mode": "lines",
         "name": "1H Res, 1-Zone (DE) – PL0 0 urban decentral water tanks discharger-2035",
         "type": "scatter",
         "x": [],
         "y": []
        },
        {
         "mode": "lines",
         "name": "1H Res, 1-Zone (DE) – AT0 0 urban central water pits discharger-2030",
         "type": "scatter",
         "x": [],
         "y": []
        },
        {
         "mode": "lines",
         "name": "1H Res, 1-Zone (DE) – BE0 0 urban central water pits discharger-2030",
         "type": "scatter",
         "x": [],
         "y": []
        },
        {
         "mode": "lines",
         "name": "1H Res, 1-Zone (DE) – CH0 0 urban central water pits discharger-2030",
         "type": "scatter",
         "x": [],
         "y": []
        },
        {
         "mode": "lines",
         "name": "1H Res, 1-Zone (DE) – CZ0 0 urban central water pits discharger-2030",
         "type": "scatter",
         "x": [],
         "y": []
        },
        {
         "mode": "lines",
         "name": "1H Res, 1-Zone (DE) – DE0 0 urban central water pits discharger-2030",
         "type": "scatter",
         "x": [],
         "y": []
        },
        {
         "mode": "lines",
         "name": "1H Res, 1-Zone (DE) – DK0 0 urban central water pits discharger-2030",
         "type": "scatter",
         "x": [],
         "y": []
        },
        {
         "mode": "lines",
         "name": "1H Res, 1-Zone (DE) – ES0 0 urban central water pits discharger-2030",
         "type": "scatter",
         "x": [],
         "y": []
        },
        {
         "mode": "lines",
         "name": "1H Res, 1-Zone (DE) – FR0 0 urban central water pits discharger-2030",
         "type": "scatter",
         "x": [],
         "y": []
        },
        {
         "mode": "lines",
         "name": "1H Res, 1-Zone (DE) – GB2 0 urban central water pits discharger-2030",
         "type": "scatter",
         "x": [],
         "y": []
        },
        {
         "mode": "lines",
         "name": "1H Res, 1-Zone (DE) – GB5 0 urban central water pits discharger-2030",
         "type": "scatter",
         "x": [],
         "y": []
        },
        {
         "mode": "lines",
         "name": "1H Res, 1-Zone (DE) – IT0 0 urban central water pits discharger-2030",
         "type": "scatter",
         "x": [],
         "y": []
        },
        {
         "mode": "lines",
         "name": "1H Res, 1-Zone (DE) – IT3 0 urban central water pits discharger-2030",
         "type": "scatter",
         "x": [],
         "y": []
        },
        {
         "mode": "lines",
         "name": "1H Res, 1-Zone (DE) – LU0 0 urban central water pits discharger-2030",
         "type": "scatter",
         "x": [],
         "y": []
        },
        {
         "mode": "lines",
         "name": "1H Res, 1-Zone (DE) – NL0 0 urban central water pits discharger-2030",
         "type": "scatter",
         "x": [],
         "y": []
        },
        {
         "mode": "lines",
         "name": "1H Res, 1-Zone (DE) – NO1 0 urban central water pits discharger-2030",
         "type": "scatter",
         "x": [],
         "y": []
        },
        {
         "mode": "lines",
         "name": "1H Res, 1-Zone (DE) – PL0 0 urban central water pits discharger-2030",
         "type": "scatter",
         "x": [],
         "y": []
        },
        {
         "mode": "lines",
         "name": "1H Res, 1-Zone (DE) – SE1 0 urban central water pits discharger-2030",
         "type": "scatter",
         "x": [],
         "y": []
        },
        {
         "mode": "lines",
         "name": "1H Res, 1-Zone (DE) – CZ0 0 rural water tanks discharger-2030",
         "type": "scatter",
         "x": [],
         "y": []
        },
        {
         "mode": "lines",
         "name": "1H Res, 1-Zone (DE) – DE0 0 rural water tanks discharger-2030",
         "type": "scatter",
         "x": [],
         "y": []
        },
        {
         "mode": "lines",
         "name": "1H Res, 1-Zone (DE) – DE0 0 urban decentral water tanks discharger-2030",
         "type": "scatter",
         "x": [],
         "y": []
        },
        {
         "mode": "lines",
         "name": "1H Res, 1-Zone (DE) – DK1 0 urban decentral water tanks discharger-2030",
         "type": "scatter",
         "x": [],
         "y": []
        },
        {
         "mode": "lines",
         "name": "1H Res, 1-Zone (DE) – GB2 0 rural water tanks discharger-2030",
         "type": "scatter",
         "x": [],
         "y": []
        },
        {
         "mode": "lines",
         "name": "1H Res, 1-Zone (DE) – GB2 0 urban decentral water tanks discharger-2030",
         "type": "scatter",
         "x": [],
         "y": []
        },
        {
         "mode": "lines",
         "name": "1H Res, 1-Zone (DE) – GB5 0 rural water tanks discharger-2030",
         "type": "scatter",
         "x": [],
         "y": []
        },
        {
         "mode": "lines",
         "name": "1H Res, 1-Zone (DE) – GB5 0 urban decentral water tanks discharger-2030",
         "type": "scatter",
         "x": [],
         "y": []
        },
        {
         "mode": "lines",
         "name": "1H Res, 1-Zone (DE) – NL0 0 urban decentral water tanks discharger-2030",
         "type": "scatter",
         "x": [],
         "y": []
        },
        {
         "mode": "lines",
         "name": "1H Res, 1-Zone (DE) – AT0 0 urban central water pits discharger-2025",
         "type": "scatter",
         "x": [],
         "y": []
        },
        {
         "mode": "lines",
         "name": "1H Res, 1-Zone (DE) – BE0 0 urban central water pits discharger-2025",
         "type": "scatter",
         "x": [],
         "y": []
        },
        {
         "mode": "lines",
         "name": "1H Res, 1-Zone (DE) – CH0 0 urban central water pits discharger-2025",
         "type": "scatter",
         "x": [],
         "y": []
        },
        {
         "mode": "lines",
         "name": "1H Res, 1-Zone (DE) – CZ0 0 urban central water pits discharger-2025",
         "type": "scatter",
         "x": [],
         "y": []
        },
        {
         "mode": "lines",
         "name": "1H Res, 1-Zone (DE) – DE0 0 urban central water pits discharger-2025",
         "type": "scatter",
         "x": [],
         "y": []
        },
        {
         "mode": "lines",
         "name": "1H Res, 1-Zone (DE) – DK0 0 urban central water pits discharger-2025",
         "type": "scatter",
         "x": [],
         "y": []
        },
        {
         "mode": "lines",
         "name": "1H Res, 1-Zone (DE) – DK1 0 urban central water pits discharger-2025",
         "type": "scatter",
         "x": [],
         "y": []
        },
        {
         "mode": "lines",
         "name": "1H Res, 1-Zone (DE) – ES0 0 urban central water pits discharger-2025",
         "type": "scatter",
         "x": [],
         "y": []
        },
        {
         "mode": "lines",
         "name": "1H Res, 1-Zone (DE) – FR0 0 urban central water pits discharger-2025",
         "type": "scatter",
         "x": [],
         "y": []
        },
        {
         "mode": "lines",
         "name": "1H Res, 1-Zone (DE) – GB2 0 urban central water pits discharger-2025",
         "type": "scatter",
         "x": [],
         "y": []
        },
        {
         "mode": "lines",
         "name": "1H Res, 1-Zone (DE) – GB5 0 urban central water pits discharger-2025",
         "type": "scatter",
         "x": [],
         "y": []
        },
        {
         "mode": "lines",
         "name": "1H Res, 1-Zone (DE) – IT0 0 urban central water pits discharger-2025",
         "type": "scatter",
         "x": [],
         "y": []
        },
        {
         "mode": "lines",
         "name": "1H Res, 1-Zone (DE) – IT3 0 urban central water pits discharger-2025",
         "type": "scatter",
         "x": [],
         "y": []
        },
        {
         "mode": "lines",
         "name": "1H Res, 1-Zone (DE) – LU0 0 urban central water pits discharger-2025",
         "type": "scatter",
         "x": [],
         "y": []
        },
        {
         "mode": "lines",
         "name": "1H Res, 1-Zone (DE) – NL0 0 urban central water pits discharger-2025",
         "type": "scatter",
         "x": [],
         "y": []
        },
        {
         "mode": "lines",
         "name": "1H Res, 1-Zone (DE) – NO1 0 urban central water pits discharger-2025",
         "type": "scatter",
         "x": [],
         "y": []
        },
        {
         "mode": "lines",
         "name": "1H Res, 1-Zone (DE) – SE1 0 urban central water pits discharger-2025",
         "type": "scatter",
         "x": [],
         "y": []
        },
        {
         "mode": "lines",
         "name": "1H Res, 1-Zone (DE) – AT0 0 rural water tanks discharger-2025",
         "type": "scatter",
         "x": [],
         "y": []
        },
        {
         "mode": "lines",
         "name": "1H Res, 1-Zone (DE) – AT0 0 urban decentral water tanks discharger-2025",
         "type": "scatter",
         "x": [],
         "y": []
        },
        {
         "mode": "lines",
         "name": "1H Res, 1-Zone (DE) – BE0 0 rural water tanks discharger-2025",
         "type": "scatter",
         "x": [],
         "y": []
        },
        {
         "mode": "lines",
         "name": "1H Res, 1-Zone (DE) – BE0 0 urban decentral water tanks discharger-2025",
         "type": "scatter",
         "x": [],
         "y": []
        },
        {
         "mode": "lines",
         "name": "1H Res, 1-Zone (DE) – CZ0 0 rural water tanks discharger-2025",
         "type": "scatter",
         "x": [],
         "y": []
        },
        {
         "mode": "lines",
         "name": "1H Res, 1-Zone (DE) – CZ0 0 urban decentral water tanks discharger-2025",
         "type": "scatter",
         "x": [],
         "y": []
        },
        {
         "mode": "lines",
         "name": "1H Res, 1-Zone (DE) – DE0 0 rural water tanks discharger-2025",
         "type": "scatter",
         "x": [],
         "y": []
        },
        {
         "mode": "lines",
         "name": "1H Res, 1-Zone (DE) – DE0 0 urban decentral water tanks discharger-2025",
         "type": "scatter",
         "x": [],
         "y": []
        },
        {
         "mode": "lines",
         "name": "1H Res, 1-Zone (DE) – DK1 0 urban decentral water tanks discharger-2025",
         "type": "scatter",
         "x": [],
         "y": []
        },
        {
         "mode": "lines",
         "name": "1H Res, 1-Zone (DE) – ES0 0 rural water tanks discharger-2025",
         "type": "scatter",
         "x": [],
         "y": []
        },
        {
         "mode": "lines",
         "name": "1H Res, 1-Zone (DE) – ES0 0 urban decentral water tanks discharger-2025",
         "type": "scatter",
         "x": [],
         "y": []
        },
        {
         "mode": "lines",
         "name": "1H Res, 1-Zone (DE) – FR0 0 rural water tanks discharger-2025",
         "type": "scatter",
         "x": [],
         "y": []
        },
        {
         "mode": "lines",
         "name": "1H Res, 1-Zone (DE) – FR0 0 urban decentral water tanks discharger-2025",
         "type": "scatter",
         "x": [],
         "y": []
        },
        {
         "mode": "lines",
         "name": "1H Res, 1-Zone (DE) – GB2 0 rural water tanks discharger-2025",
         "type": "scatter",
         "x": [],
         "y": []
        },
        {
         "mode": "lines",
         "name": "1H Res, 1-Zone (DE) – GB2 0 urban decentral water tanks discharger-2025",
         "type": "scatter",
         "x": [],
         "y": []
        },
        {
         "mode": "lines",
         "name": "1H Res, 1-Zone (DE) – GB5 0 rural water tanks discharger-2025",
         "type": "scatter",
         "x": [],
         "y": []
        },
        {
         "mode": "lines",
         "name": "1H Res, 1-Zone (DE) – IT0 0 rural water tanks discharger-2025",
         "type": "scatter",
         "x": [],
         "y": []
        },
        {
         "mode": "lines",
         "name": "1H Res, 1-Zone (DE) – IT0 0 urban decentral water tanks discharger-2025",
         "type": "scatter",
         "x": [],
         "y": []
        },
        {
         "mode": "lines",
         "name": "1H Res, 1-Zone (DE) – IT3 0 rural water tanks discharger-2025",
         "type": "scatter",
         "x": [],
         "y": []
        },
        {
         "mode": "lines",
         "name": "1H Res, 1-Zone (DE) – IT3 0 urban decentral water tanks discharger-2025",
         "type": "scatter",
         "x": [],
         "y": []
        },
        {
         "mode": "lines",
         "name": "1H Res, 1-Zone (DE) – NL0 0 rural water tanks discharger-2025",
         "type": "scatter",
         "x": [],
         "y": []
        },
        {
         "mode": "lines",
         "name": "1H Res, 1-Zone (DE) – NL0 0 urban decentral water tanks discharger-2025",
         "type": "scatter",
         "x": [],
         "y": []
        },
        {
         "mode": "lines",
         "name": "1H Res, 1-Zone (DE) – PL0 0 rural water tanks discharger-2025",
         "type": "scatter",
         "x": [],
         "y": []
        },
        {
         "mode": "lines",
         "name": "1H Res, 1-Zone (DE) – PL0 0 urban decentral water tanks discharger-2025",
         "type": "scatter",
         "x": [],
         "y": []
        },
        {
         "mode": "lines",
         "name": "1H Res, 1-Zone (DE) – SE1 0 rural water tanks discharger-2025",
         "type": "scatter",
         "x": [],
         "y": []
        },
        {
         "mode": "lines",
         "name": "1H Res, 1-Zone (DE) – AT0 0 rural water tanks discharger-2020",
         "type": "scatter",
         "x": [],
         "y": []
        },
        {
         "mode": "lines",
         "name": "1H Res, 1-Zone (DE) – AT0 0 urban decentral water tanks discharger-2020",
         "type": "scatter",
         "x": [],
         "y": []
        },
        {
         "mode": "lines",
         "name": "1H Res, 1-Zone (DE) – BE0 0 rural water tanks discharger-2020",
         "type": "scatter",
         "x": [],
         "y": []
        },
        {
         "mode": "lines",
         "name": "1H Res, 1-Zone (DE) – BE0 0 urban decentral water tanks discharger-2020",
         "type": "scatter",
         "x": [],
         "y": []
        },
        {
         "mode": "lines",
         "name": "1H Res, 1-Zone (DE) – CH0 0 rural water tanks discharger-2020",
         "type": "scatter",
         "x": [],
         "y": []
        },
        {
         "mode": "lines",
         "name": "1H Res, 1-Zone (DE) – CH0 0 urban decentral water tanks discharger-2020",
         "type": "scatter",
         "x": [],
         "y": []
        },
        {
         "mode": "lines",
         "name": "1H Res, 1-Zone (DE) – CZ0 0 rural water tanks discharger-2020",
         "type": "scatter",
         "x": [],
         "y": []
        },
        {
         "mode": "lines",
         "name": "1H Res, 1-Zone (DE) – CZ0 0 urban decentral water tanks discharger-2020",
         "type": "scatter",
         "x": [],
         "y": []
        },
        {
         "mode": "lines",
         "name": "1H Res, 1-Zone (DE) – DE0 0 rural water tanks discharger-2020",
         "type": "scatter",
         "x": [],
         "y": []
        },
        {
         "mode": "lines",
         "name": "1H Res, 1-Zone (DE) – DK0 0 rural water tanks discharger-2020",
         "type": "scatter",
         "x": [],
         "y": []
        },
        {
         "mode": "lines",
         "name": "1H Res, 1-Zone (DE) – DK0 0 urban decentral water tanks discharger-2020",
         "type": "scatter",
         "x": [],
         "y": []
        },
        {
         "mode": "lines",
         "name": "1H Res, 1-Zone (DE) – DK1 0 rural water tanks discharger-2020",
         "type": "scatter",
         "x": [],
         "y": []
        },
        {
         "mode": "lines",
         "name": "1H Res, 1-Zone (DE) – DK1 0 urban decentral water tanks discharger-2020",
         "type": "scatter",
         "x": [],
         "y": []
        },
        {
         "mode": "lines",
         "name": "1H Res, 1-Zone (DE) – ES0 0 rural water tanks discharger-2020",
         "type": "scatter",
         "x": [],
         "y": []
        },
        {
         "mode": "lines",
         "name": "1H Res, 1-Zone (DE) – ES0 0 urban decentral water tanks discharger-2020",
         "type": "scatter",
         "x": [],
         "y": []
        },
        {
         "mode": "lines",
         "name": "1H Res, 1-Zone (DE) – ES6 0 rural water tanks discharger-2020",
         "type": "scatter",
         "x": [],
         "y": []
        },
        {
         "mode": "lines",
         "name": "1H Res, 1-Zone (DE) – ES6 0 urban decentral water tanks discharger-2020",
         "type": "scatter",
         "x": [],
         "y": []
        },
        {
         "mode": "lines",
         "name": "1H Res, 1-Zone (DE) – FR0 0 rural water tanks discharger-2020",
         "type": "scatter",
         "x": [],
         "y": []
        },
        {
         "mode": "lines",
         "name": "1H Res, 1-Zone (DE) – FR0 0 urban decentral water tanks discharger-2020",
         "type": "scatter",
         "x": [],
         "y": []
        },
        {
         "mode": "lines",
         "name": "1H Res, 1-Zone (DE) – FR4 0 rural water tanks discharger-2020",
         "type": "scatter",
         "x": [],
         "y": []
        },
        {
         "mode": "lines",
         "name": "1H Res, 1-Zone (DE) – GB2 0 rural water tanks discharger-2020",
         "type": "scatter",
         "x": [],
         "y": []
        },
        {
         "mode": "lines",
         "name": "1H Res, 1-Zone (DE) – GB2 0 urban decentral water tanks discharger-2020",
         "type": "scatter",
         "x": [],
         "y": []
        },
        {
         "mode": "lines",
         "name": "1H Res, 1-Zone (DE) – GB5 0 rural water tanks discharger-2020",
         "type": "scatter",
         "x": [],
         "y": []
        },
        {
         "mode": "lines",
         "name": "1H Res, 1-Zone (DE) – GB5 0 urban decentral water tanks discharger-2020",
         "type": "scatter",
         "x": [],
         "y": []
        },
        {
         "mode": "lines",
         "name": "1H Res, 1-Zone (DE) – IT0 0 rural water tanks discharger-2020",
         "type": "scatter",
         "x": [],
         "y": []
        },
        {
         "mode": "lines",
         "name": "1H Res, 1-Zone (DE) – IT0 0 urban decentral water tanks discharger-2020",
         "type": "scatter",
         "x": [],
         "y": []
        },
        {
         "mode": "lines",
         "name": "1H Res, 1-Zone (DE) – IT3 0 rural water tanks discharger-2020",
         "type": "scatter",
         "x": [],
         "y": []
        },
        {
         "mode": "lines",
         "name": "1H Res, 1-Zone (DE) – IT3 0 urban decentral water tanks discharger-2020",
         "type": "scatter",
         "x": [],
         "y": []
        },
        {
         "mode": "lines",
         "name": "1H Res, 1-Zone (DE) – LU0 0 rural water tanks discharger-2020",
         "type": "scatter",
         "x": [],
         "y": []
        },
        {
         "mode": "lines",
         "name": "1H Res, 1-Zone (DE) – LU0 0 urban decentral water tanks discharger-2020",
         "type": "scatter",
         "x": [],
         "y": []
        },
        {
         "mode": "lines",
         "name": "1H Res, 1-Zone (DE) – NL0 0 rural water tanks discharger-2020",
         "type": "scatter",
         "x": [],
         "y": []
        },
        {
         "mode": "lines",
         "name": "1H Res, 1-Zone (DE) – NO1 0 rural water tanks discharger-2020",
         "type": "scatter",
         "x": [],
         "y": []
        },
        {
         "mode": "lines",
         "name": "1H Res, 1-Zone (DE) – NO1 0 urban decentral water tanks discharger-2020",
         "type": "scatter",
         "x": [],
         "y": []
        },
        {
         "mode": "lines",
         "name": "1H Res, 1-Zone (DE) – PL0 0 rural water tanks discharger-2020",
         "type": "scatter",
         "x": [],
         "y": []
        },
        {
         "mode": "lines",
         "name": "1H Res, 1-Zone (DE) – PL0 0 urban decentral water tanks discharger-2020",
         "type": "scatter",
         "x": [],
         "y": []
        },
        {
         "mode": "lines",
         "name": "1H Res, 1-Zone (DE) – SE1 0 urban decentral water tanks discharger-2020",
         "type": "scatter",
         "x": [],
         "y": []
        }
       ],
       "layout": {
        "hovermode": "x unified",
        "legend": {
         "title": {
          "text": "Szenario – Link"
         }
        },
        "template": {
         "data": {
          "bar": [
           {
            "error_x": {
             "color": "#2a3f5f"
            },
            "error_y": {
             "color": "#2a3f5f"
            },
            "marker": {
             "line": {
              "color": "#E5ECF6",
              "width": 0.5
             },
             "pattern": {
              "fillmode": "overlay",
              "size": 10,
              "solidity": 0.2
             }
            },
            "type": "bar"
           }
          ],
          "barpolar": [
           {
            "marker": {
             "line": {
              "color": "#E5ECF6",
              "width": 0.5
             },
             "pattern": {
              "fillmode": "overlay",
              "size": 10,
              "solidity": 0.2
             }
            },
            "type": "barpolar"
           }
          ],
          "carpet": [
           {
            "aaxis": {
             "endlinecolor": "#2a3f5f",
             "gridcolor": "white",
             "linecolor": "white",
             "minorgridcolor": "white",
             "startlinecolor": "#2a3f5f"
            },
            "baxis": {
             "endlinecolor": "#2a3f5f",
             "gridcolor": "white",
             "linecolor": "white",
             "minorgridcolor": "white",
             "startlinecolor": "#2a3f5f"
            },
            "type": "carpet"
           }
          ],
          "choropleth": [
           {
            "colorbar": {
             "outlinewidth": 0,
             "ticks": ""
            },
            "type": "choropleth"
           }
          ],
          "contour": [
           {
            "colorbar": {
             "outlinewidth": 0,
             "ticks": ""
            },
            "colorscale": [
             [
              0,
              "#0d0887"
             ],
             [
              0.1111111111111111,
              "#46039f"
             ],
             [
              0.2222222222222222,
              "#7201a8"
             ],
             [
              0.3333333333333333,
              "#9c179e"
             ],
             [
              0.4444444444444444,
              "#bd3786"
             ],
             [
              0.5555555555555556,
              "#d8576b"
             ],
             [
              0.6666666666666666,
              "#ed7953"
             ],
             [
              0.7777777777777778,
              "#fb9f3a"
             ],
             [
              0.8888888888888888,
              "#fdca26"
             ],
             [
              1,
              "#f0f921"
             ]
            ],
            "type": "contour"
           }
          ],
          "contourcarpet": [
           {
            "colorbar": {
             "outlinewidth": 0,
             "ticks": ""
            },
            "type": "contourcarpet"
           }
          ],
          "heatmap": [
           {
            "colorbar": {
             "outlinewidth": 0,
             "ticks": ""
            },
            "colorscale": [
             [
              0,
              "#0d0887"
             ],
             [
              0.1111111111111111,
              "#46039f"
             ],
             [
              0.2222222222222222,
              "#7201a8"
             ],
             [
              0.3333333333333333,
              "#9c179e"
             ],
             [
              0.4444444444444444,
              "#bd3786"
             ],
             [
              0.5555555555555556,
              "#d8576b"
             ],
             [
              0.6666666666666666,
              "#ed7953"
             ],
             [
              0.7777777777777778,
              "#fb9f3a"
             ],
             [
              0.8888888888888888,
              "#fdca26"
             ],
             [
              1,
              "#f0f921"
             ]
            ],
            "type": "heatmap"
           }
          ],
          "histogram": [
           {
            "marker": {
             "pattern": {
              "fillmode": "overlay",
              "size": 10,
              "solidity": 0.2
             }
            },
            "type": "histogram"
           }
          ],
          "histogram2d": [
           {
            "colorbar": {
             "outlinewidth": 0,
             "ticks": ""
            },
            "colorscale": [
             [
              0,
              "#0d0887"
             ],
             [
              0.1111111111111111,
              "#46039f"
             ],
             [
              0.2222222222222222,
              "#7201a8"
             ],
             [
              0.3333333333333333,
              "#9c179e"
             ],
             [
              0.4444444444444444,
              "#bd3786"
             ],
             [
              0.5555555555555556,
              "#d8576b"
             ],
             [
              0.6666666666666666,
              "#ed7953"
             ],
             [
              0.7777777777777778,
              "#fb9f3a"
             ],
             [
              0.8888888888888888,
              "#fdca26"
             ],
             [
              1,
              "#f0f921"
             ]
            ],
            "type": "histogram2d"
           }
          ],
          "histogram2dcontour": [
           {
            "colorbar": {
             "outlinewidth": 0,
             "ticks": ""
            },
            "colorscale": [
             [
              0,
              "#0d0887"
             ],
             [
              0.1111111111111111,
              "#46039f"
             ],
             [
              0.2222222222222222,
              "#7201a8"
             ],
             [
              0.3333333333333333,
              "#9c179e"
             ],
             [
              0.4444444444444444,
              "#bd3786"
             ],
             [
              0.5555555555555556,
              "#d8576b"
             ],
             [
              0.6666666666666666,
              "#ed7953"
             ],
             [
              0.7777777777777778,
              "#fb9f3a"
             ],
             [
              0.8888888888888888,
              "#fdca26"
             ],
             [
              1,
              "#f0f921"
             ]
            ],
            "type": "histogram2dcontour"
           }
          ],
          "mesh3d": [
           {
            "colorbar": {
             "outlinewidth": 0,
             "ticks": ""
            },
            "type": "mesh3d"
           }
          ],
          "parcoords": [
           {
            "line": {
             "colorbar": {
              "outlinewidth": 0,
              "ticks": ""
             }
            },
            "type": "parcoords"
           }
          ],
          "pie": [
           {
            "automargin": true,
            "type": "pie"
           }
          ],
          "scatter": [
           {
            "fillpattern": {
             "fillmode": "overlay",
             "size": 10,
             "solidity": 0.2
            },
            "type": "scatter"
           }
          ],
          "scatter3d": [
           {
            "line": {
             "colorbar": {
              "outlinewidth": 0,
              "ticks": ""
             }
            },
            "marker": {
             "colorbar": {
              "outlinewidth": 0,
              "ticks": ""
             }
            },
            "type": "scatter3d"
           }
          ],
          "scattercarpet": [
           {
            "marker": {
             "colorbar": {
              "outlinewidth": 0,
              "ticks": ""
             }
            },
            "type": "scattercarpet"
           }
          ],
          "scattergeo": [
           {
            "marker": {
             "colorbar": {
              "outlinewidth": 0,
              "ticks": ""
             }
            },
            "type": "scattergeo"
           }
          ],
          "scattergl": [
           {
            "marker": {
             "colorbar": {
              "outlinewidth": 0,
              "ticks": ""
             }
            },
            "type": "scattergl"
           }
          ],
          "scattermap": [
           {
            "marker": {
             "colorbar": {
              "outlinewidth": 0,
              "ticks": ""
             }
            },
            "type": "scattermap"
           }
          ],
          "scattermapbox": [
           {
            "marker": {
             "colorbar": {
              "outlinewidth": 0,
              "ticks": ""
             }
            },
            "type": "scattermapbox"
           }
          ],
          "scatterpolar": [
           {
            "marker": {
             "colorbar": {
              "outlinewidth": 0,
              "ticks": ""
             }
            },
            "type": "scatterpolar"
           }
          ],
          "scatterpolargl": [
           {
            "marker": {
             "colorbar": {
              "outlinewidth": 0,
              "ticks": ""
             }
            },
            "type": "scatterpolargl"
           }
          ],
          "scatterternary": [
           {
            "marker": {
             "colorbar": {
              "outlinewidth": 0,
              "ticks": ""
             }
            },
            "type": "scatterternary"
           }
          ],
          "surface": [
           {
            "colorbar": {
             "outlinewidth": 0,
             "ticks": ""
            },
            "colorscale": [
             [
              0,
              "#0d0887"
             ],
             [
              0.1111111111111111,
              "#46039f"
             ],
             [
              0.2222222222222222,
              "#7201a8"
             ],
             [
              0.3333333333333333,
              "#9c179e"
             ],
             [
              0.4444444444444444,
              "#bd3786"
             ],
             [
              0.5555555555555556,
              "#d8576b"
             ],
             [
              0.6666666666666666,
              "#ed7953"
             ],
             [
              0.7777777777777778,
              "#fb9f3a"
             ],
             [
              0.8888888888888888,
              "#fdca26"
             ],
             [
              1,
              "#f0f921"
             ]
            ],
            "type": "surface"
           }
          ],
          "table": [
           {
            "cells": {
             "fill": {
              "color": "#EBF0F8"
             },
             "line": {
              "color": "white"
             }
            },
            "header": {
             "fill": {
              "color": "#C8D4E3"
             },
             "line": {
              "color": "white"
             }
            },
            "type": "table"
           }
          ]
         },
         "layout": {
          "annotationdefaults": {
           "arrowcolor": "#2a3f5f",
           "arrowhead": 0,
           "arrowwidth": 1
          },
          "autotypenumbers": "strict",
          "coloraxis": {
           "colorbar": {
            "outlinewidth": 0,
            "ticks": ""
           }
          },
          "colorscale": {
           "diverging": [
            [
             0,
             "#8e0152"
            ],
            [
             0.1,
             "#c51b7d"
            ],
            [
             0.2,
             "#de77ae"
            ],
            [
             0.3,
             "#f1b6da"
            ],
            [
             0.4,
             "#fde0ef"
            ],
            [
             0.5,
             "#f7f7f7"
            ],
            [
             0.6,
             "#e6f5d0"
            ],
            [
             0.7,
             "#b8e186"
            ],
            [
             0.8,
             "#7fbc41"
            ],
            [
             0.9,
             "#4d9221"
            ],
            [
             1,
             "#276419"
            ]
           ],
           "sequential": [
            [
             0,
             "#0d0887"
            ],
            [
             0.1111111111111111,
             "#46039f"
            ],
            [
             0.2222222222222222,
             "#7201a8"
            ],
            [
             0.3333333333333333,
             "#9c179e"
            ],
            [
             0.4444444444444444,
             "#bd3786"
            ],
            [
             0.5555555555555556,
             "#d8576b"
            ],
            [
             0.6666666666666666,
             "#ed7953"
            ],
            [
             0.7777777777777778,
             "#fb9f3a"
            ],
            [
             0.8888888888888888,
             "#fdca26"
            ],
            [
             1,
             "#f0f921"
            ]
           ],
           "sequentialminus": [
            [
             0,
             "#0d0887"
            ],
            [
             0.1111111111111111,
             "#46039f"
            ],
            [
             0.2222222222222222,
             "#7201a8"
            ],
            [
             0.3333333333333333,
             "#9c179e"
            ],
            [
             0.4444444444444444,
             "#bd3786"
            ],
            [
             0.5555555555555556,
             "#d8576b"
            ],
            [
             0.6666666666666666,
             "#ed7953"
            ],
            [
             0.7777777777777778,
             "#fb9f3a"
            ],
            [
             0.8888888888888888,
             "#fdca26"
            ],
            [
             1,
             "#f0f921"
            ]
           ]
          },
          "colorway": [
           "#636efa",
           "#EF553B",
           "#00cc96",
           "#ab63fa",
           "#FFA15A",
           "#19d3f3",
           "#FF6692",
           "#B6E880",
           "#FF97FF",
           "#FECB52"
          ],
          "font": {
           "color": "#2a3f5f"
          },
          "geo": {
           "bgcolor": "white",
           "lakecolor": "white",
           "landcolor": "#E5ECF6",
           "showlakes": true,
           "showland": true,
           "subunitcolor": "white"
          },
          "hoverlabel": {
           "align": "left"
          },
          "hovermode": "closest",
          "mapbox": {
           "style": "light"
          },
          "paper_bgcolor": "white",
          "plot_bgcolor": "#E5ECF6",
          "polar": {
           "angularaxis": {
            "gridcolor": "white",
            "linecolor": "white",
            "ticks": ""
           },
           "bgcolor": "#E5ECF6",
           "radialaxis": {
            "gridcolor": "white",
            "linecolor": "white",
            "ticks": ""
           }
          },
          "scene": {
           "xaxis": {
            "backgroundcolor": "#E5ECF6",
            "gridcolor": "white",
            "gridwidth": 2,
            "linecolor": "white",
            "showbackground": true,
            "ticks": "",
            "zerolinecolor": "white"
           },
           "yaxis": {
            "backgroundcolor": "#E5ECF6",
            "gridcolor": "white",
            "gridwidth": 2,
            "linecolor": "white",
            "showbackground": true,
            "ticks": "",
            "zerolinecolor": "white"
           },
           "zaxis": {
            "backgroundcolor": "#E5ECF6",
            "gridcolor": "white",
            "gridwidth": 2,
            "linecolor": "white",
            "showbackground": true,
            "ticks": "",
            "zerolinecolor": "white"
           }
          },
          "shapedefaults": {
           "line": {
            "color": "#2a3f5f"
           }
          },
          "ternary": {
           "aaxis": {
            "gridcolor": "white",
            "linecolor": "white",
            "ticks": ""
           },
           "baxis": {
            "gridcolor": "white",
            "linecolor": "white",
            "ticks": ""
           },
           "bgcolor": "#E5ECF6",
           "caxis": {
            "gridcolor": "white",
            "linecolor": "white",
            "ticks": ""
           }
          },
          "title": {
           "x": 0.05
          },
          "xaxis": {
           "automargin": true,
           "gridcolor": "white",
           "linecolor": "white",
           "ticks": "",
           "title": {
            "standoff": 15
           },
           "zerolinecolor": "white",
           "zerolinewidth": 2
          },
          "yaxis": {
           "automargin": true,
           "gridcolor": "white",
           "linecolor": "white",
           "ticks": "",
           "title": {
            "standoff": 15
           },
           "zerolinecolor": "white",
           "zerolinewidth": 2
          }
         }
        },
        "title": {
         "text": "Stündliche Batteriedischargen im Januar 2045"
        },
        "xaxis": {
         "title": {
          "text": "Zeit"
         }
        },
        "yaxis": {
         "title": {
          "text": "Entladungsleistung (MW)"
         }
        }
       }
      }
     },
     "metadata": {},
     "output_type": "display_data"
    }
   ],
   "source": [
    "import xarray as xr\n",
    "import pandas as pd\n",
    "import plotly.graph_objects as go\n",
    "from pathlib import Path\n",
    "\n",
    "# Szenarien und Labels\n",
    "scenarios = {\n",
    "    'KN2045_Mix_3H_DE_1ZONE': '1-Zone (DE)',   # 3H-Szenario\n",
    "    'KN2045_Mix_1H_DE_1ZONE': '1H Res, 1-Zone (DE)'  # 1H-Szenario\n",
    "}\n",
    "\n",
    "# Analysejahr und Monate\n",
    "analysis_year = '2045'\n",
    "months = {\n",
    "    f'{analysis_year}-08': 'August',\n",
    "    f'{analysis_year}-01': 'Januar'\n",
    "}\n",
    "\n",
    "# Durch Szenarien und Monate iterieren\n",
    "for month_key, month_label in months.items():\n",
    "    fig = go.Figure()\n",
    "    for scenario_id, scenario_label in scenarios.items():\n",
    "        net_folder = Path('results') / scenario_id / 'networks'\n",
    "        # Alle .nc-Dateien des Jahres\n",
    "        all_nc = list(net_folder.glob(f'*{analysis_year}*.nc'))\n",
    "        if not all_nc:\n",
    "            print(f\"Keine {analysis_year}-Dateien in {scenario_id}\")\n",
    "            continue\n",
    "        # Nach Auflösung filtern\n",
    "        if '1H' in scenario_id:\n",
    "            # 1H-Szenario: nur Dateien mit 'hourly' im Namen\n",
    "            candidates = [f for f in all_nc if 'hourly' in f.name.lower()]\n",
    "        else:\n",
    "            # 3H-Szenario: nur Dateien ohne 'hourly'\n",
    "            candidates = [f for f in all_nc if 'hourly' not in f.name.lower()]\n",
    "        if not candidates:\n",
    "            print(f\"Keine passenden Dateien für {scenario_label} im Jahr {analysis_year}\")\n",
    "            continue\n",
    "        nc_file = sorted(candidates)[0]\n",
    "        print(f\"Lade {nc_file.name} für Szenario {scenario_label}\")\n",
    "\n",
    "        # NetCDF laden\n",
    "        try:\n",
    "            ds = xr.open_dataset(nc_file)\n",
    "        except Exception as e:\n",
    "            print(f\"Fehler beim Laden {nc_file.name}: {e}\")\n",
    "            continue\n",
    "\n",
    "        # Zeitstempel\n",
    "        coord = 'snapshots' if 'snapshots' in ds.coords else list(ds.coords)[0]\n",
    "        times = pd.DatetimeIndex(ds.coords[coord].values)\n",
    "        mask = times.strftime('%Y-%m') == month_key\n",
    "\n",
    "        # Link-Dispatch Variable\n",
    "        if 'links_t_p0' in ds.data_vars:\n",
    "            dispatch = ds['links_t_p0']\n",
    "        elif 'links_t_p1' in ds.data_vars:\n",
    "            dispatch = ds['links_t_p1']\n",
    "        else:\n",
    "            print(f\"Keine Link-Dispatch-Variable in {nc_file.name}\")\n",
    "            continue\n",
    "\n",
    "        # Link-Dimension\n",
    "        link_dim = next((d for d in dispatch.dims if 'link' in d), None)\n",
    "        if link_dim is None:\n",
    "            print(f\"Keine Link-Dimension in {nc_file.name}\")\n",
    "            continue\n",
    "\n",
    "        # Discharger-Links\n",
    "        links = list(dispatch.coords[link_dim].values)\n",
    "        dischargers = [l for l in links if 'discharger' in str(l).lower()]\n",
    "        if not dischargers:\n",
    "            print(f\"Keine Discharger-Links in {nc_file.name}\")\n",
    "            continue\n",
    "\n",
    "        # Plotten\n",
    "        for link_id in dischargers:\n",
    "            data = dispatch.sel({link_dim: link_id}).values\n",
    "            # Entladung: negativer Fluss ⇒ positiv\n",
    "            discharge = pd.Series(-data, index=times).clip(lower=0)\n",
    "            discharge_month = discharge[mask]\n",
    "            fig.add_trace(\n",
    "                go.Scatter(\n",
    "                    x=discharge_month.index,\n",
    "                    y=discharge_month.values,\n",
    "                    mode='lines',\n",
    "                    name=f\"{scenario_label} – {link_id}\"\n",
    "                )\n",
    "            )\n",
    "\n",
    "    fig.update_layout(\n",
    "        title=f\"Stündliche Batteriedischargen im {month_label} {analysis_year}\",\n",
    "        xaxis_title=\"Zeit\",\n",
    "        yaxis_title=\"Entladungsleistung (MW)\",\n",
    "        legend_title=\"Szenario – Link\",\n",
    "        hovermode='x unified'\n",
    "    )\n",
    "    fig.show()\n"
   ]
  },
  {
   "cell_type": "code",
   "execution_count": null,
   "id": "732816e4",
   "metadata": {},
   "outputs": [],
   "source": []
  }
 ],
 "metadata": {
  "kernelspec": {
   "display_name": "pypsa-de",
   "language": "python",
   "name": "python3"
  },
  "language_info": {
   "codemirror_mode": {
    "name": "ipython",
    "version": 3
   },
   "file_extension": ".py",
   "mimetype": "text/x-python",
   "name": "python",
   "nbconvert_exporter": "python",
   "pygments_lexer": "ipython3",
   "version": "3.12.10"
  }
 },
 "nbformat": 4,
 "nbformat_minor": 5
}
